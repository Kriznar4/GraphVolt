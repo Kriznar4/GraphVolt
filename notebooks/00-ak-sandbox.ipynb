{
 "cells": [
  {
   "cell_type": "code",
   "execution_count": 1,
   "metadata": {},
   "outputs": [],
   "source": [
    "import pandas as pd\n",
    "import numpy as np\n",
    "import sys\n",
    "sys.path.append(\"../src/utils\")\n",
    "from utils import SimpleGraphVoltDatasetLoader_Lazy\n",
    "from torch_geometric_temporal.signal import temporal_signal_split\n",
    "import torch\n",
    "import torch.nn.functional as F\n",
    "from torch_geometric_temporal.nn.recurrent import A3TGCN\n",
    "from tqdm import tqdm"
   ]
  },
  {
   "cell_type": "code",
   "execution_count": 2,
   "metadata": {},
   "outputs": [],
   "source": [
    "class TemporalGNN(torch.nn.Module):\n",
    "    def __init__(self, node_features, periods):\n",
    "        super(TemporalGNN, self).__init__()\n",
    "        # Attention Temporal Graph Convolutional Cell\n",
    "        out_channels = 32\n",
    "        self.tgnn = A3TGCN(in_channels=node_features, \n",
    "                           out_channels=out_channels, \n",
    "                           periods=periods)\n",
    "        # Equals single-shot prediction\n",
    "        self.linear = torch.nn.Linear(out_channels, periods)\n",
    "\n",
    "    def forward(self, x, edge_index):\n",
    "        \"\"\"\n",
    "        x = Node features for T time steps\n",
    "        edge_index = Graph edge indices\n",
    "        \"\"\"\n",
    "        h = self.tgnn(x, edge_index)\n",
    "        h = F.relu(h)\n",
    "        h = self.linear(h)\n",
    "        return h"
   ]
  },
  {
   "cell_type": "code",
   "execution_count": 3,
   "metadata": {},
   "outputs": [],
   "source": [
    "def train_test(model, device, loader, train_dataset, test_dataset, optimizer, loss_fn, epochs, now):\n",
    "    \"\"\"\n",
    "    Definition of the training loop.\n",
    "    \"\"\"\n",
    "    epoch_losses_train = []\n",
    "    epoch_losses_test = []\n",
    "    \n",
    "    for epoch in range(epochs):\n",
    "        model.train()\n",
    "        epoch_loss_train = 0\n",
    "        for snapshot_i in tqdm(train_dataset, desc=\"Training epoch {}\".format(epoch)):\n",
    "            snapshot = loader.get_snapshot(snapshot_i)\n",
    "            # print(snapshot)\n",
    "            snapshot.to(device)\n",
    "            optimizer.zero_grad()\n",
    "            out = model(snapshot.x, snapshot.edge_index)\n",
    "            loss = loss_fn()(out, snapshot.y)\n",
    "            loss.backward()\n",
    "            optimizer.step()\n",
    "            epoch_loss_train += loss.detach().cpu().numpy()\n",
    "        epoch_losses_train.append(epoch_loss_train)\n",
    "        model.eval()\n",
    "        epoch_loss_test = 0\n",
    "        with torch.no_grad():\n",
    "            for snapshot_j in tqdm(test_dataset, desc=\"Testing epoch {}\".format(epoch)):\n",
    "                snapshot = loader.get_snapshot(snapshot_j)\n",
    "                snapshot.to(device)\n",
    "                out = model(snapshot.x, snapshot.edge_index)\n",
    "                loss = loss_fn()(out, snapshot.y).cpu().numpy()\n",
    "                epoch_loss_test += loss\n",
    "            epoch_losses_test.append(epoch_loss_test)\n",
    "            if min(epoch_losses_test) == epoch_loss_test:\n",
    "                torch.save(model.state_dict(), f\"../models/A3TGCN_{now}.pt\")\n",
    "            print(\"Epoch: {}, Train Loss: {:.7f}, Test Loss: {:.7f}\".format(epoch, epoch_loss_train, epoch_loss_test))\n",
    "        \n",
    "        \n",
    "    return epoch_losses_train, epoch_losses_test"
   ]
  },
  {
   "cell_type": "code",
   "execution_count": 21,
   "metadata": {},
   "outputs": [],
   "source": [
    "def eval(model, loader, eval_dataset, device, loss_fn, std):\n",
    "    with torch.no_grad():\n",
    "        model.eval()\n",
    "        loss_all = 0\n",
    "        loss_elementwise = 0\n",
    "        \n",
    "        steps = 0\n",
    "        for snapshot_i in tqdm(eval_dataset, desc=\"Evaluating\"):\n",
    "            snapshot = loader.get_snapshot(snapshot_i)\n",
    "            steps += 1\n",
    "            snapshot.to(device) #kaj je fora te vrstice?\n",
    "            out = model(snapshot.x, snapshot.edge_index)\n",
    "            loss_all += loss_fn()(out, snapshot.y).cpu().numpy()\n",
    "            loss_elementwise += loss_fn(reduction=\"none\")(out, snapshot.y).cpu().numpy()\n",
    "        loss_all *= std/steps\n",
    "        loss_elementwise *= std/steps\n",
    "    return loss_all, loss_elementwise"
   ]
  },
  {
   "cell_type": "code",
   "execution_count": 5,
   "metadata": {},
   "outputs": [],
   "source": [
    "torch.cuda.empty_cache() "
   ]
  },
  {
   "cell_type": "code",
   "execution_count": 6,
   "metadata": {},
   "outputs": [],
   "source": [
    "trafo_id = \"T1330\"\n",
    "epochs = 1\n",
    "num_timesteps_in = 12\n",
    "num_timesteps_out = 4\n",
    "train_ratio = 0.7\n",
    "test_ratio_vs_eval_ratio = 0.5\n",
    "learning_rate = 0.01"
   ]
  },
  {
   "cell_type": "code",
   "execution_count": 7,
   "metadata": {},
   "outputs": [],
   "source": [
    "#get dateime string of now\n",
    "now = pd.Timestamp.now().strftime(\"%Y%m%d%H%M%S\")"
   ]
  },
  {
   "cell_type": "code",
   "execution_count": 8,
   "metadata": {},
   "outputs": [
    {
     "name": "stdout",
     "output_type": "stream",
     "text": [
      "Loading data... done\n"
     ]
    }
   ],
   "source": [
    "print(\"Loading data...\", end=\"\")\n",
    "loader = SimpleGraphVoltDatasetLoader_Lazy(trafo_id, num_timesteps_in, num_timesteps_out)\n",
    "print(\" done\")\n",
    "loader_data_index = loader.snapshot_index\n",
    "# loader_data = loader.get_dataset(num_timesteps_in=num_timesteps_in, num_timesteps_out=num_timesteps_out)"
   ]
  },
  {
   "cell_type": "code",
   "execution_count": 9,
   "metadata": {},
   "outputs": [],
   "source": [
    "train_dataset, test_eval_dataset = loader.temporal_signal_split_lazy(loader_data_index, train_ratio)\n",
    "test_dataset, eval_dataset = loader.temporal_signal_split_lazy(test_eval_dataset, test_ratio_vs_eval_ratio)"
   ]
  },
  {
   "cell_type": "code",
   "execution_count": 10,
   "metadata": {},
   "outputs": [
    {
     "name": "stdout",
     "output_type": "stream",
     "text": [
      "Running training...\n"
     ]
    },
    {
     "name": "stderr",
     "output_type": "stream",
     "text": [
      "Training epoch 0:   0%|          | 0/49045 [00:00<?, ?it/s]"
     ]
    },
    {
     "name": "stderr",
     "output_type": "stream",
     "text": [
      "Training epoch 0: 100%|██████████| 49045/49045 [07:05<00:00, 115.40it/s]\n",
      "Testing epoch 0: 100%|██████████| 10510/10510 [00:39<00:00, 263.20it/s]"
     ]
    },
    {
     "name": "stdout",
     "output_type": "stream",
     "text": [
      "Epoch: 0, Train Loss: 3948.4641827, Test Loss: 6298.1004346\n"
     ]
    },
    {
     "name": "stderr",
     "output_type": "stream",
     "text": [
      "\n"
     ]
    }
   ],
   "source": [
    "print(\"Running training...\")\n",
    "device = torch.device('cpu')\n",
    "model = TemporalGNN(node_features=loader.num_features, periods=num_timesteps_out).to(device)\n",
    "optimizer = torch.optim.Adam(model.parameters(), lr=learning_rate)\n",
    "loss_fn = torch.nn.L1Loss\n",
    "# print('HERE', loader.get_snapshot(0).edge_index)\n",
    "losses = train_test(model, device, loader,train_dataset, test_dataset, optimizer, loss_fn, epochs=epochs, now=now)"
   ]
  },
  {
   "cell_type": "code",
   "execution_count": 11,
   "metadata": {},
   "outputs": [
    {
     "name": "stdout",
     "output_type": "stream",
     "text": [
      "([3948.4641827493906], [6298.100434599444])\n"
     ]
    }
   ],
   "source": [
    "print(losses)"
   ]
  },
  {
   "cell_type": "code",
   "execution_count": 12,
   "metadata": {},
   "outputs": [],
   "source": [
    "std = loader.mean_and_std[\"measurements\"][1][\"voltage\"]"
   ]
  },
  {
   "cell_type": "code",
   "execution_count": 13,
   "metadata": {},
   "outputs": [
    {
     "data": {
      "text/plain": [
       "<All keys matched successfully>"
      ]
     },
     "execution_count": 13,
     "metadata": {},
     "output_type": "execute_result"
    }
   ],
   "source": [
    "#read saved model\n",
    "model.load_state_dict(torch.load(f\"../models/A3TGCN_{now}.pt\"))"
   ]
  },
  {
   "cell_type": "code",
   "execution_count": 22,
   "metadata": {},
   "outputs": [
    {
     "name": "stderr",
     "output_type": "stream",
     "text": [
      "Evaluating: 100%|██████████| 10510/10510 [00:45<00:00, 230.52it/s]\n"
     ]
    }
   ],
   "source": [
    "loss_all, loss_elementwise = eval(model, loader, eval_dataset, device, loss_fn, std)"
   ]
  },
  {
   "cell_type": "code",
   "execution_count": 23,
   "metadata": {},
   "outputs": [
    {
     "name": "stdout",
     "output_type": "stream",
     "text": [
      "Loss all: 0.5544011\n",
      "Loss elementwise: [[7.72035569e-02 1.65244229e-02 2.74929013e-02 4.66753319e-02]\n",
      " [9.96873621e-03 6.80640861e-02 6.90582842e-02 5.86075615e-03]\n",
      " [9.96873621e-03 6.80640861e-02 6.90582842e-02 5.86075615e-03]\n",
      " [9.96873621e-03 6.80640861e-02 6.90582842e-02 5.86075615e-03]\n",
      " [9.96873621e-03 6.80640861e-02 6.90582842e-02 5.86075615e-03]\n",
      " [9.96873621e-03 6.80640861e-02 6.90582842e-02 5.86075615e-03]\n",
      " [9.96873621e-03 6.80640861e-02 6.90582842e-02 5.86075615e-03]\n",
      " [9.96873621e-03 6.80640861e-02 6.90582842e-02 5.86075615e-03]\n",
      " [1.53142288e-01 1.20520316e-01 1.35455996e-01 1.11073531e-01]\n",
      " [3.91059881e-03 2.71374453e-03 8.96254554e-03 9.86321829e-03]\n",
      " [4.27991778e-01 4.26802188e-01 4.33077931e-01 4.14291739e-01]\n",
      " [4.94034868e-03 2.16047410e-02 1.69631932e-02 2.57839058e-02]\n",
      " [1.28978491e+00 1.23827112e+00 1.36381400e+00 1.21866238e+00]\n",
      " [4.19146001e-01 4.45768923e-01 4.41035032e-01 4.49969023e-01]\n",
      " [1.17976535e-02 2.08381265e-02 5.90093341e-03 3.03031877e-02]\n",
      " [4.19146001e-01 4.45768923e-01 4.41035032e-01 4.49969023e-01]\n",
      " [4.94034868e-03 2.16047410e-02 1.69631932e-02 2.57839058e-02]\n",
      " [8.24870586e+00 8.17686653e+00 8.21540737e+00 8.16305923e+00]\n",
      " [3.90992826e-03 2.71229073e-03 8.96190293e-03 9.86380316e-03]\n",
      " [4.61078424e-04 4.49735411e-02 2.23320499e-02 3.39799784e-02]\n",
      " [1.41028702e+00 1.43000841e+00 1.43492293e+00 1.39894783e+00]\n",
      " [4.26429302e-01 4.59381938e-01 4.44915414e-01 4.41534013e-01]\n",
      " [2.25466955e-03 3.52309160e-02 2.07377337e-02 1.74277518e-02]\n",
      " [8.63775611e-01 8.71854305e-01 8.73410761e-01 8.51988137e-01]\n",
      " [2.25397479e-03 3.52237858e-02 2.07369551e-02 1.74276680e-02]\n",
      " [4.19146001e-01 4.45768923e-01 4.41035032e-01 4.49969023e-01]\n",
      " [4.19146001e-01 4.45768923e-01 4.41035032e-01 4.49969023e-01]\n",
      " [4.19146001e-01 4.45768923e-01 4.41035032e-01 4.49969023e-01]\n",
      " [4.94034868e-03 2.16047410e-02 1.69631932e-02 2.57839058e-02]\n",
      " [2.72974581e-01 3.61823618e-01 3.04075152e-01 3.66092980e-01]\n",
      " [4.19146001e-01 4.45768923e-01 4.41035032e-01 4.49969023e-01]\n",
      " [4.94034868e-03 2.16047410e-02 1.69631932e-02 2.57839058e-02]\n",
      " [4.89603430e-02 2.24022698e-02 1.49523765e-02 3.69011313e-02]\n",
      " [7.22673512e+00 7.26891994e+00 7.24169731e+00 7.29023743e+00]\n",
      " [4.61078424e-04 4.49735411e-02 2.23320499e-02 3.39799784e-02]\n",
      " [1.58453416e-02 7.69604044e-03 2.70795682e-03 3.71593609e-03]\n",
      " [2.27164440e-02 2.06347066e-03 9.57319792e-03 9.23481770e-03]\n",
      " [4.94034868e-03 2.16047410e-02 1.69631932e-02 2.57839058e-02]\n",
      " [3.91002232e-03 2.71242601e-03 8.96194298e-03 9.86376591e-03]\n",
      " [4.94034868e-03 2.16047410e-02 1.69631932e-02 2.57839058e-02]\n",
      " [4.61078424e-04 4.49735411e-02 2.23320499e-02 3.39799784e-02]\n",
      " [4.19146001e-01 4.45768923e-01 4.41035032e-01 4.49969023e-01]\n",
      " [8.05033557e-03 2.37446185e-02 1.01207793e-02 2.11795960e-02]\n",
      " [4.19146001e-01 4.45768923e-01 4.41035032e-01 4.49969023e-01]\n",
      " [4.26429302e-01 4.59381938e-01 4.44915414e-01 4.41534013e-01]\n",
      " [4.19146001e-01 4.45768923e-01 4.41035032e-01 4.49969023e-01]\n",
      " [2.40393353e+00 2.44804788e+00 2.42578959e+00 2.43728828e+00]\n",
      " [4.19146001e-01 4.45768923e-01 4.41035032e-01 4.49969023e-01]\n",
      " [4.94034868e-03 2.16047410e-02 1.69631932e-02 2.57839058e-02]\n",
      " [4.26429302e-01 4.59381938e-01 4.44915414e-01 4.41534013e-01]\n",
      " [7.23177865e-02 3.38728987e-02 9.01063010e-02 4.73928824e-02]\n",
      " [1.12866533e+00 1.09574914e+00 1.11039436e+00 1.11354494e+00]\n",
      " [6.84856921e-02 9.96045116e-03 4.75780182e-02 2.32833903e-02]\n",
      " [4.19146001e-01 4.45768923e-01 4.41035032e-01 4.49969023e-01]\n",
      " [4.94034868e-03 2.16047410e-02 1.69631932e-02 2.57839058e-02]\n",
      " [3.39204621e+00 3.38870907e+00 3.39112639e+00 3.40746593e+00]\n",
      " [4.94034868e-03 2.16047410e-02 1.69631932e-02 2.57839058e-02]\n",
      " [4.19146001e-01 4.45768923e-01 4.41035032e-01 4.49969023e-01]\n",
      " [4.19146001e-01 4.45768923e-01 4.41035032e-01 4.49969023e-01]\n",
      " [1.50297952e+00 1.54492819e+00 1.52758300e+00 1.54979563e+00]\n",
      " [1.03495657e+00 1.06813383e+00 1.05386996e+00 1.04969990e+00]\n",
      " [4.19146001e-01 4.45768923e-01 4.41035032e-01 4.49969023e-01]\n",
      " [2.21759200e-01 2.27987289e-01 2.26465225e-01 2.13960782e-01]\n",
      " [6.49231672e-01 6.53518379e-01 6.49381816e-01 6.45006239e-01]\n",
      " [2.05783006e-02 1.20233651e-02 2.89764581e-03 2.14089788e-02]\n",
      " [1.41142213e+00 1.37848210e+00 1.39295280e+00 1.39633453e+00]\n",
      " [4.19146001e-01 4.45768923e-01 4.41035032e-01 4.49969023e-01]\n",
      " [1.97448981e+00 2.00091958e+00 1.99636745e+00 2.00525284e+00]\n",
      " [7.99212838e-04 4.85180458e-03 2.11814418e-03 1.44689679e-02]\n",
      " [4.26429302e-01 4.59381938e-01 4.44915414e-01 4.41534013e-01]\n",
      " [4.94034868e-03 2.16047410e-02 1.69631932e-02 2.57839058e-02]\n",
      " [4.19146001e-01 4.45768923e-01 4.41035032e-01 4.49969023e-01]\n",
      " [2.25397479e-03 3.52237858e-02 2.07369551e-02 1.74276680e-02]\n",
      " [4.19146001e-01 4.45768923e-01 4.41035032e-01 4.49969023e-01]\n",
      " [4.94034868e-03 2.16047410e-02 1.69631932e-02 2.57839058e-02]\n",
      " [1.97967315e+00 2.02437973e+00 2.00170612e+00 2.01326799e+00]\n",
      " [4.19146001e-01 4.45768923e-01 4.41035032e-01 4.49969023e-01]\n",
      " [4.94034868e-03 2.16047410e-02 1.69631932e-02 2.57839058e-02]\n",
      " [4.92277741e-01 4.84979033e-01 4.90020514e-01 5.06465852e-01]\n",
      " [4.94034868e-03 2.16047410e-02 1.69631932e-02 2.57839058e-02]\n",
      " [4.19146001e-01 4.45768923e-01 4.41035032e-01 4.49969023e-01]\n",
      " [4.19146001e-01 4.45768923e-01 4.41035032e-01 4.49969023e-01]\n",
      " [4.19146001e-01 4.45768923e-01 4.41035032e-01 4.49969023e-01]\n",
      " [4.19146001e-01 4.45768923e-01 4.41035032e-01 4.49969023e-01]\n",
      " [1.55425584e+00 1.55035126e+00 1.55293190e+00 1.56980252e+00]\n",
      " [7.99212838e-04 4.85180458e-03 2.11814418e-03 1.44689679e-02]\n",
      " [4.19146001e-01 4.45768923e-01 4.41035032e-01 4.49969023e-01]\n",
      " [4.94034868e-03 2.16047410e-02 1.69631932e-02 2.57839058e-02]\n",
      " [4.19146001e-01 4.45768923e-01 4.41035032e-01 4.49969023e-01]\n",
      " [4.19146001e-01 4.45768923e-01 4.41035032e-01 4.49969023e-01]\n",
      " [7.99212838e-04 4.85180458e-03 2.11814418e-03 1.44689679e-02]\n",
      " [4.19146001e-01 4.45768923e-01 4.41035032e-01 4.49969023e-01]\n",
      " [4.94034868e-03 2.16047410e-02 1.69631932e-02 2.57839058e-02]\n",
      " [4.19146001e-01 4.45768923e-01 4.41035032e-01 4.49969023e-01]\n",
      " [4.94034868e-03 2.16047410e-02 1.69631932e-02 2.57839058e-02]\n",
      " [4.94034868e-03 2.16047410e-02 1.69631932e-02 2.57839058e-02]\n",
      " [4.94034868e-03 2.16047410e-02 1.69631932e-02 2.57839058e-02]\n",
      " [4.19146001e-01 4.45768923e-01 4.41035032e-01 4.49969023e-01]\n",
      " [4.19146001e-01 4.45768923e-01 4.41035032e-01 4.49969023e-01]\n",
      " [4.94034868e-03 2.16047410e-02 1.69631932e-02 2.57839058e-02]\n",
      " [3.90992826e-03 2.71229073e-03 8.96190293e-03 9.86380316e-03]\n",
      " [4.19146001e-01 4.45768923e-01 4.41035032e-01 4.49969023e-01]\n",
      " [4.19146001e-01 4.45768923e-01 4.41035032e-01 4.49969023e-01]\n",
      " [4.94034868e-03 2.16047410e-02 1.69631932e-02 2.57839058e-02]\n",
      " [4.19146001e-01 4.45768923e-01 4.41035032e-01 4.49969023e-01]\n",
      " [4.26429302e-01 4.59381938e-01 4.44915414e-01 4.41534013e-01]\n",
      " [4.94034868e-03 2.16047410e-02 1.69631932e-02 2.57839058e-02]\n",
      " [4.39544618e-01 4.33585137e-01 4.35504377e-01 4.45850819e-01]\n",
      " [5.12251472e+00 5.13613033e+00 5.10280323e+00 5.13198900e+00]\n",
      " [3.84656945e-04 4.49003689e-02 2.22594831e-02 3.39015648e-02]\n",
      " [4.61078424e-04 4.49735411e-02 2.23320499e-02 3.39799784e-02]\n",
      " [1.98731005e+00 1.95554805e+00 1.96916020e+00 1.95801377e+00]\n",
      " [1.94682390e-04 4.46995534e-02 2.20659338e-02 3.37102935e-02]]\n"
     ]
    }
   ],
   "source": [
    "print(\"Loss all: {:.7f}\".format(loss_all))\n",
    "print(\"Loss elementwise: {}\".format(loss_elementwise))"
   ]
  }
 ],
 "metadata": {
  "kernelspec": {
   "display_name": "graphvolt_env",
   "language": "python",
   "name": "python3"
  },
  "language_info": {
   "codemirror_mode": {
    "name": "ipython",
    "version": 3
   },
   "file_extension": ".py",
   "mimetype": "text/x-python",
   "name": "python",
   "nbconvert_exporter": "python",
   "pygments_lexer": "ipython3",
   "version": "3.10.13"
  }
 },
 "nbformat": 4,
 "nbformat_minor": 2
}
