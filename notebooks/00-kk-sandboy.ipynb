{
 "cells": [
  {
   "cell_type": "code",
   "execution_count": 1,
   "metadata": {},
   "outputs": [],
   "source": [
    "import pandas as pd\n",
    "import numpy as np\n",
    "import sys\n",
    "sys.path.append(\"../src/utils\")\n",
    "from utils import SimpleGraphVoltDatasetLoader, read_and_prepare_data"
   ]
  },
  {
   "cell_type": "code",
   "execution_count": 2,
   "metadata": {},
   "outputs": [],
   "source": [
    "from torch_geometric_temporal.signal import StaticGraphTemporalSignal"
   ]
  },
  {
   "cell_type": "code",
   "execution_count": 3,
   "metadata": {},
   "outputs": [
    {
     "name": "stdout",
     "output_type": "stream",
     "text": [
      "   node_id  power_production  power_consumption  PMO  TR  junction  \\\n",
      "0        0         -0.669711          -0.211164    0   1         0   \n",
      "\n",
      "             date_time   voltage  temperature_2m  snow_depth  ...  \\\n",
      "0  2021-06-01 00:00:00  0.871501       -0.087913   -0.373525  ...   \n",
      "\n",
      "   direct_radiation  diffuse_radiation  direct_normal_irradiance  \\\n",
      "0         -0.563245          -0.758562                 -0.682145   \n",
      "\n",
      "   active_power  reactive_power      year     month       day      hour  \\\n",
      "0      7.244788        5.311676 -1.301898 -0.152567 -1.673503 -1.661325   \n",
      "\n",
      "     minute  \n",
      "0 -1.341641  \n",
      "\n",
      "[1 rows x 23 columns]\n"
     ]
    }
   ],
   "source": [
    "trafo_id = \"T1330\"\n",
    "loader = SimpleGraphVoltDatasetLoader(trafo_id)"
   ]
  },
  {
   "cell_type": "code",
   "execution_count": 4,
   "metadata": {},
   "outputs": [
    {
     "name": "stdout",
     "output_type": "stream",
     "text": [
      "(2, 114)\n",
      "(114, 5)\n",
      "(114,)\n",
      "(70065, 113, 21, 12)\n",
      "(70065, 113, 4)\n"
     ]
    }
   ],
   "source": [
    "loader_data = loader.get_dataset(num_timesteps_in=12, num_timesteps_out=4)"
   ]
  },
  {
   "cell_type": "code",
   "execution_count": 5,
   "metadata": {},
   "outputs": [],
   "source": [
    "from torch_geometric_temporal.signal import temporal_signal_split"
   ]
  },
  {
   "cell_type": "code",
   "execution_count": 6,
   "metadata": {},
   "outputs": [],
   "source": [
    "train_dataset, test_dataset = temporal_signal_split(loader_data, train_ratio=0.2)"
   ]
  },
  {
   "cell_type": "code",
   "execution_count": 7,
   "metadata": {},
   "outputs": [
    {
     "data": {
      "text/plain": [
       "TemporalGNN(\n",
       "  (tgnn): A3TGCN(\n",
       "    (_base_tgcn): TGCN(\n",
       "      (conv_z): GCNConv(16, 32)\n",
       "      (linear_z): Linear(in_features=64, out_features=32, bias=True)\n",
       "      (conv_r): GCNConv(16, 32)\n",
       "      (linear_r): Linear(in_features=64, out_features=32, bias=True)\n",
       "      (conv_h): GCNConv(16, 32)\n",
       "      (linear_h): Linear(in_features=64, out_features=32, bias=True)\n",
       "    )\n",
       "  )\n",
       "  (linear): Linear(in_features=32, out_features=4, bias=True)\n",
       ")"
      ]
     },
     "execution_count": 7,
     "metadata": {},
     "output_type": "execute_result"
    }
   ],
   "source": [
    "import torch\n",
    "import torch.nn.functional as F\n",
    "from torch_geometric_temporal.nn.recurrent import A3TGCN\n",
    "\n",
    "class TemporalGNN(torch.nn.Module):\n",
    "    def __init__(self, node_features, periods):\n",
    "        super(TemporalGNN, self).__init__()\n",
    "        # Attention Temporal Graph Convolutional Cell\n",
    "        out_channels = 32\n",
    "        self.tgnn = A3TGCN(in_channels=node_features, \n",
    "                           out_channels=out_channels, \n",
    "                           periods=periods)\n",
    "        # Equals single-shot prediction\n",
    "        self.linear = torch.nn.Linear(out_channels, periods)\n",
    "\n",
    "    def forward(self, x, edge_index):\n",
    "        \"\"\"\n",
    "        x = Node features for T time steps\n",
    "        edge_index = Graph edge indices\n",
    "        \"\"\"\n",
    "        h = self.tgnn(x, edge_index)\n",
    "        h = F.relu(h)\n",
    "        h = self.linear(h)\n",
    "        return h\n",
    "\n",
    "TemporalGNN(node_features=16, periods=4)"
   ]
  },
  {
   "cell_type": "code",
   "execution_count": 9,
   "metadata": {},
   "outputs": [
    {
     "name": "stdout",
     "output_type": "stream",
     "text": [
      "Running training...\n",
      "--------- Epoch 0 ---------\n",
      "Intermediate loss at step 1000: 1.0177550315856934\n",
      "Intermediate loss at step 2000: 1.0104764699935913\n",
      "Epoch 0 train MSE: 1.0108\n",
      "--------- Epoch 1 ---------\n",
      "Intermediate loss at step 1000: 0.9886978268623352\n",
      "Intermediate loss at step 2000: 0.9905419945716858\n",
      "Epoch 1 train MSE: 0.9871\n",
      "--------- Epoch 2 ---------\n",
      "Intermediate loss at step 1000: 0.9664047956466675\n",
      "Intermediate loss at step 2000: 0.9696627259254456\n",
      "Epoch 2 train MSE: 0.9664\n",
      "--------- Epoch 3 ---------\n",
      "Intermediate loss at step 1000: 0.9379709362983704\n",
      "Intermediate loss at step 2000: 0.9398724436759949\n",
      "Epoch 3 train MSE: 0.9389\n",
      "--------- Epoch 4 ---------\n",
      "Intermediate loss at step 1000: 0.9015889167785645\n",
      "Intermediate loss at step 2000: 0.9045805931091309\n",
      "Epoch 4 train MSE: 0.9040\n",
      "--------- Epoch 5 ---------\n",
      "Intermediate loss at step 1000: 0.8642348647117615\n",
      "Intermediate loss at step 2000: 0.8645107746124268\n",
      "Epoch 5 train MSE: 0.8586\n",
      "--------- Epoch 6 ---------\n",
      "Intermediate loss at step 1000: 0.8259400129318237\n",
      "Intermediate loss at step 2000: 0.8179145455360413\n",
      "Epoch 6 train MSE: 0.8074\n",
      "--------- Epoch 7 ---------\n",
      "Intermediate loss at step 1000: 0.7549708485603333\n",
      "Intermediate loss at step 2000: 0.7620517611503601\n",
      "Epoch 7 train MSE: 0.7538\n",
      "--------- Epoch 8 ---------\n",
      "Intermediate loss at step 1000: 0.7272181510925293\n",
      "Intermediate loss at step 2000: 0.7077851295471191\n",
      "Epoch 8 train MSE: 0.7011\n",
      "--------- Epoch 9 ---------\n",
      "Intermediate loss at step 1000: 0.6746061444282532\n",
      "Intermediate loss at step 2000: 0.6633866429328918\n",
      "Epoch 9 train MSE: 0.6545\n",
      "--------- Epoch 10 ---------\n",
      "Intermediate loss at step 1000: 0.6204176545143127\n",
      "Intermediate loss at step 2000: 0.6235459446907043\n",
      "Epoch 10 train MSE: 0.6165\n",
      "--------- Epoch 11 ---------\n",
      "Intermediate loss at step 1000: 0.614489734172821\n",
      "Intermediate loss at step 2000: 0.588275134563446\n",
      "Epoch 11 train MSE: 0.5916\n",
      "--------- Epoch 12 ---------\n",
      "Intermediate loss at step 1000: 0.5602334141731262\n",
      "Intermediate loss at step 2000: 0.5645202994346619\n",
      "Epoch 12 train MSE: 0.5717\n",
      "--------- Epoch 13 ---------\n",
      "Intermediate loss at step 1000: 0.5560300946235657\n",
      "Intermediate loss at step 2000: 0.5453242659568787\n",
      "Epoch 13 train MSE: 0.5519\n",
      "--------- Epoch 14 ---------\n",
      "Intermediate loss at step 1000: 0.5418729186058044\n",
      "Intermediate loss at step 2000: 0.5297684073448181\n",
      "Epoch 14 train MSE: 0.5413\n",
      "--------- Epoch 15 ---------\n"
     ]
    }
   ],
   "source": [
    "# GPU support\n",
    "device = torch.device('cuda') # cuda\n",
    "subset = 2000\n",
    "\n",
    "# Create model and optimizers\n",
    "model = TemporalGNN(node_features=21, periods=4).to(device)\n",
    "optimizer = torch.optim.Adam(model.parameters(), lr=0.01)\n",
    "model.train()\n",
    "\n",
    "epochs_loss = []\n",
    "\n",
    "print(\"Running training...\")\n",
    "for epoch in range(30): \n",
    "    loss = 0\n",
    "    step = 0\n",
    "    print(f\"--------- Epoch {epoch} ---------\")\n",
    "    for snapshot in train_dataset:\n",
    "        #print(f\"--- Step {step} ---\")\n",
    "        snapshot = snapshot.to(device)\n",
    "        # Get model predictions\n",
    "        y_hat = model(snapshot.x, snapshot.edge_index)\n",
    "        # Mean squared error\n",
    "        intermedaiate_loss = torch.mean((y_hat-snapshot.y)**2) \n",
    "        loss = loss + intermedaiate_loss\n",
    "        step += 1\n",
    "        if step%1000==0:\n",
    "          print(f\"Intermediate loss at step {step}: {intermedaiate_loss.item()}\")\n",
    "        if step > subset:\n",
    "          break\n",
    "\n",
    "    loss = loss / (step + 1)\n",
    "    loss.backward()\n",
    "    optimizer.step()\n",
    "    optimizer.zero_grad()\n",
    "    print(\"Epoch {} train MSE: {:.4f}\".format(epoch, loss.item()))\n",
    "    epochs_loss.append(loss)"
   ]
  }
 ],
 "metadata": {
  "kernelspec": {
   "display_name": "graphvolt_env",
   "language": "python",
   "name": "python3"
  },
  "language_info": {
   "codemirror_mode": {
    "name": "ipython",
    "version": 3
   },
   "file_extension": ".py",
   "mimetype": "text/x-python",
   "name": "python",
   "nbconvert_exporter": "python",
   "pygments_lexer": "ipython3",
   "version": "3.11.6"
  }
 },
 "nbformat": 4,
 "nbformat_minor": 2
}
