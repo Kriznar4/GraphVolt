{
 "cells": [
  {
   "cell_type": "code",
   "execution_count": 23,
   "metadata": {},
   "outputs": [],
   "source": [
    "import pandas as pd\n",
    "import numpy as np\n",
    "import sys\n",
    "sys.path.append(\"../src/utils\")\n",
    "from utils import SimpleGraphVoltDatasetLoader_Lazy\n",
    "from torch_geometric_temporal.signal import temporal_signal_split\n",
    "import torch\n",
    "import torch.nn.functional as F\n",
    "from torch_geometric_temporal.nn.recurrent import A3TGCN\n",
    "from tqdm import tqdm"
   ]
  },
  {
   "cell_type": "code",
   "execution_count": 24,
   "metadata": {},
   "outputs": [],
   "source": [
    "class avgModel():\n",
    "    def __init__(self, num_timesteps_out, voltage_index):\n",
    "        self.num_timesteps_out = num_timesteps_out\n",
    "        self.voltage_index = voltage_index\n",
    "\n",
    "    def __call__(self, x, edge_index):\n",
    "        predicted_voltages = torch.mean(x[:, self.voltage_index, :], dim=1, keepdim=True)\n",
    "        return predicted_voltages.repeat(1, self.num_timesteps_out)\n",
    "\n",
    "    def train(self):\n",
    "        pass\n",
    "\n",
    "    def eval(self):\n",
    "        pass"
   ]
  },
  {
   "cell_type": "code",
   "execution_count": 25,
   "metadata": {},
   "outputs": [],
   "source": [
    "trafo_id = \"T1330\"\n",
    "epochs = 25\n",
    "num_timesteps_in = 12\n",
    "num_timesteps_out = 4\n",
    "train_ratio = 0.7\n",
    "test_ratio_vs_eval_ratio = 0.5\n",
    "learning_rate = 0.01\n",
    "device_str = 'cpu'"
   ]
  },
  {
   "cell_type": "code",
   "execution_count": 26,
   "metadata": {},
   "outputs": [],
   "source": [
    "#get dateime string of now\n",
    "now = pd.Timestamp.now().strftime(\"%Y%m%d%H%M%S\")"
   ]
  },
  {
   "cell_type": "code",
   "execution_count": 27,
   "metadata": {},
   "outputs": [
    {
     "name": "stdout",
     "output_type": "stream",
     "text": [
      "Loading data...Voltage index: 5\n",
      " done\n"
     ]
    }
   ],
   "source": [
    "print(\"Loading data...\", end=\"\")\n",
    "loader = SimpleGraphVoltDatasetLoader_Lazy(trafo_id, num_timesteps_in, num_timesteps_out)\n",
    "print(\" done\")\n",
    "loader_data_index = loader.snapshot_index\n",
    "# loader_data = loader.get_dataset(num_timesteps_in=num_timesteps_in, num_timesteps_out=num_timesteps_out)"
   ]
  },
  {
   "cell_type": "code",
   "execution_count": 28,
   "metadata": {},
   "outputs": [],
   "source": [
    "train_dataset, test_eval_dataset = loader.temporal_signal_split_lazy(loader_data_index, train_ratio)\n",
    "test_dataset, eval_dataset = loader.temporal_signal_split_lazy(test_eval_dataset, test_ratio_vs_eval_ratio)"
   ]
  },
  {
   "cell_type": "code",
   "execution_count": 29,
   "metadata": {},
   "outputs": [],
   "source": [
    "device = torch.device(device_str)\n",
    "model = avgModel(num_timesteps_out, loader.voltage_index)\n",
    "loss_fn = torch.nn.L1Loss"
   ]
  },
  {
   "cell_type": "code",
   "execution_count": 30,
   "metadata": {},
   "outputs": [
    {
     "name": "stdout",
     "output_type": "stream",
     "text": [
      "10771.335520049557\n"
     ]
    }
   ],
   "source": [
    "def run_avg_loss(dataset, loader, loss_fn, device):\n",
    "    loss_run_avg = 0\n",
    "    for snapshot_i in dataset:\n",
    "        #snapshot.to(device)\n",
    "        snapshot = loader.get_snapshot(snapshot_i)\n",
    "    \n",
    "        out = model(snapshot.x, snapshot.edge_index)\n",
    "        loss = loss_fn()(out, snapshot.y)\n",
    "        loss_run_avg += loss.item()\n",
    "\n",
    "    return loss_run_avg\n",
    "\n",
    "print(run_avg_loss(train_dataset, loader, loss_fn, device))\n",
    "\n",
    "        "
   ]
  }
 ],
 "metadata": {
  "kernelspec": {
   "display_name": "graphvolt_env",
   "language": "python",
   "name": "python3"
  },
  "language_info": {
   "codemirror_mode": {
    "name": "ipython",
    "version": 3
   },
   "file_extension": ".py",
   "mimetype": "text/x-python",
   "name": "python",
   "nbconvert_exporter": "python",
   "pygments_lexer": "ipython3",
   "version": "3.11.5"
  }
 },
 "nbformat": 4,
 "nbformat_minor": 2
}
