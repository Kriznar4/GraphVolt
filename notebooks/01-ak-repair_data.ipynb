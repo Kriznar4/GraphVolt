{
 "cells": [
  {
   "cell_type": "code",
   "execution_count": 6,
   "metadata": {},
   "outputs": [],
   "source": [
    "import pandas as pd\n",
    "import sys\n",
    "sys.path.append(\"../src/utils\")\n",
    "from utils import read_raw_network_data"
   ]
  },
  {
   "cell_type": "code",
   "execution_count": 7,
   "metadata": {},
   "outputs": [],
   "source": [
    "trafo_id = \"T1330\" #T1330 T0932\n",
    "data, _ = read_raw_network_data(trafo_id, depth=1)"
   ]
  },
  {
   "cell_type": "code",
   "execution_count": 46,
   "metadata": {},
   "outputs": [
    {
     "data": {
      "text/html": [
       "<div>\n",
       "<style scoped>\n",
       "    .dataframe tbody tr th:only-of-type {\n",
       "        vertical-align: middle;\n",
       "    }\n",
       "\n",
       "    .dataframe tbody tr th {\n",
       "        vertical-align: top;\n",
       "    }\n",
       "\n",
       "    .dataframe thead th {\n",
       "        text-align: right;\n",
       "    }\n",
       "</style>\n",
       "<table border=\"1\" class=\"dataframe\">\n",
       "  <thead>\n",
       "    <tr style=\"text-align: right;\">\n",
       "      <th></th>\n",
       "      <th>Unnamed: 0</th>\n",
       "      <th>aclass_id</th>\n",
       "      <th>bus</th>\n",
       "      <th>smm</th>\n",
       "      <th>prikljucna_moc_odjem</th>\n",
       "      <th>prikljucna_moc_oddaja</th>\n",
       "      <th>x_y</th>\n",
       "      <th>lon_lat</th>\n",
       "    </tr>\n",
       "  </thead>\n",
       "  <tbody>\n",
       "    <tr>\n",
       "      <th>0</th>\n",
       "      <td>NaN</td>\n",
       "      <td>junction</td>\n",
       "      <td>97327</td>\n",
       "      <td>NaN</td>\n",
       "      <td>NaN</td>\n",
       "      <td>NaN</td>\n",
       "      <td>(530588.0843000002, 153821.05189999938)</td>\n",
       "      <td>(21.48883237280564, 49.25298769476685)</td>\n",
       "    </tr>\n",
       "    <tr>\n",
       "      <th>1</th>\n",
       "      <td>83736.0</td>\n",
       "      <td>PMO</td>\n",
       "      <td>55363</td>\n",
       "      <td>110471.0</td>\n",
       "      <td>35.0</td>\n",
       "      <td>0.0</td>\n",
       "      <td>(530715.1489000004, 154094.69480000064)</td>\n",
       "      <td>(21.490457517273, 49.25545698477883)</td>\n",
       "    </tr>\n",
       "    <tr>\n",
       "      <th>2</th>\n",
       "      <td>83352.0</td>\n",
       "      <td>PMO</td>\n",
       "      <td>55364</td>\n",
       "      <td>91558.0</td>\n",
       "      <td>17.0</td>\n",
       "      <td>14.0</td>\n",
       "      <td>(530714.4113999996, 153845.96270000003)</td>\n",
       "      <td>(21.49046867801605, 49.25321912788421)</td>\n",
       "    </tr>\n",
       "    <tr>\n",
       "      <th>3</th>\n",
       "      <td>13347.0</td>\n",
       "      <td>PMO</td>\n",
       "      <td>55367</td>\n",
       "      <td>30234.0</td>\n",
       "      <td>14.0</td>\n",
       "      <td>0.0</td>\n",
       "      <td>(530699.8213, 153848.67300000042)</td>\n",
       "      <td>(21.490279227137176, 49.253242668676066)</td>\n",
       "    </tr>\n",
       "    <tr>\n",
       "      <th>4</th>\n",
       "      <td>13023.0</td>\n",
       "      <td>PMO</td>\n",
       "      <td>55368</td>\n",
       "      <td>30233.0</td>\n",
       "      <td>14.0</td>\n",
       "      <td>0.0</td>\n",
       "      <td>(530683.6710999999, 153849.89320000075)</td>\n",
       "      <td>(21.49006966676341, 49.25325271264873)</td>\n",
       "    </tr>\n",
       "  </tbody>\n",
       "</table>\n",
       "</div>"
      ],
      "text/plain": [
       "   Unnamed: 0 aclass_id    bus       smm  prikljucna_moc_odjem  \\\n",
       "0         NaN  junction  97327       NaN                   NaN   \n",
       "1     83736.0       PMO  55363  110471.0                  35.0   \n",
       "2     83352.0       PMO  55364   91558.0                  17.0   \n",
       "3     13347.0       PMO  55367   30234.0                  14.0   \n",
       "4     13023.0       PMO  55368   30233.0                  14.0   \n",
       "\n",
       "   prikljucna_moc_oddaja                                      x_y  \\\n",
       "0                    NaN  (530588.0843000002, 153821.05189999938)   \n",
       "1                    0.0  (530715.1489000004, 154094.69480000064)   \n",
       "2                   14.0  (530714.4113999996, 153845.96270000003)   \n",
       "3                    0.0        (530699.8213, 153848.67300000042)   \n",
       "4                    0.0  (530683.6710999999, 153849.89320000075)   \n",
       "\n",
       "                                    lon_lat  \n",
       "0    (21.48883237280564, 49.25298769476685)  \n",
       "1      (21.490457517273, 49.25545698477883)  \n",
       "2    (21.49046867801605, 49.25321912788421)  \n",
       "3  (21.490279227137176, 49.253242668676066)  \n",
       "4    (21.49006966676341, 49.25325271264873)  "
      ]
     },
     "execution_count": 46,
     "metadata": {},
     "output_type": "execute_result"
    }
   ],
   "source": [
    "data[\"nodes_static_data\"].head()"
   ]
  },
  {
   "cell_type": "code",
   "execution_count": 47,
   "metadata": {},
   "outputs": [
    {
     "data": {
      "text/plain": [
       "dict_keys(['lines_static_data', 'nodes_static_data', 'SMM_measurements', 'TP_measurements'])"
      ]
     },
     "execution_count": 47,
     "metadata": {},
     "output_type": "execute_result"
    }
   ],
   "source": [
    "data.keys()"
   ]
  },
  {
   "cell_type": "code",
   "execution_count": 48,
   "metadata": {},
   "outputs": [],
   "source": [
    "def drop_unnamed(data):\n",
    "    \"\"\" \n",
    "    drops all columns named \"Unnamed: 0\"\n",
    "    \"\"\"\n",
    "    keys = data.keys()\n",
    "    drop_data = dict()\n",
    "    \n",
    "    for key in keys:\n",
    "        drop_data[key] = data[key].drop(columns=[\"Unnamed: 0\"])\n",
    "        \n",
    "    return drop_data"
   ]
  },
  {
   "cell_type": "code",
   "execution_count": 49,
   "metadata": {},
   "outputs": [
    {
     "data": {
      "text/html": [
       "<div>\n",
       "<style scoped>\n",
       "    .dataframe tbody tr th:only-of-type {\n",
       "        vertical-align: middle;\n",
       "    }\n",
       "\n",
       "    .dataframe tbody tr th {\n",
       "        vertical-align: top;\n",
       "    }\n",
       "\n",
       "    .dataframe thead th {\n",
       "        text-align: right;\n",
       "    }\n",
       "</style>\n",
       "<table border=\"1\" class=\"dataframe\">\n",
       "  <thead>\n",
       "    <tr style=\"text-align: right;\">\n",
       "      <th></th>\n",
       "      <th>aclass_id</th>\n",
       "      <th>bus</th>\n",
       "      <th>smm</th>\n",
       "      <th>prikljucna_moc_odjem</th>\n",
       "      <th>prikljucna_moc_oddaja</th>\n",
       "      <th>x_y</th>\n",
       "      <th>lon_lat</th>\n",
       "    </tr>\n",
       "  </thead>\n",
       "  <tbody>\n",
       "    <tr>\n",
       "      <th>0</th>\n",
       "      <td>junction</td>\n",
       "      <td>97327</td>\n",
       "      <td>NaN</td>\n",
       "      <td>NaN</td>\n",
       "      <td>NaN</td>\n",
       "      <td>(530588.0843000002, 153821.05189999938)</td>\n",
       "      <td>(21.48883237280564, 49.25298769476685)</td>\n",
       "    </tr>\n",
       "    <tr>\n",
       "      <th>1</th>\n",
       "      <td>PMO</td>\n",
       "      <td>55363</td>\n",
       "      <td>110471.0</td>\n",
       "      <td>35.0</td>\n",
       "      <td>0.0</td>\n",
       "      <td>(530715.1489000004, 154094.69480000064)</td>\n",
       "      <td>(21.490457517273, 49.25545698477883)</td>\n",
       "    </tr>\n",
       "    <tr>\n",
       "      <th>2</th>\n",
       "      <td>PMO</td>\n",
       "      <td>55364</td>\n",
       "      <td>91558.0</td>\n",
       "      <td>17.0</td>\n",
       "      <td>14.0</td>\n",
       "      <td>(530714.4113999996, 153845.96270000003)</td>\n",
       "      <td>(21.49046867801605, 49.25321912788421)</td>\n",
       "    </tr>\n",
       "    <tr>\n",
       "      <th>3</th>\n",
       "      <td>PMO</td>\n",
       "      <td>55367</td>\n",
       "      <td>30234.0</td>\n",
       "      <td>14.0</td>\n",
       "      <td>0.0</td>\n",
       "      <td>(530699.8213, 153848.67300000042)</td>\n",
       "      <td>(21.490279227137176, 49.253242668676066)</td>\n",
       "    </tr>\n",
       "    <tr>\n",
       "      <th>4</th>\n",
       "      <td>PMO</td>\n",
       "      <td>55368</td>\n",
       "      <td>30233.0</td>\n",
       "      <td>14.0</td>\n",
       "      <td>0.0</td>\n",
       "      <td>(530683.6710999999, 153849.89320000075)</td>\n",
       "      <td>(21.49006966676341, 49.25325271264873)</td>\n",
       "    </tr>\n",
       "  </tbody>\n",
       "</table>\n",
       "</div>"
      ],
      "text/plain": [
       "  aclass_id    bus       smm  prikljucna_moc_odjem  prikljucna_moc_oddaja  \\\n",
       "0  junction  97327       NaN                   NaN                    NaN   \n",
       "1       PMO  55363  110471.0                  35.0                    0.0   \n",
       "2       PMO  55364   91558.0                  17.0                   14.0   \n",
       "3       PMO  55367   30234.0                  14.0                    0.0   \n",
       "4       PMO  55368   30233.0                  14.0                    0.0   \n",
       "\n",
       "                                       x_y  \\\n",
       "0  (530588.0843000002, 153821.05189999938)   \n",
       "1  (530715.1489000004, 154094.69480000064)   \n",
       "2  (530714.4113999996, 153845.96270000003)   \n",
       "3        (530699.8213, 153848.67300000042)   \n",
       "4  (530683.6710999999, 153849.89320000075)   \n",
       "\n",
       "                                    lon_lat  \n",
       "0    (21.48883237280564, 49.25298769476685)  \n",
       "1      (21.490457517273, 49.25545698477883)  \n",
       "2    (21.49046867801605, 49.25321912788421)  \n",
       "3  (21.490279227137176, 49.253242668676066)  \n",
       "4    (21.49006966676341, 49.25325271264873)  "
      ]
     },
     "execution_count": 49,
     "metadata": {},
     "output_type": "execute_result"
    }
   ],
   "source": [
    "drop_data = drop_unnamed(data)\n",
    "drop_data[\"nodes_static_data\"].head()"
   ]
  },
  {
   "cell_type": "code",
   "execution_count": 50,
   "metadata": {},
   "outputs": [],
   "source": [
    "import os\n",
    "\n",
    "def save_raw_network_data(trafo_id, data, depth=1):\n",
    "    \"\"\"\n",
    "    Reads all csv files from a given transformer stations. Depth is number of parent filders to get to GraphVolt folder.\n",
    "    \"\"\"\n",
    "    #get parent dir of cwd\n",
    "    parent_dir = os.getcwd()\n",
    "    for _ in range(depth):\n",
    "        parent_dir = os.path.abspath(os.path.join(parent_dir, os.pardir))\n",
    "    #get data folder and then to networks_raw_folder\n",
    "    path_data_raw = os.path.join(parent_dir, 'data', 'networks_data_raw')\n",
    "\n",
    "    tablenames = [\"edges_static_data\", \"nodes_static_data\", \"SMM_measurements\", \"TP_measurements\"]\n",
    "\n",
    "    #get path to network\n",
    "    path_network = os.path.join(path_data_raw, f\"{trafo_id}_anon_procesed\")\n",
    "\n",
    "    #read all csv files from path_network\n",
    "    df_network_dict = {}\n",
    "    for tablename in tablenames:\n",
    "        path_table = os.path.join(path_network, f\"{trafo_id}_{tablename}.csv\")\n",
    "        # df_network_dict[tablename] = pd.read_csv(path_table, sep=\",\", decimal=\".\")\n",
    "        data[tablename].to_csv(path_table, sep=\",\", decimal=\".\", index=False)\n",
    "        \n",
    "    \n",
    "    return trafo_id"
   ]
  },
  {
   "cell_type": "code",
   "execution_count": 51,
   "metadata": {},
   "outputs": [
    {
     "data": {
      "text/plain": [
       "'T1330'"
      ]
     },
     "execution_count": 51,
     "metadata": {},
     "output_type": "execute_result"
    }
   ],
   "source": [
    "save_raw_network_data(trafo_id, drop_data, depth=1)"
   ]
  },
  {
   "cell_type": "code",
   "execution_count": null,
   "metadata": {},
   "outputs": [],
   "source": []
  }
 ],
 "metadata": {
  "kernelspec": {
   "display_name": "mlg_env",
   "language": "python",
   "name": "python3"
  },
  "language_info": {
   "codemirror_mode": {
    "name": "ipython",
    "version": 3
   },
   "file_extension": ".py",
   "mimetype": "text/x-python",
   "name": "python",
   "nbconvert_exporter": "python",
   "pygments_lexer": "ipython3",
   "version": "3.10.13"
  }
 },
 "nbformat": 4,
 "nbformat_minor": 2
}
