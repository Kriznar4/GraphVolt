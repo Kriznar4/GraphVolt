{
 "cells": [
  {
   "cell_type": "code",
   "execution_count": 6,
   "metadata": {},
   "outputs": [],
   "source": [
    "import pandas as pd\n",
    "import os"
   ]
  },
  {
   "cell_type": "code",
   "execution_count": 7,
   "metadata": {},
   "outputs": [],
   "source": [
    "#get parent dir of cwd\n",
    "parent_dir = os.path.abspath(os.path.join(os.getcwd(), os.pardir))\n",
    "#get data folder and then to networks_raw_folder\n",
    "path_data_raw = os.path.join(parent_dir, 'data', 'networks_data_raw')\n"
   ]
  },
  {
   "cell_type": "code",
   "execution_count": 8,
   "metadata": {},
   "outputs": [],
   "source": [
    "trafo_id = \"T1330\"\n",
    "tablenames = [\"bus\", \"bus_geodata\", \"EnergijaSMM\", \"ext_grid\", \"line\", \"line_geodata\", \"load\", \"NapetostiSMM\", \"tehnicni\", \"TPnapetosti_energija\", \"trafo\"]"
   ]
  },
  {
   "cell_type": "code",
   "execution_count": 9,
   "metadata": {},
   "outputs": [],
   "source": [
    "#get path to network\n",
    "path_network = os.path.join(path_data_raw, f\"{trafo_id}_anon\")"
   ]
  },
  {
   "cell_type": "code",
   "execution_count": 10,
   "metadata": {},
   "outputs": [],
   "source": [
    "#read all csv files from path_network\n",
    "df_network_dict = {}\n",
    "for tablename in tablenames:\n",
    "    path_table = os.path.join(path_network, f\"{trafo_id}_{tablename}.csv\")\n",
    "    df_network_dict[tablename] = pd.read_csv(path_table, sep=\",\", decimal=\".\")\n"
   ]
  },
  {
   "cell_type": "code",
   "execution_count": 17,
   "metadata": {},
   "outputs": [],
   "source": [
    "def read_network_data(trafo_id, depth=1):\n",
    "    \"\"\"\n",
    "    Reads all csv files from a given transformer stations. Depth is number of parent filders to get to GraphVold folder.\n",
    "    \"\"\"\n",
    "    #get parent dir of cwd\n",
    "    parent_dir = os.getcwd()\n",
    "    for _ in range(depth):\n",
    "        parent_dir = os.path.abspath(os.path.join(parent_dir, os.pardir))\n",
    "    #get data folder and then to networks_raw_folder\n",
    "    path_data_raw = os.path.join(parent_dir, 'data', 'networks_data_raw')\n",
    "\n",
    "    tablenames = [\"bus\", \"bus_geodata\", \"EnergijaSMM\", \"ext_grid\", \"line\", \"line_geodata\", \"load\", \"NapetostiSMM\", \"tehnicni\", \"TPnapetosti_energija\", \"trafo\"]\n",
    "\n",
    "    #get path to network\n",
    "    path_network = os.path.join(path_data_raw, f\"{trafo_id}_anon\")\n",
    "\n",
    "    #read all csv files from path_network\n",
    "    df_network_dict = {}\n",
    "    for tablename in tablenames:\n",
    "        path_table = os.path.join(path_network, f\"{trafo_id}_{tablename}.csv\")\n",
    "        df_network_dict[tablename] = pd.read_csv(path_table, sep=\",\", decimal=\".\")\n",
    "    \n",
    "    return df_network_dict\n"
   ]
  }
 ],
 "metadata": {
  "kernelspec": {
   "display_name": "Python 3",
   "language": "python",
   "name": "python3"
  },
  "language_info": {
   "codemirror_mode": {
    "name": "ipython",
    "version": 3
   },
   "file_extension": ".py",
   "mimetype": "text/x-python",
   "name": "python",
   "nbconvert_exporter": "python",
   "pygments_lexer": "ipython3",
   "version": "3.10.11"
  }
 },
 "nbformat": 4,
 "nbformat_minor": 2
}
