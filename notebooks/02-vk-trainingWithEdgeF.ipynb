{
 "cells": [
  {
   "cell_type": "code",
   "execution_count": 6,
   "metadata": {},
   "outputs": [],
   "source": [
    "import pandas as pd\n",
    "import numpy as np\n",
    "import sys\n",
    "sys.path.append(\"../src/utils\")\n",
    "from utils import SimpleGraphVoltDatasetLoader, read_and_prepare_data\n",
    "from torch_geometric_temporal.signal import temporal_signal_split\n",
    "import torch\n",
    "import torch.nn.functional as F\n",
    "from torch_geometric_temporal.nn.recurrent import A3TGCN\n",
    "from tqdm import tqdm\n"
   ]
  },
  {
   "cell_type": "code",
   "execution_count": 2,
   "metadata": {},
   "outputs": [
    {
     "name": "stderr",
     "output_type": "stream",
     "text": [
      "/usr/local/lib/python3.10/site-packages/torch/_tensor_str.py:137: UserWarning: MPS: nonzero op is supported natively starting from macOS 13.0. Falling back on CPU. This may have performance implications. (Triggered internally at /Users/runner/work/pytorch/pytorch/pytorch/aten/src/ATen/native/mps/operations/Indexing.mm:283.)\n",
      "  nonzero_finite_vals = torch.masked_select(\n"
     ]
    },
    {
     "name": "stdout",
     "output_type": "stream",
     "text": [
      "tensor([1.], device='mps:0')\n"
     ]
    }
   ],
   "source": [
    "if torch.backends.mps.is_available():\n",
    "    mps_device = torch.device(\"mps\")\n",
    "    x = torch.ones(1, device=mps_device)\n",
    "    print (x)\n",
    "else:\n",
    "    print (\"MPS device not found.\")"
   ]
  },
  {
   "cell_type": "code",
   "execution_count": 7,
   "metadata": {},
   "outputs": [],
   "source": [
    "class TemporalGNN(torch.nn.Module):\n",
    "    def __init__(self, node_features, periods):\n",
    "        super(TemporalGNN, self).__init__()\n",
    "        # Attention Temporal Graph Convolutional Cell\n",
    "        out_channels = 32\n",
    "        self.tgnn = A3TGCN(in_channels=node_features, \n",
    "                           out_channels=out_channels, \n",
    "                           periods=periods)\n",
    "        # Equals single-shot prediction\n",
    "        self.linear = torch.nn.Linear(out_channels, periods)\n",
    "\n",
    "    def forward(self, x, edge_index, edge_weights):\n",
    "        \"\"\"\n",
    "        x = Node features for T time steps\n",
    "        edge_index = Graph edge indices\n",
    "        edge_weights = Graph edge weights\n",
    "        \"\"\"\n",
    "        h = self.tgnn(x, edge_index, edge_weights)\n",
    "        h = F.relu(h)\n",
    "        h = self.linear(h)\n",
    "        return h\n"
   ]
  },
  {
   "cell_type": "code",
   "execution_count": 22,
   "metadata": {},
   "outputs": [],
   "source": [
    "def train_test(model, device, train_dataset, test_dataset, optimizer, loss_fn, epochs, now):\n",
    "    \"\"\"\n",
    "    Definition of the training loop.\n",
    "    \"\"\"\n",
    "    epoch_losses_train = []\n",
    "    epoch_losses_test = []\n",
    "    \n",
    "    for epoch in range(epochs):\n",
    "        model.train()\n",
    "        epoch_loss_train = 0\n",
    "\n",
    "        subset = 100\n",
    "        step=0\n",
    "\n",
    "        for snapshot in tqdm(train_dataset, desc=\"Training epoch {}\".format(epoch)):\n",
    "            snapshot.to(device)\n",
    "            optimizer.zero_grad()\n",
    "            out = model(snapshot.x, snapshot.edge_index,snapshot.edge_weight)\n",
    "            loss = loss_fn()(out, snapshot.y)\n",
    "            loss.backward()\n",
    "            optimizer.step()\n",
    "            epoch_loss_train += loss.detach().cpu().numpy()\n",
    "\n",
    "            step+=1\n",
    "\n",
    "            if step > subset:\n",
    "                break\n",
    "\n",
    "\n",
    "        epoch_losses_train.append(epoch_loss_train)\n",
    "        model.eval()\n",
    "        epoch_loss_test = 0\n",
    "        with torch.no_grad():\n",
    "\n",
    "            subset = 100\n",
    "            step=0\n",
    "\n",
    "            for snapshot in tqdm(test_dataset, desc=\"Testing epoch {}\".format(epoch)):\n",
    "                snapshot.to(device)\n",
    "                out = model(snapshot.x, snapshot.edge_index,snapshot.edge_weight)\n",
    "                loss = loss_fn()(out, snapshot.y).cpu().numpy()\n",
    "                epoch_loss_test += loss\n",
    "\n",
    "                step+=1\n",
    "                if step > subset:\n",
    "                    break\n",
    "\n",
    "            epoch_losses_test.append(epoch_loss_test)\n",
    "            if min(epoch_losses_test) == epoch_loss_test:\n",
    "                torch.save(model.state_dict(), f\"../models/A3TGCN_{now}_{trafo_id}_epochs-{epochs}_in-{num_timesteps_in}_out-{num_timesteps_out}_train-ratio-{train_ratio}_lr-{learning_rate}.pt\")\n",
    "            print(\"Epoch: {}, Train Loss: {:.7f}, Test Loss: {:.7f}\".format(epoch, epoch_loss_train, epoch_loss_test))\n",
    "        \n",
    "        \n",
    "    return epoch_losses_train, epoch_losses_test\n",
    "            "
   ]
  },
  {
   "cell_type": "code",
   "execution_count": 25,
   "metadata": {},
   "outputs": [],
   "source": [
    "def eval(model, eval_dataset, device, loss_fn, std):\n",
    "    with torch.no_grad():\n",
    "        model.eval()\n",
    "        loss_all = 0\n",
    "        loss_elementwise = 0\n",
    "        \n",
    "        steps = 0\n",
    "        for snapshot in tqdm(eval_dataset, desc=\"Evaluating\"):\n",
    "            steps += 1\n",
    "            snapshot.to(device)\n",
    "            out = model(snapshot.x, snapshot.edge_index,snapshot.edge_weight)\n",
    "            loss_all += loss_fn()(out, snapshot.y).cpu().numpy()\n",
    "            loss_elementwise += loss_fn(reduction=\"none\")(out, snapshot.y).cpu().numpy()\n",
    "\n",
    "            if steps > 1000:\n",
    "                break\n",
    "\n",
    "        loss_all *= std/steps\n",
    "        loss_elementwise *= std/steps\n",
    "    return loss_all, loss_elementwise"
   ]
  },
  {
   "cell_type": "code",
   "execution_count": 10,
   "metadata": {},
   "outputs": [],
   "source": [
    "trafo_id = \"T1330\"\n",
    "epochs = 25\n",
    "num_timesteps_in = 12\n",
    "num_timesteps_out = 4\n",
    "train_ratio = 0.7\n",
    "test_ratio_vs_eval_ratio = 0.5\n",
    "learning_rate = 0.01\n",
    "device_str = 'mps'\n",
    "\n",
    "#----------------------\n",
    "if device_str == 'mps':\n",
    "    torch.cuda.empty_cache()\n",
    "\n",
    "#get dateime string of now\n",
    "now = pd.Timestamp.now().strftime(\"%Y%m%d%H%M%S\")"
   ]
  },
  {
   "cell_type": "code",
   "execution_count": 11,
   "metadata": {},
   "outputs": [
    {
     "name": "stdout",
     "output_type": "stream",
     "text": [
      "Loading data...\n",
      "Voltage index: 5\n",
      "Voltage index: 5\n"
     ]
    }
   ],
   "source": [
    "print(\"Loading data...\")\n",
    "loader = SimpleGraphVoltDatasetLoader(trafo_id)\n",
    "loader_data = loader.get_dataset(num_timesteps_in=num_timesteps_in, num_timesteps_out=num_timesteps_out)\n",
    "\n",
    "train_dataset, test_eval_dataset = temporal_signal_split(loader_data, train_ratio=train_ratio)\n",
    "test_dataset, eval_dataset = temporal_signal_split(test_eval_dataset, train_ratio=test_ratio_vs_eval_ratio)"
   ]
  },
  {
   "cell_type": "code",
   "execution_count": 23,
   "metadata": {},
   "outputs": [
    {
     "name": "stdout",
     "output_type": "stream",
     "text": [
      "Running training...\n"
     ]
    },
    {
     "name": "stderr",
     "output_type": "stream",
     "text": [
      "Training epoch 0: 0it [00:00, ?it/s]"
     ]
    },
    {
     "name": "stderr",
     "output_type": "stream",
     "text": [
      "Training epoch 0: 100it [00:12,  7.85it/s]\n",
      "Testing epoch 0: 100it [00:08, 12.23it/s]\n"
     ]
    },
    {
     "name": "stdout",
     "output_type": "stream",
     "text": [
      "Epoch: 0, Train Loss: 28.3214764, Test Loss: 53.3878801\n"
     ]
    },
    {
     "name": "stderr",
     "output_type": "stream",
     "text": [
      "Training epoch 1: 100it [00:13,  7.62it/s]\n",
      "Testing epoch 1: 100it [00:07, 13.02it/s]\n"
     ]
    },
    {
     "name": "stdout",
     "output_type": "stream",
     "text": [
      "Epoch: 1, Train Loss: 28.8309276, Test Loss: 53.1604500\n"
     ]
    },
    {
     "name": "stderr",
     "output_type": "stream",
     "text": [
      "Training epoch 2: 100it [00:12,  7.79it/s]\n",
      "Testing epoch 2: 100it [00:09, 11.07it/s]\n"
     ]
    },
    {
     "name": "stdout",
     "output_type": "stream",
     "text": [
      "Epoch: 2, Train Loss: 28.7793804, Test Loss: 53.9404162\n"
     ]
    },
    {
     "name": "stderr",
     "output_type": "stream",
     "text": [
      "Training epoch 3: 100it [00:13,  7.41it/s]\n",
      "Testing epoch 3: 100it [00:08, 12.24it/s]\n"
     ]
    },
    {
     "name": "stdout",
     "output_type": "stream",
     "text": [
      "Epoch: 3, Train Loss: 27.7316262, Test Loss: 54.0300387\n"
     ]
    },
    {
     "name": "stderr",
     "output_type": "stream",
     "text": [
      "Training epoch 4: 100it [00:12,  7.91it/s]\n",
      "Testing epoch 4: 100it [00:07, 12.56it/s]\n"
     ]
    },
    {
     "name": "stdout",
     "output_type": "stream",
     "text": [
      "Epoch: 4, Train Loss: 29.1348240, Test Loss: 54.0341364\n"
     ]
    },
    {
     "name": "stderr",
     "output_type": "stream",
     "text": [
      "Training epoch 5: 100it [00:12,  7.82it/s]\n",
      "Testing epoch 5: 100it [00:08, 12.14it/s]\n"
     ]
    },
    {
     "name": "stdout",
     "output_type": "stream",
     "text": [
      "Epoch: 5, Train Loss: 28.5673506, Test Loss: 53.4555289\n"
     ]
    },
    {
     "name": "stderr",
     "output_type": "stream",
     "text": [
      "Training epoch 6: 100it [00:14,  7.10it/s]\n",
      "Testing epoch 6: 100it [00:09, 10.91it/s]\n"
     ]
    },
    {
     "name": "stdout",
     "output_type": "stream",
     "text": [
      "Epoch: 6, Train Loss: 28.2594076, Test Loss: 52.4400500\n"
     ]
    },
    {
     "name": "stderr",
     "output_type": "stream",
     "text": [
      "Training epoch 7: 100it [00:14,  7.13it/s]\n",
      "Testing epoch 7: 100it [00:08, 12.01it/s]\n"
     ]
    },
    {
     "name": "stdout",
     "output_type": "stream",
     "text": [
      "Epoch: 7, Train Loss: 29.7012399, Test Loss: 53.1489950\n"
     ]
    },
    {
     "name": "stderr",
     "output_type": "stream",
     "text": [
      "Training epoch 8: 100it [00:13,  7.52it/s]\n",
      "Testing epoch 8: 100it [00:07, 12.76it/s]\n"
     ]
    },
    {
     "name": "stdout",
     "output_type": "stream",
     "text": [
      "Epoch: 8, Train Loss: 28.7672603, Test Loss: 52.6429931\n"
     ]
    },
    {
     "name": "stderr",
     "output_type": "stream",
     "text": [
      "Training epoch 9: 100it [00:12,  8.03it/s]\n",
      "Testing epoch 9: 100it [00:08, 11.80it/s]\n"
     ]
    },
    {
     "name": "stdout",
     "output_type": "stream",
     "text": [
      "Epoch: 9, Train Loss: 29.7285584, Test Loss: 55.0801048\n"
     ]
    },
    {
     "name": "stderr",
     "output_type": "stream",
     "text": [
      "Training epoch 10: 100it [00:12,  8.00it/s]\n",
      "Testing epoch 10: 100it [00:08, 12.50it/s]\n"
     ]
    },
    {
     "name": "stdout",
     "output_type": "stream",
     "text": [
      "Epoch: 10, Train Loss: 28.2766436, Test Loss: 55.7554107\n"
     ]
    },
    {
     "name": "stderr",
     "output_type": "stream",
     "text": [
      "Training epoch 11: 100it [00:13,  7.49it/s]\n",
      "Testing epoch 11: 100it [00:08, 11.75it/s]\n"
     ]
    },
    {
     "name": "stdout",
     "output_type": "stream",
     "text": [
      "Epoch: 11, Train Loss: 28.3380174, Test Loss: 55.5847510\n"
     ]
    },
    {
     "name": "stderr",
     "output_type": "stream",
     "text": [
      "Training epoch 12: 100it [00:12,  7.99it/s]\n",
      "Testing epoch 12: 100it [00:07, 12.73it/s]\n"
     ]
    },
    {
     "name": "stdout",
     "output_type": "stream",
     "text": [
      "Epoch: 12, Train Loss: 27.0127028, Test Loss: 53.8705847\n"
     ]
    },
    {
     "name": "stderr",
     "output_type": "stream",
     "text": [
      "Training epoch 13: 100it [00:14,  7.13it/s]\n",
      "Testing epoch 13: 100it [00:08, 12.40it/s]\n"
     ]
    },
    {
     "name": "stdout",
     "output_type": "stream",
     "text": [
      "Epoch: 13, Train Loss: 24.5309881, Test Loss: 53.1018706\n"
     ]
    },
    {
     "name": "stderr",
     "output_type": "stream",
     "text": [
      "Training epoch 14: 100it [00:13,  7.46it/s]\n",
      "Testing epoch 14: 100it [00:08, 12.12it/s]\n"
     ]
    },
    {
     "name": "stdout",
     "output_type": "stream",
     "text": [
      "Epoch: 14, Train Loss: 26.3508633, Test Loss: 55.3308822\n"
     ]
    },
    {
     "name": "stderr",
     "output_type": "stream",
     "text": [
      "Training epoch 15: 100it [00:13,  7.35it/s]\n",
      "Testing epoch 15: 100it [00:08, 11.30it/s]\n"
     ]
    },
    {
     "name": "stdout",
     "output_type": "stream",
     "text": [
      "Epoch: 15, Train Loss: 26.2706847, Test Loss: 56.8740396\n"
     ]
    },
    {
     "name": "stderr",
     "output_type": "stream",
     "text": [
      "Training epoch 16: 100it [00:12,  8.05it/s]\n",
      "Testing epoch 16: 100it [00:07, 12.64it/s]\n"
     ]
    },
    {
     "name": "stdout",
     "output_type": "stream",
     "text": [
      "Epoch: 16, Train Loss: 26.8184510, Test Loss: 56.3903770\n"
     ]
    },
    {
     "name": "stderr",
     "output_type": "stream",
     "text": [
      "Training epoch 17: 100it [00:12,  8.04it/s]\n",
      "Testing epoch 17: 100it [00:07, 13.11it/s]\n"
     ]
    },
    {
     "name": "stdout",
     "output_type": "stream",
     "text": [
      "Epoch: 17, Train Loss: 30.3111977, Test Loss: 54.0671284\n"
     ]
    },
    {
     "name": "stderr",
     "output_type": "stream",
     "text": [
      "Training epoch 18: 100it [00:12,  7.78it/s]\n",
      "Testing epoch 18: 100it [00:08, 12.17it/s]\n"
     ]
    },
    {
     "name": "stdout",
     "output_type": "stream",
     "text": [
      "Epoch: 18, Train Loss: 29.5686524, Test Loss: 54.1220540\n"
     ]
    },
    {
     "name": "stderr",
     "output_type": "stream",
     "text": [
      "Training epoch 19: 100it [00:12,  7.93it/s]\n",
      "Testing epoch 19: 100it [00:08, 11.89it/s]\n"
     ]
    },
    {
     "name": "stdout",
     "output_type": "stream",
     "text": [
      "Epoch: 19, Train Loss: 29.0328945, Test Loss: 55.5623541\n"
     ]
    },
    {
     "name": "stderr",
     "output_type": "stream",
     "text": [
      "Training epoch 20: 100it [00:12,  7.88it/s]\n",
      "Testing epoch 20: 100it [00:07, 12.52it/s]\n"
     ]
    },
    {
     "name": "stdout",
     "output_type": "stream",
     "text": [
      "Epoch: 20, Train Loss: 28.5183823, Test Loss: 53.8280083\n"
     ]
    },
    {
     "name": "stderr",
     "output_type": "stream",
     "text": [
      "Training epoch 21: 100it [00:12,  7.79it/s]\n",
      "Testing epoch 21: 100it [00:08, 12.37it/s]\n"
     ]
    },
    {
     "name": "stdout",
     "output_type": "stream",
     "text": [
      "Epoch: 21, Train Loss: 26.6497205, Test Loss: 53.1427727\n"
     ]
    },
    {
     "name": "stderr",
     "output_type": "stream",
     "text": [
      "Training epoch 22: 100it [00:12,  7.84it/s]\n",
      "Testing epoch 22: 100it [00:07, 12.76it/s]\n"
     ]
    },
    {
     "name": "stdout",
     "output_type": "stream",
     "text": [
      "Epoch: 22, Train Loss: 25.3046938, Test Loss: 63.7640471\n"
     ]
    },
    {
     "name": "stderr",
     "output_type": "stream",
     "text": [
      "Training epoch 23: 100it [00:12,  7.92it/s]\n",
      "Testing epoch 23: 100it [00:08, 11.71it/s]\n"
     ]
    },
    {
     "name": "stdout",
     "output_type": "stream",
     "text": [
      "Epoch: 23, Train Loss: 29.5406842, Test Loss: 54.1442893\n"
     ]
    },
    {
     "name": "stderr",
     "output_type": "stream",
     "text": [
      "Training epoch 24: 100it [00:12,  7.78it/s]\n",
      "Testing epoch 24: 100it [00:08, 11.78it/s]"
     ]
    },
    {
     "name": "stdout",
     "output_type": "stream",
     "text": [
      "Epoch: 24, Train Loss: 25.5905694, Test Loss: 65.5652723\n"
     ]
    },
    {
     "name": "stderr",
     "output_type": "stream",
     "text": [
      "\n"
     ]
    }
   ],
   "source": [
    "print(\"Running training...\")\n",
    "device = torch.device(device_str)\n",
    "model = TemporalGNN(node_features=train_dataset[0].x.shape[1], periods=train_dataset[0].y.shape[1]).to(device)\n",
    "optimizer = torch.optim.Adam(model.parameters(), lr=learning_rate)\n",
    "loss_fn = torch.nn.L1Loss\n",
    "losses = train_test(model, device, train_dataset, test_dataset, optimizer, loss_fn, epochs=epochs, now=now)"
   ]
  },
  {
   "cell_type": "code",
   "execution_count": 26,
   "metadata": {},
   "outputs": [
    {
     "name": "stdout",
     "output_type": "stream",
     "text": [
      "([28.32147641479969, 28.830927565693855, 28.77938039600849, 27.73162615299225, 29.134823963046074, 28.567350551486015, 28.25940763950348, 29.70123991370201, 28.767260268330574, 29.72855842113495, 28.27664363384247, 28.33801744878292, 27.012702763080597, 24.53098814189434, 26.350863330066204, 26.27068467438221, 26.818450957536697, 30.3111976608634, 29.568652421236038, 29.032894492149353, 28.51838231086731, 26.649720519781113, 25.304693818092346, 29.54068424552679, 25.590569399297237], [53.387880086898804, 53.16044998168945, 53.94041621685028, 54.03003865480423, 54.03413638472557, 53.455528885126114, 52.44004997611046, 53.14899501204491, 52.64299312233925, 55.08010482788086, 55.75541067123413, 55.584750950336456, 53.87058472633362, 53.10187056660652, 55.33088222146034, 56.87403964996338, 56.39037698507309, 54.06712844967842, 54.12205395102501, 55.56235411763191, 53.82800829410553, 53.14277270436287, 63.764047145843506, 54.14428931474686, 65.5652723312378])\n"
     ]
    },
    {
     "name": "stderr",
     "output_type": "stream",
     "text": [
      "Evaluating: 1000it [01:29, 11.17it/s]"
     ]
    },
    {
     "name": "stdout",
     "output_type": "stream",
     "text": [
      "Loss all: 1.7337504\n",
      "Loss elementwise: [[1.8264438 1.910499  1.9089893 2.34431  ]\n",
      " [1.2350519 1.1781158 1.1964612 1.2133894]\n",
      " [1.2350519 1.1781158 1.1964612 1.2133894]\n",
      " [1.2350519 1.1781158 1.1964612 1.2133894]\n",
      " [1.2350519 1.1781158 1.1964612 1.2133894]\n",
      " [1.2350519 1.1781158 1.1964612 1.2133894]\n",
      " [1.2350519 1.1781158 1.1964612 1.2133894]\n",
      " [1.2459556 1.1895136 1.20825   1.2275467]\n",
      " [1.9770947 2.144172  2.302701  2.4157524]\n",
      " [1.193372  1.2228383 1.2419189 1.2864403]\n",
      " [1.1142725 1.182351  1.2504691 1.3010877]\n",
      " [1.2235099 1.3269868 1.44387   1.5313154]\n",
      " [1.9988277 2.2544105 2.422819  2.6233253]\n",
      " [1.2865878 1.3851172 1.5153363 1.6147095]\n",
      " [2.251656  2.511316  2.7086565 2.8444064]\n",
      " [1.2837005 1.3759886 1.5044025 1.6025378]\n",
      " [1.3216758 1.4354705 1.5749004 1.6808898]\n",
      " [1.5365175 1.4983807 1.5241097 1.6575949]\n",
      " [1.7785938 2.0137718 2.0231822 2.3108385]\n",
      " [0.9720015 0.9641293 1.0103028 1.0649099]\n",
      " [2.4104152 2.6584172 2.850805  2.9960706]\n",
      " [2.4188344 2.6657777 2.8554735 3.005189 ]\n",
      " [2.376253  2.6668367 2.8586524 2.9858656]\n",
      " [2.3046477 2.5537415 2.7551737 2.8841333]\n",
      " [1.1948382 1.1531214 1.1899157 1.2336825]\n",
      " [1.5222163 1.6537987 1.8059992 1.9231602]\n",
      " [1.1635107 1.1492283 1.2047045 1.2669337]\n",
      " [1.2516009 1.1797378 1.1763104 1.204709 ]\n",
      " [2.35555   2.583092  2.769821  2.9011562]\n",
      " [2.1188097 2.1643417 2.3013458 2.6744242]\n",
      " [2.338779  2.568592  2.7592254 2.8841338]\n",
      " [2.7170405 2.9694293 3.1690207 3.3009672]\n",
      " [1.5698953 1.6366255 1.7355423 2.0773094]\n",
      " [3.8526003 3.6527147 3.4538746 3.3684506]\n",
      " [1.0587482 1.026307  1.0710872 1.1239766]\n",
      " [2.3626194 2.165682  2.0177765 1.9540447]\n",
      " [2.2491558 2.3040025 2.060427  2.6927574]\n",
      " [2.2564225 2.4501395 2.6292477 2.7587655]\n",
      " [1.3549664 1.5232315 1.5162003 1.7586521]\n",
      " [2.141153  2.0118    1.9504803 1.8983504]\n",
      " [1.1713346 1.107571  1.1350411 1.1729555]\n",
      " [1.1003149 1.0892572 1.1490312 1.2060009]\n",
      " [2.0236895 2.2194777 2.361808  2.4473503]\n",
      " [1.2073483 1.1688313 1.2161161 1.2676148]\n",
      " [1.2453331 1.2010299 1.2362828 1.2841815]\n",
      " [1.5269276 1.3944906 1.3362043 1.2978568]\n",
      " [2.3672621 2.5578709 2.7271283 2.8618767]\n",
      " [2.1377184 1.9721018 1.8653934 1.8005937]\n",
      " [1.2236377 1.1553441 1.1743437 1.1988858]\n",
      " [1.2632709 1.2041534 1.2252574 1.2577055]\n",
      " [2.0893145 1.8877237 2.0104985 2.5426915]\n",
      " [1.3732202 1.3625251 1.4066612 1.4538035]\n",
      " [1.4890429 1.3853647 1.3758734 1.653028 ]\n",
      " [1.7808785 1.6179188 1.5244052 1.4599886]\n",
      " [1.8625934 1.6937572 1.5924547 1.5230291]\n",
      " [2.1546645 1.957243  1.8245649 1.7512556]\n",
      " [1.8160403 1.6511849 1.556828  1.4946878]\n",
      " [1.7454708 1.5961945 1.5182271 1.4600377]\n",
      " [2.2546816 2.4467924 2.6272016 2.7550797]\n",
      " [1.704984  1.8126857 1.9376758 2.0910668]\n",
      " [1.5464156 1.4015985 1.3518524 1.3211983]\n",
      " [2.2148383 2.0342994 1.9189575 1.8352389]\n",
      " [1.3666809 1.3442764 1.3989552 1.46014  ]\n",
      " [1.636019  1.4754311 1.41334   1.3787854]\n",
      " [1.4191808 1.3404934 1.3725704 1.4366724]\n",
      " [1.6707997 1.5872658 1.5714453 1.5562032]\n",
      " [1.5530651 1.4118885 1.3496838 1.3101606]\n",
      " [1.8950063 1.7173082 1.6114938 1.5397636]\n",
      " [2.283379  2.0960226 1.963117  1.9088204]\n",
      " [1.7174577 1.5381485 1.4512848 1.3893006]\n",
      " [1.3812151 1.2686746 1.2386559 1.2236081]\n",
      " [1.6988094 1.5450492 1.4681834 1.4216077]\n",
      " [1.4460514 1.3336992 1.3139716 1.2996551]\n",
      " [2.097716  1.9332029 1.8181739 1.750376 ]\n",
      " [1.4442266 1.3089957 1.2597418 1.2295871]\n",
      " [1.3895346 1.2702482 1.2285566 1.2066075]\n",
      " [1.4179306 1.303258  1.2706672 1.2628682]\n",
      " [1.4876499 1.3611648 1.3168981 1.2867681]\n",
      " [3.5056412 3.3034687 3.127112  3.0222244]\n",
      " [1.6441159 1.5086584 1.4459145 1.4006969]\n",
      " [1.7997725 1.636229  1.5432758 1.4813412]\n",
      " [2.0814662 1.8950891 1.764186  1.6758801]\n",
      " [1.3829042 1.2658789 1.2390622 1.2301497]\n",
      " [2.1154351 1.9276245 1.7982582 1.7143224]\n",
      " [2.3460004 2.1392388 1.991057  1.9079638]\n",
      " [2.3780866 2.1816025 2.0357907 1.9573563]\n",
      " [1.6075321 1.4566681 1.3854568 1.3493564]\n",
      " [1.6530743 1.5164716 1.4525282 1.4041576]\n",
      " [1.4382634 1.3111593 1.2697797 1.2458788]\n",
      " [1.4891834 1.3513087 1.2984762 1.2679971]\n",
      " [2.790657  2.5804632 2.4138696 2.3100555]\n",
      " [1.8366984 1.6927205 1.6154816 1.5576831]\n",
      " [1.814461  1.6380671 1.5308249 1.4606162]\n",
      " [2.2779815 2.0878842 1.9456093 1.8479246]\n",
      " [1.9348375 1.75547   1.6346916 1.5528454]\n",
      " [1.9104247 1.7317615 1.6135594 1.534182 ]\n",
      " [1.4008108 1.2804159 1.2463602 1.2300029]\n",
      " [2.0613322 1.9084597 1.8185511 1.7491357]\n",
      " [1.9477464 1.8024715 1.7200613 1.6611931]\n",
      " [1.8795879 1.701592  1.5842047 1.5065728]\n",
      " [1.3204415 1.1930643 1.167332  1.1346956]\n",
      " [2.0701118 1.9211538 1.8317899 1.7644039]\n",
      " [1.9433075 1.8023218 1.7232693 1.6662198]\n",
      " [1.8995986 1.7257617 1.611264  1.5387688]\n",
      " [1.9683644 1.7898123 1.6717442 1.6017317]\n",
      " [2.5816674 2.839026  3.0313754 3.1812491]\n",
      " [2.2835124 2.101213  1.9650847 1.8714771]\n",
      " [2.4473608 2.7044494 2.906375  3.0280204]\n",
      " [1.4731877 1.2753315 1.1802738 1.2123892]\n",
      " [1.2582241 1.1787485 1.1898288 1.2228073]\n",
      " [1.2102641 1.1284796 1.1385231 1.1738318]\n",
      " [1.4381102 1.2823874 1.2436678 1.2366794]\n",
      " [1.2618277 1.1805146 1.1896722 1.2249748]]\n"
     ]
    },
    {
     "name": "stderr",
     "output_type": "stream",
     "text": [
      "\n"
     ]
    }
   ],
   "source": [
    "print(losses)\n",
    "\n",
    "std = loader.mean_and_std[\"measurements\"][1][\"voltage\"]\n",
    "\n",
    "#read saved model\n",
    "model.load_state_dict(torch.load(f\"../models/A3TGCN_{now}_{trafo_id}_epochs-{epochs}_in-{num_timesteps_in}_out-{num_timesteps_out}_train-ratio-{train_ratio}_lr-{learning_rate}.pt\"))\n",
    "\n",
    "loss_all, loss_elementwise = eval(model, eval_dataset, device, loss_fn, std)\n",
    "\n",
    "print(\"Loss all: {:.7f}\".format(loss_all))\n",
    "print(\"Loss elementwise: {}\".format(loss_elementwise))"
   ]
  },
  {
   "cell_type": "code",
   "execution_count": null,
   "metadata": {},
   "outputs": [],
   "source": []
  },
  {
   "cell_type": "code",
   "execution_count": null,
   "metadata": {},
   "outputs": [],
   "source": []
  }
 ],
 "metadata": {
  "kernelspec": {
   "display_name": "Python 3",
   "language": "python",
   "name": "python3"
  },
  "language_info": {
   "codemirror_mode": {
    "name": "ipython",
    "version": 3
   },
   "file_extension": ".py",
   "mimetype": "text/x-python",
   "name": "python",
   "nbconvert_exporter": "python",
   "pygments_lexer": "ipython3",
   "version": "3.10.13"
  }
 },
 "nbformat": 4,
 "nbformat_minor": 2
}
