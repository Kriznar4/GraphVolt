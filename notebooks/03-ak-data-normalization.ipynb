{
 "cells": [
  {
   "cell_type": "code",
   "execution_count": 1,
   "metadata": {},
   "outputs": [],
   "source": [
    "import pandas as pd\n",
    "import sys\n",
    "sys.path.append(\"../src/utils\")\n",
    "from utils import *"
   ]
  },
  {
   "cell_type": "code",
   "execution_count": 2,
   "metadata": {},
   "outputs": [],
   "source": [
    "trafo_id = \"T1330\" #T1330 T0932\n",
    "data = read_and_prepare_data(trafo_id, depth=1)"
   ]
  },
  {
   "cell_type": "code",
   "execution_count": 3,
   "metadata": {},
   "outputs": [
    {
     "data": {
      "text/plain": [
       "dict_keys(['edges_static_data', 'measurements'])"
      ]
     },
     "execution_count": 3,
     "metadata": {},
     "output_type": "execute_result"
    }
   ],
   "source": [
    "data.keys()"
   ]
  },
  {
   "cell_type": "code",
   "execution_count": 4,
   "metadata": {},
   "outputs": [
    {
     "data": {
      "text/html": [
       "<div>\n",
       "<style scoped>\n",
       "    .dataframe tbody tr th:only-of-type {\n",
       "        vertical-align: middle;\n",
       "    }\n",
       "\n",
       "    .dataframe tbody tr th {\n",
       "        vertical-align: top;\n",
       "    }\n",
       "\n",
       "    .dataframe thead th {\n",
       "        text-align: right;\n",
       "    }\n",
       "</style>\n",
       "<table border=\"1\" class=\"dataframe\">\n",
       "  <thead>\n",
       "    <tr style=\"text-align: right;\">\n",
       "      <th></th>\n",
       "      <th>from_node_id</th>\n",
       "      <th>to_node_id</th>\n",
       "      <th>length_km</th>\n",
       "      <th>r_ohm_per_km</th>\n",
       "      <th>x_ohm_per_km</th>\n",
       "      <th>max_i_ka</th>\n",
       "      <th>d_mm2</th>\n",
       "    </tr>\n",
       "  </thead>\n",
       "  <tbody>\n",
       "    <tr>\n",
       "      <th>0</th>\n",
       "      <td>94</td>\n",
       "      <td>110</td>\n",
       "      <td>0.055</td>\n",
       "      <td>0.533</td>\n",
       "      <td>0.079</td>\n",
       "      <td>0.176</td>\n",
       "      <td>70.0</td>\n",
       "    </tr>\n",
       "    <tr>\n",
       "      <th>1</th>\n",
       "      <td>100</td>\n",
       "      <td>110</td>\n",
       "      <td>0.037</td>\n",
       "      <td>0.533</td>\n",
       "      <td>0.079</td>\n",
       "      <td>0.176</td>\n",
       "      <td>70.0</td>\n",
       "    </tr>\n",
       "    <tr>\n",
       "      <th>2</th>\n",
       "      <td>103</td>\n",
       "      <td>110</td>\n",
       "      <td>0.038</td>\n",
       "      <td>1.040</td>\n",
       "      <td>0.081</td>\n",
       "      <td>0.120</td>\n",
       "      <td>35.0</td>\n",
       "    </tr>\n",
       "    <tr>\n",
       "      <th>3</th>\n",
       "      <td>103</td>\n",
       "      <td>104</td>\n",
       "      <td>0.035</td>\n",
       "      <td>0.627</td>\n",
       "      <td>0.081</td>\n",
       "      <td>0.159</td>\n",
       "      <td>35.0</td>\n",
       "    </tr>\n",
       "    <tr>\n",
       "      <th>4</th>\n",
       "      <td>6</td>\n",
       "      <td>7</td>\n",
       "      <td>0.092</td>\n",
       "      <td>0.533</td>\n",
       "      <td>0.079</td>\n",
       "      <td>0.176</td>\n",
       "      <td>70.0</td>\n",
       "    </tr>\n",
       "  </tbody>\n",
       "</table>\n",
       "</div>"
      ],
      "text/plain": [
       "   from_node_id  to_node_id  length_km  r_ohm_per_km  x_ohm_per_km  max_i_ka  \\\n",
       "0            94         110      0.055         0.533         0.079     0.176   \n",
       "1           100         110      0.037         0.533         0.079     0.176   \n",
       "2           103         110      0.038         1.040         0.081     0.120   \n",
       "3           103         104      0.035         0.627         0.081     0.159   \n",
       "4             6           7      0.092         0.533         0.079     0.176   \n",
       "\n",
       "   d_mm2  \n",
       "0   70.0  \n",
       "1   70.0  \n",
       "2   35.0  \n",
       "3   35.0  \n",
       "4   70.0  "
      ]
     },
     "execution_count": 4,
     "metadata": {},
     "output_type": "execute_result"
    }
   ],
   "source": [
    "data['edges_static_data'].head()"
   ]
  },
  {
   "cell_type": "code",
   "execution_count": 5,
   "metadata": {},
   "outputs": [
    {
     "data": {
      "text/plain": [
       "Index(['from_node_id', 'to_node_id', 'length_km', 'r_ohm_per_km',\n",
       "       'x_ohm_per_km', 'max_i_ka', 'd_mm2'],\n",
       "      dtype='object')"
      ]
     },
     "execution_count": 5,
     "metadata": {},
     "output_type": "execute_result"
    }
   ],
   "source": [
    "data['edges_static_data'].columns"
   ]
  },
  {
   "cell_type": "code",
   "execution_count": 6,
   "metadata": {},
   "outputs": [
    {
     "data": {
      "text/html": [
       "<div>\n",
       "<style scoped>\n",
       "    .dataframe tbody tr th:only-of-type {\n",
       "        vertical-align: middle;\n",
       "    }\n",
       "\n",
       "    .dataframe tbody tr th {\n",
       "        vertical-align: top;\n",
       "    }\n",
       "\n",
       "    .dataframe thead th {\n",
       "        text-align: right;\n",
       "    }\n",
       "</style>\n",
       "<table border=\"1\" class=\"dataframe\">\n",
       "  <thead>\n",
       "    <tr style=\"text-align: right;\">\n",
       "      <th></th>\n",
       "      <th>node_id</th>\n",
       "      <th>power_production</th>\n",
       "      <th>power_consumption</th>\n",
       "      <th>PMO</th>\n",
       "      <th>TR</th>\n",
       "      <th>junction</th>\n",
       "      <th>date_time</th>\n",
       "      <th>voltage</th>\n",
       "      <th>temperature_2m</th>\n",
       "      <th>snow_depth</th>\n",
       "      <th>...</th>\n",
       "      <th>direct_radiation</th>\n",
       "      <th>diffuse_radiation</th>\n",
       "      <th>direct_normal_irradiance</th>\n",
       "      <th>active_power</th>\n",
       "      <th>reactive_power</th>\n",
       "      <th>year</th>\n",
       "      <th>month</th>\n",
       "      <th>day</th>\n",
       "      <th>hour</th>\n",
       "      <th>minute</th>\n",
       "    </tr>\n",
       "  </thead>\n",
       "  <tbody>\n",
       "    <tr>\n",
       "      <th>0</th>\n",
       "      <td>0</td>\n",
       "      <td>0.0</td>\n",
       "      <td>0.0</td>\n",
       "      <td>0</td>\n",
       "      <td>1</td>\n",
       "      <td>0</td>\n",
       "      <td>2021-06-01 00:00:00</td>\n",
       "      <td>234.257778</td>\n",
       "      <td>10.065499</td>\n",
       "      <td>0.0</td>\n",
       "      <td>...</td>\n",
       "      <td>0.0</td>\n",
       "      <td>0.0</td>\n",
       "      <td>0.0</td>\n",
       "      <td>152100.000000</td>\n",
       "      <td>23600.000000</td>\n",
       "      <td>2021</td>\n",
       "      <td>6</td>\n",
       "      <td>1</td>\n",
       "      <td>0</td>\n",
       "      <td>0</td>\n",
       "    </tr>\n",
       "    <tr>\n",
       "      <th>1</th>\n",
       "      <td>0</td>\n",
       "      <td>0.0</td>\n",
       "      <td>0.0</td>\n",
       "      <td>0</td>\n",
       "      <td>1</td>\n",
       "      <td>0</td>\n",
       "      <td>2021-06-01 00:15:00</td>\n",
       "      <td>234.101111</td>\n",
       "      <td>9.965500</td>\n",
       "      <td>0.0</td>\n",
       "      <td>...</td>\n",
       "      <td>0.0</td>\n",
       "      <td>0.0</td>\n",
       "      <td>0.0</td>\n",
       "      <td>129466.666667</td>\n",
       "      <td>19766.666667</td>\n",
       "      <td>2021</td>\n",
       "      <td>6</td>\n",
       "      <td>1</td>\n",
       "      <td>0</td>\n",
       "      <td>15</td>\n",
       "    </tr>\n",
       "    <tr>\n",
       "      <th>2</th>\n",
       "      <td>0</td>\n",
       "      <td>0.0</td>\n",
       "      <td>0.0</td>\n",
       "      <td>0</td>\n",
       "      <td>1</td>\n",
       "      <td>0</td>\n",
       "      <td>2021-06-01 00:30:00</td>\n",
       "      <td>234.752222</td>\n",
       "      <td>9.865500</td>\n",
       "      <td>0.0</td>\n",
       "      <td>...</td>\n",
       "      <td>0.0</td>\n",
       "      <td>0.0</td>\n",
       "      <td>0.0</td>\n",
       "      <td>126266.666667</td>\n",
       "      <td>20233.333333</td>\n",
       "      <td>2021</td>\n",
       "      <td>6</td>\n",
       "      <td>1</td>\n",
       "      <td>0</td>\n",
       "      <td>30</td>\n",
       "    </tr>\n",
       "    <tr>\n",
       "      <th>3</th>\n",
       "      <td>0</td>\n",
       "      <td>0.0</td>\n",
       "      <td>0.0</td>\n",
       "      <td>0</td>\n",
       "      <td>1</td>\n",
       "      <td>0</td>\n",
       "      <td>2021-06-01 00:45:00</td>\n",
       "      <td>232.908889</td>\n",
       "      <td>9.765499</td>\n",
       "      <td>0.0</td>\n",
       "      <td>...</td>\n",
       "      <td>0.0</td>\n",
       "      <td>0.0</td>\n",
       "      <td>0.0</td>\n",
       "      <td>116766.666667</td>\n",
       "      <td>14400.000000</td>\n",
       "      <td>2021</td>\n",
       "      <td>6</td>\n",
       "      <td>1</td>\n",
       "      <td>0</td>\n",
       "      <td>45</td>\n",
       "    </tr>\n",
       "    <tr>\n",
       "      <th>4</th>\n",
       "      <td>0</td>\n",
       "      <td>0.0</td>\n",
       "      <td>0.0</td>\n",
       "      <td>0</td>\n",
       "      <td>1</td>\n",
       "      <td>0</td>\n",
       "      <td>2021-06-01 01:00:00</td>\n",
       "      <td>232.536667</td>\n",
       "      <td>9.665500</td>\n",
       "      <td>0.0</td>\n",
       "      <td>...</td>\n",
       "      <td>0.0</td>\n",
       "      <td>0.0</td>\n",
       "      <td>0.0</td>\n",
       "      <td>121866.666667</td>\n",
       "      <td>17600.000000</td>\n",
       "      <td>2021</td>\n",
       "      <td>6</td>\n",
       "      <td>1</td>\n",
       "      <td>1</td>\n",
       "      <td>0</td>\n",
       "    </tr>\n",
       "  </tbody>\n",
       "</table>\n",
       "<p>5 rows × 23 columns</p>\n",
       "</div>"
      ],
      "text/plain": [
       "   node_id  power_production  power_consumption  PMO  TR  junction  \\\n",
       "0        0               0.0                0.0    0   1         0   \n",
       "1        0               0.0                0.0    0   1         0   \n",
       "2        0               0.0                0.0    0   1         0   \n",
       "3        0               0.0                0.0    0   1         0   \n",
       "4        0               0.0                0.0    0   1         0   \n",
       "\n",
       "             date_time     voltage  temperature_2m  snow_depth  ...  \\\n",
       "0  2021-06-01 00:00:00  234.257778       10.065499         0.0  ...   \n",
       "1  2021-06-01 00:15:00  234.101111        9.965500         0.0  ...   \n",
       "2  2021-06-01 00:30:00  234.752222        9.865500         0.0  ...   \n",
       "3  2021-06-01 00:45:00  232.908889        9.765499         0.0  ...   \n",
       "4  2021-06-01 01:00:00  232.536667        9.665500         0.0  ...   \n",
       "\n",
       "   direct_radiation  diffuse_radiation  direct_normal_irradiance  \\\n",
       "0               0.0                0.0                       0.0   \n",
       "1               0.0                0.0                       0.0   \n",
       "2               0.0                0.0                       0.0   \n",
       "3               0.0                0.0                       0.0   \n",
       "4               0.0                0.0                       0.0   \n",
       "\n",
       "    active_power  reactive_power  year  month  day  hour  minute  \n",
       "0  152100.000000    23600.000000  2021      6    1     0       0  \n",
       "1  129466.666667    19766.666667  2021      6    1     0      15  \n",
       "2  126266.666667    20233.333333  2021      6    1     0      30  \n",
       "3  116766.666667    14400.000000  2021      6    1     0      45  \n",
       "4  121866.666667    17600.000000  2021      6    1     1       0  \n",
       "\n",
       "[5 rows x 23 columns]"
      ]
     },
     "execution_count": 6,
     "metadata": {},
     "output_type": "execute_result"
    }
   ],
   "source": [
    "data['measurements'].head()"
   ]
  },
  {
   "cell_type": "code",
   "execution_count": 7,
   "metadata": {},
   "outputs": [
    {
     "data": {
      "text/plain": [
       "1852.978493741347"
      ]
     },
     "execution_count": 7,
     "metadata": {},
     "output_type": "execute_result"
    }
   ],
   "source": [
    "np.mean(data['measurements']['active_power'])"
   ]
  },
  {
   "cell_type": "code",
   "execution_count": 8,
   "metadata": {},
   "outputs": [
    {
     "data": {
      "text/plain": [
       "Index(['node_id', 'power_production', 'power_consumption', 'PMO', 'TR',\n",
       "       'junction', 'date_time', 'voltage', 'temperature_2m', 'snow_depth',\n",
       "       'cloud_cover', 'is_day', 'shortwave_radiation', 'direct_radiation',\n",
       "       'diffuse_radiation', 'direct_normal_irradiance', 'active_power',\n",
       "       'reactive_power', 'year', 'month', 'day', 'hour', 'minute'],\n",
       "      dtype='object')"
      ]
     },
     "execution_count": 8,
     "metadata": {},
     "output_type": "execute_result"
    }
   ],
   "source": [
    "#print column names of measurements\n",
    "columns = data['measurements'].columns\n",
    "\n",
    "columns"
   ]
  },
  {
   "cell_type": "code",
   "execution_count": 9,
   "metadata": {},
   "outputs": [
    {
     "data": {
      "text/plain": [
       "['power_production',\n",
       " 'power_consumption',\n",
       " 'voltage',\n",
       " 'temperature_2m',\n",
       " 'snow_depth',\n",
       " 'cloud_cover',\n",
       " 'is_day',\n",
       " 'shortwave_radiation',\n",
       " 'direct_radiation',\n",
       " 'diffuse_radiation',\n",
       " 'direct_normal_irradiance',\n",
       " 'active_power',\n",
       " 'reactive_power',\n",
       " 'year',\n",
       " 'month',\n",
       " 'day',\n",
       " 'hour',\n",
       " 'minute']"
      ]
     },
     "execution_count": 9,
     "metadata": {},
     "output_type": "execute_result"
    }
   ],
   "source": [
    "column_list = [i for i in list(columns) if i not in ['node_id', 'PMO', 'TR', 'junction', 'date_time']]\n",
    "column_list"
   ]
  },
  {
   "cell_type": "code",
   "execution_count": 10,
   "metadata": {},
   "outputs": [],
   "source": [
    "data_normalize = data['measurements'][column_list]"
   ]
  },
  {
   "cell_type": "code",
   "execution_count": 11,
   "metadata": {},
   "outputs": [],
   "source": [
    "mean_m = data_normalize.mean()"
   ]
  },
  {
   "cell_type": "code",
   "execution_count": 12,
   "metadata": {},
   "outputs": [
    {
     "data": {
      "text/plain": [
       "power_production              22.008850\n",
       "power_consumption              0.840708\n",
       "voltage                      230.208673\n",
       "temperature_2m                10.835699\n",
       "snow_depth                     0.029408\n",
       "cloud_cover                   49.902385\n",
       "is_day                         0.496662\n",
       "shortwave_radiation          150.094356\n",
       "direct_radiation              93.548606\n",
       "diffuse_radiation             56.545751\n",
       "direct_normal_irradiance     170.165771\n",
       "active_power                1852.978494\n",
       "reactive_power               346.405824\n",
       "year                        2021.913699\n",
       "month                          6.526027\n",
       "day                           15.720548\n",
       "hour                          11.500000\n",
       "minute                        22.500000\n",
       "dtype: float64"
      ]
     },
     "execution_count": 12,
     "metadata": {},
     "output_type": "execute_result"
    }
   ],
   "source": [
    "mean_m"
   ]
  },
  {
   "cell_type": "code",
   "execution_count": 13,
   "metadata": {},
   "outputs": [],
   "source": [
    "std_m = data_normalize.std()"
   ]
  },
  {
   "cell_type": "code",
   "execution_count": 14,
   "metadata": {},
   "outputs": [
    {
     "data": {
      "text/plain": [
       "power_production               32.863220\n",
       "power_consumption               3.981298\n",
       "voltage                         4.646129\n",
       "temperature_2m                  8.760929\n",
       "snow_depth                      0.078731\n",
       "cloud_cover                    37.191024\n",
       "is_day                          0.499988\n",
       "shortwave_radiation           222.949413\n",
       "direct_radiation              166.088653\n",
       "diffuse_radiation              74.543393\n",
       "direct_normal_irradiance      249.456885\n",
       "active_power                20738.635005\n",
       "reactive_power               4377.826245\n",
       "year                            0.701821\n",
       "month                           3.447852\n",
       "day                             8.796248\n",
       "hour                            6.922187\n",
       "minute                         16.770511\n",
       "dtype: float64"
      ]
     },
     "execution_count": 14,
     "metadata": {},
     "output_type": "execute_result"
    }
   ],
   "source": [
    "std_m"
   ]
  },
  {
   "cell_type": "code",
   "execution_count": 15,
   "metadata": {},
   "outputs": [],
   "source": [
    "for column in column_list:\n",
    "    data_new = (data['measurements'][column] - mean_m[column]) / std_m[column]\n",
    "    data['measurements'][column] = data_new"
   ]
  },
  {
   "cell_type": "code",
   "execution_count": 16,
   "metadata": {},
   "outputs": [
    {
     "data": {
      "text/html": [
       "<div>\n",
       "<style scoped>\n",
       "    .dataframe tbody tr th:only-of-type {\n",
       "        vertical-align: middle;\n",
       "    }\n",
       "\n",
       "    .dataframe tbody tr th {\n",
       "        vertical-align: top;\n",
       "    }\n",
       "\n",
       "    .dataframe thead th {\n",
       "        text-align: right;\n",
       "    }\n",
       "</style>\n",
       "<table border=\"1\" class=\"dataframe\">\n",
       "  <thead>\n",
       "    <tr style=\"text-align: right;\">\n",
       "      <th></th>\n",
       "      <th>node_id</th>\n",
       "      <th>power_production</th>\n",
       "      <th>power_consumption</th>\n",
       "      <th>PMO</th>\n",
       "      <th>TR</th>\n",
       "      <th>junction</th>\n",
       "      <th>date_time</th>\n",
       "      <th>voltage</th>\n",
       "      <th>temperature_2m</th>\n",
       "      <th>snow_depth</th>\n",
       "      <th>...</th>\n",
       "      <th>direct_radiation</th>\n",
       "      <th>diffuse_radiation</th>\n",
       "      <th>direct_normal_irradiance</th>\n",
       "      <th>active_power</th>\n",
       "      <th>reactive_power</th>\n",
       "      <th>year</th>\n",
       "      <th>month</th>\n",
       "      <th>day</th>\n",
       "      <th>hour</th>\n",
       "      <th>minute</th>\n",
       "    </tr>\n",
       "  </thead>\n",
       "  <tbody>\n",
       "    <tr>\n",
       "      <th>0</th>\n",
       "      <td>0</td>\n",
       "      <td>-0.669711</td>\n",
       "      <td>-0.211164</td>\n",
       "      <td>0</td>\n",
       "      <td>1</td>\n",
       "      <td>0</td>\n",
       "      <td>2021-06-01 00:00:00</td>\n",
       "      <td>0.871501</td>\n",
       "      <td>-0.087913</td>\n",
       "      <td>-0.373525</td>\n",
       "      <td>...</td>\n",
       "      <td>-0.563245</td>\n",
       "      <td>-0.758562</td>\n",
       "      <td>-0.682145</td>\n",
       "      <td>7.244788</td>\n",
       "      <td>5.311676</td>\n",
       "      <td>-1.301898</td>\n",
       "      <td>-0.152567</td>\n",
       "      <td>-1.673503</td>\n",
       "      <td>-1.661325</td>\n",
       "      <td>-1.341641</td>\n",
       "    </tr>\n",
       "    <tr>\n",
       "      <th>1</th>\n",
       "      <td>0</td>\n",
       "      <td>-0.669711</td>\n",
       "      <td>-0.211164</td>\n",
       "      <td>0</td>\n",
       "      <td>1</td>\n",
       "      <td>0</td>\n",
       "      <td>2021-06-01 00:15:00</td>\n",
       "      <td>0.837781</td>\n",
       "      <td>-0.099327</td>\n",
       "      <td>-0.373525</td>\n",
       "      <td>...</td>\n",
       "      <td>-0.563245</td>\n",
       "      <td>-0.758562</td>\n",
       "      <td>-0.682145</td>\n",
       "      <td>6.153428</td>\n",
       "      <td>4.436051</td>\n",
       "      <td>-1.301898</td>\n",
       "      <td>-0.152567</td>\n",
       "      <td>-1.673503</td>\n",
       "      <td>-1.661325</td>\n",
       "      <td>-0.447214</td>\n",
       "    </tr>\n",
       "    <tr>\n",
       "      <th>2</th>\n",
       "      <td>0</td>\n",
       "      <td>-0.669711</td>\n",
       "      <td>-0.211164</td>\n",
       "      <td>0</td>\n",
       "      <td>1</td>\n",
       "      <td>0</td>\n",
       "      <td>2021-06-01 00:30:00</td>\n",
       "      <td>0.977922</td>\n",
       "      <td>-0.110742</td>\n",
       "      <td>-0.373525</td>\n",
       "      <td>...</td>\n",
       "      <td>-0.563245</td>\n",
       "      <td>-0.758562</td>\n",
       "      <td>-0.682145</td>\n",
       "      <td>5.999126</td>\n",
       "      <td>4.542649</td>\n",
       "      <td>-1.301898</td>\n",
       "      <td>-0.152567</td>\n",
       "      <td>-1.673503</td>\n",
       "      <td>-1.661325</td>\n",
       "      <td>0.447214</td>\n",
       "    </tr>\n",
       "    <tr>\n",
       "      <th>3</th>\n",
       "      <td>0</td>\n",
       "      <td>-0.669711</td>\n",
       "      <td>-0.211164</td>\n",
       "      <td>0</td>\n",
       "      <td>1</td>\n",
       "      <td>0</td>\n",
       "      <td>2021-06-01 00:45:00</td>\n",
       "      <td>0.581175</td>\n",
       "      <td>-0.122156</td>\n",
       "      <td>-0.373525</td>\n",
       "      <td>...</td>\n",
       "      <td>-0.563245</td>\n",
       "      <td>-0.758562</td>\n",
       "      <td>-0.682145</td>\n",
       "      <td>5.541044</td>\n",
       "      <td>3.210176</td>\n",
       "      <td>-1.301898</td>\n",
       "      <td>-0.152567</td>\n",
       "      <td>-1.673503</td>\n",
       "      <td>-1.661325</td>\n",
       "      <td>1.341641</td>\n",
       "    </tr>\n",
       "    <tr>\n",
       "      <th>4</th>\n",
       "      <td>0</td>\n",
       "      <td>-0.669711</td>\n",
       "      <td>-0.211164</td>\n",
       "      <td>0</td>\n",
       "      <td>1</td>\n",
       "      <td>0</td>\n",
       "      <td>2021-06-01 01:00:00</td>\n",
       "      <td>0.501061</td>\n",
       "      <td>-0.133570</td>\n",
       "      <td>-0.373525</td>\n",
       "      <td>...</td>\n",
       "      <td>-0.563245</td>\n",
       "      <td>-0.758562</td>\n",
       "      <td>-0.682145</td>\n",
       "      <td>5.786962</td>\n",
       "      <td>3.941133</td>\n",
       "      <td>-1.301898</td>\n",
       "      <td>-0.152567</td>\n",
       "      <td>-1.673503</td>\n",
       "      <td>-1.516862</td>\n",
       "      <td>-1.341641</td>\n",
       "    </tr>\n",
       "  </tbody>\n",
       "</table>\n",
       "<p>5 rows × 23 columns</p>\n",
       "</div>"
      ],
      "text/plain": [
       "   node_id  power_production  power_consumption  PMO  TR  junction  \\\n",
       "0        0         -0.669711          -0.211164    0   1         0   \n",
       "1        0         -0.669711          -0.211164    0   1         0   \n",
       "2        0         -0.669711          -0.211164    0   1         0   \n",
       "3        0         -0.669711          -0.211164    0   1         0   \n",
       "4        0         -0.669711          -0.211164    0   1         0   \n",
       "\n",
       "             date_time   voltage  temperature_2m  snow_depth  ...  \\\n",
       "0  2021-06-01 00:00:00  0.871501       -0.087913   -0.373525  ...   \n",
       "1  2021-06-01 00:15:00  0.837781       -0.099327   -0.373525  ...   \n",
       "2  2021-06-01 00:30:00  0.977922       -0.110742   -0.373525  ...   \n",
       "3  2021-06-01 00:45:00  0.581175       -0.122156   -0.373525  ...   \n",
       "4  2021-06-01 01:00:00  0.501061       -0.133570   -0.373525  ...   \n",
       "\n",
       "   direct_radiation  diffuse_radiation  direct_normal_irradiance  \\\n",
       "0         -0.563245          -0.758562                 -0.682145   \n",
       "1         -0.563245          -0.758562                 -0.682145   \n",
       "2         -0.563245          -0.758562                 -0.682145   \n",
       "3         -0.563245          -0.758562                 -0.682145   \n",
       "4         -0.563245          -0.758562                 -0.682145   \n",
       "\n",
       "   active_power  reactive_power      year     month       day      hour  \\\n",
       "0      7.244788        5.311676 -1.301898 -0.152567 -1.673503 -1.661325   \n",
       "1      6.153428        4.436051 -1.301898 -0.152567 -1.673503 -1.661325   \n",
       "2      5.999126        4.542649 -1.301898 -0.152567 -1.673503 -1.661325   \n",
       "3      5.541044        3.210176 -1.301898 -0.152567 -1.673503 -1.661325   \n",
       "4      5.786962        3.941133 -1.301898 -0.152567 -1.673503 -1.516862   \n",
       "\n",
       "     minute  \n",
       "0 -1.341641  \n",
       "1 -0.447214  \n",
       "2  0.447214  \n",
       "3  1.341641  \n",
       "4 -1.341641  \n",
       "\n",
       "[5 rows x 23 columns]"
      ]
     },
     "execution_count": 16,
     "metadata": {},
     "output_type": "execute_result"
    }
   ],
   "source": [
    "data['measurements'].head()"
   ]
  },
  {
   "cell_type": "code",
   "execution_count": 22,
   "metadata": {},
   "outputs": [],
   "source": [
    "def normalize_data(data, column_list):\n",
    "    \n",
    "    # columns_replace = [i for i in list(columns) if i not in column_list]\n",
    "    data_normalize = data.drop(columns=column_list)\n",
    "    \n",
    "    mean = data_normalize.mean()\n",
    "    std = data_normalize.std()\n",
    "    \n",
    "    for column in data_normalize.columns:\n",
    "        data_new = (data[column] - mean[column]) / std[column]\n",
    "        data[column] = data_new\n",
    "        \n",
    "    return data, (mean, std)"
   ]
  },
  {
   "cell_type": "code",
   "execution_count": 23,
   "metadata": {},
   "outputs": [],
   "source": [
    "from copy import deepcopy\n",
    "data_normalized = deepcopy(data)\n",
    "data_normalized['measurements'] = normalize_data(data_normalized['measurements'], ['node_id', 'PMO', 'TR', 'junction', 'date_time'])\n",
    "data_normalized['edges_static_data'] = normalize_data(data_normalized['edges_static_data'], ['from_node_id', 'to_node_id'])"
   ]
  },
  {
   "cell_type": "code",
   "execution_count": 27,
   "metadata": {},
   "outputs": [
    {
     "data": {
      "text/plain": [
       "node_id                                       0\n",
       "power_production                      -0.669711\n",
       "power_consumption                     -0.211164\n",
       "PMO                                           0\n",
       "TR                                            0\n",
       "junction                                      0\n",
       "date_time                   2021-06-01 00:00:00\n",
       "voltage                              -49.548493\n",
       "temperature_2m                        -2.746421\n",
       "snow_depth                            -0.373525\n",
       "cloud_cover                           -1.341786\n",
       "is_day                                -0.993346\n",
       "shortwave_radiation                   -0.673222\n",
       "direct_radiation                      -0.563245\n",
       "diffuse_radiation                     -0.758562\n",
       "direct_normal_irradiance              -0.682145\n",
       "active_power                          -0.090799\n",
       "reactive_power                        -6.566365\n",
       "year                                  -1.301898\n",
       "month                                 -1.602745\n",
       "day                                   -1.673503\n",
       "hour                                  -1.661325\n",
       "minute                                -1.341641\n",
       "dtype: object"
      ]
     },
     "execution_count": 27,
     "metadata": {},
     "output_type": "execute_result"
    }
   ],
   "source": [
    "data_normalized['measurements'].min()"
   ]
  },
  {
   "cell_type": "code",
   "execution_count": 28,
   "metadata": {},
   "outputs": [
    {
     "data": {
      "text/plain": [
       "node_id                                     112\n",
       "power_production                       8.489465\n",
       "power_consumption                       8.07759\n",
       "PMO                                           1\n",
       "TR                                            1\n",
       "junction                                      1\n",
       "date_time                   2023-05-31 23:45:00\n",
       "voltage                                2.186335\n",
       "temperature_2m                         2.976831\n",
       "snow_depth                             5.469126\n",
       "cloud_cover                            1.347035\n",
       "is_day                                   1.0067\n",
       "shortwave_radiation                    3.462246\n",
       "direct_radiation                       4.127021\n",
       "diffuse_radiation                      4.755006\n",
       "direct_normal_irradiance               3.052212\n",
       "active_power                          23.189264\n",
       "reactive_power                        26.258145\n",
       "year                                   1.547833\n",
       "month                                  1.587647\n",
       "day                                    1.737042\n",
       "hour                                   1.661325\n",
       "minute                                 1.341641\n",
       "dtype: object"
      ]
     },
     "execution_count": 28,
     "metadata": {},
     "output_type": "execute_result"
    }
   ],
   "source": [
    "data_normalized['measurements'].max()"
   ]
  },
  {
   "cell_type": "code",
   "execution_count": 20,
   "metadata": {},
   "outputs": [
    {
     "data": {
      "text/plain": [
       "0      0.055\n",
       "1      0.037\n",
       "2      0.038\n",
       "3      0.035\n",
       "4      0.092\n",
       "       ...  \n",
       "109    0.237\n",
       "110    0.230\n",
       "111    0.187\n",
       "112    0.006\n",
       "113    0.006\n",
       "Name: length_km, Length: 114, dtype: float64"
      ]
     },
     "execution_count": 20,
     "metadata": {},
     "output_type": "execute_result"
    }
   ],
   "source": [
    "data['edges_static_data']['length_km']"
   ]
  },
  {
   "cell_type": "code",
   "execution_count": null,
   "metadata": {},
   "outputs": [],
   "source": []
  }
 ],
 "metadata": {
  "kernelspec": {
   "display_name": "Python 3",
   "language": "python",
   "name": "python3"
  },
  "language_info": {
   "codemirror_mode": {
    "name": "ipython",
    "version": 3
   },
   "file_extension": ".py",
   "mimetype": "text/x-python",
   "name": "python",
   "nbconvert_exporter": "python",
   "pygments_lexer": "ipython3",
   "version": "3.9.18"
  }
 },
 "nbformat": 4,
 "nbformat_minor": 2
}
