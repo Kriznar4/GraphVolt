{
 "cells": [
  {
   "cell_type": "code",
   "execution_count": 2,
   "metadata": {},
   "outputs": [],
   "source": [
    "import pandas as pd\n",
    "import numpy as np\n",
    "import sys\n",
    "sys.path.append(\"../src/utils\")\n",
    "from utils import read_raw_network_data, preprocess"
   ]
  },
  {
   "cell_type": "markdown",
   "metadata": {},
   "source": [
    "## Reading data ##"
   ]
  },
  {
   "cell_type": "code",
   "execution_count": 16,
   "metadata": {},
   "outputs": [],
   "source": [
    "trafo_id = \"T1330\" #T1330 T0932\n",
    "data, _ = read_raw_network_data(trafo_id, depth=1)"
   ]
  },
  {
   "cell_type": "code",
   "execution_count": 17,
   "metadata": {},
   "outputs": [
    {
     "data": {
      "text/plain": [
       "dict_keys(['edges_static_data', 'nodes_static_data', 'SMM_measurements', 'TP_measurements'])"
      ]
     },
     "execution_count": 17,
     "metadata": {},
     "output_type": "execute_result"
    }
   ],
   "source": [
    "data.keys()"
   ]
  },
  {
   "cell_type": "code",
   "execution_count": 18,
   "metadata": {},
   "outputs": [],
   "source": [
    "data = preprocess(data)"
   ]
  },
  {
   "cell_type": "code",
   "execution_count": 19,
   "metadata": {},
   "outputs": [
    {
     "data": {
      "text/plain": [
       "dict_keys(['nodes_static_data', 'edges_static_data', 'measurements'])"
      ]
     },
     "execution_count": 19,
     "metadata": {},
     "output_type": "execute_result"
    }
   ],
   "source": [
    "data.keys()"
   ]
  },
  {
   "cell_type": "code",
   "execution_count": 20,
   "metadata": {},
   "outputs": [],
   "source": [
    "df_measurements = data[\"measurements\"]\n",
    "df_nodes = data[\"nodes_static_data\"]\n",
    "df_edges = data[\"edges_static_data\"]"
   ]
  },
  {
   "cell_type": "code",
   "execution_count": 22,
   "metadata": {},
   "outputs": [
    {
     "data": {
      "text/html": [
       "<div>\n",
       "<style scoped>\n",
       "    .dataframe tbody tr th:only-of-type {\n",
       "        vertical-align: middle;\n",
       "    }\n",
       "\n",
       "    .dataframe tbody tr th {\n",
       "        vertical-align: top;\n",
       "    }\n",
       "\n",
       "    .dataframe thead th {\n",
       "        text-align: right;\n",
       "    }\n",
       "</style>\n",
       "<table border=\"1\" class=\"dataframe\">\n",
       "  <thead>\n",
       "    <tr style=\"text-align: right;\">\n",
       "      <th></th>\n",
       "      <th>date_time</th>\n",
       "      <th>node_id</th>\n",
       "      <th>voltage</th>\n",
       "      <th>temperature_2m</th>\n",
       "      <th>snow_depth</th>\n",
       "      <th>cloud_cover</th>\n",
       "      <th>is_day</th>\n",
       "      <th>shortwave_radiation</th>\n",
       "      <th>direct_radiation</th>\n",
       "      <th>diffuse_radiation</th>\n",
       "      <th>direct_normal_irradiance</th>\n",
       "      <th>active_power</th>\n",
       "      <th>reactive_power</th>\n",
       "    </tr>\n",
       "  </thead>\n",
       "  <tbody>\n",
       "    <tr>\n",
       "      <th>0</th>\n",
       "      <td>2021-06-01 00:00:00</td>\n",
       "      <td>0.0</td>\n",
       "      <td>234.276667</td>\n",
       "      <td>13.055012</td>\n",
       "      <td>0.0</td>\n",
       "      <td>20.1</td>\n",
       "      <td>0.0</td>\n",
       "      <td>0.0</td>\n",
       "      <td>0.0</td>\n",
       "      <td>0.0</td>\n",
       "      <td>0.0</td>\n",
       "      <td>168900.000</td>\n",
       "      <td>29000.0</td>\n",
       "    </tr>\n",
       "    <tr>\n",
       "      <th>1</th>\n",
       "      <td>2021-06-01 00:00:00</td>\n",
       "      <td>8.0</td>\n",
       "      <td>234.433333</td>\n",
       "      <td>13.037499</td>\n",
       "      <td>0.0</td>\n",
       "      <td>20.1</td>\n",
       "      <td>0.0</td>\n",
       "      <td>0.0</td>\n",
       "      <td>0.0</td>\n",
       "      <td>0.0</td>\n",
       "      <td>0.0</td>\n",
       "      <td>0.212</td>\n",
       "      <td>0.0</td>\n",
       "    </tr>\n",
       "    <tr>\n",
       "      <th>2</th>\n",
       "      <td>2021-06-01 00:00:00</td>\n",
       "      <td>9.0</td>\n",
       "      <td>232.700000</td>\n",
       "      <td>13.076500</td>\n",
       "      <td>0.0</td>\n",
       "      <td>20.1</td>\n",
       "      <td>0.0</td>\n",
       "      <td>0.0</td>\n",
       "      <td>0.0</td>\n",
       "      <td>0.0</td>\n",
       "      <td>0.0</td>\n",
       "      <td>1.304</td>\n",
       "      <td>0.0</td>\n",
       "    </tr>\n",
       "    <tr>\n",
       "      <th>3</th>\n",
       "      <td>2021-06-01 00:00:00</td>\n",
       "      <td>10.0</td>\n",
       "      <td>232.850000</td>\n",
       "      <td>13.076500</td>\n",
       "      <td>0.0</td>\n",
       "      <td>20.1</td>\n",
       "      <td>0.0</td>\n",
       "      <td>0.0</td>\n",
       "      <td>0.0</td>\n",
       "      <td>0.0</td>\n",
       "      <td>0.0</td>\n",
       "      <td>0.236</td>\n",
       "      <td>0.0</td>\n",
       "    </tr>\n",
       "    <tr>\n",
       "      <th>4</th>\n",
       "      <td>2021-06-01 00:00:00</td>\n",
       "      <td>11.0</td>\n",
       "      <td>232.833333</td>\n",
       "      <td>13.076500</td>\n",
       "      <td>0.0</td>\n",
       "      <td>20.1</td>\n",
       "      <td>0.0</td>\n",
       "      <td>0.0</td>\n",
       "      <td>0.0</td>\n",
       "      <td>0.0</td>\n",
       "      <td>0.0</td>\n",
       "      <td>0.132</td>\n",
       "      <td>0.0</td>\n",
       "    </tr>\n",
       "  </tbody>\n",
       "</table>\n",
       "</div>"
      ],
      "text/plain": [
       "             date_time  node_id     voltage  temperature_2m  snow_depth  \\\n",
       "0  2021-06-01 00:00:00      0.0  234.276667       13.055012         0.0   \n",
       "1  2021-06-01 00:00:00      8.0  234.433333       13.037499         0.0   \n",
       "2  2021-06-01 00:00:00      9.0  232.700000       13.076500         0.0   \n",
       "3  2021-06-01 00:00:00     10.0  232.850000       13.076500         0.0   \n",
       "4  2021-06-01 00:00:00     11.0  232.833333       13.076500         0.0   \n",
       "\n",
       "   cloud_cover  is_day  shortwave_radiation  direct_radiation  \\\n",
       "0         20.1     0.0                  0.0               0.0   \n",
       "1         20.1     0.0                  0.0               0.0   \n",
       "2         20.1     0.0                  0.0               0.0   \n",
       "3         20.1     0.0                  0.0               0.0   \n",
       "4         20.1     0.0                  0.0               0.0   \n",
       "\n",
       "   diffuse_radiation  direct_normal_irradiance  active_power  reactive_power  \n",
       "0                0.0                       0.0    168900.000         29000.0  \n",
       "1                0.0                       0.0         0.212             0.0  \n",
       "2                0.0                       0.0         1.304             0.0  \n",
       "3                0.0                       0.0         0.236             0.0  \n",
       "4                0.0                       0.0         0.132             0.0  "
      ]
     },
     "execution_count": 22,
     "metadata": {},
     "output_type": "execute_result"
    }
   ],
   "source": [
    "df_measurements.head()"
   ]
  },
  {
   "cell_type": "code",
   "execution_count": 23,
   "metadata": {},
   "outputs": [
    {
     "data": {
      "text/plain": [
       "'\\n------------VOZLIŠČA----------------\\nnode_id                        -    id vozlišča (do 0 do št. vozlišč - 1)\\naclass_id                      -    tip vozlišča (TR: transformator | RO: razdelilna omarica (samo križišče kablov) | PMO: priključna merilna omarica (omarca s števci) | junction: (samo križišče kablov))\\nsmm_list                       -    merilna mesta na vozlišču\\nprikljucna_moc_odjem           -    eznam priključnih moči na vozlišču (koliko je odjema iz omrežja)\\t\\nprikljucna_moc_odjem_aggr      -    skupna priključna moč na vozlišču odjema\\nprikljucna_moc_oddaja          -    seznam priključnih moči na vozlišču (koliko je oddaje v omrežje)\\nprikljucna_moc_oddaja_aggr     -    skupna priključna moč na vozlišču oddaje\\t\\nx_y                            -    xy koordinate\\nlon_lat                        -    lonlat koordinate\\n\\n------------POVEZAVE----------------\\nfrom_node_id\\t        -    id vozlišča\\nto_node_id              -    id vozlišča\\nlength_km               -    dolžina kabla\\nr_ohm_per_km            -    upornost na km\\nx_ohm_per_km            -    upornost in reaktanca na km\\nmax_i_ka                -    maksimalni tok (specifikacija kabla)\\ntype                    -    tip povezave (cs: cable sistem | ol: overhead line - mislm da je ol no???)\\nd_mm2                   -    premer kabla\\ncoords                  -    koordinate povezave\\ncoords_transformed      -    lonlat koordinate\\n\\n------------MERITVE----------------\\ndate_time                       -    datum in ura meritve\\nnode_id                         -    id vozlišča\\nvoltage                         -    15min povprečje napetosti\\nactive_power                    -    15min povprečje aktivne moči\\nreactive_power                  -    15min povprečje reaktivne moči\\ntemperature_2m                  -    temperatura izmerjena 2m nad tlemi\\nsnow_depth                      -    višina snega\\ncloud_cover                     -    oblačnost\\nis_day                          -    ali je dan (0/1)\\nshortwave_radiation             -    kratkovalovno sevanje\\ndirect_radiation                -    direktno sevanje\\ndiffuse_radiation               -    difuzno sevanje\\ndirect_normal_irradiance        -    direktno normalno sevanje\\n'"
      ]
     },
     "execution_count": 23,
     "metadata": {},
     "output_type": "execute_result"
    }
   ],
   "source": [
    "\"\"\"\n",
    "------------VOZLIŠČA----------------\n",
    "node_id                        -    id vozlišča (do 0 do št. vozlišč - 1)\n",
    "aclass_id                      -    tip vozlišča (TR: transformator | RO: razdelilna omarica (samo križišče kablov) | PMO: priključna merilna omarica (omarca s števci) | junction: (samo križišče kablov))\n",
    "smm_list                       -    merilna mesta na vozlišču\n",
    "prikljucna_moc_odjem           -    eznam priključnih moči na vozlišču (koliko je odjema iz omrežja)\t\n",
    "prikljucna_moc_odjem_aggr      -    skupna priključna moč na vozlišču odjema\n",
    "prikljucna_moc_oddaja          -    seznam priključnih moči na vozlišču (koliko je oddaje v omrežje)\n",
    "prikljucna_moc_oddaja_aggr     -    skupna priključna moč na vozlišču oddaje\t\n",
    "x_y                            -    xy koordinate\n",
    "lon_lat                        -    lonlat koordinate\n",
    "\n",
    "------------POVEZAVE----------------\n",
    "from_node_id\t        -    id vozlišča\n",
    "to_node_id              -    id vozlišča\n",
    "length_km               -    dolžina kabla\n",
    "r_ohm_per_km            -    uporno st na km\n",
    "x_ohm_per_km            -    upornost in reaktanca na km\n",
    "max_i_ka                -    maksimalni tok (specifikacija kabla)\n",
    "type                    -    tip povezave (cs: cable sistem | ol: overhead line - mislm da je ol no???)\n",
    "d_mm2                   -    premer kabla\n",
    "coords                  -    koordinate povezave\n",
    "coords_transformed      -    lonlat koordinate\n",
    "\n",
    "------------MERITVE----------------\n",
    "date_time                       -    datum in ura meritve\n",
    "node_id                         -    id vozlišča\n",
    "voltage                         -    15min povprečje napetosti\n",
    "active_power                    -    15min povprečje aktivne moči\n",
    "reactive_power                  -    15min povprečje reaktivne moči\n",
    "temperature_2m                  -    temperatura izmerjena 2m nad tlemi\n",
    "snow_depth                      -    višina snega\n",
    "cloud_cover                     -    oblačnost\n",
    "is_day                          -    ali je dan (0/1)\n",
    "shortwave_radiation             -    kratkovalovno sevanje\n",
    "direct_radiation                -    direktno sevanje\n",
    "diffuse_radiation               -    difuzno sevanje\n",
    "direct_normal_irradiance        -    direktno normalno sevanje\n",
    "\"\"\""
   ]
  }
 ],
 "metadata": {
  "kernelspec": {
   "display_name": "mlg_env",
   "language": "python",
   "name": "python3"
  },
  "language_info": {
   "codemirror_mode": {
    "name": "ipython",
    "version": 3
   },
   "file_extension": ".py",
   "mimetype": "text/x-python",
   "name": "python",
   "nbconvert_exporter": "python",
   "pygments_lexer": "ipython3",
   "version": "3.11.6"
  }
 },
 "nbformat": 4,
 "nbformat_minor": 2
}
