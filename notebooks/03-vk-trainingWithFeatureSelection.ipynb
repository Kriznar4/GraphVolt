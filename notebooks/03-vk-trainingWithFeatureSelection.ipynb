{
 "cells": [
  {
   "cell_type": "code",
   "execution_count": 1,
   "metadata": {},
   "outputs": [
    {
     "name": "stderr",
     "output_type": "stream",
     "text": [
      "/usr/local/lib/python3.10/site-packages/tqdm/auto.py:21: TqdmWarning: IProgress not found. Please update jupyter and ipywidgets. See https://ipywidgets.readthedocs.io/en/stable/user_install.html\n",
      "  from .autonotebook import tqdm as notebook_tqdm\n"
     ]
    }
   ],
   "source": [
    "import pandas as pd\n",
    "import numpy as np\n",
    "import sys\n",
    "sys.path.append(\"../src/utils\")\n",
    "from utils import SimpleGraphVoltDatasetLoader, read_and_prepare_data\n",
    "from torch_geometric_temporal.signal import temporal_signal_split\n",
    "import torch\n",
    "import torch.nn.functional as F\n",
    "from torch_geometric_temporal.nn.recurrent import A3TGCN\n",
    "from tqdm import tqdm\n"
   ]
  },
  {
   "cell_type": "code",
   "execution_count": 2,
   "metadata": {},
   "outputs": [
    {
     "name": "stdout",
     "output_type": "stream",
     "text": [
      "tensor([1.], device='mps:0')\n"
     ]
    },
    {
     "name": "stderr",
     "output_type": "stream",
     "text": [
      "/usr/local/lib/python3.10/site-packages/torch/_tensor_str.py:137: UserWarning: MPS: nonzero op is supported natively starting from macOS 13.0. Falling back on CPU. This may have performance implications. (Triggered internally at /Users/runner/work/pytorch/pytorch/pytorch/aten/src/ATen/native/mps/operations/Indexing.mm:283.)\n",
      "  nonzero_finite_vals = torch.masked_select(\n"
     ]
    }
   ],
   "source": [
    "if torch.backends.mps.is_available():\n",
    "    mps_device = torch.device(\"mps\")\n",
    "    x = torch.ones(1, device=mps_device)\n",
    "    print (x)\n",
    "else:\n",
    "    print (\"MPS device not found.\")"
   ]
  },
  {
   "cell_type": "code",
   "execution_count": 3,
   "metadata": {},
   "outputs": [],
   "source": [
    "trafo_id = \"T1330\"\n",
    "epochs = 25\n",
    "num_timesteps_in = 12\n",
    "num_timesteps_out = 4\n",
    "train_ratio = 0.7\n",
    "test_ratio_vs_eval_ratio = 0.5\n",
    "learning_rate = 0.01\n",
    "device_str = 'cpu'\n",
    "\n",
    "#----------------------\n",
    "if device_str == 'cpu':\n",
    "    torch.cuda.empty_cache()\n",
    "\n",
    "#get dateime string of now\n",
    "now = pd.Timestamp.now().strftime(\"%Y%m%d%H%M%S\")"
   ]
  },
  {
   "cell_type": "code",
   "execution_count": 4,
   "metadata": {},
   "outputs": [
    {
     "name": "stdout",
     "output_type": "stream",
     "text": [
      "Loading data...\n",
      "Voltage index: 5\n",
      "Voltage index: 5\n"
     ]
    }
   ],
   "source": [
    "print(\"Loading data...\")\n",
    "loader = SimpleGraphVoltDatasetLoader(trafo_id)\n",
    "loader_data = loader.get_dataset(num_timesteps_in=num_timesteps_in, num_timesteps_out=num_timesteps_out)\n",
    "\n",
    "train_dataset, test_eval_dataset = temporal_signal_split(loader_data, train_ratio=train_ratio)\n",
    "test_dataset, eval_dataset = temporal_signal_split(test_eval_dataset, train_ratio=test_ratio_vs_eval_ratio)"
   ]
  },
  {
   "cell_type": "code",
   "execution_count": 16,
   "metadata": {},
   "outputs": [],
   "source": [
    "class TemporalGNN(torch.nn.Module):\n",
    "    def __init__(self, node_features, periods, num_of_nodes, num_timesteps_in):\n",
    "        super(TemporalGNN, self).__init__()\n",
    "        # Attention Temporal Graph Convolutional Cell\n",
    "        out_channels = 32\n",
    "        self.tgnn = A3TGCN(in_channels=node_features, \n",
    "                           out_channels=out_channels, \n",
    "                           periods=periods)\n",
    "        \n",
    "        self.feature_mlp = torch.nn.Linear(\n",
    "            num_of_nodes*num_of_features*num_timesteps_in, \n",
    "            num_of_nodes*num_of_features*num_timesteps_in, \n",
    "            bias=False)\n",
    "\n",
    "        # Equals single-shot prediction\n",
    "        self.linear = torch.nn.Linear(out_channels,periods)\n",
    "\n",
    "    def forward(self, x, edge_index, edge_weights):\n",
    "        \"\"\"\n",
    "        x = Node features for T time steps\n",
    "        edge_index = Graph edge indices\n",
    "        edge_weights = Graph edge weights\n",
    "        \"\"\"\n",
    "\n",
    "        x = x.reshape(1, -1)\n",
    "        x = self.feature_mlp(x)\n",
    "        x = x.reshape(-1,num_of_features,num_timesteps_in)\n",
    "\n",
    "        h = self.tgnn(x, edge_index, edge_weights)\n",
    "        h = F.relu(h)\n",
    "        h = self.linear(h)\n",
    "        return h\n"
   ]
  },
  {
   "cell_type": "code",
   "execution_count": 14,
   "metadata": {},
   "outputs": [],
   "source": [
    "def train_test(model,device, train_dataset, test_dataset, optimizer, loss_fn, epochs, now):\n",
    "    \"\"\"\n",
    "    Definition of the training loop.\n",
    "    \"\"\"\n",
    "    epoch_losses_train = []\n",
    "    epoch_losses_test = []\n",
    "    \n",
    "    for epoch in range(epochs):\n",
    "        model.train()\n",
    "        epoch_loss_train = 0\n",
    "\n",
    "        subset = 3\n",
    "        step=0\n",
    "\n",
    "        for snapshot in tqdm(train_dataset, desc=\"Training epoch {}\".format(epoch)):\n",
    "            snapshot.to(device)\n",
    "\n",
    "            optimizer.zero_grad()\n",
    "            out = model(snapshot.x, snapshot.edge_index,snapshot.edge_weight)\n",
    "            loss = loss_fn()(out, snapshot.y)\n",
    "            loss.backward()\n",
    "            optimizer.step()\n",
    "            epoch_loss_train += loss.detach().cpu().numpy()\n",
    "\n",
    "            step+=1\n",
    "\n",
    "            if step > subset:\n",
    "                break\n",
    "\n",
    "\n",
    "        epoch_losses_train.append(epoch_loss_train)\n",
    "\n",
    "        print(f\"Epoch {epoch + 1}, FeatureMLP Weights: {model.state_dict()['feature_mlp.weight']}\")\n",
    "\n",
    "        model.eval()\n",
    "        epoch_loss_test = 0\n",
    "        with torch.no_grad():\n",
    "\n",
    "            subset = 100\n",
    "            step=0\n",
    "\n",
    "            for snapshot in tqdm(test_dataset, desc=\"Testing epoch {}\".format(epoch)):\n",
    "                snapshot.to(device)\n",
    "\n",
    "                out = model(snapshot.x, snapshot.edge_index,snapshot.edge_weight)\n",
    "                loss = loss_fn()(out, snapshot.y).cpu().numpy()\n",
    "                epoch_loss_test += loss\n",
    "\n",
    "                step+=1\n",
    "                if step > subset:\n",
    "                    break\n",
    "\n",
    "            epoch_losses_test.append(epoch_loss_test)\n",
    "            if min(epoch_losses_test) == epoch_loss_test:\n",
    "                torch.save(model.state_dict(), f\"../models/A3TGCN_{now}_{trafo_id}_epochs-{epochs}_in-{num_timesteps_in}_out-{num_timesteps_out}_train-ratio-{train_ratio}_lr-{learning_rate}.pt\")\n",
    "            print(\"Epoch: {}, Train Loss: {:.7f}, Test Loss: {:.7f}\".format(epoch, epoch_loss_train, epoch_loss_test))\n",
    "        \n",
    "        \n",
    "    return epoch_losses_train, epoch_losses_test\n",
    "            "
   ]
  },
  {
   "cell_type": "code",
   "execution_count": 9,
   "metadata": {},
   "outputs": [],
   "source": [
    "def eval(model, feature_mlp,eval_dataset, device, loss_fn, std):\n",
    "    with torch.no_grad():\n",
    "        model.eval()\n",
    "        loss_all = 0\n",
    "        loss_elementwise = 0\n",
    "        \n",
    "        steps = 0\n",
    "        for snapshot in tqdm(eval_dataset, desc=\"Evaluating\"):\n",
    "            steps += 1\n",
    "            snapshot.to(device)\n",
    "\n",
    "            out = model(snapshot.x, snapshot.edge_index,snapshot.edge_weight)\n",
    "            loss_all += loss_fn()(out, snapshot.y).cpu().numpy()\n",
    "            loss_elementwise += loss_fn(reduction=\"none\")(out, snapshot.y).cpu().numpy()\n",
    "\n",
    "            if steps > 1000:\n",
    "                break\n",
    "\n",
    "        loss_all *= std/steps\n",
    "        loss_elementwise *= std/steps\n",
    "    return loss_all, loss_elementwise"
   ]
  },
  {
   "cell_type": "code",
   "execution_count": 17,
   "metadata": {},
   "outputs": [
    {
     "name": "stdout",
     "output_type": "stream",
     "text": [
      "Running training...\n"
     ]
    },
    {
     "name": "stderr",
     "output_type": "stream",
     "text": [
      "Training epoch 0: 3it [01:09, 23.30s/it]\n"
     ]
    },
    {
     "name": "stdout",
     "output_type": "stream",
     "text": [
      "Epoch 1, FeatureMLP Weights: tensor([[ 0.0213,  0.0297,  0.0212,  ..., -0.0258, -0.0225, -0.0217],\n",
      "        [ 0.0268,  0.0260,  0.0257,  ..., -0.0305, -0.0292, -0.0207],\n",
      "        [ 0.0277,  0.0277,  0.0208,  ..., -0.0227, -0.0210, -0.0248],\n",
      "        ...,\n",
      "        [ 0.0029, -0.0032, -0.0005,  ..., -0.0012,  0.0016,  0.0023],\n",
      "        [ 0.0028,  0.0040,  0.0017,  ..., -0.0029,  0.0012,  0.0007],\n",
      "        [ 0.0040, -0.0035,  0.0007,  ..., -0.0008, -0.0029, -0.0036]])\n"
     ]
    },
    {
     "name": "stderr",
     "output_type": "stream",
     "text": [
      "Testing epoch 0: 100it [00:30,  3.29it/s]\n"
     ]
    },
    {
     "name": "stdout",
     "output_type": "stream",
     "text": [
      "Epoch: 0, Train Loss: 0.9691823, Test Loss: 70.6295935\n"
     ]
    },
    {
     "name": "stderr",
     "output_type": "stream",
     "text": [
      "Training epoch 1: 3it [00:37, 12.61s/it]\n"
     ]
    },
    {
     "name": "stdout",
     "output_type": "stream",
     "text": [
      "Epoch 2, FeatureMLP Weights: tensor([[ 0.0326,  0.0410,  0.0326,  ..., -0.0372, -0.0339, -0.0330],\n",
      "        [ 0.0383,  0.0375,  0.0372,  ..., -0.0421, -0.0407, -0.0321],\n",
      "        [ 0.0390,  0.0391,  0.0321,  ..., -0.0342, -0.0325, -0.0360],\n",
      "        ...,\n",
      "        [ 0.0029, -0.0032, -0.0005,  ..., -0.0012,  0.0016,  0.0023],\n",
      "        [ 0.0028,  0.0040,  0.0017,  ..., -0.0029,  0.0012,  0.0007],\n",
      "        [ 0.0040, -0.0035,  0.0007,  ..., -0.0008, -0.0029, -0.0036]])\n"
     ]
    },
    {
     "name": "stderr",
     "output_type": "stream",
     "text": [
      "Testing epoch 1: 100it [00:28,  3.55it/s]\n"
     ]
    },
    {
     "name": "stdout",
     "output_type": "stream",
     "text": [
      "Epoch: 1, Train Loss: 0.7610249, Test Loss: 63.0642041\n"
     ]
    },
    {
     "name": "stderr",
     "output_type": "stream",
     "text": [
      "Training epoch 2: 3it [00:39, 13.05s/it]\n"
     ]
    },
    {
     "name": "stdout",
     "output_type": "stream",
     "text": [
      "Epoch 3, FeatureMLP Weights: tensor([[ 0.0396,  0.0480,  0.0395,  ..., -0.0442, -0.0409, -0.0398],\n",
      "        [ 0.0453,  0.0445,  0.0442,  ..., -0.0491, -0.0477, -0.0391],\n",
      "        [ 0.0459,  0.0460,  0.0390,  ..., -0.0412, -0.0394, -0.0429],\n",
      "        ...,\n",
      "        [ 0.0029, -0.0032, -0.0005,  ..., -0.0012,  0.0016,  0.0023],\n",
      "        [ 0.0028,  0.0040,  0.0017,  ..., -0.0029,  0.0012,  0.0007],\n",
      "        [ 0.0040, -0.0035,  0.0007,  ..., -0.0008, -0.0029, -0.0036]])\n"
     ]
    },
    {
     "name": "stderr",
     "output_type": "stream",
     "text": [
      "Testing epoch 2: 100it [00:29,  3.40it/s]\n"
     ]
    },
    {
     "name": "stdout",
     "output_type": "stream",
     "text": [
      "Epoch: 2, Train Loss: 0.6422945, Test Loss: 63.1826697\n"
     ]
    },
    {
     "name": "stderr",
     "output_type": "stream",
     "text": [
      "Training epoch 3: 3it [00:45, 15.26s/it]\n"
     ]
    },
    {
     "name": "stdout",
     "output_type": "stream",
     "text": [
      "Epoch 4, FeatureMLP Weights: tensor([[ 0.0441,  0.0525,  0.0440,  ..., -0.0488, -0.0454, -0.0443],\n",
      "        [ 0.0500,  0.0492,  0.0489,  ..., -0.0538, -0.0525, -0.0438],\n",
      "        [ 0.0504,  0.0504,  0.0435,  ..., -0.0458, -0.0439, -0.0473],\n",
      "        ...,\n",
      "        [ 0.0029, -0.0032, -0.0005,  ..., -0.0012,  0.0016,  0.0023],\n",
      "        [ 0.0028,  0.0040,  0.0017,  ..., -0.0029,  0.0012,  0.0007],\n",
      "        [ 0.0040, -0.0035,  0.0007,  ..., -0.0008, -0.0029, -0.0036]])\n"
     ]
    },
    {
     "name": "stderr",
     "output_type": "stream",
     "text": [
      "Testing epoch 3: 100it [00:31,  3.20it/s]\n"
     ]
    },
    {
     "name": "stdout",
     "output_type": "stream",
     "text": [
      "Epoch: 3, Train Loss: 0.6437714, Test Loss: 62.7352140\n"
     ]
    },
    {
     "name": "stderr",
     "output_type": "stream",
     "text": [
      "Training epoch 4: 3it [00:44, 14.73s/it]\n"
     ]
    },
    {
     "name": "stdout",
     "output_type": "stream",
     "text": [
      "Epoch 5, FeatureMLP Weights: tensor([[ 0.0471,  0.0555,  0.0470,  ..., -0.0519, -0.0485, -0.0473],\n",
      "        [ 0.0533,  0.0524,  0.0521,  ..., -0.0570, -0.0558, -0.0472],\n",
      "        [ 0.0534,  0.0535,  0.0465,  ..., -0.0488, -0.0470, -0.0503],\n",
      "        ...,\n",
      "        [ 0.0029, -0.0032, -0.0005,  ..., -0.0012,  0.0016,  0.0023],\n",
      "        [ 0.0028,  0.0040,  0.0017,  ..., -0.0029,  0.0012,  0.0007],\n",
      "        [ 0.0040, -0.0035,  0.0007,  ..., -0.0008, -0.0029, -0.0036]])\n"
     ]
    },
    {
     "name": "stderr",
     "output_type": "stream",
     "text": [
      "Testing epoch 4: 100it [00:30,  3.31it/s]\n"
     ]
    },
    {
     "name": "stdout",
     "output_type": "stream",
     "text": [
      "Epoch: 4, Train Loss: 0.6290912, Test Loss: 63.7379737\n"
     ]
    },
    {
     "name": "stderr",
     "output_type": "stream",
     "text": [
      "Training epoch 5: 1it [00:13, 13.82s/it]\n"
     ]
    },
    {
     "ename": "KeyboardInterrupt",
     "evalue": "",
     "output_type": "error",
     "traceback": [
      "\u001b[0;31m---------------------------------------------------------------------------\u001b[0m",
      "\u001b[0;31mKeyboardInterrupt\u001b[0m                         Traceback (most recent call last)",
      "\u001b[1;32m/Users/v.kalisnik/Documents/Faks/MLG/Project/notebooks/03-vk-trainingWithFeatureSelection.ipynb Cell 8\u001b[0m line \u001b[0;36m1\n\u001b[1;32m      <a href='vscode-notebook-cell:/Users/v.kalisnik/Documents/Faks/MLG/Project/notebooks/03-vk-trainingWithFeatureSelection.ipynb#X12sZmlsZQ%3D%3D?line=8'>9</a>\u001b[0m optimizer \u001b[39m=\u001b[39m torch\u001b[39m.\u001b[39moptim\u001b[39m.\u001b[39mAdam(model\u001b[39m.\u001b[39mparameters(), lr\u001b[39m=\u001b[39mlearning_rate)\n\u001b[1;32m     <a href='vscode-notebook-cell:/Users/v.kalisnik/Documents/Faks/MLG/Project/notebooks/03-vk-trainingWithFeatureSelection.ipynb#X12sZmlsZQ%3D%3D?line=9'>10</a>\u001b[0m loss_fn \u001b[39m=\u001b[39m torch\u001b[39m.\u001b[39mnn\u001b[39m.\u001b[39mL1Loss\n\u001b[0;32m---> <a href='vscode-notebook-cell:/Users/v.kalisnik/Documents/Faks/MLG/Project/notebooks/03-vk-trainingWithFeatureSelection.ipynb#X12sZmlsZQ%3D%3D?line=10'>11</a>\u001b[0m losses \u001b[39m=\u001b[39m train_test(model, device, train_dataset, test_dataset, optimizer, loss_fn, epochs\u001b[39m=\u001b[39;49mepochs, now\u001b[39m=\u001b[39;49mnow)\n",
      "\u001b[1;32m/Users/v.kalisnik/Documents/Faks/MLG/Project/notebooks/03-vk-trainingWithFeatureSelection.ipynb Cell 8\u001b[0m line \u001b[0;36m2\n\u001b[1;32m     <a href='vscode-notebook-cell:/Users/v.kalisnik/Documents/Faks/MLG/Project/notebooks/03-vk-trainingWithFeatureSelection.ipynb#X12sZmlsZQ%3D%3D?line=19'>20</a>\u001b[0m loss \u001b[39m=\u001b[39m loss_fn()(out, snapshot\u001b[39m.\u001b[39my)\n\u001b[1;32m     <a href='vscode-notebook-cell:/Users/v.kalisnik/Documents/Faks/MLG/Project/notebooks/03-vk-trainingWithFeatureSelection.ipynb#X12sZmlsZQ%3D%3D?line=20'>21</a>\u001b[0m loss\u001b[39m.\u001b[39mbackward()\n\u001b[0;32m---> <a href='vscode-notebook-cell:/Users/v.kalisnik/Documents/Faks/MLG/Project/notebooks/03-vk-trainingWithFeatureSelection.ipynb#X12sZmlsZQ%3D%3D?line=21'>22</a>\u001b[0m optimizer\u001b[39m.\u001b[39;49mstep()\n\u001b[1;32m     <a href='vscode-notebook-cell:/Users/v.kalisnik/Documents/Faks/MLG/Project/notebooks/03-vk-trainingWithFeatureSelection.ipynb#X12sZmlsZQ%3D%3D?line=22'>23</a>\u001b[0m epoch_loss_train \u001b[39m+\u001b[39m\u001b[39m=\u001b[39m loss\u001b[39m.\u001b[39mdetach()\u001b[39m.\u001b[39mcpu()\u001b[39m.\u001b[39mnumpy()\n\u001b[1;32m     <a href='vscode-notebook-cell:/Users/v.kalisnik/Documents/Faks/MLG/Project/notebooks/03-vk-trainingWithFeatureSelection.ipynb#X12sZmlsZQ%3D%3D?line=24'>25</a>\u001b[0m step\u001b[39m+\u001b[39m\u001b[39m=\u001b[39m\u001b[39m1\u001b[39m\n",
      "File \u001b[0;32m/usr/local/lib/python3.10/site-packages/torch/optim/optimizer.py:373\u001b[0m, in \u001b[0;36mOptimizer.profile_hook_step.<locals>.wrapper\u001b[0;34m(*args, **kwargs)\u001b[0m\n\u001b[1;32m    368\u001b[0m         \u001b[39melse\u001b[39;00m:\n\u001b[1;32m    369\u001b[0m             \u001b[39mraise\u001b[39;00m \u001b[39mRuntimeError\u001b[39;00m(\n\u001b[1;32m    370\u001b[0m                 \u001b[39mf\u001b[39m\u001b[39m\"\u001b[39m\u001b[39m{\u001b[39;00mfunc\u001b[39m}\u001b[39;00m\u001b[39m must return None or a tuple of (new_args, new_kwargs), but got \u001b[39m\u001b[39m{\u001b[39;00mresult\u001b[39m}\u001b[39;00m\u001b[39m.\u001b[39m\u001b[39m\"\u001b[39m\n\u001b[1;32m    371\u001b[0m             )\n\u001b[0;32m--> 373\u001b[0m out \u001b[39m=\u001b[39m func(\u001b[39m*\u001b[39;49margs, \u001b[39m*\u001b[39;49m\u001b[39m*\u001b[39;49mkwargs)\n\u001b[1;32m    374\u001b[0m \u001b[39mself\u001b[39m\u001b[39m.\u001b[39m_optimizer_step_code()\n\u001b[1;32m    376\u001b[0m \u001b[39m# call optimizer step post hooks\u001b[39;00m\n",
      "File \u001b[0;32m/usr/local/lib/python3.10/site-packages/torch/optim/optimizer.py:76\u001b[0m, in \u001b[0;36m_use_grad_for_differentiable.<locals>._use_grad\u001b[0;34m(self, *args, **kwargs)\u001b[0m\n\u001b[1;32m     74\u001b[0m     torch\u001b[39m.\u001b[39mset_grad_enabled(\u001b[39mself\u001b[39m\u001b[39m.\u001b[39mdefaults[\u001b[39m'\u001b[39m\u001b[39mdifferentiable\u001b[39m\u001b[39m'\u001b[39m])\n\u001b[1;32m     75\u001b[0m     torch\u001b[39m.\u001b[39m_dynamo\u001b[39m.\u001b[39mgraph_break()\n\u001b[0;32m---> 76\u001b[0m     ret \u001b[39m=\u001b[39m func(\u001b[39mself\u001b[39;49m, \u001b[39m*\u001b[39;49margs, \u001b[39m*\u001b[39;49m\u001b[39m*\u001b[39;49mkwargs)\n\u001b[1;32m     77\u001b[0m \u001b[39mfinally\u001b[39;00m:\n\u001b[1;32m     78\u001b[0m     torch\u001b[39m.\u001b[39m_dynamo\u001b[39m.\u001b[39mgraph_break()\n",
      "File \u001b[0;32m/usr/local/lib/python3.10/site-packages/torch/optim/adam.py:163\u001b[0m, in \u001b[0;36mAdam.step\u001b[0;34m(self, closure)\u001b[0m\n\u001b[1;32m    152\u001b[0m     beta1, beta2 \u001b[39m=\u001b[39m group[\u001b[39m'\u001b[39m\u001b[39mbetas\u001b[39m\u001b[39m'\u001b[39m]\n\u001b[1;32m    154\u001b[0m     \u001b[39mself\u001b[39m\u001b[39m.\u001b[39m_init_group(\n\u001b[1;32m    155\u001b[0m         group,\n\u001b[1;32m    156\u001b[0m         params_with_grad,\n\u001b[0;32m   (...)\u001b[0m\n\u001b[1;32m    160\u001b[0m         max_exp_avg_sqs,\n\u001b[1;32m    161\u001b[0m         state_steps)\n\u001b[0;32m--> 163\u001b[0m     adam(\n\u001b[1;32m    164\u001b[0m         params_with_grad,\n\u001b[1;32m    165\u001b[0m         grads,\n\u001b[1;32m    166\u001b[0m         exp_avgs,\n\u001b[1;32m    167\u001b[0m         exp_avg_sqs,\n\u001b[1;32m    168\u001b[0m         max_exp_avg_sqs,\n\u001b[1;32m    169\u001b[0m         state_steps,\n\u001b[1;32m    170\u001b[0m         amsgrad\u001b[39m=\u001b[39;49mgroup[\u001b[39m'\u001b[39;49m\u001b[39mamsgrad\u001b[39;49m\u001b[39m'\u001b[39;49m],\n\u001b[1;32m    171\u001b[0m         beta1\u001b[39m=\u001b[39;49mbeta1,\n\u001b[1;32m    172\u001b[0m         beta2\u001b[39m=\u001b[39;49mbeta2,\n\u001b[1;32m    173\u001b[0m         lr\u001b[39m=\u001b[39;49mgroup[\u001b[39m'\u001b[39;49m\u001b[39mlr\u001b[39;49m\u001b[39m'\u001b[39;49m],\n\u001b[1;32m    174\u001b[0m         weight_decay\u001b[39m=\u001b[39;49mgroup[\u001b[39m'\u001b[39;49m\u001b[39mweight_decay\u001b[39;49m\u001b[39m'\u001b[39;49m],\n\u001b[1;32m    175\u001b[0m         eps\u001b[39m=\u001b[39;49mgroup[\u001b[39m'\u001b[39;49m\u001b[39meps\u001b[39;49m\u001b[39m'\u001b[39;49m],\n\u001b[1;32m    176\u001b[0m         maximize\u001b[39m=\u001b[39;49mgroup[\u001b[39m'\u001b[39;49m\u001b[39mmaximize\u001b[39;49m\u001b[39m'\u001b[39;49m],\n\u001b[1;32m    177\u001b[0m         foreach\u001b[39m=\u001b[39;49mgroup[\u001b[39m'\u001b[39;49m\u001b[39mforeach\u001b[39;49m\u001b[39m'\u001b[39;49m],\n\u001b[1;32m    178\u001b[0m         capturable\u001b[39m=\u001b[39;49mgroup[\u001b[39m'\u001b[39;49m\u001b[39mcapturable\u001b[39;49m\u001b[39m'\u001b[39;49m],\n\u001b[1;32m    179\u001b[0m         differentiable\u001b[39m=\u001b[39;49mgroup[\u001b[39m'\u001b[39;49m\u001b[39mdifferentiable\u001b[39;49m\u001b[39m'\u001b[39;49m],\n\u001b[1;32m    180\u001b[0m         fused\u001b[39m=\u001b[39;49mgroup[\u001b[39m'\u001b[39;49m\u001b[39mfused\u001b[39;49m\u001b[39m'\u001b[39;49m],\n\u001b[1;32m    181\u001b[0m         grad_scale\u001b[39m=\u001b[39;49m\u001b[39mgetattr\u001b[39;49m(\u001b[39mself\u001b[39;49m, \u001b[39m\"\u001b[39;49m\u001b[39mgrad_scale\u001b[39;49m\u001b[39m\"\u001b[39;49m, \u001b[39mNone\u001b[39;49;00m),\n\u001b[1;32m    182\u001b[0m         found_inf\u001b[39m=\u001b[39;49m\u001b[39mgetattr\u001b[39;49m(\u001b[39mself\u001b[39;49m, \u001b[39m\"\u001b[39;49m\u001b[39mfound_inf\u001b[39;49m\u001b[39m\"\u001b[39;49m, \u001b[39mNone\u001b[39;49;00m),\n\u001b[1;32m    183\u001b[0m     )\n\u001b[1;32m    185\u001b[0m \u001b[39mreturn\u001b[39;00m loss\n",
      "File \u001b[0;32m/usr/local/lib/python3.10/site-packages/torch/optim/adam.py:311\u001b[0m, in \u001b[0;36madam\u001b[0;34m(params, grads, exp_avgs, exp_avg_sqs, max_exp_avg_sqs, state_steps, foreach, capturable, differentiable, fused, grad_scale, found_inf, amsgrad, beta1, beta2, lr, weight_decay, eps, maximize)\u001b[0m\n\u001b[1;32m    308\u001b[0m \u001b[39melse\u001b[39;00m:\n\u001b[1;32m    309\u001b[0m     func \u001b[39m=\u001b[39m _single_tensor_adam\n\u001b[0;32m--> 311\u001b[0m func(params,\n\u001b[1;32m    312\u001b[0m      grads,\n\u001b[1;32m    313\u001b[0m      exp_avgs,\n\u001b[1;32m    314\u001b[0m      exp_avg_sqs,\n\u001b[1;32m    315\u001b[0m      max_exp_avg_sqs,\n\u001b[1;32m    316\u001b[0m      state_steps,\n\u001b[1;32m    317\u001b[0m      amsgrad\u001b[39m=\u001b[39;49mamsgrad,\n\u001b[1;32m    318\u001b[0m      beta1\u001b[39m=\u001b[39;49mbeta1,\n\u001b[1;32m    319\u001b[0m      beta2\u001b[39m=\u001b[39;49mbeta2,\n\u001b[1;32m    320\u001b[0m      lr\u001b[39m=\u001b[39;49mlr,\n\u001b[1;32m    321\u001b[0m      weight_decay\u001b[39m=\u001b[39;49mweight_decay,\n\u001b[1;32m    322\u001b[0m      eps\u001b[39m=\u001b[39;49meps,\n\u001b[1;32m    323\u001b[0m      maximize\u001b[39m=\u001b[39;49mmaximize,\n\u001b[1;32m    324\u001b[0m      capturable\u001b[39m=\u001b[39;49mcapturable,\n\u001b[1;32m    325\u001b[0m      differentiable\u001b[39m=\u001b[39;49mdifferentiable,\n\u001b[1;32m    326\u001b[0m      grad_scale\u001b[39m=\u001b[39;49mgrad_scale,\n\u001b[1;32m    327\u001b[0m      found_inf\u001b[39m=\u001b[39;49mfound_inf)\n",
      "File \u001b[0;32m/usr/local/lib/python3.10/site-packages/torch/optim/adam.py:385\u001b[0m, in \u001b[0;36m_single_tensor_adam\u001b[0;34m(params, grads, exp_avgs, exp_avg_sqs, max_exp_avg_sqs, state_steps, grad_scale, found_inf, amsgrad, beta1, beta2, lr, weight_decay, eps, maximize, capturable, differentiable)\u001b[0m\n\u001b[1;32m    383\u001b[0m \u001b[39m# Decay the first and second moment running average coefficient\u001b[39;00m\n\u001b[1;32m    384\u001b[0m exp_avg\u001b[39m.\u001b[39mlerp_(grad, \u001b[39m1\u001b[39m \u001b[39m-\u001b[39m beta1)\n\u001b[0;32m--> 385\u001b[0m exp_avg_sq\u001b[39m.\u001b[39;49mmul_(beta2)\u001b[39m.\u001b[39maddcmul_(grad, grad\u001b[39m.\u001b[39mconj(), value\u001b[39m=\u001b[39m\u001b[39m1\u001b[39m \u001b[39m-\u001b[39m beta2)\n\u001b[1;32m    387\u001b[0m \u001b[39mif\u001b[39;00m capturable \u001b[39mor\u001b[39;00m differentiable:\n\u001b[1;32m    388\u001b[0m     step \u001b[39m=\u001b[39m step_t\n",
      "\u001b[0;31mKeyboardInterrupt\u001b[0m: "
     ]
    }
   ],
   "source": [
    "print(\"Running training...\")\n",
    "num_of_nodes = train_dataset[0].x.shape[0]\n",
    "num_of_features = train_dataset[0].x.shape[1]\n",
    "num_of_timesteps = train_dataset[0].x.shape[2]\n",
    "\n",
    "device = torch.device(device_str)\n",
    "#feature_mlp = FeatureMLP(num_of_nodes,num_of_features,num_timesteps_in).to(device)\n",
    "model = TemporalGNN(node_features=num_of_features, periods=train_dataset[0].y.shape[1],num_timesteps_in=num_timesteps_in,num_of_nodes=num_of_nodes).to(device)\n",
    "optimizer = torch.optim.Adam(model.parameters(), lr=learning_rate)\n",
    "loss_fn = torch.nn.L1Loss\n",
    "losses = train_test(model, device, train_dataset, test_dataset, optimizer, loss_fn, epochs=epochs, now=now)"
   ]
  },
  {
   "cell_type": "code",
   "execution_count": null,
   "metadata": {},
   "outputs": [
    {
     "ename": "NameError",
     "evalue": "name 'losses' is not defined",
     "output_type": "error",
     "traceback": [
      "\u001b[0;31m---------------------------------------------------------------------------\u001b[0m",
      "\u001b[0;31mNameError\u001b[0m                                 Traceback (most recent call last)",
      "\u001b[1;32m/Users/v.kalisnik/Documents/Faks/MLG/Project/notebooks/03-vk-trainingWithFeatureSelection.ipynb Cell 11\u001b[0m line \u001b[0;36m1\n\u001b[0;32m----> <a href='vscode-notebook-cell:/Users/v.kalisnik/Documents/Faks/MLG/Project/notebooks/03-vk-trainingWithFeatureSelection.ipynb#X22sZmlsZQ%3D%3D?line=0'>1</a>\u001b[0m \u001b[39mprint\u001b[39m(losses)\n\u001b[1;32m      <a href='vscode-notebook-cell:/Users/v.kalisnik/Documents/Faks/MLG/Project/notebooks/03-vk-trainingWithFeatureSelection.ipynb#X22sZmlsZQ%3D%3D?line=2'>3</a>\u001b[0m std \u001b[39m=\u001b[39m loader\u001b[39m.\u001b[39mmean_and_std[\u001b[39m\"\u001b[39m\u001b[39mmeasurements\u001b[39m\u001b[39m\"\u001b[39m][\u001b[39m1\u001b[39m][\u001b[39m\"\u001b[39m\u001b[39mvoltage\u001b[39m\u001b[39m\"\u001b[39m]\n\u001b[1;32m      <a href='vscode-notebook-cell:/Users/v.kalisnik/Documents/Faks/MLG/Project/notebooks/03-vk-trainingWithFeatureSelection.ipynb#X22sZmlsZQ%3D%3D?line=4'>5</a>\u001b[0m \u001b[39m#read saved model\u001b[39;00m\n",
      "\u001b[0;31mNameError\u001b[0m: name 'losses' is not defined"
     ]
    }
   ],
   "source": [
    "print(losses)\n",
    "\n",
    "std = loader.mean_and_std[\"measurements\"][1][\"voltage\"]\n",
    "\n",
    "#read saved model\n",
    "model.load_state_dict(torch.load(f\"../models/A3TGCN_{now}_{trafo_id}_epochs-{epochs}_in-{num_timesteps_in}_out-{num_timesteps_out}_train-ratio-{train_ratio}_lr-{learning_rate}.pt\"))\n",
    "\n",
    "loss_all, loss_elementwise = eval(model, eval_dataset, device, loss_fn, std)\n",
    "\n",
    "print(\"Loss all: {:.7f}\".format(loss_all))\n",
    "print(\"Loss elementwise: {}\".format(loss_elementwise))"
   ]
  },
  {
   "cell_type": "code",
   "execution_count": null,
   "metadata": {},
   "outputs": [],
   "source": []
  },
  {
   "cell_type": "code",
   "execution_count": null,
   "metadata": {},
   "outputs": [],
   "source": []
  }
 ],
 "metadata": {
  "kernelspec": {
   "display_name": "Python 3",
   "language": "python",
   "name": "python3"
  },
  "language_info": {
   "codemirror_mode": {
    "name": "ipython",
    "version": 3
   },
   "file_extension": ".py",
   "mimetype": "text/x-python",
   "name": "python",
   "nbconvert_exporter": "python",
   "pygments_lexer": "ipython3",
   "version": "3.10.13"
  }
 },
 "nbformat": 4,
 "nbformat_minor": 2
}
