{
 "cells": [
  {
   "cell_type": "code",
   "execution_count": 6,
   "metadata": {},
   "outputs": [],
   "source": [
    "import pandas as pd\n",
    "import numpy as np\n",
    "import sys\n",
    "sys.path.append(\"../src/utils\")\n",
    "from utils import SimpleGraphVoltDatasetLoader_Lazy, read_and_prepare_data\n",
    "from torch_geometric_temporal.signal import temporal_signal_split\n",
    "import torch\n",
    "import torch.nn.functional as F\n",
    "from torch_geometric_temporal.nn.recurrent import A3TGCN\n",
    "from tqdm import tqdm\n"
   ]
  },
  {
   "cell_type": "code",
   "execution_count": 40,
   "metadata": {},
   "outputs": [
    {
     "name": "stdout",
     "output_type": "stream",
     "text": [
      "tensor([1.], device='mps:0')\n"
     ]
    }
   ],
   "source": [
    "if torch.backends.mps.is_available():\n",
    "    mps_device = torch.device(\"mps\")\n",
    "    x = torch.ones(1, device=mps_device)\n",
    "    print (x)\n",
    "else:\n",
    "    print (\"MPS device not found.\")"
   ]
  },
  {
   "cell_type": "code",
   "execution_count": 41,
   "metadata": {},
   "outputs": [],
   "source": [
    "trafo_id = \"T1330\"\n",
    "epochs = 25\n",
    "num_timesteps_in = 12\n",
    "num_timesteps_out = 4\n",
    "train_ratio = 0.7\n",
    "test_ratio_vs_eval_ratio = 0.5\n",
    "learning_rate = 0.01\n",
    "device_str = 'cpu'\n",
    "\n",
    "#----------------------\n",
    "if device_str == 'cpu':\n",
    "    torch.cuda.empty_cache()\n",
    "\n",
    "#get dateime string of now\n",
    "now = pd.Timestamp.now().strftime(\"%Y%m%d%H%M%S\")"
   ]
  },
  {
   "cell_type": "code",
   "execution_count": 7,
   "metadata": {},
   "outputs": [
    {
     "name": "stdout",
     "output_type": "stream",
     "text": [
      "Loading data...\n",
      "Voltage index: 5\n"
     ]
    }
   ],
   "source": [
    "print(\"Loading data...\")\n",
    "loader = SimpleGraphVoltDatasetLoader_Lazy(trafo_id, num_timesteps_in, num_timesteps_out)\n",
    "loader_data_index = loader.snapshot_index\n",
    "\n",
    "train_dataset, test_eval_dataset = loader.temporal_signal_split_lazy(loader_data_index, train_ratio=train_ratio)\n",
    "test_dataset, eval_dataset = loader.temporal_signal_split_lazy(test_eval_dataset, train_ratio=test_ratio_vs_eval_ratio)"
   ]
  },
  {
   "cell_type": "code",
   "execution_count": 43,
   "metadata": {},
   "outputs": [],
   "source": [
    "class TemporalGNN(torch.nn.Module):\n",
    "    def __init__(self, node_features, periods):\n",
    "        super(TemporalGNN, self).__init__()\n",
    "        # Attention Temporal Graph Convolutional Cell\n",
    "        out_channels = 32\n",
    "        self.tgnn = A3TGCN(in_channels=node_features, \n",
    "                           out_channels=out_channels, \n",
    "                           periods=periods)\n",
    "        \n",
    "        self.feature_linear = torch.nn.Linear(node_features, node_features)\n",
    "\n",
    "        # Equals single-shot prediction\n",
    "        self.linear = torch.nn.Linear(out_channels,periods)\n",
    "\n",
    "    def forward(self, x, edge_index, edge_weights):\n",
    "        \"\"\"\n",
    "        x = Node features for T time steps\n",
    "        edge_index = Graph edge indices\n",
    "        edge_weights = Graph edge weights\n",
    "        \"\"\"\n",
    "\n",
    "        x = x.permute(2, 0, 1)\n",
    "        x = self.feature_linear(x)\n",
    "        x = x.permute(1, 2, 0)\n",
    "\n",
    "        h = self.tgnn(x, edge_index, edge_weights)\n",
    "        h = F.relu(h)\n",
    "        h = self.linear(h)\n",
    "        return h\n"
   ]
  },
  {
   "cell_type": "code",
   "execution_count": 44,
   "metadata": {},
   "outputs": [],
   "source": [
    "def train_test(model,device, train_dataset, test_dataset, optimizer, loss_fn, epochs, now):\n",
    "    \"\"\"\n",
    "    Definition of the training loop.\n",
    "    \"\"\"\n",
    "    epoch_losses_train = []\n",
    "    epoch_losses_test = []\n",
    "    \n",
    "    for epoch in range(epochs):\n",
    "        model.train()\n",
    "        epoch_loss_train = 0\n",
    "\n",
    "        subset = 1000\n",
    "        step=0\n",
    "\n",
    "        for snapshot_i in tqdm(train_dataset, desc=\"Training epoch {}\".format(epoch)):\n",
    "            snapshot = loader.get_snapshot(snapshot_i)\n",
    "            snapshot.to(device)\n",
    "            optimizer.zero_grad()\n",
    "            out = model(snapshot.x, snapshot.edge_index,snapshot.edge_weight)\n",
    "            loss = loss_fn()(out, snapshot.y)\n",
    "            loss.backward()\n",
    "            optimizer.step()\n",
    "            epoch_loss_train += loss.detach().cpu().numpy()\n",
    "\n",
    "            step+=1\n",
    "\n",
    "            if step > subset:\n",
    "                break\n",
    "\n",
    "\n",
    "        epoch_losses_train.append(epoch_loss_train)\n",
    "\n",
    "        #print(f\"Epoch {epoch + 1}, FeatureMLP Weights: {model.state_dict()['feature_linear.weight']}\")\n",
    "\n",
    "        model.eval()\n",
    "        epoch_loss_test = 0\n",
    "        with torch.no_grad():\n",
    "\n",
    "            subset = 1000\n",
    "            step=0\n",
    "\n",
    "            for snapshot_j in tqdm(test_dataset, desc=\"Testing epoch {}\".format(epoch)):\n",
    "                snapshot = loader.get_snapshot(snapshot_j)\n",
    "                snapshot.to(device)\n",
    "                out = model(snapshot.x, snapshot.edge_index,snapshot.edge_weight)\n",
    "                loss = loss_fn()(out, snapshot.y).cpu().numpy()\n",
    "                epoch_loss_test += loss\n",
    "\n",
    "                step+=1\n",
    "                if step > subset:\n",
    "                    break\n",
    "\n",
    "            epoch_losses_test.append(epoch_loss_test)\n",
    "            if min(epoch_losses_test) == epoch_loss_test:\n",
    "                torch.save(model.state_dict(), f\"../models/A3TGCN_{now}_{trafo_id}_epochs-{epochs}_in-{num_timesteps_in}_out-{num_timesteps_out}_train-ratio-{train_ratio}_lr-{learning_rate}.pt\")\n",
    "            print(\"Epoch: {}, Train Loss: {:.7f}, Test Loss: {:.7f}\".format(epoch, epoch_loss_train, epoch_loss_test))\n",
    "        \n",
    "        \n",
    "    return epoch_losses_train, epoch_losses_test\n",
    "            "
   ]
  },
  {
   "cell_type": "code",
   "execution_count": 45,
   "metadata": {},
   "outputs": [],
   "source": [
    "def eval(model, loader, eval_dataset, device, loss_fn, std):\n",
    "    with torch.no_grad():\n",
    "        model.eval()\n",
    "        loss_all = 0\n",
    "        loss_elementwise = 0\n",
    "        \n",
    "        steps = 0\n",
    "        for snapshot_i in tqdm(eval_dataset, desc=\"Evaluating\"):\n",
    "            snapshot = loader.get_snapshot(snapshot_i)\n",
    "            steps += 1\n",
    "            snapshot.to(device)\n",
    "            out = model(snapshot.x, snapshot.edge_index,snapshot.edge_weight)\n",
    "            loss_all += loss_fn()(out, snapshot.y).cpu().numpy()\n",
    "            loss_elementwise += loss_fn(reduction=\"none\")(out, snapshot.y).cpu().numpy()\n",
    "        loss_all *= std/steps\n",
    "        loss_elementwise *= std/steps\n",
    "    return loss_all, loss_elementwise"
   ]
  },
  {
   "cell_type": "code",
   "execution_count": 46,
   "metadata": {},
   "outputs": [
    {
     "name": "stdout",
     "output_type": "stream",
     "text": [
      "Running training...\n"
     ]
    },
    {
     "name": "stderr",
     "output_type": "stream",
     "text": [
      "Training epoch 0:   0%|          | 0/49045 [00:00<?, ?it/s]/usr/local/lib/python3.10/site-packages/torch/autograd/__init__.py:251: UserWarning: The operator 'aten::sgn.out' is not currently supported on the MPS backend and will fall back to run on the CPU. This may have performance implications. (Triggered internally at /Users/runner/work/pytorch/pytorch/pytorch/aten/src/ATen/mps/MPSFallback.mm:13.)\n",
      "  Variable._execution_engine.run_backward(  # Calls into the C++ engine to run the backward pass\n",
      "Training epoch 0:   1%|          | 398/49045 [02:04<4:12:41,  3.21it/s]\n"
     ]
    },
    {
     "ename": "KeyboardInterrupt",
     "evalue": "",
     "output_type": "error",
     "traceback": [
      "\u001b[0;31m---------------------------------------------------------------------------\u001b[0m",
      "\u001b[0;31mKeyboardInterrupt\u001b[0m                         Traceback (most recent call last)",
      "\u001b[1;32m/Users/v.kalisnik/Documents/Faks/MLG/Project/notebooks/03-vk-trainingWithFeatureSelection.ipynb Cell 8\u001b[0m line \u001b[0;36m7\n\u001b[1;32m      <a href='vscode-notebook-cell:/Users/v.kalisnik/Documents/Faks/MLG/Project/notebooks/03-vk-trainingWithFeatureSelection.ipynb#X10sZmlsZQ%3D%3D?line=4'>5</a>\u001b[0m optimizer \u001b[39m=\u001b[39m torch\u001b[39m.\u001b[39moptim\u001b[39m.\u001b[39mAdam(model\u001b[39m.\u001b[39mparameters(), lr\u001b[39m=\u001b[39mlearning_rate)\n\u001b[1;32m      <a href='vscode-notebook-cell:/Users/v.kalisnik/Documents/Faks/MLG/Project/notebooks/03-vk-trainingWithFeatureSelection.ipynb#X10sZmlsZQ%3D%3D?line=5'>6</a>\u001b[0m loss_fn \u001b[39m=\u001b[39m torch\u001b[39m.\u001b[39mnn\u001b[39m.\u001b[39mL1Loss\n\u001b[0;32m----> <a href='vscode-notebook-cell:/Users/v.kalisnik/Documents/Faks/MLG/Project/notebooks/03-vk-trainingWithFeatureSelection.ipynb#X10sZmlsZQ%3D%3D?line=6'>7</a>\u001b[0m losses \u001b[39m=\u001b[39m train_test(model, device, train_dataset, test_dataset, optimizer, loss_fn, epochs\u001b[39m=\u001b[39;49mepochs, now\u001b[39m=\u001b[39;49mnow)\n",
      "\u001b[1;32m/Users/v.kalisnik/Documents/Faks/MLG/Project/notebooks/03-vk-trainingWithFeatureSelection.ipynb Cell 8\u001b[0m line \u001b[0;36m2\n\u001b[1;32m     <a href='vscode-notebook-cell:/Users/v.kalisnik/Documents/Faks/MLG/Project/notebooks/03-vk-trainingWithFeatureSelection.ipynb#X10sZmlsZQ%3D%3D?line=18'>19</a>\u001b[0m out \u001b[39m=\u001b[39m model(snapshot\u001b[39m.\u001b[39mx, snapshot\u001b[39m.\u001b[39medge_index,snapshot\u001b[39m.\u001b[39medge_weight)\n\u001b[1;32m     <a href='vscode-notebook-cell:/Users/v.kalisnik/Documents/Faks/MLG/Project/notebooks/03-vk-trainingWithFeatureSelection.ipynb#X10sZmlsZQ%3D%3D?line=19'>20</a>\u001b[0m loss \u001b[39m=\u001b[39m loss_fn()(out, snapshot\u001b[39m.\u001b[39my)\n\u001b[0;32m---> <a href='vscode-notebook-cell:/Users/v.kalisnik/Documents/Faks/MLG/Project/notebooks/03-vk-trainingWithFeatureSelection.ipynb#X10sZmlsZQ%3D%3D?line=20'>21</a>\u001b[0m loss\u001b[39m.\u001b[39;49mbackward()\n\u001b[1;32m     <a href='vscode-notebook-cell:/Users/v.kalisnik/Documents/Faks/MLG/Project/notebooks/03-vk-trainingWithFeatureSelection.ipynb#X10sZmlsZQ%3D%3D?line=21'>22</a>\u001b[0m optimizer\u001b[39m.\u001b[39mstep()\n\u001b[1;32m     <a href='vscode-notebook-cell:/Users/v.kalisnik/Documents/Faks/MLG/Project/notebooks/03-vk-trainingWithFeatureSelection.ipynb#X10sZmlsZQ%3D%3D?line=22'>23</a>\u001b[0m epoch_loss_train \u001b[39m+\u001b[39m\u001b[39m=\u001b[39m loss\u001b[39m.\u001b[39mdetach()\u001b[39m.\u001b[39mcpu()\u001b[39m.\u001b[39mnumpy()\n",
      "File \u001b[0;32m/usr/local/lib/python3.10/site-packages/torch/_tensor.py:492\u001b[0m, in \u001b[0;36mTensor.backward\u001b[0;34m(self, gradient, retain_graph, create_graph, inputs)\u001b[0m\n\u001b[1;32m    482\u001b[0m \u001b[39mif\u001b[39;00m has_torch_function_unary(\u001b[39mself\u001b[39m):\n\u001b[1;32m    483\u001b[0m     \u001b[39mreturn\u001b[39;00m handle_torch_function(\n\u001b[1;32m    484\u001b[0m         Tensor\u001b[39m.\u001b[39mbackward,\n\u001b[1;32m    485\u001b[0m         (\u001b[39mself\u001b[39m,),\n\u001b[0;32m   (...)\u001b[0m\n\u001b[1;32m    490\u001b[0m         inputs\u001b[39m=\u001b[39minputs,\n\u001b[1;32m    491\u001b[0m     )\n\u001b[0;32m--> 492\u001b[0m torch\u001b[39m.\u001b[39;49mautograd\u001b[39m.\u001b[39;49mbackward(\n\u001b[1;32m    493\u001b[0m     \u001b[39mself\u001b[39;49m, gradient, retain_graph, create_graph, inputs\u001b[39m=\u001b[39;49minputs\n\u001b[1;32m    494\u001b[0m )\n",
      "File \u001b[0;32m/usr/local/lib/python3.10/site-packages/torch/autograd/__init__.py:251\u001b[0m, in \u001b[0;36mbackward\u001b[0;34m(tensors, grad_tensors, retain_graph, create_graph, grad_variables, inputs)\u001b[0m\n\u001b[1;32m    246\u001b[0m     retain_graph \u001b[39m=\u001b[39m create_graph\n\u001b[1;32m    248\u001b[0m \u001b[39m# The reason we repeat the same comment below is that\u001b[39;00m\n\u001b[1;32m    249\u001b[0m \u001b[39m# some Python versions print out the first line of a multi-line function\u001b[39;00m\n\u001b[1;32m    250\u001b[0m \u001b[39m# calls in the traceback and some print out the last line\u001b[39;00m\n\u001b[0;32m--> 251\u001b[0m Variable\u001b[39m.\u001b[39;49m_execution_engine\u001b[39m.\u001b[39;49mrun_backward(  \u001b[39m# Calls into the C++ engine to run the backward pass\u001b[39;49;00m\n\u001b[1;32m    252\u001b[0m     tensors,\n\u001b[1;32m    253\u001b[0m     grad_tensors_,\n\u001b[1;32m    254\u001b[0m     retain_graph,\n\u001b[1;32m    255\u001b[0m     create_graph,\n\u001b[1;32m    256\u001b[0m     inputs,\n\u001b[1;32m    257\u001b[0m     allow_unreachable\u001b[39m=\u001b[39;49m\u001b[39mTrue\u001b[39;49;00m,\n\u001b[1;32m    258\u001b[0m     accumulate_grad\u001b[39m=\u001b[39;49m\u001b[39mTrue\u001b[39;49;00m,\n\u001b[1;32m    259\u001b[0m )\n",
      "\u001b[0;31mKeyboardInterrupt\u001b[0m: "
     ]
    }
   ],
   "source": [
    "print(\"Running training...\")\n",
    "\n",
    "device = torch.device(device_str)\n",
    "model = TemporalGNN(node_features=loader.num_features, periods=num_timesteps_out).to(device)\n",
    "optimizer = torch.optim.Adam(model.parameters(), lr=learning_rate)\n",
    "loss_fn = torch.nn.L1Loss\n",
    "losses = train_test(model, device, train_dataset, test_dataset, optimizer, loss_fn, epochs=epochs, now=now)"
   ]
  },
  {
   "cell_type": "code",
   "execution_count": null,
   "metadata": {},
   "outputs": [
    {
     "ename": "NameError",
     "evalue": "name 'losses' is not defined",
     "output_type": "error",
     "traceback": [
      "\u001b[0;31m---------------------------------------------------------------------------\u001b[0m",
      "\u001b[0;31mNameError\u001b[0m                                 Traceback (most recent call last)",
      "\u001b[1;32m/Users/v.kalisnik/Documents/Faks/MLG/Project/notebooks/03-vk-trainingWithFeatureSelection.ipynb Cell 11\u001b[0m line \u001b[0;36m1\n\u001b[0;32m----> <a href='vscode-notebook-cell:/Users/v.kalisnik/Documents/Faks/MLG/Project/notebooks/03-vk-trainingWithFeatureSelection.ipynb#X22sZmlsZQ%3D%3D?line=0'>1</a>\u001b[0m \u001b[39mprint\u001b[39m(losses)\n\u001b[1;32m      <a href='vscode-notebook-cell:/Users/v.kalisnik/Documents/Faks/MLG/Project/notebooks/03-vk-trainingWithFeatureSelection.ipynb#X22sZmlsZQ%3D%3D?line=2'>3</a>\u001b[0m std \u001b[39m=\u001b[39m loader\u001b[39m.\u001b[39mmean_and_std[\u001b[39m\"\u001b[39m\u001b[39mmeasurements\u001b[39m\u001b[39m\"\u001b[39m][\u001b[39m1\u001b[39m][\u001b[39m\"\u001b[39m\u001b[39mvoltage\u001b[39m\u001b[39m\"\u001b[39m]\n\u001b[1;32m      <a href='vscode-notebook-cell:/Users/v.kalisnik/Documents/Faks/MLG/Project/notebooks/03-vk-trainingWithFeatureSelection.ipynb#X22sZmlsZQ%3D%3D?line=4'>5</a>\u001b[0m \u001b[39m#read saved model\u001b[39;00m\n",
      "\u001b[0;31mNameError\u001b[0m: name 'losses' is not defined"
     ]
    }
   ],
   "source": [
    "print(losses)\n",
    "\n",
    "std = loader.mean_and_std[\"measurements\"][1][\"voltage\"]\n",
    "\n",
    "#read saved model\n",
    "model.load_state_dict(torch.load(f\"../models/A3TGCN_{now}_{trafo_id}_epochs-{epochs}_in-{num_timesteps_in}_out-{num_timesteps_out}_train-ratio-{train_ratio}_lr-{learning_rate}.pt\"))\n",
    "\n",
    "loss_all, loss_elementwise = eval(model, eval_dataset, device, loss_fn, std)\n",
    "\n",
    "print(\"Loss all: {:.7f}\".format(loss_all))\n",
    "print(\"Loss elementwise: {}\".format(loss_elementwise))"
   ]
  },
  {
   "cell_type": "code",
   "execution_count": null,
   "metadata": {},
   "outputs": [],
   "source": []
  },
  {
   "cell_type": "code",
   "execution_count": null,
   "metadata": {},
   "outputs": [],
   "source": []
  }
 ],
 "metadata": {
  "kernelspec": {
   "display_name": "Python 3",
   "language": "python",
   "name": "python3"
  },
  "language_info": {
   "codemirror_mode": {
    "name": "ipython",
    "version": 3
   },
   "file_extension": ".py",
   "mimetype": "text/x-python",
   "name": "python",
   "nbconvert_exporter": "python",
   "pygments_lexer": "ipython3",
   "version": "3.10.13"
  }
 },
 "nbformat": 4,
 "nbformat_minor": 2
}
