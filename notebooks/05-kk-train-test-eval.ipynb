{
 "cells": [
  {
   "cell_type": "code",
   "execution_count": 6,
   "metadata": {},
   "outputs": [],
   "source": [
    "import pandas as pd\n",
    "import numpy as np\n",
    "import sys\n",
    "sys.path.append(\"../src/utils\")\n",
    "from utils import SimpleGraphVoltDatasetLoader, read_and_prepare_data\n",
    "from torch_geometric_temporal.signal import temporal_signal_split\n",
    "import torch"
   ]
  },
  {
   "cell_type": "code",
   "execution_count": 7,
   "metadata": {},
   "outputs": [],
   "source": [
    "torch.cuda.empty_cache() "
   ]
  },
  {
   "cell_type": "code",
   "execution_count": 8,
   "metadata": {},
   "outputs": [],
   "source": [
    "trafo_id = \"T1330\"\n",
    "\n",
    "loader = SimpleGraphVoltDatasetLoader(trafo_id)\n",
    "loader_data = loader.get_dataset(num_timesteps_in=12, num_timesteps_out=4)\n",
    "\n",
    "train_dataset, test_eval_dataset = temporal_signal_split(loader_data, train_ratio=0.7)\n",
    "test_dataset, eval_dataset = temporal_signal_split(test_eval_dataset, train_ratio=0.5)\n"
   ]
  },
  {
   "cell_type": "code",
   "execution_count": 4,
   "metadata": {},
   "outputs": [
    {
     "data": {
      "text/plain": [
       "Data(x=[113, 21, 12], edge_index=[2, 114], edge_attr=[114], y=[113, 4])"
      ]
     },
     "execution_count": 4,
     "metadata": {},
     "output_type": "execute_result"
    }
   ],
   "source": [
    "train_dataset[0]"
   ]
  },
  {
   "cell_type": "code",
   "execution_count": 15,
   "metadata": {},
   "outputs": [
    {
     "data": {
      "text/plain": [
       "Data(x=[113, 21, 12], edge_index=[2, 114], edge_attr=[114], y=[113, 4])"
      ]
     },
     "execution_count": 15,
     "metadata": {},
     "output_type": "execute_result"
    }
   ],
   "source": [
    "train_dataset[0]"
   ]
  },
  {
   "cell_type": "code",
   "execution_count": 5,
   "metadata": {},
   "outputs": [
    {
     "data": {
      "text/plain": [
       "4"
      ]
     },
     "execution_count": 5,
     "metadata": {},
     "output_type": "execute_result"
    }
   ],
   "source": [
    "train_dataset[0].x.shape[1]\n",
    "train_dataset[0].y.shape[1]"
   ]
  },
  {
   "cell_type": "code",
   "execution_count": 9,
   "metadata": {},
   "outputs": [],
   "source": [
    "import torch.nn.functional as F\n",
    "from torch_geometric_temporal.nn.recurrent import A3TGCN\n",
    "from tqdm import tqdm"
   ]
  },
  {
   "cell_type": "code",
   "execution_count": 10,
   "metadata": {},
   "outputs": [],
   "source": [
    "class TemporalGNN(torch.nn.Module):\n",
    "    def __init__(self, node_features, periods):\n",
    "        super(TemporalGNN, self).__init__()\n",
    "        # Attention Temporal Graph Convolutional Cell\n",
    "        out_channels = 32\n",
    "        self.tgnn = A3TGCN(in_channels=node_features, \n",
    "                           out_channels=out_channels, \n",
    "                           periods=periods)\n",
    "        # Equals single-shot prediction\n",
    "        self.linear = torch.nn.Linear(out_channels, periods)\n",
    "\n",
    "    def forward(self, x, edge_index):\n",
    "        \"\"\"\n",
    "        x = Node features for T time steps\n",
    "        edge_index = Graph edge indices\n",
    "        \"\"\"\n",
    "        h = self.tgnn(x, edge_index)\n",
    "        h = F.relu(h)\n",
    "        h = self.linear(h)\n",
    "        return h"
   ]
  },
  {
   "cell_type": "code",
   "execution_count": 11,
   "metadata": {},
   "outputs": [],
   "source": [
    "def train_test(model, device, train_dataset, test_dataset, optimizer, loss_fn, epochs):\n",
    "    \"\"\"\n",
    "    Definition of the training loop.\n",
    "    \"\"\"\n",
    "    epoch_losses_train = []\n",
    "    epoch_losses_test = []\n",
    "    \n",
    "    for epoch in range(epochs):\n",
    "        model.train()\n",
    "        epoch_loss_train = 0\n",
    "        for snapshot in tqdm(train_dataset, desc=\"Training epoch {}\".format(epoch)):\n",
    "            snapshot.to(device)\n",
    "            optimizer.zero_grad()\n",
    "            out = model(snapshot.x, snapshot.edge_index)\n",
    "            loss = loss_fn()(out, snapshot.y)\n",
    "            loss.backward()\n",
    "            optimizer.step()\n",
    "            epoch_loss_train += loss.detach().cpu().numpy()\n",
    "        epoch_losses_train.append(epoch_loss_train)\n",
    "        model.eval()\n",
    "        epoch_loss_test = 0\n",
    "        with torch.no_grad():\n",
    "            for snapshot in tqdm(test_dataset, desc=\"Testing epoch {}\".format(epoch)):\n",
    "                snapshot.to(device)\n",
    "                out = model(snapshot.x, snapshot.edge_index)\n",
    "                loss = loss_fn()(out, snapshot.y)\n",
    "                epoch_loss_test += loss.detach().cpu().numpy()\n",
    "            epoch_losses_test.append(epoch_loss_test)\n",
    "            print(\"Epoch: {}, Train Loss: {:.7f}, Test Loss: {:.7f}\".format(epoch, epoch_loss_train, epoch_loss_test))\n",
    "        \n",
    "        \n",
    "    return epoch_losses_train, epoch_losses_test\n",
    "            \n",
    "    \n",
    "    "
   ]
  },
  {
   "cell_type": "code",
   "execution_count": 12,
   "metadata": {},
   "outputs": [
    {
     "name": "stderr",
     "output_type": "stream",
     "text": [
      "Training epoch 0: 49045it [03:45, 217.61it/s]\n",
      "Testing epoch 0: 10510it [00:27, 381.20it/s]\n"
     ]
    },
    {
     "name": "stdout",
     "output_type": "stream",
     "text": [
      "Epoch: 0, Train Loss: 1220.9180334, Test Loss: 7321.8180757\n"
     ]
    },
    {
     "name": "stderr",
     "output_type": "stream",
     "text": [
      "Training epoch 1: 49045it [03:45, 217.34it/s]\n",
      "Testing epoch 1: 10510it [00:28, 373.39it/s]"
     ]
    },
    {
     "name": "stdout",
     "output_type": "stream",
     "text": [
      "Epoch: 1, Train Loss: 573.0778969, Test Loss: 6964.5486616\n"
     ]
    },
    {
     "name": "stderr",
     "output_type": "stream",
     "text": [
      "\n"
     ]
    }
   ],
   "source": [
    "device = torch.device('cuda')\n",
    "model = TemporalGNN(node_features=train_dataset[0].x.shape[1], periods=train_dataset[0].y.shape[1]).to(device)\n",
    "optimizer = torch.optim.Adam(model.parameters(), lr=0.01)\n",
    "loss_fn = torch.nn.L1Loss\n",
    "losses = train_test(model, device, train_dataset, test_dataset, optimizer, loss_fn, epochs=2)"
   ]
  },
  {
   "cell_type": "code",
   "execution_count": 32,
   "metadata": {},
   "outputs": [],
   "source": [
    "std = loader.mean_and_std[\"measurements\"][1][\"voltage\"]"
   ]
  },
  {
   "cell_type": "code",
   "execution_count": 39,
   "metadata": {},
   "outputs": [
    {
     "ename": "",
     "evalue": "",
     "output_type": "error",
     "traceback": [
      "\u001b[1;31mThe Kernel crashed while executing code in the the current cell or a previous cell. Please review the code in the cell(s) to identify a possible cause of the failure. Click <a href='https://aka.ms/vscodeJupyterKernelCrash'>here</a> for more info. View Jupyter <a href='command:jupyter.viewOutput'>log</a> for further details."
     ]
    }
   ],
   "source": [
    "def eval(model, eval_dataset, device, loss_fn, std):\n",
    "    with torch.no_grad():\n",
    "        std = loader.mean_and_std[\"measurements\"][1][\"voltage\"]\n",
    "        model.eval()\n",
    "        loss_all = 0\n",
    "        loss_elementwise = 0\n",
    "        \n",
    "        steps = 0\n",
    "        for snapshot in tqdm(eval_dataset, desc=\"Evaluating\"):\n",
    "            steps += 1\n",
    "            snapshot = eval_dataset[0].to(device)\n",
    "            out = model(snapshot.x, snapshot.edge_index)\n",
    "            loss_all += loss_fn()(out, snapshot.y).cpu().numpy()\n",
    "            loss_elementwise += loss_fn(reduction=\"none\")(out, snapshot.y).cpu().numpy()\n",
    "        loss_all *= std/steps\n",
    "        loss_elementwise *= std/steps\n",
    "        \n",
    "    return loss_all, loss_elementwise"
   ]
  },
  {
   "cell_type": "code",
   "execution_count": 17,
   "metadata": {},
   "outputs": [],
   "source": [
    "#import sleep\n",
    "import time"
   ]
  },
  {
   "cell_type": "code",
   "execution_count": 19,
   "metadata": {},
   "outputs": [],
   "source": [
    "a = torch.randn(1000, 1000).to(device)"
   ]
  },
  {
   "cell_type": "code",
   "execution_count": 21,
   "metadata": {},
   "outputs": [
    {
     "data": {
      "text/plain": [
       "device(type='cuda', index=0)"
      ]
     },
     "execution_count": 21,
     "metadata": {},
     "output_type": "execute_result"
    }
   ],
   "source": [
    "#check on which device is a tensor\n",
    "a.device"
   ]
  },
  {
   "cell_type": "code",
   "execution_count": 1,
   "metadata": {},
   "outputs": [],
   "source": [
    "loss_train, loss_test = ([1194.0763882631436, 714.2401364590041, 725.4053290896118, 732.0262321201153, 633.8496168064885, 436.82765582599677, 332.78621608624235, 702.1066274656914, 680.6812678272836, 547.3687970221508, 557.6793491563294, 496.5474961954169, 368.69029581570067, 430.69174093636684, 404.8518018457107, 319.3614354818128, 331.4466990281362, 306.8085335609503, 287.5826617027633, 253.08790106675588, 333.58399638487026, 252.22530337586068, 271.39466513623483, 295.6837454563938, 279.4590763184242, 432.82811451051384, 415.032352702925, 271.29167147073895, 281.04732171981595, 274.5046267148573, 392.1390510494821, 406.2534522518981, 351.5974020441063, 369.9834475121461, 539.3651843662374, 488.53511515958235, 674.6448653545231, 1593.7771400166675, 634.3314090971835, 510.6811326709576, 547.6558932815678, 937.8391716778278, 1036.5518465717323, 628.6587420576252, 560.7739831702784, 419.1303832898848, 635.6583777721971, 364.28876812709495, 615.0327817709185, 521.0549582515378], [3927.43281796854, 3782.7006290066056, 7213.415033101104, 2362.879269486759, 2634.230386424344, 1662.7156716659665, 1896.6909063013736, 1685.0334544326179, 3985.1150153302588, 1122.9556974922307, 758.9877971936949, 425.8438631547615, 215.15151588385925, 439.51760928705335, 208.84630545927212, 145.44830755330622, 644.1860240283422, 491.55741419130936, 182.7890511956066, 198.23103187023662, 135.49589936295524, 187.81119603547268, 138.96795367239974, 294.6845012232661, 152.59143278049305, 194.65263554477133, 113.72101397905499, 85.17095784517005, 218.1455741082318, 182.2272459086962, 472.47368868486956, 119.09670330630615, 95.99453651555814, 261.2118905019015, 183.4913901737891, 383.01239934563637, 1199.8552622008137, 590.3776230020449, 388.6423648255877, 547.8931721383706, 409.81168330740184, 316.4386995313689, 696.0229505952448, 165.88542330544442, 223.67157765338197, 556.9328961628489, 214.77360255084932, 135.01676847413182, 472.1124603636563, 220.94689676584676])"
   ]
  },
  {
   "cell_type": "code",
   "execution_count": 4,
   "metadata": {},
   "outputs": [
    {
     "data": {
      "text/plain": [
       "85.17095784517005"
      ]
     },
     "execution_count": 4,
     "metadata": {},
     "output_type": "execute_result"
    }
   ],
   "source": [
    "min(loss_test)"
   ]
  },
  {
   "cell_type": "code",
   "execution_count": null,
   "metadata": {},
   "outputs": [],
   "source": [
    "pd.Timestamp.now().strftime(\"%Y%m%d%H%M%S\")"
   ]
  },
  {
   "cell_type": "code",
   "execution_count": 2,
   "metadata": {},
   "outputs": [
    {
     "data": {
      "text/plain": [
       "[<matplotlib.lines.Line2D at 0x7fa3aeca7d90>]"
      ]
     },
     "execution_count": 2,
     "metadata": {},
     "output_type": "execute_result"
    },
    {
     "data": {
      "image/png": "[encoded data removed]",
      "text/plain": [
       "<Figure size 640x480 with 1 Axes>"
      ]
     },
     "metadata": {},
     "output_type": "display_data"
    }
   ],
   "source": [
    "import matplotlib.pyplot as plt\n",
    "plt.plot(loss_train)"
   ]
  },
  {
   "cell_type": "code",
   "execution_count": 3,
   "metadata": {},
   "outputs": [
    {
     "data": {
      "text/plain": [
       "[<matplotlib.lines.Line2D at 0x7fa3ac97d3d0>]"
      ]
     },
     "execution_count": 3,
     "metadata": {},
     "output_type": "execute_result"
    },
    {
     "data": {
      "image/png": "[encoded data removed]",
      "text/plain": [
       "<Figure size 640x480 with 1 Axes>"
      ]
     },
     "metadata": {},
     "output_type": "display_data"
    }
   ],
   "source": [
    "plt.plot(loss_test)"
   ]
  }
 ],
 "metadata": {
  "kernelspec": {
   "display_name": "mlg4_env",
   "language": "python",
   "name": "python3"
  },
  "language_info": {
   "codemirror_mode": {
    "name": "ipython",
    "version": 3
   },
   "file_extension": ".py",
   "mimetype": "text/x-python",
   "name": "python",
   "nbconvert_exporter": "python",
   "pygments_lexer": "ipython3",
   "version": "3.11.0"
  }
 },
 "nbformat": 4,
 "nbformat_minor": 2
}
