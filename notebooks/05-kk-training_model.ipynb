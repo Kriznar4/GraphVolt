{
 "cells": [
  {
   "cell_type": "code",
   "execution_count": 1,
   "metadata": {},
   "outputs": [],
   "source": [
    "import pandas as pd\n",
    "import numpy as np\n",
    "import sys\n",
    "sys.path.append(\"../src/utils\")\n",
    "from utils import read_and_prepare_data, get_array_of_timestemps, SimpleGraphVoltDatasetLoader"
   ]
  },
  {
   "cell_type": "code",
   "execution_count": 17,
   "metadata": {},
   "outputs": [],
   "source": [
    "#clear gpu memory\n",
    "import torch\n",
    "torch.cuda.empty_cache()"
   ]
  },
  {
   "cell_type": "code",
   "execution_count": 2,
   "metadata": {},
   "outputs": [],
   "source": [
    "from tqdm import tqdm"
   ]
  },
  {
   "cell_type": "code",
   "execution_count": 3,
   "metadata": {},
   "outputs": [],
   "source": [
    "from torch_geometric_temporal.signal import StaticGraphTemporalSignal\n",
    "from torch_geometric_temporal.signal import temporal_signal_split"
   ]
  },
  {
   "cell_type": "code",
   "execution_count": 4,
   "metadata": {},
   "outputs": [],
   "source": [
    "trafo_id = \"T1330\""
   ]
  },
  {
   "cell_type": "code",
   "execution_count": 5,
   "metadata": {},
   "outputs": [],
   "source": [
    "loader = SimpleGraphVoltDatasetLoader(trafo_id)"
   ]
  },
  {
   "cell_type": "code",
   "execution_count": 6,
   "metadata": {},
   "outputs": [
    {
     "name": "stdout",
     "output_type": "stream",
     "text": [
      "(2, 114)\n",
      "(114, 5)\n",
      "(114,)\n",
      "(70065, 113, 21, 12)\n",
      "(70065, 113, 4)\n"
     ]
    }
   ],
   "source": [
    "loader_data = loader.get_dataset(num_timesteps_in=12, num_timesteps_out=4)"
   ]
  },
  {
   "cell_type": "code",
   "execution_count": 9,
   "metadata": {},
   "outputs": [],
   "source": [
    "train_dataset, test_dataset = temporal_signal_split(loader_data, train_ratio=0.8)"
   ]
  },
  {
   "cell_type": "code",
   "execution_count": 18,
   "metadata": {},
   "outputs": [],
   "source": [
    "import torch\n",
    "import torch.nn.functional as F\n",
    "from torch_geometric_temporal.nn.recurrent import A3TGCN\n",
    "\n",
    "class TemporalGNN(torch.nn.Module):\n",
    "    def __init__(self, node_features, periods):\n",
    "        super(TemporalGNN, self).__init__()\n",
    "        # Attention Temporal Graph Convolutional Cell\n",
    "        out_channels = 256\n",
    "        self.tgnn = A3TGCN(in_channels=node_features, \n",
    "                           out_channels=out_channels, \n",
    "                           periods=periods)\n",
    "        # Equals single-shot prediction\n",
    "        self.linear = torch.nn.Linear(out_channels, periods)\n",
    "\n",
    "    def forward(self, x, edge_index):\n",
    "        \"\"\"\n",
    "        x = Node features for T time steps\n",
    "        edge_index = Graph edge indices\n",
    "        \"\"\"\n",
    "        h = self.tgnn(x, edge_index)\n",
    "        h = F.relu(h)\n",
    "        h = self.linear(h)\n",
    "        return h"
   ]
  },
  {
   "cell_type": "code",
   "execution_count": null,
   "metadata": {},
   "outputs": [],
   "source": [
    "from torch_geometric.data import InMemoryDataset, Data"
   ]
  },
  {
   "cell_type": "code",
   "execution_count": 26,
   "metadata": {},
   "outputs": [
    {
     "name": "stdout",
     "output_type": "stream",
     "text": [
      "Running training...\n",
      "--------- Epoch 0 ---------\n"
     ]
    },
    {
     "name": "stderr",
     "output_type": "stream",
     "text": [
      "0it [00:00, ?it/s]"
     ]
    },
    {
     "name": "stderr",
     "output_type": "stream",
     "text": [
      "56052it [05:07, 182.09it/s]\n"
     ]
    },
    {
     "ename": "AttributeError",
     "evalue": "'float' object has no attribute 'backward'",
     "output_type": "error",
     "traceback": [
      "\u001b[0;31m---------------------------------------------------------------------------\u001b[0m",
      "\u001b[0;31mAttributeError\u001b[0m                            Traceback (most recent call last)",
      "\u001b[1;32m/home/karel/Documents/GraphVolt/notebooks/05-kk-training_model.ipynb Cell 10\u001b[0m line \u001b[0;36m4\n\u001b[1;32m     <a href='vscode-notebook-cell:/home/karel/Documents/GraphVolt/notebooks/05-kk-training_model.ipynb#X11sZmlsZQ%3D%3D?line=38'>39</a>\u001b[0m \u001b[39melse\u001b[39;00m: \n\u001b[1;32m     <a href='vscode-notebook-cell:/home/karel/Documents/GraphVolt/notebooks/05-kk-training_model.ipynb#X11sZmlsZQ%3D%3D?line=39'>40</a>\u001b[0m     loss \u001b[39m=\u001b[39m loss \u001b[39m/\u001b[39m step\u001b[39m%\u001b[39mbatch_size\n\u001b[0;32m---> <a href='vscode-notebook-cell:/home/karel/Documents/GraphVolt/notebooks/05-kk-training_model.ipynb#X11sZmlsZQ%3D%3D?line=40'>41</a>\u001b[0m     loss\u001b[39m.\u001b[39;49mbackward()\n\u001b[1;32m     <a href='vscode-notebook-cell:/home/karel/Documents/GraphVolt/notebooks/05-kk-training_model.ipynb#X11sZmlsZQ%3D%3D?line=41'>42</a>\u001b[0m     \u001b[39mprint\u001b[39m(\u001b[39m\"\u001b[39m\u001b[39mEpoch \u001b[39m\u001b[39m{}\u001b[39;00m\u001b[39m, batch to \u001b[39m\u001b[39m{}\u001b[39;00m\u001b[39m train MSE: \u001b[39m\u001b[39m{:.4f}\u001b[39;00m\u001b[39m\"\u001b[39m\u001b[39m.\u001b[39mformat(epoch, step, loss\u001b[39m.\u001b[39mitem()))\n\u001b[1;32m     <a href='vscode-notebook-cell:/home/karel/Documents/GraphVolt/notebooks/05-kk-training_model.ipynb#X11sZmlsZQ%3D%3D?line=42'>43</a>\u001b[0m     epoch_loss\u001b[39m.\u001b[39mappend(loss\u001b[39m.\u001b[39mdetach()\u001b[39m.\u001b[39mcpu()\u001b[39m.\u001b[39mnumpy())\n",
      "\u001b[0;31mAttributeError\u001b[0m: 'float' object has no attribute 'backward'"
     ]
    }
   ],
   "source": [
    "# GPU support\n",
    "device = torch.device('cuda') # cuda\n",
    "subset = 2000\n",
    "\n",
    "# Create model and optimizers\n",
    "model = TemporalGNN(node_features=loader_data[0].x.shape[1], periods=loader_data[0].y.shape[1]).to(device)\n",
    "optimizer = torch.optim.Adam(model.parameters(), lr=0.01)\n",
    "model.train()\n",
    "batch_size = 1\n",
    "\n",
    "epochs_loss = []\n",
    "\n",
    "print(\"Running training...\")\n",
    "for epoch in range(2): \n",
    "    optimizer.zero_grad()\n",
    "    epoch_loss = []\n",
    "    loss = 0\n",
    "    step = 0\n",
    "    print(f\"--------- Epoch {epoch} ---------\")\n",
    "    for snapshot in tqdm(train_dataset):\n",
    "        #print(f\"--- Step {step} ---\")\n",
    "        snapshot = snapshot.to(device)\n",
    "        # Get model predictions\n",
    "        y_hat = model(snapshot.x, snapshot.edge_index)\n",
    "        # Mean squared error\n",
    "        intermedaiate_loss = torch.mean((y_hat-snapshot.y)**2) \n",
    "        loss = loss + intermedaiate_loss\n",
    "        step += 1\n",
    "        # if step%1000==0:\n",
    "        #   print(f\"Intermediate loss at step {step}: {intermedaiate_loss.item()}\")\n",
    "        # # if step > subset:\n",
    "        #   break\n",
    "        if step%batch_size == 0:\n",
    "            loss = loss / batch_size\n",
    "            loss.backward()\n",
    "            # print(\"Epoch {}, batch to {} train MSE: {:.4f}\".format(epoch, step, loss.item()))\n",
    "            epoch_loss.append(loss.detach().cpu().numpy())\n",
    "            loss = 0\n",
    "    else: \n",
    "        loss = loss / step%batch_size\n",
    "        loss.backward()\n",
    "        print(\"Epoch {}, batch to {} train MSE: {:.4f}\".format(epoch, step, loss.item()))\n",
    "        epoch_loss.append(loss.detach().cpu().numpy())\n",
    "        loss = 0\n",
    "\n",
    "    # loss = loss / (step + 1)\n",
    "    # loss.backward()\n",
    "    # optimizer.step()\n",
    "    # optimizer.zero_grad()\n",
    "    # print(\"Epoch {} train MSE: {:.4f}\".format(epoch, loss.item()))\n",
    "    # epochs_loss.append(loss.detach().cpu().numpy())\n",
    "    \n",
    "    optimizer.step()\n",
    "    epochs_loss.append(np.mean(epoch_loss))"
   ]
  },
  {
   "cell_type": "code",
   "execution_count": 22,
   "metadata": {},
   "outputs": [
    {
     "data": {
      "text/plain": [
       "[0.9517212,\n",
       " 0.844185,\n",
       " 0.7281337,\n",
       " 0.6892663,\n",
       " 0.584166,\n",
       " 0.5243544,\n",
       " 0.4647213,\n",
       " 0.4040572,\n",
       " 0.36148706,\n",
       " 0.31185463,\n",
       " 0.2460794,\n",
       " 0.1925943,\n",
       " 0.15185113,\n",
       " 0.12874386,\n",
       " 0.122715734,\n",
       " 0.12410098,\n",
       " 0.13172211,\n",
       " 0.13668941,\n",
       " 0.13093674,\n",
       " 0.11975519]"
      ]
     },
     "execution_count": 22,
     "metadata": {},
     "output_type": "execute_result"
    }
   ],
   "source": [
    "epochs_loss"
   ]
  },
  {
   "cell_type": "code",
   "execution_count": 24,
   "metadata": {},
   "outputs": [
    {
     "data": {
      "text/plain": [
       "Data(x=[113, 21, 12], edge_index=[2, 114], edge_attr=[114], y=[113, 4])"
      ]
     },
     "execution_count": 24,
     "metadata": {},
     "output_type": "execute_result"
    }
   ],
   "source": [
    "loader_data[0]"
   ]
  }
 ],
 "metadata": {
  "kernelspec": {
   "display_name": "graphvolt_env",
   "language": "python",
   "name": "python3"
  },
  "language_info": {
   "codemirror_mode": {
    "name": "ipython",
    "version": 3
   },
   "file_extension": ".py",
   "mimetype": "text/x-python",
   "name": "python",
   "nbconvert_exporter": "python",
   "pygments_lexer": "ipython3",
   "version": "3.11.0"
  }
 },
 "nbformat": 4,
 "nbformat_minor": 2
}
