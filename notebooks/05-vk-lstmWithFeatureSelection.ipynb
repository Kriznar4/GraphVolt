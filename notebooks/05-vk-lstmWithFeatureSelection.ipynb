{
 "cells": [
  {
   "cell_type": "code",
   "execution_count": 1,
   "metadata": {},
   "outputs": [
    {
     "name": "stderr",
     "output_type": "stream",
     "text": [
      "/usr/local/lib/python3.10/site-packages/tqdm/auto.py:21: TqdmWarning: IProgress not found. Please update jupyter and ipywidgets. See https://ipywidgets.readthedocs.io/en/stable/user_install.html\n",
      "  from .autonotebook import tqdm as notebook_tqdm\n"
     ]
    }
   ],
   "source": [
    "import pandas as pd\n",
    "import numpy as np\n",
    "import sys\n",
    "sys.path.append(\"../src/utils\")\n",
    "from utils import SimpleGraphVoltDatasetLoader_Lazy, read_and_prepare_data\n",
    "from torch_geometric_temporal.signal import temporal_signal_split\n",
    "import torch\n",
    "import torch.nn.functional as F\n",
    "from torch_geometric_temporal.nn.recurrent import GConvLSTM\n",
    "from tqdm import tqdm\n"
   ]
  },
  {
   "cell_type": "code",
   "execution_count": 2,
   "metadata": {},
   "outputs": [
    {
     "name": "stdout",
     "output_type": "stream",
     "text": [
      "tensor([1.], device='mps:0')\n"
     ]
    }
   ],
   "source": [
    "if torch.backends.mps.is_available():\n",
    "    mps_device = torch.device(\"mps\")\n",
    "    x = torch.ones(1, device=mps_device)\n",
    "    print (x)\n",
    "else:\n",
    "    print (\"MPS device not found.\")"
   ]
  },
  {
   "cell_type": "code",
   "execution_count": 3,
   "metadata": {},
   "outputs": [],
   "source": [
    "trafo_id = \"T1330\"\n",
    "epochs = 25\n",
    "num_timesteps_in = 12\n",
    "num_timesteps_out = 4\n",
    "train_ratio = 0.7\n",
    "test_ratio_vs_eval_ratio = 0.5\n",
    "learning_rate = 0.01\n",
    "device_str = 'cpu'\n",
    "\n",
    "#----------------------\n",
    "if device_str == 'mps':\n",
    "    torch.cuda.empty_cache()\n",
    "\n",
    "#get dateime string of now\n",
    "now = pd.Timestamp.now().strftime(\"%Y%m%d%H%M%S\")"
   ]
  },
  {
   "cell_type": "code",
   "execution_count": 4,
   "metadata": {},
   "outputs": [
    {
     "name": "stdout",
     "output_type": "stream",
     "text": [
      "Loading data...\n",
      "Voltage index: 5\n",
      " done\n"
     ]
    }
   ],
   "source": [
    "print(\"Loading data...\")\n",
    "loader = SimpleGraphVoltDatasetLoader_Lazy(trafo_id, num_timesteps_in, num_timesteps_out)\n",
    "print(\" done\")\n",
    "loader_data_index = loader.snapshot_index"
   ]
  },
  {
   "cell_type": "code",
   "execution_count": 7,
   "metadata": {},
   "outputs": [],
   "source": [
    "train_dataset, test_eval_dataset = loader.temporal_signal_split_lazy_cut(loader_data_index)\n",
    "test_dataset, eval_dataset = loader.temporal_signal_split_lazy(test_eval_dataset, test_ratio_vs_eval_ratio)"
   ]
  },
  {
   "cell_type": "code",
   "execution_count": 14,
   "metadata": {},
   "outputs": [],
   "source": [
    "class TemporalLSTMGNN(torch.nn.Module):\n",
    "    def __init__(self,node_features, edge_features, periods):\n",
    "        super(TemporalLSTMGNN, self).__init__()\n",
    "\n",
    "        out_channels= 32\n",
    "        K = 5 # size of Chebyshev filter\n",
    "        self.recurrent_1 = GConvLSTM(\n",
    "            in_channels=node_features, \n",
    "            out_channels=out_channels, \n",
    "            K=K, normalization='sym', \n",
    "            bias=False)\n",
    "        \n",
    "        self.feature_linear = torch.nn.Linear(node_features, node_features)\n",
    "\n",
    "        self.edge_features_linear = torch.nn.Linear(edge_features, 1)\n",
    "\n",
    "        self.linear = torch.nn.Linear(out_channels, periods)\n",
    "\n",
    "    def forward(self, timesteps, edge_index, edge_features):\n",
    "\n",
    "        #print(\"edge_features is none: \",torch.isnan(edge_features).any())\n",
    "\n",
    "        edge_features = self.edge_features_linear(edge_features).squeeze()\n",
    "        edge_features = F.relu(edge_features)\n",
    "\n",
    "        #print(\"edge_features is none: \",torch.isnan(edge_features).any())\n",
    "\n",
    "        h1, c1 = None, None\n",
    "        for x in timesteps:\n",
    "\n",
    "            #print(\"x is none: \",torch.isnan(x).any())\n",
    "\n",
    "            x = self.feature_linear(x)\n",
    "\n",
    "            #print(\"x is none: \",torch.isnan(x).any())\n",
    "\n",
    "            h1, c1 = self.recurrent_1(x, edge_index,edge_features,H=h1, C=c1)\n",
    "\n",
    "            #print(\"h1 is none: \",torch.isnan(h1).any())\n",
    "            #print(\"c1 is none: \",torch.isnan(c1).any())\n",
    "\n",
    "        x = F.relu(h1)\n",
    "        x = self.linear(x)\n",
    "\n",
    "        #print(\"x is none: \",torch.isnan(x).any())\n",
    "\n",
    "        return x\n",
    "    "
   ]
  },
  {
   "cell_type": "code",
   "execution_count": 15,
   "metadata": {},
   "outputs": [],
   "source": [
    "def train_test(model,device, train_dataset, test_dataset, optimizer, loss_fn, epochs, now):\n",
    "    \"\"\"\n",
    "    Definition of the training loop.\n",
    "    \"\"\"\n",
    "    epoch_losses_train = []\n",
    "    epoch_losses_test = []\n",
    "    \n",
    "    for epoch in range(epochs):\n",
    "        model.train()\n",
    "        epoch_loss_train = 0\n",
    "\n",
    "        step = 0\n",
    "        substeps = 10\n",
    "\n",
    "        for snapshot_i in tqdm(train_dataset, desc=\"Training epoch {}\".format(epoch)):\n",
    "            snapshot = loader.get_snapshot(snapshot_i)\n",
    "\n",
    "            #print(snapshot.x.shape)\n",
    "            #print(snapshot.edge_index.shape)\n",
    "\n",
    "            snapshot.to(device)\n",
    "            optimizer.zero_grad()\n",
    "\n",
    "            x = snapshot.x.permute(2,0,1)\n",
    "            #print(x.shape)\n",
    "\n",
    "            #for x_t in x:\n",
    "                #print(x_t.shape)\n",
    "\n",
    "            out = model(x, snapshot.edge_index,snapshot.edge_attr)\n",
    "            #print(out.shape)\n",
    "\n",
    "            loss = loss_fn()(out, snapshot.y)\n",
    "            #print(snapshot.y.shape)\n",
    "            loss.backward()\n",
    "            optimizer.step()\n",
    "            epoch_loss_train += loss.detach().cpu().numpy()\n",
    "\n",
    "            step += 1\n",
    "\n",
    "            if step == substeps:\n",
    "                break\n",
    "\n",
    "        epoch_losses_train.append(epoch_loss_train)\n",
    "\n",
    "        #print(f\"Epoch {epoch + 1},Weights: {model.state_dict()}\")\n",
    "\n",
    "        model.eval()\n",
    "        epoch_loss_test = 0\n",
    "        with torch.no_grad():\n",
    "\n",
    "            step = 0\n",
    "            substeps = 10\n",
    "\n",
    "            for snapshot_j in tqdm(test_dataset, desc=\"Testing epoch {}\".format(epoch)):\n",
    "                snapshot = loader.get_snapshot(snapshot_j)\n",
    "                snapshot.to(device)\n",
    "\n",
    "                x = snapshot.x.permute(2,0,1)\n",
    "                out = model(x, snapshot.edge_index,snapshot.edge_attr)\n",
    "\n",
    "                loss = loss_fn()(out, snapshot.y).cpu().numpy()\n",
    "                epoch_loss_test += loss\n",
    "\n",
    "                step += 1\n",
    "\n",
    "                if step == substeps:\n",
    "                    break\n",
    "\n",
    "            epoch_losses_test.append(epoch_loss_test)\n",
    "            if min(epoch_losses_test) == epoch_loss_test:\n",
    "                torch.save(model.state_dict(), f\"../models/A3TGCN_{now}_{trafo_id}_epochs-{epochs}_in-{num_timesteps_in}_out-{num_timesteps_out}_train-ratio-{train_ratio}_lr-{learning_rate}.pt\")\n",
    "            print(\"Epoch: {}, Train Loss: {:.7f}, Test Loss: {:.7f}\".format(epoch, epoch_loss_train, epoch_loss_test))\n",
    "        \n",
    "        \n",
    "    return epoch_losses_train, epoch_losses_test"
   ]
  },
  {
   "cell_type": "code",
   "execution_count": 16,
   "metadata": {},
   "outputs": [],
   "source": [
    "def eval(model, eval_dataset, device, loss_fn, std):\n",
    "    with torch.no_grad():\n",
    "        model.eval()\n",
    "        loss_all = 0\n",
    "        loss_elementwise = 0\n",
    "        \n",
    "        steps = 0\n",
    "        for snapshot in tqdm(eval_dataset, desc=\"Evaluating\"):\n",
    "            steps += 1\n",
    "            snapshot.to(device)\n",
    "            \n",
    "            x = snapshot.x.permute(2,0,1)\n",
    "            out= model(x, snapshot.edge_index,snapshot.edge_attr)\n",
    "\n",
    "            loss_all += loss_fn()(out, snapshot.y).cpu().numpy()\n",
    "            loss_elementwise += loss_fn(reduction=\"none\")(out, snapshot.y).cpu().numpy()\n",
    "\n",
    "            if steps == 10:\n",
    "                break\n",
    "            \n",
    "        loss_all *= std/steps\n",
    "        loss_elementwise *= std/steps\n",
    "    return loss_all, loss_elementwise"
   ]
  },
  {
   "cell_type": "code",
   "execution_count": 17,
   "metadata": {},
   "outputs": [
    {
     "name": "stdout",
     "output_type": "stream",
     "text": [
      "Running training...\n"
     ]
    },
    {
     "name": "stderr",
     "output_type": "stream",
     "text": [
      "Training epoch 0:   0%|          | 9/10800 [00:02<43:01,  4.18it/s]\n",
      "Testing epoch 0:   0%|          | 9/5400 [00:00<09:33,  9.40it/s]\n"
     ]
    },
    {
     "name": "stdout",
     "output_type": "stream",
     "text": [
      "Epoch: 0, Train Loss: 1.2799850, Test Loss: 3.4996683\n"
     ]
    },
    {
     "name": "stderr",
     "output_type": "stream",
     "text": [
      "Training epoch 1:   0%|          | 9/10800 [00:01<37:02,  4.85it/s]\n",
      "Testing epoch 1:   0%|          | 9/5400 [00:00<08:56, 10.04it/s]\n"
     ]
    },
    {
     "name": "stdout",
     "output_type": "stream",
     "text": [
      "Epoch: 1, Train Loss: 0.8688666, Test Loss: 3.1366207\n"
     ]
    },
    {
     "name": "stderr",
     "output_type": "stream",
     "text": [
      "Training epoch 2:   0%|          | 9/10800 [00:01<36:35,  4.91it/s]\n",
      "Testing epoch 2:   0%|          | 9/5400 [00:00<09:27,  9.50it/s]\n"
     ]
    },
    {
     "name": "stdout",
     "output_type": "stream",
     "text": [
      "Epoch: 2, Train Loss: 0.7946824, Test Loss: 3.2789200\n"
     ]
    },
    {
     "name": "stderr",
     "output_type": "stream",
     "text": [
      "Training epoch 3:   0%|          | 5/10800 [00:00<35:39,  5.05it/s]\n"
     ]
    },
    {
     "ename": "KeyboardInterrupt",
     "evalue": "",
     "output_type": "error",
     "traceback": [
      "\u001b[0;31m---------------------------------------------------------------------------\u001b[0m",
      "\u001b[0;31mKeyboardInterrupt\u001b[0m                         Traceback (most recent call last)",
      "\u001b[1;32m/Users/v.kalisnik/Documents/Faks/MLG/Project/notebooks/05-vk-lstmWithFeatureSelection.ipynb Cell 9\u001b[0m line \u001b[0;36m6\n\u001b[1;32m      <a href='vscode-notebook-cell:/Users/v.kalisnik/Documents/Faks/MLG/Project/notebooks/05-vk-lstmWithFeatureSelection.ipynb#X10sZmlsZQ%3D%3D?line=3'>4</a>\u001b[0m optimizer \u001b[39m=\u001b[39m torch\u001b[39m.\u001b[39moptim\u001b[39m.\u001b[39mAdam(model\u001b[39m.\u001b[39mparameters(), lr\u001b[39m=\u001b[39mlearning_rate)\n\u001b[1;32m      <a href='vscode-notebook-cell:/Users/v.kalisnik/Documents/Faks/MLG/Project/notebooks/05-vk-lstmWithFeatureSelection.ipynb#X10sZmlsZQ%3D%3D?line=4'>5</a>\u001b[0m loss_fn \u001b[39m=\u001b[39m torch\u001b[39m.\u001b[39mnn\u001b[39m.\u001b[39mMSELoss\n\u001b[0;32m----> <a href='vscode-notebook-cell:/Users/v.kalisnik/Documents/Faks/MLG/Project/notebooks/05-vk-lstmWithFeatureSelection.ipynb#X10sZmlsZQ%3D%3D?line=5'>6</a>\u001b[0m losses \u001b[39m=\u001b[39m train_test(model, device, train_dataset, test_dataset, optimizer, loss_fn, epochs\u001b[39m=\u001b[39;49mepochs, now\u001b[39m=\u001b[39;49mnow)\n",
      "\u001b[1;32m/Users/v.kalisnik/Documents/Faks/MLG/Project/notebooks/05-vk-lstmWithFeatureSelection.ipynb Cell 9\u001b[0m line \u001b[0;36m3\n\u001b[1;32m     <a href='vscode-notebook-cell:/Users/v.kalisnik/Documents/Faks/MLG/Project/notebooks/05-vk-lstmWithFeatureSelection.ipynb#X10sZmlsZQ%3D%3D?line=23'>24</a>\u001b[0m x \u001b[39m=\u001b[39m snapshot\u001b[39m.\u001b[39mx\u001b[39m.\u001b[39mpermute(\u001b[39m2\u001b[39m,\u001b[39m0\u001b[39m,\u001b[39m1\u001b[39m)\n\u001b[1;32m     <a href='vscode-notebook-cell:/Users/v.kalisnik/Documents/Faks/MLG/Project/notebooks/05-vk-lstmWithFeatureSelection.ipynb#X10sZmlsZQ%3D%3D?line=24'>25</a>\u001b[0m \u001b[39m#print(x.shape)\u001b[39;00m\n\u001b[1;32m     <a href='vscode-notebook-cell:/Users/v.kalisnik/Documents/Faks/MLG/Project/notebooks/05-vk-lstmWithFeatureSelection.ipynb#X10sZmlsZQ%3D%3D?line=25'>26</a>\u001b[0m \n\u001b[1;32m     <a href='vscode-notebook-cell:/Users/v.kalisnik/Documents/Faks/MLG/Project/notebooks/05-vk-lstmWithFeatureSelection.ipynb#X10sZmlsZQ%3D%3D?line=26'>27</a>\u001b[0m \u001b[39m#for x_t in x:\u001b[39;00m\n\u001b[1;32m     <a href='vscode-notebook-cell:/Users/v.kalisnik/Documents/Faks/MLG/Project/notebooks/05-vk-lstmWithFeatureSelection.ipynb#X10sZmlsZQ%3D%3D?line=27'>28</a>\u001b[0m     \u001b[39m#print(x_t.shape)\u001b[39;00m\n\u001b[0;32m---> <a href='vscode-notebook-cell:/Users/v.kalisnik/Documents/Faks/MLG/Project/notebooks/05-vk-lstmWithFeatureSelection.ipynb#X10sZmlsZQ%3D%3D?line=29'>30</a>\u001b[0m out \u001b[39m=\u001b[39m model(x, snapshot\u001b[39m.\u001b[39;49medge_index,snapshot\u001b[39m.\u001b[39;49medge_attr)\n\u001b[1;32m     <a href='vscode-notebook-cell:/Users/v.kalisnik/Documents/Faks/MLG/Project/notebooks/05-vk-lstmWithFeatureSelection.ipynb#X10sZmlsZQ%3D%3D?line=30'>31</a>\u001b[0m \u001b[39m#print(out.shape)\u001b[39;00m\n\u001b[1;32m     <a href='vscode-notebook-cell:/Users/v.kalisnik/Documents/Faks/MLG/Project/notebooks/05-vk-lstmWithFeatureSelection.ipynb#X10sZmlsZQ%3D%3D?line=32'>33</a>\u001b[0m loss \u001b[39m=\u001b[39m loss_fn()(out, snapshot\u001b[39m.\u001b[39my)\n",
      "File \u001b[0;32m/usr/local/lib/python3.10/site-packages/torch/nn/modules/module.py:1518\u001b[0m, in \u001b[0;36mModule._wrapped_call_impl\u001b[0;34m(self, *args, **kwargs)\u001b[0m\n\u001b[1;32m   1516\u001b[0m     \u001b[39mreturn\u001b[39;00m \u001b[39mself\u001b[39m\u001b[39m.\u001b[39m_compiled_call_impl(\u001b[39m*\u001b[39margs, \u001b[39m*\u001b[39m\u001b[39m*\u001b[39mkwargs)  \u001b[39m# type: ignore[misc]\u001b[39;00m\n\u001b[1;32m   1517\u001b[0m \u001b[39melse\u001b[39;00m:\n\u001b[0;32m-> 1518\u001b[0m     \u001b[39mreturn\u001b[39;00m \u001b[39mself\u001b[39;49m\u001b[39m.\u001b[39;49m_call_impl(\u001b[39m*\u001b[39;49margs, \u001b[39m*\u001b[39;49m\u001b[39m*\u001b[39;49mkwargs)\n",
      "File \u001b[0;32m/usr/local/lib/python3.10/site-packages/torch/nn/modules/module.py:1527\u001b[0m, in \u001b[0;36mModule._call_impl\u001b[0;34m(self, *args, **kwargs)\u001b[0m\n\u001b[1;32m   1522\u001b[0m \u001b[39m# If we don't have any hooks, we want to skip the rest of the logic in\u001b[39;00m\n\u001b[1;32m   1523\u001b[0m \u001b[39m# this function, and just call forward.\u001b[39;00m\n\u001b[1;32m   1524\u001b[0m \u001b[39mif\u001b[39;00m \u001b[39mnot\u001b[39;00m (\u001b[39mself\u001b[39m\u001b[39m.\u001b[39m_backward_hooks \u001b[39mor\u001b[39;00m \u001b[39mself\u001b[39m\u001b[39m.\u001b[39m_backward_pre_hooks \u001b[39mor\u001b[39;00m \u001b[39mself\u001b[39m\u001b[39m.\u001b[39m_forward_hooks \u001b[39mor\u001b[39;00m \u001b[39mself\u001b[39m\u001b[39m.\u001b[39m_forward_pre_hooks\n\u001b[1;32m   1525\u001b[0m         \u001b[39mor\u001b[39;00m _global_backward_pre_hooks \u001b[39mor\u001b[39;00m _global_backward_hooks\n\u001b[1;32m   1526\u001b[0m         \u001b[39mor\u001b[39;00m _global_forward_hooks \u001b[39mor\u001b[39;00m _global_forward_pre_hooks):\n\u001b[0;32m-> 1527\u001b[0m     \u001b[39mreturn\u001b[39;00m forward_call(\u001b[39m*\u001b[39;49margs, \u001b[39m*\u001b[39;49m\u001b[39m*\u001b[39;49mkwargs)\n\u001b[1;32m   1529\u001b[0m \u001b[39mtry\u001b[39;00m:\n\u001b[1;32m   1530\u001b[0m     result \u001b[39m=\u001b[39m \u001b[39mNone\u001b[39;00m\n",
      "\u001b[1;32m/Users/v.kalisnik/Documents/Faks/MLG/Project/notebooks/05-vk-lstmWithFeatureSelection.ipynb Cell 9\u001b[0m line \u001b[0;36m3\n\u001b[1;32m     <a href='vscode-notebook-cell:/Users/v.kalisnik/Documents/Faks/MLG/Project/notebooks/05-vk-lstmWithFeatureSelection.ipynb#X10sZmlsZQ%3D%3D?line=32'>33</a>\u001b[0m     x \u001b[39m=\u001b[39m \u001b[39mself\u001b[39m\u001b[39m.\u001b[39mfeature_linear(x)\n\u001b[1;32m     <a href='vscode-notebook-cell:/Users/v.kalisnik/Documents/Faks/MLG/Project/notebooks/05-vk-lstmWithFeatureSelection.ipynb#X10sZmlsZQ%3D%3D?line=34'>35</a>\u001b[0m     \u001b[39m#print(\"x is none: \",torch.isnan(x).any())\u001b[39;00m\n\u001b[0;32m---> <a href='vscode-notebook-cell:/Users/v.kalisnik/Documents/Faks/MLG/Project/notebooks/05-vk-lstmWithFeatureSelection.ipynb#X10sZmlsZQ%3D%3D?line=36'>37</a>\u001b[0m     h1, c1 \u001b[39m=\u001b[39m \u001b[39mself\u001b[39;49m\u001b[39m.\u001b[39;49mrecurrent_1(x, edge_index,edge_features,H\u001b[39m=\u001b[39;49mh1, C\u001b[39m=\u001b[39;49mc1)\n\u001b[1;32m     <a href='vscode-notebook-cell:/Users/v.kalisnik/Documents/Faks/MLG/Project/notebooks/05-vk-lstmWithFeatureSelection.ipynb#X10sZmlsZQ%3D%3D?line=38'>39</a>\u001b[0m     \u001b[39m#print(\"h1 is none: \",torch.isnan(h1).any())\u001b[39;00m\n\u001b[1;32m     <a href='vscode-notebook-cell:/Users/v.kalisnik/Documents/Faks/MLG/Project/notebooks/05-vk-lstmWithFeatureSelection.ipynb#X10sZmlsZQ%3D%3D?line=39'>40</a>\u001b[0m     \u001b[39m#print(\"c1 is none: \",torch.isnan(c1).any())\u001b[39;00m\n\u001b[1;32m     <a href='vscode-notebook-cell:/Users/v.kalisnik/Documents/Faks/MLG/Project/notebooks/05-vk-lstmWithFeatureSelection.ipynb#X10sZmlsZQ%3D%3D?line=41'>42</a>\u001b[0m x \u001b[39m=\u001b[39m F\u001b[39m.\u001b[39mrelu(h1)\n",
      "File \u001b[0;32m/usr/local/lib/python3.10/site-packages/torch/nn/modules/module.py:1518\u001b[0m, in \u001b[0;36mModule._wrapped_call_impl\u001b[0;34m(self, *args, **kwargs)\u001b[0m\n\u001b[1;32m   1516\u001b[0m     \u001b[39mreturn\u001b[39;00m \u001b[39mself\u001b[39m\u001b[39m.\u001b[39m_compiled_call_impl(\u001b[39m*\u001b[39margs, \u001b[39m*\u001b[39m\u001b[39m*\u001b[39mkwargs)  \u001b[39m# type: ignore[misc]\u001b[39;00m\n\u001b[1;32m   1517\u001b[0m \u001b[39melse\u001b[39;00m:\n\u001b[0;32m-> 1518\u001b[0m     \u001b[39mreturn\u001b[39;00m \u001b[39mself\u001b[39;49m\u001b[39m.\u001b[39;49m_call_impl(\u001b[39m*\u001b[39;49margs, \u001b[39m*\u001b[39;49m\u001b[39m*\u001b[39;49mkwargs)\n",
      "File \u001b[0;32m/usr/local/lib/python3.10/site-packages/torch/nn/modules/module.py:1527\u001b[0m, in \u001b[0;36mModule._call_impl\u001b[0;34m(self, *args, **kwargs)\u001b[0m\n\u001b[1;32m   1522\u001b[0m \u001b[39m# If we don't have any hooks, we want to skip the rest of the logic in\u001b[39;00m\n\u001b[1;32m   1523\u001b[0m \u001b[39m# this function, and just call forward.\u001b[39;00m\n\u001b[1;32m   1524\u001b[0m \u001b[39mif\u001b[39;00m \u001b[39mnot\u001b[39;00m (\u001b[39mself\u001b[39m\u001b[39m.\u001b[39m_backward_hooks \u001b[39mor\u001b[39;00m \u001b[39mself\u001b[39m\u001b[39m.\u001b[39m_backward_pre_hooks \u001b[39mor\u001b[39;00m \u001b[39mself\u001b[39m\u001b[39m.\u001b[39m_forward_hooks \u001b[39mor\u001b[39;00m \u001b[39mself\u001b[39m\u001b[39m.\u001b[39m_forward_pre_hooks\n\u001b[1;32m   1525\u001b[0m         \u001b[39mor\u001b[39;00m _global_backward_pre_hooks \u001b[39mor\u001b[39;00m _global_backward_hooks\n\u001b[1;32m   1526\u001b[0m         \u001b[39mor\u001b[39;00m _global_forward_hooks \u001b[39mor\u001b[39;00m _global_forward_pre_hooks):\n\u001b[0;32m-> 1527\u001b[0m     \u001b[39mreturn\u001b[39;00m forward_call(\u001b[39m*\u001b[39;49margs, \u001b[39m*\u001b[39;49m\u001b[39m*\u001b[39;49mkwargs)\n\u001b[1;32m   1529\u001b[0m \u001b[39mtry\u001b[39;00m:\n\u001b[1;32m   1530\u001b[0m     result \u001b[39m=\u001b[39m \u001b[39mNone\u001b[39;00m\n",
      "File \u001b[0;32m/usr/local/lib/python3.10/site-packages/torch_geometric_temporal/nn/recurrent/gconv_lstm.py:233\u001b[0m, in \u001b[0;36mGConvLSTM.forward\u001b[0;34m(self, X, edge_index, edge_weight, H, C, lambda_max)\u001b[0m\n\u001b[1;32m    231\u001b[0m I \u001b[39m=\u001b[39m \u001b[39mself\u001b[39m\u001b[39m.\u001b[39m_calculate_input_gate(X, edge_index, edge_weight, H, C, lambda_max)\n\u001b[1;32m    232\u001b[0m F \u001b[39m=\u001b[39m \u001b[39mself\u001b[39m\u001b[39m.\u001b[39m_calculate_forget_gate(X, edge_index, edge_weight, H, C, lambda_max)\n\u001b[0;32m--> 233\u001b[0m C \u001b[39m=\u001b[39m \u001b[39mself\u001b[39;49m\u001b[39m.\u001b[39;49m_calculate_cell_state(X, edge_index, edge_weight, H, C, I, F, lambda_max)\n\u001b[1;32m    234\u001b[0m O \u001b[39m=\u001b[39m \u001b[39mself\u001b[39m\u001b[39m.\u001b[39m_calculate_output_gate(X, edge_index, edge_weight, H, C, lambda_max)\n\u001b[1;32m    235\u001b[0m H \u001b[39m=\u001b[39m \u001b[39mself\u001b[39m\u001b[39m.\u001b[39m_calculate_hidden_state(O, C)\n",
      "File \u001b[0;32m/usr/local/lib/python3.10/site-packages/torch_geometric_temporal/nn/recurrent/gconv_lstm.py:184\u001b[0m, in \u001b[0;36mGConvLSTM._calculate_cell_state\u001b[0;34m(self, X, edge_index, edge_weight, H, C, I, F, lambda_max)\u001b[0m\n\u001b[1;32m    182\u001b[0m \u001b[39mdef\u001b[39;00m \u001b[39m_calculate_cell_state\u001b[39m(\u001b[39mself\u001b[39m, X, edge_index, edge_weight, H, C, I, F, lambda_max):\n\u001b[1;32m    183\u001b[0m     T \u001b[39m=\u001b[39m \u001b[39mself\u001b[39m\u001b[39m.\u001b[39mconv_x_c(X, edge_index, edge_weight, lambda_max\u001b[39m=\u001b[39mlambda_max)\n\u001b[0;32m--> 184\u001b[0m     T \u001b[39m=\u001b[39m T \u001b[39m+\u001b[39m \u001b[39mself\u001b[39;49m\u001b[39m.\u001b[39;49mconv_h_c(H, edge_index, edge_weight, lambda_max\u001b[39m=\u001b[39;49mlambda_max)\n\u001b[1;32m    185\u001b[0m     T \u001b[39m=\u001b[39m T \u001b[39m+\u001b[39m \u001b[39mself\u001b[39m\u001b[39m.\u001b[39mb_c\n\u001b[1;32m    186\u001b[0m     T \u001b[39m=\u001b[39m torch\u001b[39m.\u001b[39mtanh(T)\n",
      "File \u001b[0;32m/usr/local/lib/python3.10/site-packages/torch/nn/modules/module.py:1518\u001b[0m, in \u001b[0;36mModule._wrapped_call_impl\u001b[0;34m(self, *args, **kwargs)\u001b[0m\n\u001b[1;32m   1516\u001b[0m     \u001b[39mreturn\u001b[39;00m \u001b[39mself\u001b[39m\u001b[39m.\u001b[39m_compiled_call_impl(\u001b[39m*\u001b[39margs, \u001b[39m*\u001b[39m\u001b[39m*\u001b[39mkwargs)  \u001b[39m# type: ignore[misc]\u001b[39;00m\n\u001b[1;32m   1517\u001b[0m \u001b[39melse\u001b[39;00m:\n\u001b[0;32m-> 1518\u001b[0m     \u001b[39mreturn\u001b[39;00m \u001b[39mself\u001b[39;49m\u001b[39m.\u001b[39;49m_call_impl(\u001b[39m*\u001b[39;49margs, \u001b[39m*\u001b[39;49m\u001b[39m*\u001b[39;49mkwargs)\n",
      "File \u001b[0;32m/usr/local/lib/python3.10/site-packages/torch/nn/modules/module.py:1527\u001b[0m, in \u001b[0;36mModule._call_impl\u001b[0;34m(self, *args, **kwargs)\u001b[0m\n\u001b[1;32m   1522\u001b[0m \u001b[39m# If we don't have any hooks, we want to skip the rest of the logic in\u001b[39;00m\n\u001b[1;32m   1523\u001b[0m \u001b[39m# this function, and just call forward.\u001b[39;00m\n\u001b[1;32m   1524\u001b[0m \u001b[39mif\u001b[39;00m \u001b[39mnot\u001b[39;00m (\u001b[39mself\u001b[39m\u001b[39m.\u001b[39m_backward_hooks \u001b[39mor\u001b[39;00m \u001b[39mself\u001b[39m\u001b[39m.\u001b[39m_backward_pre_hooks \u001b[39mor\u001b[39;00m \u001b[39mself\u001b[39m\u001b[39m.\u001b[39m_forward_hooks \u001b[39mor\u001b[39;00m \u001b[39mself\u001b[39m\u001b[39m.\u001b[39m_forward_pre_hooks\n\u001b[1;32m   1525\u001b[0m         \u001b[39mor\u001b[39;00m _global_backward_pre_hooks \u001b[39mor\u001b[39;00m _global_backward_hooks\n\u001b[1;32m   1526\u001b[0m         \u001b[39mor\u001b[39;00m _global_forward_hooks \u001b[39mor\u001b[39;00m _global_forward_pre_hooks):\n\u001b[0;32m-> 1527\u001b[0m     \u001b[39mreturn\u001b[39;00m forward_call(\u001b[39m*\u001b[39;49margs, \u001b[39m*\u001b[39;49m\u001b[39m*\u001b[39;49mkwargs)\n\u001b[1;32m   1529\u001b[0m \u001b[39mtry\u001b[39;00m:\n\u001b[1;32m   1530\u001b[0m     result \u001b[39m=\u001b[39m \u001b[39mNone\u001b[39;00m\n",
      "File \u001b[0;32m/usr/local/lib/python3.10/site-packages/torch_geometric/nn/conv/cheb_conv.py:171\u001b[0m, in \u001b[0;36mChebConv.forward\u001b[0;34m(self, x, edge_index, edge_weight, batch, lambda_max)\u001b[0m\n\u001b[1;32m    168\u001b[0m     out \u001b[39m=\u001b[39m out \u001b[39m+\u001b[39m \u001b[39mself\u001b[39m\u001b[39m.\u001b[39mlins[\u001b[39m1\u001b[39m](Tx_1)\n\u001b[1;32m    170\u001b[0m \u001b[39mfor\u001b[39;00m lin \u001b[39min\u001b[39;00m \u001b[39mself\u001b[39m\u001b[39m.\u001b[39mlins[\u001b[39m2\u001b[39m:]:\n\u001b[0;32m--> 171\u001b[0m     Tx_2 \u001b[39m=\u001b[39m \u001b[39mself\u001b[39;49m\u001b[39m.\u001b[39;49mpropagate(edge_index, x\u001b[39m=\u001b[39;49mTx_1, norm\u001b[39m=\u001b[39;49mnorm, size\u001b[39m=\u001b[39;49m\u001b[39mNone\u001b[39;49;00m)\n\u001b[1;32m    172\u001b[0m     Tx_2 \u001b[39m=\u001b[39m \u001b[39m2.\u001b[39m \u001b[39m*\u001b[39m Tx_2 \u001b[39m-\u001b[39m Tx_0\n\u001b[1;32m    173\u001b[0m     out \u001b[39m=\u001b[39m out \u001b[39m+\u001b[39m lin\u001b[39m.\u001b[39mforward(Tx_2)\n",
      "File \u001b[0;32m/usr/local/lib/python3.10/site-packages/torch_geometric/nn/conv/message_passing.py:480\u001b[0m, in \u001b[0;36mMessagePassing.propagate\u001b[0;34m(self, edge_index, size, **kwargs)\u001b[0m\n\u001b[1;32m    477\u001b[0m     \u001b[39mif\u001b[39;00m res \u001b[39mis\u001b[39;00m \u001b[39mnot\u001b[39;00m \u001b[39mNone\u001b[39;00m:\n\u001b[1;32m    478\u001b[0m         aggr_kwargs \u001b[39m=\u001b[39m res[\u001b[39m0\u001b[39m] \u001b[39mif\u001b[39;00m \u001b[39misinstance\u001b[39m(res, \u001b[39mtuple\u001b[39m) \u001b[39melse\u001b[39;00m res\n\u001b[0;32m--> 480\u001b[0m out \u001b[39m=\u001b[39m \u001b[39mself\u001b[39;49m\u001b[39m.\u001b[39;49maggregate(out, \u001b[39m*\u001b[39;49m\u001b[39m*\u001b[39;49maggr_kwargs)\n\u001b[1;32m    482\u001b[0m \u001b[39mfor\u001b[39;00m hook \u001b[39min\u001b[39;00m \u001b[39mself\u001b[39m\u001b[39m.\u001b[39m_aggregate_forward_hooks\u001b[39m.\u001b[39mvalues():\n\u001b[1;32m    483\u001b[0m     res \u001b[39m=\u001b[39m hook(\u001b[39mself\u001b[39m, (aggr_kwargs, ), out)\n",
      "File \u001b[0;32m/usr/local/lib/python3.10/site-packages/torch_geometric/nn/conv/message_passing.py:604\u001b[0m, in \u001b[0;36mMessagePassing.aggregate\u001b[0;34m(self, inputs, index, ptr, dim_size)\u001b[0m\n\u001b[1;32m    591\u001b[0m \u001b[39mdef\u001b[39;00m \u001b[39maggregate\u001b[39m(\u001b[39mself\u001b[39m, inputs: Tensor, index: Tensor,\n\u001b[1;32m    592\u001b[0m               ptr: Optional[Tensor] \u001b[39m=\u001b[39m \u001b[39mNone\u001b[39;00m,\n\u001b[1;32m    593\u001b[0m               dim_size: Optional[\u001b[39mint\u001b[39m] \u001b[39m=\u001b[39m \u001b[39mNone\u001b[39;00m) \u001b[39m-\u001b[39m\u001b[39m>\u001b[39m Tensor:\n\u001b[1;32m    594\u001b[0m \u001b[39m    \u001b[39m\u001b[39mr\u001b[39m\u001b[39m\"\"\"Aggregates messages from neighbors as\u001b[39;00m\n\u001b[1;32m    595\u001b[0m \u001b[39m    :math:`\\bigoplus_{j \\in \\mathcal{N}(i)}`.\u001b[39;00m\n\u001b[1;32m    596\u001b[0m \n\u001b[0;32m   (...)\u001b[0m\n\u001b[1;32m    602\u001b[0m \u001b[39m    as specified in :meth:`__init__` by the :obj:`aggr` argument.\u001b[39;00m\n\u001b[1;32m    603\u001b[0m \u001b[39m    \"\"\"\u001b[39;00m\n\u001b[0;32m--> 604\u001b[0m     \u001b[39mreturn\u001b[39;00m \u001b[39mself\u001b[39;49m\u001b[39m.\u001b[39;49maggr_module(inputs, index, ptr\u001b[39m=\u001b[39;49mptr, dim_size\u001b[39m=\u001b[39;49mdim_size,\n\u001b[1;32m    605\u001b[0m                             dim\u001b[39m=\u001b[39;49m\u001b[39mself\u001b[39;49m\u001b[39m.\u001b[39;49mnode_dim)\n",
      "File \u001b[0;32m/usr/local/lib/python3.10/site-packages/torch_geometric/experimental.py:115\u001b[0m, in \u001b[0;36mdisable_dynamic_shapes.<locals>.decorator.<locals>.wrapper\u001b[0;34m(*args, **kwargs)\u001b[0m\n\u001b[1;32m    112\u001b[0m \u001b[39m@functools\u001b[39m\u001b[39m.\u001b[39mwraps(func)\n\u001b[1;32m    113\u001b[0m \u001b[39mdef\u001b[39;00m \u001b[39mwrapper\u001b[39m(\u001b[39m*\u001b[39margs, \u001b[39m*\u001b[39m\u001b[39m*\u001b[39mkwargs):\n\u001b[1;32m    114\u001b[0m     \u001b[39mif\u001b[39;00m \u001b[39mnot\u001b[39;00m is_experimental_mode_enabled(\u001b[39m'\u001b[39m\u001b[39mdisable_dynamic_shapes\u001b[39m\u001b[39m'\u001b[39m):\n\u001b[0;32m--> 115\u001b[0m         \u001b[39mreturn\u001b[39;00m func(\u001b[39m*\u001b[39;49margs, \u001b[39m*\u001b[39;49m\u001b[39m*\u001b[39;49mkwargs)\n\u001b[1;32m    117\u001b[0m     \u001b[39mfor\u001b[39;00m required_arg \u001b[39min\u001b[39;00m required_args:\n\u001b[1;32m    118\u001b[0m         index \u001b[39m=\u001b[39m required_args_pos[required_arg]\n",
      "File \u001b[0;32m/usr/local/lib/python3.10/site-packages/torch_geometric/nn/aggr/base.py:125\u001b[0m, in \u001b[0;36mAggregation.__call__\u001b[0;34m(self, x, index, ptr, dim_size, dim, **kwargs)\u001b[0m\n\u001b[1;32m    122\u001b[0m     dim_size \u001b[39m=\u001b[39m \u001b[39mint\u001b[39m(index\u001b[39m.\u001b[39mmax()) \u001b[39m+\u001b[39m \u001b[39m1\u001b[39m \u001b[39mif\u001b[39;00m index\u001b[39m.\u001b[39mnumel() \u001b[39m>\u001b[39m \u001b[39m0\u001b[39m \u001b[39melse\u001b[39;00m \u001b[39m0\u001b[39m\n\u001b[1;32m    124\u001b[0m \u001b[39mtry\u001b[39;00m:\n\u001b[0;32m--> 125\u001b[0m     \u001b[39mreturn\u001b[39;00m \u001b[39msuper\u001b[39;49m()\u001b[39m.\u001b[39;49m\u001b[39m__call__\u001b[39;49m(x, index\u001b[39m=\u001b[39;49mindex, ptr\u001b[39m=\u001b[39;49mptr, dim_size\u001b[39m=\u001b[39;49mdim_size,\n\u001b[1;32m    126\u001b[0m                             dim\u001b[39m=\u001b[39;49mdim, \u001b[39m*\u001b[39;49m\u001b[39m*\u001b[39;49mkwargs)\n\u001b[1;32m    127\u001b[0m \u001b[39mexcept\u001b[39;00m (\u001b[39mIndexError\u001b[39;00m, \u001b[39mRuntimeError\u001b[39;00m) \u001b[39mas\u001b[39;00m e:\n\u001b[1;32m    128\u001b[0m     \u001b[39mif\u001b[39;00m index \u001b[39mis\u001b[39;00m \u001b[39mnot\u001b[39;00m \u001b[39mNone\u001b[39;00m:\n",
      "File \u001b[0;32m/usr/local/lib/python3.10/site-packages/torch/nn/modules/module.py:1518\u001b[0m, in \u001b[0;36mModule._wrapped_call_impl\u001b[0;34m(self, *args, **kwargs)\u001b[0m\n\u001b[1;32m   1516\u001b[0m     \u001b[39mreturn\u001b[39;00m \u001b[39mself\u001b[39m\u001b[39m.\u001b[39m_compiled_call_impl(\u001b[39m*\u001b[39margs, \u001b[39m*\u001b[39m\u001b[39m*\u001b[39mkwargs)  \u001b[39m# type: ignore[misc]\u001b[39;00m\n\u001b[1;32m   1517\u001b[0m \u001b[39melse\u001b[39;00m:\n\u001b[0;32m-> 1518\u001b[0m     \u001b[39mreturn\u001b[39;00m \u001b[39mself\u001b[39;49m\u001b[39m.\u001b[39;49m_call_impl(\u001b[39m*\u001b[39;49margs, \u001b[39m*\u001b[39;49m\u001b[39m*\u001b[39;49mkwargs)\n",
      "File \u001b[0;32m/usr/local/lib/python3.10/site-packages/torch/nn/modules/module.py:1527\u001b[0m, in \u001b[0;36mModule._call_impl\u001b[0;34m(self, *args, **kwargs)\u001b[0m\n\u001b[1;32m   1522\u001b[0m \u001b[39m# If we don't have any hooks, we want to skip the rest of the logic in\u001b[39;00m\n\u001b[1;32m   1523\u001b[0m \u001b[39m# this function, and just call forward.\u001b[39;00m\n\u001b[1;32m   1524\u001b[0m \u001b[39mif\u001b[39;00m \u001b[39mnot\u001b[39;00m (\u001b[39mself\u001b[39m\u001b[39m.\u001b[39m_backward_hooks \u001b[39mor\u001b[39;00m \u001b[39mself\u001b[39m\u001b[39m.\u001b[39m_backward_pre_hooks \u001b[39mor\u001b[39;00m \u001b[39mself\u001b[39m\u001b[39m.\u001b[39m_forward_hooks \u001b[39mor\u001b[39;00m \u001b[39mself\u001b[39m\u001b[39m.\u001b[39m_forward_pre_hooks\n\u001b[1;32m   1525\u001b[0m         \u001b[39mor\u001b[39;00m _global_backward_pre_hooks \u001b[39mor\u001b[39;00m _global_backward_hooks\n\u001b[1;32m   1526\u001b[0m         \u001b[39mor\u001b[39;00m _global_forward_hooks \u001b[39mor\u001b[39;00m _global_forward_pre_hooks):\n\u001b[0;32m-> 1527\u001b[0m     \u001b[39mreturn\u001b[39;00m forward_call(\u001b[39m*\u001b[39;49margs, \u001b[39m*\u001b[39;49m\u001b[39m*\u001b[39;49mkwargs)\n\u001b[1;32m   1529\u001b[0m \u001b[39mtry\u001b[39;00m:\n\u001b[1;32m   1530\u001b[0m     result \u001b[39m=\u001b[39m \u001b[39mNone\u001b[39;00m\n",
      "File \u001b[0;32m/usr/local/lib/python3.10/site-packages/torch_geometric/nn/aggr/basic.py:22\u001b[0m, in \u001b[0;36mSumAggregation.forward\u001b[0;34m(self, x, index, ptr, dim_size, dim)\u001b[0m\n\u001b[1;32m     19\u001b[0m \u001b[39mdef\u001b[39;00m \u001b[39mforward\u001b[39m(\u001b[39mself\u001b[39m, x: Tensor, index: Optional[Tensor] \u001b[39m=\u001b[39m \u001b[39mNone\u001b[39;00m,\n\u001b[1;32m     20\u001b[0m             ptr: Optional[Tensor] \u001b[39m=\u001b[39m \u001b[39mNone\u001b[39;00m, dim_size: Optional[\u001b[39mint\u001b[39m] \u001b[39m=\u001b[39m \u001b[39mNone\u001b[39;00m,\n\u001b[1;32m     21\u001b[0m             dim: \u001b[39mint\u001b[39m \u001b[39m=\u001b[39m \u001b[39m-\u001b[39m\u001b[39m2\u001b[39m) \u001b[39m-\u001b[39m\u001b[39m>\u001b[39m Tensor:\n\u001b[0;32m---> 22\u001b[0m     \u001b[39mreturn\u001b[39;00m \u001b[39mself\u001b[39;49m\u001b[39m.\u001b[39;49mreduce(x, index, ptr, dim_size, dim, reduce\u001b[39m=\u001b[39;49m\u001b[39m'\u001b[39;49m\u001b[39msum\u001b[39;49m\u001b[39m'\u001b[39;49m)\n",
      "File \u001b[0;32m/usr/local/lib/python3.10/site-packages/torch_geometric/nn/aggr/base.py:176\u001b[0m, in \u001b[0;36mAggregation.reduce\u001b[0;34m(self, x, index, ptr, dim_size, dim, reduce)\u001b[0m\n\u001b[1;32m    173\u001b[0m     \u001b[39mreturn\u001b[39;00m segment(x, ptr, reduce\u001b[39m=\u001b[39mreduce)\n\u001b[1;32m    175\u001b[0m \u001b[39massert\u001b[39;00m index \u001b[39mis\u001b[39;00m \u001b[39mnot\u001b[39;00m \u001b[39mNone\u001b[39;00m\n\u001b[0;32m--> 176\u001b[0m \u001b[39mreturn\u001b[39;00m scatter(x, index, dim, dim_size, reduce)\n",
      "File \u001b[0;32m/usr/local/lib/python3.10/site-packages/torch_geometric/utils/scatter.py:70\u001b[0m, in \u001b[0;36mscatter\u001b[0;34m(src, index, dim, dim_size, reduce)\u001b[0m\n\u001b[1;32m     68\u001b[0m \u001b[39mif\u001b[39;00m reduce \u001b[39m==\u001b[39m \u001b[39m'\u001b[39m\u001b[39msum\u001b[39m\u001b[39m'\u001b[39m \u001b[39mor\u001b[39;00m reduce \u001b[39m==\u001b[39m \u001b[39m'\u001b[39m\u001b[39madd\u001b[39m\u001b[39m'\u001b[39m:\n\u001b[1;32m     69\u001b[0m     index \u001b[39m=\u001b[39m broadcast(index, src, dim)\n\u001b[0;32m---> 70\u001b[0m     \u001b[39mreturn\u001b[39;00m src\u001b[39m.\u001b[39;49mnew_zeros(size)\u001b[39m.\u001b[39;49mscatter_add_(dim, index, src)\n\u001b[1;32m     72\u001b[0m \u001b[39mif\u001b[39;00m reduce \u001b[39m==\u001b[39m \u001b[39m'\u001b[39m\u001b[39mmean\u001b[39m\u001b[39m'\u001b[39m:\n\u001b[1;32m     73\u001b[0m     count \u001b[39m=\u001b[39m src\u001b[39m.\u001b[39mnew_zeros(dim_size)\n",
      "\u001b[0;31mKeyboardInterrupt\u001b[0m: "
     ]
    }
   ],
   "source": [
    "print(\"Running training...\")\n",
    "device = torch.device(device_str)\n",
    "model = TemporalLSTMGNN(node_features=loader.num_features, edge_features=loader.num_edge_features ,periods=num_timesteps_out).to(device)\n",
    "optimizer = torch.optim.Adam(model.parameters(), lr=learning_rate)\n",
    "loss_fn = torch.nn.MSELoss\n",
    "losses = train_test(model, device, train_dataset, test_dataset, optimizer, loss_fn, epochs=epochs, now=now)"
   ]
  },
  {
   "cell_type": "code",
   "execution_count": 24,
   "metadata": {},
   "outputs": [
    {
     "ename": "NameError",
     "evalue": "name 'losses' is not defined",
     "output_type": "error",
     "traceback": [
      "\u001b[0;31m---------------------------------------------------------------------------\u001b[0m",
      "\u001b[0;31mNameError\u001b[0m                                 Traceback (most recent call last)",
      "\u001b[1;32m/Users/v.kalisnik/Documents/Faks/MLG/Project/notebooks/00-vk-testing.ipynb Cell 13\u001b[0m line \u001b[0;36m1\n\u001b[0;32m----> <a href='vscode-notebook-cell:/Users/v.kalisnik/Documents/Faks/MLG/Project/notebooks/00-vk-testing.ipynb#X54sZmlsZQ%3D%3D?line=0'>1</a>\u001b[0m \u001b[39mprint\u001b[39m(losses)\n\u001b[1;32m      <a href='vscode-notebook-cell:/Users/v.kalisnik/Documents/Faks/MLG/Project/notebooks/00-vk-testing.ipynb#X54sZmlsZQ%3D%3D?line=2'>3</a>\u001b[0m std \u001b[39m=\u001b[39m loader\u001b[39m.\u001b[39mmean_and_std[\u001b[39m\"\u001b[39m\u001b[39mmeasurements\u001b[39m\u001b[39m\"\u001b[39m][\u001b[39m1\u001b[39m][\u001b[39m\"\u001b[39m\u001b[39mvoltage\u001b[39m\u001b[39m\"\u001b[39m]\n\u001b[1;32m      <a href='vscode-notebook-cell:/Users/v.kalisnik/Documents/Faks/MLG/Project/notebooks/00-vk-testing.ipynb#X54sZmlsZQ%3D%3D?line=4'>5</a>\u001b[0m \u001b[39m#read saved model\u001b[39;00m\n",
      "\u001b[0;31mNameError\u001b[0m: name 'losses' is not defined"
     ]
    }
   ],
   "source": [
    "print(losses)\n",
    "\n",
    "std = loader.mean_and_std[\"measurements\"][1][\"voltage\"]\n",
    "\n",
    "#read saved model\n",
    "model.load_state_dict(torch.load(f\"../models/A3TGCN_{now}_{trafo_id}_epochs-{epochs}_in-{num_timesteps_in}_out-{num_timesteps_out}_train-ratio-{train_ratio}_lr-{learning_rate}.pt\"))\n",
    "\n",
    "loss_all, loss_elementwise = eval(model, eval_dataset, device, loss_fn, std)\n",
    "\n",
    "print(\"Loss all: {:.7f}\".format(loss_all))\n",
    "print(\"Loss elementwise: {}\".format(loss_elementwise))"
   ]
  },
  {
   "cell_type": "code",
   "execution_count": null,
   "metadata": {},
   "outputs": [],
   "source": []
  },
  {
   "cell_type": "code",
   "execution_count": null,
   "metadata": {},
   "outputs": [],
   "source": []
  }
 ],
 "metadata": {
  "kernelspec": {
   "display_name": "Python 3",
   "language": "python",
   "name": "python3"
  },
  "language_info": {
   "codemirror_mode": {
    "name": "ipython",
    "version": 3
   },
   "file_extension": ".py",
   "mimetype": "text/x-python",
   "name": "python",
   "nbconvert_exporter": "python",
   "pygments_lexer": "ipython3",
   "version": "3.10.13"
  }
 },
 "nbformat": 4,
 "nbformat_minor": 2
}
