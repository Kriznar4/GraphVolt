{
 "cells": [
  {
   "cell_type": "code",
   "execution_count": 1,
   "metadata": {},
   "outputs": [],
   "source": [
    "import pandas as pd\n",
    "import numpy as np\n",
    "import sys\n",
    "sys.path.append(\"../src/utils\")\n",
    "from utils import SimpleGraphVoltDatasetLoader, read_and_prepare_data\n",
    "from torch_geometric_temporal.signal import temporal_signal_split\n",
    "import torch\n",
    "import torch.nn.functional as F\n",
    "from torch_geometric_temporal.nn.recurrent import A3TGCN\n",
    "from tqdm import tqdm"
   ]
  },
  {
   "cell_type": "code",
   "execution_count": 2,
   "metadata": {},
   "outputs": [],
   "source": [
    "model_name = 'A3TGCN_20231211002327.pt'\n",
    "trafo_id = \"T1330\"\n",
    "num_timesteps_in = 12\n",
    "num_timesteps_out = 4\n",
    "train_ratio = 0.7\n",
    "test_ratio_vs_eval_ratio = 0.5"
   ]
  },
  {
   "cell_type": "code",
   "execution_count": 3,
   "metadata": {},
   "outputs": [
    {
     "name": "stdout",
     "output_type": "stream",
     "text": [
      "Loading data...\n",
      "Voltage index: 5\n",
      "Voltage index: 5\n"
     ]
    }
   ],
   "source": [
    "print(\"Loading data...\")\n",
    "loader = SimpleGraphVoltDatasetLoader(trafo_id)\n",
    "loader_data = loader.get_dataset(num_timesteps_in=num_timesteps_in, num_timesteps_out=num_timesteps_out)\n",
    "\n",
    "train_dataset, test_eval_dataset = temporal_signal_split(loader_data, train_ratio=train_ratio)\n",
    "test_dataset, eval_dataset = temporal_signal_split(test_eval_dataset, train_ratio=test_ratio_vs_eval_ratio)\n"
   ]
  },
  {
   "cell_type": "code",
   "execution_count": 4,
   "metadata": {},
   "outputs": [
    {
     "data": {
      "text/plain": [
       "Index(['node_id', 'power_production', 'power_consumption', 'PMO', 'TR',\n",
       "       'junction', 'date_time', 'voltage', 'temperature_2m', 'snow_depth',\n",
       "       'cloud_cover', 'is_day', 'shortwave_radiation', 'direct_radiation',\n",
       "       'diffuse_radiation', 'direct_normal_irradiance', 'active_power',\n",
       "       'reactive_power', 'year', 'month', 'day', 'hour', 'minute'],\n",
       "      dtype='object')"
      ]
     },
     "metadata": {},
     "output_type": "display_data"
    },
    {
     "name": "stdout",
     "output_type": "stream",
     "text": [
      "5\n"
     ]
    }
   ],
   "source": [
    "for node, df in loader._df_measurments.groupby(\"date_time\"):\n",
    "    #if node == 0:\n",
    "    #get index of voltade column\n",
    "        voltage_ind = df.drop(columns=[\"date_time\", \"node_id\"]).columns.get_loc(\"voltage\") \n",
    "        display(df.columns)\n",
    "        print(voltage_ind)\n",
    "        break"
   ]
  },
  {
   "cell_type": "code",
   "execution_count": 5,
   "metadata": {},
   "outputs": [
    {
     "data": {
      "text/plain": [
       "(113, 21, 70080)"
      ]
     },
     "execution_count": 5,
     "metadata": {},
     "output_type": "execute_result"
    }
   ],
   "source": [
    "loader.dfs.shape"
   ]
  },
  {
   "cell_type": "code",
   "execution_count": 6,
   "metadata": {},
   "outputs": [
    {
     "data": {
      "text/plain": [
       "array([0.86982679, 0.84471628, 0.93080946, ..., 0.45729697, 0.41066316,\n",
       "       0.48599469])"
      ]
     },
     "execution_count": 6,
     "metadata": {},
     "output_type": "execute_result"
    }
   ],
   "source": [
    "loader.dfs[30, 5, :]"
   ]
  },
  {
   "cell_type": "code",
   "execution_count": 7,
   "metadata": {},
   "outputs": [
    {
     "data": {
      "text/plain": [
       "Data(x=[113, 21, 12], edge_index=[2, 114], edge_attr=[114, 5], y=[113, 4])"
      ]
     },
     "execution_count": 7,
     "metadata": {},
     "output_type": "execute_result"
    }
   ],
   "source": [
    "eval_dataset[0]"
   ]
  },
  {
   "cell_type": "code",
   "execution_count": 12,
   "metadata": {},
   "outputs": [],
   "source": [
    "\n",
    "\n",
    "class TemporalGNN(torch.nn.Module):\n",
    "    def __init__(self, node_features, periods):\n",
    "        super(TemporalGNN, self).__init__()\n",
    "        # Attention Temporal Graph Convolutional Cell\n",
    "        out_channels = 32\n",
    "        self.tgnn = A3TGCN(in_channels=node_features, \n",
    "                           out_channels=out_channels, \n",
    "                           periods=periods)\n",
    "        # Equals single-shot prediction\n",
    "        self.linear = torch.nn.Linear(out_channels, periods)\n",
    "\n",
    "    def forward(self, x, edge_index):\n",
    "        \"\"\"\n",
    "        x = Node features for T time steps\n",
    "        edge_index = Graph edge indices\n",
    "        \"\"\"\n",
    "        h = self.tgnn(x, edge_index)\n",
    "        h = F.relu(h)\n",
    "        h = self.linear(h)\n",
    "        return h"
   ]
  },
  {
   "cell_type": "code",
   "execution_count": 13,
   "metadata": {},
   "outputs": [
    {
     "data": {
      "text/plain": [
       "<All keys matched successfully>"
      ]
     },
     "execution_count": 13,
     "metadata": {},
     "output_type": "execute_result"
    }
   ],
   "source": [
    "#read saved model\n",
    "device = torch.device('cpu')\n",
    "model = TemporalGNN(node_features=train_dataset[0].x.shape[1], periods=train_dataset[0].y.shape[1]).to(device)\n",
    "model.load_state_dict(torch.load(f\"../models/{model_name}\", map_location=torch.device('cpu')))"
   ]
  },
  {
   "cell_type": "code",
   "execution_count": null,
   "metadata": {},
   "outputs": [],
   "source": []
  },
  {
   "cell_type": "code",
   "execution_count": null,
   "metadata": {},
   "outputs": [],
   "source": [
    "import matplotlib.pyplot as plt"
   ]
  },
  {
   "cell_type": "code",
   "execution_count": null,
   "metadata": {},
   "outputs": [],
   "source": [
    "node = 50"
   ]
  },
  {
   "cell_type": "code",
   "execution_count": 59,
   "metadata": {},
   "outputs": [],
   "source": [
    "preds = []\n",
    "ys = []\n",
    "model.eval()\n",
    "with torch.no_grad():\n",
    "    for snapshot in tqdm(eval_dataset):\n",
    "        x = snapshot.x\n",
    "        edge_index = snapshot.edge_index\n",
    "        y = snapshot.y\n",
    "        snapshot = snapshot.to(device)\n",
    "        pred = model(snapshot.x, snapshot.edge_index)\n",
    "        pred = pred.detach().numpy()\n",
    "        y = snapshot.y.detach().numpy()\n",
    "        ys.append(y[node, 0])\n",
    "        preds.append(pred[node, 0])\n",
    "plt.plot(ys, label=\"y\")\n",
    "plt.plot(preds, label=\"pred\")\n",
    "plt.legend()"
   ]
  },
  {
   "cell_type": "code",
   "execution_count": 57,
   "metadata": {},
   "outputs": [],
   "source": [
    "dataset = eval_dataset\n",
    "ind = 1000\n",
    "x = dataset[ind].x\n",
    "edge_index = dataset[ind].edge_index\n",
    "y = dataset[ind].y\n",
    "node = 1\n",
    "voltage = 5\n",
    "x[node, voltage, :]\n",
    "voltage_std = loader.mean_and_std[\"measurements\"][1][\"voltage\"]"
   ]
  },
  {
   "cell_type": "code",
   "execution_count": 58,
   "metadata": {},
   "outputs": [
    {
     "data": {
      "text/plain": [
       "<matplotlib.legend.Legend at 0x2b4f0a3a5d0>"
      ]
     },
     "execution_count": 58,
     "metadata": {},
     "output_type": "execute_result"
    },
    {
     "data": {
      "image/png": "[encoded data removed]",
      "text/plain": [
       "<Figure size 640x480 with 1 Axes>"
      ]
     },
     "metadata": {},
     "output_type": "display_data"
    }
   ],
   "source": [
    "model.eval()\n",
    "with torch.no_grad():\n",
    "    pred = model(x, edge_index)\n",
    "pred_node = pred[node, :]\n",
    "plt.plot(pred_node*voltage_std, label=\"pred\")\n",
    "plt.plot(y[node, :]*voltage_std, label=\"y\")\n",
    "plt.legend()"
   ]
  }
 ],
 "metadata": {
  "kernelspec": {
   "display_name": "graphvolt_env",
   "language": "python",
   "name": "python3"
  },
  "language_info": {
   "codemirror_mode": {
    "name": "ipython",
    "version": 3
   },
   "file_extension": ".py",
   "mimetype": "text/x-python",
   "name": "python",
   "nbconvert_exporter": "python",
   "pygments_lexer": "ipython3",
   "version": "3.11.6"
  }
 },
 "nbformat": 4,
 "nbformat_minor": 2
}
