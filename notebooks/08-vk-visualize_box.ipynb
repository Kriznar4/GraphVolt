{
 "cells": [
  {
   "cell_type": "code",
   "execution_count": null,
   "metadata": {},
   "outputs": [],
   "source": [
    "import pandas as pd\n",
    "import numpy as np\n",
    "import sys\n",
    "sys.path.append(\"../src/utils\")\n",
    "from utils import SimpleGraphVoltDatasetLoader_Lazy,read_and_prepare_data,read_raw_network_data,preprocess_nodes,fill_data_simple_homogeneous,preprocess\n",
    "import networkx as nx\n",
    "import plotly.graph_objects as go\n",
    "import matplotlib.pyplot as plt\n",
    "import random\n",
    "from matplotlib.colors import LinearSegmentedColormap\n",
    "from plotly.subplots import make_subplots\n",
    "import colorsys"
   ]
  },
  {
   "cell_type": "code",
   "execution_count": null,
   "metadata": {},
   "outputs": [],
   "source": [
    "trafo_id = \"T1330\"\n",
    "num_timesteps_in = 12\n",
    "num_timesteps_out = 4"
   ]
  },
  {
   "cell_type": "markdown",
   "metadata": {},
   "source": [
    "## Testing"
   ]
  },
  {
   "cell_type": "code",
   "execution_count": null,
   "metadata": {},
   "outputs": [],
   "source": [
    "raw_data,_ = read_raw_network_data(trafo_id)"
   ]
  },
  {
   "cell_type": "code",
   "execution_count": null,
   "metadata": {},
   "outputs": [],
   "source": [
    "raw_data = fill_data_simple_homogeneous(raw_data)"
   ]
  },
  {
   "cell_type": "code",
   "execution_count": null,
   "metadata": {},
   "outputs": [],
   "source": [
    "data = preprocess(raw_data)"
   ]
  },
  {
   "cell_type": "code",
   "execution_count": null,
   "metadata": {},
   "outputs": [],
   "source": [
    "#transform raw_data[\"nodes_static_data\"] to a list ordered by node_id and put x_y coordinates to the list\n",
    "nodes_static_data = data[\"nodes_static_data\"]\n",
    "nodes_static_data = nodes_static_data.sort_values(by=['node_id'])\n",
    "nodes_static_data = nodes_static_data.reset_index(drop=True)\n",
    "nodes_coords = nodes_static_data[[\"x_y\"]]\n",
    "nodes_coords = nodes_coords.values.tolist()\n",
    "\n",
    "#this is it now ['(530670.5350000001, 153984.66459999979)'] now we need to split the string and convert to float\n",
    "\n",
    "nodes_coords = [x[0].split(\",\") for x in nodes_coords]\n",
    "nodes_coords = [[float(x[0][1:]),float(x[1][:-1])] for x in nodes_coords]"
   ]
  },
  {
   "cell_type": "code",
   "execution_count": null,
   "metadata": {},
   "outputs": [],
   "source": [
    "df_unique_nodes = nodes_static_data.drop_duplicates(subset='node_id')\n",
    "result_df = df_unique_nodes[df_unique_nodes['aclass_id'] != 'PMO']\n",
    "not_pmo_nodes = result_df['node_id'].tolist()\n",
    "\n",
    "#i want to add some hardcoded nodes to the list\n",
    "not_pmo_nodes.append(47)"
   ]
  },
  {
   "cell_type": "code",
   "execution_count": null,
   "metadata": {},
   "outputs": [],
   "source": [
    "G = nx.from_pandas_edgelist(data['edges_static_data'],source='from_node_id',target='to_node_id')"
   ]
  },
  {
   "cell_type": "code",
   "execution_count": null,
   "metadata": {},
   "outputs": [],
   "source": [
    "node_colors = [\"grey\" if node in not_pmo_nodes else \"skyblue\" for node in G.nodes]\n",
    "\n",
    "# Draw the graph with specified node colors\n",
    "plt.figure(figsize=(10, 10))\n",
    "nx.draw(G, with_labels=True, node_size=500, node_color=node_colors, edge_color=\"grey\")\n",
    "plt.show()"
   ]
  },
  {
   "cell_type": "code",
   "execution_count": null,
   "metadata": {},
   "outputs": [],
   "source": [
    "weights_2d = [np.abs([round(random.random(), 2) for _ in range(len(G.nodes()))]) for _ in range(100)]"
   ]
  },
  {
   "cell_type": "code",
   "execution_count": null,
   "metadata": {},
   "outputs": [],
   "source": [
    "#for each first dim change the second dim on index from not_pmo_nodes to nan\n",
    "for i in range(len(weights_2d)):\n",
    "    for j in range(len(weights_2d[i])):\n",
    "        if j in not_pmo_nodes:\n",
    "            weights_2d[i][j] = np.nan"
   ]
  },
  {
   "cell_type": "markdown",
   "metadata": {},
   "source": [
    "## new"
   ]
  },
  {
   "cell_type": "code",
   "execution_count": null,
   "metadata": {},
   "outputs": [],
   "source": [
    "from utils import SimpleGraphVoltDatasetLoader_Lazy, read_and_prepare_data\n",
    "from torch_geometric_temporal.signal import temporal_signal_split\n",
    "import torch\n",
    "import torch.nn.functional as F\n",
    "from torch_geometric_temporal.nn.recurrent import A3TGCN, GConvLSTM\n",
    "from tqdm import tqdm\n",
    "\n",
    "import sys\n",
    "sys.path.append(\"../src/utils\")\n",
    "from models import avgModel, RNN_LSTM, GNN_A3TGCN,GNN_GCNLSTM\n",
    "sys.path.append(\"../src/visualization\")\n",
    "from visualize import plot_network_errors"
   ]
  },
  {
   "cell_type": "code",
   "execution_count": null,
   "metadata": {},
   "outputs": [],
   "source": [
    "model_name = 'GNN_GCNLSTM_20231217035852_T1330_epochs-50_in-12_out-4_train-ratio-1month_lr-0.01_hidden-64.pt'\n",
    "trafo_id = \"T1330\"\n",
    "num_timesteps_in = 12\n",
    "num_timesteps_out = 4\n",
    "train_ratio = 0.7\n",
    "test_ratio_vs_eval_ratio = 0.5\n",
    "device = torch.device('cpu')"
   ]
  },
  {
   "cell_type": "code",
   "execution_count": null,
   "metadata": {},
   "outputs": [],
   "source": [
    "print(\"Loading data...\")\n",
    "loader = SimpleGraphVoltDatasetLoader_Lazy(trafo_id, num_timesteps_in, num_timesteps_out)\n",
    "loader_data_index = loader.snapshot_index\n"
   ]
  },
  {
   "cell_type": "code",
   "execution_count": null,
   "metadata": {},
   "outputs": [],
   "source": [
    "train_dataset, test_eval_dataset = loader.temporal_signal_split_lazy_cut(loader_data_index)\n",
    "test_dataset, eval_dataset = loader.temporal_signal_split_lazy(test_eval_dataset, train_ratio=test_ratio_vs_eval_ratio)"
   ]
  },
  {
   "cell_type": "code",
   "execution_count": null,
   "metadata": {},
   "outputs": [],
   "source": [
    "#read saved model\n",
    "model = GNN_GCNLSTM(node_features=loader.num_features, periods=num_timesteps_out,hidden=64).to(device)\n",
    "model.load_state_dict(torch.load(f\"../models/final/{model_name}\", map_location=torch.device('cpu')))"
   ]
  },
  {
   "cell_type": "code",
   "execution_count": null,
   "metadata": {},
   "outputs": [],
   "source": [
    "is_pmo = np.ones((113,4))\n",
    "\n",
    "#if the node is not pmo then set the value to 0\n",
    "for i in range(len(is_pmo)):\n",
    "    if i in not_pmo_nodes:\n",
    "        is_pmo[i] = 0\n",
    "    "
   ]
  },
  {
   "cell_type": "code",
   "execution_count": null,
   "metadata": {},
   "outputs": [],
   "source": [
    "std = loader.mean_and_std[\"measurements\"][1][\"voltage\"]\n",
    "mean = loader.mean_and_std[\"measurements\"][0][\"voltage\"]\n",
    "num_of_nodes = loader.get_snapshot(0).x.shape[0]"
   ]
  },
  {
   "cell_type": "code",
   "execution_count": null,
   "metadata": {},
   "outputs": [],
   "source": [
    "#number of zeros in is_pmo\n",
    "num_pmo = np.count_nonzero(is_pmo) / 4"
   ]
  },
  {
   "cell_type": "code",
   "execution_count": null,
   "metadata": {},
   "outputs": [],
   "source": [
    "#create a np array of zeros for each node\n",
    "predsLSTM = np.zeros((num_of_nodes, len(eval_dataset)))\n",
    "truthLSTM = np.zeros((num_of_nodes, len(eval_dataset)))\n",
    "\n",
    "loss_elementwiseLSTM = np.zeros((0, num_timesteps_out))\n",
    "loss_fn = torch.nn.L1Loss\n",
    "\n",
    "model.eval()\n",
    "with torch.no_grad():\n",
    "    index = 0\n",
    "    for snapshot_j in tqdm(eval_dataset, desc=\"Evaluating model\"):\n",
    "        \n",
    "        snapshot = loader.get_snapshot(snapshot_j)\n",
    "        snapshot = snapshot.to(device)\n",
    "        pred = model(snapshot.x, snapshot.edge_index)\n",
    "        pred = pred.detach().numpy()\n",
    "        y = snapshot.y.detach().numpy()\n",
    "        truthLSTM[:, index] = y[:, 0]*std+mean\n",
    "        predsLSTM[:, index] = pred[:, 0]*std+mean\n",
    "        \n",
    "        pred = torch.from_numpy(pred * is_pmo)\n",
    "        y = torch.from_numpy(y * is_pmo)\n",
    "\n",
    "        loss = loss_fn(reduction=\"none\")(pred, y).cpu().numpy()\n",
    "\n",
    "        mask = np.ones(loss.shape[0], dtype=bool)\n",
    "        mask[not_pmo_nodes] = False\n",
    "        result_array = loss[mask]\n",
    "\n",
    "        #print(result_array.shape)\n",
    "\n",
    "        for i in range(result_array.shape[0]):\n",
    "            #print(i)\n",
    "            for j in range(result_array.shape[1]):\n",
    "                if result_array[i][j]*std > 50:\n",
    "                    print(i)\n",
    "\n",
    "        loss_elementwiseLSTM = np.concatenate((loss_elementwiseLSTM, result_array), axis=0)\n",
    "                    \n",
    "        index += 1\n",
    "\n",
    "    loss_elementwiseLSTM *= std\n"
   ]
  },
  {
   "cell_type": "code",
   "execution_count": null,
   "metadata": {},
   "outputs": [],
   "source": [
    "#read saved model\n",
    "model_name2 = 'GNN_A3TGCN_20231217041452_T1330_epochs-200_in-12_out-4_train-ratio-1month_lr-0.01_hidden-64.pt'\n",
    "\n",
    "model2 = GNN_A3TGCN(node_features=loader.num_features, periods=num_timesteps_out,hidden=64).to(device)\n",
    "model2.load_state_dict(torch.load(f\"../models/final/{model_name2}\", map_location=torch.device('cpu')))"
   ]
  },
  {
   "cell_type": "code",
   "execution_count": null,
   "metadata": {},
   "outputs": [],
   "source": [
    "#create a np array of zeros for each node\n",
    "predsA3 = np.zeros((num_of_nodes, len(eval_dataset)))\n",
    "truthA3 = np.zeros((num_of_nodes, len(eval_dataset)))\n",
    "\n",
    "loss_elementwiseA3 = np.zeros((0, num_timesteps_out))\n",
    "loss_fn = torch.nn.L1Loss\n",
    "\n",
    "model2.eval()\n",
    "with torch.no_grad():\n",
    "    index = 0\n",
    "    for snapshot_j in tqdm(eval_dataset, desc=\"Evaluating model\"):\n",
    "        \n",
    "        snapshot = loader.get_snapshot(snapshot_j)\n",
    "        snapshot = snapshot.to(device)\n",
    "        pred = model2(snapshot.x, snapshot.edge_index)\n",
    "        pred = pred.detach().numpy()\n",
    "        y = snapshot.y.detach().numpy()\n",
    "        truthA3[:, index] = y[:, 0]*std+mean\n",
    "        predsA3[:, index] = pred[:, 0]*std+mean\n",
    "\n",
    "        pred = torch.from_numpy(pred * is_pmo)\n",
    "        y = torch.from_numpy(y * is_pmo)\n",
    "\n",
    "        loss = loss_fn(reduction=\"none\")(pred, y).cpu().numpy()\n",
    "\n",
    "        mask = np.ones(loss.shape[0], dtype=bool)\n",
    "        mask[not_pmo_nodes] = False\n",
    "        result_array = loss[mask]\n",
    "\n",
    "        #print(result_array.shape)\n",
    "\n",
    "        for i in range(result_array.shape[0]):\n",
    "            #print(i)\n",
    "            for j in range(result_array.shape[1]):\n",
    "                if result_array[i][j]*std > 50:\n",
    "                    print(i)\n",
    "                    \n",
    "        loss_elementwiseA3 = np.concatenate((loss_elementwiseA3, result_array), axis=0)\n",
    "                    \n",
    "        index += 1\n",
    "\n",
    "    loss_elementwiseA3 *= std\n"
   ]
  },
  {
   "cell_type": "code",
   "execution_count": null,
   "metadata": {},
   "outputs": [],
   "source": [
    "loss_elementwiseLSTM"
   ]
  },
  {
   "cell_type": "code",
   "execution_count": null,
   "metadata": {},
   "outputs": [],
   "source": [
    "loss_elementwiseLSTM.shape"
   ]
  },
  {
   "cell_type": "code",
   "execution_count": null,
   "metadata": {},
   "outputs": [],
   "source": [
    "loss_elementwiseA3"
   ]
  },
  {
   "cell_type": "code",
   "execution_count": null,
   "metadata": {},
   "outputs": [],
   "source": [
    "loss_elementwiseA3.shape"
   ]
  },
  {
   "cell_type": "code",
   "execution_count": null,
   "metadata": {},
   "outputs": [],
   "source": [
    "import plotly.graph_objects as go\n",
    "\n",
    "# Reshape the arrays to create separate boxes for each timestamp\n",
    "data_array1_reshaped = loss_elementwiseLSTM.T\n",
    "data_array2_reshaped = loss_elementwiseA3.T\n",
    "\n",
    "# Create Box plots using Plotly\n",
    "fig = go.Figure()\n",
    "\n",
    "def darken_color(rgb, factor):\n",
    "    h, l, s = colorsys.rgb_to_hls(rgb[0] / 255, rgb[1] / 255, rgb[2] / 255)\n",
    "    l *= factor\n",
    "    r, g, b = colorsys.hls_to_rgb(h, l, s)\n",
    "    return int(r * 255), int(g * 255), int(b * 255)\n",
    "\n",
    "\n",
    "# Add Box plot for the first array\n",
    "for i in range(loss_elementwiseLSTM.shape[1]):\n",
    "\n",
    "    color1 = color = darken_color((0, 0, 255), 1 - i * 0.2)\n",
    "    color2 = color = darken_color((255, 165, 0), 1 - i * 0.2)\n",
    "    \n",
    "    fig.add_trace(\n",
    "        go.Box( y=data_array1_reshaped[i], \n",
    "                name=f'LSTM - Timestamp {i+1}', \n",
    "                marker_color=f'rgb{color1}'))\n",
    "    fig.add_trace(\n",
    "        go.Box( y=data_array2_reshaped[i], \n",
    "                name=f'A3GCN - Timestamp {i+1}',\n",
    "                marker_color=f'rgb{color2}'))\n",
    "\n",
    "\n",
    "# Update layout\n",
    "fig.update_layout(title='Box Plot for Two Models',\n",
    "                  xaxis=dict(title='Timestamp'),\n",
    "                  yaxis=dict(title='Error'))\n",
    "\n",
    "# Show the plot\n",
    "fig.show()\n"
   ]
  },
  {
   "cell_type": "code",
   "execution_count": null,
   "metadata": {},
   "outputs": [],
   "source": [
    "#calculate the mean of the loss for the two models\n",
    "mean_loss1 = np.mean(loss_elementwiseLSTM,axis=0)\n",
    "mean_loss2 = np.mean(loss_elementwiseA3,axis=0)\n",
    "\n",
    "print(f\"Mean loss LSTM: {mean_loss1}\")\n",
    "print(f\"Mean loss A3TGCN: {mean_loss2}\")\n",
    "\n",
    "print(f\"Mean loss LSTM: {np.mean(mean_loss1)}\")\n",
    "print(f\"Mean loss A3TGCN: {np.mean(mean_loss2)}\")"
   ]
  },
  {
   "cell_type": "code",
   "execution_count": null,
   "metadata": {},
   "outputs": [],
   "source": []
  }
 ],
 "metadata": {
  "kernelspec": {
   "display_name": "Python 3",
   "language": "python",
   "name": "python3"
  },
  "language_info": {
   "codemirror_mode": {
    "name": "ipython",
    "version": 3
   },
   "file_extension": ".py",
   "mimetype": "text/x-python",
   "name": "python",
   "nbconvert_exporter": "python",
   "pygments_lexer": "ipython3",
   "version": "3.10.13"
  }
 },
 "nbformat": 4,
 "nbformat_minor": 2
}
