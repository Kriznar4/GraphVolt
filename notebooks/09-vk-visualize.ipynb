{
 "cells": [
  {
   "cell_type": "code",
   "execution_count": null,
   "metadata": {},
   "outputs": [],
   "source": [
    "import pandas as pd\n",
    "import numpy as np\n",
    "import sys\n",
    "sys.path.append(\"../src/utils\")\n",
    "from utils import SimpleGraphVoltDatasetLoader_Lazy,read_and_prepare_data,read_raw_network_data,preprocess_nodes,fill_data_simple_homogeneous,preprocess\n",
    "import networkx as nx\n",
    "import plotly.graph_objects as go\n",
    "import matplotlib.pyplot as plt\n",
    "import random\n",
    "from matplotlib.colors import LinearSegmentedColormap\n",
    "from plotly.subplots import make_subplots\n",
    "import colorsys"
   ]
  },
  {
   "cell_type": "code",
   "execution_count": null,
   "metadata": {},
   "outputs": [],
   "source": [
    "trafo_id = \"T1330\"\n",
    "num_timesteps_in = 12\n",
    "num_timesteps_out = 4"
   ]
  },
  {
   "cell_type": "markdown",
   "metadata": {},
   "source": [
    "## Testing"
   ]
  },
  {
   "cell_type": "code",
   "execution_count": null,
   "metadata": {},
   "outputs": [],
   "source": [
    "raw_data,_ = read_raw_network_data(trafo_id)"
   ]
  },
  {
   "cell_type": "code",
   "execution_count": null,
   "metadata": {},
   "outputs": [],
   "source": [
    "raw_data = fill_data_simple_homogeneous(raw_data)"
   ]
  },
  {
   "cell_type": "code",
   "execution_count": null,
   "metadata": {},
   "outputs": [],
   "source": [
    "data = preprocess(raw_data)"
   ]
  },
  {
   "cell_type": "code",
   "execution_count": null,
   "metadata": {},
   "outputs": [],
   "source": [
    "#transform raw_data[\"nodes_static_data\"] to a list ordered by node_id and put x_y coordinates to the list\n",
    "nodes_static_data = data[\"nodes_static_data\"]\n",
    "nodes_static_data = nodes_static_data.sort_values(by=['node_id'])\n",
    "nodes_static_data = nodes_static_data.reset_index(drop=True)\n",
    "nodes_coords = nodes_static_data[[\"x_y\"]]\n",
    "nodes_coords = nodes_coords.values.tolist()\n",
    "\n",
    "#this is it now ['(530670.5350000001, 153984.66459999979)'] now we need to split the string and convert to float\n",
    "\n",
    "nodes_coords = [x[0].split(\",\") for x in nodes_coords]\n",
    "nodes_coords = [[float(x[0][1:]),float(x[1][:-1])] for x in nodes_coords]"
   ]
  },
  {
   "cell_type": "code",
   "execution_count": null,
   "metadata": {},
   "outputs": [],
   "source": [
    "df_unique_nodes = nodes_static_data.drop_duplicates(subset='node_id')\n",
    "result_df = df_unique_nodes[df_unique_nodes['aclass_id'] != 'PMO']\n",
    "not_pmo_nodes = result_df['node_id'].tolist()\n",
    "\n",
    "#i want to add some hardcoded nodes to the list\n",
    "#not_pmo_nodes.append(47)"
   ]
  },
  {
   "cell_type": "code",
   "execution_count": null,
   "metadata": {},
   "outputs": [],
   "source": [
    "G = nx.from_pandas_edgelist(data['edges_static_data'],source='from_node_id',target='to_node_id')"
   ]
  },
  {
   "cell_type": "markdown",
   "metadata": {},
   "source": [
    "## new"
   ]
  },
  {
   "cell_type": "code",
   "execution_count": null,
   "metadata": {},
   "outputs": [],
   "source": [
    "from utils import SimpleGraphVoltDatasetLoader_Lazy, read_and_prepare_data\n",
    "from torch_geometric_temporal.signal import temporal_signal_split\n",
    "import torch\n",
    "import torch.nn.functional as F\n",
    "from torch_geometric_temporal.nn.recurrent import A3TGCN, GConvLSTM\n",
    "from tqdm import tqdm\n",
    "\n",
    "import sys\n",
    "sys.path.append(\"../src/utils\")\n",
    "from models import avgModel, RNN_LSTM, GNN_A3TGCN,GNN_GCNLSTM\n",
    "sys.path.append(\"../src/visualization\")\n",
    "from visualize import plot_network_errors"
   ]
  },
  {
   "cell_type": "code",
   "execution_count": null,
   "metadata": {},
   "outputs": [],
   "source": [
    "model_name = 'GNN_GCNLSTM_20231217035852_T1330_epochs-50_in-12_out-4_train-ratio-1month_lr-0.01_hidden-64.pt'\n",
    "trafo_id = \"T1330\"\n",
    "num_timesteps_in = 12\n",
    "num_timesteps_out = 4\n",
    "train_ratio = 0.7\n",
    "test_ratio_vs_eval_ratio = 0.5\n",
    "device = torch.device('cpu')"
   ]
  },
  {
   "cell_type": "code",
   "execution_count": null,
   "metadata": {},
   "outputs": [],
   "source": [
    "print(\"Loading data...\")\n",
    "loader = SimpleGraphVoltDatasetLoader_Lazy(trafo_id, num_timesteps_in, num_timesteps_out)\n",
    "loader_data_index = loader.snapshot_index\n"
   ]
  },
  {
   "cell_type": "code",
   "execution_count": null,
   "metadata": {},
   "outputs": [],
   "source": [
    "train_dataset, test_eval_dataset = loader.temporal_signal_split_lazy_cut(loader_data_index)\n",
    "test_dataset, eval_dataset = loader.temporal_signal_split_lazy(test_eval_dataset, train_ratio=test_ratio_vs_eval_ratio)"
   ]
  },
  {
   "cell_type": "code",
   "execution_count": null,
   "metadata": {},
   "outputs": [],
   "source": [
    "#read saved model\n",
    "model = GNN_GCNLSTM(node_features=loader.num_features, periods=num_timesteps_out,hidden=64).to(device)\n",
    "model.load_state_dict(torch.load(f\"../models/final/{model_name}\", map_location=torch.device('cpu')))"
   ]
  },
  {
   "cell_type": "code",
   "execution_count": null,
   "metadata": {},
   "outputs": [],
   "source": [
    "is_pmo = np.ones((113,4))\n",
    "\n",
    "#if the node is not pmo then set the value to 0\n",
    "for i in range(len(is_pmo)):\n",
    "    if i in not_pmo_nodes:\n",
    "        is_pmo[i] = 0\n",
    "    "
   ]
  },
  {
   "cell_type": "code",
   "execution_count": null,
   "metadata": {},
   "outputs": [],
   "source": [
    "std = loader.mean_and_std[\"measurements\"][1][\"voltage\"]\n",
    "mean = loader.mean_and_std[\"measurements\"][0][\"voltage\"]\n",
    "num_of_nodes = loader.get_snapshot(0).x.shape[0]"
   ]
  },
  {
   "cell_type": "code",
   "execution_count": null,
   "metadata": {},
   "outputs": [],
   "source": [
    "#number of zeros in is_pmo\n",
    "num_pmo = np.count_nonzero(is_pmo) / 4"
   ]
  },
  {
   "cell_type": "code",
   "execution_count": null,
   "metadata": {},
   "outputs": [],
   "source": [
    "#create a np array of zeros for each node\n",
    "predsLSTM = np.zeros((num_of_nodes, len(eval_dataset)))\n",
    "truthLSTM = np.zeros((num_of_nodes, len(eval_dataset)))\n",
    "\n",
    "loss_elementwiseLSTM = np.zeros((0, num_timesteps_out))\n",
    "loss_fn = torch.nn.L1Loss\n",
    "\n",
    "model.eval()\n",
    "with torch.no_grad():\n",
    "    index = 0\n",
    "    for snapshot_j in tqdm(eval_dataset, desc=\"Evaluating model\"):\n",
    "        \n",
    "        snapshot = loader.get_snapshot(snapshot_j)\n",
    "        snapshot = snapshot.to(device)\n",
    "        pred = model(snapshot.x, snapshot.edge_index)\n",
    "        pred = pred.detach().numpy()\n",
    "        y = snapshot.y.detach().numpy()\n",
    "        truthLSTM[:, index] = y[:, 0]*std+mean\n",
    "        predsLSTM[:, index] = pred[:, 0]*std+mean\n",
    "        \n",
    "        pred = torch.from_numpy(pred * is_pmo)\n",
    "        y = torch.from_numpy(y * is_pmo)\n",
    "\n",
    "        loss = loss_fn(reduction=\"none\")(pred, y).cpu().numpy()\n",
    "\n",
    "        mask = np.ones(loss.shape[0], dtype=bool)\n",
    "        mask[not_pmo_nodes] = False\n",
    "        result_array = loss[mask]\n",
    "\n",
    "        #print(result_array.shape)\n",
    "\n",
    "        loss_elementwiseLSTM = np.concatenate((loss_elementwiseLSTM, result_array), axis=0)\n",
    "                    \n",
    "        index += 1\n",
    "\n",
    "    loss_elementwiseLSTM *= std\n"
   ]
  },
  {
   "cell_type": "code",
   "execution_count": null,
   "metadata": {},
   "outputs": [],
   "source": [
    "#read saved model\n",
    "model_name2 = 'GNN_A3TGCN_20231217041452_T1330_epochs-200_in-12_out-4_train-ratio-1month_lr-0.01_hidden-64.pt'\n",
    "\n",
    "model2 = GNN_A3TGCN(node_features=loader.num_features, periods=num_timesteps_out,hidden=64).to(device)\n",
    "model2.load_state_dict(torch.load(f\"../models/final/{model_name2}\", map_location=torch.device('cpu')))"
   ]
  },
  {
   "cell_type": "code",
   "execution_count": null,
   "metadata": {},
   "outputs": [],
   "source": [
    "#create a np array of zeros for each node\n",
    "predsA3 = np.zeros((num_of_nodes, len(eval_dataset)))\n",
    "truthA3 = np.zeros((num_of_nodes, len(eval_dataset)))\n",
    "\n",
    "loss_elementwiseA3 = np.zeros((0, num_timesteps_out))\n",
    "loss_fn = torch.nn.L1Loss\n",
    "\n",
    "model2.eval()\n",
    "with torch.no_grad():\n",
    "    index = 0\n",
    "    for snapshot_j in tqdm(eval_dataset, desc=\"Evaluating model\"):\n",
    "        \n",
    "        snapshot = loader.get_snapshot(snapshot_j)\n",
    "        snapshot = snapshot.to(device)\n",
    "        pred = model2(snapshot.x, snapshot.edge_index)\n",
    "        pred = pred.detach().numpy()\n",
    "        y = snapshot.y.detach().numpy()\n",
    "        truthA3[:, index] = y[:, 0]*std+mean\n",
    "        predsA3[:, index] = pred[:, 0]*std+mean\n",
    "\n",
    "        pred = torch.from_numpy(pred * is_pmo)\n",
    "        y = torch.from_numpy(y * is_pmo)\n",
    "\n",
    "        loss = loss_fn(reduction=\"none\")(pred, y).cpu().numpy()\n",
    "\n",
    "        mask = np.ones(loss.shape[0], dtype=bool)\n",
    "        mask[not_pmo_nodes] = False\n",
    "        result_array = loss[mask]\n",
    "\n",
    "        #print(result_array.shape)\n",
    "                    \n",
    "        loss_elementwiseA3 = np.concatenate((loss_elementwiseA3, result_array), axis=0)\n",
    "                    \n",
    "        index += 1\n",
    "\n",
    "    loss_elementwiseA3 *= std\n"
   ]
  },
  {
   "cell_type": "code",
   "execution_count": null,
   "metadata": {},
   "outputs": [],
   "source": [
    "errorsLSTM = np.abs(truthLSTM - predsLSTM)"
   ]
  },
  {
   "cell_type": "code",
   "execution_count": null,
   "metadata": {},
   "outputs": [],
   "source": [
    "plot_network_errors(trafo_id, errorsLSTM)"
   ]
  },
  {
   "cell_type": "code",
   "execution_count": null,
   "metadata": {},
   "outputs": [],
   "source": [
    "errorsA3 = np.abs(truthA3 - predsA3)"
   ]
  },
  {
   "cell_type": "code",
   "execution_count": null,
   "metadata": {},
   "outputs": [],
   "source": [
    "plot_network_errors(trafo_id, errorsA3)"
   ]
  },
  {
   "cell_type": "code",
   "execution_count": null,
   "metadata": {},
   "outputs": [],
   "source": [
    "node = 50"
   ]
  },
  {
   "cell_type": "code",
   "execution_count": null,
   "metadata": {},
   "outputs": [],
   "source": [
    "print(np.arange(len(truthLSTM)))"
   ]
  },
  {
   "cell_type": "code",
   "execution_count": null,
   "metadata": {},
   "outputs": [],
   "source": [
    "import plotly.express as px\n",
    "\n",
    "# Convert the arrays to a DataFrame\n",
    "data = {'year': np.arange(len(truthLSTM[node])), f'true_values': truthLSTM[node], \n",
    "            f'GConvLSTM': predsLSTM[node], f'A3TGCN': predsA3[node]}\n",
    "df = pd.DataFrame(data)\n",
    "\n",
    "# Use Plotly Express to create a line plot for each node\n",
    "fig = px.line(df, x='year', y=[f'true_values', f'GConvLSTM', f'A3TGCN'],\n",
    "                  title=f'Truth vs. Predictions for node {node}', labels={'value': 'Voltage', 'year': 'Timesteps'},\n",
    "                  line_shape='linear')\n",
    "\n",
    "# Show the plot\n",
    "fig.show()\n"
   ]
  },
  {
   "cell_type": "code",
   "execution_count": null,
   "metadata": {},
   "outputs": [],
   "source": []
  }
 ],
 "metadata": {
  "kernelspec": {
   "display_name": "Python 3",
   "language": "python",
   "name": "python3"
  },
  "language_info": {
   "codemirror_mode": {
    "name": "ipython",
    "version": 3
   },
   "file_extension": ".py",
   "mimetype": "text/x-python",
   "name": "python",
   "nbconvert_exporter": "python",
   "pygments_lexer": "ipython3",
   "version": "3.10.13"
  }
 },
 "nbformat": 4,
 "nbformat_minor": 2
}
