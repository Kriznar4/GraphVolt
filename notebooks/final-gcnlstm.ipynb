{
 "cells": [
  {
   "cell_type": "code",
   "execution_count": 1,
   "metadata": {},
   "outputs": [
    {
     "name": "stdout",
     "output_type": "stream",
     "text": [
      "['/home/anton/Documents/Faks/MLG/GraphVolt/notebooks', '/home/anton/anaconda3/envs/mlg_env/lib/python310.zip', '/home/anton/anaconda3/envs/mlg_env/lib/python3.10', '/home/anton/anaconda3/envs/mlg_env/lib/python3.10/lib-dynload', '', '/home/anton/anaconda3/envs/mlg_env/lib/python3.10/site-packages', '../src/utils']\n"
     ]
    }
   ],
   "source": [
    "import pandas as pd\n",
    "import numpy as np\n",
    "import sys\n",
    "sys.path.append(\"../src/utils\")\n",
    "print(sys.path)\n",
    "from utils import SimpleGraphVoltDatasetLoader_Lazy\n",
    "from models import GNN_GCNLSTM\n",
    "import torch\n",
    "import torch.nn.functional as F\n",
    "from tqdm import tqdm\n",
    "from torch.optim.lr_scheduler import ReduceLROnPlateau\n",
    "from torch_geometric import seed_everything"
   ]
  },
  {
   "cell_type": "code",
   "execution_count": 2,
   "metadata": {},
   "outputs": [],
   "source": [
    "trafo_id = \"T1330\"\n",
    "epochs = 1000\n",
    "num_timesteps_in = 12\n",
    "num_timesteps_out = 4\n",
    "test_ratio_vs_eval_ratio = 0.5\n",
    "learning_rate = 0.01\n",
    "device_str = 'cuda'\n",
    "hidden = 64\n",
    "manual_seed = 42"
   ]
  },
  {
   "cell_type": "code",
   "execution_count": 3,
   "metadata": {},
   "outputs": [],
   "source": [
    "if device_str == 'cuda':\n",
    "    torch.cuda.empty_cache()"
   ]
  },
  {
   "cell_type": "code",
   "execution_count": 4,
   "metadata": {},
   "outputs": [],
   "source": [
    "seed_everything(manual_seed)"
   ]
  },
  {
   "cell_type": "code",
   "execution_count": 5,
   "metadata": {},
   "outputs": [
    {
     "name": "stdout",
     "output_type": "stream",
     "text": [
      "Loading data...\n",
      "Voltage index: 5\n",
      " done\n"
     ]
    }
   ],
   "source": [
    "print(\"Loading data...\")\n",
    "loader = SimpleGraphVoltDatasetLoader_Lazy(trafo_id, num_timesteps_in, num_timesteps_out)\n",
    "print(\" done\")\n",
    "loader_data_index = loader.snapshot_index\n",
    "\n",
    "train_dataset, test_eval_dataset = loader.temporal_signal_split_lazy_cut(loader_data_index)\n",
    "eval_dataset, test_dataset = loader.temporal_signal_split_lazy(test_eval_dataset, train_ratio=test_ratio_vs_eval_ratio)\n"
   ]
  },
  {
   "cell_type": "code",
   "execution_count": 6,
   "metadata": {},
   "outputs": [],
   "source": [
    "def train_eval(model, loader, device, train_dataset, eval_dataset, optimizer, loss_fn, scheduler=None, epochs=10, name=\"\"):\n",
    "    \"\"\"\n",
    "    Definition of the training loop.\n",
    "    \"\"\"\n",
    "    epoch_losses_train = []\n",
    "    epoch_losses_eval = []\n",
    "    \n",
    "    for epoch in range(epochs):\n",
    "        model.train()\n",
    "        epoch_loss_train = 0\n",
    "\n",
    "        for snapshot_i in tqdm(train_dataset, desc=\"Training epoch {}\".format(epoch)):\n",
    "            snapshot = loader.get_snapshot(snapshot_i)\n",
    "            snapshot.to(device)\n",
    "            optimizer.zero_grad()\n",
    "\n",
    "            out = model(snapshot.x, snapshot.edge_index)\n",
    "            loss = loss_fn()(out, snapshot.y)\n",
    "            loss.backward()\n",
    "            optimizer.step()\n",
    "            epoch_loss_train += loss.detach().cpu().numpy()\n",
    "\n",
    "        if scheduler is not None:\n",
    "            scheduler.step(epoch_loss_train)\n",
    "\n",
    "        epoch_losses_train.append(epoch_loss_train)\n",
    "\n",
    "        model.eval()\n",
    "        epoch_loss_eval = 0\n",
    "        with torch.no_grad():\n",
    "\n",
    "            for snapshot_j in tqdm(eval_dataset, desc=\"Evaluating epoch {}\".format(epoch)):\n",
    "                snapshot = loader.get_snapshot(snapshot_j)\n",
    "                snapshot.to(device)\n",
    "\n",
    "                out = model(snapshot.x, snapshot.edge_index)\n",
    "\n",
    "                loss = loss_fn()(out, snapshot.y).cpu().numpy()\n",
    "                epoch_loss_eval += loss\n",
    "\n",
    "            epoch_losses_eval.append(epoch_loss_eval)\n",
    "            if min(epoch_losses_eval) == epoch_loss_eval:\n",
    "                torch.save(model.state_dict(), name)\n",
    "            print(\"Epoch: {}, Train Loss: {:.7f}, Eval Loss: {:.7f}\".format(epoch, epoch_loss_train, epoch_loss_eval))\n",
    "        \n",
    "        \n",
    "    return epoch_losses_train, epoch_losses_eval"
   ]
  },
  {
   "cell_type": "code",
   "execution_count": 7,
   "metadata": {},
   "outputs": [
    {
     "name": "stderr",
     "output_type": "stream",
     "text": [
      "Training epoch 0: 100%|██████████| 2880/2880 [03:19<00:00, 14.45it/s]\n",
      "Evaluating epoch 0: 100%|██████████| 1440/1440 [01:06<00:00, 21.72it/s]\n"
     ]
    },
    {
     "name": "stdout",
     "output_type": "stream",
     "text": [
      "Epoch: 0, Train Loss: 253.6954337, Eval Loss: 2359.2803218\n"
     ]
    },
    {
     "name": "stderr",
     "output_type": "stream",
     "text": [
      "Training epoch 1: 100%|██████████| 2880/2880 [03:04<00:00, 15.60it/s]\n",
      "Evaluating epoch 1: 100%|██████████| 1440/1440 [01:04<00:00, 22.25it/s]\n"
     ]
    },
    {
     "name": "stdout",
     "output_type": "stream",
     "text": [
      "Epoch: 1, Train Loss: 225.3187648, Eval Loss: 2444.2509776\n"
     ]
    },
    {
     "name": "stderr",
     "output_type": "stream",
     "text": [
      "Training epoch 2: 100%|██████████| 2880/2880 [03:04<00:00, 15.63it/s]\n",
      "Evaluating epoch 2: 100%|██████████| 1440/1440 [01:04<00:00, 22.31it/s]\n"
     ]
    },
    {
     "name": "stdout",
     "output_type": "stream",
     "text": [
      "Epoch: 2, Train Loss: 213.6716884, Eval Loss: 2277.5949410\n"
     ]
    },
    {
     "name": "stderr",
     "output_type": "stream",
     "text": [
      "Training epoch 3: 100%|██████████| 2880/2880 [03:04<00:00, 15.65it/s]\n",
      "Evaluating epoch 3: 100%|██████████| 1440/1440 [01:05<00:00, 22.14it/s]\n"
     ]
    },
    {
     "name": "stdout",
     "output_type": "stream",
     "text": [
      "Epoch: 3, Train Loss: 212.9169953, Eval Loss: 2374.7039939\n"
     ]
    },
    {
     "name": "stderr",
     "output_type": "stream",
     "text": [
      "Training epoch 4: 100%|██████████| 2880/2880 [03:04<00:00, 15.63it/s]\n",
      "Evaluating epoch 4: 100%|██████████| 1440/1440 [01:04<00:00, 22.22it/s]\n"
     ]
    },
    {
     "name": "stdout",
     "output_type": "stream",
     "text": [
      "Epoch: 4, Train Loss: 207.2653463, Eval Loss: 2430.9837979\n"
     ]
    },
    {
     "name": "stderr",
     "output_type": "stream",
     "text": [
      "Training epoch 5: 100%|██████████| 2880/2880 [03:04<00:00, 15.65it/s]\n",
      "Evaluating epoch 5: 100%|██████████| 1440/1440 [01:05<00:00, 22.09it/s]\n"
     ]
    },
    {
     "name": "stdout",
     "output_type": "stream",
     "text": [
      "Epoch: 5, Train Loss: 201.7836784, Eval Loss: 2510.0383817\n"
     ]
    },
    {
     "name": "stderr",
     "output_type": "stream",
     "text": [
      "Training epoch 6: 100%|██████████| 2880/2880 [03:04<00:00, 15.64it/s]\n",
      "Evaluating epoch 6: 100%|██████████| 1440/1440 [01:05<00:00, 22.11it/s]\n"
     ]
    },
    {
     "name": "stdout",
     "output_type": "stream",
     "text": [
      "Epoch: 6, Train Loss: 202.8157943, Eval Loss: 2494.5909758\n"
     ]
    },
    {
     "name": "stderr",
     "output_type": "stream",
     "text": [
      "Training epoch 7: 100%|██████████| 2880/2880 [03:03<00:00, 15.66it/s]\n",
      "Evaluating epoch 7: 100%|██████████| 1440/1440 [01:05<00:00, 22.12it/s]\n"
     ]
    },
    {
     "name": "stdout",
     "output_type": "stream",
     "text": [
      "Epoch: 7, Train Loss: 201.3848982, Eval Loss: 2541.8070252\n"
     ]
    },
    {
     "name": "stderr",
     "output_type": "stream",
     "text": [
      "Training epoch 8: 100%|██████████| 2880/2880 [03:04<00:00, 15.64it/s]\n",
      "Evaluating epoch 8: 100%|██████████| 1440/1440 [01:04<00:00, 22.22it/s]\n"
     ]
    },
    {
     "name": "stdout",
     "output_type": "stream",
     "text": [
      "Epoch: 8, Train Loss: 197.8444465, Eval Loss: 2450.8928902\n"
     ]
    },
    {
     "name": "stderr",
     "output_type": "stream",
     "text": [
      "Training epoch 9: 100%|██████████| 2880/2880 [03:04<00:00, 15.64it/s]\n",
      "Evaluating epoch 9: 100%|██████████| 1440/1440 [01:05<00:00, 22.14it/s]\n"
     ]
    },
    {
     "name": "stdout",
     "output_type": "stream",
     "text": [
      "Epoch: 9, Train Loss: 195.5610627, Eval Loss: 2470.9126287\n"
     ]
    },
    {
     "name": "stderr",
     "output_type": "stream",
     "text": [
      "Training epoch 10: 100%|██████████| 2880/2880 [03:03<00:00, 15.66it/s]\n",
      "Evaluating epoch 10: 100%|██████████| 1440/1440 [01:05<00:00, 22.07it/s]\n"
     ]
    },
    {
     "name": "stdout",
     "output_type": "stream",
     "text": [
      "Epoch: 10, Train Loss: 193.4990489, Eval Loss: 2479.5596202\n"
     ]
    },
    {
     "name": "stderr",
     "output_type": "stream",
     "text": [
      "Training epoch 11: 100%|██████████| 2880/2880 [03:04<00:00, 15.62it/s]\n",
      "Evaluating epoch 11: 100%|██████████| 1440/1440 [01:04<00:00, 22.21it/s]\n"
     ]
    },
    {
     "name": "stdout",
     "output_type": "stream",
     "text": [
      "Epoch: 11, Train Loss: 191.7500517, Eval Loss: 2670.0636671\n"
     ]
    },
    {
     "name": "stderr",
     "output_type": "stream",
     "text": [
      "Training epoch 12: 100%|██████████| 2880/2880 [03:04<00:00, 15.65it/s]\n",
      "Evaluating epoch 12: 100%|██████████| 1440/1440 [01:05<00:00, 22.08it/s]\n"
     ]
    },
    {
     "name": "stdout",
     "output_type": "stream",
     "text": [
      "Epoch: 12, Train Loss: 192.6876826, Eval Loss: 2573.4405029\n"
     ]
    },
    {
     "name": "stderr",
     "output_type": "stream",
     "text": [
      "Training epoch 13: 100%|██████████| 2880/2880 [03:03<00:00, 15.66it/s]\n",
      "Evaluating epoch 13: 100%|██████████| 1440/1440 [01:04<00:00, 22.20it/s]\n"
     ]
    },
    {
     "name": "stdout",
     "output_type": "stream",
     "text": [
      "Epoch: 13, Train Loss: 189.7085618, Eval Loss: 2466.3394287\n"
     ]
    },
    {
     "name": "stderr",
     "output_type": "stream",
     "text": [
      "Training epoch 14: 100%|██████████| 2880/2880 [03:04<00:00, 15.65it/s]\n",
      "Evaluating epoch 14: 100%|██████████| 1440/1440 [01:04<00:00, 22.22it/s]\n"
     ]
    },
    {
     "name": "stdout",
     "output_type": "stream",
     "text": [
      "Epoch: 14, Train Loss: 189.5622540, Eval Loss: 2624.3875685\n"
     ]
    },
    {
     "name": "stderr",
     "output_type": "stream",
     "text": [
      "Training epoch 15: 100%|██████████| 2880/2880 [03:03<00:00, 15.66it/s]\n",
      "Evaluating epoch 15: 100%|██████████| 1440/1440 [01:04<00:00, 22.24it/s]\n"
     ]
    },
    {
     "name": "stdout",
     "output_type": "stream",
     "text": [
      "Epoch: 15, Train Loss: 186.7084052, Eval Loss: 2503.3718044\n"
     ]
    },
    {
     "name": "stderr",
     "output_type": "stream",
     "text": [
      "Training epoch 16: 100%|██████████| 2880/2880 [03:04<00:00, 15.65it/s]\n",
      "Evaluating epoch 16: 100%|██████████| 1440/1440 [01:04<00:00, 22.20it/s]\n"
     ]
    },
    {
     "name": "stdout",
     "output_type": "stream",
     "text": [
      "Epoch: 16, Train Loss: 189.1297844, Eval Loss: 2431.4802606\n"
     ]
    },
    {
     "name": "stderr",
     "output_type": "stream",
     "text": [
      "Training epoch 17: 100%|██████████| 2880/2880 [03:04<00:00, 15.65it/s]\n",
      "Evaluating epoch 17: 100%|██████████| 1440/1440 [01:04<00:00, 22.18it/s]\n"
     ]
    },
    {
     "name": "stdout",
     "output_type": "stream",
     "text": [
      "Epoch: 17, Train Loss: 192.6009293, Eval Loss: 2446.1124243\n"
     ]
    },
    {
     "name": "stderr",
     "output_type": "stream",
     "text": [
      "Training epoch 18: 100%|██████████| 2880/2880 [03:04<00:00, 15.60it/s]\n",
      "Evaluating epoch 18: 100%|██████████| 1440/1440 [01:04<00:00, 22.23it/s]\n"
     ]
    },
    {
     "name": "stdout",
     "output_type": "stream",
     "text": [
      "Epoch: 18, Train Loss: 188.9978149, Eval Loss: 2544.7477527\n"
     ]
    },
    {
     "name": "stderr",
     "output_type": "stream",
     "text": [
      "Training epoch 19: 100%|██████████| 2880/2880 [03:04<00:00, 15.58it/s]\n",
      "Evaluating epoch 19: 100%|██████████| 1440/1440 [01:04<00:00, 22.19it/s]\n"
     ]
    },
    {
     "name": "stdout",
     "output_type": "stream",
     "text": [
      "Epoch: 19, Train Loss: 183.6066658, Eval Loss: 2521.8694093\n"
     ]
    },
    {
     "name": "stderr",
     "output_type": "stream",
     "text": [
      "Training epoch 20: 100%|██████████| 2880/2880 [03:04<00:00, 15.63it/s]\n",
      "Evaluating epoch 20: 100%|██████████| 1440/1440 [01:04<00:00, 22.18it/s]\n"
     ]
    },
    {
     "name": "stdout",
     "output_type": "stream",
     "text": [
      "Epoch: 20, Train Loss: 185.4164816, Eval Loss: 2598.1242386\n"
     ]
    },
    {
     "name": "stderr",
     "output_type": "stream",
     "text": [
      "Training epoch 21: 100%|██████████| 2880/2880 [03:04<00:00, 15.64it/s]\n",
      "Evaluating epoch 21: 100%|██████████| 1440/1440 [01:04<00:00, 22.19it/s]\n"
     ]
    },
    {
     "name": "stdout",
     "output_type": "stream",
     "text": [
      "Epoch: 21, Train Loss: 182.0411090, Eval Loss: 2585.2452289\n"
     ]
    },
    {
     "name": "stderr",
     "output_type": "stream",
     "text": [
      "Training epoch 22: 100%|██████████| 2880/2880 [03:03<00:00, 15.66it/s]\n",
      "Evaluating epoch 22: 100%|██████████| 1440/1440 [01:04<00:00, 22.18it/s]\n"
     ]
    },
    {
     "name": "stdout",
     "output_type": "stream",
     "text": [
      "Epoch: 22, Train Loss: 186.6887297, Eval Loss: 2554.2219827\n"
     ]
    },
    {
     "name": "stderr",
     "output_type": "stream",
     "text": [
      "Training epoch 23: 100%|██████████| 2880/2880 [03:03<00:00, 15.65it/s]\n",
      "Evaluating epoch 23: 100%|██████████| 1440/1440 [01:04<00:00, 22.19it/s]\n"
     ]
    },
    {
     "name": "stdout",
     "output_type": "stream",
     "text": [
      "Epoch: 23, Train Loss: 188.7489426, Eval Loss: 2551.1403332\n"
     ]
    },
    {
     "name": "stderr",
     "output_type": "stream",
     "text": [
      "Training epoch 24: 100%|██████████| 2880/2880 [03:04<00:00, 15.64it/s]\n",
      "Evaluating epoch 24: 100%|██████████| 1440/1440 [01:05<00:00, 22.09it/s]\n"
     ]
    },
    {
     "name": "stdout",
     "output_type": "stream",
     "text": [
      "Epoch: 24, Train Loss: 192.2806339, Eval Loss: 2408.3557061\n"
     ]
    },
    {
     "name": "stderr",
     "output_type": "stream",
     "text": [
      "Training epoch 25: 100%|██████████| 2880/2880 [03:04<00:00, 15.64it/s]\n",
      "Evaluating epoch 25: 100%|██████████| 1440/1440 [01:05<00:00, 22.13it/s]\n"
     ]
    },
    {
     "name": "stdout",
     "output_type": "stream",
     "text": [
      "Epoch: 25, Train Loss: 186.1685746, Eval Loss: 2405.2376062\n"
     ]
    },
    {
     "name": "stderr",
     "output_type": "stream",
     "text": [
      "Training epoch 26: 100%|██████████| 2880/2880 [03:03<00:00, 15.66it/s]\n",
      "Evaluating epoch 26: 100%|██████████| 1440/1440 [01:04<00:00, 22.21it/s]\n"
     ]
    },
    {
     "name": "stdout",
     "output_type": "stream",
     "text": [
      "Epoch: 26, Train Loss: 182.9639027, Eval Loss: 2527.1902509\n"
     ]
    },
    {
     "name": "stderr",
     "output_type": "stream",
     "text": [
      "Training epoch 27: 100%|██████████| 2880/2880 [03:03<00:00, 15.67it/s]\n"
     ]
    },
    {
     "name": "stdout",
     "output_type": "stream",
     "text": [
      "Epoch 00028: reducing learning rate of group 0 to 1.0000e-03.\n"
     ]
    },
    {
     "name": "stderr",
     "output_type": "stream",
     "text": [
      "Evaluating epoch 27: 100%|██████████| 1440/1440 [01:05<00:00, 22.08it/s]\n"
     ]
    },
    {
     "name": "stdout",
     "output_type": "stream",
     "text": [
      "Epoch: 27, Train Loss: 184.6649129, Eval Loss: 2357.6702259\n"
     ]
    },
    {
     "name": "stderr",
     "output_type": "stream",
     "text": [
      "Training epoch 28: 100%|██████████| 2880/2880 [03:04<00:00, 15.65it/s]\n",
      "Evaluating epoch 28: 100%|██████████| 1440/1440 [01:04<00:00, 22.18it/s]\n"
     ]
    },
    {
     "name": "stdout",
     "output_type": "stream",
     "text": [
      "Epoch: 28, Train Loss: 167.8131427, Eval Loss: 2346.9706115\n"
     ]
    },
    {
     "name": "stderr",
     "output_type": "stream",
     "text": [
      "Training epoch 29: 100%|██████████| 2880/2880 [03:04<00:00, 15.64it/s]\n",
      "Evaluating epoch 29: 100%|██████████| 1440/1440 [01:04<00:00, 22.21it/s]\n"
     ]
    },
    {
     "name": "stdout",
     "output_type": "stream",
     "text": [
      "Epoch: 29, Train Loss: 163.2952423, Eval Loss: 2350.5430721\n"
     ]
    },
    {
     "name": "stderr",
     "output_type": "stream",
     "text": [
      "Training epoch 30: 100%|██████████| 2880/2880 [03:04<00:00, 15.63it/s]\n",
      "Evaluating epoch 30: 100%|██████████| 1440/1440 [01:04<00:00, 22.22it/s]\n"
     ]
    },
    {
     "name": "stdout",
     "output_type": "stream",
     "text": [
      "Epoch: 30, Train Loss: 161.6111179, Eval Loss: 2364.9392121\n"
     ]
    },
    {
     "name": "stderr",
     "output_type": "stream",
     "text": [
      "Training epoch 31: 100%|██████████| 2880/2880 [03:04<00:00, 15.65it/s]\n",
      "Evaluating epoch 31: 100%|██████████| 1440/1440 [01:05<00:00, 22.03it/s]\n"
     ]
    },
    {
     "name": "stdout",
     "output_type": "stream",
     "text": [
      "Epoch: 31, Train Loss: 160.8783544, Eval Loss: 2366.5054318\n"
     ]
    },
    {
     "name": "stderr",
     "output_type": "stream",
     "text": [
      "Training epoch 32: 100%|██████████| 2880/2880 [03:04<00:00, 15.63it/s]\n",
      "Evaluating epoch 32: 100%|██████████| 1440/1440 [01:05<00:00, 22.13it/s]\n"
     ]
    },
    {
     "name": "stdout",
     "output_type": "stream",
     "text": [
      "Epoch: 32, Train Loss: 159.6490454, Eval Loss: 2375.9445982\n"
     ]
    },
    {
     "name": "stderr",
     "output_type": "stream",
     "text": [
      "Training epoch 33: 100%|██████████| 2880/2880 [03:04<00:00, 15.64it/s]\n",
      "Evaluating epoch 33: 100%|██████████| 1440/1440 [01:04<00:00, 22.17it/s]\n"
     ]
    },
    {
     "name": "stdout",
     "output_type": "stream",
     "text": [
      "Epoch: 33, Train Loss: 159.3879352, Eval Loss: 2378.1361889\n"
     ]
    },
    {
     "name": "stderr",
     "output_type": "stream",
     "text": [
      "Training epoch 34: 100%|██████████| 2880/2880 [03:03<00:00, 15.65it/s]\n",
      "Evaluating epoch 34: 100%|██████████| 1440/1440 [01:05<00:00, 22.12it/s]\n"
     ]
    },
    {
     "name": "stdout",
     "output_type": "stream",
     "text": [
      "Epoch: 34, Train Loss: 158.8593609, Eval Loss: 2379.9935138\n"
     ]
    },
    {
     "name": "stderr",
     "output_type": "stream",
     "text": [
      "Training epoch 35: 100%|██████████| 2880/2880 [03:04<00:00, 15.63it/s]\n",
      "Evaluating epoch 35: 100%|██████████| 1440/1440 [01:05<00:00, 22.13it/s]\n"
     ]
    },
    {
     "name": "stdout",
     "output_type": "stream",
     "text": [
      "Epoch: 35, Train Loss: 158.4887991, Eval Loss: 2380.1072168\n"
     ]
    },
    {
     "name": "stderr",
     "output_type": "stream",
     "text": [
      "Training epoch 36: 100%|██████████| 2880/2880 [03:03<00:00, 15.66it/s]\n",
      "Evaluating epoch 36: 100%|██████████| 1440/1440 [01:05<00:00, 22.08it/s]\n"
     ]
    },
    {
     "name": "stdout",
     "output_type": "stream",
     "text": [
      "Epoch: 36, Train Loss: 158.3455102, Eval Loss: 2379.4874551\n"
     ]
    },
    {
     "name": "stderr",
     "output_type": "stream",
     "text": [
      "Training epoch 37: 100%|██████████| 2880/2880 [03:03<00:00, 15.66it/s]\n",
      "Evaluating epoch 37: 100%|██████████| 1440/1440 [01:04<00:00, 22.22it/s]\n"
     ]
    },
    {
     "name": "stdout",
     "output_type": "stream",
     "text": [
      "Epoch: 37, Train Loss: 157.9828855, Eval Loss: 2379.9955114\n"
     ]
    },
    {
     "name": "stderr",
     "output_type": "stream",
     "text": [
      "Training epoch 38: 100%|██████████| 2880/2880 [03:04<00:00, 15.63it/s]\n",
      "Evaluating epoch 38: 100%|██████████| 1440/1440 [01:05<00:00, 22.11it/s]\n"
     ]
    },
    {
     "name": "stdout",
     "output_type": "stream",
     "text": [
      "Epoch: 38, Train Loss: 157.5304132, Eval Loss: 2385.4203613\n"
     ]
    },
    {
     "name": "stderr",
     "output_type": "stream",
     "text": [
      "Training epoch 39: 100%|██████████| 2880/2880 [03:04<00:00, 15.63it/s]\n",
      "Evaluating epoch 39: 100%|██████████| 1440/1440 [01:04<00:00, 22.22it/s]\n"
     ]
    },
    {
     "name": "stdout",
     "output_type": "stream",
     "text": [
      "Epoch: 39, Train Loss: 157.0934157, Eval Loss: 2383.9047090\n"
     ]
    },
    {
     "name": "stderr",
     "output_type": "stream",
     "text": [
      "Training epoch 40: 100%|██████████| 2880/2880 [03:04<00:00, 15.64it/s]\n",
      "Evaluating epoch 40: 100%|██████████| 1440/1440 [01:04<00:00, 22.19it/s]\n"
     ]
    },
    {
     "name": "stdout",
     "output_type": "stream",
     "text": [
      "Epoch: 40, Train Loss: 156.9627487, Eval Loss: 2382.3197996\n"
     ]
    },
    {
     "name": "stderr",
     "output_type": "stream",
     "text": [
      "Training epoch 41: 100%|██████████| 2880/2880 [03:04<00:00, 15.63it/s]\n",
      "Evaluating epoch 41: 100%|██████████| 1440/1440 [01:04<00:00, 22.20it/s]\n"
     ]
    },
    {
     "name": "stdout",
     "output_type": "stream",
     "text": [
      "Epoch: 41, Train Loss: 156.6811613, Eval Loss: 2380.3082770\n"
     ]
    },
    {
     "name": "stderr",
     "output_type": "stream",
     "text": [
      "Training epoch 42: 100%|██████████| 2880/2880 [03:04<00:00, 15.65it/s]\n",
      "Evaluating epoch 42: 100%|██████████| 1440/1440 [01:05<00:00, 22.12it/s]\n"
     ]
    },
    {
     "name": "stdout",
     "output_type": "stream",
     "text": [
      "Epoch: 42, Train Loss: 156.8254710, Eval Loss: 2381.6836073\n"
     ]
    },
    {
     "name": "stderr",
     "output_type": "stream",
     "text": [
      "Training epoch 43: 100%|██████████| 2880/2880 [03:04<00:00, 15.64it/s]\n",
      "Evaluating epoch 43: 100%|██████████| 1440/1440 [01:04<00:00, 22.19it/s]\n"
     ]
    },
    {
     "name": "stdout",
     "output_type": "stream",
     "text": [
      "Epoch: 43, Train Loss: 156.5084301, Eval Loss: 2388.1565470\n"
     ]
    },
    {
     "name": "stderr",
     "output_type": "stream",
     "text": [
      "Training epoch 44: 100%|██████████| 2880/2880 [03:04<00:00, 15.64it/s]\n",
      "Evaluating epoch 44: 100%|██████████| 1440/1440 [01:05<00:00, 22.08it/s]\n"
     ]
    },
    {
     "name": "stdout",
     "output_type": "stream",
     "text": [
      "Epoch: 44, Train Loss: 156.3424583, Eval Loss: 2386.5026885\n"
     ]
    },
    {
     "name": "stderr",
     "output_type": "stream",
     "text": [
      "Training epoch 45: 100%|██████████| 2880/2880 [03:04<00:00, 15.63it/s]\n",
      "Evaluating epoch 45: 100%|██████████| 1440/1440 [01:05<00:00, 22.12it/s]\n"
     ]
    },
    {
     "name": "stdout",
     "output_type": "stream",
     "text": [
      "Epoch: 45, Train Loss: 156.0506868, Eval Loss: 2386.1428368\n"
     ]
    },
    {
     "name": "stderr",
     "output_type": "stream",
     "text": [
      "Training epoch 46: 100%|██████████| 2880/2880 [03:03<00:00, 15.66it/s]\n",
      "Evaluating epoch 46: 100%|██████████| 1440/1440 [01:04<00:00, 22.22it/s]\n"
     ]
    },
    {
     "name": "stdout",
     "output_type": "stream",
     "text": [
      "Epoch: 46, Train Loss: 155.6746942, Eval Loss: 2387.4822342\n"
     ]
    },
    {
     "name": "stderr",
     "output_type": "stream",
     "text": [
      "Training epoch 47: 100%|██████████| 2880/2880 [03:04<00:00, 15.64it/s]\n",
      "Evaluating epoch 47: 100%|██████████| 1440/1440 [01:05<00:00, 22.09it/s]\n"
     ]
    },
    {
     "name": "stdout",
     "output_type": "stream",
     "text": [
      "Epoch: 47, Train Loss: 155.4561424, Eval Loss: 2397.5831176\n"
     ]
    },
    {
     "name": "stderr",
     "output_type": "stream",
     "text": [
      "Training epoch 48: 100%|██████████| 2880/2880 [03:04<00:00, 15.64it/s]\n",
      "Evaluating epoch 48: 100%|██████████| 1440/1440 [01:05<00:00, 22.04it/s]\n"
     ]
    },
    {
     "name": "stdout",
     "output_type": "stream",
     "text": [
      "Epoch: 48, Train Loss: 155.1682049, Eval Loss: 2399.8245924\n"
     ]
    },
    {
     "name": "stderr",
     "output_type": "stream",
     "text": [
      "Training epoch 49: 100%|██████████| 2880/2880 [03:04<00:00, 15.65it/s]\n",
      "Evaluating epoch 49: 100%|██████████| 1440/1440 [01:04<00:00, 22.16it/s]\n"
     ]
    },
    {
     "name": "stdout",
     "output_type": "stream",
     "text": [
      "Epoch: 49, Train Loss: 154.9094944, Eval Loss: 2398.4013310\n"
     ]
    },
    {
     "name": "stderr",
     "output_type": "stream",
     "text": [
      "Training epoch 50: 100%|██████████| 2880/2880 [03:04<00:00, 15.64it/s]\n",
      "Evaluating epoch 50: 100%|██████████| 1440/1440 [01:05<00:00, 22.13it/s]\n"
     ]
    },
    {
     "name": "stdout",
     "output_type": "stream",
     "text": [
      "Epoch: 50, Train Loss: 154.7384419, Eval Loss: 2396.3943080\n"
     ]
    },
    {
     "name": "stderr",
     "output_type": "stream",
     "text": [
      "Training epoch 51: 100%|██████████| 2880/2880 [03:04<00:00, 15.65it/s]\n",
      "Evaluating epoch 51: 100%|██████████| 1440/1440 [01:05<00:00, 22.13it/s]\n"
     ]
    },
    {
     "name": "stdout",
     "output_type": "stream",
     "text": [
      "Epoch: 51, Train Loss: 154.8709719, Eval Loss: 2393.7934769\n"
     ]
    },
    {
     "name": "stderr",
     "output_type": "stream",
     "text": [
      "Training epoch 52: 100%|██████████| 2880/2880 [03:04<00:00, 15.63it/s]\n",
      "Evaluating epoch 52: 100%|██████████| 1440/1440 [01:04<00:00, 22.19it/s]\n"
     ]
    },
    {
     "name": "stdout",
     "output_type": "stream",
     "text": [
      "Epoch: 52, Train Loss: 154.5775975, Eval Loss: 2393.7992948\n"
     ]
    },
    {
     "name": "stderr",
     "output_type": "stream",
     "text": [
      "Training epoch 53: 100%|██████████| 2880/2880 [03:04<00:00, 15.64it/s]\n",
      "Evaluating epoch 53: 100%|██████████| 1440/1440 [01:04<00:00, 22.17it/s]\n"
     ]
    },
    {
     "name": "stdout",
     "output_type": "stream",
     "text": [
      "Epoch: 53, Train Loss: 154.3576482, Eval Loss: 2398.7565365\n"
     ]
    },
    {
     "name": "stderr",
     "output_type": "stream",
     "text": [
      "Training epoch 54: 100%|██████████| 2880/2880 [03:04<00:00, 15.62it/s]\n",
      "Evaluating epoch 54: 100%|██████████| 1440/1440 [01:04<00:00, 22.17it/s]\n"
     ]
    },
    {
     "name": "stdout",
     "output_type": "stream",
     "text": [
      "Epoch: 54, Train Loss: 154.1684363, Eval Loss: 2397.8812202\n"
     ]
    },
    {
     "name": "stderr",
     "output_type": "stream",
     "text": [
      "Training epoch 55: 100%|██████████| 2880/2880 [03:04<00:00, 15.63it/s]\n",
      "Evaluating epoch 55: 100%|██████████| 1440/1440 [01:04<00:00, 22.16it/s]\n"
     ]
    },
    {
     "name": "stdout",
     "output_type": "stream",
     "text": [
      "Epoch: 55, Train Loss: 154.0953330, Eval Loss: 2405.9480724\n"
     ]
    },
    {
     "name": "stderr",
     "output_type": "stream",
     "text": [
      "Training epoch 56: 100%|██████████| 2880/2880 [03:04<00:00, 15.64it/s]\n",
      "Evaluating epoch 56: 100%|██████████| 1440/1440 [01:05<00:00, 22.14it/s]\n"
     ]
    },
    {
     "name": "stdout",
     "output_type": "stream",
     "text": [
      "Epoch: 56, Train Loss: 154.0328688, Eval Loss: 2401.5163373\n"
     ]
    },
    {
     "name": "stderr",
     "output_type": "stream",
     "text": [
      "Training epoch 57: 100%|██████████| 2880/2880 [03:04<00:00, 15.63it/s]\n",
      "Evaluating epoch 57: 100%|██████████| 1440/1440 [01:05<00:00, 22.09it/s]\n"
     ]
    },
    {
     "name": "stdout",
     "output_type": "stream",
     "text": [
      "Epoch: 57, Train Loss: 154.1838397, Eval Loss: 2412.6911724\n"
     ]
    },
    {
     "name": "stderr",
     "output_type": "stream",
     "text": [
      "Training epoch 58: 100%|██████████| 2880/2880 [03:04<00:00, 15.62it/s]\n",
      "Evaluating epoch 58: 100%|██████████| 1440/1440 [01:04<00:00, 22.16it/s]\n"
     ]
    },
    {
     "name": "stdout",
     "output_type": "stream",
     "text": [
      "Epoch: 58, Train Loss: 153.6206970, Eval Loss: 2405.8493451\n"
     ]
    },
    {
     "name": "stderr",
     "output_type": "stream",
     "text": [
      "Training epoch 59: 100%|██████████| 2880/2880 [03:04<00:00, 15.62it/s]\n",
      "Evaluating epoch 59: 100%|██████████| 1440/1440 [01:05<00:00, 22.12it/s]\n"
     ]
    },
    {
     "name": "stdout",
     "output_type": "stream",
     "text": [
      "Epoch: 59, Train Loss: 153.6250992, Eval Loss: 2418.4567351\n"
     ]
    },
    {
     "name": "stderr",
     "output_type": "stream",
     "text": [
      "Training epoch 60: 100%|██████████| 2880/2880 [03:04<00:00, 15.63it/s]\n",
      "Evaluating epoch 60: 100%|██████████| 1440/1440 [01:04<00:00, 22.23it/s]\n"
     ]
    },
    {
     "name": "stdout",
     "output_type": "stream",
     "text": [
      "Epoch: 60, Train Loss: 153.7593018, Eval Loss: 2409.2489903\n"
     ]
    },
    {
     "name": "stderr",
     "output_type": "stream",
     "text": [
      "Training epoch 61: 100%|██████████| 2880/2880 [03:04<00:00, 15.63it/s]\n",
      "Evaluating epoch 61: 100%|██████████| 1440/1440 [01:05<00:00, 22.11it/s]\n"
     ]
    },
    {
     "name": "stdout",
     "output_type": "stream",
     "text": [
      "Epoch: 61, Train Loss: 154.0477569, Eval Loss: 2418.6513139\n"
     ]
    },
    {
     "name": "stderr",
     "output_type": "stream",
     "text": [
      "Training epoch 62: 100%|██████████| 2880/2880 [03:04<00:00, 15.63it/s]\n",
      "Evaluating epoch 62: 100%|██████████| 1440/1440 [01:04<00:00, 22.16it/s]\n"
     ]
    },
    {
     "name": "stdout",
     "output_type": "stream",
     "text": [
      "Epoch: 62, Train Loss: 153.3401471, Eval Loss: 2420.0619012\n"
     ]
    },
    {
     "name": "stderr",
     "output_type": "stream",
     "text": [
      "Training epoch 63: 100%|██████████| 2880/2880 [03:04<00:00, 15.64it/s]\n",
      "Evaluating epoch 63: 100%|██████████| 1440/1440 [01:05<00:00, 22.08it/s]\n"
     ]
    },
    {
     "name": "stdout",
     "output_type": "stream",
     "text": [
      "Epoch: 63, Train Loss: 153.3455002, Eval Loss: 2407.7224730\n"
     ]
    },
    {
     "name": "stderr",
     "output_type": "stream",
     "text": [
      "Training epoch 64: 100%|██████████| 2880/2880 [03:04<00:00, 15.62it/s]\n",
      "Evaluating epoch 64: 100%|██████████| 1440/1440 [01:05<00:00, 22.09it/s]\n"
     ]
    },
    {
     "name": "stdout",
     "output_type": "stream",
     "text": [
      "Epoch: 64, Train Loss: 153.1591948, Eval Loss: 2419.1032409\n"
     ]
    },
    {
     "name": "stderr",
     "output_type": "stream",
     "text": [
      "Training epoch 65: 100%|██████████| 2880/2880 [03:04<00:00, 15.63it/s]\n",
      "Evaluating epoch 65: 100%|██████████| 1440/1440 [01:04<00:00, 22.17it/s]\n"
     ]
    },
    {
     "name": "stdout",
     "output_type": "stream",
     "text": [
      "Epoch: 65, Train Loss: 153.1662556, Eval Loss: 2406.6042393\n"
     ]
    },
    {
     "name": "stderr",
     "output_type": "stream",
     "text": [
      "Training epoch 66: 100%|██████████| 2880/2880 [03:03<00:00, 15.65it/s]\n",
      "Evaluating epoch 66: 100%|██████████| 1440/1440 [01:05<00:00, 22.10it/s]\n"
     ]
    },
    {
     "name": "stdout",
     "output_type": "stream",
     "text": [
      "Epoch: 66, Train Loss: 152.9922854, Eval Loss: 2410.7172747\n"
     ]
    },
    {
     "name": "stderr",
     "output_type": "stream",
     "text": [
      "Training epoch 67: 100%|██████████| 2880/2880 [03:04<00:00, 15.63it/s]\n",
      "Evaluating epoch 67: 100%|██████████| 1440/1440 [01:04<00:00, 22.17it/s]\n"
     ]
    },
    {
     "name": "stdout",
     "output_type": "stream",
     "text": [
      "Epoch: 67, Train Loss: 152.6925111, Eval Loss: 2417.0192909\n"
     ]
    },
    {
     "name": "stderr",
     "output_type": "stream",
     "text": [
      "Training epoch 68: 100%|██████████| 2880/2880 [03:04<00:00, 15.64it/s]\n",
      "Evaluating epoch 68: 100%|██████████| 1440/1440 [01:05<00:00, 22.10it/s]\n"
     ]
    },
    {
     "name": "stdout",
     "output_type": "stream",
     "text": [
      "Epoch: 68, Train Loss: 152.4774813, Eval Loss: 2417.6577924\n"
     ]
    },
    {
     "name": "stderr",
     "output_type": "stream",
     "text": [
      "Training epoch 69: 100%|██████████| 2880/2880 [03:04<00:00, 15.65it/s]\n",
      "Evaluating epoch 69: 100%|██████████| 1440/1440 [01:04<00:00, 22.21it/s]\n"
     ]
    },
    {
     "name": "stdout",
     "output_type": "stream",
     "text": [
      "Epoch: 69, Train Loss: 152.6482658, Eval Loss: 2423.7689433\n"
     ]
    },
    {
     "name": "stderr",
     "output_type": "stream",
     "text": [
      "Training epoch 70: 100%|██████████| 2880/2880 [03:04<00:00, 15.64it/s]\n",
      "Evaluating epoch 70: 100%|██████████| 1440/1440 [01:04<00:00, 22.18it/s]\n"
     ]
    },
    {
     "name": "stdout",
     "output_type": "stream",
     "text": [
      "Epoch: 70, Train Loss: 152.3516094, Eval Loss: 2423.7293080\n"
     ]
    },
    {
     "name": "stderr",
     "output_type": "stream",
     "text": [
      "Training epoch 71: 100%|██████████| 2880/2880 [03:04<00:00, 15.63it/s]\n",
      "Evaluating epoch 71: 100%|██████████| 1440/1440 [01:04<00:00, 22.22it/s]\n"
     ]
    },
    {
     "name": "stdout",
     "output_type": "stream",
     "text": [
      "Epoch: 71, Train Loss: 152.7583897, Eval Loss: 2442.1155728\n"
     ]
    },
    {
     "name": "stderr",
     "output_type": "stream",
     "text": [
      "Training epoch 72: 100%|██████████| 2880/2880 [03:04<00:00, 15.65it/s]\n",
      "Evaluating epoch 72: 100%|██████████| 1440/1440 [01:05<00:00, 22.10it/s]\n"
     ]
    },
    {
     "name": "stdout",
     "output_type": "stream",
     "text": [
      "Epoch: 72, Train Loss: 152.2419914, Eval Loss: 2435.7407282\n"
     ]
    },
    {
     "name": "stderr",
     "output_type": "stream",
     "text": [
      "Training epoch 73: 100%|██████████| 2880/2880 [03:04<00:00, 15.63it/s]\n",
      "Evaluating epoch 73: 100%|██████████| 1440/1440 [01:04<00:00, 22.19it/s]\n"
     ]
    },
    {
     "name": "stdout",
     "output_type": "stream",
     "text": [
      "Epoch: 73, Train Loss: 152.0498852, Eval Loss: 2435.2114767\n"
     ]
    },
    {
     "name": "stderr",
     "output_type": "stream",
     "text": [
      "Training epoch 74: 100%|██████████| 2880/2880 [03:04<00:00, 15.65it/s]\n",
      "Evaluating epoch 74: 100%|██████████| 1440/1440 [01:05<00:00, 22.12it/s]\n"
     ]
    },
    {
     "name": "stdout",
     "output_type": "stream",
     "text": [
      "Epoch: 74, Train Loss: 151.8205916, Eval Loss: 2431.1381482\n"
     ]
    },
    {
     "name": "stderr",
     "output_type": "stream",
     "text": [
      "Training epoch 75: 100%|██████████| 2880/2880 [03:04<00:00, 15.64it/s]\n",
      "Evaluating epoch 75: 100%|██████████| 1440/1440 [01:05<00:00, 22.06it/s]\n"
     ]
    },
    {
     "name": "stdout",
     "output_type": "stream",
     "text": [
      "Epoch: 75, Train Loss: 151.6674002, Eval Loss: 2435.3490029\n"
     ]
    },
    {
     "name": "stderr",
     "output_type": "stream",
     "text": [
      "Training epoch 76: 100%|██████████| 2880/2880 [03:04<00:00, 15.64it/s]\n",
      "Evaluating epoch 76: 100%|██████████| 1440/1440 [01:05<00:00, 22.08it/s]\n"
     ]
    },
    {
     "name": "stdout",
     "output_type": "stream",
     "text": [
      "Epoch: 76, Train Loss: 151.9056107, Eval Loss: 2425.8887204\n"
     ]
    },
    {
     "name": "stderr",
     "output_type": "stream",
     "text": [
      "Training epoch 77: 100%|██████████| 2880/2880 [03:04<00:00, 15.64it/s]\n",
      "Evaluating epoch 77: 100%|██████████| 1440/1440 [01:04<00:00, 22.17it/s]\n"
     ]
    },
    {
     "name": "stdout",
     "output_type": "stream",
     "text": [
      "Epoch: 77, Train Loss: 151.7908424, Eval Loss: 2434.7784808\n"
     ]
    },
    {
     "name": "stderr",
     "output_type": "stream",
     "text": [
      "Training epoch 78: 100%|██████████| 2880/2880 [03:04<00:00, 15.63it/s]\n",
      "Evaluating epoch 78: 100%|██████████| 1440/1440 [01:05<00:00, 22.15it/s]\n"
     ]
    },
    {
     "name": "stdout",
     "output_type": "stream",
     "text": [
      "Epoch: 78, Train Loss: 151.6426327, Eval Loss: 2426.7501698\n"
     ]
    },
    {
     "name": "stderr",
     "output_type": "stream",
     "text": [
      "Training epoch 79: 100%|██████████| 2880/2880 [03:04<00:00, 15.65it/s]\n",
      "Evaluating epoch 79: 100%|██████████| 1440/1440 [01:05<00:00, 22.15it/s]\n"
     ]
    },
    {
     "name": "stdout",
     "output_type": "stream",
     "text": [
      "Epoch: 79, Train Loss: 151.4772019, Eval Loss: 2417.3828609\n"
     ]
    },
    {
     "name": "stderr",
     "output_type": "stream",
     "text": [
      "Training epoch 80: 100%|██████████| 2880/2880 [03:04<00:00, 15.64it/s]\n",
      "Evaluating epoch 80: 100%|██████████| 1440/1440 [01:05<00:00, 22.15it/s]\n"
     ]
    },
    {
     "name": "stdout",
     "output_type": "stream",
     "text": [
      "Epoch: 80, Train Loss: 151.2770769, Eval Loss: 2420.6269188\n"
     ]
    },
    {
     "name": "stderr",
     "output_type": "stream",
     "text": [
      "Training epoch 81: 100%|██████████| 2880/2880 [03:03<00:00, 15.65it/s]\n",
      "Evaluating epoch 81: 100%|██████████| 1440/1440 [01:05<00:00, 22.11it/s]\n"
     ]
    },
    {
     "name": "stdout",
     "output_type": "stream",
     "text": [
      "Epoch: 81, Train Loss: 151.2725449, Eval Loss: 2415.7589831\n"
     ]
    },
    {
     "name": "stderr",
     "output_type": "stream",
     "text": [
      "Training epoch 82: 100%|██████████| 2880/2880 [03:04<00:00, 15.62it/s]\n",
      "Evaluating epoch 82: 100%|██████████| 1440/1440 [01:05<00:00, 22.12it/s]\n"
     ]
    },
    {
     "name": "stdout",
     "output_type": "stream",
     "text": [
      "Epoch: 82, Train Loss: 151.0629924, Eval Loss: 2410.6214963\n"
     ]
    },
    {
     "name": "stderr",
     "output_type": "stream",
     "text": [
      "Training epoch 83: 100%|██████████| 2880/2880 [03:04<00:00, 15.63it/s]\n",
      "Evaluating epoch 83: 100%|██████████| 1440/1440 [01:04<00:00, 22.16it/s]\n"
     ]
    },
    {
     "name": "stdout",
     "output_type": "stream",
     "text": [
      "Epoch: 83, Train Loss: 150.7954677, Eval Loss: 2403.0193091\n"
     ]
    },
    {
     "name": "stderr",
     "output_type": "stream",
     "text": [
      "Training epoch 84: 100%|██████████| 2880/2880 [03:04<00:00, 15.65it/s]\n",
      "Evaluating epoch 84: 100%|██████████| 1440/1440 [01:04<00:00, 22.16it/s]\n"
     ]
    },
    {
     "name": "stdout",
     "output_type": "stream",
     "text": [
      "Epoch: 84, Train Loss: 151.0075164, Eval Loss: 2393.6528618\n"
     ]
    },
    {
     "name": "stderr",
     "output_type": "stream",
     "text": [
      "Training epoch 85: 100%|██████████| 2880/2880 [03:04<00:00, 15.61it/s]\n",
      "Evaluating epoch 85: 100%|██████████| 1440/1440 [01:05<00:00, 22.07it/s]\n"
     ]
    },
    {
     "name": "stdout",
     "output_type": "stream",
     "text": [
      "Epoch: 85, Train Loss: 150.7398187, Eval Loss: 2380.9164506\n"
     ]
    },
    {
     "name": "stderr",
     "output_type": "stream",
     "text": [
      "Training epoch 86: 100%|██████████| 2880/2880 [03:04<00:00, 15.65it/s]\n",
      "Evaluating epoch 86: 100%|██████████| 1440/1440 [01:04<00:00, 22.21it/s]\n"
     ]
    },
    {
     "name": "stdout",
     "output_type": "stream",
     "text": [
      "Epoch: 86, Train Loss: 150.6085290, Eval Loss: 2373.1497263\n"
     ]
    },
    {
     "name": "stderr",
     "output_type": "stream",
     "text": [
      "Training epoch 87: 100%|██████████| 2880/2880 [03:04<00:00, 15.64it/s]\n",
      "Evaluating epoch 87: 100%|██████████| 1440/1440 [01:04<00:00, 22.20it/s]\n"
     ]
    },
    {
     "name": "stdout",
     "output_type": "stream",
     "text": [
      "Epoch: 87, Train Loss: 150.5882246, Eval Loss: 2379.8635060\n"
     ]
    },
    {
     "name": "stderr",
     "output_type": "stream",
     "text": [
      "Training epoch 88: 100%|██████████| 2880/2880 [03:12<00:00, 14.99it/s]\n",
      "Evaluating epoch 88: 100%|██████████| 1440/1440 [01:10<00:00, 20.34it/s]\n"
     ]
    },
    {
     "name": "stdout",
     "output_type": "stream",
     "text": [
      "Epoch: 88, Train Loss: 150.5231709, Eval Loss: 2385.5668001\n"
     ]
    },
    {
     "name": "stderr",
     "output_type": "stream",
     "text": [
      "Training epoch 89: 100%|██████████| 2880/2880 [03:06<00:00, 15.45it/s]\n",
      "Evaluating epoch 89: 100%|██████████| 1440/1440 [01:04<00:00, 22.19it/s]\n"
     ]
    },
    {
     "name": "stdout",
     "output_type": "stream",
     "text": [
      "Epoch: 89, Train Loss: 150.7306607, Eval Loss: 2379.8329038\n"
     ]
    },
    {
     "name": "stderr",
     "output_type": "stream",
     "text": [
      "Training epoch 90: 100%|██████████| 2880/2880 [03:04<00:00, 15.64it/s]\n",
      "Evaluating epoch 90: 100%|██████████| 1440/1440 [01:05<00:00, 22.05it/s]\n"
     ]
    },
    {
     "name": "stdout",
     "output_type": "stream",
     "text": [
      "Epoch: 90, Train Loss: 150.9521876, Eval Loss: 2382.3443758\n"
     ]
    },
    {
     "name": "stderr",
     "output_type": "stream",
     "text": [
      "Training epoch 91: 100%|██████████| 2880/2880 [03:03<00:00, 15.65it/s]\n",
      "Evaluating epoch 91: 100%|██████████| 1440/1440 [01:05<00:00, 22.02it/s]\n"
     ]
    },
    {
     "name": "stdout",
     "output_type": "stream",
     "text": [
      "Epoch: 91, Train Loss: 150.7083463, Eval Loss: 2376.9787402\n"
     ]
    },
    {
     "name": "stderr",
     "output_type": "stream",
     "text": [
      "Training epoch 92: 100%|██████████| 2880/2880 [03:04<00:00, 15.64it/s]\n",
      "Evaluating epoch 92: 100%|██████████| 1440/1440 [01:05<00:00, 22.15it/s]\n"
     ]
    },
    {
     "name": "stdout",
     "output_type": "stream",
     "text": [
      "Epoch: 92, Train Loss: 150.5831651, Eval Loss: 2379.9903101\n"
     ]
    },
    {
     "name": "stderr",
     "output_type": "stream",
     "text": [
      "Training epoch 93: 100%|██████████| 2880/2880 [03:04<00:00, 15.64it/s]\n",
      "Evaluating epoch 93: 100%|██████████| 1440/1440 [01:04<00:00, 22.16it/s]\n"
     ]
    },
    {
     "name": "stdout",
     "output_type": "stream",
     "text": [
      "Epoch: 93, Train Loss: 150.5396483, Eval Loss: 2368.2271438\n"
     ]
    },
    {
     "name": "stderr",
     "output_type": "stream",
     "text": [
      "Training epoch 94: 100%|██████████| 2880/2880 [03:04<00:00, 15.63it/s]\n",
      "Evaluating epoch 94: 100%|██████████| 1440/1440 [01:05<00:00, 22.13it/s]\n"
     ]
    },
    {
     "name": "stdout",
     "output_type": "stream",
     "text": [
      "Epoch: 94, Train Loss: 150.1542579, Eval Loss: 2370.7965320\n"
     ]
    },
    {
     "name": "stderr",
     "output_type": "stream",
     "text": [
      "Training epoch 95: 100%|██████████| 2880/2880 [03:04<00:00, 15.63it/s]\n",
      "Evaluating epoch 95: 100%|██████████| 1440/1440 [01:05<00:00, 22.14it/s]\n"
     ]
    },
    {
     "name": "stdout",
     "output_type": "stream",
     "text": [
      "Epoch: 95, Train Loss: 150.1988984, Eval Loss: 2373.1332897\n"
     ]
    },
    {
     "name": "stderr",
     "output_type": "stream",
     "text": [
      "Training epoch 96: 100%|██████████| 2880/2880 [03:04<00:00, 15.61it/s]\n",
      "Evaluating epoch 96: 100%|██████████| 1440/1440 [01:05<00:00, 22.12it/s]\n"
     ]
    },
    {
     "name": "stdout",
     "output_type": "stream",
     "text": [
      "Epoch: 96, Train Loss: 150.0041016, Eval Loss: 2385.9457591\n"
     ]
    },
    {
     "name": "stderr",
     "output_type": "stream",
     "text": [
      "Training epoch 97: 100%|██████████| 2880/2880 [03:04<00:00, 15.63it/s]\n",
      "Evaluating epoch 97: 100%|██████████| 1440/1440 [01:04<00:00, 22.19it/s]\n"
     ]
    },
    {
     "name": "stdout",
     "output_type": "stream",
     "text": [
      "Epoch: 97, Train Loss: 149.7345070, Eval Loss: 2397.8933991\n"
     ]
    },
    {
     "name": "stderr",
     "output_type": "stream",
     "text": [
      "Training epoch 98: 100%|██████████| 2880/2880 [03:04<00:00, 15.64it/s]\n",
      "Evaluating epoch 98: 100%|██████████| 1440/1440 [01:05<00:00, 22.12it/s]\n"
     ]
    },
    {
     "name": "stdout",
     "output_type": "stream",
     "text": [
      "Epoch: 98, Train Loss: 149.5620091, Eval Loss: 2395.1032939\n"
     ]
    },
    {
     "name": "stderr",
     "output_type": "stream",
     "text": [
      "Training epoch 99: 100%|██████████| 2880/2880 [03:03<00:00, 15.66it/s]\n",
      "Evaluating epoch 99: 100%|██████████| 1440/1440 [01:04<00:00, 22.18it/s]\n"
     ]
    },
    {
     "name": "stdout",
     "output_type": "stream",
     "text": [
      "Epoch: 99, Train Loss: 149.9021134, Eval Loss: 2397.8302645\n"
     ]
    },
    {
     "name": "stderr",
     "output_type": "stream",
     "text": [
      "Training epoch 100: 100%|██████████| 2880/2880 [03:04<00:00, 15.64it/s]\n",
      "Evaluating epoch 100: 100%|██████████| 1440/1440 [01:04<00:00, 22.18it/s]\n"
     ]
    },
    {
     "name": "stdout",
     "output_type": "stream",
     "text": [
      "Epoch: 100, Train Loss: 149.5725279, Eval Loss: 2384.8904102\n"
     ]
    },
    {
     "name": "stderr",
     "output_type": "stream",
     "text": [
      "Training epoch 101: 100%|██████████| 2880/2880 [03:04<00:00, 15.65it/s]\n",
      "Evaluating epoch 101: 100%|██████████| 1440/1440 [01:04<00:00, 22.21it/s]\n"
     ]
    },
    {
     "name": "stdout",
     "output_type": "stream",
     "text": [
      "Epoch: 101, Train Loss: 149.3188662, Eval Loss: 2381.3404645\n"
     ]
    },
    {
     "name": "stderr",
     "output_type": "stream",
     "text": [
      "Training epoch 102: 100%|██████████| 2880/2880 [03:04<00:00, 15.63it/s]\n",
      "Evaluating epoch 102: 100%|██████████| 1440/1440 [01:05<00:00, 22.09it/s]\n"
     ]
    },
    {
     "name": "stdout",
     "output_type": "stream",
     "text": [
      "Epoch: 102, Train Loss: 149.1416810, Eval Loss: 2383.5786297\n"
     ]
    },
    {
     "name": "stderr",
     "output_type": "stream",
     "text": [
      "Training epoch 103: 100%|██████████| 2880/2880 [03:04<00:00, 15.62it/s]\n",
      "Evaluating epoch 103: 100%|██████████| 1440/1440 [01:10<00:00, 20.34it/s]\n"
     ]
    },
    {
     "name": "stdout",
     "output_type": "stream",
     "text": [
      "Epoch: 103, Train Loss: 148.9807290, Eval Loss: 2400.3046958\n"
     ]
    },
    {
     "name": "stderr",
     "output_type": "stream",
     "text": [
      "Training epoch 104: 100%|██████████| 2880/2880 [03:14<00:00, 14.81it/s]\n",
      "Evaluating epoch 104: 100%|██████████| 1440/1440 [01:05<00:00, 22.10it/s]\n"
     ]
    },
    {
     "name": "stdout",
     "output_type": "stream",
     "text": [
      "Epoch: 104, Train Loss: 149.0876898, Eval Loss: 2402.2964868\n"
     ]
    },
    {
     "name": "stderr",
     "output_type": "stream",
     "text": [
      "Training epoch 105: 100%|██████████| 2880/2880 [03:04<00:00, 15.65it/s]\n",
      "Evaluating epoch 105: 100%|██████████| 1440/1440 [01:05<00:00, 22.15it/s]\n"
     ]
    },
    {
     "name": "stdout",
     "output_type": "stream",
     "text": [
      "Epoch: 105, Train Loss: 149.1430929, Eval Loss: 2401.8365452\n"
     ]
    },
    {
     "name": "stderr",
     "output_type": "stream",
     "text": [
      "Training epoch 106: 100%|██████████| 2880/2880 [03:05<00:00, 15.51it/s]\n",
      "Evaluating epoch 106: 100%|██████████| 1440/1440 [01:04<00:00, 22.21it/s]\n"
     ]
    },
    {
     "name": "stdout",
     "output_type": "stream",
     "text": [
      "Epoch: 106, Train Loss: 148.7904476, Eval Loss: 2415.3073710\n"
     ]
    },
    {
     "name": "stderr",
     "output_type": "stream",
     "text": [
      "Training epoch 107: 100%|██████████| 2880/2880 [03:04<00:00, 15.63it/s]\n",
      "Evaluating epoch 107: 100%|██████████| 1440/1440 [01:04<00:00, 22.17it/s]\n"
     ]
    },
    {
     "name": "stdout",
     "output_type": "stream",
     "text": [
      "Epoch: 107, Train Loss: 148.8949501, Eval Loss: 2411.4773259\n"
     ]
    },
    {
     "name": "stderr",
     "output_type": "stream",
     "text": [
      "Training epoch 108: 100%|██████████| 2880/2880 [03:04<00:00, 15.64it/s]\n",
      "Evaluating epoch 108: 100%|██████████| 1440/1440 [01:04<00:00, 22.26it/s]\n"
     ]
    },
    {
     "name": "stdout",
     "output_type": "stream",
     "text": [
      "Epoch: 108, Train Loss: 148.9166097, Eval Loss: 2391.6973365\n"
     ]
    },
    {
     "name": "stderr",
     "output_type": "stream",
     "text": [
      "Training epoch 109: 100%|██████████| 2880/2880 [03:04<00:00, 15.62it/s]\n",
      "Evaluating epoch 109: 100%|██████████| 1440/1440 [01:04<00:00, 22.24it/s]\n"
     ]
    },
    {
     "name": "stdout",
     "output_type": "stream",
     "text": [
      "Epoch: 109, Train Loss: 148.3578170, Eval Loss: 2385.9343114\n"
     ]
    },
    {
     "name": "stderr",
     "output_type": "stream",
     "text": [
      "Training epoch 110: 100%|██████████| 2880/2880 [03:03<00:00, 15.65it/s]\n",
      "Evaluating epoch 110: 100%|██████████| 1440/1440 [01:05<00:00, 22.11it/s]\n"
     ]
    },
    {
     "name": "stdout",
     "output_type": "stream",
     "text": [
      "Epoch: 110, Train Loss: 148.2815884, Eval Loss: 2381.1159631\n"
     ]
    },
    {
     "name": "stderr",
     "output_type": "stream",
     "text": [
      "Training epoch 111: 100%|██████████| 2880/2880 [03:04<00:00, 15.63it/s]\n",
      "Evaluating epoch 111: 100%|██████████| 1440/1440 [01:05<00:00, 22.15it/s]\n"
     ]
    },
    {
     "name": "stdout",
     "output_type": "stream",
     "text": [
      "Epoch: 111, Train Loss: 148.1513093, Eval Loss: 2388.2739082\n"
     ]
    },
    {
     "name": "stderr",
     "output_type": "stream",
     "text": [
      "Training epoch 112: 100%|██████████| 2880/2880 [03:04<00:00, 15.63it/s]\n",
      "Evaluating epoch 112: 100%|██████████| 1440/1440 [01:05<00:00, 22.10it/s]\n"
     ]
    },
    {
     "name": "stdout",
     "output_type": "stream",
     "text": [
      "Epoch: 112, Train Loss: 148.3057120, Eval Loss: 2366.6151563\n"
     ]
    },
    {
     "name": "stderr",
     "output_type": "stream",
     "text": [
      "Training epoch 113: 100%|██████████| 2880/2880 [03:03<00:00, 15.66it/s]\n",
      "Evaluating epoch 113: 100%|██████████| 1440/1440 [01:05<00:00, 22.12it/s]\n"
     ]
    },
    {
     "name": "stdout",
     "output_type": "stream",
     "text": [
      "Epoch: 113, Train Loss: 148.2326137, Eval Loss: 2362.9595852\n"
     ]
    },
    {
     "name": "stderr",
     "output_type": "stream",
     "text": [
      "Training epoch 114: 100%|██████████| 2880/2880 [03:04<00:00, 15.64it/s]\n",
      "Evaluating epoch 114: 100%|██████████| 1440/1440 [01:05<00:00, 22.12it/s]\n"
     ]
    },
    {
     "name": "stdout",
     "output_type": "stream",
     "text": [
      "Epoch: 114, Train Loss: 147.9521425, Eval Loss: 2378.7931365\n"
     ]
    },
    {
     "name": "stderr",
     "output_type": "stream",
     "text": [
      "Training epoch 115: 100%|██████████| 2880/2880 [03:03<00:00, 15.65it/s]\n",
      "Evaluating epoch 115: 100%|██████████| 1440/1440 [01:04<00:00, 22.23it/s]\n"
     ]
    },
    {
     "name": "stdout",
     "output_type": "stream",
     "text": [
      "Epoch: 115, Train Loss: 147.6906938, Eval Loss: 2386.7335065\n"
     ]
    },
    {
     "name": "stderr",
     "output_type": "stream",
     "text": [
      "Training epoch 116: 100%|██████████| 2880/2880 [03:04<00:00, 15.62it/s]\n",
      "Evaluating epoch 116: 100%|██████████| 1440/1440 [01:04<00:00, 22.18it/s]\n"
     ]
    },
    {
     "name": "stdout",
     "output_type": "stream",
     "text": [
      "Epoch: 116, Train Loss: 147.6559937, Eval Loss: 2366.6492468\n"
     ]
    },
    {
     "name": "stderr",
     "output_type": "stream",
     "text": [
      "Training epoch 117: 100%|██████████| 2880/2880 [03:04<00:00, 15.64it/s]\n",
      "Evaluating epoch 117: 100%|██████████| 1440/1440 [01:05<00:00, 22.14it/s]\n"
     ]
    },
    {
     "name": "stdout",
     "output_type": "stream",
     "text": [
      "Epoch: 117, Train Loss: 148.1554731, Eval Loss: 2339.8295480\n"
     ]
    },
    {
     "name": "stderr",
     "output_type": "stream",
     "text": [
      "Training epoch 118: 100%|██████████| 2880/2880 [03:04<00:00, 15.62it/s]\n",
      "Evaluating epoch 118: 100%|██████████| 1440/1440 [01:04<00:00, 22.22it/s]\n"
     ]
    },
    {
     "name": "stdout",
     "output_type": "stream",
     "text": [
      "Epoch: 118, Train Loss: 147.8902738, Eval Loss: 2352.5239454\n"
     ]
    },
    {
     "name": "stderr",
     "output_type": "stream",
     "text": [
      "Training epoch 119: 100%|██████████| 2880/2880 [03:04<00:00, 15.63it/s]\n",
      "Evaluating epoch 119: 100%|██████████| 1440/1440 [01:05<00:00, 22.14it/s]\n"
     ]
    },
    {
     "name": "stdout",
     "output_type": "stream",
     "text": [
      "Epoch: 119, Train Loss: 148.2486046, Eval Loss: 2354.3508100\n"
     ]
    },
    {
     "name": "stderr",
     "output_type": "stream",
     "text": [
      "Training epoch 120: 100%|██████████| 2880/2880 [03:04<00:00, 15.63it/s]\n",
      "Evaluating epoch 120: 100%|██████████| 1440/1440 [01:05<00:00, 22.11it/s]\n"
     ]
    },
    {
     "name": "stdout",
     "output_type": "stream",
     "text": [
      "Epoch: 120, Train Loss: 147.8020385, Eval Loss: 2332.3815251\n"
     ]
    },
    {
     "name": "stderr",
     "output_type": "stream",
     "text": [
      "Training epoch 121: 100%|██████████| 2880/2880 [03:04<00:00, 15.64it/s]\n",
      "Evaluating epoch 121: 100%|██████████| 1440/1440 [01:04<00:00, 22.16it/s]\n"
     ]
    },
    {
     "name": "stdout",
     "output_type": "stream",
     "text": [
      "Epoch: 121, Train Loss: 147.4712182, Eval Loss: 2326.0911422\n"
     ]
    },
    {
     "name": "stderr",
     "output_type": "stream",
     "text": [
      "Training epoch 122: 100%|██████████| 2880/2880 [03:03<00:00, 15.65it/s]\n",
      "Evaluating epoch 122: 100%|██████████| 1440/1440 [01:05<00:00, 22.12it/s]\n"
     ]
    },
    {
     "name": "stdout",
     "output_type": "stream",
     "text": [
      "Epoch: 122, Train Loss: 147.6211555, Eval Loss: 2317.2591245\n"
     ]
    },
    {
     "name": "stderr",
     "output_type": "stream",
     "text": [
      "Training epoch 123: 100%|██████████| 2880/2880 [03:04<00:00, 15.63it/s]\n",
      "Evaluating epoch 123: 100%|██████████| 1440/1440 [01:04<00:00, 22.21it/s]\n"
     ]
    },
    {
     "name": "stdout",
     "output_type": "stream",
     "text": [
      "Epoch: 123, Train Loss: 147.4652974, Eval Loss: 2306.6315910\n"
     ]
    },
    {
     "name": "stderr",
     "output_type": "stream",
     "text": [
      "Training epoch 124: 100%|██████████| 2880/2880 [03:04<00:00, 15.63it/s]\n",
      "Evaluating epoch 124: 100%|██████████| 1440/1440 [01:04<00:00, 22.19it/s]\n"
     ]
    },
    {
     "name": "stdout",
     "output_type": "stream",
     "text": [
      "Epoch: 124, Train Loss: 147.5150888, Eval Loss: 2307.4998846\n"
     ]
    },
    {
     "name": "stderr",
     "output_type": "stream",
     "text": [
      "Training epoch 125: 100%|██████████| 2880/2880 [03:04<00:00, 15.65it/s]\n",
      "Evaluating epoch 125: 100%|██████████| 1440/1440 [01:04<00:00, 22.19it/s]\n"
     ]
    },
    {
     "name": "stdout",
     "output_type": "stream",
     "text": [
      "Epoch: 125, Train Loss: 147.0886704, Eval Loss: 2298.6796699\n"
     ]
    },
    {
     "name": "stderr",
     "output_type": "stream",
     "text": [
      "Training epoch 126: 100%|██████████| 2880/2880 [03:04<00:00, 15.63it/s]\n",
      "Evaluating epoch 126: 100%|██████████| 1440/1440 [01:05<00:00, 22.10it/s]\n"
     ]
    },
    {
     "name": "stdout",
     "output_type": "stream",
     "text": [
      "Epoch: 126, Train Loss: 147.3956623, Eval Loss: 2286.6081678\n"
     ]
    },
    {
     "name": "stderr",
     "output_type": "stream",
     "text": [
      "Training epoch 127: 100%|██████████| 2880/2880 [03:04<00:00, 15.64it/s]\n",
      "Evaluating epoch 127: 100%|██████████| 1440/1440 [01:04<00:00, 22.23it/s]\n"
     ]
    },
    {
     "name": "stdout",
     "output_type": "stream",
     "text": [
      "Epoch: 127, Train Loss: 147.0926045, Eval Loss: 2279.0326032\n"
     ]
    },
    {
     "name": "stderr",
     "output_type": "stream",
     "text": [
      "Training epoch 128: 100%|██████████| 2880/2880 [03:04<00:00, 15.64it/s]\n",
      "Evaluating epoch 128: 100%|██████████| 1440/1440 [01:04<00:00, 22.20it/s]\n"
     ]
    },
    {
     "name": "stdout",
     "output_type": "stream",
     "text": [
      "Epoch: 128, Train Loss: 147.1753066, Eval Loss: 2285.8712076\n"
     ]
    },
    {
     "name": "stderr",
     "output_type": "stream",
     "text": [
      "Training epoch 129: 100%|██████████| 2880/2880 [03:04<00:00, 15.65it/s]\n",
      "Evaluating epoch 129: 100%|██████████| 1440/1440 [01:04<00:00, 22.26it/s]\n"
     ]
    },
    {
     "name": "stdout",
     "output_type": "stream",
     "text": [
      "Epoch: 129, Train Loss: 146.8599859, Eval Loss: 2280.8796130\n"
     ]
    },
    {
     "name": "stderr",
     "output_type": "stream",
     "text": [
      "Training epoch 130: 100%|██████████| 2880/2880 [03:03<00:00, 15.65it/s]\n",
      "Evaluating epoch 130: 100%|██████████| 1440/1440 [01:04<00:00, 22.22it/s]\n"
     ]
    },
    {
     "name": "stdout",
     "output_type": "stream",
     "text": [
      "Epoch: 130, Train Loss: 146.7972094, Eval Loss: 2283.2167954\n"
     ]
    },
    {
     "name": "stderr",
     "output_type": "stream",
     "text": [
      "Training epoch 131: 100%|██████████| 2880/2880 [03:04<00:00, 15.63it/s]\n",
      "Evaluating epoch 131: 100%|██████████| 1440/1440 [01:05<00:00, 22.13it/s]\n"
     ]
    },
    {
     "name": "stdout",
     "output_type": "stream",
     "text": [
      "Epoch: 131, Train Loss: 147.0565841, Eval Loss: 2283.7459164\n"
     ]
    },
    {
     "name": "stderr",
     "output_type": "stream",
     "text": [
      "Training epoch 132: 100%|██████████| 2880/2880 [03:04<00:00, 15.62it/s]\n",
      "Evaluating epoch 132: 100%|██████████| 1440/1440 [01:04<00:00, 22.18it/s]\n"
     ]
    },
    {
     "name": "stdout",
     "output_type": "stream",
     "text": [
      "Epoch: 132, Train Loss: 146.7160363, Eval Loss: 2283.5800718\n"
     ]
    },
    {
     "name": "stderr",
     "output_type": "stream",
     "text": [
      "Training epoch 133: 100%|██████████| 2880/2880 [03:04<00:00, 15.63it/s]\n",
      "Evaluating epoch 133: 100%|██████████| 1440/1440 [01:04<00:00, 22.24it/s]\n"
     ]
    },
    {
     "name": "stdout",
     "output_type": "stream",
     "text": [
      "Epoch: 133, Train Loss: 146.5546907, Eval Loss: 2301.3095473\n"
     ]
    },
    {
     "name": "stderr",
     "output_type": "stream",
     "text": [
      "Training epoch 134: 100%|██████████| 2880/2880 [03:04<00:00, 15.64it/s]\n",
      "Evaluating epoch 134: 100%|██████████| 1440/1440 [01:05<00:00, 22.08it/s]\n"
     ]
    },
    {
     "name": "stdout",
     "output_type": "stream",
     "text": [
      "Epoch: 134, Train Loss: 146.4348658, Eval Loss: 2284.1873326\n"
     ]
    },
    {
     "name": "stderr",
     "output_type": "stream",
     "text": [
      "Training epoch 135: 100%|██████████| 2880/2880 [03:04<00:00, 15.63it/s]\n",
      "Evaluating epoch 135: 100%|██████████| 1440/1440 [01:04<00:00, 22.22it/s]\n"
     ]
    },
    {
     "name": "stdout",
     "output_type": "stream",
     "text": [
      "Epoch: 135, Train Loss: 146.3289906, Eval Loss: 2289.1338660\n"
     ]
    },
    {
     "name": "stderr",
     "output_type": "stream",
     "text": [
      "Training epoch 136: 100%|██████████| 2880/2880 [03:04<00:00, 15.62it/s]\n",
      "Evaluating epoch 136: 100%|██████████| 1440/1440 [01:05<00:00, 22.13it/s]\n"
     ]
    },
    {
     "name": "stdout",
     "output_type": "stream",
     "text": [
      "Epoch: 136, Train Loss: 146.2307865, Eval Loss: 2275.8976926\n"
     ]
    },
    {
     "name": "stderr",
     "output_type": "stream",
     "text": [
      "Training epoch 137: 100%|██████████| 2880/2880 [03:04<00:00, 15.60it/s]\n",
      "Evaluating epoch 137: 100%|██████████| 1440/1440 [01:05<00:00, 22.12it/s]\n"
     ]
    },
    {
     "name": "stdout",
     "output_type": "stream",
     "text": [
      "Epoch: 137, Train Loss: 146.3408894, Eval Loss: 2274.4961660\n"
     ]
    },
    {
     "name": "stderr",
     "output_type": "stream",
     "text": [
      "Training epoch 138: 100%|██████████| 2880/2880 [03:04<00:00, 15.62it/s]\n",
      "Evaluating epoch 138: 100%|██████████| 1440/1440 [01:04<00:00, 22.16it/s]\n"
     ]
    },
    {
     "name": "stdout",
     "output_type": "stream",
     "text": [
      "Epoch: 138, Train Loss: 146.3532109, Eval Loss: 2294.2365702\n"
     ]
    },
    {
     "name": "stderr",
     "output_type": "stream",
     "text": [
      "Training epoch 139: 100%|██████████| 2880/2880 [03:04<00:00, 15.65it/s]\n",
      "Evaluating epoch 139: 100%|██████████| 1440/1440 [01:04<00:00, 22.15it/s]\n"
     ]
    },
    {
     "name": "stdout",
     "output_type": "stream",
     "text": [
      "Epoch: 139, Train Loss: 145.5454167, Eval Loss: 2296.4621049\n"
     ]
    },
    {
     "name": "stderr",
     "output_type": "stream",
     "text": [
      "Training epoch 140: 100%|██████████| 2880/2880 [03:04<00:00, 15.64it/s]\n",
      "Evaluating epoch 140: 100%|██████████| 1440/1440 [01:05<00:00, 22.15it/s]\n"
     ]
    },
    {
     "name": "stdout",
     "output_type": "stream",
     "text": [
      "Epoch: 140, Train Loss: 146.0295986, Eval Loss: 2276.9229942\n"
     ]
    },
    {
     "name": "stderr",
     "output_type": "stream",
     "text": [
      "Training epoch 141: 100%|██████████| 2880/2880 [03:04<00:00, 15.63it/s]\n",
      "Evaluating epoch 141: 100%|██████████| 1440/1440 [01:04<00:00, 22.18it/s]\n"
     ]
    },
    {
     "name": "stdout",
     "output_type": "stream",
     "text": [
      "Epoch: 141, Train Loss: 145.2556964, Eval Loss: 2281.9205938\n"
     ]
    },
    {
     "name": "stderr",
     "output_type": "stream",
     "text": [
      "Training epoch 142: 100%|██████████| 2880/2880 [03:04<00:00, 15.62it/s]\n",
      "Evaluating epoch 142: 100%|██████████| 1440/1440 [01:04<00:00, 22.20it/s]\n"
     ]
    },
    {
     "name": "stdout",
     "output_type": "stream",
     "text": [
      "Epoch: 142, Train Loss: 145.3033988, Eval Loss: 2284.4587990\n"
     ]
    },
    {
     "name": "stderr",
     "output_type": "stream",
     "text": [
      "Training epoch 143: 100%|██████████| 2880/2880 [03:04<00:00, 15.63it/s]\n",
      "Evaluating epoch 143: 100%|██████████| 1440/1440 [01:04<00:00, 22.17it/s]\n"
     ]
    },
    {
     "name": "stdout",
     "output_type": "stream",
     "text": [
      "Epoch: 143, Train Loss: 145.1264235, Eval Loss: 2285.9108777\n"
     ]
    },
    {
     "name": "stderr",
     "output_type": "stream",
     "text": [
      "Training epoch 144: 100%|██████████| 2880/2880 [03:04<00:00, 15.64it/s]\n",
      "Evaluating epoch 144: 100%|██████████| 1440/1440 [01:04<00:00, 22.19it/s]\n"
     ]
    },
    {
     "name": "stdout",
     "output_type": "stream",
     "text": [
      "Epoch: 144, Train Loss: 144.6781421, Eval Loss: 2270.2501104\n"
     ]
    },
    {
     "name": "stderr",
     "output_type": "stream",
     "text": [
      "Training epoch 145: 100%|██████████| 2880/2880 [03:04<00:00, 15.62it/s]\n",
      "Evaluating epoch 145: 100%|██████████| 1440/1440 [01:05<00:00, 22.09it/s]\n"
     ]
    },
    {
     "name": "stdout",
     "output_type": "stream",
     "text": [
      "Epoch: 145, Train Loss: 144.6297851, Eval Loss: 2265.5481231\n"
     ]
    },
    {
     "name": "stderr",
     "output_type": "stream",
     "text": [
      "Training epoch 146: 100%|██████████| 2880/2880 [03:04<00:00, 15.62it/s]\n",
      "Evaluating epoch 146: 100%|██████████| 1440/1440 [01:05<00:00, 22.11it/s]\n"
     ]
    },
    {
     "name": "stdout",
     "output_type": "stream",
     "text": [
      "Epoch: 146, Train Loss: 144.8781266, Eval Loss: 2270.0244330\n"
     ]
    },
    {
     "name": "stderr",
     "output_type": "stream",
     "text": [
      "Training epoch 147: 100%|██████████| 2880/2880 [03:04<00:00, 15.61it/s]\n",
      "Evaluating epoch 147: 100%|██████████| 1440/1440 [01:05<00:00, 22.14it/s]\n"
     ]
    },
    {
     "name": "stdout",
     "output_type": "stream",
     "text": [
      "Epoch: 147, Train Loss: 144.8078933, Eval Loss: 2276.4330688\n"
     ]
    },
    {
     "name": "stderr",
     "output_type": "stream",
     "text": [
      "Training epoch 148: 100%|██████████| 2880/2880 [03:04<00:00, 15.62it/s]\n",
      "Evaluating epoch 148: 100%|██████████| 1440/1440 [01:05<00:00, 22.13it/s]\n"
     ]
    },
    {
     "name": "stdout",
     "output_type": "stream",
     "text": [
      "Epoch: 148, Train Loss: 145.0209744, Eval Loss: 2279.2725158\n"
     ]
    },
    {
     "name": "stderr",
     "output_type": "stream",
     "text": [
      "Training epoch 149: 100%|██████████| 2880/2880 [03:04<00:00, 15.65it/s]\n",
      "Evaluating epoch 149: 100%|██████████| 1440/1440 [01:04<00:00, 22.20it/s]\n"
     ]
    },
    {
     "name": "stdout",
     "output_type": "stream",
     "text": [
      "Epoch: 149, Train Loss: 144.5119990, Eval Loss: 2271.7766644\n"
     ]
    },
    {
     "name": "stderr",
     "output_type": "stream",
     "text": [
      "Training epoch 150: 100%|██████████| 2880/2880 [03:04<00:00, 15.64it/s]\n",
      "Evaluating epoch 150: 100%|██████████| 1440/1440 [01:04<00:00, 22.17it/s]\n"
     ]
    },
    {
     "name": "stdout",
     "output_type": "stream",
     "text": [
      "Epoch: 150, Train Loss: 144.6802207, Eval Loss: 2256.9024364\n"
     ]
    },
    {
     "name": "stderr",
     "output_type": "stream",
     "text": [
      "Training epoch 151: 100%|██████████| 2880/2880 [03:04<00:00, 15.63it/s]\n",
      "Evaluating epoch 151: 100%|██████████| 1440/1440 [01:04<00:00, 22.18it/s]\n"
     ]
    },
    {
     "name": "stdout",
     "output_type": "stream",
     "text": [
      "Epoch: 151, Train Loss: 144.6536477, Eval Loss: 2241.7244796\n"
     ]
    },
    {
     "name": "stderr",
     "output_type": "stream",
     "text": [
      "Training epoch 152: 100%|██████████| 2880/2880 [03:04<00:00, 15.60it/s]\n",
      "Evaluating epoch 152: 100%|██████████| 1440/1440 [01:05<00:00, 22.12it/s]\n"
     ]
    },
    {
     "name": "stdout",
     "output_type": "stream",
     "text": [
      "Epoch: 152, Train Loss: 144.7342484, Eval Loss: 2227.4243006\n"
     ]
    },
    {
     "name": "stderr",
     "output_type": "stream",
     "text": [
      "Training epoch 153: 100%|██████████| 2880/2880 [03:04<00:00, 15.62it/s]\n",
      "Evaluating epoch 153: 100%|██████████| 1440/1440 [01:04<00:00, 22.21it/s]\n"
     ]
    },
    {
     "name": "stdout",
     "output_type": "stream",
     "text": [
      "Epoch: 153, Train Loss: 144.4970948, Eval Loss: 2208.1184092\n"
     ]
    },
    {
     "name": "stderr",
     "output_type": "stream",
     "text": [
      "Training epoch 154: 100%|██████████| 2880/2880 [03:04<00:00, 15.62it/s]\n",
      "Evaluating epoch 154: 100%|██████████| 1440/1440 [01:04<00:00, 22.21it/s]\n"
     ]
    },
    {
     "name": "stdout",
     "output_type": "stream",
     "text": [
      "Epoch: 154, Train Loss: 144.4691473, Eval Loss: 2207.3169791\n"
     ]
    },
    {
     "name": "stderr",
     "output_type": "stream",
     "text": [
      "Training epoch 155: 100%|██████████| 2880/2880 [03:04<00:00, 15.63it/s]\n",
      "Evaluating epoch 155: 100%|██████████| 1440/1440 [01:05<00:00, 22.10it/s]\n"
     ]
    },
    {
     "name": "stdout",
     "output_type": "stream",
     "text": [
      "Epoch: 155, Train Loss: 144.3903858, Eval Loss: 2194.0629874\n"
     ]
    },
    {
     "name": "stderr",
     "output_type": "stream",
     "text": [
      "Training epoch 156: 100%|██████████| 2880/2880 [03:04<00:00, 15.64it/s]\n",
      "Evaluating epoch 156: 100%|██████████| 1440/1440 [01:04<00:00, 22.25it/s]\n"
     ]
    },
    {
     "name": "stdout",
     "output_type": "stream",
     "text": [
      "Epoch: 156, Train Loss: 144.2588039, Eval Loss: 2185.9359399\n"
     ]
    },
    {
     "name": "stderr",
     "output_type": "stream",
     "text": [
      "Training epoch 157: 100%|██████████| 2880/2880 [03:04<00:00, 15.62it/s]\n",
      "Evaluating epoch 157: 100%|██████████| 1440/1440 [01:04<00:00, 22.24it/s]\n"
     ]
    },
    {
     "name": "stdout",
     "output_type": "stream",
     "text": [
      "Epoch: 157, Train Loss: 144.3343342, Eval Loss: 2183.2953946\n"
     ]
    },
    {
     "name": "stderr",
     "output_type": "stream",
     "text": [
      "Training epoch 158: 100%|██████████| 2880/2880 [03:04<00:00, 15.62it/s]\n",
      "Evaluating epoch 158: 100%|██████████| 1440/1440 [01:04<00:00, 22.20it/s]\n"
     ]
    },
    {
     "name": "stdout",
     "output_type": "stream",
     "text": [
      "Epoch: 158, Train Loss: 144.0530910, Eval Loss: 2204.1402280\n"
     ]
    },
    {
     "name": "stderr",
     "output_type": "stream",
     "text": [
      "Training epoch 159: 100%|██████████| 2880/2880 [03:04<00:00, 15.63it/s]\n",
      "Evaluating epoch 159: 100%|██████████| 1440/1440 [01:04<00:00, 22.20it/s]\n"
     ]
    },
    {
     "name": "stdout",
     "output_type": "stream",
     "text": [
      "Epoch: 159, Train Loss: 144.5599630, Eval Loss: 2184.0795884\n"
     ]
    },
    {
     "name": "stderr",
     "output_type": "stream",
     "text": [
      "Training epoch 160: 100%|██████████| 2880/2880 [03:04<00:00, 15.62it/s]\n",
      "Evaluating epoch 160: 100%|██████████| 1440/1440 [01:04<00:00, 22.16it/s]\n"
     ]
    },
    {
     "name": "stdout",
     "output_type": "stream",
     "text": [
      "Epoch: 160, Train Loss: 144.1957933, Eval Loss: 2235.1373693\n"
     ]
    },
    {
     "name": "stderr",
     "output_type": "stream",
     "text": [
      "Training epoch 161: 100%|██████████| 2880/2880 [03:04<00:00, 15.62it/s]\n",
      "Evaluating epoch 161: 100%|██████████| 1440/1440 [01:04<00:00, 22.21it/s]\n"
     ]
    },
    {
     "name": "stdout",
     "output_type": "stream",
     "text": [
      "Epoch: 161, Train Loss: 143.9914399, Eval Loss: 2241.8283338\n"
     ]
    },
    {
     "name": "stderr",
     "output_type": "stream",
     "text": [
      "Training epoch 162: 100%|██████████| 2880/2880 [03:04<00:00, 15.63it/s]\n",
      "Evaluating epoch 162: 100%|██████████| 1440/1440 [01:04<00:00, 22.20it/s]\n"
     ]
    },
    {
     "name": "stdout",
     "output_type": "stream",
     "text": [
      "Epoch: 162, Train Loss: 143.8138481, Eval Loss: 2253.5561425\n"
     ]
    },
    {
     "name": "stderr",
     "output_type": "stream",
     "text": [
      "Training epoch 163: 100%|██████████| 2880/2880 [03:04<00:00, 15.63it/s]\n",
      "Evaluating epoch 163: 100%|██████████| 1440/1440 [01:04<00:00, 22.22it/s]\n"
     ]
    },
    {
     "name": "stdout",
     "output_type": "stream",
     "text": [
      "Epoch: 163, Train Loss: 144.4759895, Eval Loss: 2256.0343791\n"
     ]
    },
    {
     "name": "stderr",
     "output_type": "stream",
     "text": [
      "Training epoch 164: 100%|██████████| 2880/2880 [03:04<00:00, 15.63it/s]\n",
      "Evaluating epoch 164: 100%|██████████| 1440/1440 [01:04<00:00, 22.20it/s]\n"
     ]
    },
    {
     "name": "stdout",
     "output_type": "stream",
     "text": [
      "Epoch: 164, Train Loss: 144.1593184, Eval Loss: 2245.6346520\n"
     ]
    },
    {
     "name": "stderr",
     "output_type": "stream",
     "text": [
      "Training epoch 165: 100%|██████████| 2880/2880 [03:04<00:00, 15.63it/s]\n",
      "Evaluating epoch 165: 100%|██████████| 1440/1440 [01:04<00:00, 22.24it/s]\n"
     ]
    },
    {
     "name": "stdout",
     "output_type": "stream",
     "text": [
      "Epoch: 165, Train Loss: 144.0430337, Eval Loss: 2242.9429563\n"
     ]
    },
    {
     "name": "stderr",
     "output_type": "stream",
     "text": [
      "Training epoch 166: 100%|██████████| 2880/2880 [03:04<00:00, 15.62it/s]\n",
      "Evaluating epoch 166: 100%|██████████| 1440/1440 [01:04<00:00, 22.23it/s]\n"
     ]
    },
    {
     "name": "stdout",
     "output_type": "stream",
     "text": [
      "Epoch: 166, Train Loss: 143.6269971, Eval Loss: 2243.2097445\n"
     ]
    },
    {
     "name": "stderr",
     "output_type": "stream",
     "text": [
      "Training epoch 167: 100%|██████████| 2880/2880 [03:04<00:00, 15.64it/s]\n",
      "Evaluating epoch 167: 100%|██████████| 1440/1440 [01:05<00:00, 22.15it/s]\n"
     ]
    },
    {
     "name": "stdout",
     "output_type": "stream",
     "text": [
      "Epoch: 167, Train Loss: 143.9443439, Eval Loss: 2257.9450890\n"
     ]
    },
    {
     "name": "stderr",
     "output_type": "stream",
     "text": [
      "Training epoch 168: 100%|██████████| 2880/2880 [03:04<00:00, 15.63it/s]\n",
      "Evaluating epoch 168: 100%|██████████| 1440/1440 [01:05<00:00, 22.15it/s]\n"
     ]
    },
    {
     "name": "stdout",
     "output_type": "stream",
     "text": [
      "Epoch: 168, Train Loss: 143.6942770, Eval Loss: 2280.4174033\n"
     ]
    },
    {
     "name": "stderr",
     "output_type": "stream",
     "text": [
      "Training epoch 169: 100%|██████████| 2880/2880 [03:04<00:00, 15.64it/s]\n",
      "Evaluating epoch 169: 100%|██████████| 1440/1440 [01:05<00:00, 22.14it/s]\n"
     ]
    },
    {
     "name": "stdout",
     "output_type": "stream",
     "text": [
      "Epoch: 169, Train Loss: 143.1116582, Eval Loss: 2268.7628699\n"
     ]
    },
    {
     "name": "stderr",
     "output_type": "stream",
     "text": [
      "Training epoch 170: 100%|██████████| 2880/2880 [03:04<00:00, 15.62it/s]\n",
      "Evaluating epoch 170: 100%|██████████| 1440/1440 [01:04<00:00, 22.16it/s]\n"
     ]
    },
    {
     "name": "stdout",
     "output_type": "stream",
     "text": [
      "Epoch: 170, Train Loss: 143.1916685, Eval Loss: 2296.9052313\n"
     ]
    },
    {
     "name": "stderr",
     "output_type": "stream",
     "text": [
      "Training epoch 171: 100%|██████████| 2880/2880 [03:03<00:00, 15.65it/s]\n",
      "Evaluating epoch 171: 100%|██████████| 1440/1440 [01:05<00:00, 22.08it/s]\n"
     ]
    },
    {
     "name": "stdout",
     "output_type": "stream",
     "text": [
      "Epoch: 171, Train Loss: 142.6759757, Eval Loss: 2292.7718649\n"
     ]
    },
    {
     "name": "stderr",
     "output_type": "stream",
     "text": [
      "Training epoch 172: 100%|██████████| 2880/2880 [03:04<00:00, 15.63it/s]\n",
      "Evaluating epoch 172: 100%|██████████| 1440/1440 [01:05<00:00, 22.14it/s]\n"
     ]
    },
    {
     "name": "stdout",
     "output_type": "stream",
     "text": [
      "Epoch: 172, Train Loss: 142.3928986, Eval Loss: 2281.6136683\n"
     ]
    },
    {
     "name": "stderr",
     "output_type": "stream",
     "text": [
      "Training epoch 173: 100%|██████████| 2880/2880 [03:04<00:00, 15.62it/s]\n",
      "Evaluating epoch 173: 100%|██████████| 1440/1440 [01:05<00:00, 22.10it/s]\n"
     ]
    },
    {
     "name": "stdout",
     "output_type": "stream",
     "text": [
      "Epoch: 173, Train Loss: 142.7541253, Eval Loss: 2285.1330089\n"
     ]
    },
    {
     "name": "stderr",
     "output_type": "stream",
     "text": [
      "Training epoch 174: 100%|██████████| 2880/2880 [03:04<00:00, 15.63it/s]\n",
      "Evaluating epoch 174: 100%|██████████| 1440/1440 [01:05<00:00, 22.13it/s]\n"
     ]
    },
    {
     "name": "stdout",
     "output_type": "stream",
     "text": [
      "Epoch: 174, Train Loss: 142.1131812, Eval Loss: 2282.4382814\n"
     ]
    },
    {
     "name": "stderr",
     "output_type": "stream",
     "text": [
      "Training epoch 175: 100%|██████████| 2880/2880 [03:04<00:00, 15.63it/s]\n",
      "Evaluating epoch 175: 100%|██████████| 1440/1440 [01:04<00:00, 22.21it/s]\n"
     ]
    },
    {
     "name": "stdout",
     "output_type": "stream",
     "text": [
      "Epoch: 175, Train Loss: 142.3943304, Eval Loss: 2263.8764552\n"
     ]
    },
    {
     "name": "stderr",
     "output_type": "stream",
     "text": [
      "Training epoch 176: 100%|██████████| 2880/2880 [03:04<00:00, 15.63it/s]\n",
      "Evaluating epoch 176: 100%|██████████| 1440/1440 [01:04<00:00, 22.22it/s]\n"
     ]
    },
    {
     "name": "stdout",
     "output_type": "stream",
     "text": [
      "Epoch: 176, Train Loss: 141.9051317, Eval Loss: 2252.0718210\n"
     ]
    },
    {
     "name": "stderr",
     "output_type": "stream",
     "text": [
      "Training epoch 177: 100%|██████████| 2880/2880 [03:04<00:00, 15.62it/s]\n",
      "Evaluating epoch 177: 100%|██████████| 1440/1440 [01:05<00:00, 22.15it/s]\n"
     ]
    },
    {
     "name": "stdout",
     "output_type": "stream",
     "text": [
      "Epoch: 177, Train Loss: 142.1547641, Eval Loss: 2255.1550541\n"
     ]
    },
    {
     "name": "stderr",
     "output_type": "stream",
     "text": [
      "Training epoch 178: 100%|██████████| 2880/2880 [03:04<00:00, 15.63it/s]\n",
      "Evaluating epoch 178: 100%|██████████| 1440/1440 [01:04<00:00, 22.18it/s]\n"
     ]
    },
    {
     "name": "stdout",
     "output_type": "stream",
     "text": [
      "Epoch: 178, Train Loss: 142.3620030, Eval Loss: 2248.0474727\n"
     ]
    },
    {
     "name": "stderr",
     "output_type": "stream",
     "text": [
      "Training epoch 179: 100%|██████████| 2880/2880 [03:04<00:00, 15.64it/s]\n",
      "Evaluating epoch 179: 100%|██████████| 1440/1440 [01:05<00:00, 22.10it/s]\n"
     ]
    },
    {
     "name": "stdout",
     "output_type": "stream",
     "text": [
      "Epoch: 179, Train Loss: 142.0165278, Eval Loss: 2251.7272814\n"
     ]
    },
    {
     "name": "stderr",
     "output_type": "stream",
     "text": [
      "Training epoch 180: 100%|██████████| 2880/2880 [03:04<00:00, 15.62it/s]\n",
      "Evaluating epoch 180: 100%|██████████| 1440/1440 [01:04<00:00, 22.18it/s]\n"
     ]
    },
    {
     "name": "stdout",
     "output_type": "stream",
     "text": [
      "Epoch: 180, Train Loss: 141.3180923, Eval Loss: 2252.6316543\n"
     ]
    },
    {
     "name": "stderr",
     "output_type": "stream",
     "text": [
      "Training epoch 181: 100%|██████████| 2880/2880 [03:04<00:00, 15.58it/s]\n",
      "Evaluating epoch 181: 100%|██████████| 1440/1440 [01:05<00:00, 22.12it/s]\n"
     ]
    },
    {
     "name": "stdout",
     "output_type": "stream",
     "text": [
      "Epoch: 181, Train Loss: 141.1595538, Eval Loss: 2265.6838390\n"
     ]
    },
    {
     "name": "stderr",
     "output_type": "stream",
     "text": [
      "Training epoch 182: 100%|██████████| 2880/2880 [03:04<00:00, 15.61it/s]\n",
      "Evaluating epoch 182: 100%|██████████| 1440/1440 [01:04<00:00, 22.18it/s]\n"
     ]
    },
    {
     "name": "stdout",
     "output_type": "stream",
     "text": [
      "Epoch: 182, Train Loss: 141.1835764, Eval Loss: 2261.0912864\n"
     ]
    },
    {
     "name": "stderr",
     "output_type": "stream",
     "text": [
      "Training epoch 183: 100%|██████████| 2880/2880 [03:04<00:00, 15.62it/s]\n",
      "Evaluating epoch 183: 100%|██████████| 1440/1440 [01:05<00:00, 22.11it/s]\n"
     ]
    },
    {
     "name": "stdout",
     "output_type": "stream",
     "text": [
      "Epoch: 183, Train Loss: 141.0201385, Eval Loss: 2272.6067140\n"
     ]
    },
    {
     "name": "stderr",
     "output_type": "stream",
     "text": [
      "Training epoch 184: 100%|██████████| 2880/2880 [03:04<00:00, 15.60it/s]\n",
      "Evaluating epoch 184: 100%|██████████| 1440/1440 [01:04<00:00, 22.17it/s]\n"
     ]
    },
    {
     "name": "stdout",
     "output_type": "stream",
     "text": [
      "Epoch: 184, Train Loss: 141.0562858, Eval Loss: 2291.4690105\n"
     ]
    },
    {
     "name": "stderr",
     "output_type": "stream",
     "text": [
      "Training epoch 185: 100%|██████████| 2880/2880 [03:04<00:00, 15.60it/s]\n",
      "Evaluating epoch 185: 100%|██████████| 1440/1440 [01:04<00:00, 22.21it/s]\n"
     ]
    },
    {
     "name": "stdout",
     "output_type": "stream",
     "text": [
      "Epoch: 185, Train Loss: 140.8692578, Eval Loss: 2298.0361906\n"
     ]
    },
    {
     "name": "stderr",
     "output_type": "stream",
     "text": [
      "Training epoch 186: 100%|██████████| 2880/2880 [03:04<00:00, 15.63it/s]\n",
      "Evaluating epoch 186: 100%|██████████| 1440/1440 [01:04<00:00, 22.23it/s]\n"
     ]
    },
    {
     "name": "stdout",
     "output_type": "stream",
     "text": [
      "Epoch: 186, Train Loss: 140.5463743, Eval Loss: 2267.4069353\n"
     ]
    },
    {
     "name": "stderr",
     "output_type": "stream",
     "text": [
      "Training epoch 187: 100%|██████████| 2880/2880 [03:04<00:00, 15.61it/s]\n",
      "Evaluating epoch 187: 100%|██████████| 1440/1440 [01:05<00:00, 22.12it/s]\n"
     ]
    },
    {
     "name": "stdout",
     "output_type": "stream",
     "text": [
      "Epoch: 187, Train Loss: 140.5668115, Eval Loss: 2275.0402231\n"
     ]
    },
    {
     "name": "stderr",
     "output_type": "stream",
     "text": [
      "Training epoch 188: 100%|██████████| 2880/2880 [03:04<00:00, 15.58it/s]\n",
      "Evaluating epoch 188: 100%|██████████| 1440/1440 [01:05<00:00, 22.15it/s]\n"
     ]
    },
    {
     "name": "stdout",
     "output_type": "stream",
     "text": [
      "Epoch: 188, Train Loss: 140.6611535, Eval Loss: 2262.8057162\n"
     ]
    },
    {
     "name": "stderr",
     "output_type": "stream",
     "text": [
      "Training epoch 189: 100%|██████████| 2880/2880 [03:04<00:00, 15.59it/s]\n",
      "Evaluating epoch 189: 100%|██████████| 1440/1440 [01:04<00:00, 22.18it/s]\n"
     ]
    },
    {
     "name": "stdout",
     "output_type": "stream",
     "text": [
      "Epoch: 189, Train Loss: 140.0747792, Eval Loss: 2296.0384013\n"
     ]
    },
    {
     "name": "stderr",
     "output_type": "stream",
     "text": [
      "Training epoch 190: 100%|██████████| 2880/2880 [03:04<00:00, 15.59it/s]\n",
      "Evaluating epoch 190: 100%|██████████| 1440/1440 [01:05<00:00, 22.08it/s]\n"
     ]
    },
    {
     "name": "stdout",
     "output_type": "stream",
     "text": [
      "Epoch: 190, Train Loss: 140.1837192, Eval Loss: 2306.9159946\n"
     ]
    },
    {
     "name": "stderr",
     "output_type": "stream",
     "text": [
      "Training epoch 191: 100%|██████████| 2880/2880 [03:04<00:00, 15.59it/s]\n",
      "Evaluating epoch 191: 100%|██████████| 1440/1440 [01:04<00:00, 22.17it/s]\n"
     ]
    },
    {
     "name": "stdout",
     "output_type": "stream",
     "text": [
      "Epoch: 191, Train Loss: 140.5394200, Eval Loss: 2325.1386128\n"
     ]
    },
    {
     "name": "stderr",
     "output_type": "stream",
     "text": [
      "Training epoch 192: 100%|██████████| 2880/2880 [03:04<00:00, 15.58it/s]\n",
      "Evaluating epoch 192: 100%|██████████| 1440/1440 [01:04<00:00, 22.19it/s]\n"
     ]
    },
    {
     "name": "stdout",
     "output_type": "stream",
     "text": [
      "Epoch: 192, Train Loss: 139.8652686, Eval Loss: 2306.9047718\n"
     ]
    },
    {
     "name": "stderr",
     "output_type": "stream",
     "text": [
      "Training epoch 193: 100%|██████████| 2880/2880 [03:04<00:00, 15.59it/s]\n",
      "Evaluating epoch 193: 100%|██████████| 1440/1440 [01:05<00:00, 22.11it/s]\n"
     ]
    },
    {
     "name": "stdout",
     "output_type": "stream",
     "text": [
      "Epoch: 193, Train Loss: 139.6220662, Eval Loss: 2281.1389539\n"
     ]
    },
    {
     "name": "stderr",
     "output_type": "stream",
     "text": [
      "Training epoch 194: 100%|██████████| 2880/2880 [03:04<00:00, 15.59it/s]\n",
      "Evaluating epoch 194: 100%|██████████| 1440/1440 [01:04<00:00, 22.22it/s]\n"
     ]
    },
    {
     "name": "stdout",
     "output_type": "stream",
     "text": [
      "Epoch: 194, Train Loss: 139.5619052, Eval Loss: 2294.2810521\n"
     ]
    },
    {
     "name": "stderr",
     "output_type": "stream",
     "text": [
      "Training epoch 195: 100%|██████████| 2880/2880 [03:04<00:00, 15.60it/s]\n",
      "Evaluating epoch 195: 100%|██████████| 1440/1440 [01:04<00:00, 22.19it/s]\n"
     ]
    },
    {
     "name": "stdout",
     "output_type": "stream",
     "text": [
      "Epoch: 195, Train Loss: 139.4454023, Eval Loss: 2251.1695829\n"
     ]
    },
    {
     "name": "stderr",
     "output_type": "stream",
     "text": [
      "Training epoch 196: 100%|██████████| 2880/2880 [03:04<00:00, 15.57it/s]\n",
      "Evaluating epoch 196: 100%|██████████| 1440/1440 [01:05<00:00, 22.15it/s]\n"
     ]
    },
    {
     "name": "stdout",
     "output_type": "stream",
     "text": [
      "Epoch: 196, Train Loss: 139.1572916, Eval Loss: 2259.8838427\n"
     ]
    },
    {
     "name": "stderr",
     "output_type": "stream",
     "text": [
      "Training epoch 197: 100%|██████████| 2880/2880 [03:04<00:00, 15.59it/s]\n",
      "Evaluating epoch 197: 100%|██████████| 1440/1440 [01:04<00:00, 22.23it/s]\n"
     ]
    },
    {
     "name": "stdout",
     "output_type": "stream",
     "text": [
      "Epoch: 197, Train Loss: 139.0216385, Eval Loss: 2231.7272789\n"
     ]
    },
    {
     "name": "stderr",
     "output_type": "stream",
     "text": [
      "Training epoch 198: 100%|██████████| 2880/2880 [03:04<00:00, 15.58it/s]\n",
      "Evaluating epoch 198: 100%|██████████| 1440/1440 [01:05<00:00, 22.13it/s]\n"
     ]
    },
    {
     "name": "stdout",
     "output_type": "stream",
     "text": [
      "Epoch: 198, Train Loss: 139.2933753, Eval Loss: 2222.7510980\n"
     ]
    },
    {
     "name": "stderr",
     "output_type": "stream",
     "text": [
      "Training epoch 199: 100%|██████████| 2880/2880 [03:04<00:00, 15.58it/s]\n",
      "Evaluating epoch 199: 100%|██████████| 1440/1440 [01:04<00:00, 22.21it/s]\n"
     ]
    },
    {
     "name": "stdout",
     "output_type": "stream",
     "text": [
      "Epoch: 199, Train Loss: 138.7544304, Eval Loss: 2247.5247181\n"
     ]
    },
    {
     "name": "stderr",
     "output_type": "stream",
     "text": [
      "Training epoch 200: 100%|██████████| 2880/2880 [03:04<00:00, 15.58it/s]\n",
      "Evaluating epoch 200: 100%|██████████| 1440/1440 [01:04<00:00, 22.22it/s]\n"
     ]
    },
    {
     "name": "stdout",
     "output_type": "stream",
     "text": [
      "Epoch: 200, Train Loss: 138.7156716, Eval Loss: 2241.6606958\n"
     ]
    },
    {
     "name": "stderr",
     "output_type": "stream",
     "text": [
      "Training epoch 201: 100%|██████████| 2880/2880 [03:04<00:00, 15.61it/s]\n",
      "Evaluating epoch 201: 100%|██████████| 1440/1440 [01:04<00:00, 22.16it/s]\n"
     ]
    },
    {
     "name": "stdout",
     "output_type": "stream",
     "text": [
      "Epoch: 201, Train Loss: 138.8490111, Eval Loss: 2222.3877846\n"
     ]
    },
    {
     "name": "stderr",
     "output_type": "stream",
     "text": [
      "Training epoch 202: 100%|██████████| 2880/2880 [03:04<00:00, 15.58it/s]\n",
      "Evaluating epoch 202: 100%|██████████| 1440/1440 [01:04<00:00, 22.26it/s]\n"
     ]
    },
    {
     "name": "stdout",
     "output_type": "stream",
     "text": [
      "Epoch: 202, Train Loss: 138.3702952, Eval Loss: 2217.7914041\n"
     ]
    },
    {
     "name": "stderr",
     "output_type": "stream",
     "text": [
      "Training epoch 203: 100%|██████████| 2880/2880 [03:04<00:00, 15.60it/s]\n",
      "Evaluating epoch 203: 100%|██████████| 1440/1440 [01:05<00:00, 22.15it/s]\n"
     ]
    },
    {
     "name": "stdout",
     "output_type": "stream",
     "text": [
      "Epoch: 203, Train Loss: 138.6976701, Eval Loss: 2230.1441838\n"
     ]
    },
    {
     "name": "stderr",
     "output_type": "stream",
     "text": [
      "Training epoch 204: 100%|██████████| 2880/2880 [03:04<00:00, 15.59it/s]\n",
      "Evaluating epoch 204: 100%|██████████| 1440/1440 [01:04<00:00, 22.26it/s]\n"
     ]
    },
    {
     "name": "stdout",
     "output_type": "stream",
     "text": [
      "Epoch: 204, Train Loss: 138.3130589, Eval Loss: 2238.8094289\n"
     ]
    },
    {
     "name": "stderr",
     "output_type": "stream",
     "text": [
      "Training epoch 205: 100%|██████████| 2880/2880 [03:04<00:00, 15.61it/s]\n",
      "Evaluating epoch 205: 100%|██████████| 1440/1440 [01:05<00:00, 22.11it/s]\n"
     ]
    },
    {
     "name": "stdout",
     "output_type": "stream",
     "text": [
      "Epoch: 205, Train Loss: 138.0411117, Eval Loss: 2233.1955646\n"
     ]
    },
    {
     "name": "stderr",
     "output_type": "stream",
     "text": [
      "Training epoch 206: 100%|██████████| 2880/2880 [03:04<00:00, 15.58it/s]\n",
      "Evaluating epoch 206: 100%|██████████| 1440/1440 [01:04<00:00, 22.27it/s]\n"
     ]
    },
    {
     "name": "stdout",
     "output_type": "stream",
     "text": [
      "Epoch: 206, Train Loss: 137.7103259, Eval Loss: 2236.6584050\n"
     ]
    },
    {
     "name": "stderr",
     "output_type": "stream",
     "text": [
      "Training epoch 207: 100%|██████████| 2880/2880 [03:04<00:00, 15.60it/s]\n",
      "Evaluating epoch 207: 100%|██████████| 1440/1440 [01:05<00:00, 22.13it/s]\n"
     ]
    },
    {
     "name": "stdout",
     "output_type": "stream",
     "text": [
      "Epoch: 207, Train Loss: 138.0462331, Eval Loss: 2250.6211461\n"
     ]
    },
    {
     "name": "stderr",
     "output_type": "stream",
     "text": [
      "Training epoch 208: 100%|██████████| 2880/2880 [03:04<00:00, 15.58it/s]\n",
      "Evaluating epoch 208: 100%|██████████| 1440/1440 [01:05<00:00, 22.14it/s]\n"
     ]
    },
    {
     "name": "stdout",
     "output_type": "stream",
     "text": [
      "Epoch: 208, Train Loss: 137.8653280, Eval Loss: 2232.5045849\n"
     ]
    },
    {
     "name": "stderr",
     "output_type": "stream",
     "text": [
      "Training epoch 209: 100%|██████████| 2880/2880 [03:04<00:00, 15.58it/s]\n",
      "Evaluating epoch 209: 100%|██████████| 1440/1440 [01:04<00:00, 22.24it/s]\n"
     ]
    },
    {
     "name": "stdout",
     "output_type": "stream",
     "text": [
      "Epoch: 209, Train Loss: 138.1305327, Eval Loss: 2235.0107067\n"
     ]
    },
    {
     "name": "stderr",
     "output_type": "stream",
     "text": [
      "Training epoch 210: 100%|██████████| 2880/2880 [03:04<00:00, 15.59it/s]\n",
      "Evaluating epoch 210: 100%|██████████| 1440/1440 [01:04<00:00, 22.22it/s]\n"
     ]
    },
    {
     "name": "stdout",
     "output_type": "stream",
     "text": [
      "Epoch: 210, Train Loss: 138.0786254, Eval Loss: 2216.8134784\n"
     ]
    },
    {
     "name": "stderr",
     "output_type": "stream",
     "text": [
      "Training epoch 211: 100%|██████████| 2880/2880 [03:04<00:00, 15.57it/s]\n",
      "Evaluating epoch 211: 100%|██████████| 1440/1440 [01:04<00:00, 22.20it/s]\n"
     ]
    },
    {
     "name": "stdout",
     "output_type": "stream",
     "text": [
      "Epoch: 211, Train Loss: 137.5304897, Eval Loss: 2246.7010410\n"
     ]
    },
    {
     "name": "stderr",
     "output_type": "stream",
     "text": [
      "Training epoch 212: 100%|██████████| 2880/2880 [03:04<00:00, 15.59it/s]\n",
      "Evaluating epoch 212: 100%|██████████| 1440/1440 [01:04<00:00, 22.16it/s]\n"
     ]
    },
    {
     "name": "stdout",
     "output_type": "stream",
     "text": [
      "Epoch: 212, Train Loss: 137.2433609, Eval Loss: 2271.7177118\n"
     ]
    },
    {
     "name": "stderr",
     "output_type": "stream",
     "text": [
      "Training epoch 213: 100%|██████████| 2880/2880 [03:05<00:00, 15.56it/s]\n",
      "Evaluating epoch 213: 100%|██████████| 1440/1440 [01:04<00:00, 22.17it/s]\n"
     ]
    },
    {
     "name": "stdout",
     "output_type": "stream",
     "text": [
      "Epoch: 213, Train Loss: 137.6033686, Eval Loss: 2287.5620795\n"
     ]
    },
    {
     "name": "stderr",
     "output_type": "stream",
     "text": [
      "Training epoch 214: 100%|██████████| 2880/2880 [03:05<00:00, 15.57it/s]\n",
      "Evaluating epoch 214: 100%|██████████| 1440/1440 [01:05<00:00, 22.15it/s]\n"
     ]
    },
    {
     "name": "stdout",
     "output_type": "stream",
     "text": [
      "Epoch: 214, Train Loss: 137.2809493, Eval Loss: 2295.4385552\n"
     ]
    },
    {
     "name": "stderr",
     "output_type": "stream",
     "text": [
      "Training epoch 215: 100%|██████████| 2880/2880 [03:04<00:00, 15.59it/s]\n",
      "Evaluating epoch 215: 100%|██████████| 1440/1440 [01:04<00:00, 22.24it/s]\n"
     ]
    },
    {
     "name": "stdout",
     "output_type": "stream",
     "text": [
      "Epoch: 215, Train Loss: 137.6229127, Eval Loss: 2266.0659450\n"
     ]
    },
    {
     "name": "stderr",
     "output_type": "stream",
     "text": [
      "Training epoch 216: 100%|██████████| 2880/2880 [03:05<00:00, 15.56it/s]\n",
      "Evaluating epoch 216: 100%|██████████| 1440/1440 [01:04<00:00, 22.22it/s]\n"
     ]
    },
    {
     "name": "stdout",
     "output_type": "stream",
     "text": [
      "Epoch: 216, Train Loss: 137.3187046, Eval Loss: 2318.4349983\n"
     ]
    },
    {
     "name": "stderr",
     "output_type": "stream",
     "text": [
      "Training epoch 217: 100%|██████████| 2880/2880 [03:04<00:00, 15.59it/s]\n",
      "Evaluating epoch 217: 100%|██████████| 1440/1440 [01:04<00:00, 22.25it/s]\n"
     ]
    },
    {
     "name": "stdout",
     "output_type": "stream",
     "text": [
      "Epoch: 217, Train Loss: 137.0891777, Eval Loss: 2306.8301123\n"
     ]
    },
    {
     "name": "stderr",
     "output_type": "stream",
     "text": [
      "Training epoch 218: 100%|██████████| 2880/2880 [03:04<00:00, 15.58it/s]\n",
      "Evaluating epoch 218: 100%|██████████| 1440/1440 [01:04<00:00, 22.22it/s]\n"
     ]
    },
    {
     "name": "stdout",
     "output_type": "stream",
     "text": [
      "Epoch: 218, Train Loss: 136.7408428, Eval Loss: 2297.5481233\n"
     ]
    },
    {
     "name": "stderr",
     "output_type": "stream",
     "text": [
      "Training epoch 219: 100%|██████████| 2880/2880 [03:04<00:00, 15.58it/s]\n",
      "Evaluating epoch 219: 100%|██████████| 1440/1440 [01:05<00:00, 22.08it/s]\n"
     ]
    },
    {
     "name": "stdout",
     "output_type": "stream",
     "text": [
      "Epoch: 219, Train Loss: 136.9205475, Eval Loss: 2294.0707683\n"
     ]
    },
    {
     "name": "stderr",
     "output_type": "stream",
     "text": [
      "Training epoch 220: 100%|██████████| 2880/2880 [03:04<00:00, 15.59it/s]\n",
      "Evaluating epoch 220: 100%|██████████| 1440/1440 [01:04<00:00, 22.20it/s]\n"
     ]
    },
    {
     "name": "stdout",
     "output_type": "stream",
     "text": [
      "Epoch: 220, Train Loss: 136.2830489, Eval Loss: 2274.5779699\n"
     ]
    },
    {
     "name": "stderr",
     "output_type": "stream",
     "text": [
      "Training epoch 221: 100%|██████████| 2880/2880 [03:05<00:00, 15.57it/s]\n",
      "Evaluating epoch 221: 100%|██████████| 1440/1440 [01:05<00:00, 22.09it/s]\n"
     ]
    },
    {
     "name": "stdout",
     "output_type": "stream",
     "text": [
      "Epoch: 221, Train Loss: 136.2510691, Eval Loss: 2259.1949086\n"
     ]
    },
    {
     "name": "stderr",
     "output_type": "stream",
     "text": [
      "Training epoch 222: 100%|██████████| 2880/2880 [03:04<00:00, 15.57it/s]\n",
      "Evaluating epoch 222: 100%|██████████| 1440/1440 [01:05<00:00, 22.15it/s]\n"
     ]
    },
    {
     "name": "stdout",
     "output_type": "stream",
     "text": [
      "Epoch: 222, Train Loss: 136.0476690, Eval Loss: 2263.7645372\n"
     ]
    },
    {
     "name": "stderr",
     "output_type": "stream",
     "text": [
      "Training epoch 223: 100%|██████████| 2880/2880 [03:05<00:00, 15.56it/s]\n",
      "Evaluating epoch 223: 100%|██████████| 1440/1440 [01:05<00:00, 22.12it/s]\n"
     ]
    },
    {
     "name": "stdout",
     "output_type": "stream",
     "text": [
      "Epoch: 223, Train Loss: 136.3775267, Eval Loss: 2273.5503015\n"
     ]
    },
    {
     "name": "stderr",
     "output_type": "stream",
     "text": [
      "Training epoch 224: 100%|██████████| 2880/2880 [03:04<00:00, 15.57it/s]\n",
      "Evaluating epoch 224: 100%|██████████| 1440/1440 [01:04<00:00, 22.23it/s]\n"
     ]
    },
    {
     "name": "stdout",
     "output_type": "stream",
     "text": [
      "Epoch: 224, Train Loss: 135.7970128, Eval Loss: 2266.6573605\n"
     ]
    },
    {
     "name": "stderr",
     "output_type": "stream",
     "text": [
      "Training epoch 225: 100%|██████████| 2880/2880 [03:04<00:00, 15.57it/s]\n",
      "Evaluating epoch 225: 100%|██████████| 1440/1440 [01:04<00:00, 22.22it/s]\n"
     ]
    },
    {
     "name": "stdout",
     "output_type": "stream",
     "text": [
      "Epoch: 225, Train Loss: 136.0424113, Eval Loss: 2240.2555352\n"
     ]
    },
    {
     "name": "stderr",
     "output_type": "stream",
     "text": [
      "Training epoch 226: 100%|██████████| 2880/2880 [03:04<00:00, 15.57it/s]\n",
      "Evaluating epoch 226: 100%|██████████| 1440/1440 [01:04<00:00, 22.21it/s]\n"
     ]
    },
    {
     "name": "stdout",
     "output_type": "stream",
     "text": [
      "Epoch: 226, Train Loss: 135.4758976, Eval Loss: 2222.2587292\n"
     ]
    },
    {
     "name": "stderr",
     "output_type": "stream",
     "text": [
      "Training epoch 227: 100%|██████████| 2880/2880 [03:04<00:00, 15.57it/s]\n",
      "Evaluating epoch 227: 100%|██████████| 1440/1440 [01:05<00:00, 22.08it/s]\n"
     ]
    },
    {
     "name": "stdout",
     "output_type": "stream",
     "text": [
      "Epoch: 227, Train Loss: 135.6069696, Eval Loss: 2237.6923733\n"
     ]
    },
    {
     "name": "stderr",
     "output_type": "stream",
     "text": [
      "Training epoch 228: 100%|██████████| 2880/2880 [03:05<00:00, 15.56it/s]\n",
      "Evaluating epoch 228: 100%|██████████| 1440/1440 [01:04<00:00, 22.22it/s]\n"
     ]
    },
    {
     "name": "stdout",
     "output_type": "stream",
     "text": [
      "Epoch: 228, Train Loss: 135.4872936, Eval Loss: 2236.0545294\n"
     ]
    },
    {
     "name": "stderr",
     "output_type": "stream",
     "text": [
      "Training epoch 229: 100%|██████████| 2880/2880 [03:04<00:00, 15.60it/s]\n",
      "Evaluating epoch 229: 100%|██████████| 1440/1440 [01:04<00:00, 22.26it/s]\n"
     ]
    },
    {
     "name": "stdout",
     "output_type": "stream",
     "text": [
      "Epoch: 229, Train Loss: 135.6218901, Eval Loss: 2317.5155938\n"
     ]
    },
    {
     "name": "stderr",
     "output_type": "stream",
     "text": [
      "Training epoch 230: 100%|██████████| 2880/2880 [03:04<00:00, 15.57it/s]\n",
      "Evaluating epoch 230: 100%|██████████| 1440/1440 [01:04<00:00, 22.23it/s]\n"
     ]
    },
    {
     "name": "stdout",
     "output_type": "stream",
     "text": [
      "Epoch: 230, Train Loss: 135.6916640, Eval Loss: 2367.0347390\n"
     ]
    },
    {
     "name": "stderr",
     "output_type": "stream",
     "text": [
      "Training epoch 231: 100%|██████████| 2880/2880 [03:04<00:00, 15.61it/s]\n",
      "Evaluating epoch 231: 100%|██████████| 1440/1440 [01:04<00:00, 22.22it/s]\n"
     ]
    },
    {
     "name": "stdout",
     "output_type": "stream",
     "text": [
      "Epoch: 231, Train Loss: 135.1475447, Eval Loss: 2334.6290915\n"
     ]
    },
    {
     "name": "stderr",
     "output_type": "stream",
     "text": [
      "Training epoch 232: 100%|██████████| 2880/2880 [03:04<00:00, 15.59it/s]\n",
      "Evaluating epoch 232: 100%|██████████| 1440/1440 [01:05<00:00, 22.14it/s]\n"
     ]
    },
    {
     "name": "stdout",
     "output_type": "stream",
     "text": [
      "Epoch: 232, Train Loss: 134.8513171, Eval Loss: 2325.2297685\n"
     ]
    },
    {
     "name": "stderr",
     "output_type": "stream",
     "text": [
      "Training epoch 233: 100%|██████████| 2880/2880 [03:04<00:00, 15.61it/s]\n",
      "Evaluating epoch 233: 100%|██████████| 1440/1440 [01:04<00:00, 22.20it/s]\n"
     ]
    },
    {
     "name": "stdout",
     "output_type": "stream",
     "text": [
      "Epoch: 233, Train Loss: 134.9336209, Eval Loss: 2351.3452629\n"
     ]
    },
    {
     "name": "stderr",
     "output_type": "stream",
     "text": [
      "Training epoch 234: 100%|██████████| 2880/2880 [03:06<00:00, 15.42it/s]\n",
      "Evaluating epoch 234: 100%|██████████| 1440/1440 [01:11<00:00, 20.14it/s]\n"
     ]
    },
    {
     "name": "stdout",
     "output_type": "stream",
     "text": [
      "Epoch: 234, Train Loss: 134.8941469, Eval Loss: 2316.2325728\n"
     ]
    },
    {
     "name": "stderr",
     "output_type": "stream",
     "text": [
      "Training epoch 235: 100%|██████████| 2880/2880 [03:05<00:00, 15.52it/s]\n",
      "Evaluating epoch 235: 100%|██████████| 1440/1440 [01:04<00:00, 22.21it/s]\n"
     ]
    },
    {
     "name": "stdout",
     "output_type": "stream",
     "text": [
      "Epoch: 235, Train Loss: 134.9269154, Eval Loss: 2354.6082101\n"
     ]
    },
    {
     "name": "stderr",
     "output_type": "stream",
     "text": [
      "Training epoch 236: 100%|██████████| 2880/2880 [03:04<00:00, 15.59it/s]\n",
      "Evaluating epoch 236: 100%|██████████| 1440/1440 [01:04<00:00, 22.17it/s]\n"
     ]
    },
    {
     "name": "stdout",
     "output_type": "stream",
     "text": [
      "Epoch: 236, Train Loss: 134.7693900, Eval Loss: 2312.2008877\n"
     ]
    },
    {
     "name": "stderr",
     "output_type": "stream",
     "text": [
      "Training epoch 237: 100%|██████████| 2880/2880 [03:04<00:00, 15.59it/s]\n",
      "Evaluating epoch 237: 100%|██████████| 1440/1440 [01:05<00:00, 22.07it/s]\n"
     ]
    },
    {
     "name": "stdout",
     "output_type": "stream",
     "text": [
      "Epoch: 237, Train Loss: 134.8760305, Eval Loss: 2304.9127738\n"
     ]
    },
    {
     "name": "stderr",
     "output_type": "stream",
     "text": [
      "Training epoch 238: 100%|██████████| 2880/2880 [03:04<00:00, 15.58it/s]\n",
      "Evaluating epoch 238: 100%|██████████| 1440/1440 [01:04<00:00, 22.16it/s]\n"
     ]
    },
    {
     "name": "stdout",
     "output_type": "stream",
     "text": [
      "Epoch: 238, Train Loss: 134.4295407, Eval Loss: 2270.2086216\n"
     ]
    },
    {
     "name": "stderr",
     "output_type": "stream",
     "text": [
      "Training epoch 239: 100%|██████████| 2880/2880 [03:04<00:00, 15.59it/s]\n",
      "Evaluating epoch 239: 100%|██████████| 1440/1440 [01:04<00:00, 22.24it/s]\n"
     ]
    },
    {
     "name": "stdout",
     "output_type": "stream",
     "text": [
      "Epoch: 239, Train Loss: 134.4926073, Eval Loss: 2289.0249967\n"
     ]
    },
    {
     "name": "stderr",
     "output_type": "stream",
     "text": [
      "Training epoch 240: 100%|██████████| 2880/2880 [03:04<00:00, 15.58it/s]\n",
      "Evaluating epoch 240: 100%|██████████| 1440/1440 [01:07<00:00, 21.38it/s]\n"
     ]
    },
    {
     "name": "stdout",
     "output_type": "stream",
     "text": [
      "Epoch: 240, Train Loss: 134.3185790, Eval Loss: 2276.7443750\n"
     ]
    },
    {
     "name": "stderr",
     "output_type": "stream",
     "text": [
      "Training epoch 241: 100%|██████████| 2880/2880 [03:06<00:00, 15.46it/s]\n",
      "Evaluating epoch 241: 100%|██████████| 1440/1440 [01:05<00:00, 22.10it/s]\n"
     ]
    },
    {
     "name": "stdout",
     "output_type": "stream",
     "text": [
      "Epoch: 241, Train Loss: 134.0907413, Eval Loss: 2285.6940657\n"
     ]
    },
    {
     "name": "stderr",
     "output_type": "stream",
     "text": [
      "Training epoch 242: 100%|██████████| 2880/2880 [03:05<00:00, 15.57it/s]\n",
      "Evaluating epoch 242: 100%|██████████| 1440/1440 [01:04<00:00, 22.21it/s]\n"
     ]
    },
    {
     "name": "stdout",
     "output_type": "stream",
     "text": [
      "Epoch: 242, Train Loss: 134.2374662, Eval Loss: 2292.8419097\n"
     ]
    },
    {
     "name": "stderr",
     "output_type": "stream",
     "text": [
      "Training epoch 243: 100%|██████████| 2880/2880 [03:05<00:00, 15.57it/s]\n",
      "Evaluating epoch 243: 100%|██████████| 1440/1440 [01:04<00:00, 22.22it/s]\n"
     ]
    },
    {
     "name": "stdout",
     "output_type": "stream",
     "text": [
      "Epoch: 243, Train Loss: 133.6828737, Eval Loss: 2282.5166926\n"
     ]
    },
    {
     "name": "stderr",
     "output_type": "stream",
     "text": [
      "Training epoch 244: 100%|██████████| 2880/2880 [03:04<00:00, 15.58it/s]\n",
      "Evaluating epoch 244: 100%|██████████| 1440/1440 [01:04<00:00, 22.20it/s]\n"
     ]
    },
    {
     "name": "stdout",
     "output_type": "stream",
     "text": [
      "Epoch: 244, Train Loss: 133.5990723, Eval Loss: 2269.9867435\n"
     ]
    },
    {
     "name": "stderr",
     "output_type": "stream",
     "text": [
      "Training epoch 245: 100%|██████████| 2880/2880 [03:04<00:00, 15.58it/s]\n",
      "Evaluating epoch 245: 100%|██████████| 1440/1440 [01:04<00:00, 22.21it/s]\n"
     ]
    },
    {
     "name": "stdout",
     "output_type": "stream",
     "text": [
      "Epoch: 245, Train Loss: 133.7353081, Eval Loss: 2296.8480424\n"
     ]
    },
    {
     "name": "stderr",
     "output_type": "stream",
     "text": [
      "Training epoch 246: 100%|██████████| 2880/2880 [03:04<00:00, 15.58it/s]\n",
      "Evaluating epoch 246: 100%|██████████| 1440/1440 [01:04<00:00, 22.22it/s]\n"
     ]
    },
    {
     "name": "stdout",
     "output_type": "stream",
     "text": [
      "Epoch: 246, Train Loss: 133.5926873, Eval Loss: 2343.4896113\n"
     ]
    },
    {
     "name": "stderr",
     "output_type": "stream",
     "text": [
      "Training epoch 247: 100%|██████████| 2880/2880 [03:05<00:00, 15.56it/s]\n",
      "Evaluating epoch 247: 100%|██████████| 1440/1440 [01:05<00:00, 22.11it/s]\n"
     ]
    },
    {
     "name": "stdout",
     "output_type": "stream",
     "text": [
      "Epoch: 247, Train Loss: 133.5203587, Eval Loss: 2320.2527278\n"
     ]
    },
    {
     "name": "stderr",
     "output_type": "stream",
     "text": [
      "Training epoch 248: 100%|██████████| 2880/2880 [03:05<00:00, 15.55it/s]\n",
      "Evaluating epoch 248: 100%|██████████| 1440/1440 [01:04<00:00, 22.22it/s]\n"
     ]
    },
    {
     "name": "stdout",
     "output_type": "stream",
     "text": [
      "Epoch: 248, Train Loss: 133.2912256, Eval Loss: 2297.2742612\n"
     ]
    },
    {
     "name": "stderr",
     "output_type": "stream",
     "text": [
      "Training epoch 249: 100%|██████████| 2880/2880 [03:04<00:00, 15.63it/s]\n",
      "Evaluating epoch 249: 100%|██████████| 1440/1440 [01:08<00:00, 21.16it/s]\n"
     ]
    },
    {
     "name": "stdout",
     "output_type": "stream",
     "text": [
      "Epoch: 249, Train Loss: 133.1218573, Eval Loss: 2258.2635738\n"
     ]
    },
    {
     "name": "stderr",
     "output_type": "stream",
     "text": [
      "Training epoch 250: 100%|██████████| 2880/2880 [03:04<00:00, 15.61it/s]\n",
      "Evaluating epoch 250: 100%|██████████| 1440/1440 [01:04<00:00, 22.22it/s]\n"
     ]
    },
    {
     "name": "stdout",
     "output_type": "stream",
     "text": [
      "Epoch: 250, Train Loss: 133.4668898, Eval Loss: 2308.9872197\n"
     ]
    },
    {
     "name": "stderr",
     "output_type": "stream",
     "text": [
      "Training epoch 251: 100%|██████████| 2880/2880 [03:04<00:00, 15.60it/s]\n",
      "Evaluating epoch 251: 100%|██████████| 1440/1440 [01:04<00:00, 22.27it/s]\n"
     ]
    },
    {
     "name": "stdout",
     "output_type": "stream",
     "text": [
      "Epoch: 251, Train Loss: 133.5678898, Eval Loss: 2301.6515091\n"
     ]
    },
    {
     "name": "stderr",
     "output_type": "stream",
     "text": [
      "Training epoch 252: 100%|██████████| 2880/2880 [03:04<00:00, 15.58it/s]\n",
      "Evaluating epoch 252: 100%|██████████| 1440/1440 [01:05<00:00, 22.08it/s]\n"
     ]
    },
    {
     "name": "stdout",
     "output_type": "stream",
     "text": [
      "Epoch: 252, Train Loss: 133.3940021, Eval Loss: 2268.6415862\n"
     ]
    },
    {
     "name": "stderr",
     "output_type": "stream",
     "text": [
      "Training epoch 253: 100%|██████████| 2880/2880 [03:04<00:00, 15.58it/s]\n",
      "Evaluating epoch 253: 100%|██████████| 1440/1440 [01:04<00:00, 22.24it/s]\n"
     ]
    },
    {
     "name": "stdout",
     "output_type": "stream",
     "text": [
      "Epoch: 253, Train Loss: 133.2646692, Eval Loss: 2283.4086722\n"
     ]
    },
    {
     "name": "stderr",
     "output_type": "stream",
     "text": [
      "Training epoch 254: 100%|██████████| 2880/2880 [03:09<00:00, 15.17it/s]\n",
      "Evaluating epoch 254: 100%|██████████| 1440/1440 [01:04<00:00, 22.21it/s]\n"
     ]
    },
    {
     "name": "stdout",
     "output_type": "stream",
     "text": [
      "Epoch: 254, Train Loss: 133.4087721, Eval Loss: 2331.9077118\n"
     ]
    },
    {
     "name": "stderr",
     "output_type": "stream",
     "text": [
      "Training epoch 255: 100%|██████████| 2880/2880 [03:04<00:00, 15.61it/s]\n"
     ]
    },
    {
     "name": "stdout",
     "output_type": "stream",
     "text": [
      "Epoch 00256: reducing learning rate of group 0 to 1.0000e-04.\n"
     ]
    },
    {
     "name": "stderr",
     "output_type": "stream",
     "text": [
      "Evaluating epoch 255: 100%|██████████| 1440/1440 [01:04<00:00, 22.26it/s]\n"
     ]
    },
    {
     "name": "stdout",
     "output_type": "stream",
     "text": [
      "Epoch: 255, Train Loss: 133.8130553, Eval Loss: 2320.0623871\n"
     ]
    },
    {
     "name": "stderr",
     "output_type": "stream",
     "text": [
      "Training epoch 256: 100%|██████████| 2880/2880 [03:04<00:00, 15.61it/s]\n",
      "Evaluating epoch 256: 100%|██████████| 1440/1440 [01:04<00:00, 22.24it/s]\n"
     ]
    },
    {
     "name": "stdout",
     "output_type": "stream",
     "text": [
      "Epoch: 256, Train Loss: 132.0438767, Eval Loss: 2318.7365380\n"
     ]
    },
    {
     "name": "stderr",
     "output_type": "stream",
     "text": [
      "Training epoch 257: 100%|██████████| 2880/2880 [03:04<00:00, 15.61it/s]\n",
      "Evaluating epoch 257: 100%|██████████| 1440/1440 [01:04<00:00, 22.28it/s]\n"
     ]
    },
    {
     "name": "stdout",
     "output_type": "stream",
     "text": [
      "Epoch: 257, Train Loss: 131.2118503, Eval Loss: 2320.8675758\n"
     ]
    },
    {
     "name": "stderr",
     "output_type": "stream",
     "text": [
      "Training epoch 258: 100%|██████████| 2880/2880 [03:04<00:00, 15.61it/s]\n",
      "Evaluating epoch 258: 100%|██████████| 1440/1440 [01:04<00:00, 22.20it/s]\n"
     ]
    },
    {
     "name": "stdout",
     "output_type": "stream",
     "text": [
      "Epoch: 258, Train Loss: 130.8029572, Eval Loss: 2325.3836260\n"
     ]
    },
    {
     "name": "stderr",
     "output_type": "stream",
     "text": [
      "Training epoch 259: 100%|██████████| 2880/2880 [03:04<00:00, 15.61it/s]\n",
      "Evaluating epoch 259: 100%|██████████| 1440/1440 [01:04<00:00, 22.23it/s]\n"
     ]
    },
    {
     "name": "stdout",
     "output_type": "stream",
     "text": [
      "Epoch: 259, Train Loss: 130.6108673, Eval Loss: 2328.5608904\n"
     ]
    },
    {
     "name": "stderr",
     "output_type": "stream",
     "text": [
      "Training epoch 260: 100%|██████████| 2880/2880 [03:04<00:00, 15.59it/s]\n",
      "Evaluating epoch 260: 100%|██████████| 1440/1440 [01:04<00:00, 22.22it/s]\n"
     ]
    },
    {
     "name": "stdout",
     "output_type": "stream",
     "text": [
      "Epoch: 260, Train Loss: 130.4249695, Eval Loss: 2328.4517701\n"
     ]
    },
    {
     "name": "stderr",
     "output_type": "stream",
     "text": [
      "Training epoch 261: 100%|██████████| 2880/2880 [03:04<00:00, 15.61it/s]\n",
      "Evaluating epoch 261: 100%|██████████| 1440/1440 [01:04<00:00, 22.22it/s]\n"
     ]
    },
    {
     "name": "stdout",
     "output_type": "stream",
     "text": [
      "Epoch: 261, Train Loss: 130.2411830, Eval Loss: 2328.2408128\n"
     ]
    },
    {
     "name": "stderr",
     "output_type": "stream",
     "text": [
      "Training epoch 262: 100%|██████████| 2880/2880 [03:04<00:00, 15.62it/s]\n",
      "Evaluating epoch 262: 100%|██████████| 1440/1440 [01:04<00:00, 22.21it/s]\n"
     ]
    },
    {
     "name": "stdout",
     "output_type": "stream",
     "text": [
      "Epoch: 262, Train Loss: 130.1250317, Eval Loss: 2326.2104126\n"
     ]
    },
    {
     "name": "stderr",
     "output_type": "stream",
     "text": [
      "Training epoch 263: 100%|██████████| 2880/2880 [03:04<00:00, 15.60it/s]\n",
      "Evaluating epoch 263: 100%|██████████| 1440/1440 [01:04<00:00, 22.27it/s]\n"
     ]
    },
    {
     "name": "stdout",
     "output_type": "stream",
     "text": [
      "Epoch: 263, Train Loss: 130.0550873, Eval Loss: 2326.7384954\n"
     ]
    },
    {
     "name": "stderr",
     "output_type": "stream",
     "text": [
      "Training epoch 264: 100%|██████████| 2880/2880 [03:04<00:00, 15.60it/s]\n",
      "Evaluating epoch 264: 100%|██████████| 1440/1440 [01:04<00:00, 22.24it/s]\n"
     ]
    },
    {
     "name": "stdout",
     "output_type": "stream",
     "text": [
      "Epoch: 264, Train Loss: 130.0067746, Eval Loss: 2326.3694615\n"
     ]
    },
    {
     "name": "stderr",
     "output_type": "stream",
     "text": [
      "Training epoch 265: 100%|██████████| 2880/2880 [03:04<00:00, 15.58it/s]\n",
      "Evaluating epoch 265: 100%|██████████| 1440/1440 [01:04<00:00, 22.29it/s]\n"
     ]
    },
    {
     "name": "stdout",
     "output_type": "stream",
     "text": [
      "Epoch: 265, Train Loss: 129.8559345, Eval Loss: 2329.1676406\n"
     ]
    },
    {
     "name": "stderr",
     "output_type": "stream",
     "text": [
      "Training epoch 266: 100%|██████████| 2880/2880 [03:04<00:00, 15.62it/s]\n",
      "Evaluating epoch 266: 100%|██████████| 1440/1440 [01:05<00:00, 22.09it/s]\n"
     ]
    },
    {
     "name": "stdout",
     "output_type": "stream",
     "text": [
      "Epoch: 266, Train Loss: 129.8148601, Eval Loss: 2326.0809389\n"
     ]
    },
    {
     "name": "stderr",
     "output_type": "stream",
     "text": [
      "Training epoch 267: 100%|██████████| 2880/2880 [03:04<00:00, 15.58it/s]\n",
      "Evaluating epoch 267: 100%|██████████| 1440/1440 [01:05<00:00, 22.14it/s]\n"
     ]
    },
    {
     "name": "stdout",
     "output_type": "stream",
     "text": [
      "Epoch: 267, Train Loss: 129.7441824, Eval Loss: 2327.3175696\n"
     ]
    },
    {
     "name": "stderr",
     "output_type": "stream",
     "text": [
      "Training epoch 268: 100%|██████████| 2880/2880 [03:04<00:00, 15.60it/s]\n",
      "Evaluating epoch 268: 100%|██████████| 1440/1440 [01:04<00:00, 22.25it/s]\n"
     ]
    },
    {
     "name": "stdout",
     "output_type": "stream",
     "text": [
      "Epoch: 268, Train Loss: 129.6565151, Eval Loss: 2327.3170584\n"
     ]
    },
    {
     "name": "stderr",
     "output_type": "stream",
     "text": [
      "Training epoch 269: 100%|██████████| 2880/2880 [03:04<00:00, 15.61it/s]\n",
      "Evaluating epoch 269: 100%|██████████| 1440/1440 [01:05<00:00, 22.10it/s]\n"
     ]
    },
    {
     "name": "stdout",
     "output_type": "stream",
     "text": [
      "Epoch: 269, Train Loss: 129.6086039, Eval Loss: 2327.3089983\n"
     ]
    },
    {
     "name": "stderr",
     "output_type": "stream",
     "text": [
      "Training epoch 270: 100%|██████████| 2880/2880 [03:04<00:00, 15.59it/s]\n",
      "Evaluating epoch 270: 100%|██████████| 1440/1440 [01:04<00:00, 22.24it/s]\n"
     ]
    },
    {
     "name": "stdout",
     "output_type": "stream",
     "text": [
      "Epoch: 270, Train Loss: 129.5682312, Eval Loss: 2331.2162121\n"
     ]
    },
    {
     "name": "stderr",
     "output_type": "stream",
     "text": [
      "Training epoch 271: 100%|██████████| 2880/2880 [03:04<00:00, 15.60it/s]\n",
      "Evaluating epoch 271: 100%|██████████| 1440/1440 [01:04<00:00, 22.19it/s]\n"
     ]
    },
    {
     "name": "stdout",
     "output_type": "stream",
     "text": [
      "Epoch: 271, Train Loss: 129.4934784, Eval Loss: 2328.8877370\n"
     ]
    },
    {
     "name": "stderr",
     "output_type": "stream",
     "text": [
      "Training epoch 272: 100%|██████████| 2880/2880 [03:04<00:00, 15.58it/s]\n",
      "Evaluating epoch 272: 100%|██████████| 1440/1440 [01:04<00:00, 22.20it/s]\n"
     ]
    },
    {
     "name": "stdout",
     "output_type": "stream",
     "text": [
      "Epoch: 272, Train Loss: 129.4104735, Eval Loss: 2326.5331672\n"
     ]
    },
    {
     "name": "stderr",
     "output_type": "stream",
     "text": [
      "Training epoch 273: 100%|██████████| 2880/2880 [03:04<00:00, 15.59it/s]\n",
      "Evaluating epoch 273: 100%|██████████| 1440/1440 [01:04<00:00, 22.27it/s]\n"
     ]
    },
    {
     "name": "stdout",
     "output_type": "stream",
     "text": [
      "Epoch: 273, Train Loss: 129.3628613, Eval Loss: 2326.1607089\n"
     ]
    },
    {
     "name": "stderr",
     "output_type": "stream",
     "text": [
      "Training epoch 274: 100%|██████████| 2880/2880 [03:04<00:00, 15.61it/s]\n",
      "Evaluating epoch 274: 100%|██████████| 1440/1440 [01:04<00:00, 22.25it/s]\n"
     ]
    },
    {
     "name": "stdout",
     "output_type": "stream",
     "text": [
      "Epoch: 274, Train Loss: 129.3309333, Eval Loss: 2324.5351659\n"
     ]
    },
    {
     "name": "stderr",
     "output_type": "stream",
     "text": [
      "Training epoch 275: 100%|██████████| 2880/2880 [03:04<00:00, 15.60it/s]\n",
      "Evaluating epoch 275: 100%|██████████| 1440/1440 [01:05<00:00, 22.07it/s]\n"
     ]
    },
    {
     "name": "stdout",
     "output_type": "stream",
     "text": [
      "Epoch: 275, Train Loss: 129.3029216, Eval Loss: 2322.2842071\n"
     ]
    },
    {
     "name": "stderr",
     "output_type": "stream",
     "text": [
      "Training epoch 276: 100%|██████████| 2880/2880 [03:04<00:00, 15.60it/s]\n",
      "Evaluating epoch 276: 100%|██████████| 1440/1440 [01:04<00:00, 22.21it/s]\n"
     ]
    },
    {
     "name": "stdout",
     "output_type": "stream",
     "text": [
      "Epoch: 276, Train Loss: 129.1514179, Eval Loss: 2321.7284631\n"
     ]
    },
    {
     "name": "stderr",
     "output_type": "stream",
     "text": [
      "Training epoch 277: 100%|██████████| 2880/2880 [03:04<00:00, 15.57it/s]\n",
      "Evaluating epoch 277: 100%|██████████| 1440/1440 [01:04<00:00, 22.23it/s]\n"
     ]
    },
    {
     "name": "stdout",
     "output_type": "stream",
     "text": [
      "Epoch: 277, Train Loss: 129.1671022, Eval Loss: 2321.8754558\n"
     ]
    },
    {
     "name": "stderr",
     "output_type": "stream",
     "text": [
      "Training epoch 278: 100%|██████████| 2880/2880 [03:04<00:00, 15.61it/s]\n",
      "Evaluating epoch 278: 100%|██████████| 1440/1440 [01:04<00:00, 22.26it/s]\n"
     ]
    },
    {
     "name": "stdout",
     "output_type": "stream",
     "text": [
      "Epoch: 278, Train Loss: 129.1122813, Eval Loss: 2319.3431767\n"
     ]
    },
    {
     "name": "stderr",
     "output_type": "stream",
     "text": [
      "Training epoch 279: 100%|██████████| 2880/2880 [03:04<00:00, 15.60it/s]\n",
      "Evaluating epoch 279: 100%|██████████| 1440/1440 [01:04<00:00, 22.22it/s]\n"
     ]
    },
    {
     "name": "stdout",
     "output_type": "stream",
     "text": [
      "Epoch: 279, Train Loss: 129.0699119, Eval Loss: 2322.1742265\n"
     ]
    },
    {
     "name": "stderr",
     "output_type": "stream",
     "text": [
      "Training epoch 280: 100%|██████████| 2880/2880 [03:04<00:00, 15.57it/s]\n",
      "Evaluating epoch 280: 100%|██████████| 1440/1440 [01:04<00:00, 22.26it/s]\n"
     ]
    },
    {
     "name": "stdout",
     "output_type": "stream",
     "text": [
      "Epoch: 280, Train Loss: 129.0113442, Eval Loss: 2322.0698865\n"
     ]
    },
    {
     "name": "stderr",
     "output_type": "stream",
     "text": [
      "Training epoch 281: 100%|██████████| 2880/2880 [03:04<00:00, 15.61it/s]\n",
      "Evaluating epoch 281: 100%|██████████| 1440/1440 [01:04<00:00, 22.23it/s]\n"
     ]
    },
    {
     "name": "stdout",
     "output_type": "stream",
     "text": [
      "Epoch: 281, Train Loss: 128.9682677, Eval Loss: 2321.0406807\n"
     ]
    },
    {
     "name": "stderr",
     "output_type": "stream",
     "text": [
      "Training epoch 282: 100%|██████████| 2880/2880 [03:04<00:00, 15.60it/s]\n",
      "Evaluating epoch 282: 100%|██████████| 1440/1440 [01:04<00:00, 22.23it/s]\n"
     ]
    },
    {
     "name": "stdout",
     "output_type": "stream",
     "text": [
      "Epoch: 282, Train Loss: 128.9188920, Eval Loss: 2320.7510690\n"
     ]
    },
    {
     "name": "stderr",
     "output_type": "stream",
     "text": [
      "Training epoch 283: 100%|██████████| 2880/2880 [03:04<00:00, 15.59it/s]\n",
      "Evaluating epoch 283: 100%|██████████| 1440/1440 [01:04<00:00, 22.22it/s]\n"
     ]
    },
    {
     "name": "stdout",
     "output_type": "stream",
     "text": [
      "Epoch: 283, Train Loss: 128.9094942, Eval Loss: 2320.3291513\n"
     ]
    },
    {
     "name": "stderr",
     "output_type": "stream",
     "text": [
      "Training epoch 284: 100%|██████████| 2880/2880 [03:04<00:00, 15.57it/s]\n",
      "Evaluating epoch 284: 100%|██████████| 1440/1440 [01:04<00:00, 22.19it/s]\n"
     ]
    },
    {
     "name": "stdout",
     "output_type": "stream",
     "text": [
      "Epoch: 284, Train Loss: 128.8312283, Eval Loss: 2322.0093939\n"
     ]
    },
    {
     "name": "stderr",
     "output_type": "stream",
     "text": [
      "Training epoch 285: 100%|██████████| 2880/2880 [03:05<00:00, 15.55it/s]\n",
      "Evaluating epoch 285: 100%|██████████| 1440/1440 [01:04<00:00, 22.19it/s]\n"
     ]
    },
    {
     "name": "stdout",
     "output_type": "stream",
     "text": [
      "Epoch: 285, Train Loss: 128.7756525, Eval Loss: 2321.9049348\n"
     ]
    },
    {
     "name": "stderr",
     "output_type": "stream",
     "text": [
      "Training epoch 286: 100%|██████████| 2880/2880 [03:04<00:00, 15.58it/s]\n",
      "Evaluating epoch 286: 100%|██████████| 1440/1440 [01:04<00:00, 22.22it/s]\n"
     ]
    },
    {
     "name": "stdout",
     "output_type": "stream",
     "text": [
      "Epoch: 286, Train Loss: 128.7801920, Eval Loss: 2322.7325154\n"
     ]
    },
    {
     "name": "stderr",
     "output_type": "stream",
     "text": [
      "Training epoch 287: 100%|██████████| 2880/2880 [03:04<00:00, 15.58it/s]\n",
      "Evaluating epoch 287: 100%|██████████| 1440/1440 [01:07<00:00, 21.30it/s]\n"
     ]
    },
    {
     "name": "stdout",
     "output_type": "stream",
     "text": [
      "Epoch: 287, Train Loss: 128.7480571, Eval Loss: 2321.8902188\n"
     ]
    },
    {
     "name": "stderr",
     "output_type": "stream",
     "text": [
      "Training epoch 288: 100%|██████████| 2880/2880 [03:08<00:00, 15.25it/s]\n",
      "Evaluating epoch 288: 100%|██████████| 1440/1440 [01:04<00:00, 22.25it/s]\n"
     ]
    },
    {
     "name": "stdout",
     "output_type": "stream",
     "text": [
      "Epoch: 288, Train Loss: 128.7227312, Eval Loss: 2320.9686681\n"
     ]
    },
    {
     "name": "stderr",
     "output_type": "stream",
     "text": [
      "Training epoch 289: 100%|██████████| 2880/2880 [03:04<00:00, 15.58it/s]\n",
      "Evaluating epoch 289: 100%|██████████| 1440/1440 [01:04<00:00, 22.20it/s]\n"
     ]
    },
    {
     "name": "stdout",
     "output_type": "stream",
     "text": [
      "Epoch: 289, Train Loss: 128.7123680, Eval Loss: 2321.5360810\n"
     ]
    },
    {
     "name": "stderr",
     "output_type": "stream",
     "text": [
      "Training epoch 290: 100%|██████████| 2880/2880 [03:05<00:00, 15.56it/s]\n",
      "Evaluating epoch 290: 100%|██████████| 1440/1440 [01:05<00:00, 22.15it/s]\n"
     ]
    },
    {
     "name": "stdout",
     "output_type": "stream",
     "text": [
      "Epoch: 290, Train Loss: 128.6715286, Eval Loss: 2321.7316904\n"
     ]
    },
    {
     "name": "stderr",
     "output_type": "stream",
     "text": [
      "Training epoch 291: 100%|██████████| 2880/2880 [03:04<00:00, 15.60it/s]\n",
      "Evaluating epoch 291: 100%|██████████| 1440/1440 [01:04<00:00, 22.21it/s]\n"
     ]
    },
    {
     "name": "stdout",
     "output_type": "stream",
     "text": [
      "Epoch: 291, Train Loss: 128.6361438, Eval Loss: 2321.2164359\n"
     ]
    },
    {
     "name": "stderr",
     "output_type": "stream",
     "text": [
      "Training epoch 292: 100%|██████████| 2880/2880 [03:04<00:00, 15.59it/s]\n",
      "Evaluating epoch 292: 100%|██████████| 1440/1440 [01:05<00:00, 22.11it/s]\n"
     ]
    },
    {
     "name": "stdout",
     "output_type": "stream",
     "text": [
      "Epoch: 292, Train Loss: 128.6082813, Eval Loss: 2320.8268452\n"
     ]
    },
    {
     "name": "stderr",
     "output_type": "stream",
     "text": [
      "Training epoch 293: 100%|██████████| 2880/2880 [03:04<00:00, 15.58it/s]\n",
      "Evaluating epoch 293: 100%|██████████| 1440/1440 [01:04<00:00, 22.23it/s]\n"
     ]
    },
    {
     "name": "stdout",
     "output_type": "stream",
     "text": [
      "Epoch: 293, Train Loss: 128.6334388, Eval Loss: 2322.9351380\n"
     ]
    },
    {
     "name": "stderr",
     "output_type": "stream",
     "text": [
      "Training epoch 294: 100%|██████████| 2880/2880 [03:04<00:00, 15.61it/s]\n",
      "Evaluating epoch 294: 100%|██████████| 1440/1440 [01:04<00:00, 22.22it/s]\n"
     ]
    },
    {
     "name": "stdout",
     "output_type": "stream",
     "text": [
      "Epoch: 294, Train Loss: 128.5988846, Eval Loss: 2322.5009393\n"
     ]
    },
    {
     "name": "stderr",
     "output_type": "stream",
     "text": [
      "Training epoch 295: 100%|██████████| 2880/2880 [03:04<00:00, 15.57it/s]\n",
      "Evaluating epoch 295: 100%|██████████| 1440/1440 [01:04<00:00, 22.25it/s]\n"
     ]
    },
    {
     "name": "stdout",
     "output_type": "stream",
     "text": [
      "Epoch: 295, Train Loss: 128.5062569, Eval Loss: 2324.4681094\n"
     ]
    },
    {
     "name": "stderr",
     "output_type": "stream",
     "text": [
      "Training epoch 296: 100%|██████████| 2880/2880 [03:04<00:00, 15.58it/s]\n",
      "Evaluating epoch 296: 100%|██████████| 1440/1440 [01:04<00:00, 22.18it/s]\n"
     ]
    },
    {
     "name": "stdout",
     "output_type": "stream",
     "text": [
      "Epoch: 296, Train Loss: 128.5532559, Eval Loss: 2326.6506099\n"
     ]
    },
    {
     "name": "stderr",
     "output_type": "stream",
     "text": [
      "Training epoch 297: 100%|██████████| 2880/2880 [03:04<00:00, 15.57it/s]\n",
      "Evaluating epoch 297: 100%|██████████| 1440/1440 [01:04<00:00, 22.16it/s]\n"
     ]
    },
    {
     "name": "stdout",
     "output_type": "stream",
     "text": [
      "Epoch: 297, Train Loss: 128.4882789, Eval Loss: 2324.9903623\n"
     ]
    },
    {
     "name": "stderr",
     "output_type": "stream",
     "text": [
      "Training epoch 298: 100%|██████████| 2880/2880 [03:05<00:00, 15.56it/s]\n",
      "Evaluating epoch 298: 100%|██████████| 1440/1440 [01:04<00:00, 22.23it/s]\n"
     ]
    },
    {
     "name": "stdout",
     "output_type": "stream",
     "text": [
      "Epoch: 298, Train Loss: 128.4519980, Eval Loss: 2328.7766833\n"
     ]
    },
    {
     "name": "stderr",
     "output_type": "stream",
     "text": [
      "Training epoch 299: 100%|██████████| 2880/2880 [03:04<00:00, 15.57it/s]\n",
      "Evaluating epoch 299: 100%|██████████| 1440/1440 [01:04<00:00, 22.18it/s]\n"
     ]
    },
    {
     "name": "stdout",
     "output_type": "stream",
     "text": [
      "Epoch: 299, Train Loss: 128.4453816, Eval Loss: 2327.5566089\n"
     ]
    },
    {
     "name": "stderr",
     "output_type": "stream",
     "text": [
      "Training epoch 300: 100%|██████████| 2880/2880 [03:04<00:00, 15.57it/s]\n",
      "Evaluating epoch 300: 100%|██████████| 1440/1440 [01:05<00:00, 22.13it/s]\n"
     ]
    },
    {
     "name": "stdout",
     "output_type": "stream",
     "text": [
      "Epoch: 300, Train Loss: 128.4951737, Eval Loss: 2332.9734215\n"
     ]
    },
    {
     "name": "stderr",
     "output_type": "stream",
     "text": [
      "Training epoch 301: 100%|██████████| 2880/2880 [03:04<00:00, 15.60it/s]\n",
      "Evaluating epoch 301: 100%|██████████| 1440/1440 [01:04<00:00, 22.18it/s]\n"
     ]
    },
    {
     "name": "stdout",
     "output_type": "stream",
     "text": [
      "Epoch: 301, Train Loss: 128.4614909, Eval Loss: 2334.5748083\n"
     ]
    },
    {
     "name": "stderr",
     "output_type": "stream",
     "text": [
      "Training epoch 302: 100%|██████████| 2880/2880 [03:04<00:00, 15.58it/s]\n",
      "Evaluating epoch 302: 100%|██████████| 1440/1440 [01:05<00:00, 22.15it/s]\n"
     ]
    },
    {
     "name": "stdout",
     "output_type": "stream",
     "text": [
      "Epoch: 302, Train Loss: 128.4105825, Eval Loss: 2335.5202798\n"
     ]
    },
    {
     "name": "stderr",
     "output_type": "stream",
     "text": [
      "Training epoch 303: 100%|██████████| 2880/2880 [03:04<00:00, 15.57it/s]\n",
      "Evaluating epoch 303: 100%|██████████| 1440/1440 [01:04<00:00, 22.26it/s]\n"
     ]
    },
    {
     "name": "stdout",
     "output_type": "stream",
     "text": [
      "Epoch: 303, Train Loss: 128.3862219, Eval Loss: 2338.2756891\n"
     ]
    },
    {
     "name": "stderr",
     "output_type": "stream",
     "text": [
      "Training epoch 304: 100%|██████████| 2880/2880 [03:04<00:00, 15.58it/s]\n",
      "Evaluating epoch 304: 100%|██████████| 1440/1440 [01:04<00:00, 22.22it/s]\n"
     ]
    },
    {
     "name": "stdout",
     "output_type": "stream",
     "text": [
      "Epoch: 304, Train Loss: 128.3421646, Eval Loss: 2339.5759697\n"
     ]
    },
    {
     "name": "stderr",
     "output_type": "stream",
     "text": [
      "Training epoch 305: 100%|██████████| 2880/2880 [03:04<00:00, 15.60it/s]\n",
      "Evaluating epoch 305: 100%|██████████| 1440/1440 [01:04<00:00, 22.29it/s]\n"
     ]
    },
    {
     "name": "stdout",
     "output_type": "stream",
     "text": [
      "Epoch: 305, Train Loss: 128.3222958, Eval Loss: 2341.2484239\n"
     ]
    },
    {
     "name": "stderr",
     "output_type": "stream",
     "text": [
      "Training epoch 306: 100%|██████████| 2880/2880 [03:05<00:00, 15.56it/s]\n",
      "Evaluating epoch 306: 100%|██████████| 1440/1440 [01:04<00:00, 22.32it/s]\n"
     ]
    },
    {
     "name": "stdout",
     "output_type": "stream",
     "text": [
      "Epoch: 306, Train Loss: 128.2974002, Eval Loss: 2340.9063703\n"
     ]
    },
    {
     "name": "stderr",
     "output_type": "stream",
     "text": [
      "Training epoch 307: 100%|██████████| 2880/2880 [03:04<00:00, 15.60it/s]\n",
      "Evaluating epoch 307: 100%|██████████| 1440/1440 [01:04<00:00, 22.25it/s]\n"
     ]
    },
    {
     "name": "stdout",
     "output_type": "stream",
     "text": [
      "Epoch: 307, Train Loss: 128.2811020, Eval Loss: 2340.5279586\n"
     ]
    },
    {
     "name": "stderr",
     "output_type": "stream",
     "text": [
      "Training epoch 308: 100%|██████████| 2880/2880 [03:04<00:00, 15.57it/s]\n",
      "Evaluating epoch 308: 100%|██████████| 1440/1440 [01:04<00:00, 22.16it/s]\n"
     ]
    },
    {
     "name": "stdout",
     "output_type": "stream",
     "text": [
      "Epoch: 308, Train Loss: 128.2517333, Eval Loss: 2341.1018421\n"
     ]
    },
    {
     "name": "stderr",
     "output_type": "stream",
     "text": [
      "Training epoch 309: 100%|██████████| 2880/2880 [03:04<00:00, 15.58it/s]\n",
      "Evaluating epoch 309: 100%|██████████| 1440/1440 [01:04<00:00, 22.22it/s]\n"
     ]
    },
    {
     "name": "stdout",
     "output_type": "stream",
     "text": [
      "Epoch: 309, Train Loss: 128.2168297, Eval Loss: 2343.1628597\n"
     ]
    },
    {
     "name": "stderr",
     "output_type": "stream",
     "text": [
      "Training epoch 310: 100%|██████████| 2880/2880 [03:04<00:00, 15.61it/s]\n",
      "Evaluating epoch 310: 100%|██████████| 1440/1440 [01:04<00:00, 22.25it/s]\n"
     ]
    },
    {
     "name": "stdout",
     "output_type": "stream",
     "text": [
      "Epoch: 310, Train Loss: 128.2043267, Eval Loss: 2345.5115322\n"
     ]
    },
    {
     "name": "stderr",
     "output_type": "stream",
     "text": [
      "Training epoch 311: 100%|██████████| 2880/2880 [03:04<00:00, 15.58it/s]\n",
      "Evaluating epoch 311: 100%|██████████| 1440/1440 [01:04<00:00, 22.24it/s]\n"
     ]
    },
    {
     "name": "stdout",
     "output_type": "stream",
     "text": [
      "Epoch: 311, Train Loss: 128.1771144, Eval Loss: 2345.6594885\n"
     ]
    },
    {
     "name": "stderr",
     "output_type": "stream",
     "text": [
      "Training epoch 312: 100%|██████████| 2880/2880 [03:04<00:00, 15.61it/s]\n",
      "Evaluating epoch 312: 100%|██████████| 1440/1440 [01:04<00:00, 22.20it/s]\n"
     ]
    },
    {
     "name": "stdout",
     "output_type": "stream",
     "text": [
      "Epoch: 312, Train Loss: 128.1999662, Eval Loss: 2347.3013615\n"
     ]
    },
    {
     "name": "stderr",
     "output_type": "stream",
     "text": [
      "Training epoch 313: 100%|██████████| 2880/2880 [03:04<00:00, 15.60it/s]\n",
      "Evaluating epoch 313: 100%|██████████| 1440/1440 [01:04<00:00, 22.27it/s]\n"
     ]
    },
    {
     "name": "stdout",
     "output_type": "stream",
     "text": [
      "Epoch: 313, Train Loss: 128.1423936, Eval Loss: 2346.8992258\n"
     ]
    },
    {
     "name": "stderr",
     "output_type": "stream",
     "text": [
      "Training epoch 314: 100%|██████████| 2880/2880 [03:04<00:00, 15.59it/s]\n",
      "Evaluating epoch 314: 100%|██████████| 1440/1440 [01:04<00:00, 22.20it/s]\n"
     ]
    },
    {
     "name": "stdout",
     "output_type": "stream",
     "text": [
      "Epoch: 314, Train Loss: 128.1710204, Eval Loss: 2348.7411649\n"
     ]
    },
    {
     "name": "stderr",
     "output_type": "stream",
     "text": [
      "Training epoch 315: 100%|██████████| 2880/2880 [03:04<00:00, 15.58it/s]\n",
      "Evaluating epoch 315: 100%|██████████| 1440/1440 [01:04<00:00, 22.22it/s]\n"
     ]
    },
    {
     "name": "stdout",
     "output_type": "stream",
     "text": [
      "Epoch: 315, Train Loss: 128.1216379, Eval Loss: 2350.1929192\n"
     ]
    },
    {
     "name": "stderr",
     "output_type": "stream",
     "text": [
      "Training epoch 316: 100%|██████████| 2880/2880 [03:04<00:00, 15.62it/s]\n",
      "Evaluating epoch 316: 100%|██████████| 1440/1440 [01:05<00:00, 22.10it/s]\n"
     ]
    },
    {
     "name": "stdout",
     "output_type": "stream",
     "text": [
      "Epoch: 316, Train Loss: 128.0883181, Eval Loss: 2350.2620464\n"
     ]
    },
    {
     "name": "stderr",
     "output_type": "stream",
     "text": [
      "Training epoch 317: 100%|██████████| 2880/2880 [03:05<00:00, 15.57it/s]\n",
      "Evaluating epoch 317: 100%|██████████| 1440/1440 [01:04<00:00, 22.24it/s]\n"
     ]
    },
    {
     "name": "stdout",
     "output_type": "stream",
     "text": [
      "Epoch: 317, Train Loss: 128.0782556, Eval Loss: 2351.6158560\n"
     ]
    },
    {
     "name": "stderr",
     "output_type": "stream",
     "text": [
      "Training epoch 318: 100%|██████████| 2880/2880 [03:04<00:00, 15.60it/s]\n",
      "Evaluating epoch 318: 100%|██████████| 1440/1440 [01:04<00:00, 22.23it/s]\n"
     ]
    },
    {
     "name": "stdout",
     "output_type": "stream",
     "text": [
      "Epoch: 318, Train Loss: 128.0138071, Eval Loss: 2353.0864233\n"
     ]
    },
    {
     "name": "stderr",
     "output_type": "stream",
     "text": [
      "Training epoch 319: 100%|██████████| 2880/2880 [03:04<00:00, 15.62it/s]\n",
      "Evaluating epoch 319: 100%|██████████| 1440/1440 [01:04<00:00, 22.25it/s]\n"
     ]
    },
    {
     "name": "stdout",
     "output_type": "stream",
     "text": [
      "Epoch: 319, Train Loss: 128.0191214, Eval Loss: 2354.2637484\n"
     ]
    },
    {
     "name": "stderr",
     "output_type": "stream",
     "text": [
      "Training epoch 320: 100%|██████████| 2880/2880 [03:04<00:00, 15.59it/s]\n",
      "Evaluating epoch 320: 100%|██████████| 1440/1440 [01:04<00:00, 22.27it/s]\n"
     ]
    },
    {
     "name": "stdout",
     "output_type": "stream",
     "text": [
      "Epoch: 320, Train Loss: 128.0200099, Eval Loss: 2354.9492962\n"
     ]
    },
    {
     "name": "stderr",
     "output_type": "stream",
     "text": [
      "Training epoch 321: 100%|██████████| 2880/2880 [03:04<00:00, 15.59it/s]\n",
      "Evaluating epoch 321: 100%|██████████| 1440/1440 [01:05<00:00, 22.14it/s]\n"
     ]
    },
    {
     "name": "stdout",
     "output_type": "stream",
     "text": [
      "Epoch: 321, Train Loss: 127.9995780, Eval Loss: 2355.4531319\n"
     ]
    },
    {
     "name": "stderr",
     "output_type": "stream",
     "text": [
      "Training epoch 322: 100%|██████████| 2880/2880 [03:04<00:00, 15.58it/s]\n",
      "Evaluating epoch 322: 100%|██████████| 1440/1440 [01:10<00:00, 20.43it/s]\n"
     ]
    },
    {
     "name": "stdout",
     "output_type": "stream",
     "text": [
      "Epoch: 322, Train Loss: 127.9894702, Eval Loss: 2356.2293204\n"
     ]
    },
    {
     "name": "stderr",
     "output_type": "stream",
     "text": [
      "Training epoch 323: 100%|██████████| 2880/2880 [03:19<00:00, 14.43it/s]\n",
      "Evaluating epoch 323: 100%|██████████| 1440/1440 [01:11<00:00, 20.15it/s]\n"
     ]
    },
    {
     "name": "stdout",
     "output_type": "stream",
     "text": [
      "Epoch: 323, Train Loss: 127.9652194, Eval Loss: 2356.8288177\n"
     ]
    },
    {
     "name": "stderr",
     "output_type": "stream",
     "text": [
      "Training epoch 324: 100%|██████████| 2880/2880 [03:05<00:00, 15.54it/s]\n",
      "Evaluating epoch 324: 100%|██████████| 1440/1440 [01:04<00:00, 22.23it/s]\n"
     ]
    },
    {
     "name": "stdout",
     "output_type": "stream",
     "text": [
      "Epoch: 324, Train Loss: 127.9441750, Eval Loss: 2358.0934891\n"
     ]
    },
    {
     "name": "stderr",
     "output_type": "stream",
     "text": [
      "Training epoch 325: 100%|██████████| 2880/2880 [03:04<00:00, 15.59it/s]\n",
      "Evaluating epoch 325: 100%|██████████| 1440/1440 [01:04<00:00, 22.25it/s]\n"
     ]
    },
    {
     "name": "stdout",
     "output_type": "stream",
     "text": [
      "Epoch: 325, Train Loss: 127.9189852, Eval Loss: 2358.2746299\n"
     ]
    },
    {
     "name": "stderr",
     "output_type": "stream",
     "text": [
      "Training epoch 326: 100%|██████████| 2880/2880 [03:04<00:00, 15.57it/s]\n",
      "Evaluating epoch 326: 100%|██████████| 1440/1440 [01:04<00:00, 22.19it/s]\n"
     ]
    },
    {
     "name": "stdout",
     "output_type": "stream",
     "text": [
      "Epoch: 326, Train Loss: 127.8907982, Eval Loss: 2360.0992227\n"
     ]
    },
    {
     "name": "stderr",
     "output_type": "stream",
     "text": [
      "Training epoch 327: 100%|██████████| 2880/2880 [03:04<00:00, 15.62it/s]\n",
      "Evaluating epoch 327: 100%|██████████| 1440/1440 [01:04<00:00, 22.24it/s]\n"
     ]
    },
    {
     "name": "stdout",
     "output_type": "stream",
     "text": [
      "Epoch: 327, Train Loss: 127.8652533, Eval Loss: 2360.9830240\n"
     ]
    },
    {
     "name": "stderr",
     "output_type": "stream",
     "text": [
      "Training epoch 328: 100%|██████████| 2880/2880 [03:04<00:00, 15.59it/s]\n",
      "Evaluating epoch 328: 100%|██████████| 1440/1440 [01:04<00:00, 22.19it/s]\n"
     ]
    },
    {
     "name": "stdout",
     "output_type": "stream",
     "text": [
      "Epoch: 328, Train Loss: 127.8840815, Eval Loss: 2361.8699961\n"
     ]
    },
    {
     "name": "stderr",
     "output_type": "stream",
     "text": [
      "Training epoch 329: 100%|██████████| 2880/2880 [03:04<00:00, 15.59it/s]\n",
      "Evaluating epoch 329: 100%|██████████| 1440/1440 [01:04<00:00, 22.26it/s]\n"
     ]
    },
    {
     "name": "stdout",
     "output_type": "stream",
     "text": [
      "Epoch: 329, Train Loss: 127.8731896, Eval Loss: 2364.1419234\n"
     ]
    },
    {
     "name": "stderr",
     "output_type": "stream",
     "text": [
      "Training epoch 330: 100%|██████████| 2880/2880 [03:04<00:00, 15.57it/s]\n",
      "Evaluating epoch 330: 100%|██████████| 1440/1440 [01:04<00:00, 22.29it/s]\n"
     ]
    },
    {
     "name": "stdout",
     "output_type": "stream",
     "text": [
      "Epoch: 330, Train Loss: 127.8306192, Eval Loss: 2366.2915322\n"
     ]
    },
    {
     "name": "stderr",
     "output_type": "stream",
     "text": [
      "Training epoch 331: 100%|██████████| 2880/2880 [03:04<00:00, 15.61it/s]\n",
      "Evaluating epoch 331: 100%|██████████| 1440/1440 [01:04<00:00, 22.25it/s]\n"
     ]
    },
    {
     "name": "stdout",
     "output_type": "stream",
     "text": [
      "Epoch: 331, Train Loss: 127.8341985, Eval Loss: 2365.4505361\n"
     ]
    },
    {
     "name": "stderr",
     "output_type": "stream",
     "text": [
      "Training epoch 332: 100%|██████████| 2880/2880 [03:04<00:00, 15.61it/s]\n",
      "Evaluating epoch 332: 100%|██████████| 1440/1440 [01:04<00:00, 22.25it/s]\n"
     ]
    },
    {
     "name": "stdout",
     "output_type": "stream",
     "text": [
      "Epoch: 332, Train Loss: 127.7980921, Eval Loss: 2365.4736139\n"
     ]
    },
    {
     "name": "stderr",
     "output_type": "stream",
     "text": [
      "Training epoch 333: 100%|██████████| 2880/2880 [03:04<00:00, 15.62it/s]\n",
      "Evaluating epoch 333: 100%|██████████| 1440/1440 [01:04<00:00, 22.26it/s]\n"
     ]
    },
    {
     "name": "stdout",
     "output_type": "stream",
     "text": [
      "Epoch: 333, Train Loss: 127.8138994, Eval Loss: 2366.3803315\n"
     ]
    },
    {
     "name": "stderr",
     "output_type": "stream",
     "text": [
      "Training epoch 334: 100%|██████████| 2880/2880 [03:04<00:00, 15.61it/s]\n",
      "Evaluating epoch 334: 100%|██████████| 1440/1440 [01:04<00:00, 22.21it/s]\n"
     ]
    },
    {
     "name": "stdout",
     "output_type": "stream",
     "text": [
      "Epoch: 334, Train Loss: 127.7948767, Eval Loss: 2368.2681768\n"
     ]
    },
    {
     "name": "stderr",
     "output_type": "stream",
     "text": [
      "Training epoch 335: 100%|██████████| 2880/2880 [03:04<00:00, 15.61it/s]\n",
      "Evaluating epoch 335: 100%|██████████| 1440/1440 [01:04<00:00, 22.20it/s]\n"
     ]
    },
    {
     "name": "stdout",
     "output_type": "stream",
     "text": [
      "Epoch: 335, Train Loss: 127.7840850, Eval Loss: 2369.7754290\n"
     ]
    },
    {
     "name": "stderr",
     "output_type": "stream",
     "text": [
      "Training epoch 336: 100%|██████████| 2880/2880 [03:04<00:00, 15.63it/s]\n",
      "Evaluating epoch 336: 100%|██████████| 1440/1440 [01:04<00:00, 22.22it/s]\n"
     ]
    },
    {
     "name": "stdout",
     "output_type": "stream",
     "text": [
      "Epoch: 336, Train Loss: 127.7475920, Eval Loss: 2370.5914913\n"
     ]
    },
    {
     "name": "stderr",
     "output_type": "stream",
     "text": [
      "Training epoch 337: 100%|██████████| 2880/2880 [03:04<00:00, 15.61it/s]\n",
      "Evaluating epoch 337: 100%|██████████| 1440/1440 [01:04<00:00, 22.18it/s]\n"
     ]
    },
    {
     "name": "stdout",
     "output_type": "stream",
     "text": [
      "Epoch: 337, Train Loss: 127.7352097, Eval Loss: 2370.5938479\n"
     ]
    },
    {
     "name": "stderr",
     "output_type": "stream",
     "text": [
      "Training epoch 338: 100%|██████████| 2880/2880 [03:04<00:00, 15.58it/s]\n",
      "Evaluating epoch 338: 100%|██████████| 1440/1440 [01:04<00:00, 22.27it/s]\n"
     ]
    },
    {
     "name": "stdout",
     "output_type": "stream",
     "text": [
      "Epoch: 338, Train Loss: 127.7313059, Eval Loss: 2372.3056427\n"
     ]
    },
    {
     "name": "stderr",
     "output_type": "stream",
     "text": [
      "Training epoch 339: 100%|██████████| 2880/2880 [03:04<00:00, 15.59it/s]\n",
      "Evaluating epoch 339: 100%|██████████| 1440/1440 [01:04<00:00, 22.24it/s]\n"
     ]
    },
    {
     "name": "stdout",
     "output_type": "stream",
     "text": [
      "Epoch: 339, Train Loss: 127.7103674, Eval Loss: 2372.3091519\n"
     ]
    },
    {
     "name": "stderr",
     "output_type": "stream",
     "text": [
      "Training epoch 340: 100%|██████████| 2880/2880 [03:04<00:00, 15.58it/s]\n",
      "Evaluating epoch 340: 100%|██████████| 1440/1440 [01:04<00:00, 22.23it/s]\n"
     ]
    },
    {
     "name": "stdout",
     "output_type": "stream",
     "text": [
      "Epoch: 340, Train Loss: 127.6804837, Eval Loss: 2370.7981388\n"
     ]
    },
    {
     "name": "stderr",
     "output_type": "stream",
     "text": [
      "Training epoch 341: 100%|██████████| 2880/2880 [03:04<00:00, 15.60it/s]\n",
      "Evaluating epoch 341: 100%|██████████| 1440/1440 [01:04<00:00, 22.22it/s]\n"
     ]
    },
    {
     "name": "stdout",
     "output_type": "stream",
     "text": [
      "Epoch: 341, Train Loss: 127.6688766, Eval Loss: 2374.8214399\n"
     ]
    },
    {
     "name": "stderr",
     "output_type": "stream",
     "text": [
      "Training epoch 342: 100%|██████████| 2880/2880 [03:04<00:00, 15.58it/s]\n",
      "Evaluating epoch 342: 100%|██████████| 1440/1440 [01:04<00:00, 22.21it/s]\n"
     ]
    },
    {
     "name": "stdout",
     "output_type": "stream",
     "text": [
      "Epoch: 342, Train Loss: 127.6448586, Eval Loss: 2373.0200442\n"
     ]
    },
    {
     "name": "stderr",
     "output_type": "stream",
     "text": [
      "Training epoch 343: 100%|██████████| 2880/2880 [03:04<00:00, 15.59it/s]\n",
      "Evaluating epoch 343: 100%|██████████| 1440/1440 [01:04<00:00, 22.27it/s]\n"
     ]
    },
    {
     "name": "stdout",
     "output_type": "stream",
     "text": [
      "Epoch: 343, Train Loss: 127.5772408, Eval Loss: 2373.5033169\n"
     ]
    },
    {
     "name": "stderr",
     "output_type": "stream",
     "text": [
      "Training epoch 344: 100%|██████████| 2880/2880 [03:04<00:00, 15.60it/s]\n",
      "Evaluating epoch 344: 100%|██████████| 1440/1440 [01:04<00:00, 22.24it/s]\n"
     ]
    },
    {
     "name": "stdout",
     "output_type": "stream",
     "text": [
      "Epoch: 344, Train Loss: 127.6111366, Eval Loss: 2371.9268941\n"
     ]
    },
    {
     "name": "stderr",
     "output_type": "stream",
     "text": [
      "Training epoch 345: 100%|██████████| 2880/2880 [03:04<00:00, 15.60it/s]\n",
      "Evaluating epoch 345: 100%|██████████| 1440/1440 [01:04<00:00, 22.24it/s]\n"
     ]
    },
    {
     "name": "stdout",
     "output_type": "stream",
     "text": [
      "Epoch: 345, Train Loss: 127.5516841, Eval Loss: 2372.6340045\n"
     ]
    },
    {
     "name": "stderr",
     "output_type": "stream",
     "text": [
      "Training epoch 346: 100%|██████████| 2880/2880 [03:04<00:00, 15.59it/s]\n",
      "Evaluating epoch 346: 100%|██████████| 1440/1440 [01:04<00:00, 22.24it/s]\n"
     ]
    },
    {
     "name": "stdout",
     "output_type": "stream",
     "text": [
      "Epoch: 346, Train Loss: 127.5521990, Eval Loss: 2373.3362536\n"
     ]
    },
    {
     "name": "stderr",
     "output_type": "stream",
     "text": [
      "Training epoch 347: 100%|██████████| 2880/2880 [03:04<00:00, 15.59it/s]\n",
      "Evaluating epoch 347: 100%|██████████| 1440/1440 [01:04<00:00, 22.21it/s]\n"
     ]
    },
    {
     "name": "stdout",
     "output_type": "stream",
     "text": [
      "Epoch: 347, Train Loss: 127.5208452, Eval Loss: 2375.0846638\n"
     ]
    },
    {
     "name": "stderr",
     "output_type": "stream",
     "text": [
      "Training epoch 348: 100%|██████████| 2880/2880 [03:04<00:00, 15.59it/s]\n",
      "Evaluating epoch 348: 100%|██████████| 1440/1440 [01:04<00:00, 22.23it/s]\n"
     ]
    },
    {
     "name": "stdout",
     "output_type": "stream",
     "text": [
      "Epoch: 348, Train Loss: 127.5217313, Eval Loss: 2374.7728172\n"
     ]
    },
    {
     "name": "stderr",
     "output_type": "stream",
     "text": [
      "Training epoch 349: 100%|██████████| 2880/2880 [03:04<00:00, 15.57it/s]\n",
      "Evaluating epoch 349: 100%|██████████| 1440/1440 [01:04<00:00, 22.21it/s]\n"
     ]
    },
    {
     "name": "stdout",
     "output_type": "stream",
     "text": [
      "Epoch: 349, Train Loss: 127.5386715, Eval Loss: 2374.6178894\n"
     ]
    },
    {
     "name": "stderr",
     "output_type": "stream",
     "text": [
      "Training epoch 350: 100%|██████████| 2880/2880 [03:04<00:00, 15.61it/s]\n",
      "Evaluating epoch 350: 100%|██████████| 1440/1440 [01:05<00:00, 22.06it/s]\n"
     ]
    },
    {
     "name": "stdout",
     "output_type": "stream",
     "text": [
      "Epoch: 350, Train Loss: 127.5040103, Eval Loss: 2373.8826516\n"
     ]
    },
    {
     "name": "stderr",
     "output_type": "stream",
     "text": [
      "Training epoch 351: 100%|██████████| 2880/2880 [03:04<00:00, 15.57it/s]\n",
      "Evaluating epoch 351: 100%|██████████| 1440/1440 [01:04<00:00, 22.28it/s]\n"
     ]
    },
    {
     "name": "stdout",
     "output_type": "stream",
     "text": [
      "Epoch: 351, Train Loss: 127.4860756, Eval Loss: 2376.1839358\n"
     ]
    },
    {
     "name": "stderr",
     "output_type": "stream",
     "text": [
      "Training epoch 352: 100%|██████████| 2880/2880 [03:04<00:00, 15.59it/s]\n",
      "Evaluating epoch 352: 100%|██████████| 1440/1440 [01:04<00:00, 22.26it/s]\n"
     ]
    },
    {
     "name": "stdout",
     "output_type": "stream",
     "text": [
      "Epoch: 352, Train Loss: 127.4508901, Eval Loss: 2376.6234775\n"
     ]
    },
    {
     "name": "stderr",
     "output_type": "stream",
     "text": [
      "Training epoch 353: 100%|██████████| 2880/2880 [03:04<00:00, 15.60it/s]\n",
      "Evaluating epoch 353: 100%|██████████| 1440/1440 [01:04<00:00, 22.16it/s]\n"
     ]
    },
    {
     "name": "stdout",
     "output_type": "stream",
     "text": [
      "Epoch: 353, Train Loss: 127.4212467, Eval Loss: 2376.0491544\n"
     ]
    },
    {
     "name": "stderr",
     "output_type": "stream",
     "text": [
      "Training epoch 354: 100%|██████████| 2880/2880 [03:04<00:00, 15.60it/s]\n",
      "Evaluating epoch 354: 100%|██████████| 1440/1440 [01:04<00:00, 22.29it/s]\n"
     ]
    },
    {
     "name": "stdout",
     "output_type": "stream",
     "text": [
      "Epoch: 354, Train Loss: 127.4469182, Eval Loss: 2377.2792070\n"
     ]
    },
    {
     "name": "stderr",
     "output_type": "stream",
     "text": [
      "Training epoch 355: 100%|██████████| 2880/2880 [03:04<00:00, 15.58it/s]\n",
      "Evaluating epoch 355: 100%|██████████| 1440/1440 [01:05<00:00, 22.09it/s]\n"
     ]
    },
    {
     "name": "stdout",
     "output_type": "stream",
     "text": [
      "Epoch: 355, Train Loss: 127.4121796, Eval Loss: 2377.2010883\n"
     ]
    },
    {
     "name": "stderr",
     "output_type": "stream",
     "text": [
      "Training epoch 356: 100%|██████████| 2880/2880 [03:04<00:00, 15.59it/s]\n",
      "Evaluating epoch 356: 100%|██████████| 1440/1440 [01:04<00:00, 22.26it/s]\n"
     ]
    },
    {
     "name": "stdout",
     "output_type": "stream",
     "text": [
      "Epoch: 356, Train Loss: 127.3963541, Eval Loss: 2377.6611991\n"
     ]
    },
    {
     "name": "stderr",
     "output_type": "stream",
     "text": [
      "Training epoch 357: 100%|██████████| 2880/2880 [03:04<00:00, 15.58it/s]\n",
      "Evaluating epoch 357: 100%|██████████| 1440/1440 [01:04<00:00, 22.31it/s]\n"
     ]
    },
    {
     "name": "stdout",
     "output_type": "stream",
     "text": [
      "Epoch: 357, Train Loss: 127.4251917, Eval Loss: 2376.7357126\n"
     ]
    },
    {
     "name": "stderr",
     "output_type": "stream",
     "text": [
      "Training epoch 358: 100%|██████████| 2880/2880 [03:04<00:00, 15.61it/s]\n",
      "Evaluating epoch 358: 100%|██████████| 1440/1440 [01:04<00:00, 22.26it/s]\n"
     ]
    },
    {
     "name": "stdout",
     "output_type": "stream",
     "text": [
      "Epoch: 358, Train Loss: 127.3652241, Eval Loss: 2378.1380124\n"
     ]
    },
    {
     "name": "stderr",
     "output_type": "stream",
     "text": [
      "Training epoch 359: 100%|██████████| 2880/2880 [03:04<00:00, 15.59it/s]\n",
      "Evaluating epoch 359: 100%|██████████| 1440/1440 [01:04<00:00, 22.26it/s]\n"
     ]
    },
    {
     "name": "stdout",
     "output_type": "stream",
     "text": [
      "Epoch: 359, Train Loss: 127.3151250, Eval Loss: 2378.7149928\n"
     ]
    },
    {
     "name": "stderr",
     "output_type": "stream",
     "text": [
      "Training epoch 360: 100%|██████████| 2880/2880 [03:04<00:00, 15.61it/s]\n",
      "Evaluating epoch 360: 100%|██████████| 1440/1440 [01:05<00:00, 22.15it/s]\n"
     ]
    },
    {
     "name": "stdout",
     "output_type": "stream",
     "text": [
      "Epoch: 360, Train Loss: 127.3364910, Eval Loss: 2377.6382682\n"
     ]
    },
    {
     "name": "stderr",
     "output_type": "stream",
     "text": [
      "Training epoch 361: 100%|██████████| 2880/2880 [03:04<00:00, 15.63it/s]\n",
      "Evaluating epoch 361: 100%|██████████| 1440/1440 [01:05<00:00, 22.15it/s]\n"
     ]
    },
    {
     "name": "stdout",
     "output_type": "stream",
     "text": [
      "Epoch: 361, Train Loss: 127.3455811, Eval Loss: 2378.0258618\n"
     ]
    },
    {
     "name": "stderr",
     "output_type": "stream",
     "text": [
      "Training epoch 362: 100%|██████████| 2880/2880 [03:05<00:00, 15.56it/s]\n",
      "Evaluating epoch 362: 100%|██████████| 1440/1440 [01:04<00:00, 22.26it/s]\n"
     ]
    },
    {
     "name": "stdout",
     "output_type": "stream",
     "text": [
      "Epoch: 362, Train Loss: 127.2702566, Eval Loss: 2378.3441045\n"
     ]
    },
    {
     "name": "stderr",
     "output_type": "stream",
     "text": [
      "Training epoch 363: 100%|██████████| 2880/2880 [03:05<00:00, 15.56it/s]\n",
      "Evaluating epoch 363: 100%|██████████| 1440/1440 [01:05<00:00, 22.14it/s]\n"
     ]
    },
    {
     "name": "stdout",
     "output_type": "stream",
     "text": [
      "Epoch: 363, Train Loss: 127.2607207, Eval Loss: 2377.6916172\n"
     ]
    },
    {
     "name": "stderr",
     "output_type": "stream",
     "text": [
      "Training epoch 364: 100%|██████████| 2880/2880 [03:04<00:00, 15.59it/s]\n",
      "Evaluating epoch 364: 100%|██████████| 1440/1440 [01:04<00:00, 22.24it/s]\n"
     ]
    },
    {
     "name": "stdout",
     "output_type": "stream",
     "text": [
      "Epoch: 364, Train Loss: 127.2808679, Eval Loss: 2377.2715116\n"
     ]
    },
    {
     "name": "stderr",
     "output_type": "stream",
     "text": [
      "Training epoch 365: 100%|██████████| 2880/2880 [03:04<00:00, 15.57it/s]\n",
      "Evaluating epoch 365: 100%|██████████| 1440/1440 [01:04<00:00, 22.22it/s]\n"
     ]
    },
    {
     "name": "stdout",
     "output_type": "stream",
     "text": [
      "Epoch: 365, Train Loss: 127.2279749, Eval Loss: 2378.0150983\n"
     ]
    },
    {
     "name": "stderr",
     "output_type": "stream",
     "text": [
      "Training epoch 366: 100%|██████████| 2880/2880 [03:04<00:00, 15.61it/s]\n",
      "Evaluating epoch 366: 100%|██████████| 1440/1440 [01:04<00:00, 22.17it/s]\n"
     ]
    },
    {
     "name": "stdout",
     "output_type": "stream",
     "text": [
      "Epoch: 366, Train Loss: 127.2531669, Eval Loss: 2378.5963941\n"
     ]
    },
    {
     "name": "stderr",
     "output_type": "stream",
     "text": [
      "Training epoch 367: 100%|██████████| 2880/2880 [03:04<00:00, 15.57it/s]\n",
      "Evaluating epoch 367: 100%|██████████| 1440/1440 [01:04<00:00, 22.27it/s]\n"
     ]
    },
    {
     "name": "stdout",
     "output_type": "stream",
     "text": [
      "Epoch: 367, Train Loss: 127.2637341, Eval Loss: 2381.8510979\n"
     ]
    },
    {
     "name": "stderr",
     "output_type": "stream",
     "text": [
      "Training epoch 368: 100%|██████████| 2880/2880 [03:04<00:00, 15.59it/s]\n",
      "Evaluating epoch 368: 100%|██████████| 1440/1440 [01:04<00:00, 22.26it/s]\n"
     ]
    },
    {
     "name": "stdout",
     "output_type": "stream",
     "text": [
      "Epoch: 368, Train Loss: 127.2083229, Eval Loss: 2378.2225213\n"
     ]
    },
    {
     "name": "stderr",
     "output_type": "stream",
     "text": [
      "Training epoch 369: 100%|██████████| 2880/2880 [03:04<00:00, 15.58it/s]\n",
      "Evaluating epoch 369: 100%|██████████| 1440/1440 [01:04<00:00, 22.26it/s]\n"
     ]
    },
    {
     "name": "stdout",
     "output_type": "stream",
     "text": [
      "Epoch: 369, Train Loss: 127.1758357, Eval Loss: 2377.8171208\n"
     ]
    },
    {
     "name": "stderr",
     "output_type": "stream",
     "text": [
      "Training epoch 370: 100%|██████████| 2880/2880 [03:04<00:00, 15.61it/s]\n",
      "Evaluating epoch 370: 100%|██████████| 1440/1440 [01:05<00:00, 22.11it/s]\n"
     ]
    },
    {
     "name": "stdout",
     "output_type": "stream",
     "text": [
      "Epoch: 370, Train Loss: 127.1867989, Eval Loss: 2378.5534797\n"
     ]
    },
    {
     "name": "stderr",
     "output_type": "stream",
     "text": [
      "Training epoch 371: 100%|██████████| 2880/2880 [03:05<00:00, 15.56it/s]\n",
      "Evaluating epoch 371: 100%|██████████| 1440/1440 [01:04<00:00, 22.23it/s]\n"
     ]
    },
    {
     "name": "stdout",
     "output_type": "stream",
     "text": [
      "Epoch: 371, Train Loss: 127.1960682, Eval Loss: 2378.8159101\n"
     ]
    },
    {
     "name": "stderr",
     "output_type": "stream",
     "text": [
      "Training epoch 372: 100%|██████████| 2880/2880 [03:05<00:00, 15.57it/s]\n",
      "Evaluating epoch 372: 100%|██████████| 1440/1440 [01:04<00:00, 22.29it/s]\n"
     ]
    },
    {
     "name": "stdout",
     "output_type": "stream",
     "text": [
      "Epoch: 372, Train Loss: 127.1690140, Eval Loss: 2374.4337826\n"
     ]
    },
    {
     "name": "stderr",
     "output_type": "stream",
     "text": [
      "Training epoch 373: 100%|██████████| 2880/2880 [03:04<00:00, 15.59it/s]\n",
      "Evaluating epoch 373: 100%|██████████| 1440/1440 [01:04<00:00, 22.30it/s]\n"
     ]
    },
    {
     "name": "stdout",
     "output_type": "stream",
     "text": [
      "Epoch: 373, Train Loss: 127.1537388, Eval Loss: 2374.7187364\n"
     ]
    },
    {
     "name": "stderr",
     "output_type": "stream",
     "text": [
      "Training epoch 374: 100%|██████████| 2880/2880 [03:05<00:00, 15.56it/s]\n",
      "Evaluating epoch 374: 100%|██████████| 1440/1440 [01:04<00:00, 22.30it/s]\n"
     ]
    },
    {
     "name": "stdout",
     "output_type": "stream",
     "text": [
      "Epoch: 374, Train Loss: 127.1367069, Eval Loss: 2377.5176088\n"
     ]
    },
    {
     "name": "stderr",
     "output_type": "stream",
     "text": [
      "Training epoch 375: 100%|██████████| 2880/2880 [03:04<00:00, 15.57it/s]\n",
      "Evaluating epoch 375: 100%|██████████| 1440/1440 [01:04<00:00, 22.25it/s]\n"
     ]
    },
    {
     "name": "stdout",
     "output_type": "stream",
     "text": [
      "Epoch: 375, Train Loss: 127.0983198, Eval Loss: 2374.7433168\n"
     ]
    },
    {
     "name": "stderr",
     "output_type": "stream",
     "text": [
      "Training epoch 376: 100%|██████████| 2880/2880 [03:04<00:00, 15.59it/s]\n",
      "Evaluating epoch 376: 100%|██████████| 1440/1440 [01:04<00:00, 22.16it/s]\n"
     ]
    },
    {
     "name": "stdout",
     "output_type": "stream",
     "text": [
      "Epoch: 376, Train Loss: 127.0991009, Eval Loss: 2375.0102458\n"
     ]
    },
    {
     "name": "stderr",
     "output_type": "stream",
     "text": [
      "Training epoch 377: 100%|██████████| 2880/2880 [03:04<00:00, 15.57it/s]\n",
      "Evaluating epoch 377: 100%|██████████| 1440/1440 [01:04<00:00, 22.23it/s]\n"
     ]
    },
    {
     "name": "stdout",
     "output_type": "stream",
     "text": [
      "Epoch: 377, Train Loss: 127.0850177, Eval Loss: 2373.8058174\n"
     ]
    },
    {
     "name": "stderr",
     "output_type": "stream",
     "text": [
      "Training epoch 378: 100%|██████████| 2880/2880 [03:04<00:00, 15.58it/s]\n",
      "Evaluating epoch 378: 100%|██████████| 1440/1440 [01:04<00:00, 22.16it/s]\n"
     ]
    },
    {
     "name": "stdout",
     "output_type": "stream",
     "text": [
      "Epoch: 378, Train Loss: 127.0780732, Eval Loss: 2374.4677171\n"
     ]
    },
    {
     "name": "stderr",
     "output_type": "stream",
     "text": [
      "Training epoch 379: 100%|██████████| 2880/2880 [03:05<00:00, 15.56it/s]\n",
      "Evaluating epoch 379: 100%|██████████| 1440/1440 [01:05<00:00, 22.13it/s]\n"
     ]
    },
    {
     "name": "stdout",
     "output_type": "stream",
     "text": [
      "Epoch: 379, Train Loss: 127.0704429, Eval Loss: 2374.6414087\n"
     ]
    },
    {
     "name": "stderr",
     "output_type": "stream",
     "text": [
      "Training epoch 380: 100%|██████████| 2880/2880 [03:04<00:00, 15.58it/s]\n",
      "Evaluating epoch 380: 100%|██████████| 1440/1440 [01:04<00:00, 22.28it/s]\n"
     ]
    },
    {
     "name": "stdout",
     "output_type": "stream",
     "text": [
      "Epoch: 380, Train Loss: 127.0833419, Eval Loss: 2373.6943977\n"
     ]
    },
    {
     "name": "stderr",
     "output_type": "stream",
     "text": [
      "Training epoch 381: 100%|██████████| 2880/2880 [03:04<00:00, 15.60it/s]\n",
      "Evaluating epoch 381: 100%|██████████| 1440/1440 [01:04<00:00, 22.24it/s]\n"
     ]
    },
    {
     "name": "stdout",
     "output_type": "stream",
     "text": [
      "Epoch: 381, Train Loss: 127.1023736, Eval Loss: 2374.5337840\n"
     ]
    },
    {
     "name": "stderr",
     "output_type": "stream",
     "text": [
      "Training epoch 382: 100%|██████████| 2880/2880 [03:05<00:00, 15.56it/s]\n",
      "Evaluating epoch 382: 100%|██████████| 1440/1440 [01:04<00:00, 22.23it/s]\n"
     ]
    },
    {
     "name": "stdout",
     "output_type": "stream",
     "text": [
      "Epoch: 382, Train Loss: 127.0488475, Eval Loss: 2377.3454445\n"
     ]
    },
    {
     "name": "stderr",
     "output_type": "stream",
     "text": [
      "Training epoch 383: 100%|██████████| 2880/2880 [03:04<00:00, 15.58it/s]\n",
      "Evaluating epoch 383: 100%|██████████| 1440/1440 [01:04<00:00, 22.18it/s]\n"
     ]
    },
    {
     "name": "stdout",
     "output_type": "stream",
     "text": [
      "Epoch: 383, Train Loss: 127.0552894, Eval Loss: 2375.8981492\n"
     ]
    },
    {
     "name": "stderr",
     "output_type": "stream",
     "text": [
      "Training epoch 384: 100%|██████████| 2880/2880 [03:04<00:00, 15.59it/s]\n",
      "Evaluating epoch 384: 100%|██████████| 1440/1440 [01:04<00:00, 22.33it/s]\n"
     ]
    },
    {
     "name": "stdout",
     "output_type": "stream",
     "text": [
      "Epoch: 384, Train Loss: 127.0505256, Eval Loss: 2375.7975724\n"
     ]
    },
    {
     "name": "stderr",
     "output_type": "stream",
     "text": [
      "Training epoch 385: 100%|██████████| 2880/2880 [03:04<00:00, 15.58it/s]\n",
      "Evaluating epoch 385: 100%|██████████| 1440/1440 [01:04<00:00, 22.21it/s]\n"
     ]
    },
    {
     "name": "stdout",
     "output_type": "stream",
     "text": [
      "Epoch: 385, Train Loss: 127.0417364, Eval Loss: 2375.0319862\n"
     ]
    },
    {
     "name": "stderr",
     "output_type": "stream",
     "text": [
      "Training epoch 386: 100%|██████████| 2880/2880 [03:05<00:00, 15.55it/s]\n",
      "Evaluating epoch 386: 100%|██████████| 1440/1440 [01:04<00:00, 22.22it/s]\n"
     ]
    },
    {
     "name": "stdout",
     "output_type": "stream",
     "text": [
      "Epoch: 386, Train Loss: 127.0726549, Eval Loss: 2377.0101734\n"
     ]
    },
    {
     "name": "stderr",
     "output_type": "stream",
     "text": [
      "Training epoch 387: 100%|██████████| 2880/2880 [03:05<00:00, 15.57it/s]\n",
      "Evaluating epoch 387: 100%|██████████| 1440/1440 [01:05<00:00, 22.15it/s]\n"
     ]
    },
    {
     "name": "stdout",
     "output_type": "stream",
     "text": [
      "Epoch: 387, Train Loss: 127.0424544, Eval Loss: 2375.6654847\n"
     ]
    },
    {
     "name": "stderr",
     "output_type": "stream",
     "text": [
      "Training epoch 388: 100%|██████████| 2880/2880 [03:04<00:00, 15.57it/s]\n",
      "Evaluating epoch 388: 100%|██████████| 1440/1440 [01:04<00:00, 22.28it/s]\n"
     ]
    },
    {
     "name": "stdout",
     "output_type": "stream",
     "text": [
      "Epoch: 388, Train Loss: 127.0207524, Eval Loss: 2372.8932936\n"
     ]
    },
    {
     "name": "stderr",
     "output_type": "stream",
     "text": [
      "Training epoch 389: 100%|██████████| 2880/2880 [03:04<00:00, 15.58it/s]\n",
      "Evaluating epoch 389: 100%|██████████| 1440/1440 [01:04<00:00, 22.20it/s]\n"
     ]
    },
    {
     "name": "stdout",
     "output_type": "stream",
     "text": [
      "Epoch: 389, Train Loss: 126.9834653, Eval Loss: 2374.1132783\n"
     ]
    },
    {
     "name": "stderr",
     "output_type": "stream",
     "text": [
      "Training epoch 390: 100%|██████████| 2880/2880 [03:04<00:00, 15.57it/s]\n",
      "Evaluating epoch 390: 100%|██████████| 1440/1440 [01:04<00:00, 22.27it/s]\n"
     ]
    },
    {
     "name": "stdout",
     "output_type": "stream",
     "text": [
      "Epoch: 390, Train Loss: 126.9924041, Eval Loss: 2373.4255582\n"
     ]
    },
    {
     "name": "stderr",
     "output_type": "stream",
     "text": [
      "Training epoch 391: 100%|██████████| 2880/2880 [03:04<00:00, 15.58it/s]\n",
      "Evaluating epoch 391: 100%|██████████| 1440/1440 [01:05<00:00, 22.09it/s]\n"
     ]
    },
    {
     "name": "stdout",
     "output_type": "stream",
     "text": [
      "Epoch: 391, Train Loss: 126.9743339, Eval Loss: 2372.0672375\n"
     ]
    },
    {
     "name": "stderr",
     "output_type": "stream",
     "text": [
      "Training epoch 392: 100%|██████████| 2880/2880 [03:04<00:00, 15.57it/s]\n",
      "Evaluating epoch 392: 100%|██████████| 1440/1440 [01:04<00:00, 22.19it/s]\n"
     ]
    },
    {
     "name": "stdout",
     "output_type": "stream",
     "text": [
      "Epoch: 392, Train Loss: 126.9821134, Eval Loss: 2370.7481435\n"
     ]
    },
    {
     "name": "stderr",
     "output_type": "stream",
     "text": [
      "Training epoch 393: 100%|██████████| 2880/2880 [03:05<00:00, 15.56it/s]\n",
      "Evaluating epoch 393: 100%|██████████| 1440/1440 [01:04<00:00, 22.32it/s]\n"
     ]
    },
    {
     "name": "stdout",
     "output_type": "stream",
     "text": [
      "Epoch: 393, Train Loss: 126.9636274, Eval Loss: 2370.4826586\n"
     ]
    },
    {
     "name": "stderr",
     "output_type": "stream",
     "text": [
      "Training epoch 394: 100%|██████████| 2880/2880 [03:05<00:00, 15.56it/s]\n",
      "Evaluating epoch 394: 100%|██████████| 1440/1440 [01:04<00:00, 22.29it/s]\n"
     ]
    },
    {
     "name": "stdout",
     "output_type": "stream",
     "text": [
      "Epoch: 394, Train Loss: 126.9654468, Eval Loss: 2367.1323989\n"
     ]
    },
    {
     "name": "stderr",
     "output_type": "stream",
     "text": [
      "Training epoch 395: 100%|██████████| 2880/2880 [03:04<00:00, 15.58it/s]\n",
      "Evaluating epoch 395: 100%|██████████| 1440/1440 [01:04<00:00, 22.24it/s]\n"
     ]
    },
    {
     "name": "stdout",
     "output_type": "stream",
     "text": [
      "Epoch: 395, Train Loss: 126.9662180, Eval Loss: 2369.1660289\n"
     ]
    },
    {
     "name": "stderr",
     "output_type": "stream",
     "text": [
      "Training epoch 396: 100%|██████████| 2880/2880 [03:05<00:00, 15.56it/s]\n",
      "Evaluating epoch 396: 100%|██████████| 1440/1440 [01:04<00:00, 22.25it/s]\n"
     ]
    },
    {
     "name": "stdout",
     "output_type": "stream",
     "text": [
      "Epoch: 396, Train Loss: 126.9477073, Eval Loss: 2367.8757339\n"
     ]
    },
    {
     "name": "stderr",
     "output_type": "stream",
     "text": [
      "Training epoch 397: 100%|██████████| 2880/2880 [03:04<00:00, 15.59it/s]\n",
      "Evaluating epoch 397: 100%|██████████| 1440/1440 [01:04<00:00, 22.27it/s]\n"
     ]
    },
    {
     "name": "stdout",
     "output_type": "stream",
     "text": [
      "Epoch: 397, Train Loss: 126.9222371, Eval Loss: 2368.2309360\n"
     ]
    },
    {
     "name": "stderr",
     "output_type": "stream",
     "text": [
      "Training epoch 398: 100%|██████████| 2880/2880 [03:04<00:00, 15.58it/s]\n",
      "Evaluating epoch 398: 100%|██████████| 1440/1440 [01:04<00:00, 22.16it/s]\n"
     ]
    },
    {
     "name": "stdout",
     "output_type": "stream",
     "text": [
      "Epoch: 398, Train Loss: 126.8884790, Eval Loss: 2367.0339883\n"
     ]
    },
    {
     "name": "stderr",
     "output_type": "stream",
     "text": [
      "Training epoch 399: 100%|██████████| 2880/2880 [03:05<00:00, 15.54it/s]\n",
      "Evaluating epoch 399: 100%|██████████| 1440/1440 [01:04<00:00, 22.24it/s]\n"
     ]
    },
    {
     "name": "stdout",
     "output_type": "stream",
     "text": [
      "Epoch: 399, Train Loss: 126.8840909, Eval Loss: 2365.9884807\n"
     ]
    },
    {
     "name": "stderr",
     "output_type": "stream",
     "text": [
      "Training epoch 400: 100%|██████████| 2880/2880 [03:04<00:00, 15.57it/s]\n",
      "Evaluating epoch 400: 100%|██████████| 1440/1440 [01:04<00:00, 22.25it/s]\n"
     ]
    },
    {
     "name": "stdout",
     "output_type": "stream",
     "text": [
      "Epoch: 400, Train Loss: 126.8457810, Eval Loss: 2364.8111079\n"
     ]
    },
    {
     "name": "stderr",
     "output_type": "stream",
     "text": [
      "Training epoch 401: 100%|██████████| 2880/2880 [03:04<00:00, 15.59it/s]\n",
      "Evaluating epoch 401: 100%|██████████| 1440/1440 [01:05<00:00, 22.15it/s]\n"
     ]
    },
    {
     "name": "stdout",
     "output_type": "stream",
     "text": [
      "Epoch: 401, Train Loss: 126.8260711, Eval Loss: 2365.8949814\n"
     ]
    },
    {
     "name": "stderr",
     "output_type": "stream",
     "text": [
      "Training epoch 402: 100%|██████████| 2880/2880 [03:04<00:00, 15.59it/s]\n",
      "Evaluating epoch 402: 100%|██████████| 1440/1440 [01:04<00:00, 22.25it/s]\n"
     ]
    },
    {
     "name": "stdout",
     "output_type": "stream",
     "text": [
      "Epoch: 402, Train Loss: 126.8192855, Eval Loss: 2362.2809483\n"
     ]
    },
    {
     "name": "stderr",
     "output_type": "stream",
     "text": [
      "Training epoch 403: 100%|██████████| 2880/2880 [03:04<00:00, 15.58it/s]\n",
      "Evaluating epoch 403: 100%|██████████| 1440/1440 [01:04<00:00, 22.27it/s]\n"
     ]
    },
    {
     "name": "stdout",
     "output_type": "stream",
     "text": [
      "Epoch: 403, Train Loss: 126.7870773, Eval Loss: 2362.6971630\n"
     ]
    },
    {
     "name": "stderr",
     "output_type": "stream",
     "text": [
      "Training epoch 404: 100%|██████████| 2880/2880 [03:05<00:00, 15.57it/s]\n",
      "Evaluating epoch 404: 100%|██████████| 1440/1440 [01:04<00:00, 22.18it/s]\n"
     ]
    },
    {
     "name": "stdout",
     "output_type": "stream",
     "text": [
      "Epoch: 404, Train Loss: 126.8118442, Eval Loss: 2360.8041215\n"
     ]
    },
    {
     "name": "stderr",
     "output_type": "stream",
     "text": [
      "Training epoch 405: 100%|██████████| 2880/2880 [03:04<00:00, 15.57it/s]\n",
      "Evaluating epoch 405: 100%|██████████| 1440/1440 [01:04<00:00, 22.17it/s]\n"
     ]
    },
    {
     "name": "stdout",
     "output_type": "stream",
     "text": [
      "Epoch: 405, Train Loss: 126.8085339, Eval Loss: 2361.2543104\n"
     ]
    },
    {
     "name": "stderr",
     "output_type": "stream",
     "text": [
      "Training epoch 406: 100%|██████████| 2880/2880 [03:05<00:00, 15.56it/s]\n",
      "Evaluating epoch 406: 100%|██████████| 1440/1440 [01:04<00:00, 22.20it/s]\n"
     ]
    },
    {
     "name": "stdout",
     "output_type": "stream",
     "text": [
      "Epoch: 406, Train Loss: 126.7946774, Eval Loss: 2357.8623669\n"
     ]
    },
    {
     "name": "stderr",
     "output_type": "stream",
     "text": [
      "Training epoch 407: 100%|██████████| 2880/2880 [03:04<00:00, 15.60it/s]\n",
      "Evaluating epoch 407: 100%|██████████| 1440/1440 [01:04<00:00, 22.24it/s]\n"
     ]
    },
    {
     "name": "stdout",
     "output_type": "stream",
     "text": [
      "Epoch: 407, Train Loss: 126.7759113, Eval Loss: 2360.9732408\n"
     ]
    },
    {
     "name": "stderr",
     "output_type": "stream",
     "text": [
      "Training epoch 408: 100%|██████████| 2880/2880 [03:04<00:00, 15.58it/s]\n",
      "Evaluating epoch 408: 100%|██████████| 1440/1440 [01:04<00:00, 22.21it/s]\n"
     ]
    },
    {
     "name": "stdout",
     "output_type": "stream",
     "text": [
      "Epoch: 408, Train Loss: 126.8360327, Eval Loss: 2355.9511500\n"
     ]
    },
    {
     "name": "stderr",
     "output_type": "stream",
     "text": [
      "Training epoch 409: 100%|██████████| 2880/2880 [03:05<00:00, 15.54it/s]\n",
      "Evaluating epoch 409: 100%|██████████| 1440/1440 [01:04<00:00, 22.23it/s]\n"
     ]
    },
    {
     "name": "stdout",
     "output_type": "stream",
     "text": [
      "Epoch: 409, Train Loss: 126.7365811, Eval Loss: 2355.4094251\n"
     ]
    },
    {
     "name": "stderr",
     "output_type": "stream",
     "text": [
      "Training epoch 410: 100%|██████████| 2880/2880 [03:05<00:00, 15.56it/s]\n",
      "Evaluating epoch 410: 100%|██████████| 1440/1440 [01:04<00:00, 22.20it/s]\n"
     ]
    },
    {
     "name": "stdout",
     "output_type": "stream",
     "text": [
      "Epoch: 410, Train Loss: 126.7102841, Eval Loss: 2353.1450239\n"
     ]
    },
    {
     "name": "stderr",
     "output_type": "stream",
     "text": [
      "Training epoch 411: 100%|██████████| 2880/2880 [03:05<00:00, 15.56it/s]\n",
      "Evaluating epoch 411: 100%|██████████| 1440/1440 [01:04<00:00, 22.24it/s]\n"
     ]
    },
    {
     "name": "stdout",
     "output_type": "stream",
     "text": [
      "Epoch: 411, Train Loss: 126.6956266, Eval Loss: 2349.3688708\n"
     ]
    },
    {
     "name": "stderr",
     "output_type": "stream",
     "text": [
      "Training epoch 412: 100%|██████████| 2880/2880 [03:04<00:00, 15.58it/s]\n",
      "Evaluating epoch 412: 100%|██████████| 1440/1440 [01:04<00:00, 22.23it/s]\n"
     ]
    },
    {
     "name": "stdout",
     "output_type": "stream",
     "text": [
      "Epoch: 412, Train Loss: 126.6902409, Eval Loss: 2349.1107942\n"
     ]
    },
    {
     "name": "stderr",
     "output_type": "stream",
     "text": [
      "Training epoch 413: 100%|██████████| 2880/2880 [03:05<00:00, 15.54it/s]\n",
      "Evaluating epoch 413: 100%|██████████| 1440/1440 [01:04<00:00, 22.26it/s]\n"
     ]
    },
    {
     "name": "stdout",
     "output_type": "stream",
     "text": [
      "Epoch: 413, Train Loss: 126.6969515, Eval Loss: 2348.4719925\n"
     ]
    },
    {
     "name": "stderr",
     "output_type": "stream",
     "text": [
      "Training epoch 414: 100%|██████████| 2880/2880 [03:04<00:00, 15.57it/s]\n",
      "Evaluating epoch 414: 100%|██████████| 1440/1440 [01:04<00:00, 22.21it/s]\n"
     ]
    },
    {
     "name": "stdout",
     "output_type": "stream",
     "text": [
      "Epoch: 414, Train Loss: 126.6947933, Eval Loss: 2348.3820085\n"
     ]
    },
    {
     "name": "stderr",
     "output_type": "stream",
     "text": [
      "Training epoch 415: 100%|██████████| 2880/2880 [03:04<00:00, 15.58it/s]\n",
      "Evaluating epoch 415: 100%|██████████| 1440/1440 [01:04<00:00, 22.20it/s]\n"
     ]
    },
    {
     "name": "stdout",
     "output_type": "stream",
     "text": [
      "Epoch: 415, Train Loss: 126.6972148, Eval Loss: 2347.3852619\n"
     ]
    },
    {
     "name": "stderr",
     "output_type": "stream",
     "text": [
      "Training epoch 416: 100%|██████████| 2880/2880 [03:05<00:00, 15.57it/s]\n",
      "Evaluating epoch 416: 100%|██████████| 1440/1440 [01:04<00:00, 22.29it/s]\n"
     ]
    },
    {
     "name": "stdout",
     "output_type": "stream",
     "text": [
      "Epoch: 416, Train Loss: 126.6545721, Eval Loss: 2346.6039046\n"
     ]
    },
    {
     "name": "stderr",
     "output_type": "stream",
     "text": [
      "Training epoch 417: 100%|██████████| 2880/2880 [03:04<00:00, 15.57it/s]\n",
      "Evaluating epoch 417: 100%|██████████| 1440/1440 [01:04<00:00, 22.29it/s]\n"
     ]
    },
    {
     "name": "stdout",
     "output_type": "stream",
     "text": [
      "Epoch: 417, Train Loss: 126.6582472, Eval Loss: 2344.8457056\n"
     ]
    },
    {
     "name": "stderr",
     "output_type": "stream",
     "text": [
      "Training epoch 418: 100%|██████████| 2880/2880 [03:05<00:00, 15.55it/s]\n",
      "Evaluating epoch 418: 100%|██████████| 1440/1440 [01:04<00:00, 22.25it/s]\n"
     ]
    },
    {
     "name": "stdout",
     "output_type": "stream",
     "text": [
      "Epoch: 418, Train Loss: 126.7264038, Eval Loss: 2344.5190699\n"
     ]
    },
    {
     "name": "stderr",
     "output_type": "stream",
     "text": [
      "Training epoch 419: 100%|██████████| 2880/2880 [03:04<00:00, 15.59it/s]\n",
      "Evaluating epoch 419: 100%|██████████| 1440/1440 [01:04<00:00, 22.26it/s]\n"
     ]
    },
    {
     "name": "stdout",
     "output_type": "stream",
     "text": [
      "Epoch: 419, Train Loss: 126.6616813, Eval Loss: 2338.8935120\n"
     ]
    },
    {
     "name": "stderr",
     "output_type": "stream",
     "text": [
      "Training epoch 420: 100%|██████████| 2880/2880 [03:05<00:00, 15.56it/s]\n",
      "Evaluating epoch 420: 100%|██████████| 1440/1440 [01:04<00:00, 22.24it/s]\n"
     ]
    },
    {
     "name": "stdout",
     "output_type": "stream",
     "text": [
      "Epoch: 420, Train Loss: 126.6302041, Eval Loss: 2340.4185222\n"
     ]
    },
    {
     "name": "stderr",
     "output_type": "stream",
     "text": [
      "Training epoch 421: 100%|██████████| 2880/2880 [03:04<00:00, 15.58it/s]\n",
      "Evaluating epoch 421: 100%|██████████| 1440/1440 [01:04<00:00, 22.18it/s]\n"
     ]
    },
    {
     "name": "stdout",
     "output_type": "stream",
     "text": [
      "Epoch: 421, Train Loss: 126.6107435, Eval Loss: 2339.0509670\n"
     ]
    },
    {
     "name": "stderr",
     "output_type": "stream",
     "text": [
      "Training epoch 422: 100%|██████████| 2880/2880 [03:04<00:00, 15.59it/s]\n",
      "Evaluating epoch 422: 100%|██████████| 1440/1440 [01:04<00:00, 22.20it/s]\n"
     ]
    },
    {
     "name": "stdout",
     "output_type": "stream",
     "text": [
      "Epoch: 422, Train Loss: 126.5841006, Eval Loss: 2339.0637191\n"
     ]
    },
    {
     "name": "stderr",
     "output_type": "stream",
     "text": [
      "Training epoch 423: 100%|██████████| 2880/2880 [03:04<00:00, 15.58it/s]\n",
      "Evaluating epoch 423: 100%|██████████| 1440/1440 [01:04<00:00, 22.20it/s]\n"
     ]
    },
    {
     "name": "stdout",
     "output_type": "stream",
     "text": [
      "Epoch: 423, Train Loss: 126.6045093, Eval Loss: 2339.7876420\n"
     ]
    },
    {
     "name": "stderr",
     "output_type": "stream",
     "text": [
      "Training epoch 424: 100%|██████████| 2880/2880 [03:04<00:00, 15.60it/s]\n",
      "Evaluating epoch 424: 100%|██████████| 1440/1440 [01:04<00:00, 22.23it/s]\n"
     ]
    },
    {
     "name": "stdout",
     "output_type": "stream",
     "text": [
      "Epoch: 424, Train Loss: 126.5805450, Eval Loss: 2334.1776264\n"
     ]
    },
    {
     "name": "stderr",
     "output_type": "stream",
     "text": [
      "Training epoch 425: 100%|██████████| 2880/2880 [03:04<00:00, 15.59it/s]\n",
      "Evaluating epoch 425: 100%|██████████| 1440/1440 [01:05<00:00, 22.11it/s]\n"
     ]
    },
    {
     "name": "stdout",
     "output_type": "stream",
     "text": [
      "Epoch: 425, Train Loss: 126.5313503, Eval Loss: 2336.3423169\n"
     ]
    },
    {
     "name": "stderr",
     "output_type": "stream",
     "text": [
      "Training epoch 426: 100%|██████████| 2880/2880 [03:04<00:00, 15.60it/s]\n",
      "Evaluating epoch 426: 100%|██████████| 1440/1440 [01:04<00:00, 22.17it/s]\n"
     ]
    },
    {
     "name": "stdout",
     "output_type": "stream",
     "text": [
      "Epoch: 426, Train Loss: 126.5470570, Eval Loss: 2337.2813545\n"
     ]
    },
    {
     "name": "stderr",
     "output_type": "stream",
     "text": [
      "Training epoch 427: 100%|██████████| 2880/2880 [03:05<00:00, 15.57it/s]\n",
      "Evaluating epoch 427: 100%|██████████| 1440/1440 [01:04<00:00, 22.25it/s]\n"
     ]
    },
    {
     "name": "stdout",
     "output_type": "stream",
     "text": [
      "Epoch: 427, Train Loss: 126.5279890, Eval Loss: 2333.4142888\n"
     ]
    },
    {
     "name": "stderr",
     "output_type": "stream",
     "text": [
      "Training epoch 428: 100%|██████████| 2880/2880 [03:04<00:00, 15.58it/s]\n",
      "Evaluating epoch 428: 100%|██████████| 1440/1440 [01:04<00:00, 22.25it/s]\n"
     ]
    },
    {
     "name": "stdout",
     "output_type": "stream",
     "text": [
      "Epoch: 428, Train Loss: 126.5241202, Eval Loss: 2332.9321906\n"
     ]
    },
    {
     "name": "stderr",
     "output_type": "stream",
     "text": [
      "Training epoch 429: 100%|██████████| 2880/2880 [03:05<00:00, 15.55it/s]\n",
      "Evaluating epoch 429: 100%|██████████| 1440/1440 [01:04<00:00, 22.22it/s]\n"
     ]
    },
    {
     "name": "stdout",
     "output_type": "stream",
     "text": [
      "Epoch: 429, Train Loss: 126.5346551, Eval Loss: 2333.7002543\n"
     ]
    },
    {
     "name": "stderr",
     "output_type": "stream",
     "text": [
      "Training epoch 430: 100%|██████████| 2880/2880 [03:04<00:00, 15.57it/s]\n",
      "Evaluating epoch 430: 100%|██████████| 1440/1440 [01:04<00:00, 22.25it/s]\n"
     ]
    },
    {
     "name": "stdout",
     "output_type": "stream",
     "text": [
      "Epoch: 430, Train Loss: 126.5148068, Eval Loss: 2332.7992348\n"
     ]
    },
    {
     "name": "stderr",
     "output_type": "stream",
     "text": [
      "Training epoch 431: 100%|██████████| 2880/2880 [03:04<00:00, 15.59it/s]\n",
      "Evaluating epoch 431: 100%|██████████| 1440/1440 [01:04<00:00, 22.30it/s]\n"
     ]
    },
    {
     "name": "stdout",
     "output_type": "stream",
     "text": [
      "Epoch: 431, Train Loss: 126.4982510, Eval Loss: 2329.9423256\n"
     ]
    },
    {
     "name": "stderr",
     "output_type": "stream",
     "text": [
      "Training epoch 432: 100%|██████████| 2880/2880 [03:05<00:00, 15.57it/s]\n",
      "Evaluating epoch 432: 100%|██████████| 1440/1440 [01:04<00:00, 22.20it/s]\n"
     ]
    },
    {
     "name": "stdout",
     "output_type": "stream",
     "text": [
      "Epoch: 432, Train Loss: 126.4812544, Eval Loss: 2331.8739170\n"
     ]
    },
    {
     "name": "stderr",
     "output_type": "stream",
     "text": [
      "Training epoch 433: 100%|██████████| 2880/2880 [03:05<00:00, 15.57it/s]\n",
      "Evaluating epoch 433: 100%|██████████| 1440/1440 [01:04<00:00, 22.25it/s]\n"
     ]
    },
    {
     "name": "stdout",
     "output_type": "stream",
     "text": [
      "Epoch: 433, Train Loss: 126.4946033, Eval Loss: 2332.0373371\n"
     ]
    },
    {
     "name": "stderr",
     "output_type": "stream",
     "text": [
      "Training epoch 434: 100%|██████████| 2880/2880 [03:04<00:00, 15.58it/s]\n",
      "Evaluating epoch 434: 100%|██████████| 1440/1440 [01:04<00:00, 22.22it/s]\n"
     ]
    },
    {
     "name": "stdout",
     "output_type": "stream",
     "text": [
      "Epoch: 434, Train Loss: 126.4926309, Eval Loss: 2330.9901851\n"
     ]
    },
    {
     "name": "stderr",
     "output_type": "stream",
     "text": [
      "Training epoch 435: 100%|██████████| 2880/2880 [03:04<00:00, 15.59it/s]\n",
      "Evaluating epoch 435: 100%|██████████| 1440/1440 [01:04<00:00, 22.24it/s]\n"
     ]
    },
    {
     "name": "stdout",
     "output_type": "stream",
     "text": [
      "Epoch: 435, Train Loss: 126.4550622, Eval Loss: 2326.2087197\n"
     ]
    },
    {
     "name": "stderr",
     "output_type": "stream",
     "text": [
      "Training epoch 436: 100%|██████████| 2880/2880 [03:04<00:00, 15.59it/s]\n",
      "Evaluating epoch 436: 100%|██████████| 1440/1440 [01:04<00:00, 22.21it/s]\n"
     ]
    },
    {
     "name": "stdout",
     "output_type": "stream",
     "text": [
      "Epoch: 436, Train Loss: 126.4595075, Eval Loss: 2327.7780230\n"
     ]
    },
    {
     "name": "stderr",
     "output_type": "stream",
     "text": [
      "Training epoch 437: 100%|██████████| 2880/2880 [03:04<00:00, 15.58it/s]\n",
      "Evaluating epoch 437: 100%|██████████| 1440/1440 [01:04<00:00, 22.25it/s]\n"
     ]
    },
    {
     "name": "stdout",
     "output_type": "stream",
     "text": [
      "Epoch: 437, Train Loss: 126.4581653, Eval Loss: 2327.2118436\n"
     ]
    },
    {
     "name": "stderr",
     "output_type": "stream",
     "text": [
      "Training epoch 438: 100%|██████████| 2880/2880 [03:04<00:00, 15.59it/s]\n",
      "Evaluating epoch 438: 100%|██████████| 1440/1440 [01:04<00:00, 22.17it/s]\n"
     ]
    },
    {
     "name": "stdout",
     "output_type": "stream",
     "text": [
      "Epoch: 438, Train Loss: 126.4101067, Eval Loss: 2325.8724430\n"
     ]
    },
    {
     "name": "stderr",
     "output_type": "stream",
     "text": [
      "Training epoch 439: 100%|██████████| 2880/2880 [03:05<00:00, 15.54it/s]\n",
      "Evaluating epoch 439: 100%|██████████| 1440/1440 [01:04<00:00, 22.20it/s]\n"
     ]
    },
    {
     "name": "stdout",
     "output_type": "stream",
     "text": [
      "Epoch: 439, Train Loss: 126.4066968, Eval Loss: 2324.6151589\n"
     ]
    },
    {
     "name": "stderr",
     "output_type": "stream",
     "text": [
      "Training epoch 440: 100%|██████████| 2880/2880 [03:04<00:00, 15.58it/s]\n",
      "Evaluating epoch 440: 100%|██████████| 1440/1440 [01:04<00:00, 22.25it/s]\n"
     ]
    },
    {
     "name": "stdout",
     "output_type": "stream",
     "text": [
      "Epoch: 440, Train Loss: 126.3780237, Eval Loss: 2327.3860066\n"
     ]
    },
    {
     "name": "stderr",
     "output_type": "stream",
     "text": [
      "Training epoch 441: 100%|██████████| 2880/2880 [03:04<00:00, 15.58it/s]\n",
      "Evaluating epoch 441: 100%|██████████| 1440/1440 [01:04<00:00, 22.20it/s]\n"
     ]
    },
    {
     "name": "stdout",
     "output_type": "stream",
     "text": [
      "Epoch: 441, Train Loss: 126.3925447, Eval Loss: 2320.2464930\n"
     ]
    },
    {
     "name": "stderr",
     "output_type": "stream",
     "text": [
      "Training epoch 442: 100%|██████████| 2880/2880 [03:04<00:00, 15.57it/s]\n",
      "Evaluating epoch 442: 100%|██████████| 1440/1440 [01:04<00:00, 22.22it/s]\n"
     ]
    },
    {
     "name": "stdout",
     "output_type": "stream",
     "text": [
      "Epoch: 442, Train Loss: 126.3990610, Eval Loss: 2320.4537688\n"
     ]
    },
    {
     "name": "stderr",
     "output_type": "stream",
     "text": [
      "Training epoch 443: 100%|██████████| 2880/2880 [03:05<00:00, 15.56it/s]\n",
      "Evaluating epoch 443: 100%|██████████| 1440/1440 [01:04<00:00, 22.25it/s]\n"
     ]
    },
    {
     "name": "stdout",
     "output_type": "stream",
     "text": [
      "Epoch: 443, Train Loss: 126.3703599, Eval Loss: 2319.2270509\n"
     ]
    },
    {
     "name": "stderr",
     "output_type": "stream",
     "text": [
      "Training epoch 444: 100%|██████████| 2880/2880 [03:04<00:00, 15.58it/s]\n",
      "Evaluating epoch 444: 100%|██████████| 1440/1440 [01:04<00:00, 22.21it/s]\n"
     ]
    },
    {
     "name": "stdout",
     "output_type": "stream",
     "text": [
      "Epoch: 444, Train Loss: 126.4056582, Eval Loss: 2317.8778537\n"
     ]
    },
    {
     "name": "stderr",
     "output_type": "stream",
     "text": [
      "Training epoch 445: 100%|██████████| 2880/2880 [03:04<00:00, 15.57it/s]\n",
      "Evaluating epoch 445: 100%|██████████| 1440/1440 [01:04<00:00, 22.29it/s]\n"
     ]
    },
    {
     "name": "stdout",
     "output_type": "stream",
     "text": [
      "Epoch: 445, Train Loss: 126.3696892, Eval Loss: 2315.5798805\n"
     ]
    },
    {
     "name": "stderr",
     "output_type": "stream",
     "text": [
      "Training epoch 446: 100%|██████████| 2880/2880 [03:04<00:00, 15.58it/s]\n",
      "Evaluating epoch 446: 100%|██████████| 1440/1440 [01:05<00:00, 22.14it/s]\n"
     ]
    },
    {
     "name": "stdout",
     "output_type": "stream",
     "text": [
      "Epoch: 446, Train Loss: 126.3315058, Eval Loss: 2316.2113648\n"
     ]
    },
    {
     "name": "stderr",
     "output_type": "stream",
     "text": [
      "Training epoch 447: 100%|██████████| 2880/2880 [03:04<00:00, 15.57it/s]\n",
      "Evaluating epoch 447: 100%|██████████| 1440/1440 [01:04<00:00, 22.22it/s]\n"
     ]
    },
    {
     "name": "stdout",
     "output_type": "stream",
     "text": [
      "Epoch: 447, Train Loss: 126.2935920, Eval Loss: 2313.9249831\n"
     ]
    },
    {
     "name": "stderr",
     "output_type": "stream",
     "text": [
      "Training epoch 448: 100%|██████████| 2880/2880 [03:05<00:00, 15.55it/s]\n",
      "Evaluating epoch 448: 100%|██████████| 1440/1440 [01:04<00:00, 22.22it/s]\n"
     ]
    },
    {
     "name": "stdout",
     "output_type": "stream",
     "text": [
      "Epoch: 448, Train Loss: 126.3592000, Eval Loss: 2312.8707873\n"
     ]
    },
    {
     "name": "stderr",
     "output_type": "stream",
     "text": [
      "Training epoch 449: 100%|██████████| 2880/2880 [03:05<00:00, 15.57it/s]\n",
      "Evaluating epoch 449: 100%|██████████| 1440/1440 [01:04<00:00, 22.17it/s]\n"
     ]
    },
    {
     "name": "stdout",
     "output_type": "stream",
     "text": [
      "Epoch: 449, Train Loss: 126.3002902, Eval Loss: 2312.7920275\n"
     ]
    },
    {
     "name": "stderr",
     "output_type": "stream",
     "text": [
      "Training epoch 450: 100%|██████████| 2880/2880 [03:04<00:00, 15.58it/s]\n",
      "Evaluating epoch 450: 100%|██████████| 1440/1440 [01:04<00:00, 22.22it/s]\n"
     ]
    },
    {
     "name": "stdout",
     "output_type": "stream",
     "text": [
      "Epoch: 450, Train Loss: 126.2969309, Eval Loss: 2315.3201325\n"
     ]
    },
    {
     "name": "stderr",
     "output_type": "stream",
     "text": [
      "Training epoch 451: 100%|██████████| 2880/2880 [03:05<00:00, 15.56it/s]\n",
      "Evaluating epoch 451: 100%|██████████| 1440/1440 [01:04<00:00, 22.25it/s]\n"
     ]
    },
    {
     "name": "stdout",
     "output_type": "stream",
     "text": [
      "Epoch: 451, Train Loss: 126.2741305, Eval Loss: 2313.6915166\n"
     ]
    },
    {
     "name": "stderr",
     "output_type": "stream",
     "text": [
      "Training epoch 452: 100%|██████████| 2880/2880 [03:05<00:00, 15.57it/s]\n",
      "Evaluating epoch 452: 100%|██████████| 1440/1440 [01:04<00:00, 22.16it/s]\n"
     ]
    },
    {
     "name": "stdout",
     "output_type": "stream",
     "text": [
      "Epoch: 452, Train Loss: 126.2551872, Eval Loss: 2310.6638045\n"
     ]
    },
    {
     "name": "stderr",
     "output_type": "stream",
     "text": [
      "Training epoch 453: 100%|██████████| 2880/2880 [03:05<00:00, 15.56it/s]\n",
      "Evaluating epoch 453: 100%|██████████| 1440/1440 [01:04<00:00, 22.27it/s]\n"
     ]
    },
    {
     "name": "stdout",
     "output_type": "stream",
     "text": [
      "Epoch: 453, Train Loss: 126.2814489, Eval Loss: 2309.9564661\n"
     ]
    },
    {
     "name": "stderr",
     "output_type": "stream",
     "text": [
      "Training epoch 454: 100%|██████████| 2880/2880 [03:04<00:00, 15.57it/s]\n",
      "Evaluating epoch 454: 100%|██████████| 1440/1440 [01:04<00:00, 22.21it/s]\n"
     ]
    },
    {
     "name": "stdout",
     "output_type": "stream",
     "text": [
      "Epoch: 454, Train Loss: 126.2366879, Eval Loss: 2308.3274150\n"
     ]
    },
    {
     "name": "stderr",
     "output_type": "stream",
     "text": [
      "Training epoch 455: 100%|██████████| 2880/2880 [03:05<00:00, 15.55it/s]\n",
      "Evaluating epoch 455: 100%|██████████| 1440/1440 [01:04<00:00, 22.23it/s]\n"
     ]
    },
    {
     "name": "stdout",
     "output_type": "stream",
     "text": [
      "Epoch: 455, Train Loss: 126.2313360, Eval Loss: 2307.3304465\n"
     ]
    },
    {
     "name": "stderr",
     "output_type": "stream",
     "text": [
      "Training epoch 456: 100%|██████████| 2880/2880 [03:05<00:00, 15.55it/s]\n",
      "Evaluating epoch 456: 100%|██████████| 1440/1440 [01:04<00:00, 22.29it/s]\n"
     ]
    },
    {
     "name": "stdout",
     "output_type": "stream",
     "text": [
      "Epoch: 456, Train Loss: 126.2470517, Eval Loss: 2309.8659207\n"
     ]
    },
    {
     "name": "stderr",
     "output_type": "stream",
     "text": [
      "Training epoch 457: 100%|██████████| 2880/2880 [03:05<00:00, 15.56it/s]\n",
      "Evaluating epoch 457: 100%|██████████| 1440/1440 [01:04<00:00, 22.19it/s]\n"
     ]
    },
    {
     "name": "stdout",
     "output_type": "stream",
     "text": [
      "Epoch: 457, Train Loss: 126.2108597, Eval Loss: 2308.7134637\n"
     ]
    },
    {
     "name": "stderr",
     "output_type": "stream",
     "text": [
      "Training epoch 458: 100%|██████████| 2880/2880 [03:05<00:00, 15.56it/s]\n",
      "Evaluating epoch 458: 100%|██████████| 1440/1440 [01:05<00:00, 22.12it/s]\n"
     ]
    },
    {
     "name": "stdout",
     "output_type": "stream",
     "text": [
      "Epoch: 458, Train Loss: 126.2189744, Eval Loss: 2307.7279175\n"
     ]
    },
    {
     "name": "stderr",
     "output_type": "stream",
     "text": [
      "Training epoch 459: 100%|██████████| 2880/2880 [03:05<00:00, 15.56it/s]\n",
      "Evaluating epoch 459: 100%|██████████| 1440/1440 [01:04<00:00, 22.19it/s]\n"
     ]
    },
    {
     "name": "stdout",
     "output_type": "stream",
     "text": [
      "Epoch: 459, Train Loss: 126.2190608, Eval Loss: 2302.5674955\n"
     ]
    },
    {
     "name": "stderr",
     "output_type": "stream",
     "text": [
      "Training epoch 460: 100%|██████████| 2880/2880 [03:04<00:00, 15.58it/s]\n",
      "Evaluating epoch 460: 100%|██████████| 1440/1440 [01:05<00:00, 22.14it/s]\n"
     ]
    },
    {
     "name": "stdout",
     "output_type": "stream",
     "text": [
      "Epoch: 460, Train Loss: 126.2142922, Eval Loss: 2300.7068539\n"
     ]
    },
    {
     "name": "stderr",
     "output_type": "stream",
     "text": [
      "Training epoch 461: 100%|██████████| 2880/2880 [03:04<00:00, 15.58it/s]\n",
      "Evaluating epoch 461: 100%|██████████| 1440/1440 [01:04<00:00, 22.23it/s]\n"
     ]
    },
    {
     "name": "stdout",
     "output_type": "stream",
     "text": [
      "Epoch: 461, Train Loss: 126.1924888, Eval Loss: 2301.4392316\n"
     ]
    },
    {
     "name": "stderr",
     "output_type": "stream",
     "text": [
      "Training epoch 462: 100%|██████████| 2880/2880 [03:05<00:00, 15.56it/s]\n",
      "Evaluating epoch 462: 100%|██████████| 1440/1440 [01:04<00:00, 22.31it/s]\n"
     ]
    },
    {
     "name": "stdout",
     "output_type": "stream",
     "text": [
      "Epoch: 462, Train Loss: 126.1723111, Eval Loss: 2302.0256880\n"
     ]
    },
    {
     "name": "stderr",
     "output_type": "stream",
     "text": [
      "Training epoch 463: 100%|██████████| 2880/2880 [03:05<00:00, 15.55it/s]\n",
      "Evaluating epoch 463: 100%|██████████| 1440/1440 [01:04<00:00, 22.28it/s]\n"
     ]
    },
    {
     "name": "stdout",
     "output_type": "stream",
     "text": [
      "Epoch: 463, Train Loss: 126.1823113, Eval Loss: 2300.4997896\n"
     ]
    },
    {
     "name": "stderr",
     "output_type": "stream",
     "text": [
      "Training epoch 464: 100%|██████████| 2880/2880 [03:05<00:00, 15.56it/s]\n",
      "Evaluating epoch 464: 100%|██████████| 1440/1440 [01:04<00:00, 22.26it/s]\n"
     ]
    },
    {
     "name": "stdout",
     "output_type": "stream",
     "text": [
      "Epoch: 464, Train Loss: 126.1856212, Eval Loss: 2300.9289849\n"
     ]
    },
    {
     "name": "stderr",
     "output_type": "stream",
     "text": [
      "Training epoch 465: 100%|██████████| 2880/2880 [03:04<00:00, 15.58it/s]\n",
      "Evaluating epoch 465: 100%|██████████| 1440/1440 [01:05<00:00, 22.10it/s]\n"
     ]
    },
    {
     "name": "stdout",
     "output_type": "stream",
     "text": [
      "Epoch: 465, Train Loss: 126.2087901, Eval Loss: 2299.1732650\n"
     ]
    },
    {
     "name": "stderr",
     "output_type": "stream",
     "text": [
      "Training epoch 466: 100%|██████████| 2880/2880 [03:05<00:00, 15.56it/s]\n",
      "Evaluating epoch 466: 100%|██████████| 1440/1440 [01:04<00:00, 22.27it/s]\n"
     ]
    },
    {
     "name": "stdout",
     "output_type": "stream",
     "text": [
      "Epoch: 466, Train Loss: 126.1754705, Eval Loss: 2302.4467520\n"
     ]
    },
    {
     "name": "stderr",
     "output_type": "stream",
     "text": [
      "Training epoch 467: 100%|██████████| 2880/2880 [03:05<00:00, 15.55it/s]\n",
      "Evaluating epoch 467: 100%|██████████| 1440/1440 [01:04<00:00, 22.18it/s]\n"
     ]
    },
    {
     "name": "stdout",
     "output_type": "stream",
     "text": [
      "Epoch: 467, Train Loss: 126.1478200, Eval Loss: 2294.1412695\n"
     ]
    },
    {
     "name": "stderr",
     "output_type": "stream",
     "text": [
      "Training epoch 468: 100%|██████████| 2880/2880 [03:04<00:00, 15.59it/s]\n",
      "Evaluating epoch 468: 100%|██████████| 1440/1440 [01:04<00:00, 22.23it/s]\n"
     ]
    },
    {
     "name": "stdout",
     "output_type": "stream",
     "text": [
      "Epoch: 468, Train Loss: 126.1308493, Eval Loss: 2297.7050267\n"
     ]
    },
    {
     "name": "stderr",
     "output_type": "stream",
     "text": [
      "Training epoch 469: 100%|██████████| 2880/2880 [03:05<00:00, 15.56it/s]\n",
      "Evaluating epoch 469: 100%|██████████| 1440/1440 [01:04<00:00, 22.25it/s]\n"
     ]
    },
    {
     "name": "stdout",
     "output_type": "stream",
     "text": [
      "Epoch: 469, Train Loss: 126.1435344, Eval Loss: 2296.9295346\n"
     ]
    },
    {
     "name": "stderr",
     "output_type": "stream",
     "text": [
      "Training epoch 470: 100%|██████████| 2880/2880 [03:05<00:00, 15.56it/s]\n",
      "Evaluating epoch 470: 100%|██████████| 1440/1440 [01:04<00:00, 22.25it/s]\n"
     ]
    },
    {
     "name": "stdout",
     "output_type": "stream",
     "text": [
      "Epoch: 470, Train Loss: 126.1295715, Eval Loss: 2294.8641931\n"
     ]
    },
    {
     "name": "stderr",
     "output_type": "stream",
     "text": [
      "Training epoch 471: 100%|██████████| 2880/2880 [03:04<00:00, 15.58it/s]\n",
      "Evaluating epoch 471: 100%|██████████| 1440/1440 [01:04<00:00, 22.28it/s]\n"
     ]
    },
    {
     "name": "stdout",
     "output_type": "stream",
     "text": [
      "Epoch: 471, Train Loss: 126.1407225, Eval Loss: 2295.3976048\n"
     ]
    },
    {
     "name": "stderr",
     "output_type": "stream",
     "text": [
      "Training epoch 472: 100%|██████████| 2880/2880 [03:05<00:00, 15.55it/s]\n",
      "Evaluating epoch 472: 100%|██████████| 1440/1440 [01:04<00:00, 22.28it/s]\n"
     ]
    },
    {
     "name": "stdout",
     "output_type": "stream",
     "text": [
      "Epoch: 472, Train Loss: 126.1269694, Eval Loss: 2293.3043210\n"
     ]
    },
    {
     "name": "stderr",
     "output_type": "stream",
     "text": [
      "Training epoch 473: 100%|██████████| 2880/2880 [03:05<00:00, 15.56it/s]\n",
      "Evaluating epoch 473: 100%|██████████| 1440/1440 [01:04<00:00, 22.28it/s]\n"
     ]
    },
    {
     "name": "stdout",
     "output_type": "stream",
     "text": [
      "Epoch: 473, Train Loss: 126.0788607, Eval Loss: 2291.3199424\n"
     ]
    },
    {
     "name": "stderr",
     "output_type": "stream",
     "text": [
      "Training epoch 474: 100%|██████████| 2880/2880 [03:05<00:00, 15.55it/s]\n",
      "Evaluating epoch 474: 100%|██████████| 1440/1440 [01:04<00:00, 22.25it/s]\n"
     ]
    },
    {
     "name": "stdout",
     "output_type": "stream",
     "text": [
      "Epoch: 474, Train Loss: 126.0940289, Eval Loss: 2292.9221133\n"
     ]
    },
    {
     "name": "stderr",
     "output_type": "stream",
     "text": [
      "Training epoch 475: 100%|██████████| 2880/2880 [03:04<00:00, 15.60it/s]\n",
      "Evaluating epoch 475: 100%|██████████| 1440/1440 [01:04<00:00, 22.30it/s]\n"
     ]
    },
    {
     "name": "stdout",
     "output_type": "stream",
     "text": [
      "Epoch: 475, Train Loss: 126.0241928, Eval Loss: 2291.4467966\n"
     ]
    },
    {
     "name": "stderr",
     "output_type": "stream",
     "text": [
      "Training epoch 476: 100%|██████████| 2880/2880 [03:05<00:00, 15.55it/s]\n",
      "Evaluating epoch 476: 100%|██████████| 1440/1440 [01:04<00:00, 22.29it/s]\n"
     ]
    },
    {
     "name": "stdout",
     "output_type": "stream",
     "text": [
      "Epoch: 476, Train Loss: 126.0476993, Eval Loss: 2293.5160297\n"
     ]
    },
    {
     "name": "stderr",
     "output_type": "stream",
     "text": [
      "Training epoch 477: 100%|██████████| 2880/2880 [03:04<00:00, 15.58it/s]\n",
      "Evaluating epoch 477: 100%|██████████| 1440/1440 [01:04<00:00, 22.34it/s]\n"
     ]
    },
    {
     "name": "stdout",
     "output_type": "stream",
     "text": [
      "Epoch: 477, Train Loss: 126.0080548, Eval Loss: 2292.5480941\n"
     ]
    },
    {
     "name": "stderr",
     "output_type": "stream",
     "text": [
      "Training epoch 478: 100%|██████████| 2880/2880 [03:04<00:00, 15.58it/s]\n",
      "Evaluating epoch 478: 100%|██████████| 1440/1440 [01:04<00:00, 22.27it/s]\n"
     ]
    },
    {
     "name": "stdout",
     "output_type": "stream",
     "text": [
      "Epoch: 478, Train Loss: 126.0449399, Eval Loss: 2293.6912817\n"
     ]
    },
    {
     "name": "stderr",
     "output_type": "stream",
     "text": [
      "Training epoch 479: 100%|██████████| 2880/2880 [03:05<00:00, 15.56it/s]\n",
      "Evaluating epoch 479: 100%|██████████| 1440/1440 [01:04<00:00, 22.22it/s]\n"
     ]
    },
    {
     "name": "stdout",
     "output_type": "stream",
     "text": [
      "Epoch: 479, Train Loss: 126.0314001, Eval Loss: 2292.2981844\n"
     ]
    },
    {
     "name": "stderr",
     "output_type": "stream",
     "text": [
      "Training epoch 480: 100%|██████████| 2880/2880 [03:04<00:00, 15.58it/s]\n",
      "Evaluating epoch 480: 100%|██████████| 1440/1440 [01:04<00:00, 22.22it/s]\n"
     ]
    },
    {
     "name": "stdout",
     "output_type": "stream",
     "text": [
      "Epoch: 480, Train Loss: 126.0243587, Eval Loss: 2294.1257512\n"
     ]
    },
    {
     "name": "stderr",
     "output_type": "stream",
     "text": [
      "Training epoch 481: 100%|██████████| 2880/2880 [03:04<00:00, 15.57it/s]\n",
      "Evaluating epoch 481: 100%|██████████| 1440/1440 [01:04<00:00, 22.22it/s]\n"
     ]
    },
    {
     "name": "stdout",
     "output_type": "stream",
     "text": [
      "Epoch: 481, Train Loss: 126.0021478, Eval Loss: 2294.6616059\n"
     ]
    },
    {
     "name": "stderr",
     "output_type": "stream",
     "text": [
      "Training epoch 482: 100%|██████████| 2880/2880 [03:05<00:00, 15.55it/s]\n",
      "Evaluating epoch 482: 100%|██████████| 1440/1440 [01:05<00:00, 22.11it/s]\n"
     ]
    },
    {
     "name": "stdout",
     "output_type": "stream",
     "text": [
      "Epoch: 482, Train Loss: 125.9941153, Eval Loss: 2295.5483726\n"
     ]
    },
    {
     "name": "stderr",
     "output_type": "stream",
     "text": [
      "Training epoch 483: 100%|██████████| 2880/2880 [03:05<00:00, 15.56it/s]\n",
      "Evaluating epoch 483: 100%|██████████| 1440/1440 [01:05<00:00, 22.12it/s]\n"
     ]
    },
    {
     "name": "stdout",
     "output_type": "stream",
     "text": [
      "Epoch: 483, Train Loss: 126.0438343, Eval Loss: 2293.5558150\n"
     ]
    },
    {
     "name": "stderr",
     "output_type": "stream",
     "text": [
      "Training epoch 484: 100%|██████████| 2880/2880 [03:04<00:00, 15.58it/s]\n",
      "Evaluating epoch 484: 100%|██████████| 1440/1440 [01:04<00:00, 22.30it/s]\n"
     ]
    },
    {
     "name": "stdout",
     "output_type": "stream",
     "text": [
      "Epoch: 484, Train Loss: 125.9457271, Eval Loss: 2291.9061114\n"
     ]
    },
    {
     "name": "stderr",
     "output_type": "stream",
     "text": [
      "Training epoch 485: 100%|██████████| 2880/2880 [03:05<00:00, 15.55it/s]\n",
      "Evaluating epoch 485: 100%|██████████| 1440/1440 [01:04<00:00, 22.19it/s]\n"
     ]
    },
    {
     "name": "stdout",
     "output_type": "stream",
     "text": [
      "Epoch: 485, Train Loss: 125.9869088, Eval Loss: 2291.2879664\n"
     ]
    },
    {
     "name": "stderr",
     "output_type": "stream",
     "text": [
      "Training epoch 486: 100%|██████████| 2880/2880 [03:04<00:00, 15.58it/s]\n",
      "Evaluating epoch 486: 100%|██████████| 1440/1440 [01:04<00:00, 22.29it/s]\n"
     ]
    },
    {
     "name": "stdout",
     "output_type": "stream",
     "text": [
      "Epoch: 486, Train Loss: 125.9714273, Eval Loss: 2290.7289096\n"
     ]
    },
    {
     "name": "stderr",
     "output_type": "stream",
     "text": [
      "Training epoch 487: 100%|██████████| 2880/2880 [03:04<00:00, 15.57it/s]\n",
      "Evaluating epoch 487: 100%|██████████| 1440/1440 [01:04<00:00, 22.19it/s]\n"
     ]
    },
    {
     "name": "stdout",
     "output_type": "stream",
     "text": [
      "Epoch: 487, Train Loss: 125.9237990, Eval Loss: 2290.9006814\n"
     ]
    },
    {
     "name": "stderr",
     "output_type": "stream",
     "text": [
      "Training epoch 488: 100%|██████████| 2880/2880 [03:04<00:00, 15.57it/s]\n",
      "Evaluating epoch 488: 100%|██████████| 1440/1440 [01:04<00:00, 22.31it/s]\n"
     ]
    },
    {
     "name": "stdout",
     "output_type": "stream",
     "text": [
      "Epoch: 488, Train Loss: 125.9407821, Eval Loss: 2291.6593225\n"
     ]
    },
    {
     "name": "stderr",
     "output_type": "stream",
     "text": [
      "Training epoch 489: 100%|██████████| 2880/2880 [03:04<00:00, 15.60it/s]\n",
      "Evaluating epoch 489: 100%|██████████| 1440/1440 [01:04<00:00, 22.25it/s]\n"
     ]
    },
    {
     "name": "stdout",
     "output_type": "stream",
     "text": [
      "Epoch: 489, Train Loss: 125.9115100, Eval Loss: 2289.9251332\n"
     ]
    },
    {
     "name": "stderr",
     "output_type": "stream",
     "text": [
      "Training epoch 490: 100%|██████████| 2880/2880 [03:05<00:00, 15.56it/s]\n",
      "Evaluating epoch 490: 100%|██████████| 1440/1440 [01:04<00:00, 22.31it/s]\n"
     ]
    },
    {
     "name": "stdout",
     "output_type": "stream",
     "text": [
      "Epoch: 490, Train Loss: 125.9004413, Eval Loss: 2291.8994373\n"
     ]
    },
    {
     "name": "stderr",
     "output_type": "stream",
     "text": [
      "Training epoch 491: 100%|██████████| 2880/2880 [03:05<00:00, 15.57it/s]\n",
      "Evaluating epoch 491: 100%|██████████| 1440/1440 [01:04<00:00, 22.18it/s]\n"
     ]
    },
    {
     "name": "stdout",
     "output_type": "stream",
     "text": [
      "Epoch: 491, Train Loss: 125.8870153, Eval Loss: 2290.0418372\n"
     ]
    },
    {
     "name": "stderr",
     "output_type": "stream",
     "text": [
      "Training epoch 492: 100%|██████████| 2880/2880 [03:05<00:00, 15.55it/s]\n",
      "Evaluating epoch 492: 100%|██████████| 1440/1440 [01:04<00:00, 22.22it/s]\n"
     ]
    },
    {
     "name": "stdout",
     "output_type": "stream",
     "text": [
      "Epoch: 492, Train Loss: 125.8831293, Eval Loss: 2287.1223425\n"
     ]
    },
    {
     "name": "stderr",
     "output_type": "stream",
     "text": [
      "Training epoch 493: 100%|██████████| 2880/2880 [03:05<00:00, 15.56it/s]\n",
      "Evaluating epoch 493: 100%|██████████| 1440/1440 [01:04<00:00, 22.26it/s]\n"
     ]
    },
    {
     "name": "stdout",
     "output_type": "stream",
     "text": [
      "Epoch: 493, Train Loss: 125.9002993, Eval Loss: 2288.6840529\n"
     ]
    },
    {
     "name": "stderr",
     "output_type": "stream",
     "text": [
      "Training epoch 494: 100%|██████████| 2880/2880 [03:04<00:00, 15.58it/s]\n",
      "Evaluating epoch 494: 100%|██████████| 1440/1440 [01:04<00:00, 22.18it/s]\n"
     ]
    },
    {
     "name": "stdout",
     "output_type": "stream",
     "text": [
      "Epoch: 494, Train Loss: 125.9039012, Eval Loss: 2289.4807494\n"
     ]
    },
    {
     "name": "stderr",
     "output_type": "stream",
     "text": [
      "Training epoch 495: 100%|██████████| 2880/2880 [03:04<00:00, 15.57it/s]\n",
      "Evaluating epoch 495: 100%|██████████| 1440/1440 [01:04<00:00, 22.24it/s]\n"
     ]
    },
    {
     "name": "stdout",
     "output_type": "stream",
     "text": [
      "Epoch: 495, Train Loss: 125.8733888, Eval Loss: 2287.0373996\n"
     ]
    },
    {
     "name": "stderr",
     "output_type": "stream",
     "text": [
      "Training epoch 496: 100%|██████████| 2880/2880 [03:05<00:00, 15.55it/s]\n",
      "Evaluating epoch 496: 100%|██████████| 1440/1440 [01:05<00:00, 22.14it/s]\n"
     ]
    },
    {
     "name": "stdout",
     "output_type": "stream",
     "text": [
      "Epoch: 496, Train Loss: 125.8684066, Eval Loss: 2286.8458560\n"
     ]
    },
    {
     "name": "stderr",
     "output_type": "stream",
     "text": [
      "Training epoch 497: 100%|██████████| 2880/2880 [03:05<00:00, 15.56it/s]\n",
      "Evaluating epoch 497: 100%|██████████| 1440/1440 [01:04<00:00, 22.21it/s]\n"
     ]
    },
    {
     "name": "stdout",
     "output_type": "stream",
     "text": [
      "Epoch: 497, Train Loss: 125.8731586, Eval Loss: 2285.9650415\n"
     ]
    },
    {
     "name": "stderr",
     "output_type": "stream",
     "text": [
      "Training epoch 498: 100%|██████████| 2880/2880 [03:05<00:00, 15.55it/s]\n",
      "Evaluating epoch 498: 100%|██████████| 1440/1440 [01:04<00:00, 22.16it/s]\n"
     ]
    },
    {
     "name": "stdout",
     "output_type": "stream",
     "text": [
      "Epoch: 498, Train Loss: 125.8487051, Eval Loss: 2288.1921280\n"
     ]
    },
    {
     "name": "stderr",
     "output_type": "stream",
     "text": [
      "Training epoch 499: 100%|██████████| 2880/2880 [03:05<00:00, 15.54it/s]\n",
      "Evaluating epoch 499: 100%|██████████| 1440/1440 [01:04<00:00, 22.18it/s]\n"
     ]
    },
    {
     "name": "stdout",
     "output_type": "stream",
     "text": [
      "Epoch: 499, Train Loss: 125.8059036, Eval Loss: 2285.2557105\n"
     ]
    },
    {
     "name": "stderr",
     "output_type": "stream",
     "text": [
      "Training epoch 500: 100%|██████████| 2880/2880 [03:04<00:00, 15.57it/s]\n",
      "Evaluating epoch 500: 100%|██████████| 1440/1440 [01:04<00:00, 22.23it/s]\n"
     ]
    },
    {
     "name": "stdout",
     "output_type": "stream",
     "text": [
      "Epoch: 500, Train Loss: 125.8339690, Eval Loss: 2285.7011410\n"
     ]
    },
    {
     "name": "stderr",
     "output_type": "stream",
     "text": [
      "Training epoch 501: 100%|██████████| 2880/2880 [03:04<00:00, 15.57it/s]\n",
      "Evaluating epoch 501: 100%|██████████| 1440/1440 [01:04<00:00, 22.25it/s]\n"
     ]
    },
    {
     "name": "stdout",
     "output_type": "stream",
     "text": [
      "Epoch: 501, Train Loss: 125.7965328, Eval Loss: 2283.9639922\n"
     ]
    },
    {
     "name": "stderr",
     "output_type": "stream",
     "text": [
      "Training epoch 502: 100%|██████████| 2880/2880 [03:04<00:00, 15.58it/s]\n",
      "Evaluating epoch 502: 100%|██████████| 1440/1440 [01:04<00:00, 22.31it/s]\n"
     ]
    },
    {
     "name": "stdout",
     "output_type": "stream",
     "text": [
      "Epoch: 502, Train Loss: 125.8402701, Eval Loss: 2280.7916077\n"
     ]
    },
    {
     "name": "stderr",
     "output_type": "stream",
     "text": [
      "Training epoch 503: 100%|██████████| 2880/2880 [03:04<00:00, 15.58it/s]\n",
      "Evaluating epoch 503: 100%|██████████| 1440/1440 [01:04<00:00, 22.23it/s]\n"
     ]
    },
    {
     "name": "stdout",
     "output_type": "stream",
     "text": [
      "Epoch: 503, Train Loss: 125.7789184, Eval Loss: 2279.8316292\n"
     ]
    },
    {
     "name": "stderr",
     "output_type": "stream",
     "text": [
      "Training epoch 504: 100%|██████████| 2880/2880 [03:05<00:00, 15.57it/s]\n",
      "Evaluating epoch 504: 100%|██████████| 1440/1440 [01:04<00:00, 22.29it/s]\n"
     ]
    },
    {
     "name": "stdout",
     "output_type": "stream",
     "text": [
      "Epoch: 504, Train Loss: 125.8585388, Eval Loss: 2278.5510856\n"
     ]
    },
    {
     "name": "stderr",
     "output_type": "stream",
     "text": [
      "Training epoch 505: 100%|██████████| 2880/2880 [03:05<00:00, 15.56it/s]\n",
      "Evaluating epoch 505: 100%|██████████| 1440/1440 [01:04<00:00, 22.26it/s]\n"
     ]
    },
    {
     "name": "stdout",
     "output_type": "stream",
     "text": [
      "Epoch: 505, Train Loss: 125.8181623, Eval Loss: 2280.0530645\n"
     ]
    },
    {
     "name": "stderr",
     "output_type": "stream",
     "text": [
      "Training epoch 506: 100%|██████████| 2880/2880 [03:05<00:00, 15.57it/s]\n",
      "Evaluating epoch 506: 100%|██████████| 1440/1440 [01:04<00:00, 22.28it/s]\n"
     ]
    },
    {
     "name": "stdout",
     "output_type": "stream",
     "text": [
      "Epoch: 506, Train Loss: 125.7958952, Eval Loss: 2276.8331504\n"
     ]
    },
    {
     "name": "stderr",
     "output_type": "stream",
     "text": [
      "Training epoch 507: 100%|██████████| 2880/2880 [03:05<00:00, 15.56it/s]\n",
      "Evaluating epoch 507: 100%|██████████| 1440/1440 [01:04<00:00, 22.25it/s]\n"
     ]
    },
    {
     "name": "stdout",
     "output_type": "stream",
     "text": [
      "Epoch: 507, Train Loss: 125.7616658, Eval Loss: 2276.8967816\n"
     ]
    },
    {
     "name": "stderr",
     "output_type": "stream",
     "text": [
      "Training epoch 508: 100%|██████████| 2880/2880 [03:04<00:00, 15.57it/s]\n",
      "Evaluating epoch 508: 100%|██████████| 1440/1440 [01:04<00:00, 22.21it/s]\n"
     ]
    },
    {
     "name": "stdout",
     "output_type": "stream",
     "text": [
      "Epoch: 508, Train Loss: 125.7640373, Eval Loss: 2276.4067581\n"
     ]
    },
    {
     "name": "stderr",
     "output_type": "stream",
     "text": [
      "Training epoch 509: 100%|██████████| 2880/2880 [03:05<00:00, 15.56it/s]\n",
      "Evaluating epoch 509: 100%|██████████| 1440/1440 [01:04<00:00, 22.21it/s]\n"
     ]
    },
    {
     "name": "stdout",
     "output_type": "stream",
     "text": [
      "Epoch: 509, Train Loss: 125.7094938, Eval Loss: 2277.3484786\n"
     ]
    },
    {
     "name": "stderr",
     "output_type": "stream",
     "text": [
      "Training epoch 510: 100%|██████████| 2880/2880 [03:04<00:00, 15.58it/s]\n",
      "Evaluating epoch 510: 100%|██████████| 1440/1440 [01:04<00:00, 22.31it/s]\n"
     ]
    },
    {
     "name": "stdout",
     "output_type": "stream",
     "text": [
      "Epoch: 510, Train Loss: 125.6949716, Eval Loss: 2276.7194621\n"
     ]
    },
    {
     "name": "stderr",
     "output_type": "stream",
     "text": [
      "Training epoch 511: 100%|██████████| 2880/2880 [03:05<00:00, 15.54it/s]\n",
      "Evaluating epoch 511: 100%|██████████| 1440/1440 [01:04<00:00, 22.19it/s]\n"
     ]
    },
    {
     "name": "stdout",
     "output_type": "stream",
     "text": [
      "Epoch: 511, Train Loss: 125.7157462, Eval Loss: 2274.7836581\n"
     ]
    },
    {
     "name": "stderr",
     "output_type": "stream",
     "text": [
      "Training epoch 512: 100%|██████████| 2880/2880 [03:04<00:00, 15.57it/s]\n",
      "Evaluating epoch 512: 100%|██████████| 1440/1440 [01:04<00:00, 22.22it/s]\n"
     ]
    },
    {
     "name": "stdout",
     "output_type": "stream",
     "text": [
      "Epoch: 512, Train Loss: 125.6856575, Eval Loss: 2277.2942132\n"
     ]
    },
    {
     "name": "stderr",
     "output_type": "stream",
     "text": [
      "Training epoch 513: 100%|██████████| 2880/2880 [03:05<00:00, 15.56it/s]\n",
      "Evaluating epoch 513: 100%|██████████| 1440/1440 [01:04<00:00, 22.31it/s]\n"
     ]
    },
    {
     "name": "stdout",
     "output_type": "stream",
     "text": [
      "Epoch: 513, Train Loss: 125.6553520, Eval Loss: 2277.7072666\n"
     ]
    },
    {
     "name": "stderr",
     "output_type": "stream",
     "text": [
      "Training epoch 514: 100%|██████████| 2880/2880 [03:04<00:00, 15.57it/s]\n",
      "Evaluating epoch 514: 100%|██████████| 1440/1440 [01:04<00:00, 22.26it/s]\n"
     ]
    },
    {
     "name": "stdout",
     "output_type": "stream",
     "text": [
      "Epoch: 514, Train Loss: 125.6599864, Eval Loss: 2276.1562940\n"
     ]
    },
    {
     "name": "stderr",
     "output_type": "stream",
     "text": [
      "Training epoch 515: 100%|██████████| 2880/2880 [03:05<00:00, 15.57it/s]\n",
      "Evaluating epoch 515: 100%|██████████| 1440/1440 [01:04<00:00, 22.24it/s]\n"
     ]
    },
    {
     "name": "stdout",
     "output_type": "stream",
     "text": [
      "Epoch: 515, Train Loss: 125.6609781, Eval Loss: 2275.1612080\n"
     ]
    },
    {
     "name": "stderr",
     "output_type": "stream",
     "text": [
      "Training epoch 516: 100%|██████████| 2880/2880 [03:05<00:00, 15.55it/s]\n",
      "Evaluating epoch 516: 100%|██████████| 1440/1440 [01:04<00:00, 22.26it/s]\n"
     ]
    },
    {
     "name": "stdout",
     "output_type": "stream",
     "text": [
      "Epoch: 516, Train Loss: 125.6617119, Eval Loss: 2273.6841157\n"
     ]
    },
    {
     "name": "stderr",
     "output_type": "stream",
     "text": [
      "Training epoch 517: 100%|██████████| 2880/2880 [03:05<00:00, 15.56it/s]\n",
      "Evaluating epoch 517: 100%|██████████| 1440/1440 [01:04<00:00, 22.26it/s]\n"
     ]
    },
    {
     "name": "stdout",
     "output_type": "stream",
     "text": [
      "Epoch: 517, Train Loss: 125.6472727, Eval Loss: 2275.1579435\n"
     ]
    },
    {
     "name": "stderr",
     "output_type": "stream",
     "text": [
      "Training epoch 518: 100%|██████████| 2880/2880 [03:04<00:00, 15.57it/s]\n",
      "Evaluating epoch 518: 100%|██████████| 1440/1440 [01:04<00:00, 22.21it/s]\n"
     ]
    },
    {
     "name": "stdout",
     "output_type": "stream",
     "text": [
      "Epoch: 518, Train Loss: 125.6714141, Eval Loss: 2274.4988290\n"
     ]
    },
    {
     "name": "stderr",
     "output_type": "stream",
     "text": [
      "Training epoch 519: 100%|██████████| 2880/2880 [03:05<00:00, 15.55it/s]\n"
     ]
    },
    {
     "name": "stdout",
     "output_type": "stream",
     "text": [
      "Epoch 00520: reducing learning rate of group 0 to 1.0000e-05.\n"
     ]
    },
    {
     "name": "stderr",
     "output_type": "stream",
     "text": [
      "Evaluating epoch 519: 100%|██████████| 1440/1440 [01:04<00:00, 22.30it/s]\n"
     ]
    },
    {
     "name": "stdout",
     "output_type": "stream",
     "text": [
      "Epoch: 519, Train Loss: 125.6870878, Eval Loss: 2272.4319406\n"
     ]
    },
    {
     "name": "stderr",
     "output_type": "stream",
     "text": [
      "Training epoch 520: 100%|██████████| 2880/2880 [03:05<00:00, 15.56it/s]\n",
      "Evaluating epoch 520: 100%|██████████| 1440/1440 [01:04<00:00, 22.27it/s]\n"
     ]
    },
    {
     "name": "stdout",
     "output_type": "stream",
     "text": [
      "Epoch: 520, Train Loss: 125.4119351, Eval Loss: 2275.1150260\n"
     ]
    },
    {
     "name": "stderr",
     "output_type": "stream",
     "text": [
      "Training epoch 521: 100%|██████████| 2880/2880 [03:05<00:00, 15.56it/s]\n",
      "Evaluating epoch 521: 100%|██████████| 1440/1440 [01:04<00:00, 22.18it/s]\n"
     ]
    },
    {
     "name": "stdout",
     "output_type": "stream",
     "text": [
      "Epoch: 521, Train Loss: 125.3316394, Eval Loss: 2276.5100141\n"
     ]
    },
    {
     "name": "stderr",
     "output_type": "stream",
     "text": [
      "Training epoch 522: 100%|██████████| 2880/2880 [03:05<00:00, 15.55it/s]\n",
      "Evaluating epoch 522: 100%|██████████| 1440/1440 [01:04<00:00, 22.25it/s]\n"
     ]
    },
    {
     "name": "stdout",
     "output_type": "stream",
     "text": [
      "Epoch: 522, Train Loss: 125.2855858, Eval Loss: 2277.1346852\n"
     ]
    },
    {
     "name": "stderr",
     "output_type": "stream",
     "text": [
      "Training epoch 523: 100%|██████████| 2880/2880 [03:05<00:00, 15.55it/s]\n",
      "Evaluating epoch 523: 100%|██████████| 1440/1440 [01:04<00:00, 22.21it/s]\n"
     ]
    },
    {
     "name": "stdout",
     "output_type": "stream",
     "text": [
      "Epoch: 523, Train Loss: 125.2544880, Eval Loss: 2277.5271994\n"
     ]
    },
    {
     "name": "stderr",
     "output_type": "stream",
     "text": [
      "Training epoch 524: 100%|██████████| 2880/2880 [03:04<00:00, 15.57it/s]\n",
      "Evaluating epoch 524: 100%|██████████| 1440/1440 [01:04<00:00, 22.16it/s]\n"
     ]
    },
    {
     "name": "stdout",
     "output_type": "stream",
     "text": [
      "Epoch: 524, Train Loss: 125.2308689, Eval Loss: 2277.7202774\n"
     ]
    },
    {
     "name": "stderr",
     "output_type": "stream",
     "text": [
      "Training epoch 525: 100%|██████████| 2880/2880 [03:04<00:00, 15.59it/s]\n",
      "Evaluating epoch 525: 100%|██████████| 1440/1440 [01:05<00:00, 22.06it/s]\n"
     ]
    },
    {
     "name": "stdout",
     "output_type": "stream",
     "text": [
      "Epoch: 525, Train Loss: 125.2104722, Eval Loss: 2277.9709572\n"
     ]
    },
    {
     "name": "stderr",
     "output_type": "stream",
     "text": [
      "Training epoch 526: 100%|██████████| 2880/2880 [03:05<00:00, 15.57it/s]\n",
      "Evaluating epoch 526: 100%|██████████| 1440/1440 [01:05<00:00, 22.14it/s]\n"
     ]
    },
    {
     "name": "stdout",
     "output_type": "stream",
     "text": [
      "Epoch: 526, Train Loss: 125.2018516, Eval Loss: 2277.9488509\n"
     ]
    },
    {
     "name": "stderr",
     "output_type": "stream",
     "text": [
      "Training epoch 527: 100%|██████████| 2880/2880 [03:05<00:00, 15.55it/s]\n",
      "Evaluating epoch 527: 100%|██████████| 1440/1440 [01:04<00:00, 22.31it/s]\n"
     ]
    },
    {
     "name": "stdout",
     "output_type": "stream",
     "text": [
      "Epoch: 527, Train Loss: 125.1966652, Eval Loss: 2277.8813947\n"
     ]
    },
    {
     "name": "stderr",
     "output_type": "stream",
     "text": [
      "Training epoch 528: 100%|██████████| 2880/2880 [03:05<00:00, 15.53it/s]\n",
      "Evaluating epoch 528: 100%|██████████| 1440/1440 [01:04<00:00, 22.25it/s]\n"
     ]
    },
    {
     "name": "stdout",
     "output_type": "stream",
     "text": [
      "Epoch: 528, Train Loss: 125.1956456, Eval Loss: 2277.8639655\n"
     ]
    },
    {
     "name": "stderr",
     "output_type": "stream",
     "text": [
      "Training epoch 529: 100%|██████████| 2880/2880 [03:04<00:00, 15.57it/s]\n",
      "Evaluating epoch 529: 100%|██████████| 1440/1440 [01:04<00:00, 22.28it/s]\n"
     ]
    },
    {
     "name": "stdout",
     "output_type": "stream",
     "text": [
      "Epoch: 529, Train Loss: 125.1925131, Eval Loss: 2277.8644703\n"
     ]
    },
    {
     "name": "stderr",
     "output_type": "stream",
     "text": [
      "Training epoch 530: 100%|██████████| 2880/2880 [03:05<00:00, 15.56it/s]\n",
      "Evaluating epoch 530: 100%|██████████| 1440/1440 [01:04<00:00, 22.25it/s]\n"
     ]
    },
    {
     "name": "stdout",
     "output_type": "stream",
     "text": [
      "Epoch: 530, Train Loss: 125.1852809, Eval Loss: 2277.7796880\n"
     ]
    },
    {
     "name": "stderr",
     "output_type": "stream",
     "text": [
      "Training epoch 531: 100%|██████████| 2880/2880 [03:04<00:00, 15.59it/s]\n",
      "Evaluating epoch 531: 100%|██████████| 1440/1440 [01:04<00:00, 22.18it/s]\n"
     ]
    },
    {
     "name": "stdout",
     "output_type": "stream",
     "text": [
      "Epoch: 531, Train Loss: 125.1804863, Eval Loss: 2277.6711561\n"
     ]
    },
    {
     "name": "stderr",
     "output_type": "stream",
     "text": [
      "Training epoch 532: 100%|██████████| 2880/2880 [03:05<00:00, 15.55it/s]\n",
      "Evaluating epoch 532: 100%|██████████| 1440/1440 [01:04<00:00, 22.26it/s]\n"
     ]
    },
    {
     "name": "stdout",
     "output_type": "stream",
     "text": [
      "Epoch: 532, Train Loss: 125.1720891, Eval Loss: 2277.5417105\n"
     ]
    },
    {
     "name": "stderr",
     "output_type": "stream",
     "text": [
      "Training epoch 533: 100%|██████████| 2880/2880 [03:05<00:00, 15.53it/s]\n",
      "Evaluating epoch 533: 100%|██████████| 1440/1440 [01:04<00:00, 22.25it/s]\n"
     ]
    },
    {
     "name": "stdout",
     "output_type": "stream",
     "text": [
      "Epoch: 533, Train Loss: 125.1682639, Eval Loss: 2277.4364419\n"
     ]
    },
    {
     "name": "stderr",
     "output_type": "stream",
     "text": [
      "Training epoch 534: 100%|██████████| 2880/2880 [03:05<00:00, 15.56it/s]\n",
      "Evaluating epoch 534: 100%|██████████| 1440/1440 [01:04<00:00, 22.24it/s]\n"
     ]
    },
    {
     "name": "stdout",
     "output_type": "stream",
     "text": [
      "Epoch: 534, Train Loss: 125.1643642, Eval Loss: 2277.2181550\n"
     ]
    },
    {
     "name": "stderr",
     "output_type": "stream",
     "text": [
      "Training epoch 535: 100%|██████████| 2880/2880 [03:05<00:00, 15.55it/s]\n",
      "Evaluating epoch 535: 100%|██████████| 1440/1440 [01:04<00:00, 22.29it/s]\n"
     ]
    },
    {
     "name": "stdout",
     "output_type": "stream",
     "text": [
      "Epoch: 535, Train Loss: 125.1586050, Eval Loss: 2277.2319648\n"
     ]
    },
    {
     "name": "stderr",
     "output_type": "stream",
     "text": [
      "Training epoch 536: 100%|██████████| 2880/2880 [03:05<00:00, 15.54it/s]\n",
      "Evaluating epoch 536: 100%|██████████| 1440/1440 [01:04<00:00, 22.24it/s]\n"
     ]
    },
    {
     "name": "stdout",
     "output_type": "stream",
     "text": [
      "Epoch: 536, Train Loss: 125.1548970, Eval Loss: 2277.1897915\n"
     ]
    },
    {
     "name": "stderr",
     "output_type": "stream",
     "text": [
      "Training epoch 537: 100%|██████████| 2880/2880 [03:05<00:00, 15.55it/s]\n",
      "Evaluating epoch 537: 100%|██████████| 1440/1440 [01:04<00:00, 22.18it/s]\n"
     ]
    },
    {
     "name": "stdout",
     "output_type": "stream",
     "text": [
      "Epoch: 537, Train Loss: 125.1553157, Eval Loss: 2277.0229332\n"
     ]
    },
    {
     "name": "stderr",
     "output_type": "stream",
     "text": [
      "Training epoch 538: 100%|██████████| 2880/2880 [03:05<00:00, 15.56it/s]\n",
      "Evaluating epoch 538: 100%|██████████| 1440/1440 [01:04<00:00, 22.28it/s]\n"
     ]
    },
    {
     "name": "stdout",
     "output_type": "stream",
     "text": [
      "Epoch: 538, Train Loss: 125.1512816, Eval Loss: 2276.9288293\n"
     ]
    },
    {
     "name": "stderr",
     "output_type": "stream",
     "text": [
      "Training epoch 539: 100%|██████████| 2880/2880 [03:05<00:00, 15.54it/s]\n",
      "Evaluating epoch 539: 100%|██████████| 1440/1440 [01:04<00:00, 22.28it/s]\n"
     ]
    },
    {
     "name": "stdout",
     "output_type": "stream",
     "text": [
      "Epoch: 539, Train Loss: 125.1462190, Eval Loss: 2276.8117260\n"
     ]
    },
    {
     "name": "stderr",
     "output_type": "stream",
     "text": [
      "Training epoch 540: 100%|██████████| 2880/2880 [03:05<00:00, 15.55it/s]\n",
      "Evaluating epoch 540: 100%|██████████| 1440/1440 [01:04<00:00, 22.23it/s]\n"
     ]
    },
    {
     "name": "stdout",
     "output_type": "stream",
     "text": [
      "Epoch: 540, Train Loss: 125.1452350, Eval Loss: 2276.7415776\n"
     ]
    },
    {
     "name": "stderr",
     "output_type": "stream",
     "text": [
      "Training epoch 541: 100%|██████████| 2880/2880 [03:05<00:00, 15.56it/s]\n",
      "Evaluating epoch 541: 100%|██████████| 1440/1440 [01:04<00:00, 22.33it/s]\n"
     ]
    },
    {
     "name": "stdout",
     "output_type": "stream",
     "text": [
      "Epoch: 541, Train Loss: 125.1368214, Eval Loss: 2276.7098021\n"
     ]
    },
    {
     "name": "stderr",
     "output_type": "stream",
     "text": [
      "Training epoch 542: 100%|██████████| 2880/2880 [03:05<00:00, 15.55it/s]\n",
      "Evaluating epoch 542: 100%|██████████| 1440/1440 [01:04<00:00, 22.20it/s]\n"
     ]
    },
    {
     "name": "stdout",
     "output_type": "stream",
     "text": [
      "Epoch: 542, Train Loss: 125.1344116, Eval Loss: 2276.6869046\n"
     ]
    },
    {
     "name": "stderr",
     "output_type": "stream",
     "text": [
      "Training epoch 543: 100%|██████████| 2880/2880 [03:05<00:00, 15.55it/s]\n",
      "Evaluating epoch 543: 100%|██████████| 1440/1440 [01:04<00:00, 22.26it/s]\n"
     ]
    },
    {
     "name": "stdout",
     "output_type": "stream",
     "text": [
      "Epoch: 543, Train Loss: 125.1311210, Eval Loss: 2276.8486151\n"
     ]
    },
    {
     "name": "stderr",
     "output_type": "stream",
     "text": [
      "Training epoch 544: 100%|██████████| 2880/2880 [03:05<00:00, 15.55it/s]\n",
      "Evaluating epoch 544: 100%|██████████| 1440/1440 [01:04<00:00, 22.21it/s]\n"
     ]
    },
    {
     "name": "stdout",
     "output_type": "stream",
     "text": [
      "Epoch: 544, Train Loss: 125.1297643, Eval Loss: 2276.7899789\n"
     ]
    },
    {
     "name": "stderr",
     "output_type": "stream",
     "text": [
      "Training epoch 545: 100%|██████████| 2880/2880 [03:05<00:00, 15.55it/s]\n",
      "Evaluating epoch 545: 100%|██████████| 1440/1440 [01:04<00:00, 22.22it/s]\n"
     ]
    },
    {
     "name": "stdout",
     "output_type": "stream",
     "text": [
      "Epoch: 545, Train Loss: 125.1289654, Eval Loss: 2276.6650779\n"
     ]
    },
    {
     "name": "stderr",
     "output_type": "stream",
     "text": [
      "Training epoch 546: 100%|██████████| 2880/2880 [03:05<00:00, 15.56it/s]\n",
      "Evaluating epoch 546: 100%|██████████| 1440/1440 [01:04<00:00, 22.25it/s]\n"
     ]
    },
    {
     "name": "stdout",
     "output_type": "stream",
     "text": [
      "Epoch: 546, Train Loss: 125.1276570, Eval Loss: 2276.5081491\n"
     ]
    },
    {
     "name": "stderr",
     "output_type": "stream",
     "text": [
      "Training epoch 547: 100%|██████████| 2880/2880 [03:05<00:00, 15.56it/s]\n"
     ]
    },
    {
     "name": "stdout",
     "output_type": "stream",
     "text": [
      "Epoch 00548: reducing learning rate of group 0 to 1.0000e-06.\n"
     ]
    },
    {
     "name": "stderr",
     "output_type": "stream",
     "text": [
      "Evaluating epoch 547: 100%|██████████| 1440/1440 [01:04<00:00, 22.18it/s]\n"
     ]
    },
    {
     "name": "stdout",
     "output_type": "stream",
     "text": [
      "Epoch: 547, Train Loss: 125.1271938, Eval Loss: 2276.4512495\n"
     ]
    },
    {
     "name": "stderr",
     "output_type": "stream",
     "text": [
      "Training epoch 548: 100%|██████████| 2880/2880 [03:05<00:00, 15.54it/s]\n",
      "Evaluating epoch 548: 100%|██████████| 1440/1440 [01:04<00:00, 22.27it/s]\n"
     ]
    },
    {
     "name": "stdout",
     "output_type": "stream",
     "text": [
      "Epoch: 548, Train Loss: 125.0737699, Eval Loss: 2276.4756204\n"
     ]
    },
    {
     "name": "stderr",
     "output_type": "stream",
     "text": [
      "Training epoch 549: 100%|██████████| 2880/2880 [03:04<00:00, 15.58it/s]\n",
      "Evaluating epoch 549: 100%|██████████| 1440/1440 [01:04<00:00, 22.25it/s]\n"
     ]
    },
    {
     "name": "stdout",
     "output_type": "stream",
     "text": [
      "Epoch: 549, Train Loss: 125.0710142, Eval Loss: 2276.4936612\n"
     ]
    },
    {
     "name": "stderr",
     "output_type": "stream",
     "text": [
      "Training epoch 550: 100%|██████████| 2880/2880 [03:05<00:00, 15.56it/s]\n",
      "Evaluating epoch 550: 100%|██████████| 1440/1440 [01:04<00:00, 22.21it/s]\n"
     ]
    },
    {
     "name": "stdout",
     "output_type": "stream",
     "text": [
      "Epoch: 550, Train Loss: 125.0675657, Eval Loss: 2276.4988770\n"
     ]
    },
    {
     "name": "stderr",
     "output_type": "stream",
     "text": [
      "Training epoch 551: 100%|██████████| 2880/2880 [03:04<00:00, 15.58it/s]\n",
      "Evaluating epoch 551: 100%|██████████| 1440/1440 [01:04<00:00, 22.24it/s]\n"
     ]
    },
    {
     "name": "stdout",
     "output_type": "stream",
     "text": [
      "Epoch: 551, Train Loss: 125.0660944, Eval Loss: 2276.5109299\n"
     ]
    },
    {
     "name": "stderr",
     "output_type": "stream",
     "text": [
      "Training epoch 552: 100%|██████████| 2880/2880 [03:04<00:00, 15.57it/s]\n",
      "Evaluating epoch 552: 100%|██████████| 1440/1440 [01:04<00:00, 22.17it/s]\n"
     ]
    },
    {
     "name": "stdout",
     "output_type": "stream",
     "text": [
      "Epoch: 552, Train Loss: 125.0650402, Eval Loss: 2276.5265289\n"
     ]
    },
    {
     "name": "stderr",
     "output_type": "stream",
     "text": [
      "Training epoch 553: 100%|██████████| 2880/2880 [03:05<00:00, 15.54it/s]\n",
      "Evaluating epoch 553: 100%|██████████| 1440/1440 [01:04<00:00, 22.26it/s]\n"
     ]
    },
    {
     "name": "stdout",
     "output_type": "stream",
     "text": [
      "Epoch: 553, Train Loss: 125.0630278, Eval Loss: 2276.5348304\n"
     ]
    },
    {
     "name": "stderr",
     "output_type": "stream",
     "text": [
      "Training epoch 554: 100%|██████████| 2880/2880 [03:05<00:00, 15.53it/s]\n"
     ]
    },
    {
     "name": "stdout",
     "output_type": "stream",
     "text": [
      "Epoch 00555: reducing learning rate of group 0 to 1.0000e-07.\n"
     ]
    },
    {
     "name": "stderr",
     "output_type": "stream",
     "text": [
      "Evaluating epoch 554: 100%|██████████| 1440/1440 [01:04<00:00, 22.33it/s]\n"
     ]
    },
    {
     "name": "stdout",
     "output_type": "stream",
     "text": [
      "Epoch: 554, Train Loss: 125.0633844, Eval Loss: 2276.5571307\n"
     ]
    },
    {
     "name": "stderr",
     "output_type": "stream",
     "text": [
      "Training epoch 555: 100%|██████████| 2880/2880 [03:05<00:00, 15.55it/s]\n",
      "Evaluating epoch 555: 100%|██████████| 1440/1440 [01:04<00:00, 22.30it/s]\n"
     ]
    },
    {
     "name": "stdout",
     "output_type": "stream",
     "text": [
      "Epoch: 555, Train Loss: 125.0562903, Eval Loss: 2276.5558818\n"
     ]
    },
    {
     "name": "stderr",
     "output_type": "stream",
     "text": [
      "Training epoch 556: 100%|██████████| 2880/2880 [03:05<00:00, 15.56it/s]\n",
      "Evaluating epoch 556: 100%|██████████| 1440/1440 [01:04<00:00, 22.28it/s]\n"
     ]
    },
    {
     "name": "stdout",
     "output_type": "stream",
     "text": [
      "Epoch: 556, Train Loss: 125.0561828, Eval Loss: 2276.5545811\n"
     ]
    },
    {
     "name": "stderr",
     "output_type": "stream",
     "text": [
      "Training epoch 557: 100%|██████████| 2880/2880 [03:05<00:00, 15.57it/s]\n",
      "Evaluating epoch 557: 100%|██████████| 1440/1440 [01:04<00:00, 22.21it/s]\n"
     ]
    },
    {
     "name": "stdout",
     "output_type": "stream",
     "text": [
      "Epoch: 557, Train Loss: 125.0559179, Eval Loss: 2276.5534585\n"
     ]
    },
    {
     "name": "stderr",
     "output_type": "stream",
     "text": [
      "Training epoch 558: 100%|██████████| 2880/2880 [03:05<00:00, 15.54it/s]\n",
      "Evaluating epoch 558: 100%|██████████| 1440/1440 [01:04<00:00, 22.27it/s]\n"
     ]
    },
    {
     "name": "stdout",
     "output_type": "stream",
     "text": [
      "Epoch: 558, Train Loss: 125.0557122, Eval Loss: 2276.5524864\n"
     ]
    },
    {
     "name": "stderr",
     "output_type": "stream",
     "text": [
      "Training epoch 559: 100%|██████████| 2880/2880 [03:05<00:00, 15.54it/s]\n",
      "Evaluating epoch 559: 100%|██████████| 1440/1440 [01:04<00:00, 22.23it/s]\n"
     ]
    },
    {
     "name": "stdout",
     "output_type": "stream",
     "text": [
      "Epoch: 559, Train Loss: 125.0554795, Eval Loss: 2276.5516003\n"
     ]
    },
    {
     "name": "stderr",
     "output_type": "stream",
     "text": [
      "Training epoch 560: 100%|██████████| 2880/2880 [03:05<00:00, 15.54it/s]\n",
      "Evaluating epoch 560: 100%|██████████| 1440/1440 [01:04<00:00, 22.19it/s]\n"
     ]
    },
    {
     "name": "stdout",
     "output_type": "stream",
     "text": [
      "Epoch: 560, Train Loss: 125.0552506, Eval Loss: 2276.5507235\n"
     ]
    },
    {
     "name": "stderr",
     "output_type": "stream",
     "text": [
      "Training epoch 561: 100%|██████████| 2880/2880 [03:05<00:00, 15.53it/s]\n"
     ]
    },
    {
     "name": "stdout",
     "output_type": "stream",
     "text": [
      "Epoch 00562: reducing learning rate of group 0 to 1.0000e-08.\n"
     ]
    },
    {
     "name": "stderr",
     "output_type": "stream",
     "text": [
      "Evaluating epoch 561: 100%|██████████| 1440/1440 [01:04<00:00, 22.23it/s]\n"
     ]
    },
    {
     "name": "stdout",
     "output_type": "stream",
     "text": [
      "Epoch: 561, Train Loss: 125.0550766, Eval Loss: 2276.5501588\n"
     ]
    },
    {
     "name": "stderr",
     "output_type": "stream",
     "text": [
      "Training epoch 562: 100%|██████████| 2880/2880 [03:05<00:00, 15.57it/s]\n",
      "Evaluating epoch 562: 100%|██████████| 1440/1440 [01:04<00:00, 22.29it/s]\n"
     ]
    },
    {
     "name": "stdout",
     "output_type": "stream",
     "text": [
      "Epoch: 562, Train Loss: 125.0544179, Eval Loss: 2276.5496156\n"
     ]
    },
    {
     "name": "stderr",
     "output_type": "stream",
     "text": [
      "Training epoch 563: 100%|██████████| 2880/2880 [03:05<00:00, 15.56it/s]\n",
      "Evaluating epoch 563: 100%|██████████| 1440/1440 [01:04<00:00, 22.24it/s]\n"
     ]
    },
    {
     "name": "stdout",
     "output_type": "stream",
     "text": [
      "Epoch: 563, Train Loss: 125.0544146, Eval Loss: 2276.5490815\n"
     ]
    },
    {
     "name": "stderr",
     "output_type": "stream",
     "text": [
      "Training epoch 564: 100%|██████████| 2880/2880 [03:04<00:00, 15.57it/s]\n",
      "Evaluating epoch 564: 100%|██████████| 1440/1440 [01:04<00:00, 22.28it/s]\n"
     ]
    },
    {
     "name": "stdout",
     "output_type": "stream",
     "text": [
      "Epoch: 564, Train Loss: 125.0544113, Eval Loss: 2276.5485237\n"
     ]
    },
    {
     "name": "stderr",
     "output_type": "stream",
     "text": [
      "Training epoch 565: 100%|██████████| 2880/2880 [03:04<00:00, 15.58it/s]\n",
      "Evaluating epoch 565: 100%|██████████| 1440/1440 [01:05<00:00, 22.12it/s]\n"
     ]
    },
    {
     "name": "stdout",
     "output_type": "stream",
     "text": [
      "Epoch: 565, Train Loss: 125.0544077, Eval Loss: 2276.5480390\n"
     ]
    },
    {
     "name": "stderr",
     "output_type": "stream",
     "text": [
      "Training epoch 566: 100%|██████████| 2880/2880 [03:05<00:00, 15.53it/s]\n",
      "Evaluating epoch 566: 100%|██████████| 1440/1440 [01:04<00:00, 22.29it/s]\n"
     ]
    },
    {
     "name": "stdout",
     "output_type": "stream",
     "text": [
      "Epoch: 566, Train Loss: 125.0544042, Eval Loss: 2276.5474778\n"
     ]
    },
    {
     "name": "stderr",
     "output_type": "stream",
     "text": [
      "Training epoch 567: 100%|██████████| 2880/2880 [03:05<00:00, 15.53it/s]\n",
      "Evaluating epoch 567: 100%|██████████| 1440/1440 [01:04<00:00, 22.18it/s]\n"
     ]
    },
    {
     "name": "stdout",
     "output_type": "stream",
     "text": [
      "Epoch: 567, Train Loss: 125.0544004, Eval Loss: 2276.5469434\n"
     ]
    },
    {
     "name": "stderr",
     "output_type": "stream",
     "text": [
      "Training epoch 568: 100%|██████████| 2880/2880 [03:05<00:00, 15.54it/s]\n",
      "Evaluating epoch 568: 100%|██████████| 1440/1440 [01:04<00:00, 22.24it/s]\n"
     ]
    },
    {
     "name": "stdout",
     "output_type": "stream",
     "text": [
      "Epoch: 568, Train Loss: 125.0543967, Eval Loss: 2276.5464132\n"
     ]
    },
    {
     "name": "stderr",
     "output_type": "stream",
     "text": [
      "Training epoch 569: 100%|██████████| 2880/2880 [03:05<00:00, 15.56it/s]\n",
      "Evaluating epoch 569: 100%|██████████| 1440/1440 [01:04<00:00, 22.25it/s]\n"
     ]
    },
    {
     "name": "stdout",
     "output_type": "stream",
     "text": [
      "Epoch: 569, Train Loss: 125.0543933, Eval Loss: 2276.5458683\n"
     ]
    },
    {
     "name": "stderr",
     "output_type": "stream",
     "text": [
      "Training epoch 570: 100%|██████████| 2880/2880 [03:05<00:00, 15.53it/s]\n",
      "Evaluating epoch 570: 100%|██████████| 1440/1440 [01:04<00:00, 22.31it/s]\n"
     ]
    },
    {
     "name": "stdout",
     "output_type": "stream",
     "text": [
      "Epoch: 570, Train Loss: 125.0543903, Eval Loss: 2276.5452754\n"
     ]
    },
    {
     "name": "stderr",
     "output_type": "stream",
     "text": [
      "Training epoch 571: 100%|██████████| 2880/2880 [03:05<00:00, 15.55it/s]\n",
      "Evaluating epoch 571: 100%|██████████| 1440/1440 [01:04<00:00, 22.24it/s]\n"
     ]
    },
    {
     "name": "stdout",
     "output_type": "stream",
     "text": [
      "Epoch: 571, Train Loss: 125.0543870, Eval Loss: 2276.5447876\n"
     ]
    },
    {
     "name": "stderr",
     "output_type": "stream",
     "text": [
      "Training epoch 572: 100%|██████████| 2880/2880 [03:05<00:00, 15.56it/s]\n",
      "Evaluating epoch 572: 100%|██████████| 1440/1440 [01:04<00:00, 22.29it/s]\n"
     ]
    },
    {
     "name": "stdout",
     "output_type": "stream",
     "text": [
      "Epoch: 572, Train Loss: 125.0543839, Eval Loss: 2276.5442344\n"
     ]
    },
    {
     "name": "stderr",
     "output_type": "stream",
     "text": [
      "Training epoch 573: 100%|██████████| 2880/2880 [03:05<00:00, 15.54it/s]\n",
      "Evaluating epoch 573: 100%|██████████| 1440/1440 [01:04<00:00, 22.23it/s]\n"
     ]
    },
    {
     "name": "stdout",
     "output_type": "stream",
     "text": [
      "Epoch: 573, Train Loss: 125.0543806, Eval Loss: 2276.5437212\n"
     ]
    },
    {
     "name": "stderr",
     "output_type": "stream",
     "text": [
      "Training epoch 574: 100%|██████████| 2880/2880 [03:05<00:00, 15.56it/s]\n",
      "Evaluating epoch 574: 100%|██████████| 1440/1440 [01:04<00:00, 22.26it/s]\n"
     ]
    },
    {
     "name": "stdout",
     "output_type": "stream",
     "text": [
      "Epoch: 574, Train Loss: 125.0543769, Eval Loss: 2276.5431684\n"
     ]
    },
    {
     "name": "stderr",
     "output_type": "stream",
     "text": [
      "Training epoch 575: 100%|██████████| 2880/2880 [03:05<00:00, 15.53it/s]\n",
      "Evaluating epoch 575: 100%|██████████| 1440/1440 [01:04<00:00, 22.26it/s]\n"
     ]
    },
    {
     "name": "stdout",
     "output_type": "stream",
     "text": [
      "Epoch: 575, Train Loss: 125.0543742, Eval Loss: 2276.5426177\n"
     ]
    },
    {
     "name": "stderr",
     "output_type": "stream",
     "text": [
      "Training epoch 576: 100%|██████████| 2880/2880 [03:05<00:00, 15.56it/s]\n",
      "Evaluating epoch 576: 100%|██████████| 1440/1440 [01:04<00:00, 22.27it/s]\n"
     ]
    },
    {
     "name": "stdout",
     "output_type": "stream",
     "text": [
      "Epoch: 576, Train Loss: 125.0543706, Eval Loss: 2276.5420718\n"
     ]
    },
    {
     "name": "stderr",
     "output_type": "stream",
     "text": [
      "Training epoch 577: 100%|██████████| 2880/2880 [03:05<00:00, 15.56it/s]\n",
      "Evaluating epoch 577: 100%|██████████| 1440/1440 [01:04<00:00, 22.24it/s]\n"
     ]
    },
    {
     "name": "stdout",
     "output_type": "stream",
     "text": [
      "Epoch: 577, Train Loss: 125.0543675, Eval Loss: 2276.5415748\n"
     ]
    },
    {
     "name": "stderr",
     "output_type": "stream",
     "text": [
      "Training epoch 578: 100%|██████████| 2880/2880 [03:05<00:00, 15.53it/s]\n",
      "Evaluating epoch 578: 100%|██████████| 1440/1440 [01:04<00:00, 22.25it/s]\n"
     ]
    },
    {
     "name": "stdout",
     "output_type": "stream",
     "text": [
      "Epoch: 578, Train Loss: 125.0543649, Eval Loss: 2276.5410028\n"
     ]
    },
    {
     "name": "stderr",
     "output_type": "stream",
     "text": [
      "Training epoch 579: 100%|██████████| 2880/2880 [03:05<00:00, 15.53it/s]\n",
      "Evaluating epoch 579: 100%|██████████| 1440/1440 [01:04<00:00, 22.33it/s]\n"
     ]
    },
    {
     "name": "stdout",
     "output_type": "stream",
     "text": [
      "Epoch: 579, Train Loss: 125.0543613, Eval Loss: 2276.5404668\n"
     ]
    },
    {
     "name": "stderr",
     "output_type": "stream",
     "text": [
      "Training epoch 580: 100%|██████████| 2880/2880 [03:05<00:00, 15.54it/s]\n",
      "Evaluating epoch 580: 100%|██████████| 1440/1440 [01:04<00:00, 22.27it/s]\n"
     ]
    },
    {
     "name": "stdout",
     "output_type": "stream",
     "text": [
      "Epoch: 580, Train Loss: 125.0543582, Eval Loss: 2276.5399082\n"
     ]
    },
    {
     "name": "stderr",
     "output_type": "stream",
     "text": [
      "Training epoch 581: 100%|██████████| 2880/2880 [03:05<00:00, 15.54it/s]\n",
      "Evaluating epoch 581: 100%|██████████| 1440/1440 [01:04<00:00, 22.30it/s]\n"
     ]
    },
    {
     "name": "stdout",
     "output_type": "stream",
     "text": [
      "Epoch: 581, Train Loss: 125.0543556, Eval Loss: 2276.5393671\n"
     ]
    },
    {
     "name": "stderr",
     "output_type": "stream",
     "text": [
      "Training epoch 582: 100%|██████████| 2880/2880 [03:05<00:00, 15.56it/s]\n",
      "Evaluating epoch 582: 100%|██████████| 1440/1440 [01:04<00:00, 22.30it/s]\n"
     ]
    },
    {
     "name": "stdout",
     "output_type": "stream",
     "text": [
      "Epoch: 582, Train Loss: 125.0543518, Eval Loss: 2276.5388083\n"
     ]
    },
    {
     "name": "stderr",
     "output_type": "stream",
     "text": [
      "Training epoch 583: 100%|██████████| 2880/2880 [03:04<00:00, 15.57it/s]\n",
      "Evaluating epoch 583: 100%|██████████| 1440/1440 [01:04<00:00, 22.32it/s]\n"
     ]
    },
    {
     "name": "stdout",
     "output_type": "stream",
     "text": [
      "Epoch: 583, Train Loss: 125.0543493, Eval Loss: 2276.5383050\n"
     ]
    },
    {
     "name": "stderr",
     "output_type": "stream",
     "text": [
      "Training epoch 584: 100%|██████████| 2880/2880 [03:05<00:00, 15.52it/s]\n",
      "Evaluating epoch 584: 100%|██████████| 1440/1440 [01:04<00:00, 22.27it/s]\n"
     ]
    },
    {
     "name": "stdout",
     "output_type": "stream",
     "text": [
      "Epoch: 584, Train Loss: 125.0543467, Eval Loss: 2276.5377701\n"
     ]
    },
    {
     "name": "stderr",
     "output_type": "stream",
     "text": [
      "Training epoch 585: 100%|██████████| 2880/2880 [03:05<00:00, 15.55it/s]\n",
      "Evaluating epoch 585: 100%|██████████| 1440/1440 [01:04<00:00, 22.32it/s]\n"
     ]
    },
    {
     "name": "stdout",
     "output_type": "stream",
     "text": [
      "Epoch: 585, Train Loss: 125.0543435, Eval Loss: 2276.5372464\n"
     ]
    },
    {
     "name": "stderr",
     "output_type": "stream",
     "text": [
      "Training epoch 586: 100%|██████████| 2880/2880 [03:05<00:00, 15.54it/s]\n",
      "Evaluating epoch 586: 100%|██████████| 1440/1440 [01:04<00:00, 22.32it/s]\n"
     ]
    },
    {
     "name": "stdout",
     "output_type": "stream",
     "text": [
      "Epoch: 586, Train Loss: 125.0543404, Eval Loss: 2276.5367001\n"
     ]
    },
    {
     "name": "stderr",
     "output_type": "stream",
     "text": [
      "Training epoch 587: 100%|██████████| 2880/2880 [03:05<00:00, 15.53it/s]\n",
      "Evaluating epoch 587: 100%|██████████| 1440/1440 [01:04<00:00, 22.20it/s]\n"
     ]
    },
    {
     "name": "stdout",
     "output_type": "stream",
     "text": [
      "Epoch: 587, Train Loss: 125.0543378, Eval Loss: 2276.5361689\n"
     ]
    },
    {
     "name": "stderr",
     "output_type": "stream",
     "text": [
      "Training epoch 588: 100%|██████████| 2880/2880 [03:05<00:00, 15.52it/s]\n",
      "Evaluating epoch 588: 100%|██████████| 1440/1440 [01:04<00:00, 22.31it/s]\n"
     ]
    },
    {
     "name": "stdout",
     "output_type": "stream",
     "text": [
      "Epoch: 588, Train Loss: 125.0543346, Eval Loss: 2276.5356067\n"
     ]
    },
    {
     "name": "stderr",
     "output_type": "stream",
     "text": [
      "Training epoch 589: 100%|██████████| 2880/2880 [03:05<00:00, 15.52it/s]\n",
      "Evaluating epoch 589: 100%|██████████| 1440/1440 [01:04<00:00, 22.25it/s]\n"
     ]
    },
    {
     "name": "stdout",
     "output_type": "stream",
     "text": [
      "Epoch: 589, Train Loss: 125.0543321, Eval Loss: 2276.5350789\n"
     ]
    },
    {
     "name": "stderr",
     "output_type": "stream",
     "text": [
      "Training epoch 590: 100%|██████████| 2880/2880 [03:05<00:00, 15.53it/s]\n",
      "Evaluating epoch 590: 100%|██████████| 1440/1440 [01:04<00:00, 22.21it/s]\n"
     ]
    },
    {
     "name": "stdout",
     "output_type": "stream",
     "text": [
      "Epoch: 590, Train Loss: 125.0543292, Eval Loss: 2276.5345362\n"
     ]
    },
    {
     "name": "stderr",
     "output_type": "stream",
     "text": [
      "Training epoch 591: 100%|██████████| 2880/2880 [03:05<00:00, 15.54it/s]\n",
      "Evaluating epoch 591: 100%|██████████| 1440/1440 [01:04<00:00, 22.29it/s]\n"
     ]
    },
    {
     "name": "stdout",
     "output_type": "stream",
     "text": [
      "Epoch: 591, Train Loss: 125.0543263, Eval Loss: 2276.5340180\n"
     ]
    },
    {
     "name": "stderr",
     "output_type": "stream",
     "text": [
      "Training epoch 592: 100%|██████████| 2880/2880 [03:04<00:00, 15.57it/s]\n",
      "Evaluating epoch 592: 100%|██████████| 1440/1440 [01:04<00:00, 22.21it/s]\n"
     ]
    },
    {
     "name": "stdout",
     "output_type": "stream",
     "text": [
      "Epoch: 592, Train Loss: 125.0543244, Eval Loss: 2276.5334862\n"
     ]
    },
    {
     "name": "stderr",
     "output_type": "stream",
     "text": [
      "Training epoch 593: 100%|██████████| 2880/2880 [03:05<00:00, 15.52it/s]\n",
      "Evaluating epoch 593: 100%|██████████| 1440/1440 [01:04<00:00, 22.23it/s]\n"
     ]
    },
    {
     "name": "stdout",
     "output_type": "stream",
     "text": [
      "Epoch: 593, Train Loss: 125.0543216, Eval Loss: 2276.5329612\n"
     ]
    },
    {
     "name": "stderr",
     "output_type": "stream",
     "text": [
      "Training epoch 594: 100%|██████████| 2880/2880 [03:05<00:00, 15.56it/s]\n",
      "Evaluating epoch 594: 100%|██████████| 1440/1440 [01:04<00:00, 22.32it/s]\n"
     ]
    },
    {
     "name": "stdout",
     "output_type": "stream",
     "text": [
      "Epoch: 594, Train Loss: 125.0543187, Eval Loss: 2276.5324198\n"
     ]
    },
    {
     "name": "stderr",
     "output_type": "stream",
     "text": [
      "Training epoch 595: 100%|██████████| 2880/2880 [03:05<00:00, 15.54it/s]\n",
      "Evaluating epoch 595: 100%|██████████| 1440/1440 [01:04<00:00, 22.30it/s]\n"
     ]
    },
    {
     "name": "stdout",
     "output_type": "stream",
     "text": [
      "Epoch: 595, Train Loss: 125.0543163, Eval Loss: 2276.5318810\n"
     ]
    },
    {
     "name": "stderr",
     "output_type": "stream",
     "text": [
      "Training epoch 596: 100%|██████████| 2880/2880 [03:05<00:00, 15.53it/s]\n",
      "Evaluating epoch 596: 100%|██████████| 1440/1440 [01:04<00:00, 22.22it/s]\n"
     ]
    },
    {
     "name": "stdout",
     "output_type": "stream",
     "text": [
      "Epoch: 596, Train Loss: 125.0543135, Eval Loss: 2276.5313069\n"
     ]
    },
    {
     "name": "stderr",
     "output_type": "stream",
     "text": [
      "Training epoch 597: 100%|██████████| 2880/2880 [03:05<00:00, 15.55it/s]\n",
      "Evaluating epoch 597: 100%|██████████| 1440/1440 [01:04<00:00, 22.25it/s]\n"
     ]
    },
    {
     "name": "stdout",
     "output_type": "stream",
     "text": [
      "Epoch: 597, Train Loss: 125.0543109, Eval Loss: 2276.5307890\n"
     ]
    },
    {
     "name": "stderr",
     "output_type": "stream",
     "text": [
      "Training epoch 598: 100%|██████████| 2880/2880 [03:04<00:00, 15.57it/s]\n",
      "Evaluating epoch 598: 100%|██████████| 1440/1440 [01:04<00:00, 22.25it/s]\n"
     ]
    },
    {
     "name": "stdout",
     "output_type": "stream",
     "text": [
      "Epoch: 598, Train Loss: 125.0543082, Eval Loss: 2276.5302313\n"
     ]
    },
    {
     "name": "stderr",
     "output_type": "stream",
     "text": [
      "Training epoch 599: 100%|██████████| 2880/2880 [03:05<00:00, 15.53it/s]\n",
      "Evaluating epoch 599: 100%|██████████| 1440/1440 [01:04<00:00, 22.28it/s]\n"
     ]
    },
    {
     "name": "stdout",
     "output_type": "stream",
     "text": [
      "Epoch: 599, Train Loss: 125.0543059, Eval Loss: 2276.5297013\n"
     ]
    },
    {
     "name": "stderr",
     "output_type": "stream",
     "text": [
      "Training epoch 600: 100%|██████████| 2880/2880 [03:05<00:00, 15.52it/s]\n",
      "Evaluating epoch 600: 100%|██████████| 1440/1440 [01:04<00:00, 22.22it/s]\n"
     ]
    },
    {
     "name": "stdout",
     "output_type": "stream",
     "text": [
      "Epoch: 600, Train Loss: 125.0543032, Eval Loss: 2276.5291432\n"
     ]
    },
    {
     "name": "stderr",
     "output_type": "stream",
     "text": [
      "Training epoch 601: 100%|██████████| 2880/2880 [03:05<00:00, 15.54it/s]\n",
      "Evaluating epoch 601: 100%|██████████| 1440/1440 [01:04<00:00, 22.27it/s]\n"
     ]
    },
    {
     "name": "stdout",
     "output_type": "stream",
     "text": [
      "Epoch: 601, Train Loss: 125.0543003, Eval Loss: 2276.5286451\n"
     ]
    },
    {
     "name": "stderr",
     "output_type": "stream",
     "text": [
      "Training epoch 602: 100%|██████████| 2880/2880 [03:05<00:00, 15.55it/s]\n",
      "Evaluating epoch 602: 100%|██████████| 1440/1440 [01:04<00:00, 22.34it/s]\n"
     ]
    },
    {
     "name": "stdout",
     "output_type": "stream",
     "text": [
      "Epoch: 602, Train Loss: 125.0542977, Eval Loss: 2276.5280888\n"
     ]
    },
    {
     "name": "stderr",
     "output_type": "stream",
     "text": [
      "Training epoch 603: 100%|██████████| 2880/2880 [03:05<00:00, 15.54it/s]\n",
      "Evaluating epoch 603: 100%|██████████| 1440/1440 [01:04<00:00, 22.22it/s]\n"
     ]
    },
    {
     "name": "stdout",
     "output_type": "stream",
     "text": [
      "Epoch: 603, Train Loss: 125.0542955, Eval Loss: 2276.5275841\n"
     ]
    },
    {
     "name": "stderr",
     "output_type": "stream",
     "text": [
      "Training epoch 604: 100%|██████████| 2880/2880 [03:05<00:00, 15.55it/s]\n",
      "Evaluating epoch 604: 100%|██████████| 1440/1440 [01:04<00:00, 22.27it/s]\n"
     ]
    },
    {
     "name": "stdout",
     "output_type": "stream",
     "text": [
      "Epoch: 604, Train Loss: 125.0542925, Eval Loss: 2276.5270024\n"
     ]
    },
    {
     "name": "stderr",
     "output_type": "stream",
     "text": [
      "Training epoch 605: 100%|██████████| 2880/2880 [03:05<00:00, 15.56it/s]\n",
      "Evaluating epoch 605: 100%|██████████| 1440/1440 [01:04<00:00, 22.28it/s]\n"
     ]
    },
    {
     "name": "stdout",
     "output_type": "stream",
     "text": [
      "Epoch: 605, Train Loss: 125.0542903, Eval Loss: 2276.5265051\n"
     ]
    },
    {
     "name": "stderr",
     "output_type": "stream",
     "text": [
      "Training epoch 606: 100%|██████████| 2880/2880 [03:05<00:00, 15.53it/s]\n",
      "Evaluating epoch 606: 100%|██████████| 1440/1440 [01:04<00:00, 22.34it/s]\n"
     ]
    },
    {
     "name": "stdout",
     "output_type": "stream",
     "text": [
      "Epoch: 606, Train Loss: 125.0542880, Eval Loss: 2276.5259729\n"
     ]
    },
    {
     "name": "stderr",
     "output_type": "stream",
     "text": [
      "Training epoch 607: 100%|██████████| 2880/2880 [03:05<00:00, 15.55it/s]\n",
      "Evaluating epoch 607: 100%|██████████| 1440/1440 [01:04<00:00, 22.34it/s]\n"
     ]
    },
    {
     "name": "stdout",
     "output_type": "stream",
     "text": [
      "Epoch: 607, Train Loss: 125.0542854, Eval Loss: 2276.5254377\n"
     ]
    },
    {
     "name": "stderr",
     "output_type": "stream",
     "text": [
      "Training epoch 608: 100%|██████████| 2880/2880 [03:05<00:00, 15.55it/s]\n",
      "Evaluating epoch 608: 100%|██████████| 1440/1440 [01:04<00:00, 22.31it/s]\n"
     ]
    },
    {
     "name": "stdout",
     "output_type": "stream",
     "text": [
      "Epoch: 608, Train Loss: 125.0542831, Eval Loss: 2276.5248833\n"
     ]
    },
    {
     "name": "stderr",
     "output_type": "stream",
     "text": [
      "Training epoch 609: 100%|██████████| 2880/2880 [03:05<00:00, 15.55it/s]\n",
      "Evaluating epoch 609: 100%|██████████| 1440/1440 [01:04<00:00, 22.31it/s]\n"
     ]
    },
    {
     "name": "stdout",
     "output_type": "stream",
     "text": [
      "Epoch: 609, Train Loss: 125.0542807, Eval Loss: 2276.5243809\n"
     ]
    },
    {
     "name": "stderr",
     "output_type": "stream",
     "text": [
      "Training epoch 610: 100%|██████████| 2880/2880 [03:05<00:00, 15.53it/s]\n",
      "Evaluating epoch 610: 100%|██████████| 1440/1440 [01:04<00:00, 22.20it/s]\n"
     ]
    },
    {
     "name": "stdout",
     "output_type": "stream",
     "text": [
      "Epoch: 610, Train Loss: 125.0542778, Eval Loss: 2276.5238228\n"
     ]
    },
    {
     "name": "stderr",
     "output_type": "stream",
     "text": [
      "Training epoch 611: 100%|██████████| 2880/2880 [03:05<00:00, 15.54it/s]\n",
      "Evaluating epoch 611: 100%|██████████| 1440/1440 [01:04<00:00, 22.18it/s]\n"
     ]
    },
    {
     "name": "stdout",
     "output_type": "stream",
     "text": [
      "Epoch: 611, Train Loss: 125.0542760, Eval Loss: 2276.5232937\n"
     ]
    },
    {
     "name": "stderr",
     "output_type": "stream",
     "text": [
      "Training epoch 612: 100%|██████████| 2880/2880 [03:05<00:00, 15.52it/s]\n",
      "Evaluating epoch 612: 100%|██████████| 1440/1440 [01:04<00:00, 22.25it/s]\n"
     ]
    },
    {
     "name": "stdout",
     "output_type": "stream",
     "text": [
      "Epoch: 612, Train Loss: 125.0542735, Eval Loss: 2276.5227539\n"
     ]
    },
    {
     "name": "stderr",
     "output_type": "stream",
     "text": [
      "Training epoch 613: 100%|██████████| 2880/2880 [03:05<00:00, 15.54it/s]\n",
      "Evaluating epoch 613: 100%|██████████| 1440/1440 [01:04<00:00, 22.23it/s]\n"
     ]
    },
    {
     "name": "stdout",
     "output_type": "stream",
     "text": [
      "Epoch: 613, Train Loss: 125.0542709, Eval Loss: 2276.5222155\n"
     ]
    },
    {
     "name": "stderr",
     "output_type": "stream",
     "text": [
      "Training epoch 614: 100%|██████████| 2880/2880 [03:05<00:00, 15.52it/s]\n",
      "Evaluating epoch 614: 100%|██████████| 1440/1440 [01:04<00:00, 22.26it/s]\n"
     ]
    },
    {
     "name": "stdout",
     "output_type": "stream",
     "text": [
      "Epoch: 614, Train Loss: 125.0542683, Eval Loss: 2276.5216630\n"
     ]
    },
    {
     "name": "stderr",
     "output_type": "stream",
     "text": [
      "Training epoch 615: 100%|██████████| 2880/2880 [03:05<00:00, 15.54it/s]\n",
      "Evaluating epoch 615: 100%|██████████| 1440/1440 [01:05<00:00, 22.15it/s]\n"
     ]
    },
    {
     "name": "stdout",
     "output_type": "stream",
     "text": [
      "Epoch: 615, Train Loss: 125.0542662, Eval Loss: 2276.5211391\n"
     ]
    },
    {
     "name": "stderr",
     "output_type": "stream",
     "text": [
      "Training epoch 616: 100%|██████████| 2880/2880 [03:05<00:00, 15.54it/s]\n",
      "Evaluating epoch 616: 100%|██████████| 1440/1440 [01:04<00:00, 22.28it/s]\n"
     ]
    },
    {
     "name": "stdout",
     "output_type": "stream",
     "text": [
      "Epoch: 616, Train Loss: 125.0542642, Eval Loss: 2276.5205933\n"
     ]
    },
    {
     "name": "stderr",
     "output_type": "stream",
     "text": [
      "Training epoch 617: 100%|██████████| 2880/2880 [03:05<00:00, 15.56it/s]\n",
      "Evaluating epoch 617: 100%|██████████| 1440/1440 [01:04<00:00, 22.28it/s]\n"
     ]
    },
    {
     "name": "stdout",
     "output_type": "stream",
     "text": [
      "Epoch: 617, Train Loss: 125.0542617, Eval Loss: 2276.5200765\n"
     ]
    },
    {
     "name": "stderr",
     "output_type": "stream",
     "text": [
      "Training epoch 618: 100%|██████████| 2880/2880 [03:04<00:00, 15.57it/s]\n",
      "Evaluating epoch 618: 100%|██████████| 1440/1440 [01:04<00:00, 22.17it/s]\n"
     ]
    },
    {
     "name": "stdout",
     "output_type": "stream",
     "text": [
      "Epoch: 618, Train Loss: 125.0542597, Eval Loss: 2276.5195138\n"
     ]
    },
    {
     "name": "stderr",
     "output_type": "stream",
     "text": [
      "Training epoch 619: 100%|██████████| 2880/2880 [03:05<00:00, 15.52it/s]\n",
      "Evaluating epoch 619: 100%|██████████| 1440/1440 [01:04<00:00, 22.19it/s]\n"
     ]
    },
    {
     "name": "stdout",
     "output_type": "stream",
     "text": [
      "Epoch: 619, Train Loss: 125.0542573, Eval Loss: 2276.5189855\n"
     ]
    },
    {
     "name": "stderr",
     "output_type": "stream",
     "text": [
      "Training epoch 620: 100%|██████████| 2880/2880 [03:05<00:00, 15.54it/s]\n",
      "Evaluating epoch 620: 100%|██████████| 1440/1440 [01:04<00:00, 22.26it/s]\n"
     ]
    },
    {
     "name": "stdout",
     "output_type": "stream",
     "text": [
      "Epoch: 620, Train Loss: 125.0542555, Eval Loss: 2276.5184556\n"
     ]
    },
    {
     "name": "stderr",
     "output_type": "stream",
     "text": [
      "Training epoch 621: 100%|██████████| 2880/2880 [03:05<00:00, 15.53it/s]\n",
      "Evaluating epoch 621: 100%|██████████| 1440/1440 [01:05<00:00, 22.11it/s]\n"
     ]
    },
    {
     "name": "stdout",
     "output_type": "stream",
     "text": [
      "Epoch: 621, Train Loss: 125.0542531, Eval Loss: 2276.5179051\n"
     ]
    },
    {
     "name": "stderr",
     "output_type": "stream",
     "text": [
      "Training epoch 622: 100%|██████████| 2880/2880 [03:05<00:00, 15.55it/s]\n",
      "Evaluating epoch 622: 100%|██████████| 1440/1440 [01:04<00:00, 22.27it/s]\n"
     ]
    },
    {
     "name": "stdout",
     "output_type": "stream",
     "text": [
      "Epoch: 622, Train Loss: 125.0542504, Eval Loss: 2276.5173829\n"
     ]
    },
    {
     "name": "stderr",
     "output_type": "stream",
     "text": [
      "Training epoch 623: 100%|██████████| 2880/2880 [03:04<00:00, 15.58it/s]\n",
      "Evaluating epoch 623: 100%|██████████| 1440/1440 [01:04<00:00, 22.22it/s]\n"
     ]
    },
    {
     "name": "stdout",
     "output_type": "stream",
     "text": [
      "Epoch: 623, Train Loss: 125.0542481, Eval Loss: 2276.5168270\n"
     ]
    },
    {
     "name": "stderr",
     "output_type": "stream",
     "text": [
      "Training epoch 624: 100%|██████████| 2880/2880 [03:05<00:00, 15.55it/s]\n",
      "Evaluating epoch 624: 100%|██████████| 1440/1440 [01:04<00:00, 22.29it/s]\n"
     ]
    },
    {
     "name": "stdout",
     "output_type": "stream",
     "text": [
      "Epoch: 624, Train Loss: 125.0542461, Eval Loss: 2276.5163013\n"
     ]
    },
    {
     "name": "stderr",
     "output_type": "stream",
     "text": [
      "Training epoch 625: 100%|██████████| 2880/2880 [03:05<00:00, 15.52it/s]\n",
      "Evaluating epoch 625: 100%|██████████| 1440/1440 [01:04<00:00, 22.21it/s]\n"
     ]
    },
    {
     "name": "stdout",
     "output_type": "stream",
     "text": [
      "Epoch: 625, Train Loss: 125.0542439, Eval Loss: 2276.5157984\n"
     ]
    },
    {
     "name": "stderr",
     "output_type": "stream",
     "text": [
      "Training epoch 626: 100%|██████████| 2880/2880 [03:05<00:00, 15.54it/s]\n",
      "Evaluating epoch 626: 100%|██████████| 1440/1440 [01:04<00:00, 22.24it/s]\n"
     ]
    },
    {
     "name": "stdout",
     "output_type": "stream",
     "text": [
      "Epoch: 626, Train Loss: 125.0542415, Eval Loss: 2276.5152307\n"
     ]
    },
    {
     "name": "stderr",
     "output_type": "stream",
     "text": [
      "Training epoch 627: 100%|██████████| 2880/2880 [03:05<00:00, 15.52it/s]\n",
      "Evaluating epoch 627: 100%|██████████| 1440/1440 [01:04<00:00, 22.28it/s]\n"
     ]
    },
    {
     "name": "stdout",
     "output_type": "stream",
     "text": [
      "Epoch: 627, Train Loss: 125.0542397, Eval Loss: 2276.5147039\n"
     ]
    },
    {
     "name": "stderr",
     "output_type": "stream",
     "text": [
      "Training epoch 628: 100%|██████████| 2880/2880 [03:05<00:00, 15.55it/s]\n",
      "Evaluating epoch 628: 100%|██████████| 1440/1440 [01:04<00:00, 22.23it/s]\n"
     ]
    },
    {
     "name": "stdout",
     "output_type": "stream",
     "text": [
      "Epoch: 628, Train Loss: 125.0542370, Eval Loss: 2276.5141165\n"
     ]
    },
    {
     "name": "stderr",
     "output_type": "stream",
     "text": [
      "Training epoch 629: 100%|██████████| 2880/2880 [03:05<00:00, 15.55it/s]\n",
      "Evaluating epoch 629: 100%|██████████| 1440/1440 [01:04<00:00, 22.31it/s]\n"
     ]
    },
    {
     "name": "stdout",
     "output_type": "stream",
     "text": [
      "Epoch: 629, Train Loss: 125.0542355, Eval Loss: 2276.5136152\n"
     ]
    },
    {
     "name": "stderr",
     "output_type": "stream",
     "text": [
      "Training epoch 630: 100%|██████████| 2880/2880 [03:05<00:00, 15.53it/s]\n",
      "Evaluating epoch 630: 100%|██████████| 1440/1440 [01:04<00:00, 22.25it/s]\n"
     ]
    },
    {
     "name": "stdout",
     "output_type": "stream",
     "text": [
      "Epoch: 630, Train Loss: 125.0542329, Eval Loss: 2276.5130621\n"
     ]
    },
    {
     "name": "stderr",
     "output_type": "stream",
     "text": [
      "Training epoch 631: 100%|██████████| 2880/2880 [03:05<00:00, 15.54it/s]\n",
      "Evaluating epoch 631: 100%|██████████| 1440/1440 [01:04<00:00, 22.25it/s]\n"
     ]
    },
    {
     "name": "stdout",
     "output_type": "stream",
     "text": [
      "Epoch: 631, Train Loss: 125.0542312, Eval Loss: 2276.5125261\n"
     ]
    },
    {
     "name": "stderr",
     "output_type": "stream",
     "text": [
      "Training epoch 632: 100%|██████████| 2880/2880 [03:05<00:00, 15.52it/s]\n",
      "Evaluating epoch 632: 100%|██████████| 1440/1440 [01:04<00:00, 22.21it/s]\n"
     ]
    },
    {
     "name": "stdout",
     "output_type": "stream",
     "text": [
      "Epoch: 632, Train Loss: 125.0542289, Eval Loss: 2276.5120134\n"
     ]
    },
    {
     "name": "stderr",
     "output_type": "stream",
     "text": [
      "Training epoch 633: 100%|██████████| 2880/2880 [03:05<00:00, 15.55it/s]\n",
      "Evaluating epoch 633: 100%|██████████| 1440/1440 [01:05<00:00, 22.15it/s]\n"
     ]
    },
    {
     "name": "stdout",
     "output_type": "stream",
     "text": [
      "Epoch: 633, Train Loss: 125.0542265, Eval Loss: 2276.5115110\n"
     ]
    },
    {
     "name": "stderr",
     "output_type": "stream",
     "text": [
      "Training epoch 634: 100%|██████████| 2880/2880 [03:05<00:00, 15.54it/s]\n",
      "Evaluating epoch 634: 100%|██████████| 1440/1440 [01:04<00:00, 22.32it/s]\n"
     ]
    },
    {
     "name": "stdout",
     "output_type": "stream",
     "text": [
      "Epoch: 634, Train Loss: 125.0542243, Eval Loss: 2276.5109451\n"
     ]
    },
    {
     "name": "stderr",
     "output_type": "stream",
     "text": [
      "Training epoch 635: 100%|██████████| 2880/2880 [03:05<00:00, 15.50it/s]\n",
      "Evaluating epoch 635: 100%|██████████| 1440/1440 [01:04<00:00, 22.21it/s]\n"
     ]
    },
    {
     "name": "stdout",
     "output_type": "stream",
     "text": [
      "Epoch: 635, Train Loss: 125.0542221, Eval Loss: 2276.5103781\n"
     ]
    },
    {
     "name": "stderr",
     "output_type": "stream",
     "text": [
      "Training epoch 636: 100%|██████████| 2880/2880 [03:05<00:00, 15.53it/s]\n",
      "Evaluating epoch 636: 100%|██████████| 1440/1440 [01:04<00:00, 22.22it/s]\n"
     ]
    },
    {
     "name": "stdout",
     "output_type": "stream",
     "text": [
      "Epoch: 636, Train Loss: 125.0542202, Eval Loss: 2276.5098517\n"
     ]
    },
    {
     "name": "stderr",
     "output_type": "stream",
     "text": [
      "Training epoch 637: 100%|██████████| 2880/2880 [03:05<00:00, 15.54it/s]\n",
      "Evaluating epoch 637: 100%|██████████| 1440/1440 [01:05<00:00, 22.06it/s]\n"
     ]
    },
    {
     "name": "stdout",
     "output_type": "stream",
     "text": [
      "Epoch: 637, Train Loss: 125.0542180, Eval Loss: 2276.5093131\n"
     ]
    },
    {
     "name": "stderr",
     "output_type": "stream",
     "text": [
      "Training epoch 638: 100%|██████████| 2880/2880 [03:05<00:00, 15.53it/s]\n",
      "Evaluating epoch 638: 100%|██████████| 1440/1440 [01:04<00:00, 22.25it/s]\n"
     ]
    },
    {
     "name": "stdout",
     "output_type": "stream",
     "text": [
      "Epoch: 638, Train Loss: 125.0542161, Eval Loss: 2276.5087759\n"
     ]
    },
    {
     "name": "stderr",
     "output_type": "stream",
     "text": [
      "Training epoch 639: 100%|██████████| 2880/2880 [03:05<00:00, 15.53it/s]\n",
      "Evaluating epoch 639: 100%|██████████| 1440/1440 [01:04<00:00, 22.24it/s]\n"
     ]
    },
    {
     "name": "stdout",
     "output_type": "stream",
     "text": [
      "Epoch: 639, Train Loss: 125.0542139, Eval Loss: 2276.5082578\n"
     ]
    },
    {
     "name": "stderr",
     "output_type": "stream",
     "text": [
      "Training epoch 640: 100%|██████████| 2880/2880 [03:05<00:00, 15.53it/s]\n",
      "Evaluating epoch 640: 100%|██████████| 1440/1440 [01:04<00:00, 22.20it/s]\n"
     ]
    },
    {
     "name": "stdout",
     "output_type": "stream",
     "text": [
      "Epoch: 640, Train Loss: 125.0542120, Eval Loss: 2276.5077118\n"
     ]
    },
    {
     "name": "stderr",
     "output_type": "stream",
     "text": [
      "Training epoch 641: 100%|██████████| 2880/2880 [03:05<00:00, 15.53it/s]\n",
      "Evaluating epoch 641: 100%|██████████| 1440/1440 [01:04<00:00, 22.27it/s]\n"
     ]
    },
    {
     "name": "stdout",
     "output_type": "stream",
     "text": [
      "Epoch: 641, Train Loss: 125.0542100, Eval Loss: 2276.5071837\n"
     ]
    },
    {
     "name": "stderr",
     "output_type": "stream",
     "text": [
      "Training epoch 642: 100%|██████████| 2880/2880 [03:05<00:00, 15.55it/s]\n",
      "Evaluating epoch 642: 100%|██████████| 1440/1440 [01:04<00:00, 22.25it/s]\n"
     ]
    },
    {
     "name": "stdout",
     "output_type": "stream",
     "text": [
      "Epoch: 642, Train Loss: 125.0542073, Eval Loss: 2276.5066130\n"
     ]
    },
    {
     "name": "stderr",
     "output_type": "stream",
     "text": [
      "Training epoch 643: 100%|██████████| 2880/2880 [03:05<00:00, 15.51it/s]\n",
      "Evaluating epoch 643: 100%|██████████| 1440/1440 [01:04<00:00, 22.25it/s]\n"
     ]
    },
    {
     "name": "stdout",
     "output_type": "stream",
     "text": [
      "Epoch: 643, Train Loss: 125.0542055, Eval Loss: 2276.5060871\n"
     ]
    },
    {
     "name": "stderr",
     "output_type": "stream",
     "text": [
      "Training epoch 644: 100%|██████████| 2880/2880 [03:05<00:00, 15.54it/s]\n",
      "Evaluating epoch 644: 100%|██████████| 1440/1440 [01:04<00:00, 22.18it/s]\n"
     ]
    },
    {
     "name": "stdout",
     "output_type": "stream",
     "text": [
      "Epoch: 644, Train Loss: 125.0542036, Eval Loss: 2276.5055635\n"
     ]
    },
    {
     "name": "stderr",
     "output_type": "stream",
     "text": [
      "Training epoch 645: 100%|██████████| 2880/2880 [03:05<00:00, 15.52it/s]\n",
      "Evaluating epoch 645: 100%|██████████| 1440/1440 [01:04<00:00, 22.24it/s]\n"
     ]
    },
    {
     "name": "stdout",
     "output_type": "stream",
     "text": [
      "Epoch: 645, Train Loss: 125.0542017, Eval Loss: 2276.5050190\n"
     ]
    },
    {
     "name": "stderr",
     "output_type": "stream",
     "text": [
      "Training epoch 646: 100%|██████████| 2880/2880 [03:05<00:00, 15.54it/s]\n",
      "Evaluating epoch 646: 100%|██████████| 1440/1440 [01:04<00:00, 22.17it/s]\n"
     ]
    },
    {
     "name": "stdout",
     "output_type": "stream",
     "text": [
      "Epoch: 646, Train Loss: 125.0541999, Eval Loss: 2276.5044546\n"
     ]
    },
    {
     "name": "stderr",
     "output_type": "stream",
     "text": [
      "Training epoch 647: 100%|██████████| 2880/2880 [03:05<00:00, 15.53it/s]\n",
      "Evaluating epoch 647: 100%|██████████| 1440/1440 [01:04<00:00, 22.29it/s]\n"
     ]
    },
    {
     "name": "stdout",
     "output_type": "stream",
     "text": [
      "Epoch: 647, Train Loss: 125.0541974, Eval Loss: 2276.5039169\n"
     ]
    },
    {
     "name": "stderr",
     "output_type": "stream",
     "text": [
      "Training epoch 648: 100%|██████████| 2880/2880 [03:05<00:00, 15.51it/s]\n",
      "Evaluating epoch 648: 100%|██████████| 1440/1440 [01:04<00:00, 22.24it/s]\n"
     ]
    },
    {
     "name": "stdout",
     "output_type": "stream",
     "text": [
      "Epoch: 648, Train Loss: 125.0541953, Eval Loss: 2276.5033641\n"
     ]
    },
    {
     "name": "stderr",
     "output_type": "stream",
     "text": [
      "Training epoch 649: 100%|██████████| 2880/2880 [03:05<00:00, 15.53it/s]\n",
      "Evaluating epoch 649: 100%|██████████| 1440/1440 [01:04<00:00, 22.21it/s]\n"
     ]
    },
    {
     "name": "stdout",
     "output_type": "stream",
     "text": [
      "Epoch: 649, Train Loss: 125.0541938, Eval Loss: 2276.5028288\n"
     ]
    },
    {
     "name": "stderr",
     "output_type": "stream",
     "text": [
      "Training epoch 650: 100%|██████████| 2880/2880 [03:05<00:00, 15.54it/s]\n",
      "Evaluating epoch 650: 100%|██████████| 1440/1440 [01:04<00:00, 22.16it/s]\n"
     ]
    },
    {
     "name": "stdout",
     "output_type": "stream",
     "text": [
      "Epoch: 650, Train Loss: 125.0541913, Eval Loss: 2276.5022906\n"
     ]
    },
    {
     "name": "stderr",
     "output_type": "stream",
     "text": [
      "Training epoch 651: 100%|██████████| 2880/2880 [03:05<00:00, 15.53it/s]\n",
      "Evaluating epoch 651: 100%|██████████| 1440/1440 [01:04<00:00, 22.19it/s]\n"
     ]
    },
    {
     "name": "stdout",
     "output_type": "stream",
     "text": [
      "Epoch: 651, Train Loss: 125.0541896, Eval Loss: 2276.5017519\n"
     ]
    },
    {
     "name": "stderr",
     "output_type": "stream",
     "text": [
      "Training epoch 652: 100%|██████████| 2880/2880 [03:05<00:00, 15.55it/s]\n",
      "Evaluating epoch 652: 100%|██████████| 1440/1440 [01:04<00:00, 22.24it/s]\n"
     ]
    },
    {
     "name": "stdout",
     "output_type": "stream",
     "text": [
      "Epoch: 652, Train Loss: 125.0541880, Eval Loss: 2276.5011788\n"
     ]
    },
    {
     "name": "stderr",
     "output_type": "stream",
     "text": [
      "Training epoch 653: 100%|██████████| 2880/2880 [03:05<00:00, 15.53it/s]\n",
      "Evaluating epoch 653: 100%|██████████| 1440/1440 [01:04<00:00, 22.25it/s]\n"
     ]
    },
    {
     "name": "stdout",
     "output_type": "stream",
     "text": [
      "Epoch: 653, Train Loss: 125.0541860, Eval Loss: 2276.5006681\n"
     ]
    },
    {
     "name": "stderr",
     "output_type": "stream",
     "text": [
      "Training epoch 654: 100%|██████████| 2880/2880 [03:05<00:00, 15.55it/s]\n",
      "Evaluating epoch 654: 100%|██████████| 1440/1440 [01:04<00:00, 22.23it/s]\n"
     ]
    },
    {
     "name": "stdout",
     "output_type": "stream",
     "text": [
      "Epoch: 654, Train Loss: 125.0541838, Eval Loss: 2276.5001104\n"
     ]
    },
    {
     "name": "stderr",
     "output_type": "stream",
     "text": [
      "Training epoch 655: 100%|██████████| 2880/2880 [03:05<00:00, 15.53it/s]\n",
      "Evaluating epoch 655: 100%|██████████| 1440/1440 [01:04<00:00, 22.19it/s]\n"
     ]
    },
    {
     "name": "stdout",
     "output_type": "stream",
     "text": [
      "Epoch: 655, Train Loss: 125.0541816, Eval Loss: 2276.4995997\n"
     ]
    },
    {
     "name": "stderr",
     "output_type": "stream",
     "text": [
      "Training epoch 656: 100%|██████████| 2880/2880 [03:05<00:00, 15.54it/s]\n",
      "Evaluating epoch 656: 100%|██████████| 1440/1440 [01:04<00:00, 22.17it/s]\n"
     ]
    },
    {
     "name": "stdout",
     "output_type": "stream",
     "text": [
      "Epoch: 656, Train Loss: 125.0541800, Eval Loss: 2276.4990491\n"
     ]
    },
    {
     "name": "stderr",
     "output_type": "stream",
     "text": [
      "Training epoch 657: 100%|██████████| 2880/2880 [03:05<00:00, 15.54it/s]\n",
      "Evaluating epoch 657: 100%|██████████| 1440/1440 [01:04<00:00, 22.18it/s]\n"
     ]
    },
    {
     "name": "stdout",
     "output_type": "stream",
     "text": [
      "Epoch: 657, Train Loss: 125.0541780, Eval Loss: 2276.4985343\n"
     ]
    },
    {
     "name": "stderr",
     "output_type": "stream",
     "text": [
      "Training epoch 658: 100%|██████████| 2880/2880 [03:05<00:00, 15.53it/s]\n",
      "Evaluating epoch 658: 100%|██████████| 1440/1440 [01:04<00:00, 22.23it/s]\n"
     ]
    },
    {
     "name": "stdout",
     "output_type": "stream",
     "text": [
      "Epoch: 658, Train Loss: 125.0541759, Eval Loss: 2276.4979645\n"
     ]
    },
    {
     "name": "stderr",
     "output_type": "stream",
     "text": [
      "Training epoch 659: 100%|██████████| 2880/2880 [03:05<00:00, 15.54it/s]\n",
      "Evaluating epoch 659: 100%|██████████| 1440/1440 [01:04<00:00, 22.28it/s]\n"
     ]
    },
    {
     "name": "stdout",
     "output_type": "stream",
     "text": [
      "Epoch: 659, Train Loss: 125.0541740, Eval Loss: 2276.4974457\n"
     ]
    },
    {
     "name": "stderr",
     "output_type": "stream",
     "text": [
      "Training epoch 660: 100%|██████████| 2880/2880 [03:05<00:00, 15.52it/s]\n",
      "Evaluating epoch 660: 100%|██████████| 1440/1440 [01:04<00:00, 22.17it/s]\n"
     ]
    },
    {
     "name": "stdout",
     "output_type": "stream",
     "text": [
      "Epoch: 660, Train Loss: 125.0541719, Eval Loss: 2276.4969135\n"
     ]
    },
    {
     "name": "stderr",
     "output_type": "stream",
     "text": [
      "Training epoch 661: 100%|██████████| 2880/2880 [03:05<00:00, 15.52it/s]\n",
      "Evaluating epoch 661: 100%|██████████| 1440/1440 [01:04<00:00, 22.24it/s]\n"
     ]
    },
    {
     "name": "stdout",
     "output_type": "stream",
     "text": [
      "Epoch: 661, Train Loss: 125.0541704, Eval Loss: 2276.4963961\n"
     ]
    },
    {
     "name": "stderr",
     "output_type": "stream",
     "text": [
      "Training epoch 662: 100%|██████████| 2880/2880 [03:04<00:00, 15.57it/s]\n",
      "Evaluating epoch 662: 100%|██████████| 1440/1440 [01:04<00:00, 22.17it/s]\n"
     ]
    },
    {
     "name": "stdout",
     "output_type": "stream",
     "text": [
      "Epoch: 662, Train Loss: 125.0541681, Eval Loss: 2276.4958663\n"
     ]
    },
    {
     "name": "stderr",
     "output_type": "stream",
     "text": [
      "Training epoch 663: 100%|██████████| 2880/2880 [03:04<00:00, 15.57it/s]\n",
      "Evaluating epoch 663: 100%|██████████| 1440/1440 [01:05<00:00, 22.12it/s]\n"
     ]
    },
    {
     "name": "stdout",
     "output_type": "stream",
     "text": [
      "Epoch: 663, Train Loss: 125.0541659, Eval Loss: 2276.4953477\n"
     ]
    },
    {
     "name": "stderr",
     "output_type": "stream",
     "text": [
      "Training epoch 664: 100%|██████████| 2880/2880 [03:05<00:00, 15.52it/s]\n",
      "Evaluating epoch 664: 100%|██████████| 1440/1440 [01:04<00:00, 22.16it/s]\n"
     ]
    },
    {
     "name": "stdout",
     "output_type": "stream",
     "text": [
      "Epoch: 664, Train Loss: 125.0541644, Eval Loss: 2276.4947932\n"
     ]
    },
    {
     "name": "stderr",
     "output_type": "stream",
     "text": [
      "Training epoch 665: 100%|██████████| 2880/2880 [03:05<00:00, 15.54it/s]\n",
      "Evaluating epoch 665: 100%|██████████| 1440/1440 [01:04<00:00, 22.25it/s]\n"
     ]
    },
    {
     "name": "stdout",
     "output_type": "stream",
     "text": [
      "Epoch: 665, Train Loss: 125.0541624, Eval Loss: 2276.4942686\n"
     ]
    },
    {
     "name": "stderr",
     "output_type": "stream",
     "text": [
      "Training epoch 666: 100%|██████████| 2880/2880 [03:05<00:00, 15.52it/s]\n",
      "Evaluating epoch 666: 100%|██████████| 1440/1440 [01:04<00:00, 22.21it/s]\n"
     ]
    },
    {
     "name": "stdout",
     "output_type": "stream",
     "text": [
      "Epoch: 666, Train Loss: 125.0541606, Eval Loss: 2276.4937050\n"
     ]
    },
    {
     "name": "stderr",
     "output_type": "stream",
     "text": [
      "Training epoch 667: 100%|██████████| 2880/2880 [03:05<00:00, 15.52it/s]\n",
      "Evaluating epoch 667: 100%|██████████| 1440/1440 [01:04<00:00, 22.25it/s]\n"
     ]
    },
    {
     "name": "stdout",
     "output_type": "stream",
     "text": [
      "Epoch: 667, Train Loss: 125.0541589, Eval Loss: 2276.4932127\n"
     ]
    },
    {
     "name": "stderr",
     "output_type": "stream",
     "text": [
      "Training epoch 668: 100%|██████████| 2880/2880 [03:05<00:00, 15.53it/s]\n",
      "Evaluating epoch 668: 100%|██████████| 1440/1440 [01:04<00:00, 22.29it/s]\n"
     ]
    },
    {
     "name": "stdout",
     "output_type": "stream",
     "text": [
      "Epoch: 668, Train Loss: 125.0541563, Eval Loss: 2276.4926274\n"
     ]
    },
    {
     "name": "stderr",
     "output_type": "stream",
     "text": [
      "Training epoch 669: 100%|██████████| 2880/2880 [03:05<00:00, 15.53it/s]\n",
      "Evaluating epoch 669: 100%|██████████| 1440/1440 [01:04<00:00, 22.29it/s]\n"
     ]
    },
    {
     "name": "stdout",
     "output_type": "stream",
     "text": [
      "Epoch: 669, Train Loss: 125.0541550, Eval Loss: 2276.4920868\n"
     ]
    },
    {
     "name": "stderr",
     "output_type": "stream",
     "text": [
      "Training epoch 670: 100%|██████████| 2880/2880 [03:05<00:00, 15.55it/s]\n",
      "Evaluating epoch 670: 100%|██████████| 1440/1440 [01:04<00:00, 22.31it/s]\n"
     ]
    },
    {
     "name": "stdout",
     "output_type": "stream",
     "text": [
      "Epoch: 670, Train Loss: 125.0541525, Eval Loss: 2276.4915504\n"
     ]
    },
    {
     "name": "stderr",
     "output_type": "stream",
     "text": [
      "Training epoch 671: 100%|██████████| 2880/2880 [03:05<00:00, 15.50it/s]\n",
      "Evaluating epoch 671: 100%|██████████| 1440/1440 [01:04<00:00, 22.26it/s]\n"
     ]
    },
    {
     "name": "stdout",
     "output_type": "stream",
     "text": [
      "Epoch: 671, Train Loss: 125.0541510, Eval Loss: 2276.4910380\n"
     ]
    },
    {
     "name": "stderr",
     "output_type": "stream",
     "text": [
      "Training epoch 672: 100%|██████████| 2880/2880 [03:05<00:00, 15.53it/s]\n",
      "Evaluating epoch 672: 100%|██████████| 1440/1440 [01:04<00:00, 22.17it/s]\n"
     ]
    },
    {
     "name": "stdout",
     "output_type": "stream",
     "text": [
      "Epoch: 672, Train Loss: 125.0541491, Eval Loss: 2276.4904853\n"
     ]
    },
    {
     "name": "stderr",
     "output_type": "stream",
     "text": [
      "Training epoch 673: 100%|██████████| 2880/2880 [03:05<00:00, 15.52it/s]\n",
      "Evaluating epoch 673: 100%|██████████| 1440/1440 [01:04<00:00, 22.21it/s]\n"
     ]
    },
    {
     "name": "stdout",
     "output_type": "stream",
     "text": [
      "Epoch: 673, Train Loss: 125.0541472, Eval Loss: 2276.4899721\n"
     ]
    },
    {
     "name": "stderr",
     "output_type": "stream",
     "text": [
      "Training epoch 674: 100%|██████████| 2880/2880 [03:05<00:00, 15.55it/s]\n",
      "Evaluating epoch 674: 100%|██████████| 1440/1440 [01:04<00:00, 22.32it/s]\n"
     ]
    },
    {
     "name": "stdout",
     "output_type": "stream",
     "text": [
      "Epoch: 674, Train Loss: 125.0541452, Eval Loss: 2276.4893886\n"
     ]
    },
    {
     "name": "stderr",
     "output_type": "stream",
     "text": [
      "Training epoch 675: 100%|██████████| 2880/2880 [03:05<00:00, 15.53it/s]\n",
      "Evaluating epoch 675: 100%|██████████| 1440/1440 [01:04<00:00, 22.27it/s]\n"
     ]
    },
    {
     "name": "stdout",
     "output_type": "stream",
     "text": [
      "Epoch: 675, Train Loss: 125.0541435, Eval Loss: 2276.4888754\n"
     ]
    },
    {
     "name": "stderr",
     "output_type": "stream",
     "text": [
      "Training epoch 676: 100%|██████████| 2880/2880 [03:05<00:00, 15.54it/s]\n",
      "Evaluating epoch 676: 100%|██████████| 1440/1440 [01:04<00:00, 22.32it/s]\n"
     ]
    },
    {
     "name": "stdout",
     "output_type": "stream",
     "text": [
      "Epoch: 676, Train Loss: 125.0541415, Eval Loss: 2276.4883363\n"
     ]
    },
    {
     "name": "stderr",
     "output_type": "stream",
     "text": [
      "Training epoch 677: 100%|██████████| 2880/2880 [03:05<00:00, 15.54it/s]\n",
      "Evaluating epoch 677: 100%|██████████| 1440/1440 [01:04<00:00, 22.17it/s]\n"
     ]
    },
    {
     "name": "stdout",
     "output_type": "stream",
     "text": [
      "Epoch: 677, Train Loss: 125.0541399, Eval Loss: 2276.4878117\n"
     ]
    },
    {
     "name": "stderr",
     "output_type": "stream",
     "text": [
      "Training epoch 678: 100%|██████████| 2880/2880 [03:05<00:00, 15.54it/s]\n",
      "Evaluating epoch 678: 100%|██████████| 1440/1440 [01:04<00:00, 22.29it/s]\n"
     ]
    },
    {
     "name": "stdout",
     "output_type": "stream",
     "text": [
      "Epoch: 678, Train Loss: 125.0541375, Eval Loss: 2276.4872748\n"
     ]
    },
    {
     "name": "stderr",
     "output_type": "stream",
     "text": [
      "Training epoch 679: 100%|██████████| 2880/2880 [03:05<00:00, 15.53it/s]\n",
      "Evaluating epoch 679: 100%|██████████| 1440/1440 [01:04<00:00, 22.19it/s]\n"
     ]
    },
    {
     "name": "stdout",
     "output_type": "stream",
     "text": [
      "Epoch: 679, Train Loss: 125.0541358, Eval Loss: 2276.4867143\n"
     ]
    },
    {
     "name": "stderr",
     "output_type": "stream",
     "text": [
      "Training epoch 680: 100%|██████████| 2880/2880 [03:05<00:00, 15.53it/s]\n",
      "Evaluating epoch 680: 100%|██████████| 1440/1440 [01:04<00:00, 22.25it/s]\n"
     ]
    },
    {
     "name": "stdout",
     "output_type": "stream",
     "text": [
      "Epoch: 680, Train Loss: 125.0541338, Eval Loss: 2276.4861873\n"
     ]
    },
    {
     "name": "stderr",
     "output_type": "stream",
     "text": [
      "Training epoch 681: 100%|██████████| 2880/2880 [03:05<00:00, 15.53it/s]\n",
      "Evaluating epoch 681: 100%|██████████| 1440/1440 [01:04<00:00, 22.16it/s]\n"
     ]
    },
    {
     "name": "stdout",
     "output_type": "stream",
     "text": [
      "Epoch: 681, Train Loss: 125.0541319, Eval Loss: 2276.4856728\n"
     ]
    },
    {
     "name": "stderr",
     "output_type": "stream",
     "text": [
      "Training epoch 682: 100%|██████████| 2880/2880 [03:05<00:00, 15.53it/s]\n",
      "Evaluating epoch 682: 100%|██████████| 1440/1440 [01:04<00:00, 22.31it/s]\n"
     ]
    },
    {
     "name": "stdout",
     "output_type": "stream",
     "text": [
      "Epoch: 682, Train Loss: 125.0541300, Eval Loss: 2276.4851105\n"
     ]
    },
    {
     "name": "stderr",
     "output_type": "stream",
     "text": [
      "Training epoch 683: 100%|██████████| 2880/2880 [03:05<00:00, 15.53it/s]\n",
      "Evaluating epoch 683: 100%|██████████| 1440/1440 [01:04<00:00, 22.24it/s]\n"
     ]
    },
    {
     "name": "stdout",
     "output_type": "stream",
     "text": [
      "Epoch: 683, Train Loss: 125.0541283, Eval Loss: 2276.4845914\n"
     ]
    },
    {
     "name": "stderr",
     "output_type": "stream",
     "text": [
      "Training epoch 684: 100%|██████████| 2880/2880 [03:05<00:00, 15.52it/s]\n",
      "Evaluating epoch 684: 100%|██████████| 1440/1440 [01:04<00:00, 22.28it/s]\n"
     ]
    },
    {
     "name": "stdout",
     "output_type": "stream",
     "text": [
      "Epoch: 684, Train Loss: 125.0541267, Eval Loss: 2276.4840272\n"
     ]
    },
    {
     "name": "stderr",
     "output_type": "stream",
     "text": [
      "Training epoch 685: 100%|██████████| 2880/2880 [03:05<00:00, 15.54it/s]\n",
      "Evaluating epoch 685: 100%|██████████| 1440/1440 [01:04<00:00, 22.30it/s]\n"
     ]
    },
    {
     "name": "stdout",
     "output_type": "stream",
     "text": [
      "Epoch: 685, Train Loss: 125.0541243, Eval Loss: 2276.4835107\n"
     ]
    },
    {
     "name": "stderr",
     "output_type": "stream",
     "text": [
      "Training epoch 686: 100%|██████████| 2880/2880 [03:05<00:00, 15.51it/s]\n",
      "Evaluating epoch 686: 100%|██████████| 1440/1440 [01:04<00:00, 22.17it/s]\n"
     ]
    },
    {
     "name": "stdout",
     "output_type": "stream",
     "text": [
      "Epoch: 686, Train Loss: 125.0541226, Eval Loss: 2276.4829411\n"
     ]
    },
    {
     "name": "stderr",
     "output_type": "stream",
     "text": [
      "Training epoch 687: 100%|██████████| 2880/2880 [03:05<00:00, 15.55it/s]\n",
      "Evaluating epoch 687: 100%|██████████| 1440/1440 [01:04<00:00, 22.29it/s]\n"
     ]
    },
    {
     "name": "stdout",
     "output_type": "stream",
     "text": [
      "Epoch: 687, Train Loss: 125.0541210, Eval Loss: 2276.4824278\n"
     ]
    },
    {
     "name": "stderr",
     "output_type": "stream",
     "text": [
      "Training epoch 688: 100%|██████████| 2880/2880 [03:05<00:00, 15.54it/s]\n",
      "Evaluating epoch 688: 100%|██████████| 1440/1440 [01:05<00:00, 22.14it/s]\n"
     ]
    },
    {
     "name": "stdout",
     "output_type": "stream",
     "text": [
      "Epoch: 688, Train Loss: 125.0541194, Eval Loss: 2276.4819124\n"
     ]
    },
    {
     "name": "stderr",
     "output_type": "stream",
     "text": [
      "Training epoch 689: 100%|██████████| 2880/2880 [03:05<00:00, 15.53it/s]\n",
      "Evaluating epoch 689: 100%|██████████| 1440/1440 [01:04<00:00, 22.25it/s]\n"
     ]
    },
    {
     "name": "stdout",
     "output_type": "stream",
     "text": [
      "Epoch: 689, Train Loss: 125.0541176, Eval Loss: 2276.4814003\n"
     ]
    },
    {
     "name": "stderr",
     "output_type": "stream",
     "text": [
      "Training epoch 690: 100%|██████████| 2880/2880 [03:05<00:00, 15.52it/s]\n",
      "Evaluating epoch 690: 100%|██████████| 1440/1440 [01:04<00:00, 22.26it/s]\n"
     ]
    },
    {
     "name": "stdout",
     "output_type": "stream",
     "text": [
      "Epoch: 690, Train Loss: 125.0541155, Eval Loss: 2276.4808426\n"
     ]
    },
    {
     "name": "stderr",
     "output_type": "stream",
     "text": [
      "Training epoch 691: 100%|██████████| 2880/2880 [03:05<00:00, 15.54it/s]\n",
      "Evaluating epoch 691: 100%|██████████| 1440/1440 [01:04<00:00, 22.28it/s]\n"
     ]
    },
    {
     "name": "stdout",
     "output_type": "stream",
     "text": [
      "Epoch: 691, Train Loss: 125.0541138, Eval Loss: 2276.4803076\n"
     ]
    },
    {
     "name": "stderr",
     "output_type": "stream",
     "text": [
      "Training epoch 692: 100%|██████████| 2880/2880 [03:05<00:00, 15.53it/s]\n",
      "Evaluating epoch 692: 100%|██████████| 1440/1440 [01:04<00:00, 22.27it/s]\n"
     ]
    },
    {
     "name": "stdout",
     "output_type": "stream",
     "text": [
      "Epoch: 692, Train Loss: 125.0541119, Eval Loss: 2276.4797526\n"
     ]
    },
    {
     "name": "stderr",
     "output_type": "stream",
     "text": [
      "Training epoch 693: 100%|██████████| 2880/2880 [03:05<00:00, 15.53it/s]\n",
      "Evaluating epoch 693: 100%|██████████| 1440/1440 [01:04<00:00, 22.28it/s]\n"
     ]
    },
    {
     "name": "stdout",
     "output_type": "stream",
     "text": [
      "Epoch: 693, Train Loss: 125.0541102, Eval Loss: 2276.4792218\n"
     ]
    },
    {
     "name": "stderr",
     "output_type": "stream",
     "text": [
      "Training epoch 694: 100%|██████████| 2880/2880 [03:05<00:00, 15.53it/s]\n",
      "Evaluating epoch 694: 100%|██████████| 1440/1440 [01:04<00:00, 22.25it/s]\n"
     ]
    },
    {
     "name": "stdout",
     "output_type": "stream",
     "text": [
      "Epoch: 694, Train Loss: 125.0541082, Eval Loss: 2276.4786929\n"
     ]
    },
    {
     "name": "stderr",
     "output_type": "stream",
     "text": [
      "Training epoch 695: 100%|██████████| 2880/2880 [03:05<00:00, 15.55it/s]\n",
      "Evaluating epoch 695: 100%|██████████| 1440/1440 [01:04<00:00, 22.26it/s]\n"
     ]
    },
    {
     "name": "stdout",
     "output_type": "stream",
     "text": [
      "Epoch: 695, Train Loss: 125.0541060, Eval Loss: 2276.4781595\n"
     ]
    },
    {
     "name": "stderr",
     "output_type": "stream",
     "text": [
      "Training epoch 696: 100%|██████████| 2880/2880 [03:05<00:00, 15.51it/s]\n",
      "Evaluating epoch 696: 100%|██████████| 1440/1440 [01:04<00:00, 22.29it/s]\n"
     ]
    },
    {
     "name": "stdout",
     "output_type": "stream",
     "text": [
      "Epoch: 696, Train Loss: 125.0541043, Eval Loss: 2276.4775986\n"
     ]
    },
    {
     "name": "stderr",
     "output_type": "stream",
     "text": [
      "Training epoch 697: 100%|██████████| 2880/2880 [03:05<00:00, 15.52it/s]\n",
      "Evaluating epoch 697: 100%|██████████| 1440/1440 [01:04<00:00, 22.21it/s]\n"
     ]
    },
    {
     "name": "stdout",
     "output_type": "stream",
     "text": [
      "Epoch: 697, Train Loss: 125.0541027, Eval Loss: 2276.4770700\n"
     ]
    },
    {
     "name": "stderr",
     "output_type": "stream",
     "text": [
      "Training epoch 698: 100%|██████████| 2880/2880 [03:05<00:00, 15.52it/s]\n",
      "Evaluating epoch 698: 100%|██████████| 1440/1440 [01:05<00:00, 22.14it/s]\n"
     ]
    },
    {
     "name": "stdout",
     "output_type": "stream",
     "text": [
      "Epoch: 698, Train Loss: 125.0541008, Eval Loss: 2276.4765379\n"
     ]
    },
    {
     "name": "stderr",
     "output_type": "stream",
     "text": [
      "Training epoch 699: 100%|██████████| 2880/2880 [03:05<00:00, 15.53it/s]\n",
      "Evaluating epoch 699: 100%|██████████| 1440/1440 [01:04<00:00, 22.19it/s]\n"
     ]
    },
    {
     "name": "stdout",
     "output_type": "stream",
     "text": [
      "Epoch: 699, Train Loss: 125.0540991, Eval Loss: 2276.4760170\n"
     ]
    },
    {
     "name": "stderr",
     "output_type": "stream",
     "text": [
      "Training epoch 700: 100%|██████████| 2880/2880 [03:05<00:00, 15.53it/s]\n",
      "Evaluating epoch 700: 100%|██████████| 1440/1440 [01:04<00:00, 22.25it/s]\n"
     ]
    },
    {
     "name": "stdout",
     "output_type": "stream",
     "text": [
      "Epoch: 700, Train Loss: 125.0540974, Eval Loss: 2276.4754260\n"
     ]
    },
    {
     "name": "stderr",
     "output_type": "stream",
     "text": [
      "Training epoch 701: 100%|██████████| 2880/2880 [03:05<00:00, 15.53it/s]\n",
      "Evaluating epoch 701: 100%|██████████| 1440/1440 [01:04<00:00, 22.26it/s]\n"
     ]
    },
    {
     "name": "stdout",
     "output_type": "stream",
     "text": [
      "Epoch: 701, Train Loss: 125.0540957, Eval Loss: 2276.4749619\n"
     ]
    },
    {
     "name": "stderr",
     "output_type": "stream",
     "text": [
      "Training epoch 702: 100%|██████████| 2880/2880 [03:05<00:00, 15.51it/s]\n",
      "Evaluating epoch 702: 100%|██████████| 1440/1440 [01:04<00:00, 22.16it/s]\n"
     ]
    },
    {
     "name": "stdout",
     "output_type": "stream",
     "text": [
      "Epoch: 702, Train Loss: 125.0540938, Eval Loss: 2276.4744060\n"
     ]
    },
    {
     "name": "stderr",
     "output_type": "stream",
     "text": [
      "Training epoch 703: 100%|██████████| 2880/2880 [03:05<00:00, 15.52it/s]\n",
      "Evaluating epoch 703: 100%|██████████| 1440/1440 [01:04<00:00, 22.18it/s]\n"
     ]
    },
    {
     "name": "stdout",
     "output_type": "stream",
     "text": [
      "Epoch: 703, Train Loss: 125.0540923, Eval Loss: 2276.4739096\n"
     ]
    },
    {
     "name": "stderr",
     "output_type": "stream",
     "text": [
      "Training epoch 704: 100%|██████████| 2880/2880 [03:05<00:00, 15.53it/s]\n",
      "Evaluating epoch 704: 100%|██████████| 1440/1440 [01:05<00:00, 22.14it/s]\n"
     ]
    },
    {
     "name": "stdout",
     "output_type": "stream",
     "text": [
      "Epoch: 704, Train Loss: 125.0540900, Eval Loss: 2276.4733389\n"
     ]
    },
    {
     "name": "stderr",
     "output_type": "stream",
     "text": [
      "Training epoch 705: 100%|██████████| 2880/2880 [03:05<00:00, 15.54it/s]\n",
      "Evaluating epoch 705: 100%|██████████| 1440/1440 [01:04<00:00, 22.23it/s]\n"
     ]
    },
    {
     "name": "stdout",
     "output_type": "stream",
     "text": [
      "Epoch: 705, Train Loss: 125.0540887, Eval Loss: 2276.4728257\n"
     ]
    },
    {
     "name": "stderr",
     "output_type": "stream",
     "text": [
      "Training epoch 706: 100%|██████████| 2880/2880 [03:05<00:00, 15.55it/s]\n",
      "Evaluating epoch 706: 100%|██████████| 1440/1440 [01:04<00:00, 22.27it/s]\n"
     ]
    },
    {
     "name": "stdout",
     "output_type": "stream",
     "text": [
      "Epoch: 706, Train Loss: 125.0540865, Eval Loss: 2276.4722774\n"
     ]
    },
    {
     "name": "stderr",
     "output_type": "stream",
     "text": [
      "Training epoch 707: 100%|██████████| 2880/2880 [03:05<00:00, 15.53it/s]\n",
      "Evaluating epoch 707: 100%|██████████| 1440/1440 [01:04<00:00, 22.28it/s]\n"
     ]
    },
    {
     "name": "stdout",
     "output_type": "stream",
     "text": [
      "Epoch: 707, Train Loss: 125.0540847, Eval Loss: 2276.4717584\n"
     ]
    },
    {
     "name": "stderr",
     "output_type": "stream",
     "text": [
      "Training epoch 708: 100%|██████████| 2880/2880 [03:05<00:00, 15.51it/s]\n",
      "Evaluating epoch 708: 100%|██████████| 1440/1440 [01:04<00:00, 22.28it/s]\n"
     ]
    },
    {
     "name": "stdout",
     "output_type": "stream",
     "text": [
      "Epoch: 708, Train Loss: 125.0540835, Eval Loss: 2276.4712216\n"
     ]
    },
    {
     "name": "stderr",
     "output_type": "stream",
     "text": [
      "Training epoch 709: 100%|██████████| 2880/2880 [03:05<00:00, 15.51it/s]\n",
      "Evaluating epoch 709: 100%|██████████| 1440/1440 [01:04<00:00, 22.19it/s]\n"
     ]
    },
    {
     "name": "stdout",
     "output_type": "stream",
     "text": [
      "Epoch: 709, Train Loss: 125.0540812, Eval Loss: 2276.4707033\n"
     ]
    },
    {
     "name": "stderr",
     "output_type": "stream",
     "text": [
      "Training epoch 710: 100%|██████████| 2880/2880 [03:05<00:00, 15.54it/s]\n",
      "Evaluating epoch 710: 100%|██████████| 1440/1440 [01:05<00:00, 22.12it/s]\n"
     ]
    },
    {
     "name": "stdout",
     "output_type": "stream",
     "text": [
      "Epoch: 710, Train Loss: 125.0540795, Eval Loss: 2276.4701239\n"
     ]
    },
    {
     "name": "stderr",
     "output_type": "stream",
     "text": [
      "Training epoch 711: 100%|██████████| 2880/2880 [03:05<00:00, 15.52it/s]\n",
      "Evaluating epoch 711: 100%|██████████| 1440/1440 [01:04<00:00, 22.21it/s]\n"
     ]
    },
    {
     "name": "stdout",
     "output_type": "stream",
     "text": [
      "Epoch: 711, Train Loss: 125.0540777, Eval Loss: 2276.4696125\n"
     ]
    },
    {
     "name": "stderr",
     "output_type": "stream",
     "text": [
      "Training epoch 712: 100%|██████████| 2880/2880 [03:05<00:00, 15.54it/s]\n",
      "Evaluating epoch 712: 100%|██████████| 1440/1440 [01:04<00:00, 22.26it/s]\n"
     ]
    },
    {
     "name": "stdout",
     "output_type": "stream",
     "text": [
      "Epoch: 712, Train Loss: 125.0540763, Eval Loss: 2276.4690745\n"
     ]
    },
    {
     "name": "stderr",
     "output_type": "stream",
     "text": [
      "Training epoch 713: 100%|██████████| 2880/2880 [03:05<00:00, 15.53it/s]\n",
      "Evaluating epoch 713: 100%|██████████| 1440/1440 [01:04<00:00, 22.26it/s]\n"
     ]
    },
    {
     "name": "stdout",
     "output_type": "stream",
     "text": [
      "Epoch: 713, Train Loss: 125.0540740, Eval Loss: 2276.4685509\n"
     ]
    },
    {
     "name": "stderr",
     "output_type": "stream",
     "text": [
      "Training epoch 714: 100%|██████████| 2880/2880 [03:05<00:00, 15.54it/s]\n",
      "Evaluating epoch 714: 100%|██████████| 1440/1440 [01:04<00:00, 22.18it/s]\n"
     ]
    },
    {
     "name": "stdout",
     "output_type": "stream",
     "text": [
      "Epoch: 714, Train Loss: 125.0540723, Eval Loss: 2276.4680043\n"
     ]
    },
    {
     "name": "stderr",
     "output_type": "stream",
     "text": [
      "Training epoch 715: 100%|██████████| 2880/2880 [03:05<00:00, 15.53it/s]\n",
      "Evaluating epoch 715: 100%|██████████| 1440/1440 [01:04<00:00, 22.28it/s]\n"
     ]
    },
    {
     "name": "stdout",
     "output_type": "stream",
     "text": [
      "Epoch: 715, Train Loss: 125.0540706, Eval Loss: 2276.4674638\n"
     ]
    },
    {
     "name": "stderr",
     "output_type": "stream",
     "text": [
      "Training epoch 716: 100%|██████████| 2880/2880 [03:05<00:00, 15.52it/s]\n",
      "Evaluating epoch 716: 100%|██████████| 1440/1440 [01:04<00:00, 22.20it/s]\n"
     ]
    },
    {
     "name": "stdout",
     "output_type": "stream",
     "text": [
      "Epoch: 716, Train Loss: 125.0540690, Eval Loss: 2276.4668878\n"
     ]
    },
    {
     "name": "stderr",
     "output_type": "stream",
     "text": [
      "Training epoch 717: 100%|██████████| 2880/2880 [03:05<00:00, 15.55it/s]\n",
      "Evaluating epoch 717: 100%|██████████| 1440/1440 [01:04<00:00, 22.18it/s]\n"
     ]
    },
    {
     "name": "stdout",
     "output_type": "stream",
     "text": [
      "Epoch: 717, Train Loss: 125.0540670, Eval Loss: 2276.4663655\n"
     ]
    },
    {
     "name": "stderr",
     "output_type": "stream",
     "text": [
      "Training epoch 718: 100%|██████████| 2880/2880 [03:05<00:00, 15.54it/s]\n",
      "Evaluating epoch 718: 100%|██████████| 1440/1440 [01:04<00:00, 22.27it/s]\n"
     ]
    },
    {
     "name": "stdout",
     "output_type": "stream",
     "text": [
      "Epoch: 718, Train Loss: 125.0540651, Eval Loss: 2276.4658315\n"
     ]
    },
    {
     "name": "stderr",
     "output_type": "stream",
     "text": [
      "Training epoch 719: 100%|██████████| 2880/2880 [03:05<00:00, 15.55it/s]\n",
      "Evaluating epoch 719: 100%|██████████| 1440/1440 [01:04<00:00, 22.15it/s]\n"
     ]
    },
    {
     "name": "stdout",
     "output_type": "stream",
     "text": [
      "Epoch: 719, Train Loss: 125.0540637, Eval Loss: 2276.4653115\n"
     ]
    },
    {
     "name": "stderr",
     "output_type": "stream",
     "text": [
      "Training epoch 720: 100%|██████████| 2880/2880 [03:05<00:00, 15.53it/s]\n",
      "Evaluating epoch 720: 100%|██████████| 1440/1440 [01:04<00:00, 22.20it/s]\n"
     ]
    },
    {
     "name": "stdout",
     "output_type": "stream",
     "text": [
      "Epoch: 720, Train Loss: 125.0540621, Eval Loss: 2276.4647500\n"
     ]
    },
    {
     "name": "stderr",
     "output_type": "stream",
     "text": [
      "Training epoch 721: 100%|██████████| 2880/2880 [03:05<00:00, 15.52it/s]\n",
      "Evaluating epoch 721: 100%|██████████| 1440/1440 [01:04<00:00, 22.18it/s]\n"
     ]
    },
    {
     "name": "stdout",
     "output_type": "stream",
     "text": [
      "Epoch: 721, Train Loss: 125.0540602, Eval Loss: 2276.4642000\n"
     ]
    },
    {
     "name": "stderr",
     "output_type": "stream",
     "text": [
      "Training epoch 722: 100%|██████████| 2880/2880 [03:05<00:00, 15.52it/s]\n",
      "Evaluating epoch 722: 100%|██████████| 1440/1440 [01:04<00:00, 22.18it/s]\n"
     ]
    },
    {
     "name": "stdout",
     "output_type": "stream",
     "text": [
      "Epoch: 722, Train Loss: 125.0540585, Eval Loss: 2276.4636872\n"
     ]
    },
    {
     "name": "stderr",
     "output_type": "stream",
     "text": [
      "Training epoch 723: 100%|██████████| 2880/2880 [03:05<00:00, 15.53it/s]\n",
      "Evaluating epoch 723: 100%|██████████| 1440/1440 [01:04<00:00, 22.31it/s]\n"
     ]
    },
    {
     "name": "stdout",
     "output_type": "stream",
     "text": [
      "Epoch: 723, Train Loss: 125.0540567, Eval Loss: 2276.4631675\n"
     ]
    },
    {
     "name": "stderr",
     "output_type": "stream",
     "text": [
      "Training epoch 724: 100%|██████████| 2880/2880 [03:05<00:00, 15.54it/s]\n",
      "Evaluating epoch 724: 100%|██████████| 1440/1440 [01:04<00:00, 22.18it/s]\n"
     ]
    },
    {
     "name": "stdout",
     "output_type": "stream",
     "text": [
      "Epoch: 724, Train Loss: 125.0540550, Eval Loss: 2276.4626100\n"
     ]
    },
    {
     "name": "stderr",
     "output_type": "stream",
     "text": [
      "Training epoch 725: 100%|██████████| 2880/2880 [03:05<00:00, 15.54it/s]\n",
      "Evaluating epoch 725: 100%|██████████| 1440/1440 [01:05<00:00, 22.12it/s]\n"
     ]
    },
    {
     "name": "stdout",
     "output_type": "stream",
     "text": [
      "Epoch: 725, Train Loss: 125.0540534, Eval Loss: 2276.4620842\n"
     ]
    },
    {
     "name": "stderr",
     "output_type": "stream",
     "text": [
      "Training epoch 726: 100%|██████████| 2880/2880 [03:05<00:00, 15.52it/s]\n",
      "Evaluating epoch 726: 100%|██████████| 1440/1440 [01:04<00:00, 22.17it/s]\n"
     ]
    },
    {
     "name": "stdout",
     "output_type": "stream",
     "text": [
      "Epoch: 726, Train Loss: 125.0540513, Eval Loss: 2276.4615389\n"
     ]
    },
    {
     "name": "stderr",
     "output_type": "stream",
     "text": [
      "Training epoch 727: 100%|██████████| 2880/2880 [03:05<00:00, 15.52it/s]\n",
      "Evaluating epoch 727: 100%|██████████| 1440/1440 [01:04<00:00, 22.23it/s]\n"
     ]
    },
    {
     "name": "stdout",
     "output_type": "stream",
     "text": [
      "Epoch: 727, Train Loss: 125.0540495, Eval Loss: 2276.4610216\n"
     ]
    },
    {
     "name": "stderr",
     "output_type": "stream",
     "text": [
      "Training epoch 728: 100%|██████████| 2880/2880 [03:05<00:00, 15.53it/s]\n",
      "Evaluating epoch 728: 100%|██████████| 1440/1440 [01:04<00:00, 22.22it/s]\n"
     ]
    },
    {
     "name": "stdout",
     "output_type": "stream",
     "text": [
      "Epoch: 728, Train Loss: 125.0540484, Eval Loss: 2276.4604414\n"
     ]
    },
    {
     "name": "stderr",
     "output_type": "stream",
     "text": [
      "Training epoch 729: 100%|██████████| 2880/2880 [03:05<00:00, 15.54it/s]\n",
      "Evaluating epoch 729: 100%|██████████| 1440/1440 [01:04<00:00, 22.22it/s]\n"
     ]
    },
    {
     "name": "stdout",
     "output_type": "stream",
     "text": [
      "Epoch: 729, Train Loss: 125.0540466, Eval Loss: 2276.4599418\n"
     ]
    },
    {
     "name": "stderr",
     "output_type": "stream",
     "text": [
      "Training epoch 730: 100%|██████████| 2880/2880 [03:05<00:00, 15.53it/s]\n",
      "Evaluating epoch 730: 100%|██████████| 1440/1440 [01:04<00:00, 22.27it/s]\n"
     ]
    },
    {
     "name": "stdout",
     "output_type": "stream",
     "text": [
      "Epoch: 730, Train Loss: 125.0540446, Eval Loss: 2276.4594126\n"
     ]
    },
    {
     "name": "stderr",
     "output_type": "stream",
     "text": [
      "Training epoch 731: 100%|██████████| 2880/2880 [03:05<00:00, 15.52it/s]\n",
      "Evaluating epoch 731: 100%|██████████| 1440/1440 [01:04<00:00, 22.25it/s]\n"
     ]
    },
    {
     "name": "stdout",
     "output_type": "stream",
     "text": [
      "Epoch: 731, Train Loss: 125.0540427, Eval Loss: 2276.4589068\n"
     ]
    },
    {
     "name": "stderr",
     "output_type": "stream",
     "text": [
      "Training epoch 732: 100%|██████████| 2880/2880 [03:05<00:00, 15.52it/s]\n",
      "Evaluating epoch 732: 100%|██████████| 1440/1440 [01:04<00:00, 22.19it/s]\n"
     ]
    },
    {
     "name": "stdout",
     "output_type": "stream",
     "text": [
      "Epoch: 732, Train Loss: 125.0540411, Eval Loss: 2276.4583300\n"
     ]
    },
    {
     "name": "stderr",
     "output_type": "stream",
     "text": [
      "Training epoch 733: 100%|██████████| 2880/2880 [03:05<00:00, 15.55it/s]\n",
      "Evaluating epoch 733: 100%|██████████| 1440/1440 [01:05<00:00, 22.15it/s]\n"
     ]
    },
    {
     "name": "stdout",
     "output_type": "stream",
     "text": [
      "Epoch: 733, Train Loss: 125.0540393, Eval Loss: 2276.4578076\n"
     ]
    },
    {
     "name": "stderr",
     "output_type": "stream",
     "text": [
      "Training epoch 734: 100%|██████████| 2880/2880 [03:05<00:00, 15.53it/s]\n",
      "Evaluating epoch 734: 100%|██████████| 1440/1440 [01:04<00:00, 22.28it/s]\n"
     ]
    },
    {
     "name": "stdout",
     "output_type": "stream",
     "text": [
      "Epoch: 734, Train Loss: 125.0540377, Eval Loss: 2276.4572663\n"
     ]
    },
    {
     "name": "stderr",
     "output_type": "stream",
     "text": [
      "Training epoch 735: 100%|██████████| 2880/2880 [03:05<00:00, 15.53it/s]\n",
      "Evaluating epoch 735: 100%|██████████| 1440/1440 [01:04<00:00, 22.20it/s]\n"
     ]
    },
    {
     "name": "stdout",
     "output_type": "stream",
     "text": [
      "Epoch: 735, Train Loss: 125.0540360, Eval Loss: 2276.4567336\n"
     ]
    },
    {
     "name": "stderr",
     "output_type": "stream",
     "text": [
      "Training epoch 736: 100%|██████████| 2880/2880 [03:05<00:00, 15.53it/s]\n",
      "Evaluating epoch 736: 100%|██████████| 1440/1440 [01:04<00:00, 22.23it/s]\n"
     ]
    },
    {
     "name": "stdout",
     "output_type": "stream",
     "text": [
      "Epoch: 736, Train Loss: 125.0540340, Eval Loss: 2276.4562006\n"
     ]
    },
    {
     "name": "stderr",
     "output_type": "stream",
     "text": [
      "Training epoch 737: 100%|██████████| 2880/2880 [03:05<00:00, 15.56it/s]\n",
      "Evaluating epoch 737: 100%|██████████| 1440/1440 [01:04<00:00, 22.27it/s]\n"
     ]
    },
    {
     "name": "stdout",
     "output_type": "stream",
     "text": [
      "Epoch: 737, Train Loss: 125.0540325, Eval Loss: 2276.4556494\n"
     ]
    },
    {
     "name": "stderr",
     "output_type": "stream",
     "text": [
      "Training epoch 738: 100%|██████████| 2880/2880 [03:10<00:00, 15.10it/s]\n",
      "Evaluating epoch 738: 100%|██████████| 1440/1440 [01:04<00:00, 22.28it/s]\n"
     ]
    },
    {
     "name": "stdout",
     "output_type": "stream",
     "text": [
      "Epoch: 738, Train Loss: 125.0540305, Eval Loss: 2276.4550974\n"
     ]
    },
    {
     "name": "stderr",
     "output_type": "stream",
     "text": [
      "Training epoch 739: 100%|██████████| 2880/2880 [03:04<00:00, 15.58it/s]\n",
      "Evaluating epoch 739: 100%|██████████| 1440/1440 [01:04<00:00, 22.29it/s]\n"
     ]
    },
    {
     "name": "stdout",
     "output_type": "stream",
     "text": [
      "Epoch: 739, Train Loss: 125.0540290, Eval Loss: 2276.4545876\n"
     ]
    },
    {
     "name": "stderr",
     "output_type": "stream",
     "text": [
      "Training epoch 740: 100%|██████████| 2880/2880 [03:05<00:00, 15.54it/s]\n",
      "Evaluating epoch 740: 100%|██████████| 1440/1440 [01:04<00:00, 22.25it/s]\n"
     ]
    },
    {
     "name": "stdout",
     "output_type": "stream",
     "text": [
      "Epoch: 740, Train Loss: 125.0540270, Eval Loss: 2276.4540335\n"
     ]
    },
    {
     "name": "stderr",
     "output_type": "stream",
     "text": [
      "Training epoch 741: 100%|██████████| 2880/2880 [03:05<00:00, 15.53it/s]\n",
      "Evaluating epoch 741: 100%|██████████| 1440/1440 [01:04<00:00, 22.16it/s]\n"
     ]
    },
    {
     "name": "stdout",
     "output_type": "stream",
     "text": [
      "Epoch: 741, Train Loss: 125.0540254, Eval Loss: 2276.4535119\n"
     ]
    },
    {
     "name": "stderr",
     "output_type": "stream",
     "text": [
      "Training epoch 742: 100%|██████████| 2880/2880 [03:05<00:00, 15.53it/s]\n",
      "Evaluating epoch 742: 100%|██████████| 1440/1440 [01:05<00:00, 22.14it/s]\n"
     ]
    },
    {
     "name": "stdout",
     "output_type": "stream",
     "text": [
      "Epoch: 742, Train Loss: 125.0540240, Eval Loss: 2276.4529471\n"
     ]
    },
    {
     "name": "stderr",
     "output_type": "stream",
     "text": [
      "Training epoch 743: 100%|██████████| 2880/2880 [03:05<00:00, 15.51it/s]\n",
      "Evaluating epoch 743: 100%|██████████| 1440/1440 [01:04<00:00, 22.23it/s]\n"
     ]
    },
    {
     "name": "stdout",
     "output_type": "stream",
     "text": [
      "Epoch: 743, Train Loss: 125.0540222, Eval Loss: 2276.4524177\n"
     ]
    },
    {
     "name": "stderr",
     "output_type": "stream",
     "text": [
      "Training epoch 744: 100%|██████████| 2880/2880 [03:05<00:00, 15.53it/s]\n",
      "Evaluating epoch 744: 100%|██████████| 1440/1440 [01:04<00:00, 22.17it/s]\n"
     ]
    },
    {
     "name": "stdout",
     "output_type": "stream",
     "text": [
      "Epoch: 744, Train Loss: 125.0540204, Eval Loss: 2276.4518962\n"
     ]
    },
    {
     "name": "stderr",
     "output_type": "stream",
     "text": [
      "Training epoch 745: 100%|██████████| 2880/2880 [03:05<00:00, 15.54it/s]\n",
      "Evaluating epoch 745: 100%|██████████| 1440/1440 [01:04<00:00, 22.29it/s]\n"
     ]
    },
    {
     "name": "stdout",
     "output_type": "stream",
     "text": [
      "Epoch: 745, Train Loss: 125.0540188, Eval Loss: 2276.4513734\n"
     ]
    },
    {
     "name": "stderr",
     "output_type": "stream",
     "text": [
      "Training epoch 746: 100%|██████████| 2880/2880 [03:05<00:00, 15.53it/s]\n",
      "Evaluating epoch 746: 100%|██████████| 1440/1440 [01:04<00:00, 22.19it/s]\n"
     ]
    },
    {
     "name": "stdout",
     "output_type": "stream",
     "text": [
      "Epoch: 746, Train Loss: 125.0540170, Eval Loss: 2276.4508119\n"
     ]
    },
    {
     "name": "stderr",
     "output_type": "stream",
     "text": [
      "Training epoch 747: 100%|██████████| 2880/2880 [03:05<00:00, 15.54it/s]\n",
      "Evaluating epoch 747: 100%|██████████| 1440/1440 [01:04<00:00, 22.26it/s]\n"
     ]
    },
    {
     "name": "stdout",
     "output_type": "stream",
     "text": [
      "Epoch: 747, Train Loss: 125.0540154, Eval Loss: 2276.4503062\n"
     ]
    },
    {
     "name": "stderr",
     "output_type": "stream",
     "text": [
      "Training epoch 748: 100%|██████████| 2880/2880 [03:05<00:00, 15.55it/s]\n",
      "Evaluating epoch 748: 100%|██████████| 1440/1440 [01:04<00:00, 22.27it/s]\n"
     ]
    },
    {
     "name": "stdout",
     "output_type": "stream",
     "text": [
      "Epoch: 748, Train Loss: 125.0540133, Eval Loss: 2276.4497311\n"
     ]
    },
    {
     "name": "stderr",
     "output_type": "stream",
     "text": [
      "Training epoch 749: 100%|██████████| 2880/2880 [03:05<00:00, 15.54it/s]\n",
      "Evaluating epoch 749: 100%|██████████| 1440/1440 [01:04<00:00, 22.24it/s]\n"
     ]
    },
    {
     "name": "stdout",
     "output_type": "stream",
     "text": [
      "Epoch: 749, Train Loss: 125.0540118, Eval Loss: 2276.4491910\n"
     ]
    },
    {
     "name": "stderr",
     "output_type": "stream",
     "text": [
      "Training epoch 750: 100%|██████████| 2880/2880 [03:05<00:00, 15.53it/s]\n",
      "Evaluating epoch 750: 100%|██████████| 1440/1440 [01:05<00:00, 22.13it/s]\n"
     ]
    },
    {
     "name": "stdout",
     "output_type": "stream",
     "text": [
      "Epoch: 750, Train Loss: 125.0540098, Eval Loss: 2276.4486560\n"
     ]
    },
    {
     "name": "stderr",
     "output_type": "stream",
     "text": [
      "Training epoch 751: 100%|██████████| 2880/2880 [03:05<00:00, 15.51it/s]\n",
      "Evaluating epoch 751: 100%|██████████| 1440/1440 [01:04<00:00, 22.29it/s]\n"
     ]
    },
    {
     "name": "stdout",
     "output_type": "stream",
     "text": [
      "Epoch: 751, Train Loss: 125.0540083, Eval Loss: 2276.4481259\n"
     ]
    },
    {
     "name": "stderr",
     "output_type": "stream",
     "text": [
      "Training epoch 752: 100%|██████████| 2880/2880 [03:05<00:00, 15.49it/s]\n",
      "Evaluating epoch 752: 100%|██████████| 1440/1440 [01:04<00:00, 22.31it/s]\n"
     ]
    },
    {
     "name": "stdout",
     "output_type": "stream",
     "text": [
      "Epoch: 752, Train Loss: 125.0540067, Eval Loss: 2276.4476182\n"
     ]
    },
    {
     "name": "stderr",
     "output_type": "stream",
     "text": [
      "Training epoch 753: 100%|██████████| 2880/2880 [03:05<00:00, 15.51it/s]\n",
      "Evaluating epoch 753: 100%|██████████| 1440/1440 [01:04<00:00, 22.24it/s]\n"
     ]
    },
    {
     "name": "stdout",
     "output_type": "stream",
     "text": [
      "Epoch: 753, Train Loss: 125.0540050, Eval Loss: 2276.4470838\n"
     ]
    },
    {
     "name": "stderr",
     "output_type": "stream",
     "text": [
      "Training epoch 754: 100%|██████████| 2880/2880 [03:05<00:00, 15.53it/s]\n",
      "Evaluating epoch 754: 100%|██████████| 1440/1440 [01:04<00:00, 22.18it/s]\n"
     ]
    },
    {
     "name": "stdout",
     "output_type": "stream",
     "text": [
      "Epoch: 754, Train Loss: 125.0540032, Eval Loss: 2276.4465268\n"
     ]
    },
    {
     "name": "stderr",
     "output_type": "stream",
     "text": [
      "Training epoch 755: 100%|██████████| 2880/2880 [03:05<00:00, 15.55it/s]\n",
      "Evaluating epoch 755: 100%|██████████| 1440/1440 [01:04<00:00, 22.29it/s]\n"
     ]
    },
    {
     "name": "stdout",
     "output_type": "stream",
     "text": [
      "Epoch: 755, Train Loss: 125.0540021, Eval Loss: 2276.4460073\n"
     ]
    },
    {
     "name": "stderr",
     "output_type": "stream",
     "text": [
      "Training epoch 756: 100%|██████████| 2880/2880 [03:05<00:00, 15.51it/s]\n",
      "Evaluating epoch 756: 100%|██████████| 1440/1440 [01:04<00:00, 22.27it/s]\n"
     ]
    },
    {
     "name": "stdout",
     "output_type": "stream",
     "text": [
      "Epoch: 756, Train Loss: 125.0540002, Eval Loss: 2276.4454663\n"
     ]
    },
    {
     "name": "stderr",
     "output_type": "stream",
     "text": [
      "Training epoch 757: 100%|██████████| 2880/2880 [03:05<00:00, 15.54it/s]\n",
      "Evaluating epoch 757: 100%|██████████| 1440/1440 [01:04<00:00, 22.21it/s]\n"
     ]
    },
    {
     "name": "stdout",
     "output_type": "stream",
     "text": [
      "Epoch: 757, Train Loss: 125.0539987, Eval Loss: 2276.4449366\n"
     ]
    },
    {
     "name": "stderr",
     "output_type": "stream",
     "text": [
      "Training epoch 758: 100%|██████████| 2880/2880 [03:05<00:00, 15.54it/s]\n",
      "Evaluating epoch 758: 100%|██████████| 1440/1440 [01:05<00:00, 22.13it/s]\n"
     ]
    },
    {
     "name": "stdout",
     "output_type": "stream",
     "text": [
      "Epoch: 758, Train Loss: 125.0539970, Eval Loss: 2276.4443423\n"
     ]
    },
    {
     "name": "stderr",
     "output_type": "stream",
     "text": [
      "Training epoch 759: 100%|██████████| 2880/2880 [03:05<00:00, 15.53it/s]\n",
      "Evaluating epoch 759: 100%|██████████| 1440/1440 [01:04<00:00, 22.19it/s]\n"
     ]
    },
    {
     "name": "stdout",
     "output_type": "stream",
     "text": [
      "Epoch: 759, Train Loss: 125.0539950, Eval Loss: 2276.4438282\n"
     ]
    },
    {
     "name": "stderr",
     "output_type": "stream",
     "text": [
      "Training epoch 760: 100%|██████████| 2880/2880 [03:05<00:00, 15.54it/s]\n",
      "Evaluating epoch 760: 100%|██████████| 1440/1440 [01:05<00:00, 22.12it/s]\n"
     ]
    },
    {
     "name": "stdout",
     "output_type": "stream",
     "text": [
      "Epoch: 760, Train Loss: 125.0539932, Eval Loss: 2276.4432857\n"
     ]
    },
    {
     "name": "stderr",
     "output_type": "stream",
     "text": [
      "Training epoch 761: 100%|██████████| 2880/2880 [03:05<00:00, 15.54it/s]\n",
      "Evaluating epoch 761: 100%|██████████| 1440/1440 [01:04<00:00, 22.20it/s]\n"
     ]
    },
    {
     "name": "stdout",
     "output_type": "stream",
     "text": [
      "Epoch: 761, Train Loss: 125.0539913, Eval Loss: 2276.4427516\n"
     ]
    },
    {
     "name": "stderr",
     "output_type": "stream",
     "text": [
      "Training epoch 762: 100%|██████████| 2880/2880 [03:05<00:00, 15.55it/s]\n",
      "Evaluating epoch 762: 100%|██████████| 1440/1440 [01:04<00:00, 22.24it/s]\n"
     ]
    },
    {
     "name": "stdout",
     "output_type": "stream",
     "text": [
      "Epoch: 762, Train Loss: 125.0539898, Eval Loss: 2276.4422444\n"
     ]
    },
    {
     "name": "stderr",
     "output_type": "stream",
     "text": [
      "Training epoch 763: 100%|██████████| 2880/2880 [03:05<00:00, 15.53it/s]\n",
      "Evaluating epoch 763: 100%|██████████| 1440/1440 [01:04<00:00, 22.21it/s]\n"
     ]
    },
    {
     "name": "stdout",
     "output_type": "stream",
     "text": [
      "Epoch: 763, Train Loss: 125.0539881, Eval Loss: 2276.4417189\n"
     ]
    },
    {
     "name": "stderr",
     "output_type": "stream",
     "text": [
      "Training epoch 764: 100%|██████████| 2880/2880 [03:05<00:00, 15.56it/s]\n",
      "Evaluating epoch 764: 100%|██████████| 1440/1440 [01:04<00:00, 22.28it/s]\n"
     ]
    },
    {
     "name": "stdout",
     "output_type": "stream",
     "text": [
      "Epoch: 764, Train Loss: 125.0539866, Eval Loss: 2276.4411754\n"
     ]
    },
    {
     "name": "stderr",
     "output_type": "stream",
     "text": [
      "Training epoch 765: 100%|██████████| 2880/2880 [03:05<00:00, 15.53it/s]\n",
      "Evaluating epoch 765: 100%|██████████| 1440/1440 [01:04<00:00, 22.28it/s]\n"
     ]
    },
    {
     "name": "stdout",
     "output_type": "stream",
     "text": [
      "Epoch: 765, Train Loss: 125.0539848, Eval Loss: 2276.4406362\n"
     ]
    },
    {
     "name": "stderr",
     "output_type": "stream",
     "text": [
      "Training epoch 766: 100%|██████████| 2880/2880 [03:05<00:00, 15.54it/s]\n",
      "Evaluating epoch 766: 100%|██████████| 1440/1440 [01:04<00:00, 22.20it/s]\n"
     ]
    },
    {
     "name": "stdout",
     "output_type": "stream",
     "text": [
      "Epoch: 766, Train Loss: 125.0539831, Eval Loss: 2276.4401114\n"
     ]
    },
    {
     "name": "stderr",
     "output_type": "stream",
     "text": [
      "Training epoch 767: 100%|██████████| 2880/2880 [03:05<00:00, 15.54it/s]\n",
      "Evaluating epoch 767: 100%|██████████| 1440/1440 [01:04<00:00, 22.23it/s]\n"
     ]
    },
    {
     "name": "stdout",
     "output_type": "stream",
     "text": [
      "Epoch: 767, Train Loss: 125.0539811, Eval Loss: 2276.4395721\n"
     ]
    },
    {
     "name": "stderr",
     "output_type": "stream",
     "text": [
      "Training epoch 768: 100%|██████████| 2880/2880 [03:05<00:00, 15.55it/s]\n",
      "Evaluating epoch 768: 100%|██████████| 1440/1440 [01:05<00:00, 22.13it/s]\n"
     ]
    },
    {
     "name": "stdout",
     "output_type": "stream",
     "text": [
      "Epoch: 768, Train Loss: 125.0539797, Eval Loss: 2276.4389844\n"
     ]
    },
    {
     "name": "stderr",
     "output_type": "stream",
     "text": [
      "Training epoch 769: 100%|██████████| 2880/2880 [03:05<00:00, 15.54it/s]\n",
      "Evaluating epoch 769: 100%|██████████| 1440/1440 [01:04<00:00, 22.21it/s]\n"
     ]
    },
    {
     "name": "stdout",
     "output_type": "stream",
     "text": [
      "Epoch: 769, Train Loss: 125.0539781, Eval Loss: 2276.4384699\n"
     ]
    },
    {
     "name": "stderr",
     "output_type": "stream",
     "text": [
      "Training epoch 770: 100%|██████████| 2880/2880 [03:05<00:00, 15.53it/s]\n",
      "Evaluating epoch 770: 100%|██████████| 1440/1440 [01:04<00:00, 22.18it/s]\n"
     ]
    },
    {
     "name": "stdout",
     "output_type": "stream",
     "text": [
      "Epoch: 770, Train Loss: 125.0539769, Eval Loss: 2276.4379046\n"
     ]
    },
    {
     "name": "stderr",
     "output_type": "stream",
     "text": [
      "Training epoch 771: 100%|██████████| 2880/2880 [03:05<00:00, 15.55it/s]\n",
      "Evaluating epoch 771: 100%|██████████| 1440/1440 [01:05<00:00, 22.08it/s]\n"
     ]
    },
    {
     "name": "stdout",
     "output_type": "stream",
     "text": [
      "Epoch: 771, Train Loss: 125.0539749, Eval Loss: 2276.4373964\n"
     ]
    },
    {
     "name": "stderr",
     "output_type": "stream",
     "text": [
      "Training epoch 772: 100%|██████████| 2880/2880 [03:05<00:00, 15.52it/s]\n",
      "Evaluating epoch 772: 100%|██████████| 1440/1440 [01:04<00:00, 22.26it/s]\n"
     ]
    },
    {
     "name": "stdout",
     "output_type": "stream",
     "text": [
      "Epoch: 772, Train Loss: 125.0539728, Eval Loss: 2276.4368458\n"
     ]
    },
    {
     "name": "stderr",
     "output_type": "stream",
     "text": [
      "Training epoch 773: 100%|██████████| 2880/2880 [03:05<00:00, 15.53it/s]\n",
      "Evaluating epoch 773: 100%|██████████| 1440/1440 [01:04<00:00, 22.31it/s]\n"
     ]
    },
    {
     "name": "stdout",
     "output_type": "stream",
     "text": [
      "Epoch: 773, Train Loss: 125.0539713, Eval Loss: 2276.4363176\n"
     ]
    },
    {
     "name": "stderr",
     "output_type": "stream",
     "text": [
      "Training epoch 774: 100%|██████████| 2880/2880 [03:05<00:00, 15.54it/s]\n",
      "Evaluating epoch 774: 100%|██████████| 1440/1440 [01:04<00:00, 22.20it/s]\n"
     ]
    },
    {
     "name": "stdout",
     "output_type": "stream",
     "text": [
      "Epoch: 774, Train Loss: 125.0539697, Eval Loss: 2276.4357496\n"
     ]
    },
    {
     "name": "stderr",
     "output_type": "stream",
     "text": [
      "Training epoch 775: 100%|██████████| 2880/2880 [03:05<00:00, 15.55it/s]\n",
      "Evaluating epoch 775: 100%|██████████| 1440/1440 [01:04<00:00, 22.17it/s]\n"
     ]
    },
    {
     "name": "stdout",
     "output_type": "stream",
     "text": [
      "Epoch: 775, Train Loss: 125.0539682, Eval Loss: 2276.4352294\n"
     ]
    },
    {
     "name": "stderr",
     "output_type": "stream",
     "text": [
      "Training epoch 776: 100%|██████████| 2880/2880 [03:05<00:00, 15.49it/s]\n",
      "Evaluating epoch 776: 100%|██████████| 1440/1440 [01:04<00:00, 22.26it/s]\n"
     ]
    },
    {
     "name": "stdout",
     "output_type": "stream",
     "text": [
      "Epoch: 776, Train Loss: 125.0539667, Eval Loss: 2276.4346875\n"
     ]
    },
    {
     "name": "stderr",
     "output_type": "stream",
     "text": [
      "Training epoch 777: 100%|██████████| 2880/2880 [03:05<00:00, 15.50it/s]\n",
      "Evaluating epoch 777: 100%|██████████| 1440/1440 [01:04<00:00, 22.28it/s]\n"
     ]
    },
    {
     "name": "stdout",
     "output_type": "stream",
     "text": [
      "Epoch: 777, Train Loss: 125.0539645, Eval Loss: 2276.4341524\n"
     ]
    },
    {
     "name": "stderr",
     "output_type": "stream",
     "text": [
      "Training epoch 778: 100%|██████████| 2880/2880 [03:05<00:00, 15.54it/s]\n",
      "Evaluating epoch 778: 100%|██████████| 1440/1440 [01:04<00:00, 22.23it/s]\n"
     ]
    },
    {
     "name": "stdout",
     "output_type": "stream",
     "text": [
      "Epoch: 778, Train Loss: 125.0539631, Eval Loss: 2276.4336002\n"
     ]
    },
    {
     "name": "stderr",
     "output_type": "stream",
     "text": [
      "Training epoch 779: 100%|██████████| 2880/2880 [03:05<00:00, 15.53it/s]\n",
      "Evaluating epoch 779: 100%|██████████| 1440/1440 [01:04<00:00, 22.21it/s]\n"
     ]
    },
    {
     "name": "stdout",
     "output_type": "stream",
     "text": [
      "Epoch: 779, Train Loss: 125.0539615, Eval Loss: 2276.4331053\n"
     ]
    },
    {
     "name": "stderr",
     "output_type": "stream",
     "text": [
      "Training epoch 780: 100%|██████████| 2880/2880 [03:05<00:00, 15.54it/s]\n",
      "Evaluating epoch 780: 100%|██████████| 1440/1440 [01:04<00:00, 22.16it/s]\n"
     ]
    },
    {
     "name": "stdout",
     "output_type": "stream",
     "text": [
      "Epoch: 780, Train Loss: 125.0539596, Eval Loss: 2276.4325580\n"
     ]
    },
    {
     "name": "stderr",
     "output_type": "stream",
     "text": [
      "Training epoch 781: 100%|██████████| 2880/2880 [03:05<00:00, 15.52it/s]\n",
      "Evaluating epoch 781: 100%|██████████| 1440/1440 [01:04<00:00, 22.18it/s]\n"
     ]
    },
    {
     "name": "stdout",
     "output_type": "stream",
     "text": [
      "Epoch: 781, Train Loss: 125.0539582, Eval Loss: 2276.4320159\n"
     ]
    },
    {
     "name": "stderr",
     "output_type": "stream",
     "text": [
      "Training epoch 782: 100%|██████████| 2880/2880 [03:05<00:00, 15.55it/s]\n",
      "Evaluating epoch 782: 100%|██████████| 1440/1440 [01:04<00:00, 22.17it/s]\n"
     ]
    },
    {
     "name": "stdout",
     "output_type": "stream",
     "text": [
      "Epoch: 782, Train Loss: 125.0539562, Eval Loss: 2276.4314475\n"
     ]
    },
    {
     "name": "stderr",
     "output_type": "stream",
     "text": [
      "Training epoch 783: 100%|██████████| 2880/2880 [03:05<00:00, 15.55it/s]\n",
      "Evaluating epoch 783: 100%|██████████| 1440/1440 [01:04<00:00, 22.28it/s]\n"
     ]
    },
    {
     "name": "stdout",
     "output_type": "stream",
     "text": [
      "Epoch: 783, Train Loss: 125.0539546, Eval Loss: 2276.4309348\n"
     ]
    },
    {
     "name": "stderr",
     "output_type": "stream",
     "text": [
      "Training epoch 784: 100%|██████████| 2880/2880 [03:05<00:00, 15.54it/s]\n",
      "Evaluating epoch 784: 100%|██████████| 1440/1440 [01:05<00:00, 22.13it/s]\n"
     ]
    },
    {
     "name": "stdout",
     "output_type": "stream",
     "text": [
      "Epoch: 784, Train Loss: 125.0539531, Eval Loss: 2276.4303979\n"
     ]
    },
    {
     "name": "stderr",
     "output_type": "stream",
     "text": [
      "Training epoch 785: 100%|██████████| 2880/2880 [03:05<00:00, 15.51it/s]\n",
      "Evaluating epoch 785: 100%|██████████| 1440/1440 [01:04<00:00, 22.24it/s]\n"
     ]
    },
    {
     "name": "stdout",
     "output_type": "stream",
     "text": [
      "Epoch: 785, Train Loss: 125.0539515, Eval Loss: 2276.4298503\n"
     ]
    },
    {
     "name": "stderr",
     "output_type": "stream",
     "text": [
      "Training epoch 786: 100%|██████████| 2880/2880 [03:05<00:00, 15.54it/s]\n",
      "Evaluating epoch 786: 100%|██████████| 1440/1440 [01:04<00:00, 22.24it/s]\n"
     ]
    },
    {
     "name": "stdout",
     "output_type": "stream",
     "text": [
      "Epoch: 786, Train Loss: 125.0539496, Eval Loss: 2276.4292942\n"
     ]
    },
    {
     "name": "stderr",
     "output_type": "stream",
     "text": [
      "Training epoch 787: 100%|██████████| 2880/2880 [03:04<00:00, 15.57it/s]\n",
      "Evaluating epoch 787: 100%|██████████| 1440/1440 [01:04<00:00, 22.20it/s]\n"
     ]
    },
    {
     "name": "stdout",
     "output_type": "stream",
     "text": [
      "Epoch: 787, Train Loss: 125.0539478, Eval Loss: 2276.4287861\n"
     ]
    },
    {
     "name": "stderr",
     "output_type": "stream",
     "text": [
      "Training epoch 788: 100%|██████████| 2880/2880 [03:05<00:00, 15.53it/s]\n",
      "Evaluating epoch 788: 100%|██████████| 1440/1440 [01:04<00:00, 22.28it/s]\n"
     ]
    },
    {
     "name": "stdout",
     "output_type": "stream",
     "text": [
      "Epoch: 788, Train Loss: 125.0539466, Eval Loss: 2276.4282435\n"
     ]
    },
    {
     "name": "stderr",
     "output_type": "stream",
     "text": [
      "Training epoch 789: 100%|██████████| 2880/2880 [03:05<00:00, 15.54it/s]\n",
      "Evaluating epoch 789: 100%|██████████| 1440/1440 [01:04<00:00, 22.20it/s]\n"
     ]
    },
    {
     "name": "stdout",
     "output_type": "stream",
     "text": [
      "Epoch: 789, Train Loss: 125.0539447, Eval Loss: 2276.4276932\n"
     ]
    },
    {
     "name": "stderr",
     "output_type": "stream",
     "text": [
      "Training epoch 790: 100%|██████████| 2880/2880 [03:05<00:00, 15.55it/s]\n",
      "Evaluating epoch 790: 100%|██████████| 1440/1440 [01:04<00:00, 22.29it/s]\n"
     ]
    },
    {
     "name": "stdout",
     "output_type": "stream",
     "text": [
      "Epoch: 790, Train Loss: 125.0539432, Eval Loss: 2276.4271262\n"
     ]
    },
    {
     "name": "stderr",
     "output_type": "stream",
     "text": [
      "Training epoch 791: 100%|██████████| 2880/2880 [03:05<00:00, 15.56it/s]\n",
      "Evaluating epoch 791: 100%|██████████| 1440/1440 [01:04<00:00, 22.29it/s]\n"
     ]
    },
    {
     "name": "stdout",
     "output_type": "stream",
     "text": [
      "Epoch: 791, Train Loss: 125.0539414, Eval Loss: 2276.4266070\n"
     ]
    },
    {
     "name": "stderr",
     "output_type": "stream",
     "text": [
      "Training epoch 792: 100%|██████████| 2880/2880 [03:05<00:00, 15.56it/s]\n",
      "Evaluating epoch 792: 100%|██████████| 1440/1440 [01:05<00:00, 22.12it/s]\n"
     ]
    },
    {
     "name": "stdout",
     "output_type": "stream",
     "text": [
      "Epoch: 792, Train Loss: 125.0539402, Eval Loss: 2276.4260479\n"
     ]
    },
    {
     "name": "stderr",
     "output_type": "stream",
     "text": [
      "Training epoch 793: 100%|██████████| 2880/2880 [03:05<00:00, 15.55it/s]\n",
      "Evaluating epoch 793: 100%|██████████| 1440/1440 [01:04<00:00, 22.30it/s]\n"
     ]
    },
    {
     "name": "stdout",
     "output_type": "stream",
     "text": [
      "Epoch: 793, Train Loss: 125.0539385, Eval Loss: 2276.4255285\n"
     ]
    },
    {
     "name": "stderr",
     "output_type": "stream",
     "text": [
      "Training epoch 794: 100%|██████████| 2880/2880 [03:05<00:00, 15.56it/s]\n",
      "Evaluating epoch 794: 100%|██████████| 1440/1440 [01:04<00:00, 22.24it/s]\n"
     ]
    },
    {
     "name": "stdout",
     "output_type": "stream",
     "text": [
      "Epoch: 794, Train Loss: 125.0539369, Eval Loss: 2276.4249797\n"
     ]
    },
    {
     "name": "stderr",
     "output_type": "stream",
     "text": [
      "Training epoch 795: 100%|██████████| 2880/2880 [03:05<00:00, 15.51it/s]\n",
      "Evaluating epoch 795: 100%|██████████| 1440/1440 [01:04<00:00, 22.26it/s]\n"
     ]
    },
    {
     "name": "stdout",
     "output_type": "stream",
     "text": [
      "Epoch: 795, Train Loss: 125.0539353, Eval Loss: 2276.4244576\n"
     ]
    },
    {
     "name": "stderr",
     "output_type": "stream",
     "text": [
      "Training epoch 796: 100%|██████████| 2880/2880 [03:05<00:00, 15.53it/s]\n",
      "Evaluating epoch 796: 100%|██████████| 1440/1440 [01:04<00:00, 22.22it/s]\n"
     ]
    },
    {
     "name": "stdout",
     "output_type": "stream",
     "text": [
      "Epoch: 796, Train Loss: 125.0539340, Eval Loss: 2276.4238950\n"
     ]
    },
    {
     "name": "stderr",
     "output_type": "stream",
     "text": [
      "Training epoch 797: 100%|██████████| 2880/2880 [03:05<00:00, 15.51it/s]\n",
      "Evaluating epoch 797: 100%|██████████| 1440/1440 [01:04<00:00, 22.20it/s]\n"
     ]
    },
    {
     "name": "stdout",
     "output_type": "stream",
     "text": [
      "Epoch: 797, Train Loss: 125.0539320, Eval Loss: 2276.4233747\n"
     ]
    },
    {
     "name": "stderr",
     "output_type": "stream",
     "text": [
      "Training epoch 798: 100%|██████████| 2880/2880 [03:05<00:00, 15.50it/s]\n",
      "Evaluating epoch 798: 100%|██████████| 1440/1440 [01:04<00:00, 22.16it/s]\n"
     ]
    },
    {
     "name": "stdout",
     "output_type": "stream",
     "text": [
      "Epoch: 798, Train Loss: 125.0539302, Eval Loss: 2276.4228291\n"
     ]
    },
    {
     "name": "stderr",
     "output_type": "stream",
     "text": [
      "Training epoch 799: 100%|██████████| 2880/2880 [03:05<00:00, 15.53it/s]\n",
      "Evaluating epoch 799: 100%|██████████| 1440/1440 [01:04<00:00, 22.23it/s]\n"
     ]
    },
    {
     "name": "stdout",
     "output_type": "stream",
     "text": [
      "Epoch: 799, Train Loss: 125.0539288, Eval Loss: 2276.4223049\n"
     ]
    },
    {
     "name": "stderr",
     "output_type": "stream",
     "text": [
      "Training epoch 800: 100%|██████████| 2880/2880 [03:05<00:00, 15.53it/s]\n",
      "Evaluating epoch 800: 100%|██████████| 1440/1440 [01:04<00:00, 22.32it/s]\n"
     ]
    },
    {
     "name": "stdout",
     "output_type": "stream",
     "text": [
      "Epoch: 800, Train Loss: 125.0539273, Eval Loss: 2276.4217467\n"
     ]
    },
    {
     "name": "stderr",
     "output_type": "stream",
     "text": [
      "Training epoch 801: 100%|██████████| 2880/2880 [03:05<00:00, 15.53it/s]\n",
      "Evaluating epoch 801: 100%|██████████| 1440/1440 [01:04<00:00, 22.29it/s]\n"
     ]
    },
    {
     "name": "stdout",
     "output_type": "stream",
     "text": [
      "Epoch: 801, Train Loss: 125.0539259, Eval Loss: 2276.4212253\n"
     ]
    },
    {
     "name": "stderr",
     "output_type": "stream",
     "text": [
      "Training epoch 802: 100%|██████████| 2880/2880 [03:05<00:00, 15.53it/s]\n",
      "Evaluating epoch 802: 100%|██████████| 1440/1440 [01:05<00:00, 22.14it/s]\n"
     ]
    },
    {
     "name": "stdout",
     "output_type": "stream",
     "text": [
      "Epoch: 802, Train Loss: 125.0539241, Eval Loss: 2276.4206655\n"
     ]
    },
    {
     "name": "stderr",
     "output_type": "stream",
     "text": [
      "Training epoch 803: 100%|██████████| 2880/2880 [03:05<00:00, 15.51it/s]\n",
      "Evaluating epoch 803: 100%|██████████| 1440/1440 [01:04<00:00, 22.21it/s]\n"
     ]
    },
    {
     "name": "stdout",
     "output_type": "stream",
     "text": [
      "Epoch: 803, Train Loss: 125.0539222, Eval Loss: 2276.4201531\n"
     ]
    },
    {
     "name": "stderr",
     "output_type": "stream",
     "text": [
      "Training epoch 804: 100%|██████████| 2880/2880 [03:05<00:00, 15.56it/s]\n",
      "Evaluating epoch 804: 100%|██████████| 1440/1440 [01:05<00:00, 22.12it/s]\n"
     ]
    },
    {
     "name": "stdout",
     "output_type": "stream",
     "text": [
      "Epoch: 804, Train Loss: 125.0539204, Eval Loss: 2276.4195744\n"
     ]
    },
    {
     "name": "stderr",
     "output_type": "stream",
     "text": [
      "Training epoch 805: 100%|██████████| 2880/2880 [03:05<00:00, 15.54it/s]\n",
      "Evaluating epoch 805: 100%|██████████| 1440/1440 [01:04<00:00, 22.21it/s]\n"
     ]
    },
    {
     "name": "stdout",
     "output_type": "stream",
     "text": [
      "Epoch: 805, Train Loss: 125.0539190, Eval Loss: 2276.4190957\n"
     ]
    },
    {
     "name": "stderr",
     "output_type": "stream",
     "text": [
      "Training epoch 806: 100%|██████████| 2880/2880 [03:05<00:00, 15.55it/s]\n",
      "Evaluating epoch 806: 100%|██████████| 1440/1440 [01:04<00:00, 22.29it/s]\n"
     ]
    },
    {
     "name": "stdout",
     "output_type": "stream",
     "text": [
      "Epoch: 806, Train Loss: 125.0539176, Eval Loss: 2276.4185083\n"
     ]
    },
    {
     "name": "stderr",
     "output_type": "stream",
     "text": [
      "Training epoch 807: 100%|██████████| 2880/2880 [03:05<00:00, 15.53it/s]\n",
      "Evaluating epoch 807: 100%|██████████| 1440/1440 [01:04<00:00, 22.27it/s]\n"
     ]
    },
    {
     "name": "stdout",
     "output_type": "stream",
     "text": [
      "Epoch: 807, Train Loss: 125.0539156, Eval Loss: 2276.4180193\n"
     ]
    },
    {
     "name": "stderr",
     "output_type": "stream",
     "text": [
      "Training epoch 808: 100%|██████████| 2880/2880 [03:05<00:00, 15.54it/s]\n",
      "Evaluating epoch 808: 100%|██████████| 1440/1440 [01:04<00:00, 22.21it/s]\n"
     ]
    },
    {
     "name": "stdout",
     "output_type": "stream",
     "text": [
      "Epoch: 808, Train Loss: 125.0539144, Eval Loss: 2276.4174714\n"
     ]
    },
    {
     "name": "stderr",
     "output_type": "stream",
     "text": [
      "Training epoch 809: 100%|██████████| 2880/2880 [03:05<00:00, 15.55it/s]\n",
      "Evaluating epoch 809: 100%|██████████| 1440/1440 [01:04<00:00, 22.23it/s]\n"
     ]
    },
    {
     "name": "stdout",
     "output_type": "stream",
     "text": [
      "Epoch: 809, Train Loss: 125.0539127, Eval Loss: 2276.4169385\n"
     ]
    },
    {
     "name": "stderr",
     "output_type": "stream",
     "text": [
      "Training epoch 810: 100%|██████████| 2880/2880 [03:05<00:00, 15.55it/s]\n",
      "Evaluating epoch 810: 100%|██████████| 1440/1440 [01:04<00:00, 22.18it/s]\n"
     ]
    },
    {
     "name": "stdout",
     "output_type": "stream",
     "text": [
      "Epoch: 810, Train Loss: 125.0539113, Eval Loss: 2276.4163733\n"
     ]
    },
    {
     "name": "stderr",
     "output_type": "stream",
     "text": [
      "Training epoch 811: 100%|██████████| 2880/2880 [03:05<00:00, 15.56it/s]\n",
      "Evaluating epoch 811: 100%|██████████| 1440/1440 [01:04<00:00, 22.20it/s]\n"
     ]
    },
    {
     "name": "stdout",
     "output_type": "stream",
     "text": [
      "Epoch: 811, Train Loss: 125.0539090, Eval Loss: 2276.4158563\n"
     ]
    },
    {
     "name": "stderr",
     "output_type": "stream",
     "text": [
      "Training epoch 812: 100%|██████████| 2880/2880 [03:05<00:00, 15.55it/s]\n",
      "Evaluating epoch 812: 100%|██████████| 1440/1440 [01:04<00:00, 22.21it/s]\n"
     ]
    },
    {
     "name": "stdout",
     "output_type": "stream",
     "text": [
      "Epoch: 812, Train Loss: 125.0539078, Eval Loss: 2276.4152978\n"
     ]
    },
    {
     "name": "stderr",
     "output_type": "stream",
     "text": [
      "Training epoch 813: 100%|██████████| 2880/2880 [03:05<00:00, 15.53it/s]\n",
      "Evaluating epoch 813: 100%|██████████| 1440/1440 [01:04<00:00, 22.24it/s]\n"
     ]
    },
    {
     "name": "stdout",
     "output_type": "stream",
     "text": [
      "Epoch: 813, Train Loss: 125.0539067, Eval Loss: 2276.4147618\n"
     ]
    },
    {
     "name": "stderr",
     "output_type": "stream",
     "text": [
      "Training epoch 814: 100%|██████████| 2880/2880 [03:05<00:00, 15.55it/s]\n",
      "Evaluating epoch 814: 100%|██████████| 1440/1440 [01:04<00:00, 22.24it/s]\n"
     ]
    },
    {
     "name": "stdout",
     "output_type": "stream",
     "text": [
      "Epoch: 814, Train Loss: 125.0539045, Eval Loss: 2276.4142161\n"
     ]
    },
    {
     "name": "stderr",
     "output_type": "stream",
     "text": [
      "Training epoch 815: 100%|██████████| 2880/2880 [03:05<00:00, 15.52it/s]\n",
      "Evaluating epoch 815: 100%|██████████| 1440/1440 [01:04<00:00, 22.17it/s]\n"
     ]
    },
    {
     "name": "stdout",
     "output_type": "stream",
     "text": [
      "Epoch: 815, Train Loss: 125.0539034, Eval Loss: 2276.4136826\n"
     ]
    },
    {
     "name": "stderr",
     "output_type": "stream",
     "text": [
      "Training epoch 816: 100%|██████████| 2880/2880 [03:05<00:00, 15.56it/s]\n",
      "Evaluating epoch 816: 100%|██████████| 1440/1440 [01:04<00:00, 22.16it/s]\n"
     ]
    },
    {
     "name": "stdout",
     "output_type": "stream",
     "text": [
      "Epoch: 816, Train Loss: 125.0539016, Eval Loss: 2276.4131424\n"
     ]
    },
    {
     "name": "stderr",
     "output_type": "stream",
     "text": [
      "Training epoch 817: 100%|██████████| 2880/2880 [03:05<00:00, 15.56it/s]\n",
      "Evaluating epoch 817: 100%|██████████| 1440/1440 [01:04<00:00, 22.26it/s]\n"
     ]
    },
    {
     "name": "stdout",
     "output_type": "stream",
     "text": [
      "Epoch: 817, Train Loss: 125.0538996, Eval Loss: 2276.4125956\n"
     ]
    },
    {
     "name": "stderr",
     "output_type": "stream",
     "text": [
      "Training epoch 818: 100%|██████████| 2880/2880 [03:05<00:00, 15.54it/s]\n",
      "Evaluating epoch 818: 100%|██████████| 1440/1440 [01:04<00:00, 22.21it/s]\n"
     ]
    },
    {
     "name": "stdout",
     "output_type": "stream",
     "text": [
      "Epoch: 818, Train Loss: 125.0538984, Eval Loss: 2276.4120889\n"
     ]
    },
    {
     "name": "stderr",
     "output_type": "stream",
     "text": [
      "Training epoch 819: 100%|██████████| 2880/2880 [03:05<00:00, 15.53it/s]\n",
      "Evaluating epoch 819: 100%|██████████| 1440/1440 [01:04<00:00, 22.20it/s]\n"
     ]
    },
    {
     "name": "stdout",
     "output_type": "stream",
     "text": [
      "Epoch: 819, Train Loss: 125.0538963, Eval Loss: 2276.4115334\n"
     ]
    },
    {
     "name": "stderr",
     "output_type": "stream",
     "text": [
      "Training epoch 820: 100%|██████████| 2880/2880 [03:05<00:00, 15.56it/s]\n",
      "Evaluating epoch 820: 100%|██████████| 1440/1440 [01:04<00:00, 22.23it/s]\n"
     ]
    },
    {
     "name": "stdout",
     "output_type": "stream",
     "text": [
      "Epoch: 820, Train Loss: 125.0538948, Eval Loss: 2276.4109767\n"
     ]
    },
    {
     "name": "stderr",
     "output_type": "stream",
     "text": [
      "Training epoch 821: 100%|██████████| 2880/2880 [03:05<00:00, 15.56it/s]\n",
      "Evaluating epoch 821: 100%|██████████| 1440/1440 [01:04<00:00, 22.28it/s]\n"
     ]
    },
    {
     "name": "stdout",
     "output_type": "stream",
     "text": [
      "Epoch: 821, Train Loss: 125.0538931, Eval Loss: 2276.4104439\n"
     ]
    },
    {
     "name": "stderr",
     "output_type": "stream",
     "text": [
      "Training epoch 822: 100%|██████████| 2880/2880 [03:05<00:00, 15.55it/s]\n",
      "Evaluating epoch 822: 100%|██████████| 1440/1440 [01:04<00:00, 22.19it/s]\n"
     ]
    },
    {
     "name": "stdout",
     "output_type": "stream",
     "text": [
      "Epoch: 822, Train Loss: 125.0538916, Eval Loss: 2276.4098603\n"
     ]
    },
    {
     "name": "stderr",
     "output_type": "stream",
     "text": [
      "Training epoch 823: 100%|██████████| 2880/2880 [03:05<00:00, 15.53it/s]\n",
      "Evaluating epoch 823: 100%|██████████| 1440/1440 [01:04<00:00, 22.30it/s]\n"
     ]
    },
    {
     "name": "stdout",
     "output_type": "stream",
     "text": [
      "Epoch: 823, Train Loss: 125.0538903, Eval Loss: 2276.4093425\n"
     ]
    },
    {
     "name": "stderr",
     "output_type": "stream",
     "text": [
      "Training epoch 824: 100%|██████████| 2880/2880 [03:04<00:00, 15.58it/s]\n",
      "Evaluating epoch 824: 100%|██████████| 1440/1440 [01:04<00:00, 22.19it/s]\n"
     ]
    },
    {
     "name": "stdout",
     "output_type": "stream",
     "text": [
      "Epoch: 824, Train Loss: 125.0538886, Eval Loss: 2276.4087935\n"
     ]
    },
    {
     "name": "stderr",
     "output_type": "stream",
     "text": [
      "Training epoch 825: 100%|██████████| 2880/2880 [03:04<00:00, 15.58it/s]\n",
      "Evaluating epoch 825: 100%|██████████| 1440/1440 [01:04<00:00, 22.19it/s]\n"
     ]
    },
    {
     "name": "stdout",
     "output_type": "stream",
     "text": [
      "Epoch: 825, Train Loss: 125.0538869, Eval Loss: 2276.4082743\n"
     ]
    },
    {
     "name": "stderr",
     "output_type": "stream",
     "text": [
      "Training epoch 826: 100%|██████████| 2880/2880 [03:05<00:00, 15.54it/s]\n",
      "Evaluating epoch 826: 100%|██████████| 1440/1440 [01:05<00:00, 22.12it/s]\n"
     ]
    },
    {
     "name": "stdout",
     "output_type": "stream",
     "text": [
      "Epoch: 826, Train Loss: 125.0538855, Eval Loss: 2276.4077215\n"
     ]
    },
    {
     "name": "stderr",
     "output_type": "stream",
     "text": [
      "Training epoch 827: 100%|██████████| 2880/2880 [03:05<00:00, 15.54it/s]\n",
      "Evaluating epoch 827: 100%|██████████| 1440/1440 [01:04<00:00, 22.25it/s]\n"
     ]
    },
    {
     "name": "stdout",
     "output_type": "stream",
     "text": [
      "Epoch: 827, Train Loss: 125.0538837, Eval Loss: 2276.4071940\n"
     ]
    },
    {
     "name": "stderr",
     "output_type": "stream",
     "text": [
      "Training epoch 828: 100%|██████████| 2880/2880 [03:05<00:00, 15.54it/s]\n",
      "Evaluating epoch 828: 100%|██████████| 1440/1440 [01:04<00:00, 22.21it/s]\n"
     ]
    },
    {
     "name": "stdout",
     "output_type": "stream",
     "text": [
      "Epoch: 828, Train Loss: 125.0538821, Eval Loss: 2276.4066715\n"
     ]
    },
    {
     "name": "stderr",
     "output_type": "stream",
     "text": [
      "Training epoch 829: 100%|██████████| 2880/2880 [03:05<00:00, 15.54it/s]\n",
      "Evaluating epoch 829: 100%|██████████| 1440/1440 [01:04<00:00, 22.28it/s]\n"
     ]
    },
    {
     "name": "stdout",
     "output_type": "stream",
     "text": [
      "Epoch: 829, Train Loss: 125.0538804, Eval Loss: 2276.4061449\n"
     ]
    },
    {
     "name": "stderr",
     "output_type": "stream",
     "text": [
      "Training epoch 830: 100%|██████████| 2880/2880 [03:04<00:00, 15.58it/s]\n",
      "Evaluating epoch 830: 100%|██████████| 1440/1440 [01:04<00:00, 22.16it/s]\n"
     ]
    },
    {
     "name": "stdout",
     "output_type": "stream",
     "text": [
      "Epoch: 830, Train Loss: 125.0538788, Eval Loss: 2276.4055905\n"
     ]
    },
    {
     "name": "stderr",
     "output_type": "stream",
     "text": [
      "Training epoch 831: 100%|██████████| 2880/2880 [03:05<00:00, 15.52it/s]\n",
      "Evaluating epoch 831: 100%|██████████| 1440/1440 [01:04<00:00, 22.25it/s]\n"
     ]
    },
    {
     "name": "stdout",
     "output_type": "stream",
     "text": [
      "Epoch: 831, Train Loss: 125.0538772, Eval Loss: 2276.4050400\n"
     ]
    },
    {
     "name": "stderr",
     "output_type": "stream",
     "text": [
      "Training epoch 832: 100%|██████████| 2880/2880 [03:05<00:00, 15.54it/s]\n",
      "Evaluating epoch 832: 100%|██████████| 1440/1440 [01:04<00:00, 22.25it/s]\n"
     ]
    },
    {
     "name": "stdout",
     "output_type": "stream",
     "text": [
      "Epoch: 832, Train Loss: 125.0538759, Eval Loss: 2276.4044864\n"
     ]
    },
    {
     "name": "stderr",
     "output_type": "stream",
     "text": [
      "Training epoch 833: 100%|██████████| 2880/2880 [03:05<00:00, 15.54it/s]\n",
      "Evaluating epoch 833: 100%|██████████| 1440/1440 [01:04<00:00, 22.17it/s]\n"
     ]
    },
    {
     "name": "stdout",
     "output_type": "stream",
     "text": [
      "Epoch: 833, Train Loss: 125.0538742, Eval Loss: 2276.4039649\n"
     ]
    },
    {
     "name": "stderr",
     "output_type": "stream",
     "text": [
      "Training epoch 834: 100%|██████████| 2880/2880 [03:05<00:00, 15.55it/s]\n",
      "Evaluating epoch 834: 100%|██████████| 1440/1440 [01:04<00:00, 22.22it/s]\n"
     ]
    },
    {
     "name": "stdout",
     "output_type": "stream",
     "text": [
      "Epoch: 834, Train Loss: 125.0538729, Eval Loss: 2276.4033901\n"
     ]
    },
    {
     "name": "stderr",
     "output_type": "stream",
     "text": [
      "Training epoch 835: 100%|██████████| 2880/2880 [03:05<00:00, 15.53it/s]\n",
      "Evaluating epoch 835: 100%|██████████| 1440/1440 [01:04<00:00, 22.23it/s]\n"
     ]
    },
    {
     "name": "stdout",
     "output_type": "stream",
     "text": [
      "Epoch: 835, Train Loss: 125.0538712, Eval Loss: 2276.4028705\n"
     ]
    },
    {
     "name": "stderr",
     "output_type": "stream",
     "text": [
      "Training epoch 836: 100%|██████████| 2880/2880 [03:05<00:00, 15.53it/s]\n",
      "Evaluating epoch 836: 100%|██████████| 1440/1440 [01:04<00:00, 22.22it/s]\n"
     ]
    },
    {
     "name": "stdout",
     "output_type": "stream",
     "text": [
      "Epoch: 836, Train Loss: 125.0538698, Eval Loss: 2276.4023249\n"
     ]
    },
    {
     "name": "stderr",
     "output_type": "stream",
     "text": [
      "Training epoch 837: 100%|██████████| 2880/2880 [03:05<00:00, 15.54it/s]\n",
      "Evaluating epoch 837: 100%|██████████| 1440/1440 [01:04<00:00, 22.26it/s]\n"
     ]
    },
    {
     "name": "stdout",
     "output_type": "stream",
     "text": [
      "Epoch: 837, Train Loss: 125.0538681, Eval Loss: 2276.4017995\n"
     ]
    },
    {
     "name": "stderr",
     "output_type": "stream",
     "text": [
      "Training epoch 838: 100%|██████████| 2880/2880 [03:05<00:00, 15.55it/s]\n",
      "Evaluating epoch 838: 100%|██████████| 1440/1440 [01:04<00:00, 22.27it/s]\n"
     ]
    },
    {
     "name": "stdout",
     "output_type": "stream",
     "text": [
      "Epoch: 838, Train Loss: 125.0538668, Eval Loss: 2276.4012361\n"
     ]
    },
    {
     "name": "stderr",
     "output_type": "stream",
     "text": [
      "Training epoch 839: 100%|██████████| 2880/2880 [03:05<00:00, 15.54it/s]\n",
      "Evaluating epoch 839: 100%|██████████| 1440/1440 [01:04<00:00, 22.19it/s]\n"
     ]
    },
    {
     "name": "stdout",
     "output_type": "stream",
     "text": [
      "Epoch: 839, Train Loss: 125.0538648, Eval Loss: 2276.4007228\n"
     ]
    },
    {
     "name": "stderr",
     "output_type": "stream",
     "text": [
      "Training epoch 840: 100%|██████████| 2880/2880 [03:05<00:00, 15.52it/s]\n",
      "Evaluating epoch 840: 100%|██████████| 1440/1440 [01:04<00:00, 22.23it/s]\n"
     ]
    },
    {
     "name": "stdout",
     "output_type": "stream",
     "text": [
      "Epoch: 840, Train Loss: 125.0538637, Eval Loss: 2276.4001726\n"
     ]
    },
    {
     "name": "stderr",
     "output_type": "stream",
     "text": [
      "Training epoch 841: 100%|██████████| 2880/2880 [03:05<00:00, 15.56it/s]\n",
      "Evaluating epoch 841: 100%|██████████| 1440/1440 [01:05<00:00, 22.13it/s]\n"
     ]
    },
    {
     "name": "stdout",
     "output_type": "stream",
     "text": [
      "Epoch: 841, Train Loss: 125.0538619, Eval Loss: 2276.3996490\n"
     ]
    },
    {
     "name": "stderr",
     "output_type": "stream",
     "text": [
      "Training epoch 842: 100%|██████████| 2880/2880 [03:05<00:00, 15.54it/s]\n",
      "Evaluating epoch 842: 100%|██████████| 1440/1440 [01:04<00:00, 22.23it/s]\n"
     ]
    },
    {
     "name": "stdout",
     "output_type": "stream",
     "text": [
      "Epoch: 842, Train Loss: 125.0538603, Eval Loss: 2276.3990671\n"
     ]
    },
    {
     "name": "stderr",
     "output_type": "stream",
     "text": [
      "Training epoch 843: 100%|██████████| 2880/2880 [03:05<00:00, 15.54it/s]\n",
      "Evaluating epoch 843: 100%|██████████| 1440/1440 [01:04<00:00, 22.25it/s]\n"
     ]
    },
    {
     "name": "stdout",
     "output_type": "stream",
     "text": [
      "Epoch: 843, Train Loss: 125.0538589, Eval Loss: 2276.3985537\n"
     ]
    },
    {
     "name": "stderr",
     "output_type": "stream",
     "text": [
      "Training epoch 844: 100%|██████████| 2880/2880 [03:05<00:00, 15.55it/s]\n",
      "Evaluating epoch 844: 100%|██████████| 1440/1440 [01:04<00:00, 22.21it/s]\n"
     ]
    },
    {
     "name": "stdout",
     "output_type": "stream",
     "text": [
      "Epoch: 844, Train Loss: 125.0538573, Eval Loss: 2276.3980057\n"
     ]
    },
    {
     "name": "stderr",
     "output_type": "stream",
     "text": [
      "Training epoch 845: 100%|██████████| 2880/2880 [03:05<00:00, 15.56it/s]\n",
      "Evaluating epoch 845: 100%|██████████| 1440/1440 [01:04<00:00, 22.18it/s]\n"
     ]
    },
    {
     "name": "stdout",
     "output_type": "stream",
     "text": [
      "Epoch: 845, Train Loss: 125.0538559, Eval Loss: 2276.3974911\n"
     ]
    },
    {
     "name": "stderr",
     "output_type": "stream",
     "text": [
      "Training epoch 846: 100%|██████████| 2880/2880 [03:05<00:00, 15.55it/s]\n",
      "Evaluating epoch 846: 100%|██████████| 1440/1440 [01:04<00:00, 22.22it/s]\n"
     ]
    },
    {
     "name": "stdout",
     "output_type": "stream",
     "text": [
      "Epoch: 846, Train Loss: 125.0538542, Eval Loss: 2276.3969213\n"
     ]
    },
    {
     "name": "stderr",
     "output_type": "stream",
     "text": [
      "Training epoch 847: 100%|██████████| 2880/2880 [03:05<00:00, 15.54it/s]\n",
      "Evaluating epoch 847: 100%|██████████| 1440/1440 [01:04<00:00, 22.21it/s]\n"
     ]
    },
    {
     "name": "stdout",
     "output_type": "stream",
     "text": [
      "Epoch: 847, Train Loss: 125.0538521, Eval Loss: 2276.3964028\n"
     ]
    },
    {
     "name": "stderr",
     "output_type": "stream",
     "text": [
      "Training epoch 848: 100%|██████████| 2880/2880 [03:05<00:00, 15.54it/s]\n",
      "Evaluating epoch 848: 100%|██████████| 1440/1440 [01:04<00:00, 22.25it/s]\n"
     ]
    },
    {
     "name": "stdout",
     "output_type": "stream",
     "text": [
      "Epoch: 848, Train Loss: 125.0538510, Eval Loss: 2276.3958431\n"
     ]
    },
    {
     "name": "stderr",
     "output_type": "stream",
     "text": [
      "Training epoch 849: 100%|██████████| 2880/2880 [03:05<00:00, 15.54it/s]\n",
      "Evaluating epoch 849: 100%|██████████| 1440/1440 [01:05<00:00, 22.15it/s]\n"
     ]
    },
    {
     "name": "stdout",
     "output_type": "stream",
     "text": [
      "Epoch: 849, Train Loss: 125.0538494, Eval Loss: 2276.3953304\n"
     ]
    },
    {
     "name": "stderr",
     "output_type": "stream",
     "text": [
      "Training epoch 850: 100%|██████████| 2880/2880 [03:05<00:00, 15.53it/s]\n",
      "Evaluating epoch 850: 100%|██████████| 1440/1440 [01:04<00:00, 22.25it/s]\n"
     ]
    },
    {
     "name": "stdout",
     "output_type": "stream",
     "text": [
      "Epoch: 850, Train Loss: 125.0538479, Eval Loss: 2276.3947870\n"
     ]
    },
    {
     "name": "stderr",
     "output_type": "stream",
     "text": [
      "Training epoch 851: 100%|██████████| 2880/2880 [03:04<00:00, 15.59it/s]\n",
      "Evaluating epoch 851: 100%|██████████| 1440/1440 [01:04<00:00, 22.27it/s]\n"
     ]
    },
    {
     "name": "stdout",
     "output_type": "stream",
     "text": [
      "Epoch: 851, Train Loss: 125.0538459, Eval Loss: 2276.3942529\n"
     ]
    },
    {
     "name": "stderr",
     "output_type": "stream",
     "text": [
      "Training epoch 852: 100%|██████████| 2880/2880 [03:05<00:00, 15.56it/s]\n",
      "Evaluating epoch 852: 100%|██████████| 1440/1440 [01:04<00:00, 22.30it/s]\n"
     ]
    },
    {
     "name": "stdout",
     "output_type": "stream",
     "text": [
      "Epoch: 852, Train Loss: 125.0538446, Eval Loss: 2276.3936914\n"
     ]
    },
    {
     "name": "stderr",
     "output_type": "stream",
     "text": [
      "Training epoch 853: 100%|██████████| 2880/2880 [03:05<00:00, 15.56it/s]\n",
      "Evaluating epoch 853: 100%|██████████| 1440/1440 [01:05<00:00, 22.13it/s]\n"
     ]
    },
    {
     "name": "stdout",
     "output_type": "stream",
     "text": [
      "Epoch: 853, Train Loss: 125.0538428, Eval Loss: 2276.3931916\n"
     ]
    },
    {
     "name": "stderr",
     "output_type": "stream",
     "text": [
      "Training epoch 854: 100%|██████████| 2880/2880 [03:05<00:00, 15.54it/s]\n",
      "Evaluating epoch 854: 100%|██████████| 1440/1440 [01:04<00:00, 22.18it/s]\n"
     ]
    },
    {
     "name": "stdout",
     "output_type": "stream",
     "text": [
      "Epoch: 854, Train Loss: 125.0538416, Eval Loss: 2276.3926377\n"
     ]
    },
    {
     "name": "stderr",
     "output_type": "stream",
     "text": [
      "Training epoch 855: 100%|██████████| 2880/2880 [03:05<00:00, 15.56it/s]\n",
      "Evaluating epoch 855: 100%|██████████| 1440/1440 [01:04<00:00, 22.23it/s]\n"
     ]
    },
    {
     "name": "stdout",
     "output_type": "stream",
     "text": [
      "Epoch: 855, Train Loss: 125.0538400, Eval Loss: 2276.3920897\n"
     ]
    },
    {
     "name": "stderr",
     "output_type": "stream",
     "text": [
      "Training epoch 856: 100%|██████████| 2880/2880 [03:05<00:00, 15.55it/s]\n",
      "Evaluating epoch 856: 100%|██████████| 1440/1440 [01:05<00:00, 22.14it/s]\n"
     ]
    },
    {
     "name": "stdout",
     "output_type": "stream",
     "text": [
      "Epoch: 856, Train Loss: 125.0538387, Eval Loss: 2276.3915787\n"
     ]
    },
    {
     "name": "stderr",
     "output_type": "stream",
     "text": [
      "Training epoch 857: 100%|██████████| 2880/2880 [03:05<00:00, 15.54it/s]\n",
      "Evaluating epoch 857: 100%|██████████| 1440/1440 [01:04<00:00, 22.17it/s]\n"
     ]
    },
    {
     "name": "stdout",
     "output_type": "stream",
     "text": [
      "Epoch: 857, Train Loss: 125.0538370, Eval Loss: 2276.3910466\n"
     ]
    },
    {
     "name": "stderr",
     "output_type": "stream",
     "text": [
      "Training epoch 858: 100%|██████████| 2880/2880 [03:05<00:00, 15.54it/s]\n",
      "Evaluating epoch 858: 100%|██████████| 1440/1440 [01:05<00:00, 22.14it/s]\n"
     ]
    },
    {
     "name": "stdout",
     "output_type": "stream",
     "text": [
      "Epoch: 858, Train Loss: 125.0538358, Eval Loss: 2276.3904658\n"
     ]
    },
    {
     "name": "stderr",
     "output_type": "stream",
     "text": [
      "Training epoch 859: 100%|██████████| 2880/2880 [03:05<00:00, 15.55it/s]\n",
      "Evaluating epoch 859: 100%|██████████| 1440/1440 [01:04<00:00, 22.17it/s]\n"
     ]
    },
    {
     "name": "stdout",
     "output_type": "stream",
     "text": [
      "Epoch: 859, Train Loss: 125.0538342, Eval Loss: 2276.3899625\n"
     ]
    },
    {
     "name": "stderr",
     "output_type": "stream",
     "text": [
      "Training epoch 860: 100%|██████████| 2880/2880 [03:05<00:00, 15.54it/s]\n",
      "Evaluating epoch 860: 100%|██████████| 1440/1440 [01:04<00:00, 22.25it/s]\n"
     ]
    },
    {
     "name": "stdout",
     "output_type": "stream",
     "text": [
      "Epoch: 860, Train Loss: 125.0538326, Eval Loss: 2276.3893949\n"
     ]
    },
    {
     "name": "stderr",
     "output_type": "stream",
     "text": [
      "Training epoch 861: 100%|██████████| 2880/2880 [03:05<00:00, 15.55it/s]\n",
      "Evaluating epoch 861: 100%|██████████| 1440/1440 [01:04<00:00, 22.16it/s]\n"
     ]
    },
    {
     "name": "stdout",
     "output_type": "stream",
     "text": [
      "Epoch: 861, Train Loss: 125.0538309, Eval Loss: 2276.3888674\n"
     ]
    },
    {
     "name": "stderr",
     "output_type": "stream",
     "text": [
      "Training epoch 862: 100%|██████████| 2880/2880 [03:05<00:00, 15.55it/s]\n",
      "Evaluating epoch 862: 100%|██████████| 1440/1440 [01:04<00:00, 22.24it/s]\n"
     ]
    },
    {
     "name": "stdout",
     "output_type": "stream",
     "text": [
      "Epoch: 862, Train Loss: 125.0538294, Eval Loss: 2276.3883202\n"
     ]
    },
    {
     "name": "stderr",
     "output_type": "stream",
     "text": [
      "Training epoch 863: 100%|██████████| 2880/2880 [03:05<00:00, 15.56it/s]\n",
      "Evaluating epoch 863: 100%|██████████| 1440/1440 [01:04<00:00, 22.27it/s]\n"
     ]
    },
    {
     "name": "stdout",
     "output_type": "stream",
     "text": [
      "Epoch: 863, Train Loss: 125.0538278, Eval Loss: 2276.3877880\n"
     ]
    },
    {
     "name": "stderr",
     "output_type": "stream",
     "text": [
      "Training epoch 864: 100%|██████████| 2880/2880 [03:05<00:00, 15.54it/s]\n",
      "Evaluating epoch 864: 100%|██████████| 1440/1440 [01:04<00:00, 22.16it/s]\n"
     ]
    },
    {
     "name": "stdout",
     "output_type": "stream",
     "text": [
      "Epoch: 864, Train Loss: 125.0538267, Eval Loss: 2276.3872223\n"
     ]
    },
    {
     "name": "stderr",
     "output_type": "stream",
     "text": [
      "Training epoch 865: 100%|██████████| 2880/2880 [03:04<00:00, 15.57it/s]\n",
      "Evaluating epoch 865: 100%|██████████| 1440/1440 [01:04<00:00, 22.21it/s]\n"
     ]
    },
    {
     "name": "stdout",
     "output_type": "stream",
     "text": [
      "Epoch: 865, Train Loss: 125.0538248, Eval Loss: 2276.3866779\n"
     ]
    },
    {
     "name": "stderr",
     "output_type": "stream",
     "text": [
      "Training epoch 866: 100%|██████████| 2880/2880 [03:05<00:00, 15.54it/s]\n",
      "Evaluating epoch 866: 100%|██████████| 1440/1440 [01:05<00:00, 22.14it/s]\n"
     ]
    },
    {
     "name": "stdout",
     "output_type": "stream",
     "text": [
      "Epoch: 866, Train Loss: 125.0538238, Eval Loss: 2276.3861369\n"
     ]
    },
    {
     "name": "stderr",
     "output_type": "stream",
     "text": [
      "Training epoch 867: 100%|██████████| 2880/2880 [03:04<00:00, 15.58it/s]\n",
      "Evaluating epoch 867: 100%|██████████| 1440/1440 [01:04<00:00, 22.24it/s]\n"
     ]
    },
    {
     "name": "stdout",
     "output_type": "stream",
     "text": [
      "Epoch: 867, Train Loss: 125.0538220, Eval Loss: 2276.3856228\n"
     ]
    },
    {
     "name": "stderr",
     "output_type": "stream",
     "text": [
      "Training epoch 868: 100%|██████████| 2880/2880 [03:05<00:00, 15.54it/s]\n",
      "Evaluating epoch 868: 100%|██████████| 1440/1440 [01:04<00:00, 22.22it/s]\n"
     ]
    },
    {
     "name": "stdout",
     "output_type": "stream",
     "text": [
      "Epoch: 868, Train Loss: 125.0538203, Eval Loss: 2276.3850395\n"
     ]
    },
    {
     "name": "stderr",
     "output_type": "stream",
     "text": [
      "Training epoch 869: 100%|██████████| 2880/2880 [03:05<00:00, 15.56it/s]\n",
      "Evaluating epoch 869: 100%|██████████| 1440/1440 [01:05<00:00, 22.14it/s]\n"
     ]
    },
    {
     "name": "stdout",
     "output_type": "stream",
     "text": [
      "Epoch: 869, Train Loss: 125.0538191, Eval Loss: 2276.3845362\n"
     ]
    },
    {
     "name": "stderr",
     "output_type": "stream",
     "text": [
      "Training epoch 870: 100%|██████████| 2880/2880 [03:04<00:00, 15.57it/s]\n",
      "Evaluating epoch 870: 100%|██████████| 1440/1440 [01:05<00:00, 22.13it/s]\n"
     ]
    },
    {
     "name": "stdout",
     "output_type": "stream",
     "text": [
      "Epoch: 870, Train Loss: 125.0538172, Eval Loss: 2276.3839813\n"
     ]
    },
    {
     "name": "stderr",
     "output_type": "stream",
     "text": [
      "Training epoch 871: 100%|██████████| 2880/2880 [03:05<00:00, 15.53it/s]\n",
      "Evaluating epoch 871: 100%|██████████| 1440/1440 [01:04<00:00, 22.27it/s]\n"
     ]
    },
    {
     "name": "stdout",
     "output_type": "stream",
     "text": [
      "Epoch: 871, Train Loss: 125.0538158, Eval Loss: 2276.3834767\n"
     ]
    },
    {
     "name": "stderr",
     "output_type": "stream",
     "text": [
      "Training epoch 872: 100%|██████████| 2880/2880 [03:05<00:00, 15.55it/s]\n",
      "Evaluating epoch 872: 100%|██████████| 1440/1440 [01:04<00:00, 22.20it/s]\n"
     ]
    },
    {
     "name": "stdout",
     "output_type": "stream",
     "text": [
      "Epoch: 872, Train Loss: 125.0538141, Eval Loss: 2276.3829322\n"
     ]
    },
    {
     "name": "stderr",
     "output_type": "stream",
     "text": [
      "Training epoch 873: 100%|██████████| 2880/2880 [03:04<00:00, 15.59it/s]\n",
      "Evaluating epoch 873: 100%|██████████| 1440/1440 [01:04<00:00, 22.27it/s]\n"
     ]
    },
    {
     "name": "stdout",
     "output_type": "stream",
     "text": [
      "Epoch: 873, Train Loss: 125.0538127, Eval Loss: 2276.3823840\n"
     ]
    },
    {
     "name": "stderr",
     "output_type": "stream",
     "text": [
      "Training epoch 874: 100%|██████████| 2880/2880 [03:05<00:00, 15.56it/s]\n",
      "Evaluating epoch 874: 100%|██████████| 1440/1440 [01:04<00:00, 22.18it/s]\n"
     ]
    },
    {
     "name": "stdout",
     "output_type": "stream",
     "text": [
      "Epoch: 874, Train Loss: 125.0538114, Eval Loss: 2276.3817970\n"
     ]
    },
    {
     "name": "stderr",
     "output_type": "stream",
     "text": [
      "Training epoch 875: 100%|██████████| 2880/2880 [03:05<00:00, 15.55it/s]\n",
      "Evaluating epoch 875: 100%|██████████| 1440/1440 [01:04<00:00, 22.20it/s]\n"
     ]
    },
    {
     "name": "stdout",
     "output_type": "stream",
     "text": [
      "Epoch: 875, Train Loss: 125.0538098, Eval Loss: 2276.3812742\n"
     ]
    },
    {
     "name": "stderr",
     "output_type": "stream",
     "text": [
      "Training epoch 876: 100%|██████████| 2880/2880 [03:05<00:00, 15.53it/s]\n",
      "Evaluating epoch 876: 100%|██████████| 1440/1440 [01:05<00:00, 22.13it/s]\n"
     ]
    },
    {
     "name": "stdout",
     "output_type": "stream",
     "text": [
      "Epoch: 876, Train Loss: 125.0538082, Eval Loss: 2276.3807394\n"
     ]
    },
    {
     "name": "stderr",
     "output_type": "stream",
     "text": [
      "Training epoch 877: 100%|██████████| 2880/2880 [03:05<00:00, 15.53it/s]\n",
      "Evaluating epoch 877: 100%|██████████| 1440/1440 [01:04<00:00, 22.18it/s]\n"
     ]
    },
    {
     "name": "stdout",
     "output_type": "stream",
     "text": [
      "Epoch: 877, Train Loss: 125.0538064, Eval Loss: 2276.3802179\n"
     ]
    },
    {
     "name": "stderr",
     "output_type": "stream",
     "text": [
      "Training epoch 878: 100%|██████████| 2880/2880 [03:05<00:00, 15.54it/s]\n",
      "Evaluating epoch 878: 100%|██████████| 1440/1440 [01:04<00:00, 22.20it/s]\n"
     ]
    },
    {
     "name": "stdout",
     "output_type": "stream",
     "text": [
      "Epoch: 878, Train Loss: 125.0538053, Eval Loss: 2276.3796569\n"
     ]
    },
    {
     "name": "stderr",
     "output_type": "stream",
     "text": [
      "Training epoch 879: 100%|██████████| 2880/2880 [03:05<00:00, 15.52it/s]\n",
      "Evaluating epoch 879: 100%|██████████| 1440/1440 [01:04<00:00, 22.23it/s]\n"
     ]
    },
    {
     "name": "stdout",
     "output_type": "stream",
     "text": [
      "Epoch: 879, Train Loss: 125.0538038, Eval Loss: 2276.3791520\n"
     ]
    },
    {
     "name": "stderr",
     "output_type": "stream",
     "text": [
      "Training epoch 880: 100%|██████████| 2880/2880 [03:05<00:00, 15.54it/s]\n",
      "Evaluating epoch 880: 100%|██████████| 1440/1440 [01:05<00:00, 22.09it/s]\n"
     ]
    },
    {
     "name": "stdout",
     "output_type": "stream",
     "text": [
      "Epoch: 880, Train Loss: 125.0538021, Eval Loss: 2276.3786041\n"
     ]
    },
    {
     "name": "stderr",
     "output_type": "stream",
     "text": [
      "Training epoch 881: 100%|██████████| 2880/2880 [03:05<00:00, 15.54it/s]\n",
      "Evaluating epoch 881: 100%|██████████| 1440/1440 [01:04<00:00, 22.17it/s]\n"
     ]
    },
    {
     "name": "stdout",
     "output_type": "stream",
     "text": [
      "Epoch: 881, Train Loss: 125.0538005, Eval Loss: 2276.3780959\n"
     ]
    },
    {
     "name": "stderr",
     "output_type": "stream",
     "text": [
      "Training epoch 882: 100%|██████████| 2880/2880 [03:05<00:00, 15.55it/s]\n",
      "Evaluating epoch 882: 100%|██████████| 1440/1440 [01:04<00:00, 22.30it/s]\n"
     ]
    },
    {
     "name": "stdout",
     "output_type": "stream",
     "text": [
      "Epoch: 882, Train Loss: 125.0537989, Eval Loss: 2276.3775157\n"
     ]
    },
    {
     "name": "stderr",
     "output_type": "stream",
     "text": [
      "Training epoch 883: 100%|██████████| 2880/2880 [03:05<00:00, 15.54it/s]\n",
      "Evaluating epoch 883: 100%|██████████| 1440/1440 [01:04<00:00, 22.18it/s]\n"
     ]
    },
    {
     "name": "stdout",
     "output_type": "stream",
     "text": [
      "Epoch: 883, Train Loss: 125.0537977, Eval Loss: 2276.3770022\n"
     ]
    },
    {
     "name": "stderr",
     "output_type": "stream",
     "text": [
      "Training epoch 884: 100%|██████████| 2880/2880 [03:05<00:00, 15.54it/s]\n",
      "Evaluating epoch 884: 100%|██████████| 1440/1440 [01:04<00:00, 22.18it/s]\n"
     ]
    },
    {
     "name": "stdout",
     "output_type": "stream",
     "text": [
      "Epoch: 884, Train Loss: 125.0537959, Eval Loss: 2276.3764288\n"
     ]
    },
    {
     "name": "stderr",
     "output_type": "stream",
     "text": [
      "Training epoch 885: 100%|██████████| 2880/2880 [03:05<00:00, 15.56it/s]\n",
      "Evaluating epoch 885: 100%|██████████| 1440/1440 [01:04<00:00, 22.20it/s]\n"
     ]
    },
    {
     "name": "stdout",
     "output_type": "stream",
     "text": [
      "Epoch: 885, Train Loss: 125.0537945, Eval Loss: 2276.3759066\n"
     ]
    },
    {
     "name": "stderr",
     "output_type": "stream",
     "text": [
      "Training epoch 886: 100%|██████████| 2880/2880 [03:05<00:00, 15.55it/s]\n",
      "Evaluating epoch 886: 100%|██████████| 1440/1440 [01:04<00:00, 22.23it/s]\n"
     ]
    },
    {
     "name": "stdout",
     "output_type": "stream",
     "text": [
      "Epoch: 886, Train Loss: 125.0537928, Eval Loss: 2276.3753361\n"
     ]
    },
    {
     "name": "stderr",
     "output_type": "stream",
     "text": [
      "Training epoch 887: 100%|██████████| 2880/2880 [03:05<00:00, 15.55it/s]\n",
      "Evaluating epoch 887: 100%|██████████| 1440/1440 [01:04<00:00, 22.20it/s]\n"
     ]
    },
    {
     "name": "stdout",
     "output_type": "stream",
     "text": [
      "Epoch: 887, Train Loss: 125.0537917, Eval Loss: 2276.3748300\n"
     ]
    },
    {
     "name": "stderr",
     "output_type": "stream",
     "text": [
      "Training epoch 888: 100%|██████████| 2880/2880 [03:05<00:00, 15.52it/s]\n",
      "Evaluating epoch 888: 100%|██████████| 1440/1440 [01:04<00:00, 22.26it/s]\n"
     ]
    },
    {
     "name": "stdout",
     "output_type": "stream",
     "text": [
      "Epoch: 888, Train Loss: 125.0537903, Eval Loss: 2276.3742596\n"
     ]
    },
    {
     "name": "stderr",
     "output_type": "stream",
     "text": [
      "Training epoch 889: 100%|██████████| 2880/2880 [03:05<00:00, 15.57it/s]\n",
      "Evaluating epoch 889: 100%|██████████| 1440/1440 [01:04<00:00, 22.27it/s]\n"
     ]
    },
    {
     "name": "stdout",
     "output_type": "stream",
     "text": [
      "Epoch: 889, Train Loss: 125.0537886, Eval Loss: 2276.3737218\n"
     ]
    },
    {
     "name": "stderr",
     "output_type": "stream",
     "text": [
      "Training epoch 890: 100%|██████████| 2880/2880 [03:05<00:00, 15.55it/s]\n",
      "Evaluating epoch 890: 100%|██████████| 1440/1440 [01:04<00:00, 22.26it/s]\n"
     ]
    },
    {
     "name": "stdout",
     "output_type": "stream",
     "text": [
      "Epoch: 890, Train Loss: 125.0537870, Eval Loss: 2276.3731752\n"
     ]
    },
    {
     "name": "stderr",
     "output_type": "stream",
     "text": [
      "Training epoch 891: 100%|██████████| 2880/2880 [03:05<00:00, 15.54it/s]\n",
      "Evaluating epoch 891: 100%|██████████| 1440/1440 [01:04<00:00, 22.22it/s]\n"
     ]
    },
    {
     "name": "stdout",
     "output_type": "stream",
     "text": [
      "Epoch: 891, Train Loss: 125.0537855, Eval Loss: 2276.3726772\n"
     ]
    },
    {
     "name": "stderr",
     "output_type": "stream",
     "text": [
      "Training epoch 892: 100%|██████████| 2880/2880 [03:05<00:00, 15.56it/s]\n",
      "Evaluating epoch 892: 100%|██████████| 1440/1440 [01:04<00:00, 22.16it/s]\n"
     ]
    },
    {
     "name": "stdout",
     "output_type": "stream",
     "text": [
      "Epoch: 892, Train Loss: 125.0537839, Eval Loss: 2276.3720944\n"
     ]
    },
    {
     "name": "stderr",
     "output_type": "stream",
     "text": [
      "Training epoch 893: 100%|██████████| 2880/2880 [03:04<00:00, 15.57it/s]\n",
      "Evaluating epoch 893: 100%|██████████| 1440/1440 [01:04<00:00, 22.19it/s]\n"
     ]
    },
    {
     "name": "stdout",
     "output_type": "stream",
     "text": [
      "Epoch: 893, Train Loss: 125.0537824, Eval Loss: 2276.3715447\n"
     ]
    },
    {
     "name": "stderr",
     "output_type": "stream",
     "text": [
      "Training epoch 894: 100%|██████████| 2880/2880 [03:05<00:00, 15.56it/s]\n",
      "Evaluating epoch 894: 100%|██████████| 1440/1440 [01:04<00:00, 22.22it/s]\n"
     ]
    },
    {
     "name": "stdout",
     "output_type": "stream",
     "text": [
      "Epoch: 894, Train Loss: 125.0537813, Eval Loss: 2276.3710142\n"
     ]
    },
    {
     "name": "stderr",
     "output_type": "stream",
     "text": [
      "Training epoch 895: 100%|██████████| 2880/2880 [03:05<00:00, 15.55it/s]\n",
      "Evaluating epoch 895: 100%|██████████| 1440/1440 [01:05<00:00, 22.14it/s]\n"
     ]
    },
    {
     "name": "stdout",
     "output_type": "stream",
     "text": [
      "Epoch: 895, Train Loss: 125.0537793, Eval Loss: 2276.3704865\n"
     ]
    },
    {
     "name": "stderr",
     "output_type": "stream",
     "text": [
      "Training epoch 896: 100%|██████████| 2880/2880 [03:05<00:00, 15.55it/s]\n",
      "Evaluating epoch 896: 100%|██████████| 1440/1440 [01:04<00:00, 22.27it/s]\n"
     ]
    },
    {
     "name": "stdout",
     "output_type": "stream",
     "text": [
      "Epoch: 896, Train Loss: 125.0537785, Eval Loss: 2276.3699309\n"
     ]
    },
    {
     "name": "stderr",
     "output_type": "stream",
     "text": [
      "Training epoch 897: 100%|██████████| 2880/2880 [03:05<00:00, 15.53it/s]\n",
      "Evaluating epoch 897: 100%|██████████| 1440/1440 [01:04<00:00, 22.21it/s]\n"
     ]
    },
    {
     "name": "stdout",
     "output_type": "stream",
     "text": [
      "Epoch: 897, Train Loss: 125.0537767, Eval Loss: 2276.3694009\n"
     ]
    },
    {
     "name": "stderr",
     "output_type": "stream",
     "text": [
      "Training epoch 898: 100%|██████████| 2880/2880 [03:04<00:00, 15.57it/s]\n",
      "Evaluating epoch 898: 100%|██████████| 1440/1440 [01:04<00:00, 22.20it/s]\n"
     ]
    },
    {
     "name": "stdout",
     "output_type": "stream",
     "text": [
      "Epoch: 898, Train Loss: 125.0537752, Eval Loss: 2276.3688412\n"
     ]
    },
    {
     "name": "stderr",
     "output_type": "stream",
     "text": [
      "Training epoch 899: 100%|██████████| 2880/2880 [03:05<00:00, 15.55it/s]\n",
      "Evaluating epoch 899: 100%|██████████| 1440/1440 [01:04<00:00, 22.25it/s]\n"
     ]
    },
    {
     "name": "stdout",
     "output_type": "stream",
     "text": [
      "Epoch: 899, Train Loss: 125.0537734, Eval Loss: 2276.3683159\n"
     ]
    },
    {
     "name": "stderr",
     "output_type": "stream",
     "text": [
      "Training epoch 900: 100%|██████████| 2880/2880 [03:05<00:00, 15.56it/s]\n",
      "Evaluating epoch 900: 100%|██████████| 1440/1440 [01:04<00:00, 22.19it/s]\n"
     ]
    },
    {
     "name": "stdout",
     "output_type": "stream",
     "text": [
      "Epoch: 900, Train Loss: 125.0537720, Eval Loss: 2276.3677843\n"
     ]
    },
    {
     "name": "stderr",
     "output_type": "stream",
     "text": [
      "Training epoch 901: 100%|██████████| 2880/2880 [03:05<00:00, 15.50it/s]\n",
      "Evaluating epoch 901: 100%|██████████| 1440/1440 [01:04<00:00, 22.22it/s]\n"
     ]
    },
    {
     "name": "stdout",
     "output_type": "stream",
     "text": [
      "Epoch: 901, Train Loss: 125.0537704, Eval Loss: 2276.3672638\n"
     ]
    },
    {
     "name": "stderr",
     "output_type": "stream",
     "text": [
      "Training epoch 902: 100%|██████████| 2880/2880 [03:05<00:00, 15.54it/s]\n",
      "Evaluating epoch 902: 100%|██████████| 1440/1440 [01:04<00:00, 22.22it/s]\n"
     ]
    },
    {
     "name": "stdout",
     "output_type": "stream",
     "text": [
      "Epoch: 902, Train Loss: 125.0537686, Eval Loss: 2276.3666730\n"
     ]
    },
    {
     "name": "stderr",
     "output_type": "stream",
     "text": [
      "Training epoch 903: 100%|██████████| 2880/2880 [03:05<00:00, 15.54it/s]\n",
      "Evaluating epoch 903: 100%|██████████| 1440/1440 [01:04<00:00, 22.16it/s]\n"
     ]
    },
    {
     "name": "stdout",
     "output_type": "stream",
     "text": [
      "Epoch: 903, Train Loss: 125.0537674, Eval Loss: 2276.3661413\n"
     ]
    },
    {
     "name": "stderr",
     "output_type": "stream",
     "text": [
      "Training epoch 904: 100%|██████████| 2880/2880 [03:05<00:00, 15.52it/s]\n",
      "Evaluating epoch 904: 100%|██████████| 1440/1440 [01:04<00:00, 22.16it/s]\n"
     ]
    },
    {
     "name": "stdout",
     "output_type": "stream",
     "text": [
      "Epoch: 904, Train Loss: 125.0537660, Eval Loss: 2276.3655954\n"
     ]
    },
    {
     "name": "stderr",
     "output_type": "stream",
     "text": [
      "Training epoch 905: 100%|██████████| 2880/2880 [03:05<00:00, 15.56it/s]\n",
      "Evaluating epoch 905: 100%|██████████| 1440/1440 [01:04<00:00, 22.16it/s]\n"
     ]
    },
    {
     "name": "stdout",
     "output_type": "stream",
     "text": [
      "Epoch: 905, Train Loss: 125.0537648, Eval Loss: 2276.3650516\n"
     ]
    },
    {
     "name": "stderr",
     "output_type": "stream",
     "text": [
      "Training epoch 906: 100%|██████████| 2880/2880 [03:05<00:00, 15.55it/s]\n",
      "Evaluating epoch 906: 100%|██████████| 1440/1440 [01:04<00:00, 22.24it/s]\n"
     ]
    },
    {
     "name": "stdout",
     "output_type": "stream",
     "text": [
      "Epoch: 906, Train Loss: 125.0537632, Eval Loss: 2276.3644859\n"
     ]
    },
    {
     "name": "stderr",
     "output_type": "stream",
     "text": [
      "Training epoch 907: 100%|██████████| 2880/2880 [03:05<00:00, 15.51it/s]\n",
      "Evaluating epoch 907: 100%|██████████| 1440/1440 [01:04<00:00, 22.18it/s]\n"
     ]
    },
    {
     "name": "stdout",
     "output_type": "stream",
     "text": [
      "Epoch: 907, Train Loss: 125.0537616, Eval Loss: 2276.3639489\n"
     ]
    },
    {
     "name": "stderr",
     "output_type": "stream",
     "text": [
      "Training epoch 908: 100%|██████████| 2880/2880 [03:05<00:00, 15.52it/s]\n",
      "Evaluating epoch 908: 100%|██████████| 1440/1440 [01:04<00:00, 22.25it/s]\n"
     ]
    },
    {
     "name": "stdout",
     "output_type": "stream",
     "text": [
      "Epoch: 908, Train Loss: 125.0537601, Eval Loss: 2276.3633973\n"
     ]
    },
    {
     "name": "stderr",
     "output_type": "stream",
     "text": [
      "Training epoch 909: 100%|██████████| 2880/2880 [03:04<00:00, 15.57it/s]\n",
      "Evaluating epoch 909: 100%|██████████| 1440/1440 [01:04<00:00, 22.24it/s]\n"
     ]
    },
    {
     "name": "stdout",
     "output_type": "stream",
     "text": [
      "Epoch: 909, Train Loss: 125.0537584, Eval Loss: 2276.3628697\n"
     ]
    },
    {
     "name": "stderr",
     "output_type": "stream",
     "text": [
      "Training epoch 910: 100%|██████████| 2880/2880 [03:05<00:00, 15.56it/s]\n",
      "Evaluating epoch 910: 100%|██████████| 1440/1440 [01:04<00:00, 22.23it/s]\n"
     ]
    },
    {
     "name": "stdout",
     "output_type": "stream",
     "text": [
      "Epoch: 910, Train Loss: 125.0537569, Eval Loss: 2276.3623035\n"
     ]
    },
    {
     "name": "stderr",
     "output_type": "stream",
     "text": [
      "Training epoch 911: 100%|██████████| 2880/2880 [03:04<00:00, 15.57it/s]\n",
      "Evaluating epoch 911: 100%|██████████| 1440/1440 [01:04<00:00, 22.18it/s]\n"
     ]
    },
    {
     "name": "stdout",
     "output_type": "stream",
     "text": [
      "Epoch: 911, Train Loss: 125.0537555, Eval Loss: 2276.3617616\n"
     ]
    },
    {
     "name": "stderr",
     "output_type": "stream",
     "text": [
      "Training epoch 912: 100%|██████████| 2880/2880 [03:05<00:00, 15.56it/s]\n",
      "Evaluating epoch 912: 100%|██████████| 1440/1440 [01:04<00:00, 22.24it/s]\n"
     ]
    },
    {
     "name": "stdout",
     "output_type": "stream",
     "text": [
      "Epoch: 912, Train Loss: 125.0537540, Eval Loss: 2276.3612191\n"
     ]
    },
    {
     "name": "stderr",
     "output_type": "stream",
     "text": [
      "Training epoch 913: 100%|██████████| 2880/2880 [03:04<00:00, 15.58it/s]\n",
      "Evaluating epoch 913: 100%|██████████| 1440/1440 [01:04<00:00, 22.19it/s]\n"
     ]
    },
    {
     "name": "stdout",
     "output_type": "stream",
     "text": [
      "Epoch: 913, Train Loss: 125.0537521, Eval Loss: 2276.3606685\n"
     ]
    },
    {
     "name": "stderr",
     "output_type": "stream",
     "text": [
      "Training epoch 914: 100%|██████████| 2880/2880 [03:04<00:00, 15.58it/s]\n",
      "Evaluating epoch 914: 100%|██████████| 1440/1440 [01:04<00:00, 22.22it/s]\n"
     ]
    },
    {
     "name": "stdout",
     "output_type": "stream",
     "text": [
      "Epoch: 914, Train Loss: 125.0537509, Eval Loss: 2276.3601296\n"
     ]
    },
    {
     "name": "stderr",
     "output_type": "stream",
     "text": [
      "Training epoch 915: 100%|██████████| 2880/2880 [03:04<00:00, 15.59it/s]\n",
      "Evaluating epoch 915: 100%|██████████| 1440/1440 [01:04<00:00, 22.19it/s]\n"
     ]
    },
    {
     "name": "stdout",
     "output_type": "stream",
     "text": [
      "Epoch: 915, Train Loss: 125.0537496, Eval Loss: 2276.3596121\n"
     ]
    },
    {
     "name": "stderr",
     "output_type": "stream",
     "text": [
      "Training epoch 916: 100%|██████████| 2880/2880 [03:05<00:00, 15.56it/s]\n",
      "Evaluating epoch 916: 100%|██████████| 1440/1440 [01:05<00:00, 22.15it/s]\n"
     ]
    },
    {
     "name": "stdout",
     "output_type": "stream",
     "text": [
      "Epoch: 916, Train Loss: 125.0537475, Eval Loss: 2276.3590470\n"
     ]
    },
    {
     "name": "stderr",
     "output_type": "stream",
     "text": [
      "Training epoch 917: 100%|██████████| 2880/2880 [03:04<00:00, 15.57it/s]\n",
      "Evaluating epoch 917: 100%|██████████| 1440/1440 [01:05<00:00, 22.11it/s]\n"
     ]
    },
    {
     "name": "stdout",
     "output_type": "stream",
     "text": [
      "Epoch: 917, Train Loss: 125.0537464, Eval Loss: 2276.3585076\n"
     ]
    },
    {
     "name": "stderr",
     "output_type": "stream",
     "text": [
      "Training epoch 918: 100%|██████████| 2880/2880 [03:04<00:00, 15.58it/s]\n",
      "Evaluating epoch 918: 100%|██████████| 1440/1440 [01:04<00:00, 22.20it/s]\n"
     ]
    },
    {
     "name": "stdout",
     "output_type": "stream",
     "text": [
      "Epoch: 918, Train Loss: 125.0537450, Eval Loss: 2276.3579160\n"
     ]
    },
    {
     "name": "stderr",
     "output_type": "stream",
     "text": [
      "Training epoch 919: 100%|██████████| 2880/2880 [03:05<00:00, 15.55it/s]\n",
      "Evaluating epoch 919: 100%|██████████| 1440/1440 [01:04<00:00, 22.25it/s]\n"
     ]
    },
    {
     "name": "stdout",
     "output_type": "stream",
     "text": [
      "Epoch: 919, Train Loss: 125.0537437, Eval Loss: 2276.3573933\n"
     ]
    },
    {
     "name": "stderr",
     "output_type": "stream",
     "text": [
      "Training epoch 920: 100%|██████████| 2880/2880 [03:05<00:00, 15.56it/s]\n",
      "Evaluating epoch 920: 100%|██████████| 1440/1440 [01:04<00:00, 22.18it/s]\n"
     ]
    },
    {
     "name": "stdout",
     "output_type": "stream",
     "text": [
      "Epoch: 920, Train Loss: 125.0537418, Eval Loss: 2276.3568464\n"
     ]
    },
    {
     "name": "stderr",
     "output_type": "stream",
     "text": [
      "Training epoch 921: 100%|██████████| 2880/2880 [03:05<00:00, 15.54it/s]\n",
      "Evaluating epoch 921: 100%|██████████| 1440/1440 [01:04<00:00, 22.23it/s]\n"
     ]
    },
    {
     "name": "stdout",
     "output_type": "stream",
     "text": [
      "Epoch: 921, Train Loss: 125.0537408, Eval Loss: 2276.3563126\n"
     ]
    },
    {
     "name": "stderr",
     "output_type": "stream",
     "text": [
      "Training epoch 922: 100%|██████████| 2880/2880 [03:05<00:00, 15.54it/s]\n",
      "Evaluating epoch 922: 100%|██████████| 1440/1440 [01:05<00:00, 22.08it/s]\n"
     ]
    },
    {
     "name": "stdout",
     "output_type": "stream",
     "text": [
      "Epoch: 922, Train Loss: 125.0537392, Eval Loss: 2276.3557614\n"
     ]
    },
    {
     "name": "stderr",
     "output_type": "stream",
     "text": [
      "Training epoch 923: 100%|██████████| 2880/2880 [03:05<00:00, 15.54it/s]\n",
      "Evaluating epoch 923: 100%|██████████| 1440/1440 [01:04<00:00, 22.24it/s]\n"
     ]
    },
    {
     "name": "stdout",
     "output_type": "stream",
     "text": [
      "Epoch: 923, Train Loss: 125.0537375, Eval Loss: 2276.3552761\n"
     ]
    },
    {
     "name": "stderr",
     "output_type": "stream",
     "text": [
      "Training epoch 924: 100%|██████████| 2880/2880 [03:05<00:00, 15.55it/s]\n",
      "Evaluating epoch 924: 100%|██████████| 1440/1440 [01:04<00:00, 22.24it/s]\n"
     ]
    },
    {
     "name": "stdout",
     "output_type": "stream",
     "text": [
      "Epoch: 924, Train Loss: 125.0537363, Eval Loss: 2276.3546886\n"
     ]
    },
    {
     "name": "stderr",
     "output_type": "stream",
     "text": [
      "Training epoch 925: 100%|██████████| 2880/2880 [03:05<00:00, 15.56it/s]\n",
      "Evaluating epoch 925: 100%|██████████| 1440/1440 [01:04<00:00, 22.17it/s]\n"
     ]
    },
    {
     "name": "stdout",
     "output_type": "stream",
     "text": [
      "Epoch: 925, Train Loss: 125.0537341, Eval Loss: 2276.3541525\n"
     ]
    },
    {
     "name": "stderr",
     "output_type": "stream",
     "text": [
      "Training epoch 926: 100%|██████████| 2880/2880 [03:05<00:00, 15.55it/s]\n",
      "Evaluating epoch 926: 100%|██████████| 1440/1440 [01:04<00:00, 22.16it/s]\n"
     ]
    },
    {
     "name": "stdout",
     "output_type": "stream",
     "text": [
      "Epoch: 926, Train Loss: 125.0537331, Eval Loss: 2276.3536085\n"
     ]
    },
    {
     "name": "stderr",
     "output_type": "stream",
     "text": [
      "Training epoch 927: 100%|██████████| 2880/2880 [03:05<00:00, 15.55it/s]\n",
      "Evaluating epoch 927: 100%|██████████| 1440/1440 [01:04<00:00, 22.19it/s]\n"
     ]
    },
    {
     "name": "stdout",
     "output_type": "stream",
     "text": [
      "Epoch: 927, Train Loss: 125.0537316, Eval Loss: 2276.3530910\n"
     ]
    },
    {
     "name": "stderr",
     "output_type": "stream",
     "text": [
      "Training epoch 928: 100%|██████████| 2880/2880 [03:05<00:00, 15.56it/s]\n",
      "Evaluating epoch 928: 100%|██████████| 1440/1440 [01:04<00:00, 22.22it/s]\n"
     ]
    },
    {
     "name": "stdout",
     "output_type": "stream",
     "text": [
      "Epoch: 928, Train Loss: 125.0537297, Eval Loss: 2276.3524980\n"
     ]
    },
    {
     "name": "stderr",
     "output_type": "stream",
     "text": [
      "Training epoch 929: 100%|██████████| 2880/2880 [03:05<00:00, 15.54it/s]\n",
      "Evaluating epoch 929: 100%|██████████| 1440/1440 [01:04<00:00, 22.20it/s]\n"
     ]
    },
    {
     "name": "stdout",
     "output_type": "stream",
     "text": [
      "Epoch: 929, Train Loss: 125.0537284, Eval Loss: 2276.3519622\n"
     ]
    },
    {
     "name": "stderr",
     "output_type": "stream",
     "text": [
      "Training epoch 930: 100%|██████████| 2880/2880 [03:05<00:00, 15.55it/s]\n",
      "Evaluating epoch 930: 100%|██████████| 1440/1440 [01:04<00:00, 22.22it/s]\n"
     ]
    },
    {
     "name": "stdout",
     "output_type": "stream",
     "text": [
      "Epoch: 930, Train Loss: 125.0537267, Eval Loss: 2276.3514321\n"
     ]
    },
    {
     "name": "stderr",
     "output_type": "stream",
     "text": [
      "Training epoch 931: 100%|██████████| 2880/2880 [03:04<00:00, 15.57it/s]\n",
      "Evaluating epoch 931: 100%|██████████| 1440/1440 [01:04<00:00, 22.16it/s]\n"
     ]
    },
    {
     "name": "stdout",
     "output_type": "stream",
     "text": [
      "Epoch: 931, Train Loss: 125.0537252, Eval Loss: 2276.3508373\n"
     ]
    },
    {
     "name": "stderr",
     "output_type": "stream",
     "text": [
      "Training epoch 932: 100%|██████████| 2880/2880 [03:05<00:00, 15.54it/s]\n",
      "Evaluating epoch 932: 100%|██████████| 1440/1440 [01:05<00:00, 22.13it/s]\n"
     ]
    },
    {
     "name": "stdout",
     "output_type": "stream",
     "text": [
      "Epoch: 932, Train Loss: 125.0537236, Eval Loss: 2276.3502781\n"
     ]
    },
    {
     "name": "stderr",
     "output_type": "stream",
     "text": [
      "Training epoch 933: 100%|██████████| 2880/2880 [03:05<00:00, 15.57it/s]\n",
      "Evaluating epoch 933: 100%|██████████| 1440/1440 [01:04<00:00, 22.21it/s]\n"
     ]
    },
    {
     "name": "stdout",
     "output_type": "stream",
     "text": [
      "Epoch: 933, Train Loss: 125.0537218, Eval Loss: 2276.3497660\n"
     ]
    },
    {
     "name": "stderr",
     "output_type": "stream",
     "text": [
      "Training epoch 934: 100%|██████████| 2880/2880 [03:05<00:00, 15.56it/s]\n",
      "Evaluating epoch 934: 100%|██████████| 1440/1440 [01:05<00:00, 22.11it/s]\n"
     ]
    },
    {
     "name": "stdout",
     "output_type": "stream",
     "text": [
      "Epoch: 934, Train Loss: 125.0537200, Eval Loss: 2276.3492030\n"
     ]
    },
    {
     "name": "stderr",
     "output_type": "stream",
     "text": [
      "Training epoch 935: 100%|██████████| 2880/2880 [03:05<00:00, 15.55it/s]\n",
      "Evaluating epoch 935: 100%|██████████| 1440/1440 [01:04<00:00, 22.18it/s]\n"
     ]
    },
    {
     "name": "stdout",
     "output_type": "stream",
     "text": [
      "Epoch: 935, Train Loss: 125.0537186, Eval Loss: 2276.3486534\n"
     ]
    },
    {
     "name": "stderr",
     "output_type": "stream",
     "text": [
      "Training epoch 936: 100%|██████████| 2880/2880 [03:04<00:00, 15.57it/s]\n",
      "Evaluating epoch 936: 100%|██████████| 1440/1440 [01:04<00:00, 22.21it/s]\n"
     ]
    },
    {
     "name": "stdout",
     "output_type": "stream",
     "text": [
      "Epoch: 936, Train Loss: 125.0537172, Eval Loss: 2276.3480908\n"
     ]
    },
    {
     "name": "stderr",
     "output_type": "stream",
     "text": [
      "Training epoch 937: 100%|██████████| 2880/2880 [03:05<00:00, 15.55it/s]\n",
      "Evaluating epoch 937: 100%|██████████| 1440/1440 [01:04<00:00, 22.23it/s]\n"
     ]
    },
    {
     "name": "stdout",
     "output_type": "stream",
     "text": [
      "Epoch: 937, Train Loss: 125.0537152, Eval Loss: 2276.3475280\n"
     ]
    },
    {
     "name": "stderr",
     "output_type": "stream",
     "text": [
      "Training epoch 938: 100%|██████████| 2880/2880 [03:05<00:00, 15.54it/s]\n",
      "Evaluating epoch 938: 100%|██████████| 1440/1440 [01:04<00:00, 22.21it/s]\n"
     ]
    },
    {
     "name": "stdout",
     "output_type": "stream",
     "text": [
      "Epoch: 938, Train Loss: 125.0537136, Eval Loss: 2276.3469965\n"
     ]
    },
    {
     "name": "stderr",
     "output_type": "stream",
     "text": [
      "Training epoch 939: 100%|██████████| 2880/2880 [03:05<00:00, 15.56it/s]\n",
      "Evaluating epoch 939: 100%|██████████| 1440/1440 [01:04<00:00, 22.24it/s]\n"
     ]
    },
    {
     "name": "stdout",
     "output_type": "stream",
     "text": [
      "Epoch: 939, Train Loss: 125.0537121, Eval Loss: 2276.3464505\n"
     ]
    },
    {
     "name": "stderr",
     "output_type": "stream",
     "text": [
      "Training epoch 940: 100%|██████████| 2880/2880 [03:05<00:00, 15.54it/s]\n",
      "Evaluating epoch 940: 100%|██████████| 1440/1440 [01:04<00:00, 22.20it/s]\n"
     ]
    },
    {
     "name": "stdout",
     "output_type": "stream",
     "text": [
      "Epoch: 940, Train Loss: 125.0537104, Eval Loss: 2276.3458584\n"
     ]
    },
    {
     "name": "stderr",
     "output_type": "stream",
     "text": [
      "Training epoch 941: 100%|██████████| 2880/2880 [03:04<00:00, 15.57it/s]\n",
      "Evaluating epoch 941: 100%|██████████| 1440/1440 [01:04<00:00, 22.17it/s]\n"
     ]
    },
    {
     "name": "stdout",
     "output_type": "stream",
     "text": [
      "Epoch: 941, Train Loss: 125.0537087, Eval Loss: 2276.3453480\n"
     ]
    },
    {
     "name": "stderr",
     "output_type": "stream",
     "text": [
      "Training epoch 942: 100%|██████████| 2880/2880 [03:05<00:00, 15.54it/s]\n",
      "Evaluating epoch 942: 100%|██████████| 1440/1440 [01:04<00:00, 22.19it/s]\n"
     ]
    },
    {
     "name": "stdout",
     "output_type": "stream",
     "text": [
      "Epoch: 942, Train Loss: 125.0537067, Eval Loss: 2276.3447610\n"
     ]
    },
    {
     "name": "stderr",
     "output_type": "stream",
     "text": [
      "Training epoch 943: 100%|██████████| 2880/2880 [03:05<00:00, 15.53it/s]\n",
      "Evaluating epoch 943: 100%|██████████| 1440/1440 [01:05<00:00, 22.14it/s]\n"
     ]
    },
    {
     "name": "stdout",
     "output_type": "stream",
     "text": [
      "Epoch: 943, Train Loss: 125.0537050, Eval Loss: 2276.3442353\n"
     ]
    },
    {
     "name": "stderr",
     "output_type": "stream",
     "text": [
      "Training epoch 944: 100%|██████████| 2880/2880 [03:05<00:00, 15.56it/s]\n",
      "Evaluating epoch 944: 100%|██████████| 1440/1440 [01:04<00:00, 22.26it/s]\n"
     ]
    },
    {
     "name": "stdout",
     "output_type": "stream",
     "text": [
      "Epoch: 944, Train Loss: 125.0537033, Eval Loss: 2276.3436591\n"
     ]
    },
    {
     "name": "stderr",
     "output_type": "stream",
     "text": [
      "Training epoch 945: 100%|██████████| 2880/2880 [03:04<00:00, 15.57it/s]\n",
      "Evaluating epoch 945: 100%|██████████| 1440/1440 [01:04<00:00, 22.23it/s]\n"
     ]
    },
    {
     "name": "stdout",
     "output_type": "stream",
     "text": [
      "Epoch: 945, Train Loss: 125.0537013, Eval Loss: 2276.3431234\n"
     ]
    },
    {
     "name": "stderr",
     "output_type": "stream",
     "text": [
      "Training epoch 946: 100%|██████████| 2880/2880 [03:05<00:00, 15.56it/s]\n",
      "Evaluating epoch 946: 100%|██████████| 1440/1440 [01:04<00:00, 22.22it/s]\n"
     ]
    },
    {
     "name": "stdout",
     "output_type": "stream",
     "text": [
      "Epoch: 946, Train Loss: 125.0536990, Eval Loss: 2276.3425438\n"
     ]
    },
    {
     "name": "stderr",
     "output_type": "stream",
     "text": [
      "Training epoch 947: 100%|██████████| 2880/2880 [03:04<00:00, 15.57it/s]\n",
      "Evaluating epoch 947: 100%|██████████| 1440/1440 [01:04<00:00, 22.22it/s]\n"
     ]
    },
    {
     "name": "stdout",
     "output_type": "stream",
     "text": [
      "Epoch: 947, Train Loss: 125.0536974, Eval Loss: 2276.3419950\n"
     ]
    },
    {
     "name": "stderr",
     "output_type": "stream",
     "text": [
      "Training epoch 948: 100%|██████████| 2880/2880 [03:05<00:00, 15.56it/s]\n",
      "Evaluating epoch 948: 100%|██████████| 1440/1440 [01:04<00:00, 22.24it/s]\n"
     ]
    },
    {
     "name": "stdout",
     "output_type": "stream",
     "text": [
      "Epoch: 948, Train Loss: 125.0536948, Eval Loss: 2276.3414677\n"
     ]
    },
    {
     "name": "stderr",
     "output_type": "stream",
     "text": [
      "Training epoch 949: 100%|██████████| 2880/2880 [03:05<00:00, 15.57it/s]\n",
      "Evaluating epoch 949: 100%|██████████| 1440/1440 [01:04<00:00, 22.20it/s]\n"
     ]
    },
    {
     "name": "stdout",
     "output_type": "stream",
     "text": [
      "Epoch: 949, Train Loss: 125.0536927, Eval Loss: 2276.3409563\n"
     ]
    },
    {
     "name": "stderr",
     "output_type": "stream",
     "text": [
      "Training epoch 950: 100%|██████████| 2880/2880 [03:05<00:00, 15.54it/s]\n",
      "Evaluating epoch 950: 100%|██████████| 1440/1440 [01:04<00:00, 22.17it/s]\n"
     ]
    },
    {
     "name": "stdout",
     "output_type": "stream",
     "text": [
      "Epoch: 950, Train Loss: 125.0536905, Eval Loss: 2276.3403903\n"
     ]
    },
    {
     "name": "stderr",
     "output_type": "stream",
     "text": [
      "Training epoch 951: 100%|██████████| 2880/2880 [03:05<00:00, 15.56it/s]\n",
      "Evaluating epoch 951: 100%|██████████| 1440/1440 [01:04<00:00, 22.19it/s]\n"
     ]
    },
    {
     "name": "stdout",
     "output_type": "stream",
     "text": [
      "Epoch: 951, Train Loss: 125.0536880, Eval Loss: 2276.3398654\n"
     ]
    },
    {
     "name": "stderr",
     "output_type": "stream",
     "text": [
      "Training epoch 952: 100%|██████████| 2880/2880 [03:05<00:00, 15.54it/s]\n",
      "Evaluating epoch 952: 100%|██████████| 1440/1440 [01:04<00:00, 22.16it/s]\n"
     ]
    },
    {
     "name": "stdout",
     "output_type": "stream",
     "text": [
      "Epoch: 952, Train Loss: 125.0536856, Eval Loss: 2276.3392683\n"
     ]
    },
    {
     "name": "stderr",
     "output_type": "stream",
     "text": [
      "Training epoch 953: 100%|██████████| 2880/2880 [03:04<00:00, 15.58it/s]\n",
      "Evaluating epoch 953: 100%|██████████| 1440/1440 [01:04<00:00, 22.27it/s]\n"
     ]
    },
    {
     "name": "stdout",
     "output_type": "stream",
     "text": [
      "Epoch: 953, Train Loss: 125.0536832, Eval Loss: 2276.3387605\n"
     ]
    },
    {
     "name": "stderr",
     "output_type": "stream",
     "text": [
      "Training epoch 954: 100%|██████████| 2880/2880 [03:04<00:00, 15.58it/s]\n",
      "Evaluating epoch 954: 100%|██████████| 1440/1440 [01:04<00:00, 22.24it/s]\n"
     ]
    },
    {
     "name": "stdout",
     "output_type": "stream",
     "text": [
      "Epoch: 954, Train Loss: 125.0536801, Eval Loss: 2276.3382163\n"
     ]
    },
    {
     "name": "stderr",
     "output_type": "stream",
     "text": [
      "Training epoch 955: 100%|██████████| 2880/2880 [03:05<00:00, 15.56it/s]\n",
      "Evaluating epoch 955: 100%|██████████| 1440/1440 [01:05<00:00, 22.14it/s]\n"
     ]
    },
    {
     "name": "stdout",
     "output_type": "stream",
     "text": [
      "Epoch: 955, Train Loss: 125.0536774, Eval Loss: 2276.3376936\n"
     ]
    },
    {
     "name": "stderr",
     "output_type": "stream",
     "text": [
      "Training epoch 956: 100%|██████████| 2880/2880 [03:04<00:00, 15.57it/s]\n",
      "Evaluating epoch 956: 100%|██████████| 1440/1440 [01:04<00:00, 22.21it/s]\n"
     ]
    },
    {
     "name": "stdout",
     "output_type": "stream",
     "text": [
      "Epoch: 956, Train Loss: 125.0536749, Eval Loss: 2276.3371257\n"
     ]
    },
    {
     "name": "stderr",
     "output_type": "stream",
     "text": [
      "Training epoch 957: 100%|██████████| 2880/2880 [03:04<00:00, 15.58it/s]\n",
      "Evaluating epoch 957: 100%|██████████| 1440/1440 [01:04<00:00, 22.17it/s]\n"
     ]
    },
    {
     "name": "stdout",
     "output_type": "stream",
     "text": [
      "Epoch: 957, Train Loss: 125.0536714, Eval Loss: 2276.3365774\n"
     ]
    },
    {
     "name": "stderr",
     "output_type": "stream",
     "text": [
      "Training epoch 958: 100%|██████████| 2880/2880 [03:05<00:00, 15.56it/s]\n",
      "Evaluating epoch 958: 100%|██████████| 1440/1440 [01:04<00:00, 22.17it/s]\n"
     ]
    },
    {
     "name": "stdout",
     "output_type": "stream",
     "text": [
      "Epoch: 958, Train Loss: 125.0536683, Eval Loss: 2276.3359797\n"
     ]
    },
    {
     "name": "stderr",
     "output_type": "stream",
     "text": [
      "Training epoch 959: 100%|██████████| 2880/2880 [03:05<00:00, 15.54it/s]\n",
      "Evaluating epoch 959: 100%|██████████| 1440/1440 [01:04<00:00, 22.26it/s]\n"
     ]
    },
    {
     "name": "stdout",
     "output_type": "stream",
     "text": [
      "Epoch: 959, Train Loss: 125.0536653, Eval Loss: 2276.3354589\n"
     ]
    },
    {
     "name": "stderr",
     "output_type": "stream",
     "text": [
      "Training epoch 960: 100%|██████████| 2880/2880 [03:04<00:00, 15.57it/s]\n",
      "Evaluating epoch 960: 100%|██████████| 1440/1440 [01:04<00:00, 22.17it/s]\n"
     ]
    },
    {
     "name": "stdout",
     "output_type": "stream",
     "text": [
      "Epoch: 960, Train Loss: 125.0536623, Eval Loss: 2276.3348978\n"
     ]
    },
    {
     "name": "stderr",
     "output_type": "stream",
     "text": [
      "Training epoch 961: 100%|██████████| 2880/2880 [03:05<00:00, 15.57it/s]\n",
      "Evaluating epoch 961: 100%|██████████| 1440/1440 [01:04<00:00, 22.24it/s]\n"
     ]
    },
    {
     "name": "stdout",
     "output_type": "stream",
     "text": [
      "Epoch: 961, Train Loss: 125.0536589, Eval Loss: 2276.3343249\n"
     ]
    },
    {
     "name": "stderr",
     "output_type": "stream",
     "text": [
      "Training epoch 962: 100%|██████████| 2880/2880 [03:05<00:00, 15.56it/s]\n",
      "Evaluating epoch 962: 100%|██████████| 1440/1440 [01:04<00:00, 22.29it/s]\n"
     ]
    },
    {
     "name": "stdout",
     "output_type": "stream",
     "text": [
      "Epoch: 962, Train Loss: 125.0536560, Eval Loss: 2276.3338041\n"
     ]
    },
    {
     "name": "stderr",
     "output_type": "stream",
     "text": [
      "Training epoch 963: 100%|██████████| 2880/2880 [03:04<00:00, 15.57it/s]\n",
      "Evaluating epoch 963: 100%|██████████| 1440/1440 [01:04<00:00, 22.20it/s]\n"
     ]
    },
    {
     "name": "stdout",
     "output_type": "stream",
     "text": [
      "Epoch: 963, Train Loss: 125.0536530, Eval Loss: 2276.3332661\n"
     ]
    },
    {
     "name": "stderr",
     "output_type": "stream",
     "text": [
      "Training epoch 964: 100%|██████████| 2880/2880 [03:05<00:00, 15.56it/s]\n",
      "Evaluating epoch 964: 100%|██████████| 1440/1440 [01:04<00:00, 22.22it/s]\n"
     ]
    },
    {
     "name": "stdout",
     "output_type": "stream",
     "text": [
      "Epoch: 964, Train Loss: 125.0536499, Eval Loss: 2276.3327161\n"
     ]
    },
    {
     "name": "stderr",
     "output_type": "stream",
     "text": [
      "Training epoch 965: 100%|██████████| 2880/2880 [03:04<00:00, 15.57it/s]\n",
      "Evaluating epoch 965: 100%|██████████| 1440/1440 [01:04<00:00, 22.18it/s]\n"
     ]
    },
    {
     "name": "stdout",
     "output_type": "stream",
     "text": [
      "Epoch: 965, Train Loss: 125.0536478, Eval Loss: 2276.3321946\n"
     ]
    },
    {
     "name": "stderr",
     "output_type": "stream",
     "text": [
      "Training epoch 966: 100%|██████████| 2880/2880 [03:04<00:00, 15.57it/s]\n",
      "Evaluating epoch 966: 100%|██████████| 1440/1440 [01:04<00:00, 22.23it/s]\n"
     ]
    },
    {
     "name": "stdout",
     "output_type": "stream",
     "text": [
      "Epoch: 966, Train Loss: 125.0536453, Eval Loss: 2276.3316293\n"
     ]
    },
    {
     "name": "stderr",
     "output_type": "stream",
     "text": [
      "Training epoch 967: 100%|██████████| 2880/2880 [03:04<00:00, 15.58it/s]\n",
      "Evaluating epoch 967: 100%|██████████| 1440/1440 [01:04<00:00, 22.26it/s]\n"
     ]
    },
    {
     "name": "stdout",
     "output_type": "stream",
     "text": [
      "Epoch: 967, Train Loss: 125.0536433, Eval Loss: 2276.3310899\n"
     ]
    },
    {
     "name": "stderr",
     "output_type": "stream",
     "text": [
      "Training epoch 968: 100%|██████████| 2880/2880 [03:05<00:00, 15.55it/s]\n",
      "Evaluating epoch 968: 100%|██████████| 1440/1440 [01:04<00:00, 22.20it/s]\n"
     ]
    },
    {
     "name": "stdout",
     "output_type": "stream",
     "text": [
      "Epoch: 968, Train Loss: 125.0536411, Eval Loss: 2276.3305104\n"
     ]
    },
    {
     "name": "stderr",
     "output_type": "stream",
     "text": [
      "Training epoch 969: 100%|██████████| 2880/2880 [03:05<00:00, 15.56it/s]\n",
      "Evaluating epoch 969: 100%|██████████| 1440/1440 [01:04<00:00, 22.20it/s]\n"
     ]
    },
    {
     "name": "stdout",
     "output_type": "stream",
     "text": [
      "Epoch: 969, Train Loss: 125.0536388, Eval Loss: 2276.3299878\n"
     ]
    },
    {
     "name": "stderr",
     "output_type": "stream",
     "text": [
      "Training epoch 970: 100%|██████████| 2880/2880 [03:04<00:00, 15.61it/s]\n",
      "Evaluating epoch 970: 100%|██████████| 1440/1440 [01:04<00:00, 22.26it/s]\n"
     ]
    },
    {
     "name": "stdout",
     "output_type": "stream",
     "text": [
      "Epoch: 970, Train Loss: 125.0536368, Eval Loss: 2276.3294378\n"
     ]
    },
    {
     "name": "stderr",
     "output_type": "stream",
     "text": [
      "Training epoch 971: 100%|██████████| 2880/2880 [03:04<00:00, 15.57it/s]\n",
      "Evaluating epoch 971: 100%|██████████| 1440/1440 [01:04<00:00, 22.23it/s]\n"
     ]
    },
    {
     "name": "stdout",
     "output_type": "stream",
     "text": [
      "Epoch: 971, Train Loss: 125.0536358, Eval Loss: 2276.3289072\n"
     ]
    },
    {
     "name": "stderr",
     "output_type": "stream",
     "text": [
      "Training epoch 972: 100%|██████████| 2880/2880 [03:04<00:00, 15.59it/s]\n",
      "Evaluating epoch 972: 100%|██████████| 1440/1440 [01:04<00:00, 22.30it/s]\n"
     ]
    },
    {
     "name": "stdout",
     "output_type": "stream",
     "text": [
      "Epoch: 972, Train Loss: 125.0536339, Eval Loss: 2276.3283754\n"
     ]
    },
    {
     "name": "stderr",
     "output_type": "stream",
     "text": [
      "Training epoch 973: 100%|██████████| 2880/2880 [03:05<00:00, 15.56it/s]\n",
      "Evaluating epoch 973: 100%|██████████| 1440/1440 [01:04<00:00, 22.27it/s]\n"
     ]
    },
    {
     "name": "stdout",
     "output_type": "stream",
     "text": [
      "Epoch: 973, Train Loss: 125.0536327, Eval Loss: 2276.3277928\n"
     ]
    },
    {
     "name": "stderr",
     "output_type": "stream",
     "text": [
      "Training epoch 974: 100%|██████████| 2880/2880 [03:05<00:00, 15.55it/s]\n",
      "Evaluating epoch 974: 100%|██████████| 1440/1440 [01:04<00:00, 22.21it/s]\n"
     ]
    },
    {
     "name": "stdout",
     "output_type": "stream",
     "text": [
      "Epoch: 974, Train Loss: 125.0536314, Eval Loss: 2276.3272602\n"
     ]
    },
    {
     "name": "stderr",
     "output_type": "stream",
     "text": [
      "Training epoch 975: 100%|██████████| 2880/2880 [03:04<00:00, 15.59it/s]\n",
      "Evaluating epoch 975: 100%|██████████| 1440/1440 [01:04<00:00, 22.18it/s]\n"
     ]
    },
    {
     "name": "stdout",
     "output_type": "stream",
     "text": [
      "Epoch: 975, Train Loss: 125.0536297, Eval Loss: 2276.3267413\n"
     ]
    },
    {
     "name": "stderr",
     "output_type": "stream",
     "text": [
      "Training epoch 976: 100%|██████████| 2880/2880 [03:05<00:00, 15.56it/s]\n",
      "Evaluating epoch 976: 100%|██████████| 1440/1440 [01:04<00:00, 22.23it/s]\n"
     ]
    },
    {
     "name": "stdout",
     "output_type": "stream",
     "text": [
      "Epoch: 976, Train Loss: 125.0536286, Eval Loss: 2276.3261870\n"
     ]
    },
    {
     "name": "stderr",
     "output_type": "stream",
     "text": [
      "Training epoch 977: 100%|██████████| 2880/2880 [03:05<00:00, 15.55it/s]\n",
      "Evaluating epoch 977: 100%|██████████| 1440/1440 [01:04<00:00, 22.18it/s]\n"
     ]
    },
    {
     "name": "stdout",
     "output_type": "stream",
     "text": [
      "Epoch: 977, Train Loss: 125.0536271, Eval Loss: 2276.3256511\n"
     ]
    },
    {
     "name": "stderr",
     "output_type": "stream",
     "text": [
      "Training epoch 978: 100%|██████████| 2880/2880 [03:05<00:00, 15.55it/s]\n",
      "Evaluating epoch 978: 100%|██████████| 1440/1440 [01:04<00:00, 22.22it/s]\n"
     ]
    },
    {
     "name": "stdout",
     "output_type": "stream",
     "text": [
      "Epoch: 978, Train Loss: 125.0536255, Eval Loss: 2276.3250928\n"
     ]
    },
    {
     "name": "stderr",
     "output_type": "stream",
     "text": [
      "Training epoch 979: 100%|██████████| 2880/2880 [03:04<00:00, 15.58it/s]\n",
      "Evaluating epoch 979: 100%|██████████| 1440/1440 [01:04<00:00, 22.23it/s]\n"
     ]
    },
    {
     "name": "stdout",
     "output_type": "stream",
     "text": [
      "Epoch: 979, Train Loss: 125.0536245, Eval Loss: 2276.3245927\n"
     ]
    },
    {
     "name": "stderr",
     "output_type": "stream",
     "text": [
      "Training epoch 980: 100%|██████████| 2880/2880 [03:05<00:00, 15.56it/s]\n",
      "Evaluating epoch 980: 100%|██████████| 1440/1440 [01:04<00:00, 22.24it/s]\n"
     ]
    },
    {
     "name": "stdout",
     "output_type": "stream",
     "text": [
      "Epoch: 980, Train Loss: 125.0536226, Eval Loss: 2276.3240546\n"
     ]
    },
    {
     "name": "stderr",
     "output_type": "stream",
     "text": [
      "Training epoch 981: 100%|██████████| 2880/2880 [03:04<00:00, 15.58it/s]\n",
      "Evaluating epoch 981: 100%|██████████| 1440/1440 [01:04<00:00, 22.23it/s]\n"
     ]
    },
    {
     "name": "stdout",
     "output_type": "stream",
     "text": [
      "Epoch: 981, Train Loss: 125.0536220, Eval Loss: 2276.3235661\n"
     ]
    },
    {
     "name": "stderr",
     "output_type": "stream",
     "text": [
      "Training epoch 982: 100%|██████████| 2880/2880 [03:04<00:00, 15.59it/s]\n",
      "Evaluating epoch 982: 100%|██████████| 1440/1440 [01:04<00:00, 22.27it/s]\n"
     ]
    },
    {
     "name": "stdout",
     "output_type": "stream",
     "text": [
      "Epoch: 982, Train Loss: 125.0536200, Eval Loss: 2276.3230012\n"
     ]
    },
    {
     "name": "stderr",
     "output_type": "stream",
     "text": [
      "Training epoch 983: 100%|██████████| 2880/2880 [03:04<00:00, 15.63it/s]\n",
      "Evaluating epoch 983: 100%|██████████| 1440/1440 [01:04<00:00, 22.26it/s]\n"
     ]
    },
    {
     "name": "stdout",
     "output_type": "stream",
     "text": [
      "Epoch: 983, Train Loss: 125.0536191, Eval Loss: 2276.3224589\n"
     ]
    },
    {
     "name": "stderr",
     "output_type": "stream",
     "text": [
      "Training epoch 984: 100%|██████████| 2880/2880 [03:04<00:00, 15.58it/s]\n",
      "Evaluating epoch 984: 100%|██████████| 1440/1440 [01:04<00:00, 22.25it/s]\n"
     ]
    },
    {
     "name": "stdout",
     "output_type": "stream",
     "text": [
      "Epoch: 984, Train Loss: 125.0536178, Eval Loss: 2276.3219384\n"
     ]
    },
    {
     "name": "stderr",
     "output_type": "stream",
     "text": [
      "Training epoch 985: 100%|██████████| 2880/2880 [03:05<00:00, 15.56it/s]\n",
      "Evaluating epoch 985: 100%|██████████| 1440/1440 [01:04<00:00, 22.21it/s]\n"
     ]
    },
    {
     "name": "stdout",
     "output_type": "stream",
     "text": [
      "Epoch: 985, Train Loss: 125.0536162, Eval Loss: 2276.3214066\n"
     ]
    },
    {
     "name": "stderr",
     "output_type": "stream",
     "text": [
      "Training epoch 986: 100%|██████████| 2880/2880 [03:04<00:00, 15.57it/s]\n",
      "Evaluating epoch 986: 100%|██████████| 1440/1440 [01:04<00:00, 22.25it/s]\n"
     ]
    },
    {
     "name": "stdout",
     "output_type": "stream",
     "text": [
      "Epoch: 986, Train Loss: 125.0536146, Eval Loss: 2276.3208558\n"
     ]
    },
    {
     "name": "stderr",
     "output_type": "stream",
     "text": [
      "Training epoch 987: 100%|██████████| 2880/2880 [03:04<00:00, 15.60it/s]\n",
      "Evaluating epoch 987: 100%|██████████| 1440/1440 [01:05<00:00, 22.14it/s]\n"
     ]
    },
    {
     "name": "stdout",
     "output_type": "stream",
     "text": [
      "Epoch: 987, Train Loss: 125.0536135, Eval Loss: 2276.3203289\n"
     ]
    },
    {
     "name": "stderr",
     "output_type": "stream",
     "text": [
      "Training epoch 988: 100%|██████████| 2880/2880 [03:04<00:00, 15.57it/s]\n",
      "Evaluating epoch 988: 100%|██████████| 1440/1440 [01:05<00:00, 22.09it/s]\n"
     ]
    },
    {
     "name": "stdout",
     "output_type": "stream",
     "text": [
      "Epoch: 988, Train Loss: 125.0536125, Eval Loss: 2276.3198000\n"
     ]
    },
    {
     "name": "stderr",
     "output_type": "stream",
     "text": [
      "Training epoch 989: 100%|██████████| 2880/2880 [03:04<00:00, 15.59it/s]\n",
      "Evaluating epoch 989: 100%|██████████| 1440/1440 [01:04<00:00, 22.26it/s]\n"
     ]
    },
    {
     "name": "stdout",
     "output_type": "stream",
     "text": [
      "Epoch: 989, Train Loss: 125.0536108, Eval Loss: 2276.3192866\n"
     ]
    },
    {
     "name": "stderr",
     "output_type": "stream",
     "text": [
      "Training epoch 990: 100%|██████████| 2880/2880 [03:04<00:00, 15.60it/s]\n",
      "Evaluating epoch 990: 100%|██████████| 1440/1440 [01:04<00:00, 22.26it/s]\n"
     ]
    },
    {
     "name": "stdout",
     "output_type": "stream",
     "text": [
      "Epoch: 990, Train Loss: 125.0536093, Eval Loss: 2276.3187447\n"
     ]
    },
    {
     "name": "stderr",
     "output_type": "stream",
     "text": [
      "Training epoch 991: 100%|██████████| 2880/2880 [03:05<00:00, 15.55it/s]\n",
      "Evaluating epoch 991: 100%|██████████| 1440/1440 [01:04<00:00, 22.25it/s]\n"
     ]
    },
    {
     "name": "stdout",
     "output_type": "stream",
     "text": [
      "Epoch: 991, Train Loss: 125.0536080, Eval Loss: 2276.3182175\n"
     ]
    },
    {
     "name": "stderr",
     "output_type": "stream",
     "text": [
      "Training epoch 992: 100%|██████████| 2880/2880 [03:04<00:00, 15.59it/s]\n",
      "Evaluating epoch 992: 100%|██████████| 1440/1440 [01:05<00:00, 22.15it/s]\n"
     ]
    },
    {
     "name": "stdout",
     "output_type": "stream",
     "text": [
      "Epoch: 992, Train Loss: 125.0536069, Eval Loss: 2276.3177072\n"
     ]
    },
    {
     "name": "stderr",
     "output_type": "stream",
     "text": [
      "Training epoch 993: 100%|██████████| 2880/2880 [03:04<00:00, 15.57it/s]\n",
      "Evaluating epoch 993: 100%|██████████| 1440/1440 [01:04<00:00, 22.27it/s]\n"
     ]
    },
    {
     "name": "stdout",
     "output_type": "stream",
     "text": [
      "Epoch: 993, Train Loss: 125.0536055, Eval Loss: 2276.3171910\n"
     ]
    },
    {
     "name": "stderr",
     "output_type": "stream",
     "text": [
      "Training epoch 994: 100%|██████████| 2880/2880 [03:04<00:00, 15.59it/s]\n",
      "Evaluating epoch 994: 100%|██████████| 1440/1440 [01:04<00:00, 22.24it/s]\n"
     ]
    },
    {
     "name": "stdout",
     "output_type": "stream",
     "text": [
      "Epoch: 994, Train Loss: 125.0536039, Eval Loss: 2276.3166121\n"
     ]
    },
    {
     "name": "stderr",
     "output_type": "stream",
     "text": [
      "Training epoch 995: 100%|██████████| 2880/2880 [03:04<00:00, 15.58it/s]\n",
      "Evaluating epoch 995: 100%|██████████| 1440/1440 [01:04<00:00, 22.22it/s]\n"
     ]
    },
    {
     "name": "stdout",
     "output_type": "stream",
     "text": [
      "Epoch: 995, Train Loss: 125.0536024, Eval Loss: 2276.3161209\n"
     ]
    },
    {
     "name": "stderr",
     "output_type": "stream",
     "text": [
      "Training epoch 996: 100%|██████████| 2880/2880 [03:04<00:00, 15.58it/s]\n",
      "Evaluating epoch 996: 100%|██████████| 1440/1440 [01:04<00:00, 22.24it/s]\n"
     ]
    },
    {
     "name": "stdout",
     "output_type": "stream",
     "text": [
      "Epoch: 996, Train Loss: 125.0536014, Eval Loss: 2276.3155609\n"
     ]
    },
    {
     "name": "stderr",
     "output_type": "stream",
     "text": [
      "Training epoch 997: 100%|██████████| 2880/2880 [03:05<00:00, 15.55it/s]\n",
      "Evaluating epoch 997: 100%|██████████| 1440/1440 [01:04<00:00, 22.19it/s]\n"
     ]
    },
    {
     "name": "stdout",
     "output_type": "stream",
     "text": [
      "Epoch: 997, Train Loss: 125.0536003, Eval Loss: 2276.3150344\n"
     ]
    },
    {
     "name": "stderr",
     "output_type": "stream",
     "text": [
      "Training epoch 998: 100%|██████████| 2880/2880 [03:04<00:00, 15.59it/s]\n",
      "Evaluating epoch 998: 100%|██████████| 1440/1440 [01:04<00:00, 22.25it/s]\n"
     ]
    },
    {
     "name": "stdout",
     "output_type": "stream",
     "text": [
      "Epoch: 998, Train Loss: 125.0535990, Eval Loss: 2276.3145314\n"
     ]
    },
    {
     "name": "stderr",
     "output_type": "stream",
     "text": [
      "Training epoch 999: 100%|██████████| 2880/2880 [03:04<00:00, 15.59it/s]\n",
      "Evaluating epoch 999: 100%|██████████| 1440/1440 [01:04<00:00, 22.19it/s]"
     ]
    },
    {
     "name": "stdout",
     "output_type": "stream",
     "text": [
      "Epoch: 999, Train Loss: 125.0535977, Eval Loss: 2276.3139885\n"
     ]
    },
    {
     "name": "stderr",
     "output_type": "stream",
     "text": [
      "\n"
     ]
    }
   ],
   "source": [
    "device = torch.device(device_str)\n",
    "model = GNN_GCNLSTM(node_features=loader.num_features, periods=num_timesteps_out, hidden=hidden).to(device)\n",
    "\n",
    "\n",
    "\n",
    "#get dateime string of now\n",
    "now = pd.Timestamp.now().strftime(\"%Y%m%d%H%M%S\")\n",
    "\n",
    "name = f\"../models/final/{model.name}_{now}_{trafo_id}_epochs-{epochs}_in-{num_timesteps_in}_out-{num_timesteps_out}_train-ratio-1month_lr-{learning_rate}_hidden-{hidden}.pt\"\n",
    "name_txt = f\"../models/final/{model.name}_{now}_{trafo_id}_epochs-{epochs}_in-{num_timesteps_in}_out-{num_timesteps_out}_train-ratio-1month_lr-{learning_rate}_hidden-{hidden}.txt\"\n",
    "\n",
    "\n",
    "optimizer = torch.optim.Adam(model.parameters(), lr=learning_rate)\n",
    "loss_fn = torch.nn.MSELoss\n",
    "scheduler = ReduceLROnPlateau(optimizer, mode='min', factor=0.1, patience=5, verbose=True)\n",
    "losses_train, losses_eval = train_eval(model, loader, device, train_dataset, eval_dataset, optimizer, loss_fn, scheduler=scheduler, epochs=epochs, name=name)\n"
   ]
  },
  {
   "cell_type": "code",
   "execution_count": 8,
   "metadata": {},
   "outputs": [
    {
     "data": {
      "text/plain": [
       "torch.Size([2, 114])"
      ]
     },
     "execution_count": 8,
     "metadata": {},
     "output_type": "execute_result"
    }
   ],
   "source": [
    "loader.get_snapshot(0).edge_index.shape"
   ]
  },
  {
   "cell_type": "code",
   "execution_count": 9,
   "metadata": {},
   "outputs": [],
   "source": [
    "std = loader.mean_and_std[\"measurements\"][1][\"voltage\"]\n",
    "mean = loader.mean_and_std[\"measurements\"][0][\"voltage\"]"
   ]
  },
  {
   "cell_type": "code",
   "execution_count": 10,
   "metadata": {},
   "outputs": [],
   "source": [
    "def eval(model, loader, test_dataset, device, loss_fn, std, mean):\n",
    "    preds = []\n",
    "    ys = []\n",
    "    with torch.no_grad():\n",
    "        model.eval()\n",
    "        loss_all = 0\n",
    "        loss_elementwise = 0\n",
    "        \n",
    "        for snapshot_j in tqdm(test_dataset, desc=\"Evaluating\"):\n",
    "            snapshot = loader.get_snapshot(snapshot_j)\n",
    "            snapshot = snapshot.to(device)\n",
    "            \n",
    "            out= model(snapshot.x, snapshot.edge_index)\n",
    "\n",
    "            loss_all += loss_fn()(out, snapshot.y).cpu().numpy()\n",
    "            loss_elementwise += loss_fn(reduction=\"none\")(out, snapshot.y).cpu().numpy()\n",
    "\n",
    "            ys.append(snapshot.y.cpu().numpy()*std+mean)\n",
    "            preds.append(out.cpu().numpy()*std+mean)\n",
    "            \n",
    "        loss_all *= std/len(test_dataset)\n",
    "        loss_elementwise *= std/len(test_dataset)\n",
    "\n",
    "        ys = np.stack(ys, axis=-1)\n",
    "        preds = np.stack(preds, axis=-1)\n",
    "    return loss_all, loss_elementwise, preds, ys"
   ]
  },
  {
   "cell_type": "code",
   "execution_count": 11,
   "metadata": {},
   "outputs": [
    {
     "data": {
      "text/plain": [
       "<All keys matched successfully>"
      ]
     },
     "execution_count": 11,
     "metadata": {},
     "output_type": "execute_result"
    }
   ],
   "source": [
    "model.load_state_dict(torch.load(name))"
   ]
  },
  {
   "cell_type": "code",
   "execution_count": 12,
   "metadata": {},
   "outputs": [],
   "source": [
    "loss_fn = torch.nn.L1Loss"
   ]
  },
  {
   "cell_type": "code",
   "execution_count": 13,
   "metadata": {},
   "outputs": [
    {
     "name": "stderr",
     "output_type": "stream",
     "text": [
      "Evaluating:  28%|██▊       | 402/1440 [00:17<00:45, 22.60it/s]"
     ]
    },
    {
     "name": "stderr",
     "output_type": "stream",
     "text": [
      "Evaluating: 100%|██████████| 1440/1440 [01:04<00:00, 22.21it/s]"
     ]
    },
    {
     "name": "stdout",
     "output_type": "stream",
     "text": [
      "Loss all: 1.5086667\n",
      "Loss elementwise: [[ 1.4240471   1.4473935   1.4379802   1.4555695 ]\n",
      " [ 0.87715673  0.9899458   1.0494647   1.099892  ]\n",
      " [ 0.87715673  0.9899458   1.0494647   1.099892  ]\n",
      " [ 0.87715673  0.9899458   1.0494647   1.099892  ]\n",
      " [ 0.87715673  0.9899458   1.0494647   1.099892  ]\n",
      " [ 0.87715673  0.9899458   1.0494647   1.099892  ]\n",
      " [ 0.87715673  0.9899458   1.0494647   1.099892  ]\n",
      " [ 1.0171468   1.0925297   1.1202321   1.1427648 ]\n",
      " [ 0.7217659   0.8488232   0.9229978   0.9603206 ]\n",
      " [ 0.7019963   0.82149094  0.89636785  0.94037145]\n",
      " [ 1.0068706   1.0852222   1.117782    1.1413114 ]\n",
      " [ 0.65064186  0.7640443   0.83443636  0.8816735 ]\n",
      " [ 1.1376052   1.1234655   1.1306638   1.1401918 ]\n",
      " [ 0.63951343  0.75174975  0.82460785  0.87463814]\n",
      " [ 0.7006006   0.8133382   0.87317     0.89408976]\n",
      " [ 0.64572257  0.7588204   0.8307831   0.87890875]\n",
      " [ 0.7375647   0.83235097  0.875356    0.8935332 ]\n",
      " [ 0.97533965  1.1353353   1.2437335   1.3125752 ]\n",
      " [ 0.70117027  0.8053936   0.86176276  0.89286065]\n",
      " [ 0.7999446   0.9220899   0.9823965   1.0375215 ]\n",
      " [ 0.66821957  0.7911453   0.8581529   0.8851933 ]\n",
      " [ 0.7143141   0.8118569   0.86606663  0.89298636]\n",
      " [ 0.7055169   0.80308765  0.8447063   0.8642158 ]\n",
      " [ 0.6764809   0.7993941   0.8591995   0.8921398 ]\n",
      " [ 0.6861492   0.8034381   0.87134165  0.92534125]\n",
      " [ 1.000873    1.0318102   1.0425651   1.0610883 ]\n",
      " [ 0.72473985  0.85606205  0.9312034   0.9817214 ]\n",
      " [ 1.1746329   1.274021    1.3111218   1.3523604 ]\n",
      " [ 0.7057091   0.7975755   0.8484031   0.87718326]\n",
      " [ 0.5935136   0.69376725  0.7509989   0.7789315 ]\n",
      " [ 0.675715    0.7510483   0.79620636  0.8184589 ]\n",
      " [ 0.7168782   0.82302886  0.88605005  0.91301745]\n",
      " [ 0.68556786  0.8123293   0.8734597   0.91299194]\n",
      " [ 1.2077479   1.3399646   1.4264832   1.507002  ]\n",
      " [ 1.485106    1.4906498   1.4836822   1.494977  ]\n",
      " [ 1.2191045   1.3190515   1.3622378   1.393838  ]\n",
      " [ 0.87745786  0.98275125  1.0290868   1.0669577 ]\n",
      " [ 0.68664473  0.771678    0.8195405   0.846185  ]\n",
      " [ 0.6947812   0.79635704  0.8550675   0.8765897 ]\n",
      " [ 1.0650887   1.2455778   1.3195188   1.374573  ]\n",
      " [ 1.1714779   1.2305857   1.2530067   1.2772328 ]\n",
      " [ 0.95399207  1.0216472   1.049198    1.0729048 ]\n",
      " [ 0.72831684  0.7738195   0.79662514  0.81602025]\n",
      " [ 1.3560948   1.3184378   1.3081684   1.3089317 ]\n",
      " [ 0.68476546  0.7996455   0.8639752   0.9040641 ]\n",
      " [ 1.2606337   1.2720203   1.2783008   1.2789567 ]\n",
      " [ 0.8307603   0.87736017  0.8902038   0.90551096]\n",
      " [53.66908    53.713474   54.59133    54.322502  ]\n",
      " [ 0.73996013  0.8585276   0.9284015   0.9707251 ]\n",
      " [ 0.72523874  0.8479498   0.91934085  0.9658155 ]\n",
      " [ 0.8040742   0.96412504  1.0554883   1.1212693 ]\n",
      " [ 0.9987514   1.1301445   1.2108278   1.2696761 ]\n",
      " [ 0.75454736  0.8907335   0.9648465   1.0121536 ]\n",
      " [ 0.83847743  0.9813086   1.0658038   1.1270281 ]\n",
      " [ 0.87288743  1.0190066   1.0986829   1.1600387 ]\n",
      " [ 2.0256612   2.0961707   2.144815    2.178667  ]\n",
      " [ 0.9984927   1.0530505   1.0875971   1.117224  ]\n",
      " [ 0.99667174  1.0598669   1.0972271   1.1282424 ]\n",
      " [ 0.6888594   0.784348    0.83731544  0.8678388 ]\n",
      " [ 0.7301923   0.85758996  0.934174    0.99605775]\n",
      " [ 0.7195398   0.8493547   0.92864466  0.9872599 ]\n",
      " [ 0.87183636  1.01663     1.0985962   1.1619092 ]\n",
      " [ 0.73260945  0.83368194  0.8757872   0.9099372 ]\n",
      " [ 0.7391964   0.8565      0.93277985  0.98810494]\n",
      " [ 0.6617442   0.75621766  0.81557053  0.8483292 ]\n",
      " [ 1.2055618   1.3316568   1.3887767   1.4248314 ]\n",
      " [ 0.7169822   0.8642465   0.9576128   1.0088087 ]\n",
      " [ 0.77289903  0.90800905  0.9888782   1.0363094 ]\n",
      " [ 1.2472923   1.3117688   1.3655946   1.4159001 ]\n",
      " [ 1.0598629   1.1391745   1.1757017   1.1984885 ]\n",
      " [ 0.7094535   0.845849    0.92786705  0.98404765]\n",
      " [ 0.926741    1.024083    1.0699133   1.1033832 ]\n",
      " [ 0.78494275  0.90618867  0.9504934   0.98124564]\n",
      " [ 1.3743415   1.5407945   1.6167787   1.6947072 ]\n",
      " [ 0.765465    0.90018934  0.9785807   1.0318218 ]\n",
      " [ 0.75953984  0.8903298   0.96838963  1.023173  ]\n",
      " [ 1.3888319   1.4435074   1.458661    1.4778212 ]\n",
      " [ 0.9471497   1.0440097   1.0856647   1.1114924 ]\n",
      " [ 0.9339404   1.0902715   1.1940452   1.252328  ]\n",
      " [ 1.0186257   1.1429434   1.200175    1.2395085 ]\n",
      " [ 0.7285259   0.8789792   0.9800664   1.0414286 ]\n",
      " [ 0.8166421   0.9694453   1.0628344   1.1220934 ]\n",
      " [ 1.1148093   1.1894015   1.2180973   1.2455033 ]\n",
      " [ 0.82359785  0.97851324  1.0728493   1.1328701 ]\n",
      " [ 1.0650176   1.1664394   1.209704    1.2501218 ]\n",
      " [ 1.6260406   1.7263622   1.7559998   1.7778008 ]\n",
      " [ 1.3517312   1.3550758   1.3600966   1.3669367 ]\n",
      " [ 1.0683653   1.2049791   1.2674769   1.3078356 ]\n",
      " [ 0.69779456  0.83659923  0.9242618   0.9785868 ]\n",
      " [ 1.2760093   1.3030368   1.3200314   1.3273642 ]\n",
      " [ 1.2500225   1.4104456   1.4780592   1.5248561 ]\n",
      " [ 1.062675    1.144396    1.1800524   1.2167212 ]\n",
      " [ 1.766671    1.7255174   1.7125041   1.7100435 ]\n",
      " [ 0.8221048   0.97504604  1.0721016   1.134587  ]\n",
      " [ 0.95530343  1.1467841   1.2437438   1.3154755 ]\n",
      " [ 0.83344096  0.9855167   1.0745925   1.1286627 ]\n",
      " [ 0.7149068   0.8545722   0.9408288   0.99358195]\n",
      " [ 1.4417495   1.5288358   1.5723354   1.6051906 ]\n",
      " [ 1.0652021   1.1424267   1.1812259   1.2050335 ]\n",
      " [ 0.83086467  0.98300433  1.0748677   1.1315663 ]\n",
      " [ 0.8798885   1.0249022   1.1060812   1.1637214 ]\n",
      " [ 0.96788275  1.139379    1.2387617   1.3111395 ]\n",
      " [ 0.9071074   1.0798337   1.1602359   1.2292061 ]\n",
      " [ 0.8395279   0.99158007  1.0847516   1.1402383 ]\n",
      " [ 0.8171618   0.96949124  1.0615659   1.120214  ]\n",
      " [ 0.7201536   0.8214088   0.8849149   0.9154475 ]\n",
      " [ 0.86570436  1.0254458   1.1217701   1.1841025 ]\n",
      " [ 0.7145908   0.8112029   0.87843746  0.9104548 ]\n",
      " [ 0.87715673  0.9899458   1.0494647   1.099892  ]\n",
      " [ 0.87715673  0.9899458   1.0494647   1.099892  ]\n",
      " [ 0.87715673  0.9899458   1.0494647   1.099892  ]\n",
      " [ 0.87715673  0.9899458   1.0494647   1.099892  ]\n",
      " [ 0.87715673  0.9899458   1.0494647   1.099892  ]]\n"
     ]
    },
    {
     "name": "stderr",
     "output_type": "stream",
     "text": [
      "\n"
     ]
    }
   ],
   "source": [
    "loss_test, loss_test_elementwise, preds, ys = eval(model, loader, test_dataset, device, loss_fn, std, mean)\n",
    "loss_test_timewise = loss_test_elementwise.mean(axis=0)\n",
    "print(\"Loss all: {:.7f}\".format(loss_test))\n",
    "print(\"Loss elementwise: {}\".format(loss_test_elementwise))"
   ]
  },
  {
   "cell_type": "code",
   "execution_count": 14,
   "metadata": {},
   "outputs": [],
   "source": [
    "import matplotlib.pyplot as plt"
   ]
  },
  {
   "cell_type": "code",
   "execution_count": 15,
   "metadata": {},
   "outputs": [
    {
     "data": {
      "text/plain": [
       "<matplotlib.legend.Legend at 0x7f3a0c504970>"
      ]
     },
     "execution_count": 15,
     "metadata": {},
     "output_type": "execute_result"
    },
    {
     "data": {
      "image/png": "[encoded data removed]",
      "text/plain": [
       "<Figure size 2000x1000 with 1 Axes>"
      ]
     },
     "metadata": {},
     "output_type": "display_data"
    }
   ],
   "source": [
    "node = 50\n",
    "pred_ind = 0\n",
    "\n",
    "start = 0\n",
    "len_measurements = 1400\n",
    "\n",
    "plt.figure(figsize=(20,10))\n",
    "plt.plot(ys[node,pred_ind,start:start+len_measurements], label=\"y\")\n",
    "plt.plot(preds[node,pred_ind,start:start+len_measurements], label=\"pred\")\n",
    "plt.legend()"
   ]
  },
  {
   "cell_type": "code",
   "execution_count": 20,
   "metadata": {},
   "outputs": [
    {
     "data": {
      "text/plain": [
       "<matplotlib.legend.Legend at 0x7f3a26425600>"
      ]
     },
     "execution_count": 20,
     "metadata": {},
     "output_type": "execute_result"
    },
    {
     "data": {
      "image/png": "[encoded data removed]",
      "text/plain": [
       "<Figure size 640x480 with 1 Axes>"
      ]
     },
     "metadata": {},
     "output_type": "display_data"
    }
   ],
   "source": [
    "#plt.plot(losses_train, label=\"train\")\n",
    "#\n",
    "plt.plot(losses_eval, label=\"eval\")\n",
    "plt.legend()"
   ]
  },
  {
   "cell_type": "code",
   "execution_count": 17,
   "metadata": {},
   "outputs": [],
   "source": [
    "#create txt file at name_txt\n",
    "with open(name_txt, \"w\") as f:\n",
    "    #print losses\n",
    "    f.write(\"train losses:\\n\")\n",
    "    f.write(str(losses_train))\n",
    "    f.write(\"\\n\")\n",
    "    f.write(\"eval losses:\\n\")\n",
    "    f.write(str(losses_eval))\n",
    "    f.write(\"\\n\")\n",
    "    f.write(\"test loss:\\n\")\n",
    "    f.write(str(loss_test))\n",
    "    f.write(\"\\n\")\n",
    "    f.write(str(loss_test_timewise))\n",
    "    f.write(\"\\n\")\n",
    "    f.write(str(loss_test_elementwise))\n",
    "    f.write(\"\\n\")"
   ]
  },
  {
   "cell_type": "code",
   "execution_count": 18,
   "metadata": {},
   "outputs": [
    {
     "data": {
      "text/plain": [
       "torch.Size([113, 26, 12])"
      ]
     },
     "execution_count": 18,
     "metadata": {},
     "output_type": "execute_result"
    }
   ],
   "source": [
    "loader.get_snapshot(0).x.shape"
   ]
  }
 ],
 "metadata": {
  "kernelspec": {
   "display_name": "graphvolt_env",
   "language": "python",
   "name": "python3"
  },
  "language_info": {
   "codemirror_mode": {
    "name": "ipython",
    "version": 3
   },
   "file_extension": ".py",
   "mimetype": "text/x-python",
   "name": "python",
   "nbconvert_exporter": "python",
   "pygments_lexer": "ipython3",
   "version": "3.10.13"
  }
 },
 "nbformat": 4,
 "nbformat_minor": 2
}
