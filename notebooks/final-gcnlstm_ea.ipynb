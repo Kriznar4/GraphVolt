{
 "cells": [
  {
   "cell_type": "code",
   "execution_count": 1,
   "metadata": {},
   "outputs": [],
   "source": [
    "import pandas as pd\n",
    "import numpy as np\n",
    "import sys\n",
    "sys.path.append(\"../src/utils\")\n",
    "from utils import SimpleGraphVoltDatasetLoader_Lazy\n",
    "from models import GNN_GCNLSTM_ea\n",
    "import torch\n",
    "import torch.nn.functional as F\n",
    "from tqdm import tqdm\n",
    "from torch.optim.lr_scheduler import ReduceLROnPlateau\n",
    "from torch_geometric import seed_everything"
   ]
  },
  {
   "cell_type": "code",
   "execution_count": 2,
   "metadata": {},
   "outputs": [],
   "source": [
    "trafo_id = \"T1330\"\n",
    "epochs = 1\n",
    "num_timesteps_in = 12\n",
    "num_timesteps_out = 4\n",
    "test_ratio_vs_eval_ratio = 0.5\n",
    "learning_rate = 0.1\n",
    "device_str = 'cpu'\n",
    "hidden = 64\n",
    "manual_seed = 42"
   ]
  },
  {
   "cell_type": "code",
   "execution_count": 3,
   "metadata": {},
   "outputs": [],
   "source": [
    "if device_str == 'cuda':\n",
    "    torch.cuda.empty_cache()"
   ]
  },
  {
   "cell_type": "code",
   "execution_count": 4,
   "metadata": {},
   "outputs": [],
   "source": [
    "seed_everything(manual_seed)"
   ]
  },
  {
   "cell_type": "code",
   "execution_count": 5,
   "metadata": {},
   "outputs": [
    {
     "name": "stdout",
     "output_type": "stream",
     "text": [
      "Loading data...\n",
      "Voltage index: 5\n",
      " done\n"
     ]
    }
   ],
   "source": [
    "print(\"Loading data...\")\n",
    "loader = SimpleGraphVoltDatasetLoader_Lazy(trafo_id, num_timesteps_in, num_timesteps_out)\n",
    "print(\" done\")\n",
    "loader_data_index = loader.snapshot_index\n",
    "\n",
    "train_dataset, test_eval_dataset = loader.temporal_signal_split_lazy_cut(loader_data_index)\n",
    "eval_dataset, test_dataset = loader.temporal_signal_split_lazy(test_eval_dataset, train_ratio=test_ratio_vs_eval_ratio)\n"
   ]
  },
  {
   "cell_type": "code",
   "execution_count": 8,
   "metadata": {},
   "outputs": [],
   "source": [
    "def train_eval(model, loader, device, train_dataset, eval_dataset, optimizer, loss_fn, scheduler=None, epochs=10, name=\"\"):\n",
    "    \"\"\"\n",
    "    Definition of the training loop.\n",
    "    \"\"\"\n",
    "    epoch_losses_train = []\n",
    "    epoch_losses_eval = []\n",
    "    \n",
    "    for epoch in range(epochs):\n",
    "        model.train()\n",
    "        epoch_loss_train = 0\n",
    "        \n",
    "        for snapshot_i in tqdm(train_dataset, desc=\"Training epoch {}\".format(epoch)):\n",
    "            snapshot = loader.get_snapshot(snapshot_i)\n",
    "            snapshot.to(device)\n",
    "            optimizer.zero_grad()\n",
    "\n",
    "            out = model(snapshot.x, snapshot.edge_index, snapshot.edge_attr)\n",
    "            loss = loss_fn()(out, snapshot.y)\n",
    "            loss.backward()\n",
    "            optimizer.step()\n",
    "            epoch_loss_train += loss.detach().cpu().numpy()\n",
    "\n",
    "        if scheduler is not None:\n",
    "            scheduler.step(epoch_loss_train)\n",
    "\n",
    "        epoch_losses_train.append(epoch_loss_train)\n",
    "\n",
    "        model.eval()\n",
    "        epoch_loss_eval = 0\n",
    "        \n",
    "        with torch.no_grad():\n",
    "\n",
    "            for snapshot_j in tqdm(eval_dataset, desc=\"Evaluating epoch {}\".format(epoch)):\n",
    "\n",
    "                snapshot = loader.get_snapshot(snapshot_j)\n",
    "                snapshot.to(device)\n",
    "\n",
    "                out = model(snapshot.x, snapshot.edge_index, snapshot.edge_attr)\n",
    "\n",
    "                loss = loss_fn()(out, snapshot.y).cpu().numpy()\n",
    "                epoch_loss_eval += loss\n",
    "\n",
    "            epoch_losses_eval.append(epoch_loss_eval)\n",
    "            if min(epoch_losses_eval) == epoch_loss_eval:\n",
    "                torch.save(model.state_dict(), name)\n",
    "            print(\"Epoch: {}, Train Loss: {:.7f}, Eval Loss: {:.7f}\".format(epoch, epoch_loss_train, epoch_loss_eval))\n",
    "        \n",
    "        \n",
    "    return epoch_losses_train, epoch_losses_eval"
   ]
  },
  {
   "cell_type": "code",
   "execution_count": 9,
   "metadata": {},
   "outputs": [
    {
     "name": "stderr",
     "output_type": "stream",
     "text": [
      "Training epoch 0:   0%|          | 0/2880 [00:00<?, ?it/s]"
     ]
    },
    {
     "name": "stderr",
     "output_type": "stream",
     "text": [
      "Training epoch 0:   0%|          | 5/2880 [00:02<23:21,  2.05it/s]\n",
      "Evaluating epoch 0:   0%|          | 5/1440 [00:01<05:35,  4.27it/s]"
     ]
    },
    {
     "name": "stdout",
     "output_type": "stream",
     "text": [
      "Epoch: 0, Train Loss: 4.0207234, Eval Loss: 0.6189246\n"
     ]
    },
    {
     "name": "stderr",
     "output_type": "stream",
     "text": [
      "\n"
     ]
    }
   ],
   "source": [
    "device = torch.device(device_str)\n",
    "model = GNN_GCNLSTM_ea(node_features=loader.num_features, edge_features=loader.num_edge_features, periods=num_timesteps_out, hidden=hidden).to(device)\n",
    "\n",
    "\n",
    "\n",
    "#get dateime string of now\n",
    "now = pd.Timestamp.now().strftime(\"%Y%m%d%H%M%S\")\n",
    "\n",
    "name = f\"../models/final/{model.name}_{now}_{trafo_id}_epochs-{epochs}_in-{num_timesteps_in}_out-{num_timesteps_out}_train-ratio-1month_lr-{learning_rate}_hidden-{hidden}.pt\"\n",
    "name_txt = f\"../models/final/{model.name}_{now}_{trafo_id}_epochs-{epochs}_in-{num_timesteps_in}_out-{num_timesteps_out}_train-ratio-1month_lr-{learning_rate}_hidden-{hidden}.txt\"\n",
    "\n",
    "\n",
    "optimizer = torch.optim.Adam(model.parameters(), lr=learning_rate)\n",
    "loss_fn = torch.nn.MSELoss\n",
    "scheduler = ReduceLROnPlateau(optimizer, mode='min', factor=0.1, patience=5, verbose=True)\n",
    "losses_train, losses_eval = train_eval(model, loader, device, train_dataset, eval_dataset, optimizer, loss_fn, scheduler=scheduler, epochs=epochs, name=name)\n"
   ]
  },
  {
   "cell_type": "code",
   "execution_count": 10,
   "metadata": {},
   "outputs": [],
   "source": [
    "std = loader.mean_and_std[\"measurements\"][1][\"voltage\"]\n",
    "mean = loader.mean_and_std[\"measurements\"][0][\"voltage\"]"
   ]
  },
  {
   "cell_type": "code",
   "execution_count": 11,
   "metadata": {},
   "outputs": [],
   "source": [
    "def eval(model, loader, test_dataset, device, loss_fn, std, mean):\n",
    "    preds = []\n",
    "    ys = []\n",
    "    with torch.no_grad():\n",
    "        model.eval()\n",
    "        loss_all = 0\n",
    "        loss_elementwise = 0\n",
    "        \n",
    "        for snapshot_j in tqdm(test_dataset, desc=\"Evaluating\"):\n",
    "            snapshot = loader.get_snapshot(snapshot_j)\n",
    "            snapshot = snapshot.to(device)\n",
    "            \n",
    "            out= model(snapshot.x, snapshot.edge_index, snapshot.edge_attr)\n",
    "\n",
    "            loss_all += loss_fn()(out, snapshot.y).cpu().numpy()\n",
    "            loss_elementwise += loss_fn(reduction=\"none\")(out, snapshot.y).cpu().numpy()\n",
    "\n",
    "            ys.append(snapshot.y.cpu().numpy()*std+mean)\n",
    "            preds.append(out.cpu().numpy()*std+mean)\n",
    "            \n",
    "        loss_all *= std/len(test_dataset)\n",
    "        loss_elementwise *= std/len(test_dataset)\n",
    "\n",
    "        ys = np.stack(ys, axis=-1)\n",
    "        preds = np.stack(preds, axis=-1)\n",
    "    return loss_all, loss_elementwise, preds, ys"
   ]
  },
  {
   "cell_type": "code",
   "execution_count": 12,
   "metadata": {},
   "outputs": [
    {
     "data": {
      "text/plain": [
       "<All keys matched successfully>"
      ]
     },
     "execution_count": 12,
     "metadata": {},
     "output_type": "execute_result"
    }
   ],
   "source": [
    "model.load_state_dict(torch.load(name))"
   ]
  },
  {
   "cell_type": "code",
   "execution_count": 13,
   "metadata": {},
   "outputs": [],
   "source": [
    "loss_fn = torch.nn.L1Loss"
   ]
  },
  {
   "cell_type": "code",
   "execution_count": 14,
   "metadata": {},
   "outputs": [
    {
     "name": "stderr",
     "output_type": "stream",
     "text": [
      "Evaluating:   0%|          | 0/1440 [00:00<?, ?it/s]"
     ]
    },
    {
     "name": "stderr",
     "output_type": "stream",
     "text": [
      "Evaluating:   0%|          | 5/1440 [00:01<07:01,  3.41it/s]"
     ]
    },
    {
     "name": "stdout",
     "output_type": "stream",
     "text": [
      "Loss all: 0.0059913\n",
      "Loss elementwise: [[0.0031701  0.0052147  0.00102802 0.00825445]\n",
      " [0.00232933 0.00684371 0.00527989 0.00186061]\n",
      " [0.00232933 0.00684371 0.00527989 0.00186061]\n",
      " [0.00232933 0.00684371 0.00527989 0.00186061]\n",
      " [0.00232933 0.00684371 0.00527989 0.00186061]\n",
      " [0.00232933 0.00684371 0.00527989 0.00186061]\n",
      " [0.00232933 0.00684371 0.00527989 0.00186061]\n",
      " [0.00232933 0.00684371 0.00527989 0.00186061]\n",
      " [0.00628207 0.00273574 0.00317466 0.00758347]\n",
      " [0.00140146 0.00415538 0.00309382 0.0014692 ]\n",
      " [0.00381234 0.00438764 0.00296744 0.00231732]\n",
      " [0.00102739 0.00449133 0.0032724  0.00150701]\n",
      " [0.01281503 0.00870472 0.00892859 0.01048745]\n",
      " [0.00111795 0.00401386 0.00283736 0.00177542]\n",
      " [0.00600016 0.00251152 0.00305154 0.00748741]\n",
      " [0.00109494 0.00410943 0.00289697 0.00175043]\n",
      " [0.0011543  0.00374158 0.0025409  0.0019792 ]\n",
      " [0.00108258 0.00408949 0.00275045 0.00164918]\n",
      " [0.00661301 0.00254521 0.00293488 0.00728543]\n",
      " [0.00211718 0.00654231 0.00518946 0.00128835]\n",
      " [0.00591797 0.00276499 0.0026758  0.00703898]\n",
      " [0.00533024 0.00226644 0.00223026 0.00669981]\n",
      " [0.00582653 0.0024574  0.00247048 0.0069234 ]\n",
      " [0.00570269 0.00262345 0.00268272 0.00705388]\n",
      " [0.00107293 0.00526332 0.00401631 0.00114819]\n",
      " [0.0012795  0.00325307 0.00207138 0.00233218]\n",
      " [0.00301422 0.00721053 0.00587458 0.00171535]\n",
      " [0.00114752 0.00921595 0.00747831 0.00639904]\n",
      " [0.00545214 0.0021326  0.00240116 0.00691787]\n",
      " [0.00734781 0.0033671  0.00407891 0.00826573]\n",
      " [0.01053639 0.00129664 0.00324255 0.00421484]\n",
      " [0.00610028 0.00253008 0.0030109  0.00748884]\n",
      " [0.00568627 0.00235413 0.00258967 0.00693508]\n",
      " [0.00401531 0.00826457 0.0070191  0.00313257]\n",
      " [0.00447684 0.00608821 0.00482924 0.01161059]\n",
      " [0.00246675 0.00700421 0.00565408 0.00216786]\n",
      " [0.00723099 0.00173964 0.00255211 0.00550658]\n",
      " [0.00488273 0.00175873 0.00189189 0.00638051]\n",
      " [0.00628821 0.00211115 0.00236184 0.00668832]\n",
      " [0.00189984 0.00537464 0.00382396 0.00095257]\n",
      " [0.00211718 0.00654231 0.00518946 0.00128835]\n",
      " [0.0062112  0.00337434 0.00163154 0.00107539]\n",
      " [0.00698768 0.00114464 0.00148968 0.00261073]\n",
      " [0.00189439 0.00360704 0.00233302 0.00919368]\n",
      " [0.00177988 0.00352751 0.00229605 0.00202428]\n",
      " [0.0016982  0.00496549 0.00367604 0.00138724]\n",
      " [0.00490842 0.00176353 0.00187467 0.00633412]\n",
      " [0.2270513  0.22840625 0.22093351 0.23294906]\n",
      " [0.00173495 0.00394533 0.00268376 0.00174949]\n",
      " [0.00183551 0.00365049 0.00245078 0.00186796]\n",
      " [0.00618815 0.00259258 0.00335637 0.0072368 ]\n",
      " [0.00202648 0.00510531 0.00360886 0.00156566]\n",
      " [0.00411321 0.00182473 0.00157272 0.00523133]\n",
      " [0.00171848 0.00515056 0.00384478 0.00144602]\n",
      " [0.00162594 0.00560546 0.00423384 0.00152316]\n",
      " [0.00628682 0.00807695 0.00640705 0.01450304]\n",
      " [0.00432456 0.00533822 0.00305886 0.00230069]\n",
      " [0.00294349 0.00472434 0.00338505 0.01032292]\n",
      " [0.00510694 0.0019625  0.00212323 0.0065801 ]\n",
      " [0.00447901 0.00159419 0.00157057 0.00568113]\n",
      " [0.00108544 0.00461384 0.00356198 0.00113973]\n",
      " [0.00165305 0.00579197 0.00446961 0.00159058]\n",
      " [0.00221199 0.00199219 0.00135125 0.00342204]\n",
      " [0.00104087 0.00458567 0.00356592 0.00116948]\n",
      " [0.00200387 0.00219251 0.00138023 0.00321129]\n",
      " [0.00340839 0.00546432 0.00356207 0.00248721]\n",
      " [0.00095612 0.00490158 0.00377892 0.00119044]\n",
      " [0.00189269 0.00637011 0.00533873 0.00123037]\n",
      " [0.01428122 0.01846987 0.01323273 0.02195186]\n",
      " [0.00115194 0.00501685 0.00393617 0.00094437]\n",
      " [0.00101455 0.00434759 0.00320723 0.00156179]\n",
      " [0.00097931 0.00480362 0.00370639 0.00118958]\n",
      " [0.00301796 0.00418082 0.00296756 0.0014204 ]\n",
      " [0.0109439  0.01532323 0.01392445 0.00976303]\n",
      " [0.00112204 0.00504247 0.00394553 0.00100964]\n",
      " [0.00107544 0.00485926 0.00376633 0.00104652]\n",
      " [0.00541985 0.0042362  0.00183522 0.00087455]\n",
      " [0.00592753 0.01284456 0.00579754 0.01098803]\n",
      " [0.00184797 0.00516244 0.00365334 0.00213523]\n",
      " [0.00121095 0.0053845  0.00422198 0.00114093]\n",
      " [0.00102763 0.00451972 0.00342985 0.00136401]\n",
      " [0.00184458 0.00620379 0.00506853 0.00100254]\n",
      " [0.00597451 0.00993367 0.00428971 0.00956237]\n",
      " [0.0020376  0.00638853 0.00526019 0.00115752]\n",
      " [0.00214643 0.00643066 0.00535724 0.00117242]\n",
      " [0.0023766  0.00703138 0.00555913 0.0043943 ]\n",
      " [0.00114728 0.00429803 0.00319779 0.00132283]\n",
      " [0.00141392 0.0056304  0.0044802  0.00117641]\n",
      " [0.00102021 0.0042984  0.0031908  0.00158207]\n",
      " [0.00048968 0.00212912 0.00223578 0.00895646]\n",
      " [0.00265296 0.00636631 0.00492537 0.00377345]\n",
      " [0.00148734 0.00579052 0.00461474 0.00124642]\n",
      " [0.00107273 0.00526095 0.00401492 0.00114894]\n",
      " [0.00205576 0.00641599 0.00530238 0.00108494]\n",
      " [0.00176413 0.00614962 0.00502077 0.00101475]\n",
      " [0.00158289 0.0059421  0.00481773 0.00094267]\n",
      " [0.00090357 0.00468269 0.00352136 0.00139538]\n",
      " [0.00222319 0.00654476 0.00552445 0.00126266]\n",
      " [0.00171429 0.00610563 0.00484282 0.00132273]\n",
      " [0.00165703 0.00602981 0.00486792 0.00096676]\n",
      " [0.0013391  0.00552183 0.00455244 0.00106368]\n",
      " [0.002089   0.00640776 0.00536834 0.00127364]\n",
      " [0.00188151 0.00635026 0.00507034 0.00138366]\n",
      " [0.00145182 0.00580949 0.00467579 0.00092808]\n",
      " [0.00143846 0.00578802 0.00466197 0.00094845]\n",
      " [0.00589235 0.00256299 0.00277787 0.00725352]\n",
      " [0.002393   0.00676646 0.0055871  0.00126323]\n",
      " [0.00597591 0.00243797 0.00302298 0.00752311]\n",
      " [0.00232933 0.00684371 0.00527989 0.00186061]\n",
      " [0.00232933 0.00684371 0.00527989 0.00186061]\n",
      " [0.00232933 0.00684371 0.00527989 0.00186061]\n",
      " [0.00232933 0.00684371 0.00527989 0.00186061]\n",
      " [0.00232933 0.00684371 0.00527989 0.00186061]]\n"
     ]
    },
    {
     "name": "stderr",
     "output_type": "stream",
     "text": [
      "\n"
     ]
    }
   ],
   "source": [
    "loss_test, loss_test_elementwise, preds, ys = eval(model, loader, test_dataset, device, loss_fn, std, mean)\n",
    "loss_test_timewise = loss_test_elementwise.mean(axis=0)\n",
    "print(\"Loss all: {:.7f}\".format(loss_test))\n",
    "print(\"Loss elementwise: {}\".format(loss_test_elementwise))"
   ]
  },
  {
   "cell_type": "code",
   "execution_count": 16,
   "metadata": {},
   "outputs": [],
   "source": [
    "import matplotlib.pyplot as plt"
   ]
  },
  {
   "cell_type": "code",
   "execution_count": 17,
   "metadata": {},
   "outputs": [
    {
     "data": {
      "text/plain": [
       "<matplotlib.legend.Legend at 0x20f0ecacd10>"
      ]
     },
     "execution_count": 17,
     "metadata": {},
     "output_type": "execute_result"
    },
    {
     "data": {
      "image/png": "[encoded data removed]",
      "text/plain": [
       "<Figure size 2000x1000 with 1 Axes>"
      ]
     },
     "metadata": {},
     "output_type": "display_data"
    }
   ],
   "source": [
    "node = 50\n",
    "pred_ind = 0\n",
    "\n",
    "start = 0\n",
    "len_measurements = 1400\n",
    "\n",
    "plt.figure(figsize=(20,10))\n",
    "plt.plot(ys[node,pred_ind,start:start+len_measurements], label=\"y\")\n",
    "plt.plot(preds[node,pred_ind,start:start+len_measurements], label=\"pred\")\n",
    "plt.legend()"
   ]
  },
  {
   "cell_type": "code",
   "execution_count": null,
   "metadata": {},
   "outputs": [],
   "source": [
    "#create txt file at name_txt\n",
    "with open(name_txt, \"w\") as f:\n",
    "    #print losses\n",
    "    f.write(\"train losses:\\n\")\n",
    "    f.write(str(losses_train))\n",
    "    f.write(\"\\n\")\n",
    "    f.write(\"eval losses:\\n\")\n",
    "    f.write(str(losses_eval))\n",
    "    f.write(\"\\n\")\n",
    "    f.write(\"test loss:\\n\")\n",
    "    f.write(str(loss_test))\n",
    "    f.write(\"\\n\")\n",
    "    f.write(str(loss_test_timewise))\n",
    "    f.write(\"\\n\")\n",
    "    f.write(str(loss_test_elementwise))\n",
    "    f.write(\"\\n\")"
   ]
  }
 ],
 "metadata": {
  "kernelspec": {
   "display_name": "graphvolt_env",
   "language": "python",
   "name": "python3"
  },
  "language_info": {
   "codemirror_mode": {
    "name": "ipython",
    "version": 3
   },
   "file_extension": ".py",
   "mimetype": "text/x-python",
   "name": "python",
   "nbconvert_exporter": "python",
   "pygments_lexer": "ipython3",
   "version": "3.11.6"
  }
 },
 "nbformat": 4,
 "nbformat_minor": 2
}
